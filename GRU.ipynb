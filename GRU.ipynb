{
 "cells": [
  {
   "cell_type": "code",
   "execution_count": 1,
   "id": "b3228434-d509-4e75-a2e3-e616ad421762",
   "metadata": {},
   "outputs": [],
   "source": [
    "import pandas as pd"
   ]
  },
  {
   "cell_type": "code",
   "execution_count": 8,
   "id": "803714e7-b5f6-415b-aebe-2a8ded676427",
   "metadata": {},
   "outputs": [],
   "source": [
    "train_df = pd.read_csv(\"data/en-zu.training.csv\")\n",
    "eval_df = pd.read_csv(\"data/en-zu.eval.csv\")"
   ]
  },
  {
   "cell_type": "code",
   "execution_count": 10,
   "id": "b674f16a-f014-4177-9bcb-ab01c2ecbc42",
   "metadata": {},
   "outputs": [
    {
     "data": {
      "text/html": [
       "<div>\n",
       "<style scoped>\n",
       "    .dataframe tbody tr th:only-of-type {\n",
       "        vertical-align: middle;\n",
       "    }\n",
       "\n",
       "    .dataframe tbody tr th {\n",
       "        vertical-align: top;\n",
       "    }\n",
       "\n",
       "    .dataframe thead th {\n",
       "        text-align: right;\n",
       "    }\n",
       "</style>\n",
       "<table border=\"1\" class=\"dataframe\">\n",
       "  <thead>\n",
       "    <tr style=\"text-align: right;\">\n",
       "      <th></th>\n",
       "      <th>en</th>\n",
       "      <th>zu</th>\n",
       "      <th>zu.1</th>\n",
       "      <th>Source</th>\n",
       "    </tr>\n",
       "  </thead>\n",
       "  <tbody>\n",
       "    <tr>\n",
       "      <th>0</th>\n",
       "      <td>Peter Van Sant: And it means what?</td>\n",
       "      <td>Peter Van Sant: Bese kusho ukuthini?</td>\n",
       "      <td>U-Peter Van Sant: Pho kusho ukuthini lokho?</td>\n",
       "      <td>News Crawl 2019</td>\n",
       "    </tr>\n",
       "    <tr>\n",
       "      <th>1</th>\n",
       "      <td>The cost to society will be substantial, the r...</td>\n",
       "      <td>Izindleko zomphakathi zizoba zinkulu, ngokusho...</td>\n",
       "      <td>Lo mbiko uthi, izindleko ziyoba phezulu kakhul...</td>\n",
       "      <td>News Crawl 2019</td>\n",
       "    </tr>\n",
       "    <tr>\n",
       "      <th>2</th>\n",
       "      <td>It is now up to them to make the most of it.</td>\n",
       "      <td>Sekulele kubo ukuthi bayisebenzise ngendlela e...</td>\n",
       "      <td>Manje kukubo ukwenza okungcono ngalokhu.</td>\n",
       "      <td>News Crawl 2019</td>\n",
       "    </tr>\n",
       "    <tr>\n",
       "      <th>3</th>\n",
       "      <td>\"The CPS is carefully considering all the avai...</td>\n",
       "      <td>\"I-CPS icubungulisisa lonke ulwazi olukhona, o...</td>\n",
       "      <td>\"I-CPS icabangela ngokucophelela lonke ulwazi ...</td>\n",
       "      <td>News Crawl 2019</td>\n",
       "    </tr>\n",
       "    <tr>\n",
       "      <th>4</th>\n",
       "      <td>TV audiences were left outraged after a teenag...</td>\n",
       "      <td>Izibukeli zaku-TV zishiywe zimangele emuva kok...</td>\n",
       "      <td>Ababukeli be-TV basale beqhuma ngentukuthelo n...</td>\n",
       "      <td>News Crawl 2019</td>\n",
       "    </tr>\n",
       "  </tbody>\n",
       "</table>\n",
       "</div>"
      ],
      "text/plain": [
       "                                                  en  \\\n",
       "0                 Peter Van Sant: And it means what?   \n",
       "1  The cost to society will be substantial, the r...   \n",
       "2       It is now up to them to make the most of it.   \n",
       "3  \"The CPS is carefully considering all the avai...   \n",
       "4  TV audiences were left outraged after a teenag...   \n",
       "\n",
       "                                                  zu  \\\n",
       "0               Peter Van Sant: Bese kusho ukuthini?   \n",
       "1  Izindleko zomphakathi zizoba zinkulu, ngokusho...   \n",
       "2  Sekulele kubo ukuthi bayisebenzise ngendlela e...   \n",
       "3  \"I-CPS icubungulisisa lonke ulwazi olukhona, o...   \n",
       "4  Izibukeli zaku-TV zishiywe zimangele emuva kok...   \n",
       "\n",
       "                                                zu.1           Source  \n",
       "0        U-Peter Van Sant: Pho kusho ukuthini lokho?  News Crawl 2019  \n",
       "1  Lo mbiko uthi, izindleko ziyoba phezulu kakhul...  News Crawl 2019  \n",
       "2           Manje kukubo ukwenza okungcono ngalokhu.  News Crawl 2019  \n",
       "3  \"I-CPS icabangela ngokucophelela lonke ulwazi ...  News Crawl 2019  \n",
       "4  Ababukeli be-TV basale beqhuma ngentukuthelo n...  News Crawl 2019  "
      ]
     },
     "execution_count": 10,
     "metadata": {},
     "output_type": "execute_result"
    }
   ],
   "source": [
    "eval_df.head()"
   ]
  },
  {
   "cell_type": "code",
   "execution_count": null,
   "id": "98629202-83e9-4518-a253-6aca7bb9510e",
   "metadata": {},
   "outputs": [],
   "source": []
  }
 ],
 "metadata": {
  "kernelspec": {
   "display_name": "Python 3 (ipykernel)",
   "language": "python",
   "name": "python3"
  },
  "language_info": {
   "codemirror_mode": {
    "name": "ipython",
    "version": 3
   },
   "file_extension": ".py",
   "mimetype": "text/x-python",
   "name": "python",
   "nbconvert_exporter": "python",
   "pygments_lexer": "ipython3",
   "version": "3.8.0"
  }
 },
 "nbformat": 4,
 "nbformat_minor": 5
}
