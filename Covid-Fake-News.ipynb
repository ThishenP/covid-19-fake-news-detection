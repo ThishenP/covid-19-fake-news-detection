{
 "cells": [
  {
   "cell_type": "code",
   "execution_count": 72,
   "id": "659902f1-83fb-48a6-a872-554e71f93735",
   "metadata": {},
   "outputs": [],
   "source": [
    "import warnings\n",
    "\n",
    "warnings.filterwarnings('ignore')\n",
    "import os\n",
    "import re\n",
    "import string\n",
    "\n",
    "import joblib\n",
    "import matplotlib.pyplot as plt\n",
    "import pickle\n",
    "import nltk\n",
    "import numpy as np\n",
    "import pandas as pd\n",
    "import seaborn as sns\n",
    "import tensorflow as tf\n",
    "from nltk.corpus import stopwords\n",
    "from sklearn.ensemble import GradientBoostingClassifier\n",
    "from sklearn.feature_extraction.text import TfidfVectorizer\n",
    "from sklearn.linear_model import LogisticRegression\n",
    "from sklearn.metrics import (accuracy_score, classification_report,\n",
    "                             confusion_matrix, f1_score, precision_score,\n",
    "                             recall_score, roc_auc_score)\n",
    "from sklearn.model_selection import GridSearchCV, train_test_split\n",
    "from sklearn.naive_bayes import MultinomialNB\n",
    "from tensorflow.keras.layers import (Bidirectional, Dense, Dropout,\n",
    "                                     Embedding)\n",
    "from tensorflow.keras.models import Sequential\n",
    "from tensorflow.keras.preprocessing.sequence import pad_sequences\n",
    "from tensorflow.keras.preprocessing.text import one_hot\n",
    "\n",
    "import wandb\n",
    "from wandb.keras import WandbCallback"
   ]
  },
  {
   "cell_type": "code",
   "execution_count": 73,
   "id": "5c7080bd-9360-46ee-9ae7-24f3aaae8c24",
   "metadata": {
    "scrolled": true,
    "tags": []
   },
   "outputs": [],
   "source": [
    "def plot_conf_matrix(y_pred, y_true, title=None):\n",
    "    \"\"\"Helper Function to plot confustion matrix\"\"\"\n",
    "    conf_mat = confusion_matrix(y_pred, y_true)\n",
    "    df_cm = pd.DataFrame(conf_mat, index = [i for i in [\"Fake\", \"Real\"]],\n",
    "                  columns = [i for i in [\"Fake\", \"Real\"]])\n",
    "    plt.figure(figsize = (10,7))\n",
    "    sns.heatmap(df_cm, annot=True, cmap=\"Blues\")\n",
    "    plt.ylabel(\"True Label\")\n",
    "    plt.xlabel(\"Predicted Label\")\n",
    "    if title:\n",
    "        plt.title(f\"{title} Confusion Matrix\")\n",
    "    plt.show()"
   ]
  },
  {
   "cell_type": "markdown",
   "id": "f266b5af-4823-41b0-97ce-d467abb1dbae",
   "metadata": {},
   "source": [
    "# Read in Data and Preprocess"
   ]
  },
  {
   "cell_type": "code",
   "execution_count": 74,
   "id": "44ec800a-a3b4-465e-9b74-64d29b0ceafa",
   "metadata": {},
   "outputs": [],
   "source": [
    "true_news_df = pd.read_csv(\"COVID19-FNIR/COVID19-FNIR/trueNews.csv\")\n",
    "fake_news_df = pd.read_csv(\"COVID19-FNIR/COVID19-FNIR/fakeNews.csv\")\n",
    "# Assign class columns and combine dataframes\n",
    "fake_news_df[\"class\"] = 1\n",
    "true_news_df[\"class\"] = 0\n",
    "combined = pd.concat([fake_news_df, true_news_df], axis=0)"
   ]
  },
  {
   "cell_type": "code",
   "execution_count": 75,
   "id": "bd0f39cc-1786-4e41-829d-5cff6978d674",
   "metadata": {},
   "outputs": [
    {
     "data": {
      "text/plain": [
       "array([' Bill Gates is working on an electronic chip to implant under human skin in order to locate and control people.\\t\\t'],\n",
       "      dtype=object)"
      ]
     },
     "execution_count": 75,
     "metadata": {},
     "output_type": "execute_result"
    }
   ],
   "source": [
    "fake_news_df[fake_news_df[\"Text\"].str.contains(\"Bill Gates is working\")][\"Text\"].values\n",
    " # Bill Gates is working on an electronic chip to implant under human skin in order to locate and control people.\\t\\t"
   ]
  },
  {
   "cell_type": "code",
   "execution_count": 76,
   "id": "87e6a034-f70c-4aa4-bdfd-ff7475f220a2",
   "metadata": {},
   "outputs": [
    {
     "data": {
      "text/plain": [
       "array(['Covid-19 can damage lungs of victims beyond recognition, expert says  https://www.theguardian.com/world/2020/jun/15/covid-19-can-damage-lungs-victims-beyond-recognition-expert-says?utm_term=Autofeed&CMP=twt_b-gdnnews&utm_medium=Social&utm_source=Twitter#Echobox=1592245639\\xa0'],\n",
       "      dtype=object)"
      ]
     },
     "execution_count": 76,
     "metadata": {},
     "output_type": "execute_result"
    }
   ],
   "source": [
    "true_news_df[true_news_df[\"Text\"].str.contains(\"beyond recognition\")][\"Text\"].values\n",
    "# 'Covid-19 can damage lungs of victims beyond recognition, expert says  https://www.theguardian.com/world/2020/jun/15/covid-19-can-damage-lungs-victims-beyond-recognition-expert-says?utm_term=Autofeed&CMP=twt_b-gdnnews&utm_medium=Social&utm_source=Twitter#Echobox=1592245639\\xa0'],"
   ]
  },
  {
   "cell_type": "code",
   "execution_count": 77,
   "id": "358c39f1-67fc-4981-b2db-39319c965914",
   "metadata": {},
   "outputs": [],
   "source": [
    "# Subset data to just contain the text field and the class field\n",
    "combined = combined[[\"Text\", \"class\"]].reset_index(drop=True)\n",
    "# Shuffle data\n",
    "combined = combined.sample(frac = 1, random_state=42)"
   ]
  },
  {
   "cell_type": "code",
   "execution_count": 78,
   "id": "3ec2f6f3-859f-424d-a65d-79a3440993ab",
   "metadata": {},
   "outputs": [],
   "source": [
    "combined['Text'] = combined['Text'].str.replace('http\\S+|www.\\S+', '', case=False)\n",
    "combined['Text'] = combined['Text'].str.replace('pic\\S+|twitter.\\S+', '', case=False)\n",
    "combined['Text'] = combined['Text'].str.replace('#\\S+', '', case=False)\n",
    "combined['Text'] = combined['Text'].str.replace('@\\S+', '', case=False)\n",
    "combined['Text'] = combined['Text'].str.replace('Link:\\S+', '', case=False)\n",
    "combined['Text'] = combined['Text'].str.replace('[ \\t]+$', '', case=False)\n",
    "# remove front and ending blank spaces\n",
    "combined = combined.replace({\"^\\s*|\\s*$\":\"\"}, regex=True) \n",
    "\n",
    "def format_text(text):\n",
    "    \"\"\"Formating of the text field \"\"\"\n",
    "    text = text.lower()\n",
    "    text = re.sub('\\[.*?\\]', '', text)\n",
    "    text = re.sub(\"\\\\W\",\" \",text) \n",
    "    text = re.sub('<.*?>+', '', text)\n",
    "    text = re.sub('[%s]' % re.escape(string.punctuation), '', text)\n",
    "    text = re.sub('\\n', '', text)\n",
    "    text = re.sub('\\w*\\d\\w*', '', text)    \n",
    "    text = re.sub(' +', ' ', text)\n",
    "    return text\n",
    "\n",
    "combined[\"Text\"] = combined[\"Text\"].apply(format_text)"
   ]
  },
  {
   "cell_type": "code",
   "execution_count": 79,
   "id": "cd7e42c6-72c4-4ee3-9fb2-0ede20e16110",
   "metadata": {},
   "outputs": [],
   "source": [
    "# Set X and y variables\n",
    "X = combined[\"Text\"]\n",
    "y = combined[\"class\"]"
   ]
  },
  {
   "cell_type": "code",
   "execution_count": 81,
   "id": "7c8b19fc-1a66-4d25-81b9-52457bcd9b20",
   "metadata": {},
   "outputs": [],
   "source": [
    "# Split data into training and test dataset\n",
    "X_train, X_test, y_train, y_test = train_test_split(X, y, test_size=0.25, random_state=42)"
   ]
  },
  {
   "cell_type": "code",
   "execution_count": 82,
   "id": "61573d3c-af7a-4d5e-adce-2db063ed1cfa",
   "metadata": {},
   "outputs": [],
   "source": [
    "# Apply TDidf Vectorization to the input data \n",
    "vectorization = TfidfVectorizer()\n",
    "X_train = vectorization.fit_transform(X_train)\n",
    "joblib.dump(vectorization, 'tfidf_vectorizer.pkl')\n",
    "vectorization = joblib.load('tfidf_vectorizer.pkl')\n",
    "X_test = vectorization.transform(X_test)"
   ]
  },
  {
   "cell_type": "markdown",
   "id": "4ac59ee7-3e2e-4189-a87e-f4b88a413acb",
   "metadata": {},
   "source": [
    "# Model 1: Naive Bayes Model"
   ]
  },
  {
   "cell_type": "code",
   "execution_count": 12,
   "id": "f0d7a940-75b1-4c7d-a9bd-3c647e87f74d",
   "metadata": {},
   "outputs": [],
   "source": [
    "# Default hyper-parameter model\n",
    "nb_model = MultinomialNB()\n",
    "# Fit model \n",
    "nb_model.fit(X_train, y_train)\n",
    "# Predict \n",
    "y_pred = nb_model.predict(X_test)"
   ]
  },
  {
   "cell_type": "code",
   "execution_count": 13,
   "id": "262ad684-5594-4d6f-a163-3770d6882698",
   "metadata": {},
   "outputs": [
    {
     "name": "stdout",
     "output_type": "stream",
     "text": [
      "Test Accuracy: 0.8929889298892989\n"
     ]
    }
   ],
   "source": [
    "print(f\"Test Accuracy: {accuracy_score(y_test, y_pred)}\")"
   ]
  },
  {
   "cell_type": "code",
   "execution_count": 14,
   "id": "b01575a4-f621-4efd-8810-5b11ef7b2992",
   "metadata": {},
   "outputs": [
    {
     "name": "stdout",
     "output_type": "stream",
     "text": [
      "              precision    recall  f1-score   support\n",
      "\n",
      "           0       0.89      0.90      0.89       938\n",
      "           1       0.90      0.89      0.89       959\n",
      "\n",
      "    accuracy                           0.89      1897\n",
      "   macro avg       0.89      0.89      0.89      1897\n",
      "weighted avg       0.89      0.89      0.89      1897\n",
      "\n"
     ]
    }
   ],
   "source": [
    "print(classification_report(y_test, y_pred))"
   ]
  },
  {
   "cell_type": "code",
   "execution_count": 15,
   "id": "5f0fff98-4b50-4515-8afe-29a65346b6fa",
   "metadata": {},
   "outputs": [
    {
     "data": {
      "image/png": "[encoded data removed]",
      "text/plain": [
       "<Figure size 720x504 with 2 Axes>"
      ]
     },
     "metadata": {
      "needs_background": "light"
     },
     "output_type": "display_data"
    }
   ],
   "source": [
    "plot_conf_matrix(y_pred, y_test, title=\"Naive Bayes\")"
   ]
  },
  {
   "cell_type": "code",
   "execution_count": 16,
   "id": "6766beb6-fb12-4792-b9e7-cbf94a6b43f1",
   "metadata": {},
   "outputs": [],
   "source": [
    "# GridSearch Across hyper-parameter search space\n",
    "params = {\n",
    "    \"alpha\": [0.001, 0.01, 0.05, 0.1, 0.2, 0.3, 0.4, 0.5, 0.75, 1.0, 1.5, 2, 3, 5, 10],\n",
    "    \"fit_prior\": (True, False),\n",
    "}\n",
    "gs_clf = GridSearchCV(MultinomialNB(), params, n_jobs=-1)\n",
    "gs_clf = gs_clf.fit(X_train, y_train)"
   ]
  },
  {
   "cell_type": "code",
   "execution_count": 27,
   "id": "74692226-8109-4156-8680-a1f509fb8f10",
   "metadata": {},
   "outputs": [
    {
     "data": {
      "text/plain": [
       "['naive_bayes.pkl']"
      ]
     },
     "execution_count": 27,
     "metadata": {},
     "output_type": "execute_result"
    }
   ],
   "source": [
    "# Save Naive Bayes Model \n",
    "joblib.dump(gs_clf.best_estimator_, 'naive_bayes.pkl')"
   ]
  },
  {
   "cell_type": "code",
   "execution_count": 30,
   "id": "b69f2df3-afc6-4537-848c-c8532206880f",
   "metadata": {},
   "outputs": [],
   "source": [
    "best_nb_model = joblib.load('naive_bayes.pkl')"
   ]
  },
  {
   "cell_type": "code",
   "execution_count": 31,
   "id": "88ce76af-295f-4742-b7da-62ee92257730",
   "metadata": {},
   "outputs": [],
   "source": [
    "y_pred = best_nb_model.predict(X_test)"
   ]
  },
  {
   "cell_type": "code",
   "execution_count": 32,
   "id": "a75c77b0-4da1-479a-b10e-d363e7c8de38",
   "metadata": {},
   "outputs": [
    {
     "name": "stdout",
     "output_type": "stream",
     "text": [
      "Test Accuracy: 0.889826041117554\n",
      "Test Precision: 0.8972457627118644\n",
      "Test Recall: 0.8832116788321168\n",
      "Test f1 Score: 0.8901734104046244\n",
      "Test roc auc score: 0.8899000824864209\n"
     ]
    }
   ],
   "source": [
    "print(f\"Test Accuracy: {accuracy_score(y_test, y_pred)}\")\n",
    "print(f\"Test Precision: {precision_score(y_test, y_pred)}\")\n",
    "print(f\"Test Recall: {recall_score(y_test, y_pred)}\")\n",
    "print(f\"Test f1 Score: {f1_score(y_test, y_pred)}\")\n",
    "print(f\"Test roc auc score: {roc_auc_score(y_test, y_pred)}\")"
   ]
  },
  {
   "cell_type": "code",
   "execution_count": 33,
   "id": "5cd04a36-62a9-47e3-a4cc-5010578710b5",
   "metadata": {},
   "outputs": [
    {
     "name": "stdout",
     "output_type": "stream",
     "text": [
      "              precision    recall  f1-score   support\n",
      "\n",
      "           0       0.88      0.90      0.89       938\n",
      "           1       0.90      0.88      0.89       959\n",
      "\n",
      "    accuracy                           0.89      1897\n",
      "   macro avg       0.89      0.89      0.89      1897\n",
      "weighted avg       0.89      0.89      0.89      1897\n",
      "\n"
     ]
    }
   ],
   "source": [
    "print(classification_report(y_test, y_pred))"
   ]
  },
  {
   "cell_type": "code",
   "execution_count": 34,
   "id": "317ebf93-58bb-4fad-b283-43980c628a0d",
   "metadata": {},
   "outputs": [
    {
     "data": {
      "image/png": "[encoded data removed]",
      "text/plain": [
       "<Figure size 720x504 with 2 Axes>"
      ]
     },
     "metadata": {
      "needs_background": "light"
     },
     "output_type": "display_data"
    }
   ],
   "source": [
    "plot_conf_matrix(y_pred, y_test, title=\"Naive Bayes\")"
   ]
  },
  {
   "cell_type": "markdown",
   "id": "60e77592-c6e4-4a9c-845a-2f0cff3cf99e",
   "metadata": {},
   "source": [
    "# Model 2: Gradient Boosting Classifier"
   ]
  },
  {
   "cell_type": "code",
   "execution_count": 51,
   "id": "df52e268-b8ff-4ee4-85aa-cb82c4e51bd6",
   "metadata": {},
   "outputs": [],
   "source": [
    "gbt_model = GradientBoostingClassifier()\n",
    "# Fit model \n",
    "gbt_model.fit(X_train, y_train)\n",
    "# Predict \n",
    "y_pred = gbt_model.predict(X_test)"
   ]
  },
  {
   "cell_type": "code",
   "execution_count": 52,
   "id": "d11cb9d9-4976-455e-b458-6adfc66778cf",
   "metadata": {},
   "outputs": [
    {
     "name": "stdout",
     "output_type": "stream",
     "text": [
      "Test Accuracy: 0.8529256721138639\n",
      "Test Precision: 0.8794642857142857\n",
      "Test Recall: 0.821689259645464\n",
      "Test f1 Score: 0.8495956873315365\n",
      "Test roc auc score: 0.8532753334474654\n"
     ]
    }
   ],
   "source": [
    "print(f\"Test Accuracy: {accuracy_score(y_test, y_pred)}\")\n",
    "print(f\"Test Precision: {precision_score(y_test, y_pred)}\")\n",
    "print(f\"Test Recall: {recall_score(y_test, y_pred)}\")\n",
    "print(f\"Test f1 Score: {f1_score(y_test, y_pred)}\")\n",
    "print(f\"Test roc auc score: {roc_auc_score(y_test, y_pred)}\")"
   ]
  },
  {
   "cell_type": "code",
   "execution_count": 37,
   "id": "2749b4ef-aed6-4bc7-bf0c-4b3a447a9ebd",
   "metadata": {},
   "outputs": [
    {
     "name": "stdout",
     "output_type": "stream",
     "text": [
      "              precision    recall  f1-score   support\n",
      "\n",
      "           0       0.83      0.88      0.86       938\n",
      "           1       0.88      0.83      0.85       959\n",
      "\n",
      "    accuracy                           0.85      1897\n",
      "   macro avg       0.86      0.85      0.85      1897\n",
      "weighted avg       0.86      0.85      0.85      1897\n",
      "\n"
     ]
    }
   ],
   "source": [
    "print(classification_report(y_test, y_pred))"
   ]
  },
  {
   "cell_type": "code",
   "execution_count": 38,
   "id": "2f4da19d-82b8-4823-aa00-d6e4eb030c89",
   "metadata": {},
   "outputs": [
    {
     "data": {
      "image/png": "[encoded data removed]",
      "text/plain": [
       "<Figure size 720x504 with 2 Axes>"
      ]
     },
     "metadata": {
      "needs_background": "light"
     },
     "output_type": "display_data"
    }
   ],
   "source": [
    "plot_conf_matrix(y_pred, y_test, title=\"Gradient Boosting Classifier Classifier\")"
   ]
  },
  {
   "cell_type": "code",
   "execution_count": 39,
   "id": "0b6d842e-fadb-4844-b25e-74dcb5552717",
   "metadata": {
    "scrolled": true,
    "tags": []
   },
   "outputs": [
    {
     "name": "stdout",
     "output_type": "stream",
     "text": [
      "CPU times: user 5.71 s, sys: 160 ms, total: 5.87 s\n",
      "Wall time: 4min 54s\n"
     ]
    }
   ],
   "source": [
    "%%time\n",
    "params = {\n",
    "    \"loss\": [\"deviance\", \"exponential\"],\n",
    "    \"learning_rate\": [0.001, 0.01, 0.1, 1, 2],\n",
    "    \"n_estimators\": [10, 50, 100, 500],\n",
    "    \"subsample\": [0.5, 0.75, 1.0],\n",
    "}\n",
    "gs_clf = GridSearchCV(GradientBoostingClassifier(), params, n_jobs=-1, scoring='accuracy')\n",
    "  \n",
    "gs_clf = gs_clf.fit(X_train, y_train)"
   ]
  },
  {
   "cell_type": "code",
   "execution_count": 40,
   "id": "7739e585-849a-4dcb-8151-610577a7583e",
   "metadata": {},
   "outputs": [
    {
     "data": {
      "text/plain": [
       "['gradient_boosting.pkl']"
      ]
     },
     "execution_count": 40,
     "metadata": {},
     "output_type": "execute_result"
    }
   ],
   "source": [
    "# Save Naive Bayes Model \n",
    "joblib.dump(gs_clf.best_estimator_, 'gradient_boosting.pkl')"
   ]
  },
  {
   "cell_type": "code",
   "execution_count": 41,
   "id": "3d836eaf-0e7f-4e39-80f2-e4319ff0dd8a",
   "metadata": {},
   "outputs": [],
   "source": [
    "best_gb_model = joblib.load('gradient_boosting.pkl')\n",
    "# Predict \n",
    "y_pred = best_gb_model.predict(X_test)"
   ]
  },
  {
   "cell_type": "code",
   "execution_count": 38,
   "id": "b59f6d7a-3156-427b-b480-f8065b0d21a2",
   "metadata": {},
   "outputs": [
    {
     "name": "stdout",
     "output_type": "stream",
     "text": [
      "Test Accuracy: 0.8522071164997364\n",
      "Test Precision: 0.8791838316722038\n",
      "Test Recall: 0.8831838316722038\n",
      "Test f1 Score: 0.8501722878625135\n",
      "Test roc auc score: 0.8730628920050426\n"
     ]
    }
   ],
   "source": [
    "print(f\"Test Accuracy: {accuracy_score(y_test, y_pred)}\")\n",
    "print(f\"Test Precision: {precision_score(y_test, y_pred)}\")\n",
    "print(f\"Test Recall: {recall_score(y_test, y_pred)}\")\n",
    "print(f\"Test f1 Score: {f1_score(y_test, y_pred)}\")\n",
    "print(f\"Test roc auc score: {roc_auc_score(y_test, y_pred)}\")"
   ]
  },
  {
   "cell_type": "code",
   "execution_count": 43,
   "id": "c0e3933b-738c-4180-af2e-95b10b6ee6c9",
   "metadata": {},
   "outputs": [
    {
     "name": "stdout",
     "output_type": "stream",
     "text": [
      "              precision    recall  f1-score   support\n",
      "\n",
      "           0       0.88      0.90      0.89       938\n",
      "           1       0.90      0.88      0.89       959\n",
      "\n",
      "    accuracy                           0.89      1897\n",
      "   macro avg       0.89      0.89      0.89      1897\n",
      "weighted avg       0.89      0.89      0.89      1897\n",
      "\n"
     ]
    }
   ],
   "source": [
    "print(classification_report(y_test, y_pred))"
   ]
  },
  {
   "cell_type": "code",
   "execution_count": 44,
   "id": "6f4431dc-c563-47a8-b3e0-670c98ce43d0",
   "metadata": {
    "tags": []
   },
   "outputs": [
    {
     "data": {
      "image/png": "[encoded data removed]",
      "text/plain": [
       "<Figure size 720x504 with 2 Axes>"
      ]
     },
     "metadata": {
      "needs_background": "light"
     },
     "output_type": "display_data"
    }
   ],
   "source": [
    "plot_conf_matrix(y_pred, y_test, title=\"Gradient Boosting Classifier Classifier\")"
   ]
  },
  {
   "cell_type": "markdown",
   "id": "eabc5be7-0823-40d5-9696-47ff8d170e92",
   "metadata": {},
   "source": [
    "# Bidirectional LSTM "
   ]
  },
  {
   "cell_type": "code",
   "execution_count": 11,
   "id": "f7b3f73e-6916-4e10-8041-54cecc08b657",
   "metadata": {},
   "outputs": [],
   "source": [
    "X_train, X_test, y_train, y_test = train_test_split(X, y, test_size=0.25, random_state=42)\n",
    "X_train, X_val, y_train, y_val = train_test_split(X_train, y_train, test_size=0.25, random_state=42)\n",
    "\n",
    "X_train = np.array(X_train)\n",
    "y_train = np.array(y_train)\n",
    "\n",
    "X_val = np.array(X_val)\n",
    "y_val = np.array(y_val)\n",
    "\n",
    "X_test = np.array(X_test)\n",
    "y_test = np.array(y_test)"
   ]
  },
  {
   "cell_type": "code",
   "execution_count": 46,
   "id": "ad56b703-5f60-42c5-97ab-3951fb0307a1",
   "metadata": {},
   "outputs": [],
   "source": [
    "# Perform parameter sweep using Weights and Biases\n",
    "\n",
    "wandb.init(project=\"my-test-project\", entity=\"tripleblackcat\")\n",
    "\n",
    "sweep_config = {\n",
    "    \"name\": \"b-lstm\",\n",
    "    \"metric\": {\"name\": \"val_f1\", \"goal\": \"maximize\"},\n",
    "    \"method\": \"random\",\n",
    "    \"parameters\": {\n",
    "        \"epochs\": {\"values\": [10, 20, 40]},\n",
    "        \"lr\": {\"values\": [0.005, 0.001, 0.0005, 0.0001]},\n",
    "        \"batch_size\": {\"values\": [64, 128, 256]},\n",
    "        \"max_tokens\": {\"values\": [100, 1000, 5000, None]},\n",
    "        \"embedding_dim\": {\"values\": [16, 32, 64, 256]},\n",
    "        \"lstm_units\": {\"values\": [16, 32, 64, 256]},\n",
    "        \"ff_size\": {\"values\": [64, 128, 256]},\n",
    "        \"dropout\": {\"values\": [0, 0.5]}\n",
    "    }\n",
    "}\n",
    "def get_lstm(config, encoder, vocab_size):\n",
    "    LSTM = tf.keras.Sequential([\n",
    "    encoder,\n",
    "    tf.keras.layers.Embedding(\n",
    "        input_dim=vocab_size,\n",
    "        output_dim=config.embedding_dim,\n",
    "        mask_zero=True),\n",
    "    tf.keras.layers.Bidirectional(tf.keras.layers.LSTM(config.lstm_units)),\n",
    "    tf.keras.layers.Dense(config.ff_size, activation=\"relu\"),\n",
    "    tf.keras.layers.Dropout(config.dropout),\n",
    "    tf.keras.layers.Dense(1)\n",
    "    ])\n",
    "    return LSTM\n",
    "\n",
    "def sweep():\n",
    "    with wandb.init() as run:\n",
    "        config = wandb.config \n",
    "\n",
    "        max_tokens = config.max_tokens\n",
    "        encoder = tf.keras.layers.TextVectorization(max_tokens=max_tokens)\n",
    "        encoder.adapt(X_train)\n",
    "\n",
    "        vocab_size = len(encoder.get_vocabulary())\n",
    "\n",
    "        lstm = get_lstm(config, encoder, vocab_size)\n",
    "        lstm.compile(loss=tf.keras.losses.BinaryCrossentropy(from_logits=True), \n",
    "                     optimizer=tf.keras.optimizers.Adam(config.lr),\n",
    "                     metrics=[\"accuracy\"])\n",
    "\n",
    "        lstm.fit(X_train, \n",
    "                 y_train, \n",
    "                 validation_data=(X_val, y_val), \n",
    "                 epochs=config.epochs,\n",
    "                 callbacks=[WandbCallback()])\n",
    "       \n",
    "        y_pred = np.around(tf.math.sigmoid(lstm.predict(X_test))).flatten()\n",
    "        wandb.log({\"val_f1\": f1_score(y_test, y_pred)})\n",
    "        del lstm\n",
    "\n",
    "sweep_id = wandb.sweep(sweep_config)\n",
    "wandb.agent(sweep_id, sweep, count=50)\n",
    "# https://wandb.ai/tripleblackcat/uncategorized/sweeps/aoizs7rc/table?workspace=user-tripleblackcat"
   ]
  },
  {
   "cell_type": "code",
   "execution_count": 29,
   "id": "b0390cbd-484b-4bf0-b4c8-a492fb55a764",
   "metadata": {
    "scrolled": true,
    "tags": []
   },
   "outputs": [
    {
     "name": "stdout",
     "output_type": "stream",
     "text": [
      "Epoch 1/10\n",
      "67/67 [==============================] - 6s 31ms/step - loss: 0.6917 - accuracy: 0.4953 - val_loss: 0.6893 - val_accuracy: 0.5207\n",
      "Epoch 2/10\n",
      "67/67 [==============================] - 1s 10ms/step - loss: 0.6850 - accuracy: 0.4953 - val_loss: 0.6761 - val_accuracy: 0.5207\n",
      "Epoch 3/10\n",
      "67/67 [==============================] - 1s 10ms/step - loss: 0.6411 - accuracy: 0.4998 - val_loss: 0.5725 - val_accuracy: 0.5453\n",
      "Epoch 4/10\n",
      "67/67 [==============================] - 1s 10ms/step - loss: 0.4672 - accuracy: 0.7235 - val_loss: 0.4111 - val_accuracy: 0.8103\n",
      "Epoch 5/10\n",
      "67/67 [==============================] - 1s 10ms/step - loss: 0.3459 - accuracy: 0.8526 - val_loss: 0.3442 - val_accuracy: 0.8700\n",
      "Epoch 6/10\n",
      "67/67 [==============================] - 1s 10ms/step - loss: 0.3033 - accuracy: 0.8880 - val_loss: 0.3214 - val_accuracy: 0.8897\n",
      "Epoch 7/10\n",
      "67/67 [==============================] - 1s 10ms/step - loss: 0.2553 - accuracy: 0.9084 - val_loss: 0.2903 - val_accuracy: 0.8911\n",
      "Epoch 8/10\n",
      "67/67 [==============================] - 1s 10ms/step - loss: 0.2316 - accuracy: 0.9171 - val_loss: 0.2894 - val_accuracy: 0.8974\n",
      "Epoch 9/10\n",
      "67/67 [==============================] - 1s 9ms/step - loss: 0.2018 - accuracy: 0.9257 - val_loss: 0.2740 - val_accuracy: 0.9002\n",
      "Epoch 10/10\n",
      "67/67 [==============================] - 1s 9ms/step - loss: 0.1831 - accuracy: 0.9353 - val_loss: 0.2694 - val_accuracy: 0.9058\n",
      "Epoch 1/10\n",
      "67/67 [==============================] - 6s 36ms/step - loss: 0.6920 - accuracy: 0.4953 - val_loss: 0.6904 - val_accuracy: 0.5207\n",
      "Epoch 2/10\n",
      "67/67 [==============================] - 1s 10ms/step - loss: 0.6870 - accuracy: 0.4953 - val_loss: 0.6807 - val_accuracy: 0.5207\n",
      "Epoch 3/10\n",
      "67/67 [==============================] - 1s 11ms/step - loss: 0.6535 - accuracy: 0.4984 - val_loss: 0.5837 - val_accuracy: 0.5264\n",
      "Epoch 4/10\n",
      "67/67 [==============================] - 1s 10ms/step - loss: 0.4789 - accuracy: 0.7088 - val_loss: 0.4447 - val_accuracy: 0.8201\n",
      "Epoch 5/10\n",
      "67/67 [==============================] - 1s 11ms/step - loss: 0.3680 - accuracy: 0.8482 - val_loss: 0.3657 - val_accuracy: 0.8517\n",
      "Epoch 6/10\n",
      "67/67 [==============================] - 1s 10ms/step - loss: 0.3011 - accuracy: 0.8868 - val_loss: 0.3247 - val_accuracy: 0.8672\n",
      "Epoch 7/10\n",
      "67/67 [==============================] - 1s 10ms/step - loss: 0.2542 - accuracy: 0.9035 - val_loss: 0.3079 - val_accuracy: 0.8904\n",
      "Epoch 8/10\n",
      "67/67 [==============================] - 1s 10ms/step - loss: 0.2196 - accuracy: 0.9241 - val_loss: 0.2930 - val_accuracy: 0.8946\n",
      "Epoch 9/10\n",
      "67/67 [==============================] - 1s 10ms/step - loss: 0.1924 - accuracy: 0.9295 - val_loss: 0.2855 - val_accuracy: 0.8946\n",
      "Epoch 10/10\n",
      "67/67 [==============================] - 1s 10ms/step - loss: 0.1834 - accuracy: 0.9363 - val_loss: 0.2676 - val_accuracy: 0.9009\n",
      "Epoch 1/10\n",
      "67/67 [==============================] - 7s 29ms/step - loss: 0.6927 - accuracy: 0.4953 - val_loss: 0.6913 - val_accuracy: 0.5207\n",
      "Epoch 2/10\n",
      "67/67 [==============================] - 1s 10ms/step - loss: 0.6894 - accuracy: 0.4953 - val_loss: 0.6853 - val_accuracy: 0.5207\n",
      "Epoch 3/10\n",
      "67/67 [==============================] - 1s 10ms/step - loss: 0.6726 - accuracy: 0.4953 - val_loss: 0.6403 - val_accuracy: 0.5207\n",
      "Epoch 4/10\n",
      "67/67 [==============================] - 1s 10ms/step - loss: 0.5450 - accuracy: 0.6043 - val_loss: 0.4281 - val_accuracy: 0.7843\n",
      "Epoch 5/10\n",
      "67/67 [==============================] - 1s 9ms/step - loss: 0.3695 - accuracy: 0.8393 - val_loss: 0.3571 - val_accuracy: 0.8335\n",
      "Epoch 6/10\n",
      "67/67 [==============================] - 1s 10ms/step - loss: 0.2949 - accuracy: 0.8864 - val_loss: 0.3077 - val_accuracy: 0.8840\n",
      "Epoch 7/10\n",
      "67/67 [==============================] - 1s 10ms/step - loss: 0.2454 - accuracy: 0.9175 - val_loss: 0.2899 - val_accuracy: 0.8932\n",
      "Epoch 8/10\n",
      "67/67 [==============================] - 1s 10ms/step - loss: 0.2246 - accuracy: 0.9231 - val_loss: 0.2798 - val_accuracy: 0.8925\n",
      "Epoch 9/10\n",
      "67/67 [==============================] - 1s 10ms/step - loss: 0.2079 - accuracy: 0.9269 - val_loss: 0.2578 - val_accuracy: 0.9016\n",
      "Epoch 10/10\n",
      "67/67 [==============================] - 1s 10ms/step - loss: 0.1741 - accuracy: 0.9396 - val_loss: 0.2533 - val_accuracy: 0.9051\n",
      "Epoch 1/10\n",
      "67/67 [==============================] - 6s 29ms/step - loss: 0.6923 - accuracy: 0.4953 - val_loss: 0.6913 - val_accuracy: 0.5207\n",
      "Epoch 2/10\n",
      "67/67 [==============================] - 1s 10ms/step - loss: 0.6890 - accuracy: 0.4953 - val_loss: 0.6859 - val_accuracy: 0.5207\n",
      "Epoch 3/10\n",
      "67/67 [==============================] - 1s 10ms/step - loss: 0.6740 - accuracy: 0.4953 - val_loss: 0.6505 - val_accuracy: 0.5207\n",
      "Epoch 4/10\n",
      "67/67 [==============================] - 1s 10ms/step - loss: 0.5363 - accuracy: 0.6502 - val_loss: 0.4380 - val_accuracy: 0.7983\n",
      "Epoch 5/10\n",
      "67/67 [==============================] - 1s 10ms/step - loss: 0.3770 - accuracy: 0.8416 - val_loss: 0.3822 - val_accuracy: 0.8496\n",
      "Epoch 6/10\n",
      "67/67 [==============================] - 1s 10ms/step - loss: 0.3136 - accuracy: 0.8821 - val_loss: 0.3381 - val_accuracy: 0.8777\n",
      "Epoch 7/10\n",
      "67/67 [==============================] - 1s 10ms/step - loss: 0.2681 - accuracy: 0.9091 - val_loss: 0.3222 - val_accuracy: 0.8819\n",
      "Epoch 8/10\n",
      "67/67 [==============================] - 1s 10ms/step - loss: 0.2278 - accuracy: 0.9201 - val_loss: 0.3196 - val_accuracy: 0.8869\n",
      "Epoch 9/10\n",
      "67/67 [==============================] - 1s 9ms/step - loss: 0.2107 - accuracy: 0.9318 - val_loss: 0.2890 - val_accuracy: 0.8939\n",
      "Epoch 10/10\n",
      "67/67 [==============================] - 1s 10ms/step - loss: 0.1902 - accuracy: 0.9344 - val_loss: 0.2861 - val_accuracy: 0.8932\n",
      "Epoch 1/10\n",
      "67/67 [==============================] - 6s 30ms/step - loss: 0.6927 - accuracy: 0.4953 - val_loss: 0.6914 - val_accuracy: 0.5207\n",
      "Epoch 2/10\n",
      "67/67 [==============================] - 1s 11ms/step - loss: 0.6901 - accuracy: 0.4953 - val_loss: 0.6867 - val_accuracy: 0.5207\n",
      "Epoch 3/10\n",
      "67/67 [==============================] - 1s 10ms/step - loss: 0.6789 - accuracy: 0.4953 - val_loss: 0.6604 - val_accuracy: 0.5207\n",
      "Epoch 4/10\n",
      "67/67 [==============================] - 1s 10ms/step - loss: 0.5789 - accuracy: 0.5858 - val_loss: 0.4588 - val_accuracy: 0.7344\n",
      "Epoch 5/10\n",
      "67/67 [==============================] - 1s 10ms/step - loss: 0.3949 - accuracy: 0.8203 - val_loss: 0.3374 - val_accuracy: 0.8714\n",
      "Epoch 6/10\n",
      "67/67 [==============================] - 1s 10ms/step - loss: 0.3109 - accuracy: 0.8852 - val_loss: 0.2941 - val_accuracy: 0.8784\n",
      "Epoch 7/10\n",
      "67/67 [==============================] - 1s 10ms/step - loss: 0.2585 - accuracy: 0.9067 - val_loss: 0.2756 - val_accuracy: 0.9023\n",
      "Epoch 8/10\n",
      "67/67 [==============================] - 1s 10ms/step - loss: 0.2293 - accuracy: 0.9203 - val_loss: 0.2613 - val_accuracy: 0.9016\n",
      "Epoch 9/10\n",
      "67/67 [==============================] - 1s 11ms/step - loss: 0.2092 - accuracy: 0.9236 - val_loss: 0.2484 - val_accuracy: 0.9030\n",
      "Epoch 10/10\n",
      "67/67 [==============================] - 1s 10ms/step - loss: 0.1786 - accuracy: 0.9346 - val_loss: 0.2538 - val_accuracy: 0.9065\n",
      "Epoch 1/10\n",
      "67/67 [==============================] - 6s 29ms/step - loss: 0.6922 - accuracy: 0.4953 - val_loss: 0.6905 - val_accuracy: 0.5207\n",
      "Epoch 2/10\n",
      "67/67 [==============================] - 1s 10ms/step - loss: 0.6882 - accuracy: 0.4953 - val_loss: 0.6834 - val_accuracy: 0.5207\n",
      "Epoch 3/10\n",
      "67/67 [==============================] - 1s 10ms/step - loss: 0.6694 - accuracy: 0.4955 - val_loss: 0.6316 - val_accuracy: 0.5207\n",
      "Epoch 4/10\n",
      "67/67 [==============================] - 1s 10ms/step - loss: 0.5170 - accuracy: 0.6640 - val_loss: 0.4216 - val_accuracy: 0.8060\n",
      "Epoch 5/10\n",
      "67/67 [==============================] - 1s 10ms/step - loss: 0.3688 - accuracy: 0.8397 - val_loss: 0.3466 - val_accuracy: 0.8609\n",
      "Epoch 6/10\n",
      "67/67 [==============================] - 1s 10ms/step - loss: 0.2957 - accuracy: 0.8864 - val_loss: 0.3176 - val_accuracy: 0.8826\n",
      "Epoch 7/10\n",
      "67/67 [==============================] - 1s 10ms/step - loss: 0.2604 - accuracy: 0.9046 - val_loss: 0.2937 - val_accuracy: 0.8862\n",
      "Epoch 8/10\n",
      "67/67 [==============================] - 1s 10ms/step - loss: 0.2283 - accuracy: 0.9149 - val_loss: 0.2849 - val_accuracy: 0.8897\n",
      "Epoch 9/10\n",
      "67/67 [==============================] - 1s 10ms/step - loss: 0.2015 - accuracy: 0.9229 - val_loss: 0.2707 - val_accuracy: 0.8974\n",
      "Epoch 10/10\n",
      "67/67 [==============================] - 1s 10ms/step - loss: 0.1829 - accuracy: 0.9349 - val_loss: 0.2536 - val_accuracy: 0.9016\n",
      "Epoch 1/10\n",
      "67/67 [==============================] - 6s 37ms/step - loss: 0.6919 - accuracy: 0.4953 - val_loss: 0.6900 - val_accuracy: 0.5207\n",
      "Epoch 2/10\n",
      "67/67 [==============================] - 1s 10ms/step - loss: 0.6870 - accuracy: 0.4953 - val_loss: 0.6813 - val_accuracy: 0.5207\n",
      "Epoch 3/10\n",
      "67/67 [==============================] - 1s 10ms/step - loss: 0.6630 - accuracy: 0.4953 - val_loss: 0.6190 - val_accuracy: 0.5207\n",
      "Epoch 4/10\n",
      "67/67 [==============================] - 1s 10ms/step - loss: 0.5014 - accuracy: 0.6596 - val_loss: 0.4036 - val_accuracy: 0.8250\n",
      "Epoch 5/10\n",
      "67/67 [==============================] - 1s 10ms/step - loss: 0.3541 - accuracy: 0.8552 - val_loss: 0.3574 - val_accuracy: 0.8784\n",
      "Epoch 6/10\n",
      "67/67 [==============================] - 1s 10ms/step - loss: 0.2984 - accuracy: 0.8880 - val_loss: 0.3061 - val_accuracy: 0.8918\n",
      "Epoch 7/10\n",
      "67/67 [==============================] - 1s 10ms/step - loss: 0.2559 - accuracy: 0.9046 - val_loss: 0.2887 - val_accuracy: 0.8932\n",
      "Epoch 8/10\n",
      "67/67 [==============================] - 1s 10ms/step - loss: 0.2304 - accuracy: 0.9161 - val_loss: 0.2749 - val_accuracy: 0.8974\n",
      "Epoch 9/10\n",
      "67/67 [==============================] - 1s 10ms/step - loss: 0.1982 - accuracy: 0.9285 - val_loss: 0.2731 - val_accuracy: 0.9016\n",
      "Epoch 10/10\n",
      "67/67 [==============================] - 1s 10ms/step - loss: 0.1828 - accuracy: 0.9330 - val_loss: 0.2601 - val_accuracy: 0.9044\n",
      "Epoch 1/10\n",
      "67/67 [==============================] - 6s 43ms/step - loss: 0.6920 - accuracy: 0.4953 - val_loss: 0.6904 - val_accuracy: 0.5207\n",
      "Epoch 2/10\n",
      "67/67 [==============================] - 1s 9ms/step - loss: 0.6875 - accuracy: 0.4953 - val_loss: 0.6825 - val_accuracy: 0.5207\n",
      "Epoch 3/10\n",
      "67/67 [==============================] - 1s 10ms/step - loss: 0.6664 - accuracy: 0.4965 - val_loss: 0.6322 - val_accuracy: 0.5278\n",
      "Epoch 4/10\n",
      "67/67 [==============================] - 1s 9ms/step - loss: 0.5275 - accuracy: 0.6804 - val_loss: 0.4179 - val_accuracy: 0.8082\n",
      "Epoch 5/10\n",
      "67/67 [==============================] - 1s 10ms/step - loss: 0.3586 - accuracy: 0.8636 - val_loss: 0.3379 - val_accuracy: 0.8580\n",
      "Epoch 6/10\n",
      "67/67 [==============================] - 1s 10ms/step - loss: 0.2931 - accuracy: 0.8929 - val_loss: 0.2962 - val_accuracy: 0.8826\n",
      "Epoch 7/10\n",
      "67/67 [==============================] - 1s 10ms/step - loss: 0.2616 - accuracy: 0.9131 - val_loss: 0.2788 - val_accuracy: 0.8974\n",
      "Epoch 8/10\n",
      "67/67 [==============================] - 1s 10ms/step - loss: 0.2219 - accuracy: 0.9178 - val_loss: 0.2678 - val_accuracy: 0.8960\n",
      "Epoch 9/10\n",
      "67/67 [==============================] - 1s 10ms/step - loss: 0.2012 - accuracy: 0.9253 - val_loss: 0.2606 - val_accuracy: 0.9072\n",
      "Epoch 10/10\n",
      "67/67 [==============================] - 1s 10ms/step - loss: 0.1851 - accuracy: 0.9321 - val_loss: 0.2463 - val_accuracy: 0.8988\n",
      "Epoch 1/10\n",
      "67/67 [==============================] - 7s 29ms/step - loss: 0.6919 - accuracy: 0.4953 - val_loss: 0.6909 - val_accuracy: 0.5207\n",
      "Epoch 2/10\n",
      "67/67 [==============================] - 1s 10ms/step - loss: 0.6876 - accuracy: 0.4953 - val_loss: 0.6842 - val_accuracy: 0.5207\n",
      "Epoch 3/10\n",
      "67/67 [==============================] - 1s 9ms/step - loss: 0.6691 - accuracy: 0.4953 - val_loss: 0.6461 - val_accuracy: 0.5207\n",
      "Epoch 4/10\n",
      "67/67 [==============================] - 1s 10ms/step - loss: 0.5313 - accuracy: 0.6420 - val_loss: 0.4297 - val_accuracy: 0.7990\n",
      "Epoch 5/10\n",
      "67/67 [==============================] - 1s 10ms/step - loss: 0.3616 - accuracy: 0.8515 - val_loss: 0.3638 - val_accuracy: 0.8623\n",
      "Epoch 6/10\n",
      "67/67 [==============================] - 1s 10ms/step - loss: 0.2939 - accuracy: 0.8903 - val_loss: 0.3537 - val_accuracy: 0.8749\n",
      "Epoch 7/10\n",
      "67/67 [==============================] - 1s 10ms/step - loss: 0.2605 - accuracy: 0.9065 - val_loss: 0.3212 - val_accuracy: 0.8840\n",
      "Epoch 8/10\n",
      "67/67 [==============================] - 1s 10ms/step - loss: 0.2277 - accuracy: 0.9171 - val_loss: 0.3098 - val_accuracy: 0.8840\n",
      "Epoch 9/10\n",
      "67/67 [==============================] - 1s 10ms/step - loss: 0.1949 - accuracy: 0.9290 - val_loss: 0.3228 - val_accuracy: 0.8883\n",
      "Epoch 10/10\n",
      "67/67 [==============================] - 1s 10ms/step - loss: 0.1775 - accuracy: 0.9337 - val_loss: 0.3089 - val_accuracy: 0.8939\n",
      "Epoch 1/10\n",
      "67/67 [==============================] - 7s 29ms/step - loss: 0.6921 - accuracy: 0.4953 - val_loss: 0.6911 - val_accuracy: 0.5207\n",
      "Epoch 2/10\n",
      "67/67 [==============================] - 1s 10ms/step - loss: 0.6887 - accuracy: 0.4953 - val_loss: 0.6850 - val_accuracy: 0.5207\n",
      "Epoch 3/10\n",
      "67/67 [==============================] - 1s 10ms/step - loss: 0.6722 - accuracy: 0.4955 - val_loss: 0.6448 - val_accuracy: 0.5221\n",
      "Epoch 4/10\n",
      "67/67 [==============================] - 1s 10ms/step - loss: 0.5424 - accuracy: 0.6493 - val_loss: 0.4285 - val_accuracy: 0.8159\n",
      "Epoch 5/10\n",
      "67/67 [==============================] - 1s 10ms/step - loss: 0.3803 - accuracy: 0.8423 - val_loss: 0.3567 - val_accuracy: 0.8587\n",
      "Epoch 6/10\n",
      "67/67 [==============================] - 1s 10ms/step - loss: 0.3105 - accuracy: 0.8838 - val_loss: 0.3180 - val_accuracy: 0.8749\n",
      "Epoch 7/10\n",
      "67/67 [==============================] - 1s 10ms/step - loss: 0.2604 - accuracy: 0.9007 - val_loss: 0.2950 - val_accuracy: 0.8862\n",
      "Epoch 8/10\n",
      "67/67 [==============================] - 1s 11ms/step - loss: 0.2327 - accuracy: 0.9161 - val_loss: 0.2884 - val_accuracy: 0.8840\n",
      "Epoch 9/10\n",
      "67/67 [==============================] - 1s 10ms/step - loss: 0.2053 - accuracy: 0.9239 - val_loss: 0.2675 - val_accuracy: 0.8925\n",
      "Epoch 10/10\n",
      "67/67 [==============================] - 1s 10ms/step - loss: 0.1771 - accuracy: 0.9367 - val_loss: 0.2767 - val_accuracy: 0.8995\n"
     ]
    }
   ],
   "source": [
    "# Train multiple times and average out results\n",
    "# Use best model parameters from sweep\n",
    "accuracies = []\n",
    "precisions = []\n",
    "recalls = []\n",
    "f1s = []\n",
    "\n",
    "runs = 10\n",
    "\n",
    "max_tokens = None\n",
    "encoder = tf.keras.layers.TextVectorization(max_tokens=max_tokens)\n",
    "encoder.adapt(X_train)\n",
    "vocab_size = len(encoder.get_vocabulary())\n",
    "for i in range(runs):\n",
    "    model = tf.keras.Sequential([\n",
    "        encoder,\n",
    "        tf.keras.layers.Embedding(\n",
    "            input_dim=vocab_size,\n",
    "            output_dim=32,\n",
    "            mask_zero=True),\n",
    "        tf.keras.layers.Dropout(0.5),\n",
    "        tf.keras.layers.Bidirectional(tf.keras.layers.LSTM(64)),\n",
    "        tf.keras.layers.Dense(64, activation=\"relu\"),\n",
    "        tf.keras.layers.Dropout(0.5),\n",
    "        tf.keras.layers.Dense(1)\n",
    "    ])\n",
    "    model.compile(loss=tf.keras.losses.BinaryCrossentropy(from_logits=True), \n",
    "              optimizer=tf.keras.optimizers.Adam(1e-4),\n",
    "              metrics=[\"accuracy\"])\n",
    "    history = model.fit(X_train, y_train, validation_data=(X_val, y_val), epochs=10, batch_size=64)\n",
    "    y_pred = np.around(tf.math.sigmoid(model.predict(X_test))).flatten()\n",
    "    \n",
    "    accuracies.append(accuracy_score(y_test, y_pred))\n",
    "    precisions.append(precision_score(y_test, y_pred))\n",
    "    recalls.append(recall_score(y_test, y_pred))\n",
    "    f1s.append(f1_score(y_test, y_pred))"
   ]
  },
  {
   "cell_type": "code",
   "execution_count": 53,
   "id": "21fc47e4-f23a-4c47-aaac-07e77287f5d8",
   "metadata": {},
   "outputs": [
    {
     "name": "stdout",
     "output_type": "stream",
     "text": [
      "Test Accuracy: 0.8971271481286241\n",
      "Test Precision: 0.916304024364115\n",
      "Test Recall: 0.8781261730969762\n",
      "Test F1 Score: 0.8995758957890096\n"
     ]
    }
   ],
   "source": [
    "print(f\"Test Accuracy: {np.array(accuracies).sum()/runs}\")\n",
    "print(f\"Test Precision: {np.array(precisions).sum()/runs}\")\n",
    "print(f\"Test Recall: {np.array(recalls).sum()/runs}\")\n",
    "print(f\"Test F1 Score: {np.array(f1s).sum()/runs}\")"
   ]
  },
  {
   "cell_type": "code",
   "execution_count": 31,
   "id": "cf5b3077-0d47-4024-ba09-1b5cf701bfc6",
   "metadata": {},
   "outputs": [],
   "source": [
    "# Saving via model.save() and load_model was not working\n",
    "# Had to save model weights and load explicitly\n",
    "def create_model():\n",
    "    model = tf.keras.Sequential([\n",
    "        encoder,\n",
    "        tf.keras.layers.Embedding(\n",
    "            input_dim=vocab_size,\n",
    "            output_dim=32,\n",
    "            mask_zero=True),\n",
    "        tf.keras.layers.Dropout(0.5),\n",
    "        tf.keras.layers.Bidirectional(tf.keras.layers.LSTM(64)),\n",
    "        tf.keras.layers.Dense(64, activation=\"relu\"),\n",
    "        tf.keras.layers.Dropout(0.5),\n",
    "        tf.keras.layers.Dense(1)\n",
    "    ])\n",
    "    model.compile(loss=tf.keras.losses.BinaryCrossentropy(from_logits=True), \n",
    "              optimizer=tf.keras.optimizers.Adam(1e-4),\n",
    "              metrics=[\"accuracy\"])\n",
    "    return model"
   ]
  },
  {
   "cell_type": "code",
   "execution_count": 32,
   "id": "27bae524-906f-450a-9b52-00081acd93e1",
   "metadata": {},
   "outputs": [
    {
     "data": {
      "text/plain": [
       "<tensorflow.python.training.tracking.util.CheckpointLoadStatus at 0x7fd83fb67a90>"
      ]
     },
     "execution_count": 32,
     "metadata": {},
     "output_type": "execute_result"
    }
   ],
   "source": [
    "# Save the weights\n",
    "model.save_weights('bilstm/my_checkpoint')\n",
    "\n",
    "# Create a new model instance\n",
    "model = create_model()\n",
    "\n",
    "# Restore the weights\n",
    "model.load_weights('bilstm/my_checkpoint')"
   ]
  },
  {
   "cell_type": "code",
   "execution_count": 33,
   "id": "a6bb7b78-e797-49d8-a79e-9530ebb4722f",
   "metadata": {},
   "outputs": [],
   "source": [
    "y_pred = np.around(tf.math.sigmoid(model.predict(X_test))).flatten()"
   ]
  }
 ],
 "metadata": {
  "kernelspec": {
   "display_name": "Python 3 (ipykernel)",
   "language": "python",
   "name": "python3"
  },
  "language_info": {
   "codemirror_mode": {
    "name": "ipython",
    "version": 3
   },
   "file_extension": ".py",
   "mimetype": "text/x-python",
   "name": "python",
   "nbconvert_exporter": "python",
   "pygments_lexer": "ipython3",
   "version": "3.8.0"
  }
 },
 "nbformat": 4,
 "nbformat_minor": 5
}
