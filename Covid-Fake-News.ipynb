{
 "cells": [
  {
   "cell_type": "code",
   "execution_count": 54,
   "id": "659902f1-83fb-48a6-a872-554e71f93735",
   "metadata": {},
   "outputs": [],
   "source": [
    "import warnings\n",
    "warnings.filterwarnings('ignore')\n",
    "import numpy as np\n",
    "import pandas as pd\n",
    "import matplotlib.pyplot as plt\n",
    "import seaborn as sns\n",
    "import nltk\n",
    "import string\n",
    "import re\n",
    "import os\n",
    "from sklearn.linear_model import LogisticRegression\n",
    "from sklearn.model_selection import train_test_split, GridSearchCV\n",
    "from sklearn.metrics import classification_report, accuracy_score, confusion_matrix, f1_score, precision_score, recall_score, roc_auc_score"
   ]
  },
  {
   "cell_type": "code",
   "execution_count": 55,
   "id": "5c7080bd-9360-46ee-9ae7-24f3aaae8c24",
   "metadata": {
    "scrolled": true,
    "tags": []
   },
   "outputs": [],
   "source": [
    "def plot_conf_matrix(y_pred, y_true, title=None):\n",
    "    \"\"\"Helper Function to plot confustion matrix\"\"\"\n",
    "    \n",
    "    conf_mat = confusion_matrix(y_pred, y_true)\n",
    "    df_cm = pd.DataFrame(conf_mat, index = [i for i in [\"Fake\", \"Real\"]],\n",
    "                  columns = [i for i in [\"Fake\", \"Real\"]])\n",
    "    plt.figure(figsize = (10,7))\n",
    "    sns.heatmap(df_cm, annot=True, cmap=\"Blues\")\n",
    "    plt.ylabel(\"True Label\")\n",
    "    plt.xlabel(\"Predicted Label\")\n",
    "    if title:\n",
    "        plt.title(f\"{title} Confusion Matrix\")\n",
    "    plt.show()"
   ]
  },
  {
   "cell_type": "markdown",
   "id": "f266b5af-4823-41b0-97ce-d467abb1dbae",
   "metadata": {},
   "source": [
    "# Read in Data and Preprocess"
   ]
  },
  {
   "cell_type": "code",
   "execution_count": 56,
   "id": "44ec800a-a3b4-465e-9b74-64d29b0ceafa",
   "metadata": {},
   "outputs": [],
   "source": [
    "true_news_df = pd.read_csv(\"COVID19-FNIR/COVID19-FNIR/trueNews.csv\")\n",
    "fake_news_df = pd.read_csv(\"COVID19-FNIR/COVID19-FNIR/fakeNews.csv\")\n",
    "# Assign class columns and combine dataframes\n",
    "fake_news_df[\"class\"] = 1\n",
    "true_news_df[\"class\"] = 0\n",
    "combined = pd.concat([fake_news_df, true_news_df], axis=0)"
   ]
  },
  {
   "cell_type": "code",
   "execution_count": 57,
   "id": "bd0f39cc-1786-4e41-829d-5cff6978d674",
   "metadata": {},
   "outputs": [
    {
     "data": {
      "text/plain": [
       "array([' Bill Gates is working on an electronic chip to implant under human skin in order to locate and control people.\\t\\t'],\n",
       "      dtype=object)"
      ]
     },
     "execution_count": 57,
     "metadata": {},
     "output_type": "execute_result"
    }
   ],
   "source": [
    "fake_news_df[fake_news_df[\"Text\"].str.contains(\"Bill Gates is working\")][\"Text\"].values\n",
    " # Bill Gates is working on an electronic chip to implant under human skin in order to locate and control people.\\t\\t"
   ]
  },
  {
   "cell_type": "code",
   "execution_count": 58,
   "id": "87e6a034-f70c-4aa4-bdfd-ff7475f220a2",
   "metadata": {},
   "outputs": [
    {
     "data": {
      "text/plain": [
       "array(['Covid-19 can damage lungs of victims beyond recognition, expert says  https://www.theguardian.com/world/2020/jun/15/covid-19-can-damage-lungs-victims-beyond-recognition-expert-says?utm_term=Autofeed&CMP=twt_b-gdnnews&utm_medium=Social&utm_source=Twitter#Echobox=1592245639\\xa0'],\n",
       "      dtype=object)"
      ]
     },
     "execution_count": 58,
     "metadata": {},
     "output_type": "execute_result"
    }
   ],
   "source": [
    "true_news_df[true_news_df[\"Text\"].str.contains(\"beyond recognition\")][\"Text\"].values\n",
    "# 'Covid-19 can damage lungs of victims beyond recognition, expert says  https://www.theguardian.com/world/2020/jun/15/covid-19-can-damage-lungs-victims-beyond-recognition-expert-says?utm_term=Autofeed&CMP=twt_b-gdnnews&utm_medium=Social&utm_source=Twitter#Echobox=1592245639\\xa0'],"
   ]
  },
  {
   "cell_type": "code",
   "execution_count": 59,
   "id": "358c39f1-67fc-4981-b2db-39319c965914",
   "metadata": {},
   "outputs": [],
   "source": [
    "# Subset data to just contain the text field and the class field\n",
    "combined = combined[[\"Text\", \"class\"]].reset_index(drop=True)\n",
    "# Shuffle data\n",
    "combined = combined.sample(frac = 1, random_state=42)"
   ]
  },
  {
   "cell_type": "code",
   "execution_count": 60,
   "id": "3ec2f6f3-859f-424d-a65d-79a3440993ab",
   "metadata": {},
   "outputs": [],
   "source": [
    "combined['Text'] = combined['Text'].str.replace('http\\S+|www.\\S+', '', case=False)\n",
    "combined['Text'] = combined['Text'].str.replace('pic\\S+|twitter.\\S+', '', case=False)\n",
    "combined['Text'] = combined['Text'].str.replace('#\\S+', '', case=False)\n",
    "combined['Text'] = combined['Text'].str.replace('@\\S+', '', case=False)\n",
    "combined['Text'] = combined['Text'].str.replace('Link:\\S+', '', case=False)\n",
    "combined['Text'] = combined['Text'].str.replace('[ \\t]+$', '', case=False)\n",
    "# remove front and ending blank spaces\n",
    "combined = combined.replace({\"^\\s*|\\s*$\":\"\"}, regex=True) \n",
    "\n",
    "def wordopt(text):\n",
    "    \"\"\"Formating of the text field \"\"\"\n",
    "    text = text.lower()\n",
    "    text = re.sub('\\[.*?\\]', '', text)\n",
    "    text = re.sub(\"\\\\W\",\" \",text) \n",
    "    text = re.sub('<.*?>+', '', text)\n",
    "    text = re.sub('[%s]' % re.escape(string.punctuation), '', text)\n",
    "    text = re.sub('\\n', '', text)\n",
    "    text = re.sub('\\w*\\d\\w*', '', text)    \n",
    "    text = re.sub(' +', ' ', text)\n",
    "    return text\n",
    "\n",
    "combined[\"Text\"] = combined[\"Text\"].apply(wordopt)"
   ]
  },
  {
   "cell_type": "code",
   "execution_count": 61,
   "id": "53d2a28d-7dee-4174-b055-ce8d3a22a366",
   "metadata": {},
   "outputs": [
    {
     "data": {
      "text/plain": [
       "'the news media has tried to pass off one man s death attributed to complications from covid as two separate cases '"
      ]
     },
     "execution_count": 61,
     "metadata": {},
     "output_type": "execute_result"
    }
   ],
   "source": [
    "combined[combined[\"class\"]==1].iloc[1241][\"Text\"]"
   ]
  },
  {
   "cell_type": "code",
   "execution_count": 62,
   "id": "a485771a-1846-4ee8-8b6f-63f4593a6420",
   "metadata": {},
   "outputs": [
    {
     "data": {
      "text/plain": [
       "'show me the data u s doctors skeptical of reported covid breakthrough'"
      ]
     },
     "execution_count": 62,
     "metadata": {},
     "output_type": "execute_result"
    }
   ],
   "source": [
    "combined[combined[\"class\"]==0].iloc[7][\"Text\"]"
   ]
  },
  {
   "cell_type": "code",
   "execution_count": 63,
   "id": "0148108e-d38e-4b59-b9c9-32346b2696eb",
   "metadata": {},
   "outputs": [],
   "source": [
    "# for i in range(1000):\n",
    "#     print(f\"{i}: {combined[combined['class']==0].iloc[i]['Text']}\")"
   ]
  },
  {
   "cell_type": "code",
   "execution_count": 64,
   "id": "250e1445-9afa-4243-bd52-173849e4781f",
   "metadata": {},
   "outputs": [
    {
     "data": {
      "text/plain": [
       "''"
      ]
     },
     "execution_count": 64,
     "metadata": {},
     "output_type": "execute_result"
    }
   ],
   "source": [
    "combined[combined[\"class\"]==0].iloc[540][\"Text\"]"
   ]
  },
  {
   "cell_type": "code",
   "execution_count": 65,
   "id": "5b37be7d-6983-40e0-a462-0d2f3a1be9b0",
   "metadata": {},
   "outputs": [
    {
     "data": {
      "text/plain": [
       "'covid is a scripted narrative to justify closed borders or force residents to remain home '"
      ]
     },
     "execution_count": 65,
     "metadata": {},
     "output_type": "execute_result"
    }
   ],
   "source": [
    "combined[combined[\"class\"]==1].iloc[540][\"Text\"]"
   ]
  },
  {
   "cell_type": "code",
   "execution_count": 66,
   "id": "8588e879-92d7-464a-8342-5071b22b829c",
   "metadata": {},
   "outputs": [
    {
     "data": {
      "text/html": [
       "<div>\n",
       "<style scoped>\n",
       "    .dataframe tbody tr th:only-of-type {\n",
       "        vertical-align: middle;\n",
       "    }\n",
       "\n",
       "    .dataframe tbody tr th {\n",
       "        vertical-align: top;\n",
       "    }\n",
       "\n",
       "    .dataframe thead th {\n",
       "        text-align: right;\n",
       "    }\n",
       "</style>\n",
       "<table border=\"1\" class=\"dataframe\">\n",
       "  <thead>\n",
       "    <tr style=\"text-align: right;\">\n",
       "      <th></th>\n",
       "      <th>Text</th>\n",
       "      <th>class</th>\n",
       "    </tr>\n",
       "  </thead>\n",
       "  <tbody>\n",
       "    <tr>\n",
       "      <th>5164</th>\n",
       "      <td>nhs nurse gets round of applause after recover...</td>\n",
       "      <td>0</td>\n",
       "    </tr>\n",
       "    <tr>\n",
       "      <th>6140</th>\n",
       "      <td>zali steggall increasingly concerned about mor...</td>\n",
       "      <td>0</td>\n",
       "    </tr>\n",
       "    <tr>\n",
       "      <th>1737</th>\n",
       "      <td>trump s claim that he imposed the first travel...</td>\n",
       "      <td>1</td>\n",
       "    </tr>\n",
       "    <tr>\n",
       "      <th>1446</th>\n",
       "      <td>says for otherwise healthy people experiencing...</td>\n",
       "      <td>1</td>\n",
       "    </tr>\n",
       "    <tr>\n",
       "      <th>586</th>\n",
       "      <td>a video shows an italian doctor who says that ...</td>\n",
       "      <td>1</td>\n",
       "    </tr>\n",
       "  </tbody>\n",
       "</table>\n",
       "</div>"
      ],
      "text/plain": [
       "                                                   Text  class\n",
       "5164  nhs nurse gets round of applause after recover...      0\n",
       "6140  zali steggall increasingly concerned about mor...      0\n",
       "1737  trump s claim that he imposed the first travel...      1\n",
       "1446  says for otherwise healthy people experiencing...      1\n",
       "586   a video shows an italian doctor who says that ...      1"
      ]
     },
     "execution_count": 66,
     "metadata": {},
     "output_type": "execute_result"
    }
   ],
   "source": [
    "combined.head()"
   ]
  },
  {
   "cell_type": "code",
   "execution_count": 67,
   "id": "cd7e42c6-72c4-4ee3-9fb2-0ede20e16110",
   "metadata": {},
   "outputs": [],
   "source": [
    "# Set X and y variables\n",
    "X = combined[\"Text\"]\n",
    "y = combined[\"class\"]"
   ]
  },
  {
   "cell_type": "code",
   "execution_count": 68,
   "id": "7c8b19fc-1a66-4d25-81b9-52457bcd9b20",
   "metadata": {},
   "outputs": [],
   "source": [
    "# Split data into training and test dataset\n",
    "X_train, X_test, y_train, y_test = train_test_split(X, y, test_size=0.25, random_state=42)"
   ]
  },
  {
   "cell_type": "code",
   "execution_count": null,
   "id": "ff65f64a-4b3c-4baf-9ae7-9f842c4e25f3",
   "metadata": {},
   "outputs": [],
   "source": []
  },
  {
   "cell_type": "code",
   "execution_count": 69,
   "id": "c7406439-7439-44dd-abd2-44fda1494808",
   "metadata": {},
   "outputs": [
    {
     "data": {
      "text/plain": [
       "0.75"
      ]
     },
     "execution_count": 69,
     "metadata": {},
     "output_type": "execute_result"
    }
   ],
   "source": [
    "X_train.shape[0]/combined.shape[0]"
   ]
  },
  {
   "cell_type": "code",
   "execution_count": 70,
   "id": "efb31176-f263-4284-ae70-cfd7cb515199",
   "metadata": {},
   "outputs": [
    {
     "data": {
      "text/plain": [
       "18.75"
      ]
     },
     "execution_count": 70,
     "metadata": {},
     "output_type": "execute_result"
    }
   ],
   "source": [
    "0.25*75"
   ]
  },
  {
   "cell_type": "code",
   "execution_count": 71,
   "id": "4b319687-9a1f-48a1-b41c-fd6e5b6ff1ab",
   "metadata": {},
   "outputs": [
    {
     "data": {
      "text/plain": [
       "18.75"
      ]
     },
     "execution_count": 71,
     "metadata": {},
     "output_type": "execute_result"
    }
   ],
   "source": [
    "0.25*75"
   ]
  },
  {
   "cell_type": "code",
   "execution_count": 72,
   "id": "d0878a74-9c44-421b-b722-c5725870849d",
   "metadata": {},
   "outputs": [
    {
     "data": {
      "text/plain": [
       "0.25"
      ]
     },
     "execution_count": 72,
     "metadata": {},
     "output_type": "execute_result"
    }
   ],
   "source": [
    "X_test.shape[0]/combined.shape[0]"
   ]
  },
  {
   "cell_type": "code",
   "execution_count": 73,
   "id": "61573d3c-af7a-4d5e-adce-2db063ed1cfa",
   "metadata": {},
   "outputs": [],
   "source": [
    "from sklearn.feature_extraction.text import TfidfVectorizer\n",
    "\n",
    "# https://scikit-learn.org/stable/modules/generated/sklearn.feature_extraction.text.TfidfVectorizer.html \n",
    "\n",
    "vectorization = TfidfVectorizer()\n",
    "X_train = vectorization.fit_transform(X_train)\n",
    "X_test = vectorization.transform(X_test)"
   ]
  },
  {
   "cell_type": "markdown",
   "id": "4ac59ee7-3e2e-4189-a87e-f4b88a413acb",
   "metadata": {},
   "source": [
    "# Model 1: Naive Bayes Model"
   ]
  },
  {
   "cell_type": "code",
   "execution_count": 74,
   "id": "f0d7a940-75b1-4c7d-a9bd-3c647e87f74d",
   "metadata": {},
   "outputs": [],
   "source": [
    "from sklearn.naive_bayes import MultinomialNB\n",
    "\n",
    "\n",
    "nb_model = MultinomialNB()\n",
    "# Fit model \n",
    "nb_model.fit(X_train, y_train)\n",
    "# Predict \n",
    "y_pred = nb_model.predict(X_test)"
   ]
  },
  {
   "cell_type": "code",
   "execution_count": 75,
   "id": "262ad684-5594-4d6f-a163-3770d6882698",
   "metadata": {},
   "outputs": [
    {
     "name": "stdout",
     "output_type": "stream",
     "text": [
      "Test Accuracy: 0.8929889298892989\n"
     ]
    }
   ],
   "source": [
    "print(f\"Test Accuracy: {accuracy_score(y_test, y_pred)}\")"
   ]
  },
  {
   "cell_type": "code",
   "execution_count": 76,
   "id": "b01575a4-f621-4efd-8810-5b11ef7b2992",
   "metadata": {},
   "outputs": [
    {
     "name": "stdout",
     "output_type": "stream",
     "text": [
      "              precision    recall  f1-score   support\n",
      "\n",
      "           0       0.89      0.90      0.89       938\n",
      "           1       0.90      0.89      0.89       959\n",
      "\n",
      "    accuracy                           0.89      1897\n",
      "   macro avg       0.89      0.89      0.89      1897\n",
      "weighted avg       0.89      0.89      0.89      1897\n",
      "\n"
     ]
    }
   ],
   "source": [
    "print(classification_report(y_test, y_pred))"
   ]
  },
  {
   "cell_type": "code",
   "execution_count": 77,
   "id": "5f0fff98-4b50-4515-8afe-29a65346b6fa",
   "metadata": {},
   "outputs": [
    {
     "data": {
      "image/png": "[encoded data removed]",
      "text/plain": [
       "<Figure size 720x504 with 2 Axes>"
      ]
     },
     "metadata": {
      "needs_background": "light"
     },
     "output_type": "display_data"
    }
   ],
   "source": [
    "plot_conf_matrix(y_pred, y_test, title=\"Naive Bayes\")"
   ]
  },
  {
   "cell_type": "code",
   "execution_count": 78,
   "id": "6766beb6-fb12-4792-b9e7-cbf94a6b43f1",
   "metadata": {},
   "outputs": [],
   "source": [
    "# \n",
    "params = {\n",
    "    \"alpha\": [0.001, 0.01, 0.05, 0.1, 0.2, 0.3, 0.4, 0.5, 0.75, 1.0, 1.5, 2, 3, 5, 10],\n",
    "    \"fit_prior\": (True, False),\n",
    "}\n",
    "gs_clf = GridSearchCV(MultinomialNB(), params, n_jobs=-1)\n",
    "gs_clf = gs_clf.fit(X_train, y_train)"
   ]
  },
  {
   "cell_type": "code",
   "execution_count": 79,
   "id": "cdee0b08-131d-4f5a-9e53-2e80e16c0afa",
   "metadata": {},
   "outputs": [],
   "source": [
    "# gs_clf.cv_results_"
   ]
  },
  {
   "cell_type": "code",
   "execution_count": 80,
   "id": "88ce76af-295f-4742-b7da-62ee92257730",
   "metadata": {},
   "outputs": [],
   "source": [
    "y_pred = gs_clf.predict(X_test)"
   ]
  },
  {
   "cell_type": "code",
   "execution_count": 81,
   "id": "a75c77b0-4da1-479a-b10e-d363e7c8de38",
   "metadata": {},
   "outputs": [
    {
     "name": "stdout",
     "output_type": "stream",
     "text": [
      "Test Accuracy: 0.889826041117554\n",
      "Test Precision: 0.8972457627118644\n",
      "Test Recall: 0.8832116788321168\n",
      "Test f1 Score: 0.8901734104046244\n",
      "Test roc auc score: 0.8899000824864209\n"
     ]
    }
   ],
   "source": [
    "print(f\"Test Accuracy: {accuracy_score(y_test, y_pred)}\")\n",
    "print(f\"Test Precision: {precision_score(y_test, y_pred)}\")\n",
    "print(f\"Test Recall: {recall_score(y_test, y_pred)}\")\n",
    "print(f\"Test f1 Score: {f1_score(y_test, y_pred)}\")\n",
    "print(f\"Test roc auc score: {roc_auc_score(y_test, y_pred)}\")"
   ]
  },
  {
   "cell_type": "code",
   "execution_count": 82,
   "id": "5cd04a36-62a9-47e3-a4cc-5010578710b5",
   "metadata": {},
   "outputs": [
    {
     "name": "stdout",
     "output_type": "stream",
     "text": [
      "              precision    recall  f1-score   support\n",
      "\n",
      "           0       0.88      0.90      0.89       938\n",
      "           1       0.90      0.88      0.89       959\n",
      "\n",
      "    accuracy                           0.89      1897\n",
      "   macro avg       0.89      0.89      0.89      1897\n",
      "weighted avg       0.89      0.89      0.89      1897\n",
      "\n"
     ]
    }
   ],
   "source": [
    "print(classification_report(y_test, y_pred))"
   ]
  },
  {
   "cell_type": "code",
   "execution_count": 83,
   "id": "317ebf93-58bb-4fad-b283-43980c628a0d",
   "metadata": {},
   "outputs": [
    {
     "data": {
      "image/png": "[encoded data removed]",
      "text/plain": [
       "<Figure size 720x504 with 2 Axes>"
      ]
     },
     "metadata": {
      "needs_background": "light"
     },
     "output_type": "display_data"
    }
   ],
   "source": [
    "plot_conf_matrix(y_pred, y_test, title=\"Naive Bayes\")"
   ]
  },
  {
   "cell_type": "markdown",
   "id": "60e77592-c6e4-4a9c-845a-2f0cff3cf99e",
   "metadata": {},
   "source": [
    "# Model 2: Gradient Boosting Classifier"
   ]
  },
  {
   "cell_type": "code",
   "execution_count": 84,
   "id": "df52e268-b8ff-4ee4-85aa-cb82c4e51bd6",
   "metadata": {},
   "outputs": [],
   "source": [
    "from sklearn.ensemble import GradientBoostingClassifier\n",
    "\n",
    "gbt_model = GradientBoostingClassifier()\n",
    "# Fit model \n",
    "gbt_model.fit(X_train, y_train)\n",
    "# Predict \n",
    "y_pred = gbt_model.predict(X_test)"
   ]
  },
  {
   "cell_type": "code",
   "execution_count": 85,
   "id": "d11cb9d9-4976-455e-b458-6adfc66778cf",
   "metadata": {},
   "outputs": [
    {
     "name": "stdout",
     "output_type": "stream",
     "text": [
      "Test Accuracy: 0.8518713758566157\n",
      "Test Precision: 0.8783482142857143\n",
      "Test Recall: 0.8206465067778936\n",
      "Test f1 Score: 0.8485175202156335\n",
      "Test roc auc score: 0.8522209079731686\n"
     ]
    }
   ],
   "source": [
    "print(f\"Test Accuracy: {accuracy_score(y_test, y_pred)}\")\n",
    "print(f\"Test Precision: {precision_score(y_test, y_pred)}\")\n",
    "print(f\"Test Recall: {recall_score(y_test, y_pred)}\")\n",
    "print(f\"Test f1 Score: {f1_score(y_test, y_pred)}\")\n",
    "print(f\"Test roc auc score: {roc_auc_score(y_test, y_pred)}\")"
   ]
  },
  {
   "cell_type": "code",
   "execution_count": 86,
   "id": "2749b4ef-aed6-4bc7-bf0c-4b3a447a9ebd",
   "metadata": {},
   "outputs": [
    {
     "name": "stdout",
     "output_type": "stream",
     "text": [
      "              precision    recall  f1-score   support\n",
      "\n",
      "           0       0.83      0.88      0.86       938\n",
      "           1       0.88      0.82      0.85       959\n",
      "\n",
      "    accuracy                           0.85      1897\n",
      "   macro avg       0.85      0.85      0.85      1897\n",
      "weighted avg       0.85      0.85      0.85      1897\n",
      "\n"
     ]
    }
   ],
   "source": [
    "print(classification_report(y_test, y_pred))"
   ]
  },
  {
   "cell_type": "code",
   "execution_count": 87,
   "id": "2f4da19d-82b8-4823-aa00-d6e4eb030c89",
   "metadata": {},
   "outputs": [
    {
     "data": {
      "image/png": "[encoded data removed]",
      "text/plain": [
       "<Figure size 720x504 with 2 Axes>"
      ]
     },
     "metadata": {
      "needs_background": "light"
     },
     "output_type": "display_data"
    }
   ],
   "source": [
    "plot_conf_matrix(y_pred, y_test, title=\"Gradient Boosting Classifier Classifier\")"
   ]
  },
  {
   "cell_type": "code",
   "execution_count": null,
   "id": "0b6d842e-fadb-4844-b25e-74dcb5552717",
   "metadata": {
    "scrolled": true,
    "tags": []
   },
   "outputs": [],
   "source": [
    "%%time\n",
    "params = {\n",
    "    \"loss\": [\"deviance\", \"exponential\"],\n",
    "    \"learning_rate\": [0.001, 0.01, 0.1, 1, 2],\n",
    "    \"n_estimators\": [10, 50, 100, 500],\n",
    "    \"subsample\": [0.5, 0.75, 1.0],\n",
    "}\n",
    "\n",
    "gs_clf = GridSearchCV(GradientBoostingClassifier(), params, n_jobs=-1, scoring='accuracy')\n",
    "  \n",
    "gs_clf = gs_clf.fit(X_train, y_train)\n",
    "# Predict \n",
    "y_pred = gs_clf.predict(X_test)"
   ]
  },
  {
   "cell_type": "code",
   "execution_count": null,
   "id": "d5ad5e24-2396-4ac2-83c4-0f31188248c7",
   "metadata": {},
   "outputs": [],
   "source": [
    "print(f\"Test Accuracy: {accuracy_score(y_test, y_pred)}\")\n",
    "print(f\"Test Precision: {precision_score(y_test, y_pred)}\")\n",
    "print(f\"Test Recall: {recall_score(y_test, y_pred)}\")\n",
    "print(f\"Test f1 Score: {f1_score(y_test, y_pred)}\")\n",
    "print(f\"Test roc auc score: {roc_auc_score(y_test, y_pred)}\")"
   ]
  },
  {
   "cell_type": "code",
   "execution_count": null,
   "id": "c0e3933b-738c-4180-af2e-95b10b6ee6c9",
   "metadata": {},
   "outputs": [],
   "source": [
    "print(classification_report(y_test, y_pred))"
   ]
  },
  {
   "cell_type": "code",
   "execution_count": 53,
   "id": "6f4431dc-c563-47a8-b3e0-670c98ce43d0",
   "metadata": {
    "tags": []
   },
   "outputs": [
    {
     "data": {
      "image/png": "[encoded data removed]",
      "text/plain": [
       "<Figure size 720x504 with 2 Axes>"
      ]
     },
     "metadata": {
      "needs_background": "light"
     },
     "output_type": "display_data"
    }
   ],
   "source": [
    "plot_conf_matrix(y_pred, y_test, title=\"Gradient Boosting Classifier Classifier\")"
   ]
  },
  {
   "cell_type": "markdown",
   "id": "eabc5be7-0823-40d5-9696-47ff8d170e92",
   "metadata": {},
   "source": [
    "# Bidirectional LSTM "
   ]
  },
  {
   "cell_type": "code",
   "execution_count": 38,
   "id": "2293b8b1-9958-417b-8b72-a26481c773da",
   "metadata": {},
   "outputs": [],
   "source": [
    "import pandas as pd\n",
    "import numpy as np\n",
    "import string\n",
    "import matplotlib.pyplot as plt\n",
    "import seaborn as sns\n",
    "import nltk\n",
    "import string\n",
    "import tensorflow as tf\n",
    "from tensorflow.keras.layers import Embedding\n",
    "from tensorflow.keras.preprocessing.sequence import pad_sequences\n",
    "from tensorflow.keras.models import Sequential\n",
    "from tensorflow.keras.preprocessing.text import one_hot\n",
    "from tensorflow.keras.layers import LSTM\n",
    "from tensorflow.keras.layers import Dense\n",
    "from tensorflow.keras.layers import Bidirectional\n",
    "from tensorflow.keras.layers import Dropout\n",
    "import nltk\n",
    "import re\n",
    "from nltk.corpus import stopwords\n",
    "from sklearn.model_selection import train_test_split\n",
    "from sklearn.metrics import classification_report, accuracy_score"
   ]
  },
  {
   "cell_type": "code",
   "execution_count": 39,
   "id": "f7b3f73e-6916-4e10-8041-54cecc08b657",
   "metadata": {},
   "outputs": [],
   "source": [
    "X_train, X_test, y_train, y_test = train_test_split(X, y, test_size=0.25, random_state=42)\n",
    "X_train, X_val, y_train, y_val = train_test_split(X_train, y_train, test_size=0.25, random_state=42)\n",
    "\n",
    "X_train = np.array(X_train)\n",
    "y_train = np.array(y_train)\n",
    "\n",
    "X_val = np.array(X_val)\n",
    "y_val = np.array(y_val)\n",
    "\n",
    "X_test = np.array(X_test)\n",
    "y_test = np.array(y_test)"
   ]
  },
  {
   "cell_type": "code",
   "execution_count": 40,
   "id": "40254853-92df-462e-b197-2a070743d666",
   "metadata": {},
   "outputs": [
    {
     "data": {
      "text/plain": [
       "array(['patrick jones a year old prisoner in louisiana who was serving a year prison term for a drug charge became the first federal inmate to die from covid ',\n",
       "       'watch this report to know how physiotherapists are changing the way they function in post covid world dr saif naqvi ',\n",
       "       'a year old youth who had travelled from delhi to chennai in a train tested positive for covid and is already in the isolation ward of rajiv gandhi government general hospital ',\n",
       "       'french minister of justice did not threaten to sue the french journalist and tv host jean pierre pernaut after he criticized the government because of its way to deal with the epidemic ',\n",
       "       'video of a burqa clad muslim woman being denied a food kit distributed to help people during the current crisis in india due to covid for being a muslim '],\n",
       "      dtype=object)"
      ]
     },
     "execution_count": 40,
     "metadata": {},
     "output_type": "execute_result"
    }
   ],
   "source": [
    "X_train[:5]"
   ]
  },
  {
   "cell_type": "code",
   "execution_count": 41,
   "id": "adb4491a-5e20-45bd-85cf-12d34c127cd7",
   "metadata": {},
   "outputs": [
    {
     "name": "stderr",
     "output_type": "stream",
     "text": [
      "2021-11-20 21:15:10.006631: I tensorflow/stream_executor/cuda/cuda_gpu_executor.cc:939] successful NUMA node read from SysFS had negative value (-1), but there must be at least one NUMA node, so returning NUMA node zero\n",
      "2021-11-20 21:15:10.012548: I tensorflow/stream_executor/cuda/cuda_gpu_executor.cc:939] successful NUMA node read from SysFS had negative value (-1), but there must be at least one NUMA node, so returning NUMA node zero\n",
      "2021-11-20 21:15:10.013209: I tensorflow/stream_executor/cuda/cuda_gpu_executor.cc:939] successful NUMA node read from SysFS had negative value (-1), but there must be at least one NUMA node, so returning NUMA node zero\n",
      "2021-11-20 21:15:10.014276: I tensorflow/core/platform/cpu_feature_guard.cc:151] This TensorFlow binary is optimized with oneAPI Deep Neural Network Library (oneDNN) to use the following CPU instructions in performance-critical operations:  AVX2 FMA\n",
      "To enable them in other operations, rebuild TensorFlow with the appropriate compiler flags.\n",
      "2021-11-20 21:15:10.015160: I tensorflow/stream_executor/cuda/cuda_gpu_executor.cc:939] successful NUMA node read from SysFS had negative value (-1), but there must be at least one NUMA node, so returning NUMA node zero\n",
      "2021-11-20 21:15:10.015753: I tensorflow/stream_executor/cuda/cuda_gpu_executor.cc:939] successful NUMA node read from SysFS had negative value (-1), but there must be at least one NUMA node, so returning NUMA node zero\n",
      "2021-11-20 21:15:10.016285: I tensorflow/stream_executor/cuda/cuda_gpu_executor.cc:939] successful NUMA node read from SysFS had negative value (-1), but there must be at least one NUMA node, so returning NUMA node zero\n",
      "2021-11-20 21:15:10.443167: I tensorflow/stream_executor/cuda/cuda_gpu_executor.cc:939] successful NUMA node read from SysFS had negative value (-1), but there must be at least one NUMA node, so returning NUMA node zero\n",
      "2021-11-20 21:15:10.443569: I tensorflow/stream_executor/cuda/cuda_gpu_executor.cc:939] successful NUMA node read from SysFS had negative value (-1), but there must be at least one NUMA node, so returning NUMA node zero\n",
      "2021-11-20 21:15:10.443926: I tensorflow/stream_executor/cuda/cuda_gpu_executor.cc:939] successful NUMA node read from SysFS had negative value (-1), but there must be at least one NUMA node, so returning NUMA node zero\n",
      "2021-11-20 21:15:10.444246: I tensorflow/core/common_runtime/gpu/gpu_device.cc:1525] Created device /job:localhost/replica:0/task:0/device:GPU:0 with 4514 MB memory:  -> device: 0, name: NVIDIA GeForce RTX 3070 Ti, pci bus id: 0000:08:00.0, compute capability: 8.6\n"
     ]
    }
   ],
   "source": [
    "max_tokens = 5000\n",
    "encoder = tf.keras.layers.TextVectorization(max_tokens=max_tokens)\n",
    "encoder.adapt(X_train)\n",
    "\n",
    "vocab_size = len(encoder.get_vocabulary())"
   ]
  },
  {
   "cell_type": "code",
   "execution_count": 42,
   "id": "d5d74418-78b8-42d3-af49-3a4cb3ea9451",
   "metadata": {},
   "outputs": [
    {
     "name": "stdout",
     "output_type": "stream",
     "text": [
      "['' '[UNK]' 'the' 'covid' 'in' 'to' 'of' 'a' 'and' 'coronavirus' 'for'\n",
      " 'is' 'on' 'that' 's' 'with' 'from' 'has' 'are' 'cases']\n"
     ]
    }
   ],
   "source": [
    "vocab = np.array(encoder.get_vocabulary())\n",
    "print(vocab[:20]) # Sorted by frequency"
   ]
  },
  {
   "cell_type": "code",
   "execution_count": 43,
   "id": "c61b3069-45e7-4fe8-8f88-b8677048b326",
   "metadata": {},
   "outputs": [
    {
     "data": {
      "text/plain": [
       "array(['patrick jones a year old prisoner in louisiana who was serving a year prison term for a drug charge became the first federal inmate to die from covid ',\n",
       "       'watch this report to know how physiotherapists are changing the way they function in post covid world dr saif naqvi ',\n",
       "       'a year old youth who had travelled from delhi to chennai in a train tested positive for covid and is already in the isolation ward of rajiv gandhi government general hospital ',\n",
       "       ...,\n",
       "       'after spike in cases govt decided to quarantine patients at home while the decision is suitable for those living in houses which have multiple rooms it is not feasible for those residing in rooms in overcrowded slums ',\n",
       "       'the health and economic crisis triggered by the covid pandemic has compounded the fiscal woes of the kerala government ',\n",
       "       'the country on may registered a single day highest covid recovery so far of persons the rate being and the total number touched '],\n",
       "      dtype=object)"
      ]
     },
     "execution_count": 43,
     "metadata": {},
     "output_type": "execute_result"
    }
   ],
   "source": [
    "X_train"
   ]
  },
  {
   "cell_type": "code",
   "execution_count": 44,
   "id": "12b45e80-f155-47ea-9b13-dba4a48b7539",
   "metadata": {},
   "outputs": [
    {
     "name": "stdout",
     "output_type": "stream",
     "text": [
      "patrick jones a year old prisoner in louisiana who was serving a year prison term for a drug charge became the first federal inmate to die from covid \n",
      "[3500    1    7  136  153 2022    4 3652   26   34 1417    7  136 1269\n",
      " 1912   10    7  171 1828 1362    2  107 1054    1    5  356   16    3\n",
      "    0    0    0    0    0    0    0    0    0    0    0    0    0    0\n",
      "    0    0    0    0    0    0    0    0    0    0    0    0    0    0\n",
      "    0    0    0    0    0    0    0    0    0    0    0    0    0    0\n",
      "    0    0    0    0    0    0    0    0]\n",
      "Original: patrick jones a year old prisoner in louisiana who was serving a year prison term for a drug charge became the first federal inmate to die from covid \n",
      "Encoded-decoded: patrick [UNK] a year old prisoner in louisiana who was serving a year prison term for a drug charge became the first federal [UNK] to die from covid                                                  \n",
      "\n",
      "Original: watch this report to know how physiotherapists are changing the way they function in post covid world dr saif naqvi \n",
      "Encoded-decoded: watch this report to know how [UNK] are changing the way they function in post covid world dr [UNK] [UNK]                                                          \n",
      "\n",
      "Original: a year old youth who had travelled from delhi to chennai in a train tested positive for covid and is already in the isolation ward of rajiv gandhi government general hospital \n",
      "Encoded-decoded: a year old youth who had travelled from delhi to chennai in a train tested positive for covid and is already in the isolation ward of [UNK] gandhi government general hospital                                               \n",
      "\n",
      "Original: french minister of justice did not threaten to sue the french journalist and tv host jean pierre pernaut after he criticized the government because of its way to deal with the epidemic \n",
      "Encoded-decoded: french minister of justice did not threaten to sue the french journalist and tv host jean [UNK] [UNK] after he criticized the government because of its way to deal with the epidemic                                              \n",
      "\n",
      "Original: video of a burqa clad muslim woman being denied a food kit distributed to help people during the current crisis in india due to covid for being a muslim \n",
      "Encoded-decoded: video of a burqa clad muslim woman being denied a food kit distributed to help people during the current crisis in india due to covid for being a muslim                                                 \n",
      "\n"
     ]
    }
   ],
   "source": [
    "encoded_egs = encoder(X_train)[:5].numpy()\n",
    "print(X_train[0])\n",
    "print(encoded_egs[0])\n",
    "\n",
    "for i in range(5):\n",
    "    print(f\"Original: {X_train[i]}\")\n",
    "    print(f\"Encoded-decoded: {' '.join(vocab[encoded_egs[i]])}\\n\")"
   ]
  },
  {
   "cell_type": "code",
   "execution_count": null,
   "id": "79017892-ce4e-41c8-9588-ec8373e52f0e",
   "metadata": {},
   "outputs": [],
   "source": []
  },
  {
   "cell_type": "code",
   "execution_count": null,
   "id": "e2de1dbf-f4c3-4621-a45e-c98fb373e27f",
   "metadata": {},
   "outputs": [],
   "source": []
  },
  {
   "cell_type": "code",
   "execution_count": null,
   "id": "63690cc1-2fa9-4ac6-a33c-d66760a3a1b0",
   "metadata": {},
   "outputs": [],
   "source": []
  },
  {
   "cell_type": "code",
   "execution_count": 45,
   "id": "df9e4a28-9c7e-4a3e-ae57-8de6ac010410",
   "metadata": {},
   "outputs": [],
   "source": [
    "LSTM = tf.keras.Sequential([\n",
    "    encoder,\n",
    "    tf.keras.layers.Embedding(\n",
    "        input_dim=vocab_size,\n",
    "        output_dim=256,\n",
    "        mask_zero=True),\n",
    "    tf.keras.layers.Bidirectional(tf.keras.layers.LSTM(64)),\n",
    "    tf.keras.layers.Dense(128, activation=\"relu\"),\n",
    "    tf.keras.layers.Dropout(0),\n",
    "    tf.keras.layers.Dense(1)\n",
    "])"
   ]
  },
  {
   "cell_type": "code",
   "execution_count": 46,
   "id": "c71afbda-cffa-454f-8522-a8ebb16760a1",
   "metadata": {},
   "outputs": [
    {
     "data": {
      "text/plain": [
       "(5000,)"
      ]
     },
     "execution_count": 46,
     "metadata": {},
     "output_type": "execute_result"
    }
   ],
   "source": [
    "vocab.shape"
   ]
  },
  {
   "cell_type": "code",
   "execution_count": 47,
   "id": "0d8e57fc-6156-4ec8-add2-c340fa187856",
   "metadata": {},
   "outputs": [
    {
     "name": "stdout",
     "output_type": "stream",
     "text": [
      "Model: \"sequential\"\n",
      "_________________________________________________________________\n",
      " Layer (type)                Output Shape              Param #   \n",
      "=================================================================\n",
      " text_vectorization (TextVec  (None, None)             0         \n",
      " torization)                                                     \n",
      "                                                                 \n",
      " embedding (Embedding)       (None, None, 256)         1280000   \n",
      "                                                                 \n",
      " bidirectional (Bidirectiona  (None, 128)              164352    \n",
      " l)                                                              \n",
      "                                                                 \n",
      " dense (Dense)               (None, 128)               16512     \n",
      "                                                                 \n",
      " dropout (Dropout)           (None, 128)               0         \n",
      "                                                                 \n",
      " dense_1 (Dense)             (None, 1)                 129       \n",
      "                                                                 \n",
      "=================================================================\n",
      "Total params: 1,460,993\n",
      "Trainable params: 1,460,993\n",
      "Non-trainable params: 0\n",
      "_________________________________________________________________\n",
      "None\n"
     ]
    }
   ],
   "source": [
    "# LSTM.compile(loss=tf.keras.losses.BinaryCrossentropy(from_logits=True), \n",
    "#               optimizer=tf.keras.optimizers.Adam(0.0005),\n",
    "#               metrics=[\"accuracy\"])\n",
    "\n",
    "print(LSTM.summary())"
   ]
  },
  {
   "cell_type": "code",
   "execution_count": 48,
   "id": "bc7fd578-32ae-4c45-a34b-427fae8ae491",
   "metadata": {},
   "outputs": [
    {
     "data": {
      "text/plain": [
       "5000"
      ]
     },
     "execution_count": 48,
     "metadata": {},
     "output_type": "execute_result"
    }
   ],
   "source": [
    "vocab_size"
   ]
  },
  {
   "cell_type": "code",
   "execution_count": 49,
   "id": "b0390cbd-484b-4bf0-b4c8-a492fb55a764",
   "metadata": {
    "scrolled": true,
    "tags": []
   },
   "outputs": [
    {
     "name": "stdout",
     "output_type": "stream",
     "text": [
      "Epoch 1/10\n"
     ]
    },
    {
     "name": "stderr",
     "output_type": "stream",
     "text": [
      "2021-11-20 21:15:24.930407: I tensorflow/stream_executor/cuda/cuda_dnn.cc:366] Loaded cuDNN version 8204\n",
      "2021-11-20 21:15:25.731444: I tensorflow/stream_executor/cuda/cuda_blas.cc:1774] TensorFloat-32 will be used for the matrix multiplication. This will only be logged once.\n"
     ]
    },
    {
     "name": "stdout",
     "output_type": "stream",
     "text": [
      "67/67 [==============================] - 9s 39ms/step - loss: 0.6920 - accuracy: 0.5049 - val_loss: 0.6901 - val_accuracy: 0.4968\n",
      "Epoch 2/10\n",
      "67/67 [==============================] - 1s 12ms/step - loss: 0.6863 - accuracy: 0.5049 - val_loss: 0.6803 - val_accuracy: 0.4968\n",
      "Epoch 3/10\n",
      "67/67 [==============================] - 1s 12ms/step - loss: 0.6576 - accuracy: 0.5059 - val_loss: 0.6103 - val_accuracy: 0.5046\n",
      "Epoch 4/10\n",
      "67/67 [==============================] - 1s 13ms/step - loss: 0.4853 - accuracy: 0.6851 - val_loss: 0.4112 - val_accuracy: 0.8250\n",
      "Epoch 5/10\n",
      "67/67 [==============================] - 1s 13ms/step - loss: 0.3633 - accuracy: 0.8414 - val_loss: 0.3587 - val_accuracy: 0.8545\n",
      "Epoch 6/10\n",
      "67/67 [==============================] - 1s 14ms/step - loss: 0.2931 - accuracy: 0.8850 - val_loss: 0.3285 - val_accuracy: 0.8756\n",
      "Epoch 7/10\n",
      "67/67 [==============================] - 1s 13ms/step - loss: 0.2576 - accuracy: 0.9007 - val_loss: 0.3118 - val_accuracy: 0.8826\n",
      "Epoch 8/10\n",
      "67/67 [==============================] - 1s 14ms/step - loss: 0.2330 - accuracy: 0.9128 - val_loss: 0.2966 - val_accuracy: 0.8897\n",
      "Epoch 9/10\n",
      "67/67 [==============================] - 1s 13ms/step - loss: 0.2008 - accuracy: 0.9302 - val_loss: 0.2878 - val_accuracy: 0.8953\n",
      "Epoch 10/10\n",
      "67/67 [==============================] - 1s 14ms/step - loss: 0.1817 - accuracy: 0.9396 - val_loss: 0.2723 - val_accuracy: 0.9044\n",
      "Epoch 1/10\n",
      "67/67 [==============================] - 7s 35ms/step - loss: 0.6917 - accuracy: 0.5049 - val_loss: 0.6900 - val_accuracy: 0.4968\n",
      "Epoch 2/10\n",
      "67/67 [==============================] - 1s 12ms/step - loss: 0.6861 - accuracy: 0.5049 - val_loss: 0.6806 - val_accuracy: 0.4968\n",
      "Epoch 3/10\n",
      "67/67 [==============================] - 1s 13ms/step - loss: 0.6567 - accuracy: 0.5049 - val_loss: 0.6135 - val_accuracy: 0.4968\n",
      "Epoch 4/10\n",
      "67/67 [==============================] - 1s 12ms/step - loss: 0.5022 - accuracy: 0.6333 - val_loss: 0.4259 - val_accuracy: 0.8089\n",
      "Epoch 5/10\n",
      "67/67 [==============================] - 1s 11ms/step - loss: 0.3610 - accuracy: 0.8402 - val_loss: 0.4026 - val_accuracy: 0.8686\n",
      "Epoch 6/10\n",
      "67/67 [==============================] - 1s 12ms/step - loss: 0.3050 - accuracy: 0.8875 - val_loss: 0.3555 - val_accuracy: 0.8862\n",
      "Epoch 7/10\n",
      "67/67 [==============================] - 1s 12ms/step - loss: 0.2572 - accuracy: 0.8978 - val_loss: 0.3291 - val_accuracy: 0.8918\n",
      "Epoch 8/10\n",
      "67/67 [==============================] - 1s 12ms/step - loss: 0.2227 - accuracy: 0.9171 - val_loss: 0.3194 - val_accuracy: 0.9009\n",
      "Epoch 9/10\n",
      "67/67 [==============================] - 1s 12ms/step - loss: 0.1995 - accuracy: 0.9328 - val_loss: 0.3253 - val_accuracy: 0.9072\n",
      "Epoch 10/10\n",
      "67/67 [==============================] - 1s 12ms/step - loss: 0.1842 - accuracy: 0.9353 - val_loss: 0.3249 - val_accuracy: 0.9086\n",
      "Epoch 1/10\n",
      "67/67 [==============================] - 7s 43ms/step - loss: 0.6926 - accuracy: 0.5049 - val_loss: 0.6912 - val_accuracy: 0.4968\n",
      "Epoch 2/10\n",
      "67/67 [==============================] - 1s 13ms/step - loss: 0.6885 - accuracy: 0.5049 - val_loss: 0.6839 - val_accuracy: 0.4968\n",
      "Epoch 3/10\n",
      "67/67 [==============================] - 1s 13ms/step - loss: 0.6636 - accuracy: 0.5049 - val_loss: 0.6217 - val_accuracy: 0.4982\n",
      "Epoch 4/10\n",
      "67/67 [==============================] - 1s 13ms/step - loss: 0.5290 - accuracy: 0.6448 - val_loss: 0.4558 - val_accuracy: 0.8011\n",
      "Epoch 5/10\n",
      "67/67 [==============================] - 1s 11ms/step - loss: 0.3836 - accuracy: 0.8299 - val_loss: 0.3575 - val_accuracy: 0.8714\n",
      "Epoch 6/10\n",
      "67/67 [==============================] - 1s 11ms/step - loss: 0.3094 - accuracy: 0.8838 - val_loss: 0.3281 - val_accuracy: 0.8904\n",
      "Epoch 7/10\n",
      "67/67 [==============================] - 1s 12ms/step - loss: 0.2603 - accuracy: 0.9058 - val_loss: 0.3013 - val_accuracy: 0.8967\n",
      "Epoch 8/10\n",
      "67/67 [==============================] - 1s 12ms/step - loss: 0.2339 - accuracy: 0.9187 - val_loss: 0.2890 - val_accuracy: 0.9086\n",
      "Epoch 9/10\n",
      "67/67 [==============================] - 1s 11ms/step - loss: 0.1944 - accuracy: 0.9323 - val_loss: 0.2812 - val_accuracy: 0.9079\n",
      "Epoch 10/10\n",
      "67/67 [==============================] - 1s 12ms/step - loss: 0.1719 - accuracy: 0.9393 - val_loss: 0.2818 - val_accuracy: 0.9100\n",
      "Epoch 1/10\n",
      "67/67 [==============================] - 8s 35ms/step - loss: 0.6925 - accuracy: 0.5049 - val_loss: 0.6915 - val_accuracy: 0.4968\n",
      "Epoch 2/10\n",
      "67/67 [==============================] - 1s 13ms/step - loss: 0.6891 - accuracy: 0.5049 - val_loss: 0.6857 - val_accuracy: 0.4968\n",
      "Epoch 3/10\n",
      "67/67 [==============================] - 1s 12ms/step - loss: 0.6685 - accuracy: 0.5049 - val_loss: 0.6236 - val_accuracy: 0.4989\n",
      "Epoch 4/10\n",
      "67/67 [==============================] - 1s 11ms/step - loss: 0.5252 - accuracy: 0.6045 - val_loss: 0.4658 - val_accuracy: 0.7238\n",
      "Epoch 5/10\n",
      "67/67 [==============================] - 1s 12ms/step - loss: 0.3747 - accuracy: 0.8297 - val_loss: 0.3630 - val_accuracy: 0.8623\n",
      "Epoch 6/10\n",
      "67/67 [==============================] - 1s 13ms/step - loss: 0.3031 - accuracy: 0.8852 - val_loss: 0.3322 - val_accuracy: 0.8812\n",
      "Epoch 7/10\n",
      "67/67 [==============================] - 1s 12ms/step - loss: 0.2616 - accuracy: 0.9053 - val_loss: 0.3400 - val_accuracy: 0.8798\n",
      "Epoch 8/10\n",
      "67/67 [==============================] - 1s 12ms/step - loss: 0.2291 - accuracy: 0.9157 - val_loss: 0.2957 - val_accuracy: 0.8946\n",
      "Epoch 9/10\n",
      "67/67 [==============================] - 1s 13ms/step - loss: 0.2045 - accuracy: 0.9267 - val_loss: 0.2910 - val_accuracy: 0.8967\n",
      "Epoch 10/10\n",
      "67/67 [==============================] - 1s 13ms/step - loss: 0.1844 - accuracy: 0.9316 - val_loss: 0.3080 - val_accuracy: 0.8953\n",
      "Epoch 1/10\n",
      "67/67 [==============================] - 7s 34ms/step - loss: 0.6921 - accuracy: 0.5049 - val_loss: 0.6908 - val_accuracy: 0.4968\n",
      "Epoch 2/10\n",
      "67/67 [==============================] - 1s 13ms/step - loss: 0.6882 - accuracy: 0.5049 - val_loss: 0.6839 - val_accuracy: 0.4968\n",
      "Epoch 3/10\n",
      "67/67 [==============================] - 1s 13ms/step - loss: 0.6683 - accuracy: 0.5049 - val_loss: 0.6391 - val_accuracy: 0.4968\n",
      "Epoch 4/10\n",
      "67/67 [==============================] - 1s 13ms/step - loss: 0.5061 - accuracy: 0.6481 - val_loss: 0.4133 - val_accuracy: 0.8067\n",
      "Epoch 5/10\n",
      "67/67 [==============================] - 1s 12ms/step - loss: 0.3546 - accuracy: 0.8529 - val_loss: 0.3597 - val_accuracy: 0.8693\n",
      "Epoch 6/10\n",
      "67/67 [==============================] - 1s 12ms/step - loss: 0.3107 - accuracy: 0.8885 - val_loss: 0.3171 - val_accuracy: 0.8777\n",
      "Epoch 7/10\n",
      "67/67 [==============================] - 1s 12ms/step - loss: 0.2679 - accuracy: 0.9060 - val_loss: 0.3062 - val_accuracy: 0.8883\n",
      "Epoch 8/10\n",
      "67/67 [==============================] - 1s 11ms/step - loss: 0.2285 - accuracy: 0.9173 - val_loss: 0.3022 - val_accuracy: 0.8939\n",
      "Epoch 9/10\n",
      "67/67 [==============================] - 1s 12ms/step - loss: 0.2148 - accuracy: 0.9253 - val_loss: 0.2741 - val_accuracy: 0.8981\n",
      "Epoch 10/10\n",
      "67/67 [==============================] - 1s 12ms/step - loss: 0.1877 - accuracy: 0.9323 - val_loss: 0.2825 - val_accuracy: 0.9030\n",
      "Epoch 1/10\n",
      "67/67 [==============================] - 8s 52ms/step - loss: 0.6923 - accuracy: 0.5049 - val_loss: 0.6907 - val_accuracy: 0.4968\n",
      "Epoch 2/10\n",
      "67/67 [==============================] - 1s 13ms/step - loss: 0.6883 - accuracy: 0.5049 - val_loss: 0.6834 - val_accuracy: 0.4968\n",
      "Epoch 3/10\n",
      "67/67 [==============================] - 1s 13ms/step - loss: 0.6698 - accuracy: 0.5049 - val_loss: 0.6422 - val_accuracy: 0.4968\n",
      "Epoch 4/10\n",
      "67/67 [==============================] - 1s 14ms/step - loss: 0.5286 - accuracy: 0.6671 - val_loss: 0.4409 - val_accuracy: 0.7829\n",
      "Epoch 5/10\n",
      "67/67 [==============================] - 1s 13ms/step - loss: 0.3782 - accuracy: 0.8454 - val_loss: 0.3583 - val_accuracy: 0.8538\n",
      "Epoch 6/10\n",
      "67/67 [==============================] - 1s 14ms/step - loss: 0.3033 - accuracy: 0.8892 - val_loss: 0.3222 - val_accuracy: 0.8770\n",
      "Epoch 7/10\n",
      "67/67 [==============================] - 1s 14ms/step - loss: 0.2719 - accuracy: 0.9060 - val_loss: 0.3003 - val_accuracy: 0.8826\n",
      "Epoch 8/10\n",
      "67/67 [==============================] - 1s 13ms/step - loss: 0.2396 - accuracy: 0.9131 - val_loss: 0.2852 - val_accuracy: 0.8918\n",
      "Epoch 9/10\n",
      "67/67 [==============================] - 1s 14ms/step - loss: 0.2025 - accuracy: 0.9330 - val_loss: 0.2813 - val_accuracy: 0.8960\n",
      "Epoch 10/10\n",
      "67/67 [==============================] - 1s 14ms/step - loss: 0.1858 - accuracy: 0.9337 - val_loss: 0.2730 - val_accuracy: 0.9023\n",
      "Epoch 1/10\n",
      "67/67 [==============================] - 9s 42ms/step - loss: 0.6927 - accuracy: 0.5049 - val_loss: 0.6921 - val_accuracy: 0.4968\n",
      "Epoch 2/10\n",
      "67/67 [==============================] - 1s 16ms/step - loss: 0.6899 - accuracy: 0.5049 - val_loss: 0.6882 - val_accuracy: 0.4968\n",
      "Epoch 3/10\n",
      "67/67 [==============================] - 1s 15ms/step - loss: 0.6773 - accuracy: 0.5049 - val_loss: 0.6586 - val_accuracy: 0.4968\n",
      "Epoch 4/10\n",
      "67/67 [==============================] - 1s 14ms/step - loss: 0.5739 - accuracy: 0.5340 - val_loss: 0.4892 - val_accuracy: 0.6346\n",
      "Epoch 5/10\n",
      "67/67 [==============================] - 1s 14ms/step - loss: 0.4095 - accuracy: 0.7704 - val_loss: 0.3869 - val_accuracy: 0.8313\n",
      "Epoch 6/10\n",
      "67/67 [==============================] - 1s 15ms/step - loss: 0.3250 - accuracy: 0.8632 - val_loss: 0.3522 - val_accuracy: 0.8770\n",
      "Epoch 7/10\n",
      "67/67 [==============================] - 1s 15ms/step - loss: 0.2888 - accuracy: 0.8908 - val_loss: 0.3315 - val_accuracy: 0.8855\n",
      "Epoch 8/10\n",
      "67/67 [==============================] - 1s 14ms/step - loss: 0.2455 - accuracy: 0.9135 - val_loss: 0.3211 - val_accuracy: 0.8918\n",
      "Epoch 9/10\n",
      "67/67 [==============================] - 1s 14ms/step - loss: 0.2245 - accuracy: 0.9192 - val_loss: 0.3133 - val_accuracy: 0.8932\n",
      "Epoch 10/10\n",
      "67/67 [==============================] - 1s 15ms/step - loss: 0.2049 - accuracy: 0.9304 - val_loss: 0.3037 - val_accuracy: 0.8967\n",
      "Epoch 1/10\n",
      "67/67 [==============================] - 9s 39ms/step - loss: 0.6918 - accuracy: 0.5049 - val_loss: 0.6899 - val_accuracy: 0.4968\n",
      "Epoch 2/10\n",
      "67/67 [==============================] - 1s 14ms/step - loss: 0.6852 - accuracy: 0.5049 - val_loss: 0.6770 - val_accuracy: 0.4968\n",
      "Epoch 3/10\n",
      "67/67 [==============================] - 1s 13ms/step - loss: 0.6402 - accuracy: 0.5127 - val_loss: 0.5540 - val_accuracy: 0.5699\n",
      "Epoch 4/10\n",
      "67/67 [==============================] - 1s 14ms/step - loss: 0.4558 - accuracy: 0.7453 - val_loss: 0.3984 - val_accuracy: 0.8447\n",
      "Epoch 5/10\n",
      "67/67 [==============================] - 1s 15ms/step - loss: 0.3515 - accuracy: 0.8550 - val_loss: 0.3512 - val_accuracy: 0.8679\n",
      "Epoch 6/10\n",
      "67/67 [==============================] - 1s 14ms/step - loss: 0.2929 - accuracy: 0.8882 - val_loss: 0.3288 - val_accuracy: 0.8784\n",
      "Epoch 7/10\n",
      "67/67 [==============================] - 1s 15ms/step - loss: 0.2604 - accuracy: 0.9067 - val_loss: 0.3025 - val_accuracy: 0.8988\n",
      "Epoch 8/10\n",
      "67/67 [==============================] - 1s 15ms/step - loss: 0.2230 - accuracy: 0.9161 - val_loss: 0.2982 - val_accuracy: 0.9058\n",
      "Epoch 9/10\n",
      "67/67 [==============================] - 1s 14ms/step - loss: 0.1967 - accuracy: 0.9304 - val_loss: 0.2888 - val_accuracy: 0.9115\n",
      "Epoch 10/10\n",
      "67/67 [==============================] - 1s 14ms/step - loss: 0.1691 - accuracy: 0.9370 - val_loss: 0.2918 - val_accuracy: 0.9072\n",
      "Epoch 1/10\n",
      "67/67 [==============================] - 8s 40ms/step - loss: 0.6921 - accuracy: 0.5049 - val_loss: 0.6902 - val_accuracy: 0.4968\n",
      "Epoch 2/10\n",
      "67/67 [==============================] - 1s 15ms/step - loss: 0.6872 - accuracy: 0.5049 - val_loss: 0.6813 - val_accuracy: 0.4968\n",
      "Epoch 3/10\n",
      "67/67 [==============================] - 1s 15ms/step - loss: 0.6559 - accuracy: 0.5119 - val_loss: 0.5871 - val_accuracy: 0.5678\n",
      "Epoch 4/10\n",
      "67/67 [==============================] - 1s 14ms/step - loss: 0.4972 - accuracy: 0.7423 - val_loss: 0.4183 - val_accuracy: 0.8349\n",
      "Epoch 5/10\n",
      "67/67 [==============================] - 1s 14ms/step - loss: 0.3620 - accuracy: 0.8669 - val_loss: 0.3317 - val_accuracy: 0.8946\n",
      "Epoch 6/10\n",
      "67/67 [==============================] - 1s 13ms/step - loss: 0.2862 - accuracy: 0.8934 - val_loss: 0.3087 - val_accuracy: 0.8890\n",
      "Epoch 7/10\n",
      "67/67 [==============================] - 1s 14ms/step - loss: 0.2598 - accuracy: 0.9110 - val_loss: 0.2871 - val_accuracy: 0.9065\n",
      "Epoch 8/10\n",
      "67/67 [==============================] - 1s 14ms/step - loss: 0.2313 - accuracy: 0.9178 - val_loss: 0.2743 - val_accuracy: 0.9044\n",
      "Epoch 9/10\n",
      "67/67 [==============================] - 1s 14ms/step - loss: 0.2078 - accuracy: 0.9292 - val_loss: 0.2606 - val_accuracy: 0.9122\n",
      "Epoch 10/10\n",
      "67/67 [==============================] - 1s 15ms/step - loss: 0.1860 - accuracy: 0.9349 - val_loss: 0.2542 - val_accuracy: 0.9150\n",
      "Epoch 1/10\n",
      "67/67 [==============================] - 9s 40ms/step - loss: 0.6928 - accuracy: 0.5049 - val_loss: 0.6914 - val_accuracy: 0.4968\n",
      "Epoch 2/10\n",
      "67/67 [==============================] - 1s 15ms/step - loss: 0.6898 - accuracy: 0.5049 - val_loss: 0.6869 - val_accuracy: 0.4968\n",
      "Epoch 3/10\n",
      "67/67 [==============================] - 1s 15ms/step - loss: 0.6787 - accuracy: 0.5049 - val_loss: 0.6622 - val_accuracy: 0.4968\n",
      "Epoch 4/10\n",
      "67/67 [==============================] - 1s 16ms/step - loss: 0.5826 - accuracy: 0.5574 - val_loss: 0.4880 - val_accuracy: 0.7309\n",
      "Epoch 5/10\n",
      "67/67 [==============================] - 1s 14ms/step - loss: 0.4168 - accuracy: 0.7957 - val_loss: 0.3804 - val_accuracy: 0.8447\n",
      "Epoch 6/10\n",
      "67/67 [==============================] - 1s 13ms/step - loss: 0.3350 - accuracy: 0.8683 - val_loss: 0.3473 - val_accuracy: 0.8651\n",
      "Epoch 7/10\n",
      "67/67 [==============================] - 1s 14ms/step - loss: 0.2750 - accuracy: 0.9014 - val_loss: 0.3093 - val_accuracy: 0.8883\n",
      "Epoch 8/10\n",
      "67/67 [==============================] - 1s 14ms/step - loss: 0.2403 - accuracy: 0.9185 - val_loss: 0.2882 - val_accuracy: 0.8953\n",
      "Epoch 9/10\n",
      "67/67 [==============================] - 1s 14ms/step - loss: 0.2101 - accuracy: 0.9276 - val_loss: 0.2838 - val_accuracy: 0.9016\n",
      "Epoch 10/10\n",
      "67/67 [==============================] - 1s 14ms/step - loss: 0.1889 - accuracy: 0.9339 - val_loss: 0.2793 - val_accuracy: 0.9023\n"
     ]
    }
   ],
   "source": [
    "# Train multiple times and average out results\n",
    "\n",
    "accuracies = []\n",
    "precisions = []\n",
    "recalls = []\n",
    "f1s = []\n",
    "\n",
    "\n",
    "runs = 10\n",
    "\n",
    "max_tokens = None\n",
    "encoder = tf.keras.layers.TextVectorization(max_tokens=max_tokens)\n",
    "encoder.adapt(X_train)\n",
    "vocab_size = len(encoder.get_vocabulary())\n",
    "for i in range(runs):\n",
    "    LSTM = tf.keras.Sequential([\n",
    "        encoder,\n",
    "        tf.keras.layers.Embedding(\n",
    "            input_dim=vocab_size,\n",
    "            output_dim=32,\n",
    "            mask_zero=True),\n",
    "        tf.keras.layers.Dropout(0.5),\n",
    "        tf.keras.layers.Bidirectional(tf.keras.layers.LSTM(64)),\n",
    "        tf.keras.layers.Dense(64, activation=\"relu\"),\n",
    "        tf.keras.layers.Dropout(0.5),\n",
    "        tf.keras.layers.Dense(1)\n",
    "    ])\n",
    "    LSTM.compile(loss=tf.keras.losses.BinaryCrossentropy(from_logits=True), \n",
    "              optimizer=tf.keras.optimizers.Adam(1e-4),\n",
    "              metrics=[\"accuracy\"])\n",
    "    history = LSTM.fit(X_train, y_train, validation_data=(X_val, y_val), epochs=10, batch_size=64)\n",
    "    y_pred = np.around(tf.math.sigmoid(LSTM.predict(X_test))).flatten()\n",
    "    \n",
    "    accuracies.append(accuracy_score(y_test, y_pred))\n",
    "    precisions.append(precision_score(y_test, y_pred))\n",
    "    recalls.append(recall_score(y_test, y_pred))\n",
    "    f1s.append(f1_score(y_test, y_pred))"
   ]
  },
  {
   "cell_type": "code",
   "execution_count": 52,
   "id": "d7487ab1-e084-4e2b-87d5-d38c76c9438d",
   "metadata": {},
   "outputs": [
    {
     "name": "stdout",
     "output_type": "stream",
     "text": [
      "Test Accuracy: 0.9032683183974697\n",
      "Test Precision: 0.9163751519131755\n",
      "Test Recall: 0.8925465838509317\n",
      "Test F1 Score: 0.9038402298623336\n"
     ]
    }
   ],
   "source": [
    "print(f\"Test Accuracy: {np.array(accuracies).sum()/runs}\")\n",
    "print(f\"Test Precision: {np.array(precisions).sum()/runs}\")\n",
    "print(f\"Test Recall: {np.array(recalls).sum()/runs}\")\n",
    "print(f\"Test F1 Score: {np.array(f1s).sum()/runs}\")\n",
    "# print(f\"Test Precision: {precisions/runs}\")\n",
    "# print(f\"Test Recall: {recall_score(y_test, y_pred)}\")\n",
    "# print(f\"Test f1 Score: {f1_score(y_test, y_pred)}\")\n",
    "# print(f\"Test roc auc score: {roc_auc_score(y_test, y_pred)}\")"
   ]
  },
  {
   "cell_type": "code",
   "execution_count": 53,
   "id": "d593b125-5d4a-402e-9393-54b3b0a7daea",
   "metadata": {},
   "outputs": [
    {
     "data": {
      "text/plain": [
       "[0.9093782929399368,\n",
       " 0.8994551758296185,\n",
       " 0.9019812304483839,\n",
       " 0.9029810298102982,\n",
       " 0.8998935037273695,\n",
       " 0.9021852237252862,\n",
       " 0.9066390041493776,\n",
       " 0.9034300791556727,\n",
       " 0.9094736842105263,\n",
       " 0.9029850746268656]"
      ]
     },
     "execution_count": 53,
     "metadata": {},
     "output_type": "execute_result"
    }
   ],
   "source": [
    "f1s"
   ]
  },
  {
   "cell_type": "code",
   "execution_count": 63,
   "id": "570f53fc-e287-4885-9851-1397eb466238",
   "metadata": {},
   "outputs": [],
   "source": [
    "y_pred = np.around(tf.math.sigmoid(LSTM.predict(X_test))).flatten()"
   ]
  },
  {
   "cell_type": "code",
   "execution_count": 39,
   "id": "71f8e348-9b18-4c4f-93c2-4fbede87b1a9",
   "metadata": {},
   "outputs": [
    {
     "data": {
      "text/plain": [
       "array([1., 1., 0., ..., 1., 1., 1.], dtype=float32)"
      ]
     },
     "execution_count": 39,
     "metadata": {},
     "output_type": "execute_result"
    }
   ],
   "source": [
    "y_pred"
   ]
  },
  {
   "cell_type": "code",
   "execution_count": 40,
   "id": "88c58f9b-5f2c-4287-a378-6423395e5975",
   "metadata": {},
   "outputs": [
    {
     "name": "stdout",
     "output_type": "stream",
     "text": [
      "Test Accuracy: 0.8977332630469161\n",
      "Test Precision: 0.9055201698513801\n",
      "Test Recall: 0.8903966597077244\n",
      "Test f1 Score: 0.8978947368421053\n",
      "Test roc auc score: 0.8978074885333084\n"
     ]
    }
   ],
   "source": [
    "print(f\"Test Accuracy: {accuracy_score(y_test, y_pred)}\")\n",
    "print(f\"Test Precision: {precision_score(y_test, y_pred)}\")\n",
    "print(f\"Test Recall: {recall_score(y_test, y_pred)}\")\n",
    "print(f\"Test f1 Score: {f1_score(y_test, y_pred)}\")\n",
    "print(f\"Test roc auc score: {roc_auc_score(y_test, y_pred)}\")"
   ]
  },
  {
   "cell_type": "code",
   "execution_count": 217,
   "id": "a9804106-689f-4aa9-8387-470fd1b633a5",
   "metadata": {},
   "outputs": [
    {
     "data": {
      "image/png": "[encoded data removed]",
      "text/plain": [
       "<Figure size 432x288 with 1 Axes>"
      ]
     },
     "metadata": {
      "needs_background": "light"
     },
     "output_type": "display_data"
    },
    {
     "data": {
      "image/png": "[encoded data removed]",
      "text/plain": [
       "<Figure size 432x288 with 1 Axes>"
      ]
     },
     "metadata": {
      "needs_background": "light"
     },
     "output_type": "display_data"
    }
   ],
   "source": [
    "# summarize history for accuracy\n",
    "plt.plot(history.history['accuracy'])\n",
    "plt.plot(history.history['val_accuracy'])\n",
    "plt.title('model accuracy')\n",
    "plt.ylabel('accuracy')\n",
    "plt.xlabel('epoch')\n",
    "plt.legend(['train', 'val'], loc='upper left')\n",
    "plt.show()\n",
    "# summarize history for loss\n",
    "plt.plot(history.history['loss'])\n",
    "plt.plot(history.history['val_loss'])\n",
    "plt.title('model loss')\n",
    "plt.ylabel('loss')\n",
    "plt.xlabel('epoch')\n",
    "plt.legend(['train', 'val'], loc='upper left')\n",
    "plt.show()"
   ]
  },
  {
   "cell_type": "code",
   "execution_count": 27,
   "id": "97c04023-c55c-4581-863b-a3eea17aa50e",
   "metadata": {},
   "outputs": [
    {
     "name": "stderr",
     "output_type": "stream",
     "text": [
      "\u001b[34m\u001b[1mwandb\u001b[0m: Currently logged in as: \u001b[33mtripleblackcat\u001b[0m (use `wandb login --relogin` to force relogin)\n"
     ]
    },
    {
     "data": {
      "text/html": [
       "\n",
       "                    Syncing run <strong><a href=\"https://wandb.ai/tripleblackcat/my-test-project/runs/2jtxxf08\" target=\"_blank\">trim-deluge-6</a></strong> to <a href=\"https://wandb.ai/tripleblackcat/my-test-project\" target=\"_blank\">Weights & Biases</a> (<a href=\"https://docs.wandb.com/integrations/jupyter.html\" target=\"_blank\">docs</a>).<br/>\n",
       "\n",
       "                "
      ],
      "text/plain": [
       "<IPython.core.display.HTML object>"
      ]
     },
     "metadata": {},
     "output_type": "display_data"
    },
    {
     "data": {
      "text/html": [
       "<button onClick=\"this.nextSibling.style.display='block';this.style.display='none';\">Display W&B run</button><iframe src=\"https://wandb.ai/tripleblackcat/my-test-project/runs/2jtxxf08?jupyter=true\" style=\"border:none;width:100%;height:420px;display:none;\"></iframe>"
      ],
      "text/plain": [
       "<wandb.sdk.wandb_run.Run at 0x7fd716bfc1c0>"
      ]
     },
     "execution_count": 27,
     "metadata": {},
     "output_type": "execute_result"
    }
   ],
   "source": [
    "import wandb\n",
    "from wandb.keras import WandbCallback\n",
    "\n",
    "wandb.init(project=\"my-test-project\", entity=\"tripleblackcat\")"
   ]
  },
  {
   "cell_type": "code",
   "execution_count": 28,
   "id": "dec982e4-5409-4507-91db-adfdb3e4d4c5",
   "metadata": {},
   "outputs": [
    {
     "name": "stderr",
     "output_type": "stream",
     "text": [
      "\u001b[34m\u001b[1mwandb\u001b[0m: \u001b[33mWARNING\u001b[0m Calling wandb.login() after wandb.init() has no effect.\n",
      "\u001b[34m\u001b[1mwandb\u001b[0m: \u001b[33mWARNING\u001b[0m Calling wandb.login() after wandb.init() has no effect.\n"
     ]
    },
    {
     "name": "stdout",
     "output_type": "stream",
     "text": [
      "Create sweep with ID: aoizs7rc\n",
      "Sweep URL: https://wandb.ai/tripleblackcat/uncategorized/sweeps/aoizs7rc\n"
     ]
    },
    {
     "name": "stderr",
     "output_type": "stream",
     "text": [
      "\u001b[34m\u001b[1mwandb\u001b[0m: Agent Starting Run: suf7xv23 with config:\n",
      "\u001b[34m\u001b[1mwandb\u001b[0m: \tbatch_size: 64\n",
      "\u001b[34m\u001b[1mwandb\u001b[0m: \tdropout: 0\n",
      "\u001b[34m\u001b[1mwandb\u001b[0m: \tembedding_dim: 64\n",
      "\u001b[34m\u001b[1mwandb\u001b[0m: \tepochs: 40\n",
      "\u001b[34m\u001b[1mwandb\u001b[0m: \tff_size: 64\n",
      "\u001b[34m\u001b[1mwandb\u001b[0m: \tlr: 0.0001\n",
      "\u001b[34m\u001b[1mwandb\u001b[0m: \tlstm_units: 64\n",
      "\u001b[34m\u001b[1mwandb\u001b[0m: \tmax_tokens: 5000\n"
     ]
    },
    {
     "data": {
      "text/html": [
       "\n",
       "                    Syncing run <strong><a href=\"https://wandb.ai/tripleblackcat/uncategorized/runs/suf7xv23\" target=\"_blank\">expert-sweep-1</a></strong> to <a href=\"https://wandb.ai/tripleblackcat/uncategorized\" target=\"_blank\">Weights & Biases</a> (<a href=\"https://docs.wandb.com/integrations/jupyter.html\" target=\"_blank\">docs</a>).<br/>\n",
       "Sweep page: <a href=\"https://wandb.ai/tripleblackcat/uncategorized/sweeps/aoizs7rc\" target=\"_blank\">https://wandb.ai/tripleblackcat/uncategorized/sweeps/aoizs7rc</a><br/>\n",
       "\n",
       "                "
      ],
      "text/plain": [
       "<IPython.core.display.HTML object>"
      ]
     },
     "metadata": {},
     "output_type": "display_data"
    },
    {
     "name": "stdout",
     "output_type": "stream",
     "text": [
      "Epoch 1/40\n"
     ]
    },
    {
     "name": "stderr",
     "output_type": "stream",
     "text": [
      "2021-11-20 17:04:30.640336: I tensorflow/stream_executor/cuda/cuda_dnn.cc:366] Loaded cuDNN version 8204\n",
      "2021-11-20 17:04:31.467628: I tensorflow/stream_executor/cuda/cuda_blas.cc:1774] TensorFloat-32 will be used for the matrix multiplication. This will only be logged once.\n"
     ]
    },
    {
     "name": "stdout",
     "output_type": "stream",
     "text": [
      "132/134 [============================>.] - ETA: 0s - loss: 0.6858 - accuracy: 0.5050"
     ]
    },
    {
     "name": "stderr",
     "output_type": "stream",
     "text": [
      "\u001b[34m\u001b[1mwandb\u001b[0m: \u001b[32m\u001b[41mERROR\u001b[0m Can't save model, h5py returned error: Save or restore weights that is not an instance of `tf.Variable` is not supported in h5, use `save_format='tf'` instead. Received a model or layer TextVectorization with weights [<keras.layers.preprocessing.index_lookup.VocabWeightHandler object at 0x7fd712b73250>]\n"
     ]
    },
    {
     "name": "stdout",
     "output_type": "stream",
     "text": [
      "134/134 [==============================] - 10s 22ms/step - loss: 0.6855 - accuracy: 0.5056 - val_loss: 0.6623 - val_accuracy: 0.4891\n",
      "Epoch 2/40\n",
      "134/134 [==============================] - 1s 11ms/step - loss: 0.4682 - accuracy: 0.7078 - val_loss: 0.3088 - val_accuracy: 0.8798\n",
      "Epoch 3/40\n",
      "134/134 [==============================] - 2s 12ms/step - loss: 0.2381 - accuracy: 0.9124 - val_loss: 0.2758 - val_accuracy: 0.9072\n",
      "Epoch 4/40\n",
      "134/134 [==============================] - 1s 11ms/step - loss: 0.1679 - accuracy: 0.9372 - val_loss: 0.2542 - val_accuracy: 0.9065\n",
      "Epoch 5/40\n",
      "134/134 [==============================] - 2s 12ms/step - loss: 0.1264 - accuracy: 0.9529 - val_loss: 0.2692 - val_accuracy: 0.9129\n",
      "Epoch 6/40\n",
      "134/134 [==============================] - 2s 12ms/step - loss: 0.0948 - accuracy: 0.9667 - val_loss: 0.2638 - val_accuracy: 0.9108\n",
      "Epoch 7/40\n",
      "134/134 [==============================] - 2s 12ms/step - loss: 0.0721 - accuracy: 0.9749 - val_loss: 0.2859 - val_accuracy: 0.9072\n",
      "Epoch 8/40\n",
      "134/134 [==============================] - 2s 12ms/step - loss: 0.0572 - accuracy: 0.9813 - val_loss: 0.2908 - val_accuracy: 0.9086\n",
      "Epoch 9/40\n",
      "134/134 [==============================] - 2s 12ms/step - loss: 0.0445 - accuracy: 0.9857 - val_loss: 0.3259 - val_accuracy: 0.9129\n",
      "Epoch 10/40\n",
      "134/134 [==============================] - 2s 11ms/step - loss: 0.0425 - accuracy: 0.9873 - val_loss: 0.3130 - val_accuracy: 0.9093\n",
      "Epoch 11/40\n",
      "134/134 [==============================] - 2s 12ms/step - loss: 0.0332 - accuracy: 0.9913 - val_loss: 0.5429 - val_accuracy: 0.8967\n",
      "Epoch 12/40\n",
      "134/134 [==============================] - 2s 12ms/step - loss: 0.0344 - accuracy: 0.9899 - val_loss: 0.3970 - val_accuracy: 0.9171\n",
      "Epoch 13/40\n",
      "134/134 [==============================] - 1s 10ms/step - loss: 0.0219 - accuracy: 0.9937 - val_loss: 0.3526 - val_accuracy: 0.9178\n",
      "Epoch 14/40\n",
      "134/134 [==============================] - 2s 12ms/step - loss: 0.0156 - accuracy: 0.9967 - val_loss: 0.4053 - val_accuracy: 0.9150\n",
      "Epoch 15/40\n",
      "134/134 [==============================] - 2s 12ms/step - loss: 0.0132 - accuracy: 0.9977 - val_loss: 0.4204 - val_accuracy: 0.9164\n",
      "Epoch 16/40\n",
      "134/134 [==============================] - 2s 12ms/step - loss: 0.0109 - accuracy: 0.9981 - val_loss: 0.3976 - val_accuracy: 0.9157\n",
      "Epoch 17/40\n",
      "134/134 [==============================] - 2s 12ms/step - loss: 0.0094 - accuracy: 0.9986 - val_loss: 0.4512 - val_accuracy: 0.9150\n",
      "Epoch 18/40\n",
      "134/134 [==============================] - 1s 10ms/step - loss: 0.0073 - accuracy: 0.9988 - val_loss: 0.4588 - val_accuracy: 0.9115\n",
      "Epoch 19/40\n",
      "134/134 [==============================] - 1s 11ms/step - loss: 0.0064 - accuracy: 0.9988 - val_loss: 0.4785 - val_accuracy: 0.9086\n",
      "Epoch 20/40\n",
      "134/134 [==============================] - 2s 12ms/step - loss: 0.0055 - accuracy: 0.9991 - val_loss: 0.4941 - val_accuracy: 0.9150\n",
      "Epoch 21/40\n",
      "134/134 [==============================] - 2s 12ms/step - loss: 0.0047 - accuracy: 0.9991 - val_loss: 0.5180 - val_accuracy: 0.9115\n",
      "Epoch 22/40\n",
      "134/134 [==============================] - 1s 11ms/step - loss: 0.0042 - accuracy: 0.9993 - val_loss: 0.5358 - val_accuracy: 0.9115\n",
      "Epoch 23/40\n",
      "134/134 [==============================] - 2s 11ms/step - loss: 0.0037 - accuracy: 0.9993 - val_loss: 0.5536 - val_accuracy: 0.9157\n",
      "Epoch 24/40\n",
      "134/134 [==============================] - 2s 11ms/step - loss: 0.0034 - accuracy: 0.9993 - val_loss: 0.5661 - val_accuracy: 0.9150\n",
      "Epoch 25/40\n",
      "134/134 [==============================] - 2s 12ms/step - loss: 0.0165 - accuracy: 0.9960 - val_loss: 0.5589 - val_accuracy: 0.9093\n",
      "Epoch 26/40\n",
      "134/134 [==============================] - 2s 12ms/step - loss: 0.0103 - accuracy: 0.9972 - val_loss: 0.5374 - val_accuracy: 0.9086\n",
      "Epoch 27/40\n",
      "134/134 [==============================] - 1s 10ms/step - loss: 0.0039 - accuracy: 0.9993 - val_loss: 0.5419 - val_accuracy: 0.9072\n",
      "Epoch 28/40\n",
      "134/134 [==============================] - 1s 11ms/step - loss: 0.0031 - accuracy: 0.9995 - val_loss: 0.5382 - val_accuracy: 0.9122\n",
      "Epoch 29/40\n",
      "134/134 [==============================] - 2s 12ms/step - loss: 0.0028 - accuracy: 0.9995 - val_loss: 0.5504 - val_accuracy: 0.9129\n",
      "Epoch 30/40\n",
      "134/134 [==============================] - 2s 12ms/step - loss: 0.0026 - accuracy: 0.9998 - val_loss: 0.5595 - val_accuracy: 0.9129\n",
      "Epoch 31/40\n",
      "134/134 [==============================] - 2s 12ms/step - loss: 0.0024 - accuracy: 0.9998 - val_loss: 0.5711 - val_accuracy: 0.9157\n",
      "Epoch 32/40\n",
      "134/134 [==============================] - 2s 12ms/step - loss: 0.0022 - accuracy: 0.9998 - val_loss: 0.5854 - val_accuracy: 0.9129\n",
      "Epoch 33/40\n",
      "134/134 [==============================] - 1s 11ms/step - loss: 0.0021 - accuracy: 0.9998 - val_loss: 0.5953 - val_accuracy: 0.9143\n",
      "Epoch 34/40\n",
      "134/134 [==============================] - 2s 11ms/step - loss: 0.0019 - accuracy: 0.9998 - val_loss: 0.6063 - val_accuracy: 0.9143\n",
      "Epoch 35/40\n",
      "134/134 [==============================] - 2s 12ms/step - loss: 0.0018 - accuracy: 0.9998 - val_loss: 0.6199 - val_accuracy: 0.9129\n",
      "Epoch 36/40\n",
      "134/134 [==============================] - 1s 11ms/step - loss: 0.0017 - accuracy: 0.9998 - val_loss: 0.6287 - val_accuracy: 0.9136\n",
      "Epoch 37/40\n",
      "134/134 [==============================] - 2s 12ms/step - loss: 0.0016 - accuracy: 0.9998 - val_loss: 0.6416 - val_accuracy: 0.9115\n",
      "Epoch 38/40\n",
      "134/134 [==============================] - 2s 12ms/step - loss: 0.0015 - accuracy: 0.9998 - val_loss: 0.6519 - val_accuracy: 0.9115\n",
      "Epoch 39/40\n",
      "134/134 [==============================] - 2s 11ms/step - loss: 0.0015 - accuracy: 0.9998 - val_loss: 0.6648 - val_accuracy: 0.9108\n",
      "Epoch 40/40\n",
      "134/134 [==============================] - 1s 11ms/step - loss: 0.0014 - accuracy: 0.9998 - val_loss: 0.6728 - val_accuracy: 0.9108\n"
     ]
    },
    {
     "data": {
      "text/html": [
       "<br/>Waiting for W&B process to finish, PID 38768... <strong style=\"color:green\">(success).</strong>"
      ],
      "text/plain": [
       "<IPython.core.display.HTML object>"
      ]
     },
     "metadata": {},
     "output_type": "display_data"
    },
    {
     "data": {
      "text/html": [
       "<style>\n",
       "    table.wandb td:nth-child(1) { padding: 0 10px; text-align: right }\n",
       "    .wandb-row { display: flex; flex-direction: row; flex-wrap: wrap; width: 100% }\n",
       "    .wandb-col { display: flex; flex-direction: column; flex-basis: 100%; flex: 1; padding: 10px; }\n",
       "    </style>\n",
       "<div class=\"wandb-row\"><div class=\"wandb-col\">\n",
       "<h3>Run history:</h3><br/><table class=\"wandb\"><tr><td>accuracy</td><td>▁▄▇▇▇███████████████████████████████████</td></tr><tr><td>epoch</td><td>▁▁▁▂▂▂▂▂▂▃▃▃▃▃▄▄▄▄▄▄▅▅▅▅▅▅▆▆▆▆▆▇▇▇▇▇▇███</td></tr><tr><td>loss</td><td>█▆▃▃▂▂▂▂▁▁▁▁▁▁▁▁▁▁▁▁▁▁▁▁▁▁▁▁▁▁▁▁▁▁▁▁▁▁▁▁</td></tr><tr><td>val_accuracy</td><td>▁▇██████████████████████████████████████</td></tr><tr><td>val_f1</td><td>▁</td></tr><tr><td>val_loss</td><td>█▂▁▁▁▁▂▂▂▂▆▃▃▄▄▃▄▄▅▅▅▆▆▆▆▆▆▆▆▆▆▇▇▇▇▇▇███</td></tr></table><br/></div><div class=\"wandb-col\">\n",
       "<h3>Run summary:</h3><br/><table class=\"wandb\"><tr><td>accuracy</td><td>0.99977</td></tr><tr><td>best_epoch</td><td>3</td></tr><tr><td>best_val_loss</td><td>0.25417</td></tr><tr><td>epoch</td><td>39</td></tr><tr><td>loss</td><td>0.00139</td></tr><tr><td>val_accuracy</td><td>0.91075</td></tr><tr><td>val_f1</td><td>0.8931</td></tr><tr><td>val_loss</td><td>0.67282</td></tr></table>\n",
       "</div></div>\n",
       "Synced 5 W&B file(s), 1 media file(s), 0 artifact file(s) and 1 other file(s)\n",
       "<br/>Synced <strong style=\"color:#cdcd00\">expert-sweep-1</strong>: <a href=\"https://wandb.ai/tripleblackcat/uncategorized/runs/suf7xv23\" target=\"_blank\">https://wandb.ai/tripleblackcat/uncategorized/runs/suf7xv23</a><br/>\n",
       "Find logs at: <code>./wandb/run-20211120_170420-suf7xv23/logs</code><br/>\n"
      ],
      "text/plain": [
       "<IPython.core.display.HTML object>"
      ]
     },
     "metadata": {},
     "output_type": "display_data"
    },
    {
     "name": "stderr",
     "output_type": "stream",
     "text": [
      "\u001b[34m\u001b[1mwandb\u001b[0m: Agent Starting Run: 2mf95d6n with config:\n",
      "\u001b[34m\u001b[1mwandb\u001b[0m: \tbatch_size: 256\n",
      "\u001b[34m\u001b[1mwandb\u001b[0m: \tdropout: 0\n",
      "\u001b[34m\u001b[1mwandb\u001b[0m: \tembedding_dim: 32\n",
      "\u001b[34m\u001b[1mwandb\u001b[0m: \tepochs: 10\n",
      "\u001b[34m\u001b[1mwandb\u001b[0m: \tff_size: 128\n",
      "\u001b[34m\u001b[1mwandb\u001b[0m: \tlr: 0.005\n",
      "\u001b[34m\u001b[1mwandb\u001b[0m: \tlstm_units: 32\n",
      "\u001b[34m\u001b[1mwandb\u001b[0m: \tmax_tokens: 1000\n"
     ]
    },
    {
     "data": {
      "text/html": [
       "\n",
       "                    Syncing run <strong><a href=\"https://wandb.ai/tripleblackcat/uncategorized/runs/2mf95d6n\" target=\"_blank\">amber-sweep-2</a></strong> to <a href=\"https://wandb.ai/tripleblackcat/uncategorized\" target=\"_blank\">Weights & Biases</a> (<a href=\"https://docs.wandb.com/integrations/jupyter.html\" target=\"_blank\">docs</a>).<br/>\n",
       "Sweep page: <a href=\"https://wandb.ai/tripleblackcat/uncategorized/sweeps/aoizs7rc\" target=\"_blank\">https://wandb.ai/tripleblackcat/uncategorized/sweeps/aoizs7rc</a><br/>\n",
       "\n",
       "                "
      ],
      "text/plain": [
       "<IPython.core.display.HTML object>"
      ]
     },
     "metadata": {},
     "output_type": "display_data"
    },
    {
     "name": "stdout",
     "output_type": "stream",
     "text": [
      "Epoch 1/10\n",
      "131/134 [============================>.] - ETA: 0s - loss: 0.3223 - accuracy: 0.8371"
     ]
    },
    {
     "name": "stderr",
     "output_type": "stream",
     "text": [
      "\u001b[34m\u001b[1mwandb\u001b[0m: \u001b[32m\u001b[41mERROR\u001b[0m Can't save model, h5py returned error: Save or restore weights that is not an instance of `tf.Variable` is not supported in h5, use `save_format='tf'` instead. Received a model or layer TextVectorization with weights [<keras.layers.preprocessing.index_lookup.VocabWeightHandler object at 0x7fd5f45e3d00>]\n"
     ]
    },
    {
     "name": "stdout",
     "output_type": "stream",
     "text": [
      "134/134 [==============================] - 9s 26ms/step - loss: 0.3203 - accuracy: 0.8393 - val_loss: 0.2364 - val_accuracy: 0.8988\n",
      "Epoch 2/10\n",
      "134/134 [==============================] - 2s 12ms/step - loss: 0.1732 - accuracy: 0.9304 - val_loss: 0.2447 - val_accuracy: 0.9122\n",
      "Epoch 3/10\n",
      "134/134 [==============================] - 2s 12ms/step - loss: 0.1190 - accuracy: 0.9522 - val_loss: 0.2502 - val_accuracy: 0.9009\n",
      "Epoch 4/10\n",
      "134/134 [==============================] - 2s 11ms/step - loss: 0.0912 - accuracy: 0.9639 - val_loss: 0.3591 - val_accuracy: 0.9044\n",
      "Epoch 5/10\n",
      "134/134 [==============================] - 2s 12ms/step - loss: 0.0710 - accuracy: 0.9707 - val_loss: 0.3206 - val_accuracy: 0.8911\n",
      "Epoch 6/10\n",
      "134/134 [==============================] - 2s 12ms/step - loss: 0.0613 - accuracy: 0.9756 - val_loss: 0.3639 - val_accuracy: 0.9037\n",
      "Epoch 7/10\n",
      "134/134 [==============================] - 2s 12ms/step - loss: 0.0615 - accuracy: 0.9752 - val_loss: 0.3297 - val_accuracy: 0.8960\n",
      "Epoch 8/10\n",
      "134/134 [==============================] - 2s 12ms/step - loss: 0.0358 - accuracy: 0.9878 - val_loss: 0.4268 - val_accuracy: 0.9065\n",
      "Epoch 9/10\n",
      "134/134 [==============================] - 2s 11ms/step - loss: 0.0327 - accuracy: 0.9873 - val_loss: 0.4756 - val_accuracy: 0.9079\n",
      "Epoch 10/10\n",
      "134/134 [==============================] - 1s 11ms/step - loss: 0.0224 - accuracy: 0.9911 - val_loss: 0.5893 - val_accuracy: 0.8988\n"
     ]
    },
    {
     "data": {
      "text/html": [
       "<br/>Waiting for W&B process to finish, PID 39545... <strong style=\"color:green\">(success).</strong>"
      ],
      "text/plain": [
       "<IPython.core.display.HTML object>"
      ]
     },
     "metadata": {},
     "output_type": "display_data"
    },
    {
     "data": {
      "text/html": [
       "<style>\n",
       "    table.wandb td:nth-child(1) { padding: 0 10px; text-align: right }\n",
       "    .wandb-row { display: flex; flex-direction: row; flex-wrap: wrap; width: 100% }\n",
       "    .wandb-col { display: flex; flex-direction: column; flex-basis: 100%; flex: 1; padding: 10px; }\n",
       "    </style>\n",
       "<div class=\"wandb-row\"><div class=\"wandb-col\">\n",
       "<h3>Run history:</h3><br/><table class=\"wandb\"><tr><td>accuracy</td><td>▁▅▆▇▇▇▇███</td></tr><tr><td>epoch</td><td>▁▂▃▃▄▅▆▆▇█</td></tr><tr><td>loss</td><td>█▅▃▃▂▂▂▁▁▁</td></tr><tr><td>val_accuracy</td><td>▄█▄▅▁▅▃▆▇▄</td></tr><tr><td>val_f1</td><td>▁</td></tr><tr><td>val_loss</td><td>▁▁▁▃▃▄▃▅▆█</td></tr></table><br/></div><div class=\"wandb-col\">\n",
       "<h3>Run summary:</h3><br/><table class=\"wandb\"><tr><td>accuracy</td><td>0.9911</td></tr><tr><td>best_epoch</td><td>0</td></tr><tr><td>best_val_loss</td><td>0.23643</td></tr><tr><td>epoch</td><td>9</td></tr><tr><td>loss</td><td>0.02241</td></tr><tr><td>val_accuracy</td><td>0.89881</td></tr><tr><td>val_f1</td><td>0.882</td></tr><tr><td>val_loss</td><td>0.58927</td></tr></table>\n",
       "</div></div>\n",
       "Synced 5 W&B file(s), 1 media file(s), 0 artifact file(s) and 1 other file(s)\n",
       "<br/>Synced <strong style=\"color:#cdcd00\">amber-sweep-2</strong>: <a href=\"https://wandb.ai/tripleblackcat/uncategorized/runs/2mf95d6n\" target=\"_blank\">https://wandb.ai/tripleblackcat/uncategorized/runs/2mf95d6n</a><br/>\n",
       "Find logs at: <code>./wandb/run-20211120_170545-2mf95d6n/logs</code><br/>\n"
      ],
      "text/plain": [
       "<IPython.core.display.HTML object>"
      ]
     },
     "metadata": {},
     "output_type": "display_data"
    },
    {
     "name": "stderr",
     "output_type": "stream",
     "text": [
      "\u001b[34m\u001b[1mwandb\u001b[0m: Sweep Agent: Waiting for job.\n",
      "\u001b[34m\u001b[1mwandb\u001b[0m: Job received.\n",
      "\u001b[34m\u001b[1mwandb\u001b[0m: Agent Starting Run: 21uj8xlx with config:\n",
      "\u001b[34m\u001b[1mwandb\u001b[0m: \tbatch_size: 256\n",
      "\u001b[34m\u001b[1mwandb\u001b[0m: \tdropout: 0\n",
      "\u001b[34m\u001b[1mwandb\u001b[0m: \tembedding_dim: 256\n",
      "\u001b[34m\u001b[1mwandb\u001b[0m: \tepochs: 40\n",
      "\u001b[34m\u001b[1mwandb\u001b[0m: \tff_size: 128\n",
      "\u001b[34m\u001b[1mwandb\u001b[0m: \tlr: 0.0005\n",
      "\u001b[34m\u001b[1mwandb\u001b[0m: \tlstm_units: 64\n",
      "\u001b[34m\u001b[1mwandb\u001b[0m: \tmax_tokens: 5000\n"
     ]
    },
    {
     "data": {
      "text/html": [
       "\n",
       "                    Syncing run <strong><a href=\"https://wandb.ai/tripleblackcat/uncategorized/runs/21uj8xlx\" target=\"_blank\">glamorous-sweep-3</a></strong> to <a href=\"https://wandb.ai/tripleblackcat/uncategorized\" target=\"_blank\">Weights & Biases</a> (<a href=\"https://docs.wandb.com/integrations/jupyter.html\" target=\"_blank\">docs</a>).<br/>\n",
       "Sweep page: <a href=\"https://wandb.ai/tripleblackcat/uncategorized/sweeps/aoizs7rc\" target=\"_blank\">https://wandb.ai/tripleblackcat/uncategorized/sweeps/aoizs7rc</a><br/>\n",
       "\n",
       "                "
      ],
      "text/plain": [
       "<IPython.core.display.HTML object>"
      ]
     },
     "metadata": {},
     "output_type": "display_data"
    },
    {
     "name": "stdout",
     "output_type": "stream",
     "text": [
      "Epoch 1/40\n",
      "131/134 [============================>.] - ETA: 0s - loss: 0.3926 - accuracy: 0.7746"
     ]
    },
    {
     "name": "stderr",
     "output_type": "stream",
     "text": [
      "\u001b[34m\u001b[1mwandb\u001b[0m: \u001b[32m\u001b[41mERROR\u001b[0m Can't save model, h5py returned error: Save or restore weights that is not an instance of `tf.Variable` is not supported in h5, use `save_format='tf'` instead. Received a model or layer TextVectorization with weights [<keras.layers.preprocessing.index_lookup.VocabWeightHandler object at 0x7fd71298b640>]\n"
     ]
    },
    {
     "name": "stdout",
     "output_type": "stream",
     "text": [
      "134/134 [==============================] - 10s 29ms/step - loss: 0.3897 - accuracy: 0.7772 - val_loss: 0.2163 - val_accuracy: 0.9164\n",
      "Epoch 2/40\n",
      "134/134 [==============================] - 2s 12ms/step - loss: 0.1203 - accuracy: 0.9538 - val_loss: 0.2014 - val_accuracy: 0.9248\n",
      "Epoch 3/40\n",
      "134/134 [==============================] - 2s 13ms/step - loss: 0.0536 - accuracy: 0.9822 - val_loss: 0.2487 - val_accuracy: 0.9100\n",
      "Epoch 4/40\n",
      "134/134 [==============================] - 2s 12ms/step - loss: 0.0214 - accuracy: 0.9930 - val_loss: 0.3232 - val_accuracy: 0.9178\n",
      "Epoch 5/40\n",
      "134/134 [==============================] - 2s 11ms/step - loss: 0.0218 - accuracy: 0.9923 - val_loss: 0.2897 - val_accuracy: 0.9206\n",
      "Epoch 6/40\n",
      "134/134 [==============================] - 2s 12ms/step - loss: 0.0085 - accuracy: 0.9974 - val_loss: 0.3513 - val_accuracy: 0.9185\n",
      "Epoch 7/40\n",
      "134/134 [==============================] - 2s 12ms/step - loss: 0.0068 - accuracy: 0.9981 - val_loss: 0.3575 - val_accuracy: 0.9171\n",
      "Epoch 8/40\n",
      "134/134 [==============================] - 2s 13ms/step - loss: 0.0038 - accuracy: 0.9991 - val_loss: 0.3648 - val_accuracy: 0.9213\n",
      "Epoch 9/40\n",
      "134/134 [==============================] - 2s 11ms/step - loss: 0.0018 - accuracy: 0.9998 - val_loss: 0.3993 - val_accuracy: 0.9248\n",
      "Epoch 10/40\n",
      "134/134 [==============================] - 2s 12ms/step - loss: 8.8895e-04 - accuracy: 1.0000 - val_loss: 0.4295 - val_accuracy: 0.9248\n",
      "Epoch 11/40\n",
      "134/134 [==============================] - 2s 11ms/step - loss: 7.6859e-04 - accuracy: 1.0000 - val_loss: 0.4531 - val_accuracy: 0.9248\n",
      "Epoch 12/40\n",
      "134/134 [==============================] - 1s 11ms/step - loss: 6.9869e-04 - accuracy: 1.0000 - val_loss: 0.4728 - val_accuracy: 0.9262\n",
      "Epoch 13/40\n",
      "134/134 [==============================] - 2s 12ms/step - loss: 6.4506e-04 - accuracy: 1.0000 - val_loss: 0.4914 - val_accuracy: 0.9255\n",
      "Epoch 14/40\n",
      "134/134 [==============================] - 2s 12ms/step - loss: 6.0142e-04 - accuracy: 1.0000 - val_loss: 0.5083 - val_accuracy: 0.9255\n",
      "Epoch 15/40\n",
      "134/134 [==============================] - 2s 12ms/step - loss: 5.6309e-04 - accuracy: 1.0000 - val_loss: 0.5243 - val_accuracy: 0.9262\n",
      "Epoch 16/40\n",
      "134/134 [==============================] - 2s 12ms/step - loss: 5.2576e-04 - accuracy: 1.0000 - val_loss: 0.5390 - val_accuracy: 0.9255\n",
      "Epoch 17/40\n",
      "134/134 [==============================] - 2s 12ms/step - loss: 4.9329e-04 - accuracy: 1.0000 - val_loss: 0.5531 - val_accuracy: 0.9262\n",
      "Epoch 18/40\n",
      "134/134 [==============================] - 2s 12ms/step - loss: 4.6249e-04 - accuracy: 1.0000 - val_loss: 0.5666 - val_accuracy: 0.9255\n",
      "Epoch 19/40\n",
      "134/134 [==============================] - 1s 11ms/step - loss: 4.3348e-04 - accuracy: 1.0000 - val_loss: 0.5796 - val_accuracy: 0.9255\n",
      "Epoch 20/40\n",
      "134/134 [==============================] - 1s 10ms/step - loss: 4.0492e-04 - accuracy: 1.0000 - val_loss: 0.5923 - val_accuracy: 0.9248\n",
      "Epoch 21/40\n",
      "134/134 [==============================] - 1s 10ms/step - loss: 3.7935e-04 - accuracy: 1.0000 - val_loss: 0.6059 - val_accuracy: 0.9255\n",
      "Epoch 22/40\n",
      "134/134 [==============================] - 2s 11ms/step - loss: 3.5303e-04 - accuracy: 1.0000 - val_loss: 0.6183 - val_accuracy: 0.9248\n",
      "Epoch 23/40\n",
      "134/134 [==============================] - 1s 11ms/step - loss: 3.2913e-04 - accuracy: 1.0000 - val_loss: 0.6309 - val_accuracy: 0.9248\n",
      "Epoch 24/40\n",
      "134/134 [==============================] - 2s 11ms/step - loss: 3.0759e-04 - accuracy: 1.0000 - val_loss: 0.6436 - val_accuracy: 0.9248\n",
      "Epoch 25/40\n",
      "134/134 [==============================] - 1s 11ms/step - loss: 2.8618e-04 - accuracy: 1.0000 - val_loss: 0.6552 - val_accuracy: 0.9248\n",
      "Epoch 26/40\n",
      "134/134 [==============================] - 1s 11ms/step - loss: 2.6538e-04 - accuracy: 1.0000 - val_loss: 0.6679 - val_accuracy: 0.9248\n",
      "Epoch 27/40\n",
      "134/134 [==============================] - 1s 10ms/step - loss: 2.4612e-04 - accuracy: 1.0000 - val_loss: 0.6802 - val_accuracy: 0.9248\n",
      "Epoch 28/40\n",
      "134/134 [==============================] - 1s 11ms/step - loss: 2.2957e-04 - accuracy: 1.0000 - val_loss: 0.6921 - val_accuracy: 0.9248\n",
      "Epoch 29/40\n",
      "134/134 [==============================] - 1s 10ms/step - loss: 2.1552e-04 - accuracy: 1.0000 - val_loss: 0.7041 - val_accuracy: 0.9248\n",
      "Epoch 30/40\n",
      "134/134 [==============================] - 1s 10ms/step - loss: 2.0281e-04 - accuracy: 1.0000 - val_loss: 0.7165 - val_accuracy: 0.9248\n",
      "Epoch 31/40\n",
      "134/134 [==============================] - 1s 10ms/step - loss: 1.9002e-04 - accuracy: 1.0000 - val_loss: 0.7285 - val_accuracy: 0.9248\n",
      "Epoch 32/40\n",
      "134/134 [==============================] - 1s 10ms/step - loss: 1.7910e-04 - accuracy: 1.0000 - val_loss: 0.7397 - val_accuracy: 0.9248\n",
      "Epoch 33/40\n",
      "134/134 [==============================] - 1s 11ms/step - loss: 1.6912e-04 - accuracy: 1.0000 - val_loss: 0.7526 - val_accuracy: 0.9248\n",
      "Epoch 34/40\n",
      "134/134 [==============================] - 1s 10ms/step - loss: 1.5917e-04 - accuracy: 1.0000 - val_loss: 0.7643 - val_accuracy: 0.9248\n",
      "Epoch 35/40\n",
      "134/134 [==============================] - 1s 11ms/step - loss: 1.4870e-04 - accuracy: 1.0000 - val_loss: 0.7762 - val_accuracy: 0.9248\n",
      "Epoch 36/40\n",
      "134/134 [==============================] - 1s 10ms/step - loss: 1.3955e-04 - accuracy: 1.0000 - val_loss: 0.7876 - val_accuracy: 0.9234\n",
      "Epoch 37/40\n",
      "134/134 [==============================] - 1s 10ms/step - loss: 1.2984e-04 - accuracy: 1.0000 - val_loss: 0.7989 - val_accuracy: 0.9241\n",
      "Epoch 38/40\n",
      "134/134 [==============================] - 1s 10ms/step - loss: 1.2177e-04 - accuracy: 1.0000 - val_loss: 0.8098 - val_accuracy: 0.9241\n",
      "Epoch 39/40\n",
      "134/134 [==============================] - 1s 9ms/step - loss: 1.1291e-04 - accuracy: 1.0000 - val_loss: 0.8223 - val_accuracy: 0.9241\n",
      "Epoch 40/40\n",
      "134/134 [==============================] - 1s 10ms/step - loss: 1.0455e-04 - accuracy: 1.0000 - val_loss: 0.8332 - val_accuracy: 0.9241\n"
     ]
    },
    {
     "data": {
      "text/html": [
       "<br/>Waiting for W&B process to finish, PID 39829... <strong style=\"color:green\">(success).</strong>"
      ],
      "text/plain": [
       "<IPython.core.display.HTML object>"
      ]
     },
     "metadata": {},
     "output_type": "display_data"
    },
    {
     "data": {
      "text/html": [
       "<style>\n",
       "    table.wandb td:nth-child(1) { padding: 0 10px; text-align: right }\n",
       "    .wandb-row { display: flex; flex-direction: row; flex-wrap: wrap; width: 100% }\n",
       "    .wandb-col { display: flex; flex-direction: column; flex-basis: 100%; flex: 1; padding: 10px; }\n",
       "    </style>\n",
       "<div class=\"wandb-row\"><div class=\"wandb-col\">\n",
       "<h3>Run history:</h3><br/><table class=\"wandb\"><tr><td>accuracy</td><td>▁▇▇█████████████████████████████████████</td></tr><tr><td>epoch</td><td>▁▁▁▂▂▂▂▂▂▃▃▃▃▃▄▄▄▄▄▄▅▅▅▅▅▅▆▆▆▆▆▇▇▇▇▇▇███</td></tr><tr><td>loss</td><td>█▃▂▁▁▁▁▁▁▁▁▁▁▁▁▁▁▁▁▁▁▁▁▁▁▁▁▁▁▁▁▁▁▁▁▁▁▁▁▁</td></tr><tr><td>val_accuracy</td><td>▄▇▁▄▆▅▄▆▇▇▇████████▇█▇▇▇▇▇▇▇▇▇▇▇▇▇▇▇▇▇▇▇</td></tr><tr><td>val_f1</td><td>▁</td></tr><tr><td>val_loss</td><td>▁▁▂▂▂▃▃▃▃▄▄▄▄▄▅▅▅▅▅▅▅▆▆▆▆▆▆▆▇▇▇▇▇▇▇▇████</td></tr></table><br/></div><div class=\"wandb-col\">\n",
       "<h3>Run summary:</h3><br/><table class=\"wandb\"><tr><td>accuracy</td><td>1.0</td></tr><tr><td>best_epoch</td><td>1</td></tr><tr><td>best_val_loss</td><td>0.20144</td></tr><tr><td>epoch</td><td>39</td></tr><tr><td>loss</td><td>0.0001</td></tr><tr><td>val_accuracy</td><td>0.9241</td></tr><tr><td>val_f1</td><td>0.89768</td></tr><tr><td>val_loss</td><td>0.83321</td></tr></table>\n",
       "</div></div>\n",
       "Synced 5 W&B file(s), 1 media file(s), 0 artifact file(s) and 1 other file(s)\n",
       "<br/>Synced <strong style=\"color:#cdcd00\">glamorous-sweep-3</strong>: <a href=\"https://wandb.ai/tripleblackcat/uncategorized/runs/21uj8xlx\" target=\"_blank\">https://wandb.ai/tripleblackcat/uncategorized/runs/21uj8xlx</a><br/>\n",
       "Find logs at: <code>./wandb/run-20211120_170632-21uj8xlx/logs</code><br/>\n"
      ],
      "text/plain": [
       "<IPython.core.display.HTML object>"
      ]
     },
     "metadata": {},
     "output_type": "display_data"
    },
    {
     "name": "stderr",
     "output_type": "stream",
     "text": [
      "\u001b[34m\u001b[1mwandb\u001b[0m: Agent Starting Run: gccfxzej with config:\n",
      "\u001b[34m\u001b[1mwandb\u001b[0m: \tbatch_size: 256\n",
      "\u001b[34m\u001b[1mwandb\u001b[0m: \tdropout: 0\n",
      "\u001b[34m\u001b[1mwandb\u001b[0m: \tembedding_dim: 32\n",
      "\u001b[34m\u001b[1mwandb\u001b[0m: \tepochs: 10\n",
      "\u001b[34m\u001b[1mwandb\u001b[0m: \tff_size: 128\n",
      "\u001b[34m\u001b[1mwandb\u001b[0m: \tlr: 0.001\n",
      "\u001b[34m\u001b[1mwandb\u001b[0m: \tlstm_units: 256\n",
      "\u001b[34m\u001b[1mwandb\u001b[0m: \tmax_tokens: None\n"
     ]
    },
    {
     "data": {
      "text/html": [
       "\n",
       "                    Syncing run <strong><a href=\"https://wandb.ai/tripleblackcat/uncategorized/runs/gccfxzej\" target=\"_blank\">robust-sweep-4</a></strong> to <a href=\"https://wandb.ai/tripleblackcat/uncategorized\" target=\"_blank\">Weights & Biases</a> (<a href=\"https://docs.wandb.com/integrations/jupyter.html\" target=\"_blank\">docs</a>).<br/>\n",
       "Sweep page: <a href=\"https://wandb.ai/tripleblackcat/uncategorized/sweeps/aoizs7rc\" target=\"_blank\">https://wandb.ai/tripleblackcat/uncategorized/sweeps/aoizs7rc</a><br/>\n",
       "\n",
       "                "
      ],
      "text/plain": [
       "<IPython.core.display.HTML object>"
      ]
     },
     "metadata": {},
     "output_type": "display_data"
    },
    {
     "name": "stdout",
     "output_type": "stream",
     "text": [
      "Epoch 1/10\n",
      "129/134 [===========================>..] - ETA: 0s - loss: 0.4021 - accuracy: 0.7977"
     ]
    },
    {
     "name": "stderr",
     "output_type": "stream",
     "text": [
      "\u001b[34m\u001b[1mwandb\u001b[0m: \u001b[32m\u001b[41mERROR\u001b[0m Can't save model, h5py returned error: Save or restore weights that is not an instance of `tf.Variable` is not supported in h5, use `save_format='tf'` instead. Received a model or layer TextVectorization with weights [<keras.layers.preprocessing.index_lookup.VocabWeightHandler object at 0x7fd71266e580>]\n"
     ]
    },
    {
     "name": "stdout",
     "output_type": "stream",
     "text": [
      "134/134 [==============================] - 9s 26ms/step - loss: 0.3991 - accuracy: 0.7997 - val_loss: 0.2262 - val_accuracy: 0.9206\n",
      "Epoch 2/10\n",
      "134/134 [==============================] - 2s 11ms/step - loss: 0.1182 - accuracy: 0.9548 - val_loss: 0.1906 - val_accuracy: 0.9206\n",
      "Epoch 3/10\n",
      "134/134 [==============================] - 2s 13ms/step - loss: 0.0582 - accuracy: 0.9817 - val_loss: 0.2990 - val_accuracy: 0.9136\n",
      "Epoch 4/10\n",
      "134/134 [==============================] - 1s 11ms/step - loss: 0.0154 - accuracy: 0.9939 - val_loss: 0.3131 - val_accuracy: 0.9220\n",
      "Epoch 5/10\n",
      "134/134 [==============================] - 1s 11ms/step - loss: 0.0075 - accuracy: 0.9965 - val_loss: 0.2827 - val_accuracy: 0.9185\n",
      "Epoch 6/10\n",
      "134/134 [==============================] - 1s 11ms/step - loss: 0.0045 - accuracy: 0.9986 - val_loss: 0.3713 - val_accuracy: 0.9143\n",
      "Epoch 7/10\n",
      "134/134 [==============================] - 1s 11ms/step - loss: 0.0037 - accuracy: 0.9981 - val_loss: 0.3621 - val_accuracy: 0.9164\n",
      "Epoch 8/10\n",
      "134/134 [==============================] - 1s 11ms/step - loss: 0.0146 - accuracy: 0.9970 - val_loss: 0.4326 - val_accuracy: 0.9115\n",
      "Epoch 9/10\n",
      "134/134 [==============================] - 1s 11ms/step - loss: 0.0060 - accuracy: 0.9984 - val_loss: 0.6154 - val_accuracy: 0.9122\n",
      "Epoch 10/10\n",
      "134/134 [==============================] - 2s 12ms/step - loss: 0.0117 - accuracy: 0.9960 - val_loss: 0.3628 - val_accuracy: 0.9051\n"
     ]
    },
    {
     "data": {
      "text/html": [
       "<br/>Waiting for W&B process to finish, PID 40578... <strong style=\"color:green\">(success).</strong>"
      ],
      "text/plain": [
       "<IPython.core.display.HTML object>"
      ]
     },
     "metadata": {},
     "output_type": "display_data"
    },
    {
     "data": {
      "text/html": [
       "<style>\n",
       "    table.wandb td:nth-child(1) { padding: 0 10px; text-align: right }\n",
       "    .wandb-row { display: flex; flex-direction: row; flex-wrap: wrap; width: 100% }\n",
       "    .wandb-col { display: flex; flex-direction: column; flex-basis: 100%; flex: 1; padding: 10px; }\n",
       "    </style>\n",
       "<div class=\"wandb-row\"><div class=\"wandb-col\">\n",
       "<h3>Run history:</h3><br/><table class=\"wandb\"><tr><td>accuracy</td><td>▁▆▇███████</td></tr><tr><td>epoch</td><td>▁▂▃▃▄▅▆▆▇█</td></tr><tr><td>loss</td><td>█▃▂▁▁▁▁▁▁▁</td></tr><tr><td>val_accuracy</td><td>▇▇▅█▇▅▆▄▄▁</td></tr><tr><td>val_f1</td><td>▁</td></tr><tr><td>val_loss</td><td>▂▁▃▃▃▄▄▅█▄</td></tr></table><br/></div><div class=\"wandb-col\">\n",
       "<h3>Run summary:</h3><br/><table class=\"wandb\"><tr><td>accuracy</td><td>0.99602</td></tr><tr><td>best_epoch</td><td>1</td></tr><tr><td>best_val_loss</td><td>0.19062</td></tr><tr><td>epoch</td><td>9</td></tr><tr><td>loss</td><td>0.01174</td></tr><tr><td>val_accuracy</td><td>0.90513</td></tr><tr><td>val_f1</td><td>0.88397</td></tr><tr><td>val_loss</td><td>0.36283</td></tr></table>\n",
       "</div></div>\n",
       "Synced 5 W&B file(s), 1 media file(s), 0 artifact file(s) and 1 other file(s)\n",
       "<br/>Synced <strong style=\"color:#cdcd00\">robust-sweep-4</strong>: <a href=\"https://wandb.ai/tripleblackcat/uncategorized/runs/gccfxzej\" target=\"_blank\">https://wandb.ai/tripleblackcat/uncategorized/runs/gccfxzej</a><br/>\n",
       "Find logs at: <code>./wandb/run-20211120_170753-gccfxzej/logs</code><br/>\n"
      ],
      "text/plain": [
       "<IPython.core.display.HTML object>"
      ]
     },
     "metadata": {},
     "output_type": "display_data"
    },
    {
     "name": "stderr",
     "output_type": "stream",
     "text": [
      "\u001b[34m\u001b[1mwandb\u001b[0m: Agent Starting Run: ld2i2g4p with config:\n",
      "\u001b[34m\u001b[1mwandb\u001b[0m: \tbatch_size: 256\n",
      "\u001b[34m\u001b[1mwandb\u001b[0m: \tdropout: 0.5\n",
      "\u001b[34m\u001b[1mwandb\u001b[0m: \tembedding_dim: 256\n",
      "\u001b[34m\u001b[1mwandb\u001b[0m: \tepochs: 40\n",
      "\u001b[34m\u001b[1mwandb\u001b[0m: \tff_size: 64\n",
      "\u001b[34m\u001b[1mwandb\u001b[0m: \tlr: 0.0001\n",
      "\u001b[34m\u001b[1mwandb\u001b[0m: \tlstm_units: 32\n",
      "\u001b[34m\u001b[1mwandb\u001b[0m: \tmax_tokens: None\n"
     ]
    },
    {
     "data": {
      "text/html": [
       "\n",
       "                    Syncing run <strong><a href=\"https://wandb.ai/tripleblackcat/uncategorized/runs/ld2i2g4p\" target=\"_blank\">valiant-sweep-5</a></strong> to <a href=\"https://wandb.ai/tripleblackcat/uncategorized\" target=\"_blank\">Weights & Biases</a> (<a href=\"https://docs.wandb.com/integrations/jupyter.html\" target=\"_blank\">docs</a>).<br/>\n",
       "Sweep page: <a href=\"https://wandb.ai/tripleblackcat/uncategorized/sweeps/aoizs7rc\" target=\"_blank\">https://wandb.ai/tripleblackcat/uncategorized/sweeps/aoizs7rc</a><br/>\n",
       "\n",
       "                "
      ],
      "text/plain": [
       "<IPython.core.display.HTML object>"
      ]
     },
     "metadata": {},
     "output_type": "display_data"
    },
    {
     "name": "stdout",
     "output_type": "stream",
     "text": [
      "Epoch 1/40\n",
      "133/134 [============================>.] - ETA: 0s - loss: 0.6864 - accuracy: 0.5054"
     ]
    },
    {
     "name": "stderr",
     "output_type": "stream",
     "text": [
      "\u001b[34m\u001b[1mwandb\u001b[0m: \u001b[32m\u001b[41mERROR\u001b[0m Can't save model, h5py returned error: Save or restore weights that is not an instance of `tf.Variable` is not supported in h5, use `save_format='tf'` instead. Received a model or layer TextVectorization with weights [<keras.layers.preprocessing.index_lookup.VocabWeightHandler object at 0x7fd5c80d2cd0>]\n"
     ]
    },
    {
     "name": "stdout",
     "output_type": "stream",
     "text": [
      "134/134 [==============================] - 9s 24ms/step - loss: 0.6863 - accuracy: 0.5056 - val_loss: 0.6722 - val_accuracy: 0.4891\n",
      "Epoch 2/40\n",
      "134/134 [==============================] - 1s 10ms/step - loss: 0.5808 - accuracy: 0.5530 - val_loss: 0.4065 - val_accuracy: 0.8124\n",
      "Epoch 3/40\n",
      "134/134 [==============================] - 1s 10ms/step - loss: 0.2610 - accuracy: 0.8995 - val_loss: 0.2541 - val_accuracy: 0.9044\n",
      "Epoch 4/40\n",
      "134/134 [==============================] - 1s 10ms/step - loss: 0.1439 - accuracy: 0.9492 - val_loss: 0.2490 - val_accuracy: 0.9122\n",
      "Epoch 5/40\n",
      "134/134 [==============================] - 1s 10ms/step - loss: 0.0933 - accuracy: 0.9714 - val_loss: 0.2678 - val_accuracy: 0.9115\n",
      "Epoch 6/40\n",
      "134/134 [==============================] - 1s 11ms/step - loss: 0.0590 - accuracy: 0.9836 - val_loss: 0.2921 - val_accuracy: 0.9136\n",
      "Epoch 7/40\n",
      "134/134 [==============================] - 1s 11ms/step - loss: 0.0394 - accuracy: 0.9911 - val_loss: 0.3071 - val_accuracy: 0.9164\n",
      "Epoch 8/40\n",
      "134/134 [==============================] - 1s 10ms/step - loss: 0.0282 - accuracy: 0.9944 - val_loss: 0.3259 - val_accuracy: 0.9157\n",
      "Epoch 9/40\n",
      "134/134 [==============================] - 1s 11ms/step - loss: 0.0223 - accuracy: 0.9946 - val_loss: 0.3281 - val_accuracy: 0.9150\n",
      "Epoch 10/40\n",
      "134/134 [==============================] - 1s 10ms/step - loss: 0.0171 - accuracy: 0.9967 - val_loss: 0.3455 - val_accuracy: 0.9164\n",
      "Epoch 11/40\n",
      "134/134 [==============================] - 1s 10ms/step - loss: 0.0115 - accuracy: 0.9988 - val_loss: 0.3632 - val_accuracy: 0.9171\n",
      "Epoch 12/40\n",
      "134/134 [==============================] - 1s 10ms/step - loss: 0.0086 - accuracy: 0.9986 - val_loss: 0.3750 - val_accuracy: 0.9178\n",
      "Epoch 13/40\n",
      "134/134 [==============================] - 2s 13ms/step - loss: 0.0077 - accuracy: 0.9993 - val_loss: 0.4259 - val_accuracy: 0.9072\n",
      "Epoch 14/40\n",
      "134/134 [==============================] - 2s 12ms/step - loss: 0.0058 - accuracy: 0.9995 - val_loss: 0.4251 - val_accuracy: 0.9129\n",
      "Epoch 15/40\n",
      "134/134 [==============================] - 2s 11ms/step - loss: 0.0045 - accuracy: 0.9995 - val_loss: 0.4253 - val_accuracy: 0.9143\n",
      "Epoch 16/40\n",
      "134/134 [==============================] - 1s 11ms/step - loss: 0.0043 - accuracy: 0.9995 - val_loss: 0.4540 - val_accuracy: 0.9093\n",
      "Epoch 17/40\n",
      "134/134 [==============================] - 1s 11ms/step - loss: 0.0032 - accuracy: 0.9998 - val_loss: 0.4721 - val_accuracy: 0.9072\n",
      "Epoch 18/40\n",
      "134/134 [==============================] - 1s 11ms/step - loss: 0.0027 - accuracy: 0.9998 - val_loss: 0.4825 - val_accuracy: 0.9079\n",
      "Epoch 19/40\n",
      "134/134 [==============================] - 1s 10ms/step - loss: 0.0036 - accuracy: 0.9993 - val_loss: 0.5601 - val_accuracy: 0.9044\n",
      "Epoch 20/40\n",
      "134/134 [==============================] - 1s 10ms/step - loss: 0.0028 - accuracy: 0.9998 - val_loss: 0.5048 - val_accuracy: 0.9115\n",
      "Epoch 21/40\n",
      "134/134 [==============================] - 1s 10ms/step - loss: 0.0025 - accuracy: 0.9998 - val_loss: 0.5156 - val_accuracy: 0.9115\n",
      "Epoch 22/40\n",
      "134/134 [==============================] - 1s 10ms/step - loss: 0.0020 - accuracy: 0.9998 - val_loss: 0.5255 - val_accuracy: 0.9086\n",
      "Epoch 23/40\n",
      "134/134 [==============================] - 1s 10ms/step - loss: 0.0018 - accuracy: 0.9998 - val_loss: 0.5390 - val_accuracy: 0.9093\n",
      "Epoch 24/40\n",
      "134/134 [==============================] - 1s 11ms/step - loss: 0.0018 - accuracy: 0.9998 - val_loss: 0.5575 - val_accuracy: 0.9079\n",
      "Epoch 25/40\n",
      "134/134 [==============================] - 1s 10ms/step - loss: 0.0017 - accuracy: 0.9998 - val_loss: 0.5738 - val_accuracy: 0.9065\n",
      "Epoch 26/40\n",
      "134/134 [==============================] - 1s 10ms/step - loss: 0.0016 - accuracy: 0.9998 - val_loss: 0.5736 - val_accuracy: 0.9086\n",
      "Epoch 27/40\n",
      "134/134 [==============================] - 1s 10ms/step - loss: 0.0014 - accuracy: 1.0000 - val_loss: 0.5816 - val_accuracy: 0.9079\n",
      "Epoch 28/40\n",
      "134/134 [==============================] - 1s 10ms/step - loss: 0.0014 - accuracy: 1.0000 - val_loss: 0.6019 - val_accuracy: 0.9044\n",
      "Epoch 29/40\n",
      "134/134 [==============================] - 1s 10ms/step - loss: 0.0013 - accuracy: 1.0000 - val_loss: 0.6050 - val_accuracy: 0.9079\n",
      "Epoch 30/40\n",
      "134/134 [==============================] - 1s 10ms/step - loss: 0.0012 - accuracy: 1.0000 - val_loss: 0.6265 - val_accuracy: 0.9051\n",
      "Epoch 31/40\n",
      "134/134 [==============================] - 1s 10ms/step - loss: 0.0011 - accuracy: 1.0000 - val_loss: 0.6312 - val_accuracy: 0.9058\n",
      "Epoch 32/40\n",
      "134/134 [==============================] - 1s 10ms/step - loss: 0.0010 - accuracy: 1.0000 - val_loss: 0.6351 - val_accuracy: 0.9079\n",
      "Epoch 33/40\n",
      "134/134 [==============================] - 1s 10ms/step - loss: 9.7857e-04 - accuracy: 1.0000 - val_loss: 0.6518 - val_accuracy: 0.9058\n",
      "Epoch 34/40\n",
      "134/134 [==============================] - 1s 11ms/step - loss: 9.0280e-04 - accuracy: 1.0000 - val_loss: 0.6930 - val_accuracy: 0.9002\n",
      "Epoch 35/40\n",
      "134/134 [==============================] - 1s 10ms/step - loss: 0.0011 - accuracy: 1.0000 - val_loss: 0.6758 - val_accuracy: 0.9037\n",
      "Epoch 36/40\n",
      "134/134 [==============================] - 1s 10ms/step - loss: 8.8162e-04 - accuracy: 1.0000 - val_loss: 0.6756 - val_accuracy: 0.9037\n",
      "Epoch 37/40\n",
      "134/134 [==============================] - 1s 11ms/step - loss: 8.8008e-04 - accuracy: 1.0000 - val_loss: 0.6842 - val_accuracy: 0.9030\n",
      "Epoch 38/40\n",
      "134/134 [==============================] - 1s 10ms/step - loss: 8.0283e-04 - accuracy: 1.0000 - val_loss: 0.6964 - val_accuracy: 0.9065\n",
      "Epoch 39/40\n",
      "134/134 [==============================] - 1s 10ms/step - loss: 0.0091 - accuracy: 0.9988 - val_loss: 0.6722 - val_accuracy: 0.9016\n",
      "Epoch 40/40\n",
      "134/134 [==============================] - 1s 10ms/step - loss: 0.0107 - accuracy: 0.9974 - val_loss: 0.5730 - val_accuracy: 0.9051\n"
     ]
    },
    {
     "data": {
      "text/html": [
       "<br/>Waiting for W&B process to finish, PID 40851... <strong style=\"color:green\">(success).</strong>"
      ],
      "text/plain": [
       "<IPython.core.display.HTML object>"
      ]
     },
     "metadata": {},
     "output_type": "display_data"
    },
    {
     "data": {
      "text/html": [
       "<style>\n",
       "    table.wandb td:nth-child(1) { padding: 0 10px; text-align: right }\n",
       "    .wandb-row { display: flex; flex-direction: row; flex-wrap: wrap; width: 100% }\n",
       "    .wandb-col { display: flex; flex-direction: column; flex-basis: 100%; flex: 1; padding: 10px; }\n",
       "    </style>\n",
       "<div class=\"wandb-row\"><div class=\"wandb-col\">\n",
       "<h3>Run history:</h3><br/><table class=\"wandb\"><tr><td>accuracy</td><td>▁▂▇▇████████████████████████████████████</td></tr><tr><td>epoch</td><td>▁▁▁▂▂▂▂▂▂▃▃▃▃▃▄▄▄▄▄▄▅▅▅▅▅▅▆▆▆▆▆▇▇▇▇▇▇███</td></tr><tr><td>loss</td><td>█▇▄▂▂▂▁▁▁▁▁▁▁▁▁▁▁▁▁▁▁▁▁▁▁▁▁▁▁▁▁▁▁▁▁▁▁▁▁▁</td></tr><tr><td>val_accuracy</td><td>▁▆██████████████████████████████████████</td></tr><tr><td>val_f1</td><td>▁</td></tr><tr><td>val_loss</td><td>█▃▁▁▁▂▂▂▂▃▃▃▄▄▄▄▄▅▆▅▅▅▆▆▆▆▆▇▇▇▇▇▇██████▆</td></tr></table><br/></div><div class=\"wandb-col\">\n",
       "<h3>Run summary:</h3><br/><table class=\"wandb\"><tr><td>accuracy</td><td>0.99742</td></tr><tr><td>best_epoch</td><td>3</td></tr><tr><td>best_val_loss</td><td>0.24898</td></tr><tr><td>epoch</td><td>39</td></tr><tr><td>loss</td><td>0.01071</td></tr><tr><td>val_accuracy</td><td>0.90513</td></tr><tr><td>val_f1</td><td>0.89278</td></tr><tr><td>val_loss</td><td>0.57295</td></tr></table>\n",
       "</div></div>\n",
       "Synced 5 W&B file(s), 1 media file(s), 0 artifact file(s) and 1 other file(s)\n",
       "<br/>Synced <strong style=\"color:#cdcd00\">valiant-sweep-5</strong>: <a href=\"https://wandb.ai/tripleblackcat/uncategorized/runs/ld2i2g4p\" target=\"_blank\">https://wandb.ai/tripleblackcat/uncategorized/runs/ld2i2g4p</a><br/>\n",
       "Find logs at: <code>./wandb/run-20211120_170830-ld2i2g4p/logs</code><br/>\n"
      ],
      "text/plain": [
       "<IPython.core.display.HTML object>"
      ]
     },
     "metadata": {},
     "output_type": "display_data"
    },
    {
     "name": "stderr",
     "output_type": "stream",
     "text": [
      "\u001b[34m\u001b[1mwandb\u001b[0m: Agent Starting Run: c72i0mc4 with config:\n",
      "\u001b[34m\u001b[1mwandb\u001b[0m: \tbatch_size: 256\n",
      "\u001b[34m\u001b[1mwandb\u001b[0m: \tdropout: 0\n",
      "\u001b[34m\u001b[1mwandb\u001b[0m: \tembedding_dim: 16\n",
      "\u001b[34m\u001b[1mwandb\u001b[0m: \tepochs: 20\n",
      "\u001b[34m\u001b[1mwandb\u001b[0m: \tff_size: 128\n",
      "\u001b[34m\u001b[1mwandb\u001b[0m: \tlr: 0.005\n",
      "\u001b[34m\u001b[1mwandb\u001b[0m: \tlstm_units: 256\n",
      "\u001b[34m\u001b[1mwandb\u001b[0m: \tmax_tokens: 100\n"
     ]
    },
    {
     "data": {
      "text/html": [
       "\n",
       "                    Syncing run <strong><a href=\"https://wandb.ai/tripleblackcat/uncategorized/runs/c72i0mc4\" target=\"_blank\">robust-sweep-6</a></strong> to <a href=\"https://wandb.ai/tripleblackcat/uncategorized\" target=\"_blank\">Weights & Biases</a> (<a href=\"https://docs.wandb.com/integrations/jupyter.html\" target=\"_blank\">docs</a>).<br/>\n",
       "Sweep page: <a href=\"https://wandb.ai/tripleblackcat/uncategorized/sweeps/aoizs7rc\" target=\"_blank\">https://wandb.ai/tripleblackcat/uncategorized/sweeps/aoizs7rc</a><br/>\n",
       "\n",
       "                "
      ],
      "text/plain": [
       "<IPython.core.display.HTML object>"
      ]
     },
     "metadata": {},
     "output_type": "display_data"
    },
    {
     "name": "stdout",
     "output_type": "stream",
     "text": [
      "Epoch 1/20\n",
      "134/134 [==============================] - ETA: 0s - loss: 0.4921 - accuracy: 0.7418"
     ]
    },
    {
     "name": "stderr",
     "output_type": "stream",
     "text": [
      "\u001b[34m\u001b[1mwandb\u001b[0m: \u001b[32m\u001b[41mERROR\u001b[0m Can't save model, h5py returned error: Save or restore weights that is not an instance of `tf.Variable` is not supported in h5, use `save_format='tf'` instead. Received a model or layer TextVectorization with weights [<keras.layers.preprocessing.index_lookup.VocabWeightHandler object at 0x7fd5c83a22e0>]\n"
     ]
    },
    {
     "name": "stdout",
     "output_type": "stream",
     "text": [
      "134/134 [==============================] - 8s 24ms/step - loss: 0.4921 - accuracy: 0.7418 - val_loss: 0.3618 - val_accuracy: 0.8194\n",
      "Epoch 2/20\n",
      "134/134 [==============================] - 2s 11ms/step - loss: 0.3825 - accuracy: 0.8283 - val_loss: 0.3166 - val_accuracy: 0.8580\n",
      "Epoch 3/20\n",
      "134/134 [==============================] - 1s 11ms/step - loss: 0.3488 - accuracy: 0.8458 - val_loss: 0.3065 - val_accuracy: 0.8686\n",
      "Epoch 4/20\n",
      "134/134 [==============================] - 1s 11ms/step - loss: 0.3159 - accuracy: 0.8540 - val_loss: 0.2963 - val_accuracy: 0.8566\n",
      "Epoch 5/20\n",
      "134/134 [==============================] - 2s 11ms/step - loss: 0.3013 - accuracy: 0.8636 - val_loss: 0.2867 - val_accuracy: 0.8798\n",
      "Epoch 6/20\n",
      "134/134 [==============================] - 2s 11ms/step - loss: 0.2850 - accuracy: 0.8707 - val_loss: 0.2731 - val_accuracy: 0.8840\n",
      "Epoch 7/20\n",
      "134/134 [==============================] - 1s 10ms/step - loss: 0.2724 - accuracy: 0.8775 - val_loss: 0.2967 - val_accuracy: 0.8651\n",
      "Epoch 8/20\n",
      "134/134 [==============================] - 1s 11ms/step - loss: 0.2538 - accuracy: 0.8887 - val_loss: 0.3395 - val_accuracy: 0.8285\n",
      "Epoch 9/20\n",
      "134/134 [==============================] - 1s 11ms/step - loss: 0.2381 - accuracy: 0.8922 - val_loss: 0.3523 - val_accuracy: 0.8447\n",
      "Epoch 10/20\n",
      "134/134 [==============================] - 2s 11ms/step - loss: 0.2414 - accuracy: 0.8936 - val_loss: 0.2897 - val_accuracy: 0.8848\n",
      "Epoch 11/20\n",
      "134/134 [==============================] - 1s 11ms/step - loss: 0.2168 - accuracy: 0.9051 - val_loss: 0.3027 - val_accuracy: 0.8848\n",
      "Epoch 12/20\n",
      "134/134 [==============================] - 2s 11ms/step - loss: 0.2014 - accuracy: 0.9107 - val_loss: 0.3639 - val_accuracy: 0.8707\n",
      "Epoch 13/20\n",
      "134/134 [==============================] - 2s 13ms/step - loss: 0.1891 - accuracy: 0.9175 - val_loss: 0.3675 - val_accuracy: 0.8700\n",
      "Epoch 14/20\n",
      "134/134 [==============================] - 2s 12ms/step - loss: 0.1673 - accuracy: 0.9278 - val_loss: 0.3329 - val_accuracy: 0.8833\n",
      "Epoch 15/20\n",
      "134/134 [==============================] - 2s 12ms/step - loss: 0.1466 - accuracy: 0.9393 - val_loss: 0.3759 - val_accuracy: 0.8798\n",
      "Epoch 16/20\n",
      "134/134 [==============================] - 1s 11ms/step - loss: 0.1382 - accuracy: 0.9421 - val_loss: 0.3754 - val_accuracy: 0.8742\n",
      "Epoch 17/20\n",
      "134/134 [==============================] - 2s 13ms/step - loss: 0.1120 - accuracy: 0.9567 - val_loss: 0.4565 - val_accuracy: 0.8876\n",
      "Epoch 18/20\n",
      "134/134 [==============================] - 2s 12ms/step - loss: 0.1012 - accuracy: 0.9585 - val_loss: 0.4556 - val_accuracy: 0.8777\n",
      "Epoch 19/20\n",
      "134/134 [==============================] - 2s 12ms/step - loss: 0.0988 - accuracy: 0.9550 - val_loss: 0.4968 - val_accuracy: 0.8693\n",
      "Epoch 20/20\n",
      "134/134 [==============================] - 2s 11ms/step - loss: 0.0950 - accuracy: 0.9634 - val_loss: 0.4521 - val_accuracy: 0.8770\n"
     ]
    },
    {
     "data": {
      "text/html": [
       "<br/>Waiting for W&B process to finish, PID 41608... <strong style=\"color:green\">(success).</strong>"
      ],
      "text/plain": [
       "<IPython.core.display.HTML object>"
      ]
     },
     "metadata": {},
     "output_type": "display_data"
    },
    {
     "data": {
      "text/html": [
       "<style>\n",
       "    table.wandb td:nth-child(1) { padding: 0 10px; text-align: right }\n",
       "    .wandb-row { display: flex; flex-direction: row; flex-wrap: wrap; width: 100% }\n",
       "    .wandb-col { display: flex; flex-direction: column; flex-basis: 100%; flex: 1; padding: 10px; }\n",
       "    </style>\n",
       "<div class=\"wandb-row\"><div class=\"wandb-col\">\n",
       "<h3>Run history:</h3><br/><table class=\"wandb\"><tr><td>accuracy</td><td>▁▄▄▅▅▅▅▆▆▆▆▆▇▇▇▇████</td></tr><tr><td>epoch</td><td>▁▁▂▂▂▃▃▄▄▄▅▅▅▆▆▇▇▇██</td></tr><tr><td>loss</td><td>█▆▅▅▅▄▄▄▄▄▃▃▃▂▂▂▁▁▁▁</td></tr><tr><td>val_accuracy</td><td>▁▅▆▅▇█▆▂▄██▆▆█▇▇█▇▆▇</td></tr><tr><td>val_f1</td><td>▁</td></tr><tr><td>val_loss</td><td>▄▂▂▂▁▁▂▃▃▂▂▄▄▃▄▄▇▇█▇</td></tr></table><br/></div><div class=\"wandb-col\">\n",
       "<h3>Run summary:</h3><br/><table class=\"wandb\"><tr><td>accuracy</td><td>0.96345</td></tr><tr><td>best_epoch</td><td>5</td></tr><tr><td>best_val_loss</td><td>0.27315</td></tr><tr><td>epoch</td><td>19</td></tr><tr><td>loss</td><td>0.09502</td></tr><tr><td>val_accuracy</td><td>0.87702</td></tr><tr><td>val_f1</td><td>0.84404</td></tr><tr><td>val_loss</td><td>0.45214</td></tr></table>\n",
       "</div></div>\n",
       "Synced 5 W&B file(s), 1 media file(s), 0 artifact file(s) and 1 other file(s)\n",
       "<br/>Synced <strong style=\"color:#cdcd00\">robust-sweep-6</strong>: <a href=\"https://wandb.ai/tripleblackcat/uncategorized/runs/c72i0mc4\" target=\"_blank\">https://wandb.ai/tripleblackcat/uncategorized/runs/c72i0mc4</a><br/>\n",
       "Find logs at: <code>./wandb/run-20211120_170951-c72i0mc4/logs</code><br/>\n"
      ],
      "text/plain": [
       "<IPython.core.display.HTML object>"
      ]
     },
     "metadata": {},
     "output_type": "display_data"
    },
    {
     "name": "stderr",
     "output_type": "stream",
     "text": [
      "\u001b[34m\u001b[1mwandb\u001b[0m: Agent Starting Run: v3oyaema with config:\n",
      "\u001b[34m\u001b[1mwandb\u001b[0m: \tbatch_size: 64\n",
      "\u001b[34m\u001b[1mwandb\u001b[0m: \tdropout: 0\n",
      "\u001b[34m\u001b[1mwandb\u001b[0m: \tembedding_dim: 256\n",
      "\u001b[34m\u001b[1mwandb\u001b[0m: \tepochs: 20\n",
      "\u001b[34m\u001b[1mwandb\u001b[0m: \tff_size: 256\n",
      "\u001b[34m\u001b[1mwandb\u001b[0m: \tlr: 0.005\n",
      "\u001b[34m\u001b[1mwandb\u001b[0m: \tlstm_units: 16\n",
      "\u001b[34m\u001b[1mwandb\u001b[0m: \tmax_tokens: None\n"
     ]
    },
    {
     "data": {
      "text/html": [
       "\n",
       "                    Syncing run <strong><a href=\"https://wandb.ai/tripleblackcat/uncategorized/runs/v3oyaema\" target=\"_blank\">ethereal-sweep-7</a></strong> to <a href=\"https://wandb.ai/tripleblackcat/uncategorized\" target=\"_blank\">Weights & Biases</a> (<a href=\"https://docs.wandb.com/integrations/jupyter.html\" target=\"_blank\">docs</a>).<br/>\n",
       "Sweep page: <a href=\"https://wandb.ai/tripleblackcat/uncategorized/sweeps/aoizs7rc\" target=\"_blank\">https://wandb.ai/tripleblackcat/uncategorized/sweeps/aoizs7rc</a><br/>\n",
       "\n",
       "                "
      ],
      "text/plain": [
       "<IPython.core.display.HTML object>"
      ]
     },
     "metadata": {},
     "output_type": "display_data"
    },
    {
     "name": "stdout",
     "output_type": "stream",
     "text": [
      "Epoch 1/20\n",
      "131/134 [============================>.] - ETA: 0s - loss: 0.2956 - accuracy: 0.8693"
     ]
    },
    {
     "name": "stderr",
     "output_type": "stream",
     "text": [
      "\u001b[34m\u001b[1mwandb\u001b[0m: \u001b[32m\u001b[41mERROR\u001b[0m Can't save model, h5py returned error: Save or restore weights that is not an instance of `tf.Variable` is not supported in h5, use `save_format='tf'` instead. Received a model or layer TextVectorization with weights [<keras.layers.preprocessing.index_lookup.VocabWeightHandler object at 0x7fd5f416a0a0>]\n"
     ]
    },
    {
     "name": "stdout",
     "output_type": "stream",
     "text": [
      "134/134 [==============================] - 8s 23ms/step - loss: 0.2974 - accuracy: 0.8683 - val_loss: 0.1875 - val_accuracy: 0.9213\n",
      "Epoch 2/20\n",
      "134/134 [==============================] - 2s 11ms/step - loss: 0.0441 - accuracy: 0.9829 - val_loss: 0.2470 - val_accuracy: 0.9206\n",
      "Epoch 3/20\n",
      "134/134 [==============================] - 1s 11ms/step - loss: 0.0075 - accuracy: 0.9972 - val_loss: 0.3591 - val_accuracy: 0.9185\n",
      "Epoch 4/20\n",
      "134/134 [==============================] - 1s 11ms/step - loss: 0.0052 - accuracy: 0.9979 - val_loss: 0.3587 - val_accuracy: 0.9030\n",
      "Epoch 5/20\n",
      "134/134 [==============================] - 1s 10ms/step - loss: 0.0065 - accuracy: 0.9974 - val_loss: 0.5014 - val_accuracy: 0.8897\n",
      "Epoch 6/20\n",
      "134/134 [==============================] - 1s 10ms/step - loss: 0.0102 - accuracy: 0.9960 - val_loss: 0.5569 - val_accuracy: 0.8995\n",
      "Epoch 7/20\n",
      "134/134 [==============================] - 1s 11ms/step - loss: 0.0259 - accuracy: 0.9918 - val_loss: 0.4307 - val_accuracy: 0.8883\n",
      "Epoch 8/20\n",
      "134/134 [==============================] - 1s 10ms/step - loss: 0.0063 - accuracy: 0.9981 - val_loss: 0.5124 - val_accuracy: 0.9009\n",
      "Epoch 9/20\n",
      "134/134 [==============================] - 1s 10ms/step - loss: 0.0017 - accuracy: 0.9995 - val_loss: 0.6874 - val_accuracy: 0.9030\n",
      "Epoch 10/20\n",
      "134/134 [==============================] - 1s 10ms/step - loss: 4.5226e-04 - accuracy: 1.0000 - val_loss: 0.7177 - val_accuracy: 0.9044\n",
      "Epoch 11/20\n",
      "134/134 [==============================] - 1s 10ms/step - loss: 3.5034e-04 - accuracy: 1.0000 - val_loss: 0.7367 - val_accuracy: 0.9030\n",
      "Epoch 12/20\n",
      "134/134 [==============================] - 1s 10ms/step - loss: 2.8859e-04 - accuracy: 1.0000 - val_loss: 0.7554 - val_accuracy: 0.9037\n",
      "Epoch 13/20\n",
      "134/134 [==============================] - 1s 10ms/step - loss: 2.4528e-04 - accuracy: 1.0000 - val_loss: 0.7742 - val_accuracy: 0.9030\n",
      "Epoch 14/20\n",
      "134/134 [==============================] - 1s 10ms/step - loss: 2.1037e-04 - accuracy: 1.0000 - val_loss: 0.7951 - val_accuracy: 0.9030\n",
      "Epoch 15/20\n",
      "134/134 [==============================] - 1s 10ms/step - loss: 1.8164e-04 - accuracy: 1.0000 - val_loss: 0.8144 - val_accuracy: 0.9037\n",
      "Epoch 16/20\n",
      "134/134 [==============================] - 1s 10ms/step - loss: 1.5567e-04 - accuracy: 1.0000 - val_loss: 0.8347 - val_accuracy: 0.9037\n",
      "Epoch 17/20\n",
      "134/134 [==============================] - 1s 10ms/step - loss: 1.3345e-04 - accuracy: 1.0000 - val_loss: 0.8536 - val_accuracy: 0.9037\n",
      "Epoch 18/20\n",
      "134/134 [==============================] - 1s 10ms/step - loss: 1.1346e-04 - accuracy: 1.0000 - val_loss: 0.8712 - val_accuracy: 0.9037\n",
      "Epoch 19/20\n",
      "134/134 [==============================] - 1s 10ms/step - loss: 9.6333e-05 - accuracy: 1.0000 - val_loss: 0.8909 - val_accuracy: 0.9037\n",
      "Epoch 20/20\n",
      "134/134 [==============================] - 1s 10ms/step - loss: 8.2563e-05 - accuracy: 1.0000 - val_loss: 0.9094 - val_accuracy: 0.9044\n"
     ]
    },
    {
     "data": {
      "text/html": [
       "<br/>Waiting for W&B process to finish, PID 42038... <strong style=\"color:green\">(success).</strong>"
      ],
      "text/plain": [
       "<IPython.core.display.HTML object>"
      ]
     },
     "metadata": {},
     "output_type": "display_data"
    },
    {
     "data": {
      "text/html": [
       "<style>\n",
       "    table.wandb td:nth-child(1) { padding: 0 10px; text-align: right }\n",
       "    .wandb-row { display: flex; flex-direction: row; flex-wrap: wrap; width: 100% }\n",
       "    .wandb-col { display: flex; flex-direction: column; flex-basis: 100%; flex: 1; padding: 10px; }\n",
       "    </style>\n",
       "<div class=\"wandb-row\"><div class=\"wandb-col\">\n",
       "<h3>Run history:</h3><br/><table class=\"wandb\"><tr><td>accuracy</td><td>▁▇██████████████████</td></tr><tr><td>epoch</td><td>▁▁▂▂▂▃▃▄▄▄▅▅▅▆▆▇▇▇██</td></tr><tr><td>loss</td><td>█▂▁▁▁▁▂▁▁▁▁▁▁▁▁▁▁▁▁▁</td></tr><tr><td>val_accuracy</td><td>██▇▄▁▃▁▄▄▄▄▄▄▄▄▄▄▄▄▄</td></tr><tr><td>val_f1</td><td>▁</td></tr><tr><td>val_loss</td><td>▁▂▃▃▄▅▃▄▆▆▆▇▇▇▇▇▇███</td></tr></table><br/></div><div class=\"wandb-col\">\n",
       "<h3>Run summary:</h3><br/><table class=\"wandb\"><tr><td>accuracy</td><td>1.0</td></tr><tr><td>best_epoch</td><td>0</td></tr><tr><td>best_val_loss</td><td>0.18747</td></tr><tr><td>epoch</td><td>19</td></tr><tr><td>loss</td><td>8e-05</td></tr><tr><td>val_accuracy</td><td>0.90443</td></tr><tr><td>val_f1</td><td>0.88549</td></tr><tr><td>val_loss</td><td>0.90944</td></tr></table>\n",
       "</div></div>\n",
       "Synced 5 W&B file(s), 1 media file(s), 0 artifact file(s) and 1 other file(s)\n",
       "<br/>Synced <strong style=\"color:#cdcd00\">ethereal-sweep-7</strong>: <a href=\"https://wandb.ai/tripleblackcat/uncategorized/runs/v3oyaema\" target=\"_blank\">https://wandb.ai/tripleblackcat/uncategorized/runs/v3oyaema</a><br/>\n",
       "Find logs at: <code>./wandb/run-20211120_171045-v3oyaema/logs</code><br/>\n"
      ],
      "text/plain": [
       "<IPython.core.display.HTML object>"
      ]
     },
     "metadata": {},
     "output_type": "display_data"
    },
    {
     "name": "stderr",
     "output_type": "stream",
     "text": [
      "\u001b[34m\u001b[1mwandb\u001b[0m: Agent Starting Run: w0zrzg7o with config:\n",
      "\u001b[34m\u001b[1mwandb\u001b[0m: \tbatch_size: 128\n",
      "\u001b[34m\u001b[1mwandb\u001b[0m: \tdropout: 0\n",
      "\u001b[34m\u001b[1mwandb\u001b[0m: \tembedding_dim: 64\n",
      "\u001b[34m\u001b[1mwandb\u001b[0m: \tepochs: 20\n",
      "\u001b[34m\u001b[1mwandb\u001b[0m: \tff_size: 64\n",
      "\u001b[34m\u001b[1mwandb\u001b[0m: \tlr: 0.0001\n",
      "\u001b[34m\u001b[1mwandb\u001b[0m: \tlstm_units: 256\n",
      "\u001b[34m\u001b[1mwandb\u001b[0m: \tmax_tokens: 5000\n"
     ]
    },
    {
     "data": {
      "text/html": [
       "\n",
       "                    Syncing run <strong><a href=\"https://wandb.ai/tripleblackcat/uncategorized/runs/w0zrzg7o\" target=\"_blank\">restful-sweep-8</a></strong> to <a href=\"https://wandb.ai/tripleblackcat/uncategorized\" target=\"_blank\">Weights & Biases</a> (<a href=\"https://docs.wandb.com/integrations/jupyter.html\" target=\"_blank\">docs</a>).<br/>\n",
       "Sweep page: <a href=\"https://wandb.ai/tripleblackcat/uncategorized/sweeps/aoizs7rc\" target=\"_blank\">https://wandb.ai/tripleblackcat/uncategorized/sweeps/aoizs7rc</a><br/>\n",
       "\n",
       "                "
      ],
      "text/plain": [
       "<IPython.core.display.HTML object>"
      ]
     },
     "metadata": {},
     "output_type": "display_data"
    },
    {
     "name": "stdout",
     "output_type": "stream",
     "text": [
      "Epoch 1/20\n",
      "134/134 [==============================] - ETA: 0s - loss: 0.6242 - accuracy: 0.5612"
     ]
    },
    {
     "name": "stderr",
     "output_type": "stream",
     "text": [
      "\u001b[34m\u001b[1mwandb\u001b[0m: \u001b[32m\u001b[41mERROR\u001b[0m Can't save model, h5py returned error: Save or restore weights that is not an instance of `tf.Variable` is not supported in h5, use `save_format='tf'` instead. Received a model or layer TextVectorization with weights [<keras.layers.preprocessing.index_lookup.VocabWeightHandler object at 0x7fd5c4696cd0>]\n"
     ]
    },
    {
     "name": "stdout",
     "output_type": "stream",
     "text": [
      "134/134 [==============================] - 8s 23ms/step - loss: 0.6242 - accuracy: 0.5612 - val_loss: 0.4195 - val_accuracy: 0.8243\n",
      "Epoch 2/20\n",
      "134/134 [==============================] - 2s 14ms/step - loss: 0.3211 - accuracy: 0.8768 - val_loss: 0.2937 - val_accuracy: 0.8819\n",
      "Epoch 3/20\n",
      "134/134 [==============================] - 2s 13ms/step - loss: 0.2249 - accuracy: 0.9168 - val_loss: 0.2672 - val_accuracy: 0.9002\n",
      "Epoch 4/20\n",
      "134/134 [==============================] - 2s 13ms/step - loss: 0.1563 - accuracy: 0.9459 - val_loss: 0.2479 - val_accuracy: 0.9051\n",
      "Epoch 5/20\n",
      "134/134 [==============================] - 2s 12ms/step - loss: 0.1234 - accuracy: 0.9567 - val_loss: 0.2977 - val_accuracy: 0.8925\n",
      "Epoch 6/20\n",
      "134/134 [==============================] - 2s 11ms/step - loss: 0.0854 - accuracy: 0.9705 - val_loss: 0.3015 - val_accuracy: 0.9150\n",
      "Epoch 7/20\n",
      "134/134 [==============================] - 2s 11ms/step - loss: 0.0644 - accuracy: 0.9815 - val_loss: 0.2995 - val_accuracy: 0.9086\n",
      "Epoch 8/20\n",
      "134/134 [==============================] - 2s 11ms/step - loss: 0.0596 - accuracy: 0.9815 - val_loss: 0.2638 - val_accuracy: 0.9185\n",
      "Epoch 9/20\n",
      "134/134 [==============================] - 1s 11ms/step - loss: 0.0382 - accuracy: 0.9878 - val_loss: 0.3097 - val_accuracy: 0.9171\n",
      "Epoch 10/20\n",
      "134/134 [==============================] - 1s 10ms/step - loss: 0.0279 - accuracy: 0.9911 - val_loss: 0.3506 - val_accuracy: 0.9157\n",
      "Epoch 11/20\n",
      "134/134 [==============================] - 2s 11ms/step - loss: 0.0174 - accuracy: 0.9953 - val_loss: 0.3976 - val_accuracy: 0.9157\n",
      "Epoch 12/20\n",
      "134/134 [==============================] - 1s 11ms/step - loss: 0.0130 - accuracy: 0.9960 - val_loss: 0.4647 - val_accuracy: 0.9129\n",
      "Epoch 13/20\n",
      "134/134 [==============================] - 1s 11ms/step - loss: 0.0517 - accuracy: 0.9909 - val_loss: 0.5241 - val_accuracy: 0.9100\n",
      "Epoch 14/20\n",
      "134/134 [==============================] - 1s 10ms/step - loss: 0.0477 - accuracy: 0.9890 - val_loss: 0.3487 - val_accuracy: 0.9164\n",
      "Epoch 15/20\n",
      "134/134 [==============================] - 1s 11ms/step - loss: 0.0215 - accuracy: 0.9965 - val_loss: 0.4065 - val_accuracy: 0.9122\n",
      "Epoch 16/20\n",
      "134/134 [==============================] - 2s 12ms/step - loss: 0.0167 - accuracy: 0.9981 - val_loss: 0.4385 - val_accuracy: 0.9079\n",
      "Epoch 17/20\n",
      "134/134 [==============================] - 2s 12ms/step - loss: 0.0134 - accuracy: 0.9986 - val_loss: 0.4809 - val_accuracy: 0.9122\n",
      "Epoch 18/20\n",
      "134/134 [==============================] - 1s 11ms/step - loss: 0.0117 - accuracy: 0.9986 - val_loss: 0.5134 - val_accuracy: 0.9108\n",
      "Epoch 19/20\n",
      "134/134 [==============================] - 1s 11ms/step - loss: 0.0103 - accuracy: 0.9988 - val_loss: 0.5425 - val_accuracy: 0.9143\n",
      "Epoch 20/20\n",
      "134/134 [==============================] - 1s 10ms/step - loss: 0.0151 - accuracy: 0.9984 - val_loss: 0.5209 - val_accuracy: 0.9093\n"
     ]
    },
    {
     "data": {
      "text/html": [
       "<br/>Waiting for W&B process to finish, PID 42470... <strong style=\"color:green\">(success).</strong>"
      ],
      "text/plain": [
       "<IPython.core.display.HTML object>"
      ]
     },
     "metadata": {},
     "output_type": "display_data"
    },
    {
     "data": {
      "text/html": [
       "<style>\n",
       "    table.wandb td:nth-child(1) { padding: 0 10px; text-align: right }\n",
       "    .wandb-row { display: flex; flex-direction: row; flex-wrap: wrap; width: 100% }\n",
       "    .wandb-col { display: flex; flex-direction: column; flex-basis: 100%; flex: 1; padding: 10px; }\n",
       "    </style>\n",
       "<div class=\"wandb-row\"><div class=\"wandb-col\">\n",
       "<h3>Run history:</h3><br/><table class=\"wandb\"><tr><td>accuracy</td><td>▁▆▇▇▇███████████████</td></tr><tr><td>epoch</td><td>▁▁▂▂▂▃▃▄▄▄▅▅▅▆▆▇▇▇██</td></tr><tr><td>loss</td><td>█▅▃▃▂▂▂▂▁▁▁▁▁▁▁▁▁▁▁▁</td></tr><tr><td>val_accuracy</td><td>▁▅▇▇▆█▇█████▇██▇█▇█▇</td></tr><tr><td>val_f1</td><td>▁</td></tr><tr><td>val_loss</td><td>▅▂▁▁▂▂▂▁▂▃▅▆█▃▅▆▇▇█▇</td></tr></table><br/></div><div class=\"wandb-col\">\n",
       "<h3>Run summary:</h3><br/><table class=\"wandb\"><tr><td>accuracy</td><td>0.99836</td></tr><tr><td>best_epoch</td><td>3</td></tr><tr><td>best_val_loss</td><td>0.24787</td></tr><tr><td>epoch</td><td>19</td></tr><tr><td>loss</td><td>0.01507</td></tr><tr><td>val_accuracy</td><td>0.90935</td></tr><tr><td>val_f1</td><td>0.8909</td></tr><tr><td>val_loss</td><td>0.5209</td></tr></table>\n",
       "</div></div>\n",
       "Synced 5 W&B file(s), 1 media file(s), 0 artifact file(s) and 1 other file(s)\n",
       "<br/>Synced <strong style=\"color:#cdcd00\">restful-sweep-8</strong>: <a href=\"https://wandb.ai/tripleblackcat/uncategorized/runs/w0zrzg7o\" target=\"_blank\">https://wandb.ai/tripleblackcat/uncategorized/runs/w0zrzg7o</a><br/>\n",
       "Find logs at: <code>./wandb/run-20211120_171133-w0zrzg7o/logs</code><br/>\n"
      ],
      "text/plain": [
       "<IPython.core.display.HTML object>"
      ]
     },
     "metadata": {},
     "output_type": "display_data"
    },
    {
     "name": "stderr",
     "output_type": "stream",
     "text": [
      "\u001b[34m\u001b[1mwandb\u001b[0m: Agent Starting Run: qy4f998w with config:\n",
      "\u001b[34m\u001b[1mwandb\u001b[0m: \tbatch_size: 64\n",
      "\u001b[34m\u001b[1mwandb\u001b[0m: \tdropout: 0\n",
      "\u001b[34m\u001b[1mwandb\u001b[0m: \tembedding_dim: 64\n",
      "\u001b[34m\u001b[1mwandb\u001b[0m: \tepochs: 10\n",
      "\u001b[34m\u001b[1mwandb\u001b[0m: \tff_size: 128\n",
      "\u001b[34m\u001b[1mwandb\u001b[0m: \tlr: 0.0005\n",
      "\u001b[34m\u001b[1mwandb\u001b[0m: \tlstm_units: 256\n",
      "\u001b[34m\u001b[1mwandb\u001b[0m: \tmax_tokens: 1000\n"
     ]
    },
    {
     "data": {
      "text/html": [
       "\n",
       "                    Syncing run <strong><a href=\"https://wandb.ai/tripleblackcat/uncategorized/runs/qy4f998w\" target=\"_blank\">amber-sweep-9</a></strong> to <a href=\"https://wandb.ai/tripleblackcat/uncategorized\" target=\"_blank\">Weights & Biases</a> (<a href=\"https://docs.wandb.com/integrations/jupyter.html\" target=\"_blank\">docs</a>).<br/>\n",
       "Sweep page: <a href=\"https://wandb.ai/tripleblackcat/uncategorized/sweeps/aoizs7rc\" target=\"_blank\">https://wandb.ai/tripleblackcat/uncategorized/sweeps/aoizs7rc</a><br/>\n",
       "\n",
       "                "
      ],
      "text/plain": [
       "<IPython.core.display.HTML object>"
      ]
     },
     "metadata": {},
     "output_type": "display_data"
    },
    {
     "name": "stdout",
     "output_type": "stream",
     "text": [
      "Epoch 1/10\n",
      "131/134 [============================>.] - ETA: 0s - loss: 0.4452 - accuracy: 0.7660"
     ]
    },
    {
     "name": "stderr",
     "output_type": "stream",
     "text": [
      "\u001b[34m\u001b[1mwandb\u001b[0m: \u001b[32m\u001b[41mERROR\u001b[0m Can't save model, h5py returned error: Save or restore weights that is not an instance of `tf.Variable` is not supported in h5, use `save_format='tf'` instead. Received a model or layer TextVectorization with weights [<keras.layers.preprocessing.index_lookup.VocabWeightHandler object at 0x7fd5f4100df0>]\n"
     ]
    },
    {
     "name": "stdout",
     "output_type": "stream",
     "text": [
      "134/134 [==============================] - 9s 24ms/step - loss: 0.4448 - accuracy: 0.7683 - val_loss: 0.2558 - val_accuracy: 0.9037\n",
      "Epoch 2/10\n",
      "134/134 [==============================] - 2s 12ms/step - loss: 0.2152 - accuracy: 0.9119 - val_loss: 0.2826 - val_accuracy: 0.8742\n",
      "Epoch 3/10\n",
      "134/134 [==============================] - 2s 11ms/step - loss: 0.1771 - accuracy: 0.9306 - val_loss: 0.2338 - val_accuracy: 0.8995\n",
      "Epoch 4/10\n",
      "134/134 [==============================] - 1s 11ms/step - loss: 0.1459 - accuracy: 0.9381 - val_loss: 0.2482 - val_accuracy: 0.9044\n",
      "Epoch 5/10\n",
      "134/134 [==============================] - 1s 11ms/step - loss: 0.1183 - accuracy: 0.9536 - val_loss: 0.2870 - val_accuracy: 0.9093\n",
      "Epoch 6/10\n",
      "134/134 [==============================] - 1s 11ms/step - loss: 0.1025 - accuracy: 0.9639 - val_loss: 0.2880 - val_accuracy: 0.9072\n",
      "Epoch 7/10\n",
      "134/134 [==============================] - 1s 11ms/step - loss: 0.1009 - accuracy: 0.9585 - val_loss: 0.3859 - val_accuracy: 0.9023\n",
      "Epoch 8/10\n",
      "134/134 [==============================] - 1s 11ms/step - loss: 0.0722 - accuracy: 0.9721 - val_loss: 0.3040 - val_accuracy: 0.9093\n",
      "Epoch 9/10\n",
      "134/134 [==============================] - 2s 11ms/step - loss: 0.0590 - accuracy: 0.9782 - val_loss: 0.3518 - val_accuracy: 0.8988\n",
      "Epoch 10/10\n",
      "134/134 [==============================] - 2s 11ms/step - loss: 0.0565 - accuracy: 0.9775 - val_loss: 0.4085 - val_accuracy: 0.8953\n"
     ]
    },
    {
     "data": {
      "text/html": [
       "<br/>Waiting for W&B process to finish, PID 42913... <strong style=\"color:green\">(success).</strong>"
      ],
      "text/plain": [
       "<IPython.core.display.HTML object>"
      ]
     },
     "metadata": {},
     "output_type": "display_data"
    },
    {
     "data": {
      "text/html": [
       "<style>\n",
       "    table.wandb td:nth-child(1) { padding: 0 10px; text-align: right }\n",
       "    .wandb-row { display: flex; flex-direction: row; flex-wrap: wrap; width: 100% }\n",
       "    .wandb-col { display: flex; flex-direction: column; flex-basis: 100%; flex: 1; padding: 10px; }\n",
       "    </style>\n",
       "<div class=\"wandb-row\"><div class=\"wandb-col\">\n",
       "<h3>Run history:</h3><br/><table class=\"wandb\"><tr><td>accuracy</td><td>▁▆▆▇▇█▇███</td></tr><tr><td>epoch</td><td>▁▂▃▃▄▅▆▆▇█</td></tr><tr><td>loss</td><td>█▄▃▃▂▂▂▁▁▁</td></tr><tr><td>val_accuracy</td><td>▇▁▆▇██▇█▆▅</td></tr><tr><td>val_f1</td><td>▁</td></tr><tr><td>val_loss</td><td>▂▃▁▂▃▃▇▄▆█</td></tr></table><br/></div><div class=\"wandb-col\">\n",
       "<h3>Run summary:</h3><br/><table class=\"wandb\"><tr><td>accuracy</td><td>0.97751</td></tr><tr><td>best_epoch</td><td>2</td></tr><tr><td>best_val_loss</td><td>0.23385</td></tr><tr><td>epoch</td><td>9</td></tr><tr><td>loss</td><td>0.0565</td></tr><tr><td>val_accuracy</td><td>0.89529</td></tr><tr><td>val_f1</td><td>0.8827</td></tr><tr><td>val_loss</td><td>0.40846</td></tr></table>\n",
       "</div></div>\n",
       "Synced 5 W&B file(s), 1 media file(s), 0 artifact file(s) and 1 other file(s)\n",
       "<br/>Synced <strong style=\"color:#cdcd00\">amber-sweep-9</strong>: <a href=\"https://wandb.ai/tripleblackcat/uncategorized/runs/qy4f998w\" target=\"_blank\">https://wandb.ai/tripleblackcat/uncategorized/runs/qy4f998w</a><br/>\n",
       "Find logs at: <code>./wandb/run-20211120_171226-qy4f998w/logs</code><br/>\n"
      ],
      "text/plain": [
       "<IPython.core.display.HTML object>"
      ]
     },
     "metadata": {},
     "output_type": "display_data"
    },
    {
     "name": "stderr",
     "output_type": "stream",
     "text": [
      "\u001b[34m\u001b[1mwandb\u001b[0m: Agent Starting Run: n9hm59wn with config:\n",
      "\u001b[34m\u001b[1mwandb\u001b[0m: \tbatch_size: 64\n",
      "\u001b[34m\u001b[1mwandb\u001b[0m: \tdropout: 0.5\n",
      "\u001b[34m\u001b[1mwandb\u001b[0m: \tembedding_dim: 16\n",
      "\u001b[34m\u001b[1mwandb\u001b[0m: \tepochs: 20\n",
      "\u001b[34m\u001b[1mwandb\u001b[0m: \tff_size: 128\n",
      "\u001b[34m\u001b[1mwandb\u001b[0m: \tlr: 0.0001\n",
      "\u001b[34m\u001b[1mwandb\u001b[0m: \tlstm_units: 256\n",
      "\u001b[34m\u001b[1mwandb\u001b[0m: \tmax_tokens: 100\n"
     ]
    },
    {
     "data": {
      "text/html": [
       "\n",
       "                    Syncing run <strong><a href=\"https://wandb.ai/tripleblackcat/uncategorized/runs/n9hm59wn\" target=\"_blank\">drawn-sweep-10</a></strong> to <a href=\"https://wandb.ai/tripleblackcat/uncategorized\" target=\"_blank\">Weights & Biases</a> (<a href=\"https://docs.wandb.com/integrations/jupyter.html\" target=\"_blank\">docs</a>).<br/>\n",
       "Sweep page: <a href=\"https://wandb.ai/tripleblackcat/uncategorized/sweeps/aoizs7rc\" target=\"_blank\">https://wandb.ai/tripleblackcat/uncategorized/sweeps/aoizs7rc</a><br/>\n",
       "\n",
       "                "
      ],
      "text/plain": [
       "<IPython.core.display.HTML object>"
      ]
     },
     "metadata": {},
     "output_type": "display_data"
    },
    {
     "name": "stdout",
     "output_type": "stream",
     "text": [
      "Epoch 1/20\n",
      "129/134 [===========================>..] - ETA: 0s - loss: 0.6904 - accuracy: 0.5063"
     ]
    },
    {
     "name": "stderr",
     "output_type": "stream",
     "text": [
      "\u001b[34m\u001b[1mwandb\u001b[0m: \u001b[32m\u001b[41mERROR\u001b[0m Can't save model, h5py returned error: Save or restore weights that is not an instance of `tf.Variable` is not supported in h5, use `save_format='tf'` instead. Received a model or layer TextVectorization with weights [<keras.layers.preprocessing.index_lookup.VocabWeightHandler object at 0x7fd5ca684430>]\n"
     ]
    },
    {
     "name": "stdout",
     "output_type": "stream",
     "text": [
      "134/134 [==============================] - 8s 27ms/step - loss: 0.6901 - accuracy: 0.5056 - val_loss: 0.6791 - val_accuracy: 0.4891\n",
      "Epoch 2/20\n",
      "134/134 [==============================] - 2s 11ms/step - loss: 0.5971 - accuracy: 0.5761 - val_loss: 0.5115 - val_accuracy: 0.7498\n",
      "Epoch 3/20\n",
      "134/134 [==============================] - 2s 12ms/step - loss: 0.4671 - accuracy: 0.7873 - val_loss: 0.4025 - val_accuracy: 0.8243\n",
      "Epoch 4/20\n",
      "134/134 [==============================] - 2s 11ms/step - loss: 0.3891 - accuracy: 0.8343 - val_loss: 0.3509 - val_accuracy: 0.8552\n",
      "Epoch 5/20\n",
      "134/134 [==============================] - 1s 11ms/step - loss: 0.3693 - accuracy: 0.8388 - val_loss: 0.3974 - val_accuracy: 0.7990\n",
      "Epoch 6/20\n",
      "134/134 [==============================] - 2s 11ms/step - loss: 0.3651 - accuracy: 0.8360 - val_loss: 0.3315 - val_accuracy: 0.8573\n",
      "Epoch 7/20\n",
      "134/134 [==============================] - 2s 12ms/step - loss: 0.3507 - accuracy: 0.8456 - val_loss: 0.3229 - val_accuracy: 0.8531\n",
      "Epoch 8/20\n",
      "134/134 [==============================] - 1s 11ms/step - loss: 0.3430 - accuracy: 0.8477 - val_loss: 0.3202 - val_accuracy: 0.8517\n",
      "Epoch 9/20\n",
      "134/134 [==============================] - 1s 11ms/step - loss: 0.3332 - accuracy: 0.8463 - val_loss: 0.3145 - val_accuracy: 0.8651\n",
      "Epoch 10/20\n",
      "134/134 [==============================] - 2s 11ms/step - loss: 0.3409 - accuracy: 0.8416 - val_loss: 0.3192 - val_accuracy: 0.8489\n",
      "Epoch 11/20\n",
      "134/134 [==============================] - 1s 11ms/step - loss: 0.3298 - accuracy: 0.8510 - val_loss: 0.3229 - val_accuracy: 0.8651\n",
      "Epoch 12/20\n",
      "134/134 [==============================] - 2s 13ms/step - loss: 0.3223 - accuracy: 0.8545 - val_loss: 0.3238 - val_accuracy: 0.8496\n",
      "Epoch 13/20\n",
      "134/134 [==============================] - 1s 10ms/step - loss: 0.3290 - accuracy: 0.8479 - val_loss: 0.3158 - val_accuracy: 0.8538\n",
      "Epoch 14/20\n",
      "134/134 [==============================] - 2s 11ms/step - loss: 0.3209 - accuracy: 0.8531 - val_loss: 0.3120 - val_accuracy: 0.8587\n",
      "Epoch 15/20\n",
      "134/134 [==============================] - 2s 13ms/step - loss: 0.3215 - accuracy: 0.8552 - val_loss: 0.3064 - val_accuracy: 0.8721\n",
      "Epoch 16/20\n",
      "134/134 [==============================] - 2s 11ms/step - loss: 0.3148 - accuracy: 0.8615 - val_loss: 0.3034 - val_accuracy: 0.8623\n",
      "Epoch 17/20\n",
      "134/134 [==============================] - 2s 12ms/step - loss: 0.3167 - accuracy: 0.8531 - val_loss: 0.3049 - val_accuracy: 0.8728\n",
      "Epoch 18/20\n",
      "134/134 [==============================] - 2s 12ms/step - loss: 0.3180 - accuracy: 0.8585 - val_loss: 0.3184 - val_accuracy: 0.8721\n",
      "Epoch 19/20\n",
      "134/134 [==============================] - 1s 11ms/step - loss: 0.3167 - accuracy: 0.8554 - val_loss: 0.3106 - val_accuracy: 0.8721\n",
      "Epoch 20/20\n",
      "134/134 [==============================] - 2s 11ms/step - loss: 0.3124 - accuracy: 0.8627 - val_loss: 0.3021 - val_accuracy: 0.8693\n"
     ]
    },
    {
     "data": {
      "text/html": [
       "<br/>Waiting for W&B process to finish, PID 43182... <strong style=\"color:green\">(success).</strong>"
      ],
      "text/plain": [
       "<IPython.core.display.HTML object>"
      ]
     },
     "metadata": {},
     "output_type": "display_data"
    },
    {
     "data": {
      "text/html": [
       "<style>\n",
       "    table.wandb td:nth-child(1) { padding: 0 10px; text-align: right }\n",
       "    .wandb-row { display: flex; flex-direction: row; flex-wrap: wrap; width: 100% }\n",
       "    .wandb-col { display: flex; flex-direction: column; flex-basis: 100%; flex: 1; padding: 10px; }\n",
       "    </style>\n",
       "<div class=\"wandb-row\"><div class=\"wandb-col\">\n",
       "<h3>Run history:</h3><br/><table class=\"wandb\"><tr><td>accuracy</td><td>▁▂▇▇█▇██████████████</td></tr><tr><td>epoch</td><td>▁▁▂▂▂▃▃▄▄▄▅▅▅▆▆▇▇▇██</td></tr><tr><td>loss</td><td>█▆▄▂▂▂▂▂▁▂▁▁▁▁▁▁▁▁▁▁</td></tr><tr><td>val_accuracy</td><td>▁▆▇█▇███████████████</td></tr><tr><td>val_f1</td><td>▁</td></tr><tr><td>val_loss</td><td>█▅▃▂▃▂▁▁▁▁▁▁▁▁▁▁▁▁▁▁</td></tr></table><br/></div><div class=\"wandb-col\">\n",
       "<h3>Run summary:</h3><br/><table class=\"wandb\"><tr><td>accuracy</td><td>0.8627</td></tr><tr><td>best_epoch</td><td>19</td></tr><tr><td>best_val_loss</td><td>0.30214</td></tr><tr><td>epoch</td><td>19</td></tr><tr><td>loss</td><td>0.31242</td></tr><tr><td>val_accuracy</td><td>0.86929</td></tr><tr><td>val_f1</td><td>0.84942</td></tr><tr><td>val_loss</td><td>0.30214</td></tr></table>\n",
       "</div></div>\n",
       "Synced 5 W&B file(s), 1 media file(s), 0 artifact file(s) and 1 other file(s)\n",
       "<br/>Synced <strong style=\"color:#cdcd00\">drawn-sweep-10</strong>: <a href=\"https://wandb.ai/tripleblackcat/uncategorized/runs/n9hm59wn\" target=\"_blank\">https://wandb.ai/tripleblackcat/uncategorized/runs/n9hm59wn</a><br/>\n",
       "Find logs at: <code>./wandb/run-20211120_171303-n9hm59wn/logs</code><br/>\n"
      ],
      "text/plain": [
       "<IPython.core.display.HTML object>"
      ]
     },
     "metadata": {},
     "output_type": "display_data"
    },
    {
     "name": "stderr",
     "output_type": "stream",
     "text": [
      "\u001b[34m\u001b[1mwandb\u001b[0m: Agent Starting Run: hnx5v0es with config:\n",
      "\u001b[34m\u001b[1mwandb\u001b[0m: \tbatch_size: 256\n",
      "\u001b[34m\u001b[1mwandb\u001b[0m: \tdropout: 0.5\n",
      "\u001b[34m\u001b[1mwandb\u001b[0m: \tembedding_dim: 64\n",
      "\u001b[34m\u001b[1mwandb\u001b[0m: \tepochs: 40\n",
      "\u001b[34m\u001b[1mwandb\u001b[0m: \tff_size: 64\n",
      "\u001b[34m\u001b[1mwandb\u001b[0m: \tlr: 0.0005\n",
      "\u001b[34m\u001b[1mwandb\u001b[0m: \tlstm_units: 256\n",
      "\u001b[34m\u001b[1mwandb\u001b[0m: \tmax_tokens: 5000\n"
     ]
    },
    {
     "data": {
      "text/html": [
       "\n",
       "                    Syncing run <strong><a href=\"https://wandb.ai/tripleblackcat/uncategorized/runs/hnx5v0es\" target=\"_blank\">expert-sweep-11</a></strong> to <a href=\"https://wandb.ai/tripleblackcat/uncategorized\" target=\"_blank\">Weights & Biases</a> (<a href=\"https://docs.wandb.com/integrations/jupyter.html\" target=\"_blank\">docs</a>).<br/>\n",
       "Sweep page: <a href=\"https://wandb.ai/tripleblackcat/uncategorized/sweeps/aoizs7rc\" target=\"_blank\">https://wandb.ai/tripleblackcat/uncategorized/sweeps/aoizs7rc</a><br/>\n",
       "\n",
       "                "
      ],
      "text/plain": [
       "<IPython.core.display.HTML object>"
      ]
     },
     "metadata": {},
     "output_type": "display_data"
    },
    {
     "name": "stdout",
     "output_type": "stream",
     "text": [
      "Epoch 1/40\n",
      "129/134 [===========================>..] - ETA: 0s - loss: 0.4811 - accuracy: 0.7277"
     ]
    },
    {
     "name": "stderr",
     "output_type": "stream",
     "text": [
      "\u001b[34m\u001b[1mwandb\u001b[0m: \u001b[32m\u001b[41mERROR\u001b[0m Can't save model, h5py returned error: Save or restore weights that is not an instance of `tf.Variable` is not supported in h5, use `save_format='tf'` instead. Received a model or layer TextVectorization with weights [<keras.layers.preprocessing.index_lookup.VocabWeightHandler object at 0x7fd5ca6c3250>]\n"
     ]
    },
    {
     "name": "stdout",
     "output_type": "stream",
     "text": [
      "134/134 [==============================] - 9s 24ms/step - loss: 0.4744 - accuracy: 0.7334 - val_loss: 0.2705 - val_accuracy: 0.8833\n",
      "Epoch 2/40\n",
      "134/134 [==============================] - 1s 10ms/step - loss: 0.1919 - accuracy: 0.9241 - val_loss: 0.2422 - val_accuracy: 0.9100\n",
      "Epoch 3/40\n",
      "134/134 [==============================] - 2s 12ms/step - loss: 0.1260 - accuracy: 0.9581 - val_loss: 0.2192 - val_accuracy: 0.9227\n",
      "Epoch 4/40\n",
      "134/134 [==============================] - 2s 12ms/step - loss: 0.0570 - accuracy: 0.9820 - val_loss: 0.2465 - val_accuracy: 0.9206\n",
      "Epoch 5/40\n",
      "134/134 [==============================] - 1s 11ms/step - loss: 0.0441 - accuracy: 0.9873 - val_loss: 0.2255 - val_accuracy: 0.9157\n",
      "Epoch 6/40\n",
      "134/134 [==============================] - 1s 10ms/step - loss: 0.0309 - accuracy: 0.9902 - val_loss: 0.3265 - val_accuracy: 0.9171\n",
      "Epoch 7/40\n",
      "134/134 [==============================] - 1s 10ms/step - loss: 0.0104 - accuracy: 0.9970 - val_loss: 0.3708 - val_accuracy: 0.9227\n",
      "Epoch 8/40\n",
      "134/134 [==============================] - 1s 11ms/step - loss: 0.0148 - accuracy: 0.9972 - val_loss: 0.3794 - val_accuracy: 0.9150\n",
      "Epoch 9/40\n",
      "134/134 [==============================] - 1s 10ms/step - loss: 0.0055 - accuracy: 0.9986 - val_loss: 0.4871 - val_accuracy: 0.9143\n",
      "Epoch 10/40\n",
      "134/134 [==============================] - 1s 11ms/step - loss: 0.0123 - accuracy: 0.9977 - val_loss: 0.2405 - val_accuracy: 0.9150\n",
      "Epoch 11/40\n",
      "134/134 [==============================] - ETA: 0s - loss: 0.0073 - accuracy: 0.99 - 1s 11ms/step - loss: 0.0071 - accuracy: 0.9991 - val_loss: 0.4169 - val_accuracy: 0.9241\n",
      "Epoch 12/40\n",
      "134/134 [==============================] - 1s 11ms/step - loss: 0.0026 - accuracy: 0.9995 - val_loss: 0.5926 - val_accuracy: 0.9079\n",
      "Epoch 13/40\n",
      "134/134 [==============================] - 1s 10ms/step - loss: 0.0097 - accuracy: 0.9979 - val_loss: 0.2456 - val_accuracy: 0.9093\n",
      "Epoch 14/40\n",
      "134/134 [==============================] - 1s 11ms/step - loss: 0.0254 - accuracy: 0.9927 - val_loss: 0.3774 - val_accuracy: 0.9164\n",
      "Epoch 15/40\n",
      "134/134 [==============================] - 1s 11ms/step - loss: 0.0098 - accuracy: 0.9977 - val_loss: 0.3710 - val_accuracy: 0.9108\n",
      "Epoch 16/40\n",
      "134/134 [==============================] - 1s 10ms/step - loss: 0.0160 - accuracy: 0.9955 - val_loss: 0.3852 - val_accuracy: 0.9093\n",
      "Epoch 17/40\n",
      "134/134 [==============================] - 1s 11ms/step - loss: 0.0049 - accuracy: 0.9995 - val_loss: 0.5377 - val_accuracy: 0.9079\n",
      "Epoch 18/40\n",
      "134/134 [==============================] - 2s 11ms/step - loss: 0.0064 - accuracy: 0.9988 - val_loss: 0.4384 - val_accuracy: 0.9051\n",
      "Epoch 19/40\n",
      "134/134 [==============================] - 1s 10ms/step - loss: 0.0079 - accuracy: 0.9979 - val_loss: 0.4177 - val_accuracy: 0.9079\n",
      "Epoch 20/40\n",
      "134/134 [==============================] - 1s 9ms/step - loss: 0.0017 - accuracy: 1.0000 - val_loss: 0.5161 - val_accuracy: 0.9100\n",
      "Epoch 21/40\n",
      "134/134 [==============================] - 1s 11ms/step - loss: 0.0012 - accuracy: 1.0000 - val_loss: 0.5672 - val_accuracy: 0.9122\n",
      "Epoch 22/40\n",
      "134/134 [==============================] - 1s 11ms/step - loss: 0.0010 - accuracy: 1.0000 - val_loss: 0.6099 - val_accuracy: 0.9108\n",
      "Epoch 23/40\n",
      "134/134 [==============================] - 2s 11ms/step - loss: 8.6626e-04 - accuracy: 1.0000 - val_loss: 0.6635 - val_accuracy: 0.9100\n",
      "Epoch 24/40\n",
      "134/134 [==============================] - 1s 11ms/step - loss: 8.5843e-04 - accuracy: 0.9998 - val_loss: 0.7130 - val_accuracy: 0.9093\n",
      "Epoch 25/40\n",
      "134/134 [==============================] - 2s 12ms/step - loss: 7.5736e-04 - accuracy: 1.0000 - val_loss: 0.7268 - val_accuracy: 0.9100\n",
      "Epoch 26/40\n",
      "134/134 [==============================] - 1s 11ms/step - loss: 7.1768e-04 - accuracy: 1.0000 - val_loss: 0.7707 - val_accuracy: 0.9086\n",
      "Epoch 27/40\n",
      "134/134 [==============================] - 1s 11ms/step - loss: 6.8940e-04 - accuracy: 1.0000 - val_loss: 0.8016 - val_accuracy: 0.9093\n",
      "Epoch 28/40\n",
      "134/134 [==============================] - 1s 11ms/step - loss: 6.3474e-04 - accuracy: 1.0000 - val_loss: 0.7570 - val_accuracy: 0.9108\n",
      "Epoch 29/40\n",
      "134/134 [==============================] - 1s 11ms/step - loss: 6.1576e-04 - accuracy: 1.0000 - val_loss: 0.7977 - val_accuracy: 0.9086\n",
      "Epoch 30/40\n",
      "134/134 [==============================] - 1s 11ms/step - loss: 5.8214e-04 - accuracy: 1.0000 - val_loss: 0.8396 - val_accuracy: 0.9093\n",
      "Epoch 31/40\n",
      "134/134 [==============================] - 1s 11ms/step - loss: 4.7962e-04 - accuracy: 1.0000 - val_loss: 0.8646 - val_accuracy: 0.9100\n",
      "Epoch 32/40\n",
      "134/134 [==============================] - 1s 11ms/step - loss: 4.6744e-04 - accuracy: 1.0000 - val_loss: 0.8898 - val_accuracy: 0.9093\n",
      "Epoch 33/40\n",
      "134/134 [==============================] - 1s 11ms/step - loss: 4.4353e-04 - accuracy: 1.0000 - val_loss: 0.9155 - val_accuracy: 0.9093\n",
      "Epoch 34/40\n",
      "134/134 [==============================] - 1s 10ms/step - loss: 4.2961e-04 - accuracy: 1.0000 - val_loss: 0.9325 - val_accuracy: 0.9100\n",
      "Epoch 35/40\n",
      "134/134 [==============================] - 2s 11ms/step - loss: 3.7233e-04 - accuracy: 1.0000 - val_loss: 0.9446 - val_accuracy: 0.9115\n",
      "Epoch 36/40\n",
      "134/134 [==============================] - 1s 10ms/step - loss: 3.9739e-04 - accuracy: 1.0000 - val_loss: 0.9843 - val_accuracy: 0.9108\n",
      "Epoch 37/40\n",
      "134/134 [==============================] - 1s 10ms/step - loss: 3.8263e-04 - accuracy: 1.0000 - val_loss: 1.0333 - val_accuracy: 0.9129\n",
      "Epoch 38/40\n",
      "134/134 [==============================] - 1s 10ms/step - loss: 3.5730e-04 - accuracy: 1.0000 - val_loss: 1.0585 - val_accuracy: 0.9108\n",
      "Epoch 39/40\n",
      "134/134 [==============================] - 1s 10ms/step - loss: 2.5544e-04 - accuracy: 1.0000 - val_loss: 1.0451 - val_accuracy: 0.9100\n",
      "Epoch 40/40\n",
      "134/134 [==============================] - 1s 10ms/step - loss: 2.9641e-04 - accuracy: 1.0000 - val_loss: 1.0680 - val_accuracy: 0.9115\n"
     ]
    },
    {
     "data": {
      "text/html": [
       "<br/>Waiting for W&B process to finish, PID 43614... <strong style=\"color:green\">(success).</strong>"
      ],
      "text/plain": [
       "<IPython.core.display.HTML object>"
      ]
     },
     "metadata": {},
     "output_type": "display_data"
    },
    {
     "data": {
      "text/html": [
       "<style>\n",
       "    table.wandb td:nth-child(1) { padding: 0 10px; text-align: right }\n",
       "    .wandb-row { display: flex; flex-direction: row; flex-wrap: wrap; width: 100% }\n",
       "    .wandb-col { display: flex; flex-direction: column; flex-basis: 100%; flex: 1; padding: 10px; }\n",
       "    </style>\n",
       "<div class=\"wandb-row\"><div class=\"wandb-col\">\n",
       "<h3>Run history:</h3><br/><table class=\"wandb\"><tr><td>accuracy</td><td>▁▆▇█████████████████████████████████████</td></tr><tr><td>epoch</td><td>▁▁▁▂▂▂▂▂▂▃▃▃▃▃▄▄▄▄▄▄▅▅▅▅▅▅▆▆▆▆▆▇▇▇▇▇▇███</td></tr><tr><td>loss</td><td>█▄▃▂▂▁▁▁▁▁▁▁▁▁▁▁▁▁▁▁▁▁▁▁▁▁▁▁▁▁▁▁▁▁▁▁▁▁▁▁</td></tr><tr><td>val_accuracy</td><td>▁▆█▇▇▇█▆▆▆█▅▅▇▆▅▅▅▅▆▆▆▆▅▆▅▅▆▅▅▆▅▅▆▆▆▆▆▆▆</td></tr><tr><td>val_f1</td><td>▁</td></tr><tr><td>val_loss</td><td>▁▁▁▁▁▂▂▂▃▁▃▄▁▂▂▂▄▃▃▃▄▄▅▅▅▆▆▅▆▆▆▇▇▇▇▇████</td></tr></table><br/></div><div class=\"wandb-col\">\n",
       "<h3>Run summary:</h3><br/><table class=\"wandb\"><tr><td>accuracy</td><td>1.0</td></tr><tr><td>best_epoch</td><td>2</td></tr><tr><td>best_val_loss</td><td>0.21919</td></tr><tr><td>epoch</td><td>39</td></tr><tr><td>loss</td><td>0.0003</td></tr><tr><td>val_accuracy</td><td>0.91145</td></tr><tr><td>val_f1</td><td>0.89052</td></tr><tr><td>val_loss</td><td>1.068</td></tr></table>\n",
       "</div></div>\n",
       "Synced 5 W&B file(s), 1 media file(s), 0 artifact file(s) and 1 other file(s)\n",
       "<br/>Synced <strong style=\"color:#cdcd00\">expert-sweep-11</strong>: <a href=\"https://wandb.ai/tripleblackcat/uncategorized/runs/hnx5v0es\" target=\"_blank\">https://wandb.ai/tripleblackcat/uncategorized/runs/hnx5v0es</a><br/>\n",
       "Find logs at: <code>./wandb/run-20211120_171356-hnx5v0es/logs</code><br/>\n"
      ],
      "text/plain": [
       "<IPython.core.display.HTML object>"
      ]
     },
     "metadata": {},
     "output_type": "display_data"
    },
    {
     "name": "stderr",
     "output_type": "stream",
     "text": [
      "\u001b[34m\u001b[1mwandb\u001b[0m: Agent Starting Run: p4zjmf81 with config:\n",
      "\u001b[34m\u001b[1mwandb\u001b[0m: \tbatch_size: 128\n",
      "\u001b[34m\u001b[1mwandb\u001b[0m: \tdropout: 0\n",
      "\u001b[34m\u001b[1mwandb\u001b[0m: \tembedding_dim: 32\n",
      "\u001b[34m\u001b[1mwandb\u001b[0m: \tepochs: 40\n",
      "\u001b[34m\u001b[1mwandb\u001b[0m: \tff_size: 128\n",
      "\u001b[34m\u001b[1mwandb\u001b[0m: \tlr: 0.005\n",
      "\u001b[34m\u001b[1mwandb\u001b[0m: \tlstm_units: 64\n",
      "\u001b[34m\u001b[1mwandb\u001b[0m: \tmax_tokens: 100\n"
     ]
    },
    {
     "data": {
      "text/html": [
       "\n",
       "                    Syncing run <strong><a href=\"https://wandb.ai/tripleblackcat/uncategorized/runs/p4zjmf81\" target=\"_blank\">morning-sweep-12</a></strong> to <a href=\"https://wandb.ai/tripleblackcat/uncategorized\" target=\"_blank\">Weights & Biases</a> (<a href=\"https://docs.wandb.com/integrations/jupyter.html\" target=\"_blank\">docs</a>).<br/>\n",
       "Sweep page: <a href=\"https://wandb.ai/tripleblackcat/uncategorized/sweeps/aoizs7rc\" target=\"_blank\">https://wandb.ai/tripleblackcat/uncategorized/sweeps/aoizs7rc</a><br/>\n",
       "\n",
       "                "
      ],
      "text/plain": [
       "<IPython.core.display.HTML object>"
      ]
     },
     "metadata": {},
     "output_type": "display_data"
    },
    {
     "name": "stdout",
     "output_type": "stream",
     "text": [
      "Epoch 1/40\n",
      "133/134 [============================>.] - ETA: 0s - loss: 0.4384 - accuracy: 0.7751"
     ]
    },
    {
     "name": "stderr",
     "output_type": "stream",
     "text": [
      "\u001b[34m\u001b[1mwandb\u001b[0m: \u001b[32m\u001b[41mERROR\u001b[0m Can't save model, h5py returned error: Save or restore weights that is not an instance of `tf.Variable` is not supported in h5, use `save_format='tf'` instead. Received a model or layer TextVectorization with weights [<keras.layers.preprocessing.index_lookup.VocabWeightHandler object at 0x7fd5c4664190>]\n"
     ]
    },
    {
     "name": "stdout",
     "output_type": "stream",
     "text": [
      "134/134 [==============================] - 8s 20ms/step - loss: 0.4377 - accuracy: 0.7758 - val_loss: 0.3479 - val_accuracy: 0.8194\n",
      "Epoch 2/40\n",
      "134/134 [==============================] - 1s 11ms/step - loss: 0.3415 - accuracy: 0.8397 - val_loss: 0.3127 - val_accuracy: 0.8693\n",
      "Epoch 3/40\n",
      "134/134 [==============================] - 1s 9ms/step - loss: 0.3259 - accuracy: 0.8472 - val_loss: 0.3002 - val_accuracy: 0.8672\n",
      "Epoch 4/40\n",
      "134/134 [==============================] - 1s 10ms/step - loss: 0.3033 - accuracy: 0.8592 - val_loss: 0.2897 - val_accuracy: 0.8805\n",
      "Epoch 5/40\n",
      "134/134 [==============================] - 1s 10ms/step - loss: 0.2818 - accuracy: 0.8711 - val_loss: 0.2913 - val_accuracy: 0.8616\n",
      "Epoch 6/40\n",
      "134/134 [==============================] - 1s 8ms/step - loss: 0.2747 - accuracy: 0.8756 - val_loss: 0.3281 - val_accuracy: 0.8250\n",
      "Epoch 7/40\n",
      "134/134 [==============================] - 1s 9ms/step - loss: 0.2595 - accuracy: 0.8821 - val_loss: 0.2955 - val_accuracy: 0.8749\n",
      "Epoch 8/40\n",
      "134/134 [==============================] - 1s 10ms/step - loss: 0.2486 - accuracy: 0.8861 - val_loss: 0.2983 - val_accuracy: 0.8798\n",
      "Epoch 9/40\n",
      "134/134 [==============================] - 1s 9ms/step - loss: 0.2336 - accuracy: 0.8978 - val_loss: 0.2877 - val_accuracy: 0.8763\n",
      "Epoch 10/40\n",
      "134/134 [==============================] - 1s 10ms/step - loss: 0.2181 - accuracy: 0.8997 - val_loss: 0.2954 - val_accuracy: 0.8735\n",
      "Epoch 11/40\n",
      "134/134 [==============================] - 1s 9ms/step - loss: 0.2013 - accuracy: 0.9070 - val_loss: 0.3017 - val_accuracy: 0.8833\n",
      "Epoch 12/40\n",
      "134/134 [==============================] - 1s 10ms/step - loss: 0.1909 - accuracy: 0.9135 - val_loss: 0.3001 - val_accuracy: 0.8876\n",
      "Epoch 13/40\n",
      "134/134 [==============================] - 1s 10ms/step - loss: 0.1658 - accuracy: 0.9278 - val_loss: 0.3218 - val_accuracy: 0.8833\n",
      "Epoch 14/40\n",
      "134/134 [==============================] - 1s 9ms/step - loss: 0.1573 - accuracy: 0.9325 - val_loss: 0.3454 - val_accuracy: 0.8826\n",
      "Epoch 15/40\n",
      "134/134 [==============================] - 1s 10ms/step - loss: 0.1392 - accuracy: 0.9405 - val_loss: 0.3637 - val_accuracy: 0.8833\n",
      "Epoch 16/40\n",
      "134/134 [==============================] - 1s 10ms/step - loss: 0.1233 - accuracy: 0.9494 - val_loss: 0.3772 - val_accuracy: 0.8876\n",
      "Epoch 17/40\n",
      "134/134 [==============================] - 1s 8ms/step - loss: 0.0978 - accuracy: 0.9583 - val_loss: 0.4760 - val_accuracy: 0.8721\n",
      "Epoch 18/40\n",
      "134/134 [==============================] - 1s 10ms/step - loss: 0.0947 - accuracy: 0.9625 - val_loss: 0.6263 - val_accuracy: 0.8609\n",
      "Epoch 19/40\n",
      "134/134 [==============================] - 1s 10ms/step - loss: 0.0890 - accuracy: 0.9663 - val_loss: 0.4782 - val_accuracy: 0.8848\n",
      "Epoch 20/40\n",
      "134/134 [==============================] - 1s 10ms/step - loss: 0.0537 - accuracy: 0.9766 - val_loss: 0.5573 - val_accuracy: 0.8918\n",
      "Epoch 21/40\n",
      "134/134 [==============================] - 1s 10ms/step - loss: 0.0635 - accuracy: 0.9716 - val_loss: 0.5988 - val_accuracy: 0.8798\n",
      "Epoch 22/40\n",
      "134/134 [==============================] - 1s 9ms/step - loss: 0.0416 - accuracy: 0.9850 - val_loss: 0.6370 - val_accuracy: 0.8805\n",
      "Epoch 23/40\n",
      "134/134 [==============================] - 1s 10ms/step - loss: 0.0602 - accuracy: 0.9752 - val_loss: 0.6576 - val_accuracy: 0.8791\n",
      "Epoch 24/40\n",
      "134/134 [==============================] - 1s 9ms/step - loss: 0.0532 - accuracy: 0.9794 - val_loss: 0.5561 - val_accuracy: 0.8770\n",
      "Epoch 25/40\n",
      "134/134 [==============================] - 1s 10ms/step - loss: 0.0282 - accuracy: 0.9904 - val_loss: 0.6960 - val_accuracy: 0.8798\n",
      "Epoch 26/40\n",
      "134/134 [==============================] - 1s 10ms/step - loss: 0.0145 - accuracy: 0.9939 - val_loss: 0.8254 - val_accuracy: 0.8784\n",
      "Epoch 27/40\n",
      "134/134 [==============================] - 1s 10ms/step - loss: 0.0078 - accuracy: 0.9972 - val_loss: 0.8591 - val_accuracy: 0.8707\n",
      "Epoch 28/40\n",
      "134/134 [==============================] - 1s 10ms/step - loss: 0.0072 - accuracy: 0.9972 - val_loss: 0.8788 - val_accuracy: 0.8777\n",
      "Epoch 29/40\n",
      "134/134 [==============================] - 1s 9ms/step - loss: 0.0050 - accuracy: 0.9984 - val_loss: 0.9164 - val_accuracy: 0.8777\n",
      "Epoch 30/40\n",
      "134/134 [==============================] - 1s 10ms/step - loss: 0.0045 - accuracy: 0.9981 - val_loss: 0.9420 - val_accuracy: 0.8735\n",
      "Epoch 31/40\n",
      "134/134 [==============================] - 1s 9ms/step - loss: 0.0038 - accuracy: 0.9984 - val_loss: 0.9635 - val_accuracy: 0.8777\n",
      "Epoch 32/40\n",
      "134/134 [==============================] - 1s 10ms/step - loss: 0.0041 - accuracy: 0.9979 - val_loss: 0.9822 - val_accuracy: 0.8749\n",
      "Epoch 33/40\n",
      "134/134 [==============================] - 1s 10ms/step - loss: 0.0033 - accuracy: 0.9991 - val_loss: 0.9988 - val_accuracy: 0.8784\n",
      "Epoch 34/40\n",
      "134/134 [==============================] - 1s 9ms/step - loss: 0.0031 - accuracy: 0.9986 - val_loss: 1.0408 - val_accuracy: 0.8756\n",
      "Epoch 35/40\n",
      "134/134 [==============================] - 1s 10ms/step - loss: 0.0036 - accuracy: 0.9984 - val_loss: 1.0324 - val_accuracy: 0.8770\n",
      "Epoch 36/40\n",
      "134/134 [==============================] - 1s 11ms/step - loss: 0.0028 - accuracy: 0.9988 - val_loss: 1.0675 - val_accuracy: 0.8819\n",
      "Epoch 37/40\n",
      "134/134 [==============================] - 1s 9ms/step - loss: 0.0029 - accuracy: 0.9981 - val_loss: 1.0774 - val_accuracy: 0.8826\n",
      "Epoch 38/40\n",
      "134/134 [==============================] - 1s 10ms/step - loss: 0.0026 - accuracy: 0.9984 - val_loss: 1.1286 - val_accuracy: 0.8749\n",
      "Epoch 39/40\n",
      "134/134 [==============================] - 1s 10ms/step - loss: 0.0031 - accuracy: 0.9986 - val_loss: 1.1378 - val_accuracy: 0.8742\n",
      "Epoch 40/40\n",
      "134/134 [==============================] - 1s 10ms/step - loss: 0.0029 - accuracy: 0.9977 - val_loss: 1.1536 - val_accuracy: 0.8742\n"
     ]
    },
    {
     "data": {
      "text/html": [
       "<br/>Waiting for W&B process to finish, PID 44431... <strong style=\"color:green\">(success).</strong>"
      ],
      "text/plain": [
       "<IPython.core.display.HTML object>"
      ]
     },
     "metadata": {},
     "output_type": "display_data"
    },
    {
     "data": {
      "text/html": [
       "<style>\n",
       "    table.wandb td:nth-child(1) { padding: 0 10px; text-align: right }\n",
       "    .wandb-row { display: flex; flex-direction: row; flex-wrap: wrap; width: 100% }\n",
       "    .wandb-col { display: flex; flex-direction: column; flex-basis: 100%; flex: 1; padding: 10px; }\n",
       "    </style>\n",
       "<div class=\"wandb-row\"><div class=\"wandb-col\">\n",
       "<h3>Run history:</h3><br/><table class=\"wandb\"><tr><td>accuracy</td><td>▁▃▃▄▄▄▄▄▅▅▅▅▆▆▆▆▇▇▇▇▇█▇▇████████████████</td></tr><tr><td>epoch</td><td>▁▁▁▂▂▂▂▂▂▃▃▃▃▃▄▄▄▄▄▄▅▅▅▅▅▅▆▆▆▆▆▇▇▇▇▇▇███</td></tr><tr><td>loss</td><td>█▆▆▆▅▅▅▅▅▄▄▄▄▃▃▃▃▂▂▂▂▂▂▂▁▁▁▁▁▁▁▁▁▁▁▁▁▁▁▁</td></tr><tr><td>val_accuracy</td><td>▁▆▆▇▅▂▆▇▇▆▇█▇▇▇█▆▅▇█▇▇▇▇▇▇▆▇▇▆▇▆▇▆▇▇▇▆▆▆</td></tr><tr><td>val_f1</td><td>▁</td></tr><tr><td>val_loss</td><td>▁▁▁▁▁▁▁▁▁▁▁▁▁▁▂▂▃▄▃▃▄▄▄▃▄▅▆▆▆▆▆▇▇▇▇▇▇███</td></tr></table><br/></div><div class=\"wandb-col\">\n",
       "<h3>Run summary:</h3><br/><table class=\"wandb\"><tr><td>accuracy</td><td>0.99766</td></tr><tr><td>best_epoch</td><td>8</td></tr><tr><td>best_val_loss</td><td>0.28768</td></tr><tr><td>epoch</td><td>39</td></tr><tr><td>loss</td><td>0.00285</td></tr><tr><td>val_accuracy</td><td>0.87421</td></tr><tr><td>val_f1</td><td>0.84447</td></tr><tr><td>val_loss</td><td>1.15362</td></tr></table>\n",
       "</div></div>\n",
       "Synced 5 W&B file(s), 1 media file(s), 0 artifact file(s) and 1 other file(s)\n",
       "<br/>Synced <strong style=\"color:#cdcd00\">morning-sweep-12</strong>: <a href=\"https://wandb.ai/tripleblackcat/uncategorized/runs/p4zjmf81\" target=\"_blank\">https://wandb.ai/tripleblackcat/uncategorized/runs/p4zjmf81</a><br/>\n",
       "Find logs at: <code>./wandb/run-20211120_171516-p4zjmf81/logs</code><br/>\n"
      ],
      "text/plain": [
       "<IPython.core.display.HTML object>"
      ]
     },
     "metadata": {},
     "output_type": "display_data"
    },
    {
     "name": "stderr",
     "output_type": "stream",
     "text": [
      "\u001b[34m\u001b[1mwandb\u001b[0m: Agent Starting Run: lkralfs4 with config:\n",
      "\u001b[34m\u001b[1mwandb\u001b[0m: \tbatch_size: 256\n",
      "\u001b[34m\u001b[1mwandb\u001b[0m: \tdropout: 0\n",
      "\u001b[34m\u001b[1mwandb\u001b[0m: \tembedding_dim: 32\n",
      "\u001b[34m\u001b[1mwandb\u001b[0m: \tepochs: 10\n",
      "\u001b[34m\u001b[1mwandb\u001b[0m: \tff_size: 128\n",
      "\u001b[34m\u001b[1mwandb\u001b[0m: \tlr: 0.005\n",
      "\u001b[34m\u001b[1mwandb\u001b[0m: \tlstm_units: 256\n",
      "\u001b[34m\u001b[1mwandb\u001b[0m: \tmax_tokens: 1000\n"
     ]
    },
    {
     "data": {
      "text/html": [
       "\n",
       "                    Syncing run <strong><a href=\"https://wandb.ai/tripleblackcat/uncategorized/runs/lkralfs4\" target=\"_blank\">visionary-sweep-13</a></strong> to <a href=\"https://wandb.ai/tripleblackcat/uncategorized\" target=\"_blank\">Weights & Biases</a> (<a href=\"https://docs.wandb.com/integrations/jupyter.html\" target=\"_blank\">docs</a>).<br/>\n",
       "Sweep page: <a href=\"https://wandb.ai/tripleblackcat/uncategorized/sweeps/aoizs7rc\" target=\"_blank\">https://wandb.ai/tripleblackcat/uncategorized/sweeps/aoizs7rc</a><br/>\n",
       "\n",
       "                "
      ],
      "text/plain": [
       "<IPython.core.display.HTML object>"
      ]
     },
     "metadata": {},
     "output_type": "display_data"
    },
    {
     "name": "stdout",
     "output_type": "stream",
     "text": [
      "Epoch 1/10\n",
      "132/134 [============================>.] - ETA: 0s - loss: 0.3638 - accuracy: 0.8229"
     ]
    },
    {
     "name": "stderr",
     "output_type": "stream",
     "text": [
      "\u001b[34m\u001b[1mwandb\u001b[0m: \u001b[32m\u001b[41mERROR\u001b[0m Can't save model, h5py returned error: Save or restore weights that is not an instance of `tf.Variable` is not supported in h5, use `save_format='tf'` instead. Received a model or layer TextVectorization with weights [<keras.layers.preprocessing.index_lookup.VocabWeightHandler object at 0x7fd5c46a8a60>]\n"
     ]
    },
    {
     "name": "stdout",
     "output_type": "stream",
     "text": [
      "134/134 [==============================] - 9s 24ms/step - loss: 0.3631 - accuracy: 0.8238 - val_loss: 0.2568 - val_accuracy: 0.8869\n",
      "Epoch 2/10\n",
      "134/134 [==============================] - 1s 10ms/step - loss: 0.1918 - accuracy: 0.9215 - val_loss: 0.2463 - val_accuracy: 0.9037\n",
      "Epoch 3/10\n",
      "134/134 [==============================] - 1s 9ms/step - loss: 0.1513 - accuracy: 0.9381 - val_loss: 0.2621 - val_accuracy: 0.9058\n",
      "Epoch 4/10\n",
      "134/134 [==============================] - 1s 10ms/step - loss: 0.1183 - accuracy: 0.9536 - val_loss: 0.2855 - val_accuracy: 0.8974\n",
      "Epoch 5/10\n",
      "134/134 [==============================] - 1s 10ms/step - loss: 0.0834 - accuracy: 0.9651 - val_loss: 0.3145 - val_accuracy: 0.8995\n",
      "Epoch 6/10\n",
      "134/134 [==============================] - 1s 10ms/step - loss: 0.0820 - accuracy: 0.9721 - val_loss: 0.3195 - val_accuracy: 0.8974\n",
      "Epoch 7/10\n",
      "134/134 [==============================] - 1s 10ms/step - loss: 0.0671 - accuracy: 0.9728 - val_loss: 0.3834 - val_accuracy: 0.8848\n",
      "Epoch 8/10\n",
      "134/134 [==============================] - 1s 11ms/step - loss: 0.0441 - accuracy: 0.9815 - val_loss: 0.4134 - val_accuracy: 0.8925\n",
      "Epoch 9/10\n",
      "134/134 [==============================] - 2s 11ms/step - loss: 0.0434 - accuracy: 0.9822 - val_loss: 0.4379 - val_accuracy: 0.8897\n",
      "Epoch 10/10\n",
      "134/134 [==============================] - 1s 9ms/step - loss: 0.0393 - accuracy: 0.9848 - val_loss: 0.4224 - val_accuracy: 0.9002\n"
     ]
    },
    {
     "data": {
      "text/html": [
       "<br/>Waiting for W&B process to finish, PID 45170... <strong style=\"color:green\">(success).</strong>"
      ],
      "text/plain": [
       "<IPython.core.display.HTML object>"
      ]
     },
     "metadata": {},
     "output_type": "display_data"
    },
    {
     "data": {
      "text/html": [
       "<style>\n",
       "    table.wandb td:nth-child(1) { padding: 0 10px; text-align: right }\n",
       "    .wandb-row { display: flex; flex-direction: row; flex-wrap: wrap; width: 100% }\n",
       "    .wandb-col { display: flex; flex-direction: column; flex-basis: 100%; flex: 1; padding: 10px; }\n",
       "    </style>\n",
       "<div class=\"wandb-row\"><div class=\"wandb-col\">\n",
       "<h3>Run history:</h3><br/><table class=\"wandb\"><tr><td>accuracy</td><td>▁▅▆▇▇▇▇███</td></tr><tr><td>epoch</td><td>▁▂▃▃▄▅▆▆▇█</td></tr><tr><td>loss</td><td>█▄▃▃▂▂▂▁▁▁</td></tr><tr><td>val_accuracy</td><td>▂▇█▅▆▅▁▄▃▆</td></tr><tr><td>val_f1</td><td>▁</td></tr><tr><td>val_loss</td><td>▁▁▂▂▃▄▆▇█▇</td></tr></table><br/></div><div class=\"wandb-col\">\n",
       "<h3>Run summary:</h3><br/><table class=\"wandb\"><tr><td>accuracy</td><td>0.98477</td></tr><tr><td>best_epoch</td><td>1</td></tr><tr><td>best_val_loss</td><td>0.2463</td></tr><tr><td>epoch</td><td>9</td></tr><tr><td>loss</td><td>0.03929</td></tr><tr><td>val_accuracy</td><td>0.90021</td></tr><tr><td>val_f1</td><td>0.88229</td></tr><tr><td>val_loss</td><td>0.42245</td></tr></table>\n",
       "</div></div>\n",
       "Synced 5 W&B file(s), 1 media file(s), 0 artifact file(s) and 1 other file(s)\n",
       "<br/>Synced <strong style=\"color:#cdcd00\">visionary-sweep-13</strong>: <a href=\"https://wandb.ai/tripleblackcat/uncategorized/runs/lkralfs4\" target=\"_blank\">https://wandb.ai/tripleblackcat/uncategorized/runs/lkralfs4</a><br/>\n",
       "Find logs at: <code>./wandb/run-20211120_171630-lkralfs4/logs</code><br/>\n"
      ],
      "text/plain": [
       "<IPython.core.display.HTML object>"
      ]
     },
     "metadata": {},
     "output_type": "display_data"
    },
    {
     "name": "stderr",
     "output_type": "stream",
     "text": [
      "\u001b[34m\u001b[1mwandb\u001b[0m: Agent Starting Run: 0r4cwxud with config:\n",
      "\u001b[34m\u001b[1mwandb\u001b[0m: \tbatch_size: 256\n",
      "\u001b[34m\u001b[1mwandb\u001b[0m: \tdropout: 0.5\n",
      "\u001b[34m\u001b[1mwandb\u001b[0m: \tembedding_dim: 32\n",
      "\u001b[34m\u001b[1mwandb\u001b[0m: \tepochs: 10\n",
      "\u001b[34m\u001b[1mwandb\u001b[0m: \tff_size: 64\n",
      "\u001b[34m\u001b[1mwandb\u001b[0m: \tlr: 0.0005\n",
      "\u001b[34m\u001b[1mwandb\u001b[0m: \tlstm_units: 256\n",
      "\u001b[34m\u001b[1mwandb\u001b[0m: \tmax_tokens: None\n"
     ]
    },
    {
     "data": {
      "text/html": [
       "\n",
       "                    Syncing run <strong><a href=\"https://wandb.ai/tripleblackcat/uncategorized/runs/0r4cwxud\" target=\"_blank\">floral-sweep-14</a></strong> to <a href=\"https://wandb.ai/tripleblackcat/uncategorized\" target=\"_blank\">Weights & Biases</a> (<a href=\"https://docs.wandb.com/integrations/jupyter.html\" target=\"_blank\">docs</a>).<br/>\n",
       "Sweep page: <a href=\"https://wandb.ai/tripleblackcat/uncategorized/sweeps/aoizs7rc\" target=\"_blank\">https://wandb.ai/tripleblackcat/uncategorized/sweeps/aoizs7rc</a><br/>\n",
       "\n",
       "                "
      ],
      "text/plain": [
       "<IPython.core.display.HTML object>"
      ]
     },
     "metadata": {},
     "output_type": "display_data"
    },
    {
     "name": "stdout",
     "output_type": "stream",
     "text": [
      "Epoch 1/10\n",
      "131/134 [============================>.] - ETA: 0s - loss: 0.5212 - accuracy: 0.6889"
     ]
    },
    {
     "name": "stderr",
     "output_type": "stream",
     "text": [
      "\u001b[34m\u001b[1mwandb\u001b[0m: \u001b[32m\u001b[41mERROR\u001b[0m Can't save model, h5py returned error: Save or restore weights that is not an instance of `tf.Variable` is not supported in h5, use `save_format='tf'` instead. Received a model or layer TextVectorization with weights [<keras.layers.preprocessing.index_lookup.VocabWeightHandler object at 0x7fd5f414c370>]\n"
     ]
    },
    {
     "name": "stdout",
     "output_type": "stream",
     "text": [
      "134/134 [==============================] - 8s 21ms/step - loss: 0.5170 - accuracy: 0.6928 - val_loss: 0.2744 - val_accuracy: 0.8981\n",
      "Epoch 2/10\n",
      "134/134 [==============================] - 1s 10ms/step - loss: 0.2018 - accuracy: 0.9269 - val_loss: 0.2654 - val_accuracy: 0.8833\n",
      "Epoch 3/10\n",
      "134/134 [==============================] - 1s 9ms/step - loss: 0.1234 - accuracy: 0.9634 - val_loss: 0.2258 - val_accuracy: 0.9227\n",
      "Epoch 4/10\n",
      "134/134 [==============================] - 1s 10ms/step - loss: 0.0494 - accuracy: 0.9855 - val_loss: 0.2985 - val_accuracy: 0.9086\n",
      "Epoch 5/10\n",
      "134/134 [==============================] - 1s 9ms/step - loss: 0.0346 - accuracy: 0.9920 - val_loss: 0.2432 - val_accuracy: 0.9234\n",
      "Epoch 6/10\n",
      "134/134 [==============================] - 1s 10ms/step - loss: 0.0119 - accuracy: 0.9979 - val_loss: 0.4026 - val_accuracy: 0.9115\n",
      "Epoch 7/10\n",
      "134/134 [==============================] - 1s 9ms/step - loss: 0.0081 - accuracy: 0.9984 - val_loss: 0.3843 - val_accuracy: 0.9108\n",
      "Epoch 8/10\n",
      "134/134 [==============================] - 1s 10ms/step - loss: 0.0031 - accuracy: 0.9995 - val_loss: 0.5244 - val_accuracy: 0.9122\n",
      "Epoch 9/10\n",
      "134/134 [==============================] - 1s 9ms/step - loss: 0.0018 - accuracy: 0.9998 - val_loss: 0.7021 - val_accuracy: 0.9100\n",
      "Epoch 10/10\n",
      "134/134 [==============================] - 1s 9ms/step - loss: 0.0014 - accuracy: 0.9998 - val_loss: 0.7869 - val_accuracy: 0.9093\n"
     ]
    },
    {
     "data": {
      "text/html": [
       "<br/>Waiting for W&B process to finish, PID 45529... <strong style=\"color:green\">(success).</strong>"
      ],
      "text/plain": [
       "<IPython.core.display.HTML object>"
      ]
     },
     "metadata": {},
     "output_type": "display_data"
    },
    {
     "data": {
      "text/html": [
       "<style>\n",
       "    table.wandb td:nth-child(1) { padding: 0 10px; text-align: right }\n",
       "    .wandb-row { display: flex; flex-direction: row; flex-wrap: wrap; width: 100% }\n",
       "    .wandb-col { display: flex; flex-direction: column; flex-basis: 100%; flex: 1; padding: 10px; }\n",
       "    </style>\n",
       "<div class=\"wandb-row\"><div class=\"wandb-col\">\n",
       "<h3>Run history:</h3><br/><table class=\"wandb\"><tr><td>accuracy</td><td>▁▆▇███████</td></tr><tr><td>epoch</td><td>▁▂▃▃▄▅▆▆▇█</td></tr><tr><td>loss</td><td>█▄▃▂▁▁▁▁▁▁</td></tr><tr><td>val_accuracy</td><td>▄▁█▅█▆▆▆▆▆</td></tr><tr><td>val_f1</td><td>▁</td></tr><tr><td>val_loss</td><td>▂▁▁▂▁▃▃▅▇█</td></tr></table><br/></div><div class=\"wandb-col\">\n",
       "<h3>Run summary:</h3><br/><table class=\"wandb\"><tr><td>accuracy</td><td>0.99977</td></tr><tr><td>best_epoch</td><td>2</td></tr><tr><td>best_val_loss</td><td>0.22579</td></tr><tr><td>epoch</td><td>9</td></tr><tr><td>loss</td><td>0.00144</td></tr><tr><td>val_accuracy</td><td>0.90935</td></tr><tr><td>val_f1</td><td>0.89333</td></tr><tr><td>val_loss</td><td>0.78686</td></tr></table>\n",
       "</div></div>\n",
       "Synced 5 W&B file(s), 1 media file(s), 0 artifact file(s) and 1 other file(s)\n",
       "<br/>Synced <strong style=\"color:#cdcd00\">floral-sweep-14</strong>: <a href=\"https://wandb.ai/tripleblackcat/uncategorized/runs/0r4cwxud\" target=\"_blank\">https://wandb.ai/tripleblackcat/uncategorized/runs/0r4cwxud</a><br/>\n",
       "Find logs at: <code>./wandb/run-20211120_171708-0r4cwxud/logs</code><br/>\n"
      ],
      "text/plain": [
       "<IPython.core.display.HTML object>"
      ]
     },
     "metadata": {},
     "output_type": "display_data"
    },
    {
     "name": "stderr",
     "output_type": "stream",
     "text": [
      "\u001b[34m\u001b[1mwandb\u001b[0m: Agent Starting Run: kot2mlze with config:\n",
      "\u001b[34m\u001b[1mwandb\u001b[0m: \tbatch_size: 64\n",
      "\u001b[34m\u001b[1mwandb\u001b[0m: \tdropout: 0.5\n",
      "\u001b[34m\u001b[1mwandb\u001b[0m: \tembedding_dim: 256\n",
      "\u001b[34m\u001b[1mwandb\u001b[0m: \tepochs: 10\n",
      "\u001b[34m\u001b[1mwandb\u001b[0m: \tff_size: 64\n",
      "\u001b[34m\u001b[1mwandb\u001b[0m: \tlr: 0.001\n",
      "\u001b[34m\u001b[1mwandb\u001b[0m: \tlstm_units: 16\n",
      "\u001b[34m\u001b[1mwandb\u001b[0m: \tmax_tokens: 1000\n"
     ]
    },
    {
     "data": {
      "text/html": [
       "\n",
       "                    Syncing run <strong><a href=\"https://wandb.ai/tripleblackcat/uncategorized/runs/kot2mlze\" target=\"_blank\">sparkling-sweep-15</a></strong> to <a href=\"https://wandb.ai/tripleblackcat/uncategorized\" target=\"_blank\">Weights & Biases</a> (<a href=\"https://docs.wandb.com/integrations/jupyter.html\" target=\"_blank\">docs</a>).<br/>\n",
       "Sweep page: <a href=\"https://wandb.ai/tripleblackcat/uncategorized/sweeps/aoizs7rc\" target=\"_blank\">https://wandb.ai/tripleblackcat/uncategorized/sweeps/aoizs7rc</a><br/>\n",
       "\n",
       "                "
      ],
      "text/plain": [
       "<IPython.core.display.HTML object>"
      ]
     },
     "metadata": {},
     "output_type": "display_data"
    },
    {
     "name": "stdout",
     "output_type": "stream",
     "text": [
      "Epoch 1/10\n",
      "132/134 [============================>.] - ETA: 0s - loss: 0.4447 - accuracy: 0.7280"
     ]
    },
    {
     "name": "stderr",
     "output_type": "stream",
     "text": [
      "\u001b[34m\u001b[1mwandb\u001b[0m: \u001b[32m\u001b[41mERROR\u001b[0m Can't save model, h5py returned error: Save or restore weights that is not an instance of `tf.Variable` is not supported in h5, use `save_format='tf'` instead. Received a model or layer TextVectorization with weights [<keras.layers.preprocessing.index_lookup.VocabWeightHandler object at 0x7fd5f41172e0>]\n"
     ]
    },
    {
     "name": "stdout",
     "output_type": "stream",
     "text": [
      "134/134 [==============================] - 7s 19ms/step - loss: 0.4424 - accuracy: 0.7296 - val_loss: 0.2339 - val_accuracy: 0.9100\n",
      "Epoch 2/10\n",
      "134/134 [==============================] - 1s 9ms/step - loss: 0.2013 - accuracy: 0.9217 - val_loss: 0.2246 - val_accuracy: 0.9108\n",
      "Epoch 3/10\n",
      "134/134 [==============================] - 1s 8ms/step - loss: 0.1406 - accuracy: 0.9447 - val_loss: 0.2646 - val_accuracy: 0.9086\n",
      "Epoch 4/10\n",
      "134/134 [==============================] - 1s 8ms/step - loss: 0.1026 - accuracy: 0.9634 - val_loss: 0.2515 - val_accuracy: 0.9150\n",
      "Epoch 5/10\n",
      "134/134 [==============================] - 1s 9ms/step - loss: 0.0738 - accuracy: 0.9759 - val_loss: 0.2587 - val_accuracy: 0.9171\n",
      "Epoch 6/10\n",
      "134/134 [==============================] - 1s 8ms/step - loss: 0.0562 - accuracy: 0.9801 - val_loss: 0.2876 - val_accuracy: 0.9213\n",
      "Epoch 7/10\n",
      "134/134 [==============================] - 1s 9ms/step - loss: 0.0421 - accuracy: 0.9859 - val_loss: 0.3432 - val_accuracy: 0.9093\n",
      "Epoch 8/10\n",
      "134/134 [==============================] - 1s 8ms/step - loss: 0.0347 - accuracy: 0.9876 - val_loss: 0.4247 - val_accuracy: 0.9079\n",
      "Epoch 9/10\n",
      "134/134 [==============================] - 1s 9ms/step - loss: 0.0282 - accuracy: 0.9904 - val_loss: 0.4432 - val_accuracy: 0.9115\n",
      "Epoch 10/10\n",
      "134/134 [==============================] - 1s 8ms/step - loss: 0.0239 - accuracy: 0.9909 - val_loss: 0.4585 - val_accuracy: 0.9079\n"
     ]
    },
    {
     "data": {
      "text/html": [
       "<br/>Waiting for W&B process to finish, PID 45798... <strong style=\"color:green\">(success).</strong>"
      ],
      "text/plain": [
       "<IPython.core.display.HTML object>"
      ]
     },
     "metadata": {},
     "output_type": "display_data"
    },
    {
     "data": {
      "text/html": [
       "<style>\n",
       "    table.wandb td:nth-child(1) { padding: 0 10px; text-align: right }\n",
       "    .wandb-row { display: flex; flex-direction: row; flex-wrap: wrap; width: 100% }\n",
       "    .wandb-col { display: flex; flex-direction: column; flex-basis: 100%; flex: 1; padding: 10px; }\n",
       "    </style>\n",
       "<div class=\"wandb-row\"><div class=\"wandb-col\">\n",
       "<h3>Run history:</h3><br/><table class=\"wandb\"><tr><td>accuracy</td><td>▁▆▇▇██████</td></tr><tr><td>epoch</td><td>▁▂▃▃▄▅▆▆▇█</td></tr><tr><td>loss</td><td>█▄▃▂▂▂▁▁▁▁</td></tr><tr><td>val_accuracy</td><td>▂▂▁▅▆█▂▁▃▁</td></tr><tr><td>val_f1</td><td>▁</td></tr><tr><td>val_loss</td><td>▁▁▂▂▂▃▅▇██</td></tr></table><br/></div><div class=\"wandb-col\">\n",
       "<h3>Run summary:</h3><br/><table class=\"wandb\"><tr><td>accuracy</td><td>0.99086</td></tr><tr><td>best_epoch</td><td>1</td></tr><tr><td>best_val_loss</td><td>0.22464</td></tr><tr><td>epoch</td><td>9</td></tr><tr><td>loss</td><td>0.02392</td></tr><tr><td>val_accuracy</td><td>0.90794</td></tr><tr><td>val_f1</td><td>0.87844</td></tr><tr><td>val_loss</td><td>0.45853</td></tr></table>\n",
       "</div></div>\n",
       "Synced 5 W&B file(s), 1 media file(s), 0 artifact file(s) and 1 other file(s)\n",
       "<br/>Synced <strong style=\"color:#cdcd00\">sparkling-sweep-15</strong>: <a href=\"https://wandb.ai/tripleblackcat/uncategorized/runs/kot2mlze\" target=\"_blank\">https://wandb.ai/tripleblackcat/uncategorized/runs/kot2mlze</a><br/>\n",
       "Find logs at: <code>./wandb/run-20211120_171739-kot2mlze/logs</code><br/>\n"
      ],
      "text/plain": [
       "<IPython.core.display.HTML object>"
      ]
     },
     "metadata": {},
     "output_type": "display_data"
    },
    {
     "name": "stderr",
     "output_type": "stream",
     "text": [
      "\u001b[34m\u001b[1mwandb\u001b[0m: Agent Starting Run: kjkkdq1a with config:\n",
      "\u001b[34m\u001b[1mwandb\u001b[0m: \tbatch_size: 64\n",
      "\u001b[34m\u001b[1mwandb\u001b[0m: \tdropout: 0.5\n",
      "\u001b[34m\u001b[1mwandb\u001b[0m: \tembedding_dim: 32\n",
      "\u001b[34m\u001b[1mwandb\u001b[0m: \tepochs: 10\n",
      "\u001b[34m\u001b[1mwandb\u001b[0m: \tff_size: 256\n",
      "\u001b[34m\u001b[1mwandb\u001b[0m: \tlr: 0.0005\n",
      "\u001b[34m\u001b[1mwandb\u001b[0m: \tlstm_units: 16\n",
      "\u001b[34m\u001b[1mwandb\u001b[0m: \tmax_tokens: None\n"
     ]
    },
    {
     "data": {
      "text/html": [
       "\n",
       "                    Syncing run <strong><a href=\"https://wandb.ai/tripleblackcat/uncategorized/runs/kjkkdq1a\" target=\"_blank\">fresh-sweep-16</a></strong> to <a href=\"https://wandb.ai/tripleblackcat/uncategorized\" target=\"_blank\">Weights & Biases</a> (<a href=\"https://docs.wandb.com/integrations/jupyter.html\" target=\"_blank\">docs</a>).<br/>\n",
       "Sweep page: <a href=\"https://wandb.ai/tripleblackcat/uncategorized/sweeps/aoizs7rc\" target=\"_blank\">https://wandb.ai/tripleblackcat/uncategorized/sweeps/aoizs7rc</a><br/>\n",
       "\n",
       "                "
      ],
      "text/plain": [
       "<IPython.core.display.HTML object>"
      ]
     },
     "metadata": {},
     "output_type": "display_data"
    },
    {
     "name": "stdout",
     "output_type": "stream",
     "text": [
      "Epoch 1/10\n",
      "133/134 [============================>.] - ETA: 0s - loss: 0.5622 - accuracy: 0.6248"
     ]
    },
    {
     "name": "stderr",
     "output_type": "stream",
     "text": [
      "\u001b[34m\u001b[1mwandb\u001b[0m: \u001b[32m\u001b[41mERROR\u001b[0m Can't save model, h5py returned error: Save or restore weights that is not an instance of `tf.Variable` is not supported in h5, use `save_format='tf'` instead. Received a model or layer TextVectorization with weights [<keras.layers.preprocessing.index_lookup.VocabWeightHandler object at 0x7fd7126b1790>]\n"
     ]
    },
    {
     "name": "stdout",
     "output_type": "stream",
     "text": [
      "134/134 [==============================] - 7s 20ms/step - loss: 0.5619 - accuracy: 0.6251 - val_loss: 0.2734 - val_accuracy: 0.8798\n",
      "Epoch 2/10\n",
      "134/134 [==============================] - 1s 9ms/step - loss: 0.1712 - accuracy: 0.9372 - val_loss: 0.2079 - val_accuracy: 0.9157\n",
      "Epoch 3/10\n",
      "134/134 [==============================] - 1s 7ms/step - loss: 0.0706 - accuracy: 0.9756 - val_loss: 0.2800 - val_accuracy: 0.9122\n",
      "Epoch 4/10\n",
      "134/134 [==============================] - 1s 9ms/step - loss: 0.0270 - accuracy: 0.9923 - val_loss: 0.2936 - val_accuracy: 0.9136\n",
      "Epoch 5/10\n",
      "134/134 [==============================] - 1s 8ms/step - loss: 0.0088 - accuracy: 0.9967 - val_loss: 0.3214 - val_accuracy: 0.9143\n",
      "Epoch 6/10\n",
      "134/134 [==============================] - 1s 9ms/step - loss: 0.0046 - accuracy: 0.9991 - val_loss: 0.3696 - val_accuracy: 0.9150\n",
      "Epoch 7/10\n",
      "134/134 [==============================] - 1s 9ms/step - loss: 0.0026 - accuracy: 0.9991 - val_loss: 0.4178 - val_accuracy: 0.9143\n",
      "Epoch 8/10\n",
      "134/134 [==============================] - 1s 8ms/step - loss: 0.0019 - accuracy: 0.9993 - val_loss: 0.4451 - val_accuracy: 0.9136\n",
      "Epoch 9/10\n",
      "134/134 [==============================] - 1s 9ms/step - loss: 0.0015 - accuracy: 0.9998 - val_loss: 0.4742 - val_accuracy: 0.9115\n",
      "Epoch 10/10\n",
      "134/134 [==============================] - 1s 8ms/step - loss: 0.0014 - accuracy: 0.9993 - val_loss: 0.4925 - val_accuracy: 0.9100\n"
     ]
    },
    {
     "data": {
      "text/html": [
       "<br/>Waiting for W&B process to finish, PID 46071... <strong style=\"color:green\">(success).</strong>"
      ],
      "text/plain": [
       "<IPython.core.display.HTML object>"
      ]
     },
     "metadata": {},
     "output_type": "display_data"
    },
    {
     "data": {
      "text/html": [
       "<style>\n",
       "    table.wandb td:nth-child(1) { padding: 0 10px; text-align: right }\n",
       "    .wandb-row { display: flex; flex-direction: row; flex-wrap: wrap; width: 100% }\n",
       "    .wandb-col { display: flex; flex-direction: column; flex-basis: 100%; flex: 1; padding: 10px; }\n",
       "    </style>\n",
       "<div class=\"wandb-row\"><div class=\"wandb-col\">\n",
       "<h3>Run history:</h3><br/><table class=\"wandb\"><tr><td>accuracy</td><td>▁▇████████</td></tr><tr><td>epoch</td><td>▁▂▃▃▄▅▆▆▇█</td></tr><tr><td>loss</td><td>█▃▂▁▁▁▁▁▁▁</td></tr><tr><td>val_accuracy</td><td>▁█▇█████▇▇</td></tr><tr><td>val_f1</td><td>▁</td></tr><tr><td>val_loss</td><td>▃▁▃▃▄▅▆▇██</td></tr></table><br/></div><div class=\"wandb-col\">\n",
       "<h3>Run summary:</h3><br/><table class=\"wandb\"><tr><td>accuracy</td><td>0.9993</td></tr><tr><td>best_epoch</td><td>1</td></tr><tr><td>best_val_loss</td><td>0.20787</td></tr><tr><td>epoch</td><td>9</td></tr><tr><td>loss</td><td>0.00135</td></tr><tr><td>val_accuracy</td><td>0.91005</td></tr><tr><td>val_f1</td><td>0.89564</td></tr><tr><td>val_loss</td><td>0.4925</td></tr></table>\n",
       "</div></div>\n",
       "Synced 5 W&B file(s), 1 media file(s), 0 artifact file(s) and 1 other file(s)\n",
       "<br/>Synced <strong style=\"color:#cdcd00\">fresh-sweep-16</strong>: <a href=\"https://wandb.ai/tripleblackcat/uncategorized/runs/kjkkdq1a\" target=\"_blank\">https://wandb.ai/tripleblackcat/uncategorized/runs/kjkkdq1a</a><br/>\n",
       "Find logs at: <code>./wandb/run-20211120_171811-kjkkdq1a/logs</code><br/>\n"
      ],
      "text/plain": [
       "<IPython.core.display.HTML object>"
      ]
     },
     "metadata": {},
     "output_type": "display_data"
    },
    {
     "name": "stderr",
     "output_type": "stream",
     "text": [
      "\u001b[34m\u001b[1mwandb\u001b[0m: Agent Starting Run: kkvhhg6q with config:\n",
      "\u001b[34m\u001b[1mwandb\u001b[0m: \tbatch_size: 64\n",
      "\u001b[34m\u001b[1mwandb\u001b[0m: \tdropout: 0.5\n",
      "\u001b[34m\u001b[1mwandb\u001b[0m: \tembedding_dim: 16\n",
      "\u001b[34m\u001b[1mwandb\u001b[0m: \tepochs: 20\n",
      "\u001b[34m\u001b[1mwandb\u001b[0m: \tff_size: 256\n",
      "\u001b[34m\u001b[1mwandb\u001b[0m: \tlr: 0.001\n",
      "\u001b[34m\u001b[1mwandb\u001b[0m: \tlstm_units: 256\n",
      "\u001b[34m\u001b[1mwandb\u001b[0m: \tmax_tokens: None\n"
     ]
    },
    {
     "data": {
      "text/html": [
       "\n",
       "                    Syncing run <strong><a href=\"https://wandb.ai/tripleblackcat/uncategorized/runs/kkvhhg6q\" target=\"_blank\">eager-sweep-17</a></strong> to <a href=\"https://wandb.ai/tripleblackcat/uncategorized\" target=\"_blank\">Weights & Biases</a> (<a href=\"https://docs.wandb.com/integrations/jupyter.html\" target=\"_blank\">docs</a>).<br/>\n",
       "Sweep page: <a href=\"https://wandb.ai/tripleblackcat/uncategorized/sweeps/aoizs7rc\" target=\"_blank\">https://wandb.ai/tripleblackcat/uncategorized/sweeps/aoizs7rc</a><br/>\n",
       "\n",
       "                "
      ],
      "text/plain": [
       "<IPython.core.display.HTML object>"
      ]
     },
     "metadata": {},
     "output_type": "display_data"
    },
    {
     "name": "stdout",
     "output_type": "stream",
     "text": [
      "Epoch 1/20\n",
      "132/134 [============================>.] - ETA: 0s - loss: 0.4363 - accuracy: 0.7505"
     ]
    },
    {
     "name": "stderr",
     "output_type": "stream",
     "text": [
      "\u001b[34m\u001b[1mwandb\u001b[0m: \u001b[32m\u001b[41mERROR\u001b[0m Can't save model, h5py returned error: Save or restore weights that is not an instance of `tf.Variable` is not supported in h5, use `save_format='tf'` instead. Received a model or layer TextVectorization with weights [<keras.layers.preprocessing.index_lookup.VocabWeightHandler object at 0x7fd5c45b6cd0>]\n"
     ]
    },
    {
     "name": "stdout",
     "output_type": "stream",
     "text": [
      "134/134 [==============================] - 8s 20ms/step - loss: 0.4343 - accuracy: 0.7521 - val_loss: 0.3181 - val_accuracy: 0.8770\n",
      "Epoch 2/20\n",
      "134/134 [==============================] - 1s 9ms/step - loss: 0.1558 - accuracy: 0.9473 - val_loss: 0.2114 - val_accuracy: 0.9157\n",
      "Epoch 3/20\n",
      "134/134 [==============================] - 1s 10ms/step - loss: 0.0502 - accuracy: 0.9827 - val_loss: 0.2596 - val_accuracy: 0.9157\n",
      "Epoch 4/20\n",
      "134/134 [==============================] - 1s 9ms/step - loss: 0.0128 - accuracy: 0.9953 - val_loss: 0.2860 - val_accuracy: 0.9129\n",
      "Epoch 5/20\n",
      "134/134 [==============================] - 1s 10ms/step - loss: 0.0095 - accuracy: 0.9965 - val_loss: 0.3495 - val_accuracy: 0.9136\n",
      "Epoch 6/20\n",
      "134/134 [==============================] - 1s 9ms/step - loss: 0.0109 - accuracy: 0.9955 - val_loss: 0.4657 - val_accuracy: 0.9093\n",
      "Epoch 7/20\n",
      "134/134 [==============================] - 1s 9ms/step - loss: 0.0021 - accuracy: 0.9991 - val_loss: 0.4500 - val_accuracy: 0.9171\n",
      "Epoch 8/20\n",
      "134/134 [==============================] - 1s 10ms/step - loss: 0.0015 - accuracy: 0.9986 - val_loss: 0.5817 - val_accuracy: 0.9164\n",
      "Epoch 9/20\n",
      "134/134 [==============================] - 1s 9ms/step - loss: 0.0011 - accuracy: 0.9995 - val_loss: 0.6363 - val_accuracy: 0.9150\n",
      "Epoch 10/20\n",
      "134/134 [==============================] - 1s 9ms/step - loss: 7.5581e-04 - accuracy: 0.9998 - val_loss: 0.6979 - val_accuracy: 0.9136\n",
      "Epoch 11/20\n",
      "134/134 [==============================] - 1s 9ms/step - loss: 6.6582e-04 - accuracy: 1.0000 - val_loss: 0.7728 - val_accuracy: 0.9143\n",
      "Epoch 12/20\n",
      "134/134 [==============================] - 1s 9ms/step - loss: 6.5074e-04 - accuracy: 1.0000 - val_loss: 0.8475 - val_accuracy: 0.9143\n",
      "Epoch 13/20\n",
      "134/134 [==============================] - 1s 10ms/step - loss: 5.3854e-04 - accuracy: 1.0000 - val_loss: 0.9172 - val_accuracy: 0.9157\n",
      "Epoch 14/20\n",
      "134/134 [==============================] - 1s 9ms/step - loss: 0.0469 - accuracy: 0.9899 - val_loss: 0.3788 - val_accuracy: 0.9044\n",
      "Epoch 15/20\n",
      "134/134 [==============================] - 1s 9ms/step - loss: 0.0262 - accuracy: 0.9904 - val_loss: 0.4211 - val_accuracy: 0.9058\n",
      "Epoch 16/20\n",
      "134/134 [==============================] - 1s 10ms/step - loss: 0.0064 - accuracy: 0.9981 - val_loss: 0.3491 - val_accuracy: 0.9037\n",
      "Epoch 17/20\n",
      "134/134 [==============================] - 1s 9ms/step - loss: 0.0036 - accuracy: 0.9986 - val_loss: 0.4488 - val_accuracy: 0.9093\n",
      "Epoch 18/20\n",
      "134/134 [==============================] - 1s 10ms/step - loss: 6.6627e-04 - accuracy: 1.0000 - val_loss: 0.5148 - val_accuracy: 0.9086\n",
      "Epoch 19/20\n",
      "134/134 [==============================] - 1s 9ms/step - loss: 4.5824e-04 - accuracy: 1.0000 - val_loss: 0.5561 - val_accuracy: 0.9093\n",
      "Epoch 20/20\n",
      "134/134 [==============================] - 1s 9ms/step - loss: 3.6556e-04 - accuracy: 1.0000 - val_loss: 0.5927 - val_accuracy: 0.9108\n"
     ]
    },
    {
     "data": {
      "text/html": [
       "<br/>Waiting for W&B process to finish, PID 46350... <strong style=\"color:green\">(success).</strong>"
      ],
      "text/plain": [
       "<IPython.core.display.HTML object>"
      ]
     },
     "metadata": {},
     "output_type": "display_data"
    },
    {
     "data": {
      "text/html": [
       "<style>\n",
       "    table.wandb td:nth-child(1) { padding: 0 10px; text-align: right }\n",
       "    .wandb-row { display: flex; flex-direction: row; flex-wrap: wrap; width: 100% }\n",
       "    .wandb-col { display: flex; flex-direction: column; flex-basis: 100%; flex: 1; padding: 10px; }\n",
       "    </style>\n",
       "<div class=\"wandb-row\"><div class=\"wandb-col\">\n",
       "<h3>Run history:</h3><br/><table class=\"wandb\"><tr><td>accuracy</td><td>▁▇██████████████████</td></tr><tr><td>epoch</td><td>▁▁▂▂▂▃▃▄▄▄▅▅▅▆▆▇▇▇██</td></tr><tr><td>loss</td><td>█▄▂▁▁▁▁▁▁▁▁▁▁▂▁▁▁▁▁▁</td></tr><tr><td>val_accuracy</td><td>▁██▇▇▇███▇███▆▆▆▇▇▇▇</td></tr><tr><td>val_f1</td><td>▁</td></tr><tr><td>val_loss</td><td>▂▁▁▂▂▄▃▅▅▆▇▇█▃▃▂▃▄▄▅</td></tr></table><br/></div><div class=\"wandb-col\">\n",
       "<h3>Run summary:</h3><br/><table class=\"wandb\"><tr><td>accuracy</td><td>1.0</td></tr><tr><td>best_epoch</td><td>1</td></tr><tr><td>best_val_loss</td><td>0.21139</td></tr><tr><td>epoch</td><td>19</td></tr><tr><td>loss</td><td>0.00037</td></tr><tr><td>val_accuracy</td><td>0.91075</td></tr><tr><td>val_f1</td><td>0.89295</td></tr><tr><td>val_loss</td><td>0.59268</td></tr></table>\n",
       "</div></div>\n",
       "Synced 5 W&B file(s), 1 media file(s), 0 artifact file(s) and 1 other file(s)\n",
       "<br/>Synced <strong style=\"color:#cdcd00\">eager-sweep-17</strong>: <a href=\"https://wandb.ai/tripleblackcat/uncategorized/runs/kkvhhg6q\" target=\"_blank\">https://wandb.ai/tripleblackcat/uncategorized/runs/kkvhhg6q</a><br/>\n",
       "Find logs at: <code>./wandb/run-20211120_171843-kkvhhg6q/logs</code><br/>\n"
      ],
      "text/plain": [
       "<IPython.core.display.HTML object>"
      ]
     },
     "metadata": {},
     "output_type": "display_data"
    },
    {
     "name": "stderr",
     "output_type": "stream",
     "text": [
      "\u001b[34m\u001b[1mwandb\u001b[0m: Agent Starting Run: pjkawbit with config:\n",
      "\u001b[34m\u001b[1mwandb\u001b[0m: \tbatch_size: 64\n",
      "\u001b[34m\u001b[1mwandb\u001b[0m: \tdropout: 0.5\n",
      "\u001b[34m\u001b[1mwandb\u001b[0m: \tembedding_dim: 256\n",
      "\u001b[34m\u001b[1mwandb\u001b[0m: \tepochs: 20\n",
      "\u001b[34m\u001b[1mwandb\u001b[0m: \tff_size: 64\n",
      "\u001b[34m\u001b[1mwandb\u001b[0m: \tlr: 0.005\n",
      "\u001b[34m\u001b[1mwandb\u001b[0m: \tlstm_units: 256\n",
      "\u001b[34m\u001b[1mwandb\u001b[0m: \tmax_tokens: 5000\n"
     ]
    },
    {
     "data": {
      "text/html": [
       "\n",
       "                    Syncing run <strong><a href=\"https://wandb.ai/tripleblackcat/uncategorized/runs/pjkawbit\" target=\"_blank\">comfy-sweep-18</a></strong> to <a href=\"https://wandb.ai/tripleblackcat/uncategorized\" target=\"_blank\">Weights & Biases</a> (<a href=\"https://docs.wandb.com/integrations/jupyter.html\" target=\"_blank\">docs</a>).<br/>\n",
       "Sweep page: <a href=\"https://wandb.ai/tripleblackcat/uncategorized/sweeps/aoizs7rc\" target=\"_blank\">https://wandb.ai/tripleblackcat/uncategorized/sweeps/aoizs7rc</a><br/>\n",
       "\n",
       "                "
      ],
      "text/plain": [
       "<IPython.core.display.HTML object>"
      ]
     },
     "metadata": {},
     "output_type": "display_data"
    },
    {
     "name": "stdout",
     "output_type": "stream",
     "text": [
      "Epoch 1/20\n",
      "134/134 [==============================] - ETA: 0s - loss: 0.3496 - accuracy: 0.8402"
     ]
    },
    {
     "name": "stderr",
     "output_type": "stream",
     "text": [
      "\u001b[34m\u001b[1mwandb\u001b[0m: \u001b[32m\u001b[41mERROR\u001b[0m Can't save model, h5py returned error: Save or restore weights that is not an instance of `tf.Variable` is not supported in h5, use `save_format='tf'` instead. Received a model or layer TextVectorization with weights [<keras.layers.preprocessing.index_lookup.VocabWeightHandler object at 0x7fd6141dce20>]\n"
     ]
    },
    {
     "name": "stdout",
     "output_type": "stream",
     "text": [
      "134/134 [==============================] - 8s 21ms/step - loss: 0.3496 - accuracy: 0.8402 - val_loss: 0.2303 - val_accuracy: 0.8981\n",
      "Epoch 2/20\n",
      "134/134 [==============================] - 1s 10ms/step - loss: 0.1161 - accuracy: 0.9571 - val_loss: 0.2708 - val_accuracy: 0.9122\n",
      "Epoch 3/20\n",
      "134/134 [==============================] - 1s 10ms/step - loss: 0.0385 - accuracy: 0.9883 - val_loss: 0.3188 - val_accuracy: 0.9065\n",
      "Epoch 4/20\n",
      "134/134 [==============================] - 1s 10ms/step - loss: 0.0189 - accuracy: 0.9944 - val_loss: 0.3971 - val_accuracy: 0.9051\n",
      "Epoch 5/20\n",
      "134/134 [==============================] - 1s 10ms/step - loss: 0.0154 - accuracy: 0.9946 - val_loss: 0.4562 - val_accuracy: 0.9037\n",
      "Epoch 6/20\n",
      "134/134 [==============================] - 1s 10ms/step - loss: 0.0179 - accuracy: 0.9948 - val_loss: 0.4685 - val_accuracy: 0.9086\n",
      "Epoch 7/20\n",
      "134/134 [==============================] - 1s 10ms/step - loss: 0.0074 - accuracy: 0.9986 - val_loss: 0.5088 - val_accuracy: 0.8974\n",
      "Epoch 8/20\n",
      "134/134 [==============================] - 1s 10ms/step - loss: 0.0068 - accuracy: 0.9974 - val_loss: 0.6153 - val_accuracy: 0.9009\n",
      "Epoch 9/20\n",
      "134/134 [==============================] - 1s 10ms/step - loss: 0.0054 - accuracy: 0.9981 - val_loss: 0.6415 - val_accuracy: 0.8995\n",
      "Epoch 10/20\n",
      "134/134 [==============================] - 1s 10ms/step - loss: 0.0026 - accuracy: 0.9995 - val_loss: 0.8353 - val_accuracy: 0.8939\n",
      "Epoch 11/20\n",
      "134/134 [==============================] - 1s 10ms/step - loss: 0.0025 - accuracy: 0.9993 - val_loss: 0.8620 - val_accuracy: 0.9044\n",
      "Epoch 12/20\n",
      "134/134 [==============================] - 1s 10ms/step - loss: 0.0103 - accuracy: 0.9977 - val_loss: 0.6960 - val_accuracy: 0.8960\n",
      "Epoch 13/20\n",
      "134/134 [==============================] - 1s 10ms/step - loss: 0.0013 - accuracy: 1.0000 - val_loss: 0.8410 - val_accuracy: 0.9023\n",
      "Epoch 14/20\n",
      "134/134 [==============================] - 1s 10ms/step - loss: 5.7608e-04 - accuracy: 1.0000 - val_loss: 0.9222 - val_accuracy: 0.8974\n",
      "Epoch 15/20\n",
      "134/134 [==============================] - 1s 10ms/step - loss: 4.3864e-04 - accuracy: 1.0000 - val_loss: 0.9412 - val_accuracy: 0.9023\n",
      "Epoch 16/20\n",
      "134/134 [==============================] - 1s 10ms/step - loss: 4.1628e-04 - accuracy: 1.0000 - val_loss: 0.9942 - val_accuracy: 0.9037\n",
      "Epoch 17/20\n",
      "134/134 [==============================] - 1s 10ms/step - loss: 3.6830e-04 - accuracy: 1.0000 - val_loss: 1.0151 - val_accuracy: 0.9030\n",
      "Epoch 18/20\n",
      "134/134 [==============================] - 1s 10ms/step - loss: 3.3155e-04 - accuracy: 1.0000 - val_loss: 1.0356 - val_accuracy: 0.9023\n",
      "Epoch 19/20\n",
      "134/134 [==============================] - 1s 10ms/step - loss: 3.1599e-04 - accuracy: 1.0000 - val_loss: 1.0478 - val_accuracy: 0.9016\n",
      "Epoch 20/20\n",
      "134/134 [==============================] - 1s 9ms/step - loss: 2.7872e-04 - accuracy: 1.0000 - val_loss: 1.0647 - val_accuracy: 0.9037\n"
     ]
    },
    {
     "data": {
      "text/html": [
       "<br/>Waiting for W&B process to finish, PID 46784... <strong style=\"color:green\">(success).</strong>"
      ],
      "text/plain": [
       "<IPython.core.display.HTML object>"
      ]
     },
     "metadata": {},
     "output_type": "display_data"
    },
    {
     "data": {
      "text/html": [
       "<style>\n",
       "    table.wandb td:nth-child(1) { padding: 0 10px; text-align: right }\n",
       "    .wandb-row { display: flex; flex-direction: row; flex-wrap: wrap; width: 100% }\n",
       "    .wandb-col { display: flex; flex-direction: column; flex-basis: 100%; flex: 1; padding: 10px; }\n",
       "    </style>\n",
       "<div class=\"wandb-row\"><div class=\"wandb-col\">\n",
       "<h3>Run history:</h3><br/><table class=\"wandb\"><tr><td>accuracy</td><td>▁▆▇█████████████████</td></tr><tr><td>epoch</td><td>▁▁▂▂▂▃▃▄▄▄▅▅▅▆▆▇▇▇██</td></tr><tr><td>loss</td><td>█▃▂▁▁▁▁▁▁▁▁▁▁▁▁▁▁▁▁▁</td></tr><tr><td>val_accuracy</td><td>▃█▆▅▅▇▂▄▃▁▅▂▄▂▄▅▅▄▄▅</td></tr><tr><td>val_f1</td><td>▁</td></tr><tr><td>val_loss</td><td>▁▁▂▂▃▃▃▄▄▆▆▅▆▇▇▇████</td></tr></table><br/></div><div class=\"wandb-col\">\n",
       "<h3>Run summary:</h3><br/><table class=\"wandb\"><tr><td>accuracy</td><td>1.0</td></tr><tr><td>best_epoch</td><td>0</td></tr><tr><td>best_val_loss</td><td>0.23034</td></tr><tr><td>epoch</td><td>19</td></tr><tr><td>loss</td><td>0.00028</td></tr><tr><td>val_accuracy</td><td>0.90372</td></tr><tr><td>val_f1</td><td>0.89579</td></tr><tr><td>val_loss</td><td>1.06473</td></tr></table>\n",
       "</div></div>\n",
       "Synced 5 W&B file(s), 1 media file(s), 0 artifact file(s) and 1 other file(s)\n",
       "<br/>Synced <strong style=\"color:#cdcd00\">comfy-sweep-18</strong>: <a href=\"https://wandb.ai/tripleblackcat/uncategorized/runs/pjkawbit\" target=\"_blank\">https://wandb.ai/tripleblackcat/uncategorized/runs/pjkawbit</a><br/>\n",
       "Find logs at: <code>./wandb/run-20211120_171931-pjkawbit/logs</code><br/>\n"
      ],
      "text/plain": [
       "<IPython.core.display.HTML object>"
      ]
     },
     "metadata": {},
     "output_type": "display_data"
    },
    {
     "name": "stderr",
     "output_type": "stream",
     "text": [
      "\u001b[34m\u001b[1mwandb\u001b[0m: Agent Starting Run: fe70gegg with config:\n",
      "\u001b[34m\u001b[1mwandb\u001b[0m: \tbatch_size: 256\n",
      "\u001b[34m\u001b[1mwandb\u001b[0m: \tdropout: 0\n",
      "\u001b[34m\u001b[1mwandb\u001b[0m: \tembedding_dim: 256\n",
      "\u001b[34m\u001b[1mwandb\u001b[0m: \tepochs: 40\n",
      "\u001b[34m\u001b[1mwandb\u001b[0m: \tff_size: 128\n",
      "\u001b[34m\u001b[1mwandb\u001b[0m: \tlr: 0.0005\n",
      "\u001b[34m\u001b[1mwandb\u001b[0m: \tlstm_units: 64\n",
      "\u001b[34m\u001b[1mwandb\u001b[0m: \tmax_tokens: 5000\n"
     ]
    },
    {
     "data": {
      "text/html": [
       "\n",
       "                    Syncing run <strong><a href=\"https://wandb.ai/tripleblackcat/uncategorized/runs/fe70gegg\" target=\"_blank\">happy-sweep-19</a></strong> to <a href=\"https://wandb.ai/tripleblackcat/uncategorized\" target=\"_blank\">Weights & Biases</a> (<a href=\"https://docs.wandb.com/integrations/jupyter.html\" target=\"_blank\">docs</a>).<br/>\n",
       "Sweep page: <a href=\"https://wandb.ai/tripleblackcat/uncategorized/sweeps/aoizs7rc\" target=\"_blank\">https://wandb.ai/tripleblackcat/uncategorized/sweeps/aoizs7rc</a><br/>\n",
       "\n",
       "                "
      ],
      "text/plain": [
       "<IPython.core.display.HTML object>"
      ]
     },
     "metadata": {},
     "output_type": "display_data"
    },
    {
     "name": "stdout",
     "output_type": "stream",
     "text": [
      "Epoch 1/40\n",
      "131/134 [============================>.] - ETA: 0s - loss: 0.3854 - accuracy: 0.7727"
     ]
    },
    {
     "name": "stderr",
     "output_type": "stream",
     "text": [
      "\u001b[34m\u001b[1mwandb\u001b[0m: \u001b[32m\u001b[41mERROR\u001b[0m Can't save model, h5py returned error: Save or restore weights that is not an instance of `tf.Variable` is not supported in h5, use `save_format='tf'` instead. Received a model or layer TextVectorization with weights [<keras.layers.preprocessing.index_lookup.VocabWeightHandler object at 0x7fd5f44a8a30>]\n"
     ]
    },
    {
     "name": "stdout",
     "output_type": "stream",
     "text": [
      "134/134 [==============================] - 8s 20ms/step - loss: 0.3819 - accuracy: 0.7758 - val_loss: 0.2114 - val_accuracy: 0.9108\n",
      "Epoch 2/40\n",
      "134/134 [==============================] - 1s 9ms/step - loss: 0.1259 - accuracy: 0.9524 - val_loss: 0.2018 - val_accuracy: 0.9220\n",
      "Epoch 3/40\n",
      "134/134 [==============================] - 1s 9ms/step - loss: 0.0469 - accuracy: 0.9838 - val_loss: 0.2483 - val_accuracy: 0.9199\n",
      "Epoch 4/40\n",
      "134/134 [==============================] - 1s 9ms/step - loss: 0.0258 - accuracy: 0.9927 - val_loss: 0.3543 - val_accuracy: 0.9100\n",
      "Epoch 5/40\n",
      "134/134 [==============================] - 1s 9ms/step - loss: 0.0185 - accuracy: 0.9934 - val_loss: 0.3126 - val_accuracy: 0.9150\n",
      "Epoch 6/40\n",
      "134/134 [==============================] - 1s 9ms/step - loss: 0.0098 - accuracy: 0.9972 - val_loss: 0.3542 - val_accuracy: 0.9185\n",
      "Epoch 7/40\n",
      "134/134 [==============================] - 1s 8ms/step - loss: 0.0038 - accuracy: 0.9995 - val_loss: 0.3963 - val_accuracy: 0.9150\n",
      "Epoch 8/40\n",
      "134/134 [==============================] - 1s 9ms/step - loss: 0.0031 - accuracy: 0.9991 - val_loss: 0.3655 - val_accuracy: 0.9199\n",
      "Epoch 9/40\n",
      "134/134 [==============================] - 1s 9ms/step - loss: 0.0021 - accuracy: 0.9998 - val_loss: 0.4096 - val_accuracy: 0.9199\n",
      "Epoch 10/40\n",
      "134/134 [==============================] - 1s 9ms/step - loss: 0.0014 - accuracy: 0.9995 - val_loss: 0.4406 - val_accuracy: 0.9199\n",
      "Epoch 11/40\n",
      "134/134 [==============================] - 1s 9ms/step - loss: 9.1855e-04 - accuracy: 1.0000 - val_loss: 0.4655 - val_accuracy: 0.9220\n",
      "Epoch 12/40\n",
      "134/134 [==============================] - 1s 10ms/step - loss: 7.4227e-04 - accuracy: 1.0000 - val_loss: 0.4828 - val_accuracy: 0.9262\n",
      "Epoch 13/40\n",
      "134/134 [==============================] - 1s 9ms/step - loss: 6.7375e-04 - accuracy: 1.0000 - val_loss: 0.4987 - val_accuracy: 0.9262\n",
      "Epoch 14/40\n",
      "134/134 [==============================] - 1s 9ms/step - loss: 6.1969e-04 - accuracy: 1.0000 - val_loss: 0.5139 - val_accuracy: 0.9248\n",
      "Epoch 15/40\n",
      "134/134 [==============================] - 1s 9ms/step - loss: 5.7595e-04 - accuracy: 1.0000 - val_loss: 0.5159 - val_accuracy: 0.9269\n",
      "Epoch 16/40\n",
      "134/134 [==============================] - 1s 9ms/step - loss: 5.3956e-04 - accuracy: 1.0000 - val_loss: 0.5403 - val_accuracy: 0.9262\n",
      "Epoch 17/40\n",
      "134/134 [==============================] - 1s 8ms/step - loss: 5.0497e-04 - accuracy: 1.0000 - val_loss: 0.5525 - val_accuracy: 0.9262\n",
      "Epoch 18/40\n",
      "134/134 [==============================] - 1s 9ms/step - loss: 4.7220e-04 - accuracy: 1.0000 - val_loss: 0.5646 - val_accuracy: 0.9269\n",
      "Epoch 19/40\n",
      "134/134 [==============================] - 1s 9ms/step - loss: 4.3974e-04 - accuracy: 1.0000 - val_loss: 0.5754 - val_accuracy: 0.9269\n",
      "Epoch 20/40\n",
      "134/134 [==============================] - 1s 9ms/step - loss: 4.1129e-04 - accuracy: 1.0000 - val_loss: 0.5867 - val_accuracy: 0.9255\n",
      "Epoch 21/40\n",
      "134/134 [==============================] - 1s 8ms/step - loss: 3.8571e-04 - accuracy: 1.0000 - val_loss: 0.5979 - val_accuracy: 0.9262\n",
      "Epoch 22/40\n",
      "134/134 [==============================] - 1s 8ms/step - loss: 3.5739e-04 - accuracy: 1.0000 - val_loss: 0.6085 - val_accuracy: 0.9262\n",
      "Epoch 23/40\n",
      "134/134 [==============================] - 1s 8ms/step - loss: 3.3279e-04 - accuracy: 1.0000 - val_loss: 0.6059 - val_accuracy: 0.9262\n",
      "Epoch 24/40\n",
      "134/134 [==============================] - 1s 9ms/step - loss: 3.1028e-04 - accuracy: 1.0000 - val_loss: 0.6296 - val_accuracy: 0.9248\n",
      "Epoch 25/40\n",
      "134/134 [==============================] - 1s 9ms/step - loss: 2.8808e-04 - accuracy: 1.0000 - val_loss: 0.6399 - val_accuracy: 0.9248\n",
      "Epoch 26/40\n",
      "134/134 [==============================] - 1s 9ms/step - loss: 2.6853e-04 - accuracy: 1.0000 - val_loss: 0.6500 - val_accuracy: 0.9248\n",
      "Epoch 27/40\n",
      "134/134 [==============================] - 1s 8ms/step - loss: 2.4941e-04 - accuracy: 1.0000 - val_loss: 0.6606 - val_accuracy: 0.9248\n",
      "Epoch 28/40\n",
      "134/134 [==============================] - 1s 9ms/step - loss: 2.3062e-04 - accuracy: 1.0000 - val_loss: 0.6705 - val_accuracy: 0.9248\n",
      "Epoch 29/40\n",
      "134/134 [==============================] - 1s 9ms/step - loss: 2.1517e-04 - accuracy: 1.0000 - val_loss: 0.6816 - val_accuracy: 0.9248\n",
      "Epoch 30/40\n",
      "134/134 [==============================] - 1s 9ms/step - loss: 2.0137e-04 - accuracy: 1.0000 - val_loss: 0.6921 - val_accuracy: 0.9241\n",
      "Epoch 31/40\n",
      "134/134 [==============================] - 1s 9ms/step - loss: 1.8847e-04 - accuracy: 1.0000 - val_loss: 0.7024 - val_accuracy: 0.9241\n",
      "Epoch 32/40\n",
      "134/134 [==============================] - 1s 8ms/step - loss: 1.7667e-04 - accuracy: 1.0000 - val_loss: 0.7128 - val_accuracy: 0.9241\n",
      "Epoch 33/40\n",
      "134/134 [==============================] - 1s 9ms/step - loss: 1.6591e-04 - accuracy: 1.0000 - val_loss: 0.7235 - val_accuracy: 0.9234\n",
      "Epoch 34/40\n",
      "134/134 [==============================] - 1s 9ms/step - loss: 1.5589e-04 - accuracy: 1.0000 - val_loss: 0.7332 - val_accuracy: 0.9234\n",
      "Epoch 35/40\n",
      "134/134 [==============================] - 1s 8ms/step - loss: 1.4608e-04 - accuracy: 1.0000 - val_loss: 0.7431 - val_accuracy: 0.9234\n",
      "Epoch 36/40\n",
      "134/134 [==============================] - 1s 9ms/step - loss: 1.3220e-04 - accuracy: 1.0000 - val_loss: 0.7560 - val_accuracy: 0.9241\n",
      "Epoch 37/40\n",
      "134/134 [==============================] - 1s 9ms/step - loss: 1.2385e-04 - accuracy: 1.0000 - val_loss: 0.7659 - val_accuracy: 0.9241\n",
      "Epoch 38/40\n",
      "134/134 [==============================] - 1s 8ms/step - loss: 1.1530e-04 - accuracy: 1.0000 - val_loss: 0.7770 - val_accuracy: 0.9227\n",
      "Epoch 39/40\n",
      "134/134 [==============================] - 1s 9ms/step - loss: 1.0756e-04 - accuracy: 1.0000 - val_loss: 0.7869 - val_accuracy: 0.9227\n",
      "Epoch 40/40\n",
      "134/134 [==============================] - 1s 9ms/step - loss: 9.9782e-05 - accuracy: 1.0000 - val_loss: 0.7966 - val_accuracy: 0.9227\n"
     ]
    },
    {
     "data": {
      "text/html": [
       "<br/>Waiting for W&B process to finish, PID 47205... <strong style=\"color:green\">(success).</strong>"
      ],
      "text/plain": [
       "<IPython.core.display.HTML object>"
      ]
     },
     "metadata": {},
     "output_type": "display_data"
    },
    {
     "data": {
      "text/html": [
       "<style>\n",
       "    table.wandb td:nth-child(1) { padding: 0 10px; text-align: right }\n",
       "    .wandb-row { display: flex; flex-direction: row; flex-wrap: wrap; width: 100% }\n",
       "    .wandb-col { display: flex; flex-direction: column; flex-basis: 100%; flex: 1; padding: 10px; }\n",
       "    </style>\n",
       "<div class=\"wandb-row\"><div class=\"wandb-col\">\n",
       "<h3>Run history:</h3><br/><table class=\"wandb\"><tr><td>accuracy</td><td>▁▇▇█████████████████████████████████████</td></tr><tr><td>epoch</td><td>▁▁▁▂▂▂▂▂▂▃▃▃▃▃▄▄▄▄▄▄▅▅▅▅▅▅▆▆▆▆▆▇▇▇▇▇▇███</td></tr><tr><td>loss</td><td>█▃▂▁▁▁▁▁▁▁▁▁▁▁▁▁▁▁▁▁▁▁▁▁▁▁▁▁▁▁▁▁▁▁▁▁▁▁▁▁</td></tr><tr><td>val_accuracy</td><td>▁▆▅▁▃▄▃▅▅▅▆██▇█████▇███▇▇▇▇▇▇▇▇▇▇▇▇▇▇▆▆▆</td></tr><tr><td>val_f1</td><td>▁</td></tr><tr><td>val_loss</td><td>▁▁▂▃▂▃▃▃▃▄▄▄▄▅▅▅▅▅▅▆▆▆▆▆▆▆▆▇▇▇▇▇▇▇▇█████</td></tr></table><br/></div><div class=\"wandb-col\">\n",
       "<h3>Run summary:</h3><br/><table class=\"wandb\"><tr><td>accuracy</td><td>1.0</td></tr><tr><td>best_epoch</td><td>1</td></tr><tr><td>best_val_loss</td><td>0.20183</td></tr><tr><td>epoch</td><td>39</td></tr><tr><td>loss</td><td>0.0001</td></tr><tr><td>val_accuracy</td><td>0.9227</td></tr><tr><td>val_f1</td><td>0.90178</td></tr><tr><td>val_loss</td><td>0.79661</td></tr></table>\n",
       "</div></div>\n",
       "Synced 5 W&B file(s), 1 media file(s), 0 artifact file(s) and 1 other file(s)\n",
       "<br/>Synced <strong style=\"color:#cdcd00\">happy-sweep-19</strong>: <a href=\"https://wandb.ai/tripleblackcat/uncategorized/runs/fe70gegg\" target=\"_blank\">https://wandb.ai/tripleblackcat/uncategorized/runs/fe70gegg</a><br/>\n",
       "Find logs at: <code>./wandb/run-20211120_172020-fe70gegg/logs</code><br/>\n"
      ],
      "text/plain": [
       "<IPython.core.display.HTML object>"
      ]
     },
     "metadata": {},
     "output_type": "display_data"
    },
    {
     "name": "stderr",
     "output_type": "stream",
     "text": [
      "\u001b[34m\u001b[1mwandb\u001b[0m: Agent Starting Run: 6do48nfh with config:\n",
      "\u001b[34m\u001b[1mwandb\u001b[0m: \tbatch_size: 64\n",
      "\u001b[34m\u001b[1mwandb\u001b[0m: \tdropout: 0.5\n",
      "\u001b[34m\u001b[1mwandb\u001b[0m: \tembedding_dim: 32\n",
      "\u001b[34m\u001b[1mwandb\u001b[0m: \tepochs: 10\n",
      "\u001b[34m\u001b[1mwandb\u001b[0m: \tff_size: 256\n",
      "\u001b[34m\u001b[1mwandb\u001b[0m: \tlr: 0.001\n",
      "\u001b[34m\u001b[1mwandb\u001b[0m: \tlstm_units: 256\n",
      "\u001b[34m\u001b[1mwandb\u001b[0m: \tmax_tokens: 5000\n"
     ]
    },
    {
     "data": {
      "text/html": [
       "\n",
       "                    Syncing run <strong><a href=\"https://wandb.ai/tripleblackcat/uncategorized/runs/6do48nfh\" target=\"_blank\">dainty-sweep-20</a></strong> to <a href=\"https://wandb.ai/tripleblackcat/uncategorized\" target=\"_blank\">Weights & Biases</a> (<a href=\"https://docs.wandb.com/integrations/jupyter.html\" target=\"_blank\">docs</a>).<br/>\n",
       "Sweep page: <a href=\"https://wandb.ai/tripleblackcat/uncategorized/sweeps/aoizs7rc\" target=\"_blank\">https://wandb.ai/tripleblackcat/uncategorized/sweeps/aoizs7rc</a><br/>\n",
       "\n",
       "                "
      ],
      "text/plain": [
       "<IPython.core.display.HTML object>"
      ]
     },
     "metadata": {},
     "output_type": "display_data"
    },
    {
     "name": "stdout",
     "output_type": "stream",
     "text": [
      "Epoch 1/10\n",
      "128/134 [===========================>..] - ETA: 0s - loss: 0.4403 - accuracy: 0.7690"
     ]
    },
    {
     "name": "stderr",
     "output_type": "stream",
     "text": [
      "\u001b[34m\u001b[1mwandb\u001b[0m: \u001b[32m\u001b[41mERROR\u001b[0m Can't save model, h5py returned error: Save or restore weights that is not an instance of `tf.Variable` is not supported in h5, use `save_format='tf'` instead. Received a model or layer TextVectorization with weights [<keras.layers.preprocessing.index_lookup.VocabWeightHandler object at 0x7fd6143ba040>]\n"
     ]
    },
    {
     "name": "stdout",
     "output_type": "stream",
     "text": [
      "134/134 [==============================] - 8s 23ms/step - loss: 0.4335 - accuracy: 0.7748 - val_loss: 0.2397 - val_accuracy: 0.9086\n",
      "Epoch 2/10\n",
      "134/134 [==============================] - 1s 9ms/step - loss: 0.1452 - accuracy: 0.9480 - val_loss: 0.2103 - val_accuracy: 0.9108\n",
      "Epoch 3/10\n",
      "134/134 [==============================] - 1s 10ms/step - loss: 0.0923 - accuracy: 0.9693 - val_loss: 0.2187 - val_accuracy: 0.9178\n",
      "Epoch 4/10\n",
      "134/134 [==============================] - 1s 10ms/step - loss: 0.0450 - accuracy: 0.9859 - val_loss: 0.2961 - val_accuracy: 0.9213\n",
      "Epoch 5/10\n",
      "134/134 [==============================] - 1s 9ms/step - loss: 0.0207 - accuracy: 0.9946 - val_loss: 0.3262 - val_accuracy: 0.9002\n",
      "Epoch 6/10\n",
      "134/134 [==============================] - 1s 9ms/step - loss: 0.0192 - accuracy: 0.9939 - val_loss: 0.3806 - val_accuracy: 0.9115\n",
      "Epoch 7/10\n",
      "134/134 [==============================] - 1s 10ms/step - loss: 0.0059 - accuracy: 0.9984 - val_loss: 0.3922 - val_accuracy: 0.9213\n",
      "Epoch 8/10\n",
      "134/134 [==============================] - 1s 9ms/step - loss: 0.0062 - accuracy: 0.9979 - val_loss: 0.5314 - val_accuracy: 0.9072\n",
      "Epoch 9/10\n",
      "134/134 [==============================] - 1s 9ms/step - loss: 0.0178 - accuracy: 0.9951 - val_loss: 0.3695 - val_accuracy: 0.9044\n",
      "Epoch 10/10\n",
      "134/134 [==============================] - 1s 10ms/step - loss: 0.0061 - accuracy: 0.9984 - val_loss: 0.5445 - val_accuracy: 0.9044\n"
     ]
    },
    {
     "data": {
      "text/html": [
       "<br/>Waiting for W&B process to finish, PID 47948... <strong style=\"color:green\">(success).</strong>"
      ],
      "text/plain": [
       "<IPython.core.display.HTML object>"
      ]
     },
     "metadata": {},
     "output_type": "display_data"
    },
    {
     "data": {
      "text/html": [
       "<style>\n",
       "    table.wandb td:nth-child(1) { padding: 0 10px; text-align: right }\n",
       "    .wandb-row { display: flex; flex-direction: row; flex-wrap: wrap; width: 100% }\n",
       "    .wandb-col { display: flex; flex-direction: column; flex-basis: 100%; flex: 1; padding: 10px; }\n",
       "    </style>\n",
       "<div class=\"wandb-row\"><div class=\"wandb-col\">\n",
       "<h3>Run history:</h3><br/><table class=\"wandb\"><tr><td>accuracy</td><td>▁▆▇███████</td></tr><tr><td>epoch</td><td>▁▂▃▃▄▅▆▆▇█</td></tr><tr><td>loss</td><td>█▃▂▂▁▁▁▁▁▁</td></tr><tr><td>val_accuracy</td><td>▄▅▇█▁▅█▃▂▂</td></tr><tr><td>val_f1</td><td>▁</td></tr><tr><td>val_loss</td><td>▂▁▁▃▃▅▅█▄█</td></tr></table><br/></div><div class=\"wandb-col\">\n",
       "<h3>Run summary:</h3><br/><table class=\"wandb\"><tr><td>accuracy</td><td>0.99836</td></tr><tr><td>best_epoch</td><td>1</td></tr><tr><td>best_val_loss</td><td>0.2103</td></tr><tr><td>epoch</td><td>9</td></tr><tr><td>loss</td><td>0.00607</td></tr><tr><td>val_accuracy</td><td>0.90443</td></tr><tr><td>val_f1</td><td>0.89549</td></tr><tr><td>val_loss</td><td>0.54451</td></tr></table>\n",
       "</div></div>\n",
       "Synced 5 W&B file(s), 1 media file(s), 0 artifact file(s) and 1 other file(s)\n",
       "<br/>Synced <strong style=\"color:#cdcd00\">dainty-sweep-20</strong>: <a href=\"https://wandb.ai/tripleblackcat/uncategorized/runs/6do48nfh\" target=\"_blank\">https://wandb.ai/tripleblackcat/uncategorized/runs/6do48nfh</a><br/>\n",
       "Find logs at: <code>./wandb/run-20211120_172128-6do48nfh/logs</code><br/>\n"
      ],
      "text/plain": [
       "<IPython.core.display.HTML object>"
      ]
     },
     "metadata": {},
     "output_type": "display_data"
    },
    {
     "name": "stderr",
     "output_type": "stream",
     "text": [
      "\u001b[34m\u001b[1mwandb\u001b[0m: Agent Starting Run: xdueel5t with config:\n",
      "\u001b[34m\u001b[1mwandb\u001b[0m: \tbatch_size: 64\n",
      "\u001b[34m\u001b[1mwandb\u001b[0m: \tdropout: 0\n",
      "\u001b[34m\u001b[1mwandb\u001b[0m: \tembedding_dim: 64\n",
      "\u001b[34m\u001b[1mwandb\u001b[0m: \tepochs: 40\n",
      "\u001b[34m\u001b[1mwandb\u001b[0m: \tff_size: 256\n",
      "\u001b[34m\u001b[1mwandb\u001b[0m: \tlr: 0.0005\n",
      "\u001b[34m\u001b[1mwandb\u001b[0m: \tlstm_units: 32\n",
      "\u001b[34m\u001b[1mwandb\u001b[0m: \tmax_tokens: 1000\n"
     ]
    },
    {
     "data": {
      "text/html": [
       "\n",
       "                    Syncing run <strong><a href=\"https://wandb.ai/tripleblackcat/uncategorized/runs/xdueel5t\" target=\"_blank\">clear-sweep-21</a></strong> to <a href=\"https://wandb.ai/tripleblackcat/uncategorized\" target=\"_blank\">Weights & Biases</a> (<a href=\"https://docs.wandb.com/integrations/jupyter.html\" target=\"_blank\">docs</a>).<br/>\n",
       "Sweep page: <a href=\"https://wandb.ai/tripleblackcat/uncategorized/sweeps/aoizs7rc\" target=\"_blank\">https://wandb.ai/tripleblackcat/uncategorized/sweeps/aoizs7rc</a><br/>\n",
       "\n",
       "                "
      ],
      "text/plain": [
       "<IPython.core.display.HTML object>"
      ]
     },
     "metadata": {},
     "output_type": "display_data"
    },
    {
     "name": "stdout",
     "output_type": "stream",
     "text": [
      "Epoch 1/40\n",
      "128/134 [===========================>..] - ETA: 0s - loss: 0.5010 - accuracy: 0.6877"
     ]
    },
    {
     "name": "stderr",
     "output_type": "stream",
     "text": [
      "\u001b[34m\u001b[1mwandb\u001b[0m: \u001b[32m\u001b[41mERROR\u001b[0m Can't save model, h5py returned error: Save or restore weights that is not an instance of `tf.Variable` is not supported in h5, use `save_format='tf'` instead. Received a model or layer TextVectorization with weights [<keras.layers.preprocessing.index_lookup.VocabWeightHandler object at 0x7fd714a06f70>]\n"
     ]
    },
    {
     "name": "stdout",
     "output_type": "stream",
     "text": [
      "134/134 [==============================] - 8s 22ms/step - loss: 0.4935 - accuracy: 0.6935 - val_loss: 0.2681 - val_accuracy: 0.8953\n",
      "Epoch 2/40\n",
      "134/134 [==============================] - 1s 11ms/step - loss: 0.2105 - accuracy: 0.9119 - val_loss: 0.2330 - val_accuracy: 0.9030\n",
      "Epoch 3/40\n",
      "134/134 [==============================] - 1s 10ms/step - loss: 0.1627 - accuracy: 0.9405 - val_loss: 0.2331 - val_accuracy: 0.9065\n",
      "Epoch 4/40\n",
      "134/134 [==============================] - 1s 9ms/step - loss: 0.1360 - accuracy: 0.9466 - val_loss: 0.2427 - val_accuracy: 0.8995\n",
      "Epoch 5/40\n",
      "134/134 [==============================] - 1s 9ms/step - loss: 0.1182 - accuracy: 0.9548 - val_loss: 0.2454 - val_accuracy: 0.9051\n",
      "Epoch 6/40\n",
      "134/134 [==============================] - 1s 9ms/step - loss: 0.0925 - accuracy: 0.9646 - val_loss: 0.2860 - val_accuracy: 0.9030\n",
      "Epoch 7/40\n",
      "134/134 [==============================] - 1s 9ms/step - loss: 0.0766 - accuracy: 0.9735 - val_loss: 0.2951 - val_accuracy: 0.9058\n",
      "Epoch 8/40\n",
      "134/134 [==============================] - 1s 10ms/step - loss: 0.0561 - accuracy: 0.9787 - val_loss: 0.3387 - val_accuracy: 0.9108\n",
      "Epoch 9/40\n",
      "134/134 [==============================] - 1s 9ms/step - loss: 0.0616 - accuracy: 0.9801 - val_loss: 0.3198 - val_accuracy: 0.9122\n",
      "Epoch 10/40\n",
      "134/134 [==============================] - 1s 10ms/step - loss: 0.0395 - accuracy: 0.9866 - val_loss: 0.4066 - val_accuracy: 0.9072\n",
      "Epoch 11/40\n",
      "134/134 [==============================] - 1s 8ms/step - loss: 0.0314 - accuracy: 0.9906 - val_loss: 0.4450 - val_accuracy: 0.8988\n",
      "Epoch 12/40\n",
      "134/134 [==============================] - 1s 9ms/step - loss: 0.0239 - accuracy: 0.9923 - val_loss: 0.5099 - val_accuracy: 0.8974\n",
      "Epoch 13/40\n",
      "134/134 [==============================] - 1s 10ms/step - loss: 0.0236 - accuracy: 0.9927 - val_loss: 0.4887 - val_accuracy: 0.8995\n",
      "Epoch 14/40\n",
      "134/134 [==============================] - 1s 9ms/step - loss: 0.0166 - accuracy: 0.9958 - val_loss: 0.5419 - val_accuracy: 0.9016\n",
      "Epoch 15/40\n",
      "134/134 [==============================] - 1s 9ms/step - loss: 0.0126 - accuracy: 0.9963 - val_loss: 0.6689 - val_accuracy: 0.8974\n",
      "Epoch 16/40\n",
      "134/134 [==============================] - 1s 10ms/step - loss: 0.0105 - accuracy: 0.9967 - val_loss: 0.6334 - val_accuracy: 0.9044\n",
      "Epoch 17/40\n",
      "134/134 [==============================] - 1s 9ms/step - loss: 0.0079 - accuracy: 0.9977 - val_loss: 0.7253 - val_accuracy: 0.8988\n",
      "Epoch 18/40\n",
      "134/134 [==============================] - 1s 10ms/step - loss: 0.0053 - accuracy: 0.9991 - val_loss: 0.7562 - val_accuracy: 0.8967\n",
      "Epoch 19/40\n",
      "134/134 [==============================] - 1s 9ms/step - loss: 0.0041 - accuracy: 0.9991 - val_loss: 0.8386 - val_accuracy: 0.8953\n",
      "Epoch 20/40\n",
      "134/134 [==============================] - 1s 9ms/step - loss: 0.0063 - accuracy: 0.9986 - val_loss: 0.7330 - val_accuracy: 0.8932\n",
      "Epoch 21/40\n",
      "134/134 [==============================] - 1s 8ms/step - loss: 0.0306 - accuracy: 0.9902 - val_loss: 0.5966 - val_accuracy: 0.9037\n",
      "Epoch 22/40\n",
      "134/134 [==============================] - 1s 9ms/step - loss: 0.0129 - accuracy: 0.9953 - val_loss: 0.6365 - val_accuracy: 0.9023\n",
      "Epoch 23/40\n",
      "134/134 [==============================] - 1s 9ms/step - loss: 0.0073 - accuracy: 0.9972 - val_loss: 0.7150 - val_accuracy: 0.9023\n",
      "Epoch 24/40\n",
      "134/134 [==============================] - 1s 10ms/step - loss: 0.0040 - accuracy: 0.9986 - val_loss: 0.7234 - val_accuracy: 0.9037\n",
      "Epoch 25/40\n",
      "134/134 [==============================] - 1s 9ms/step - loss: 0.0029 - accuracy: 0.9995 - val_loss: 0.7711 - val_accuracy: 0.9037\n",
      "Epoch 26/40\n",
      "134/134 [==============================] - 1s 10ms/step - loss: 0.0029 - accuracy: 0.9993 - val_loss: 0.7858 - val_accuracy: 0.9016\n",
      "Epoch 27/40\n",
      "134/134 [==============================] - 1s 8ms/step - loss: 0.0024 - accuracy: 0.9995 - val_loss: 0.8354 - val_accuracy: 0.9009\n",
      "Epoch 28/40\n",
      "134/134 [==============================] - 1s 9ms/step - loss: 0.0023 - accuracy: 0.9995 - val_loss: 0.8567 - val_accuracy: 0.8988\n",
      "Epoch 29/40\n",
      "134/134 [==============================] - 1s 9ms/step - loss: 0.0023 - accuracy: 0.9991 - val_loss: 0.8875 - val_accuracy: 0.9023\n",
      "Epoch 30/40\n",
      "134/134 [==============================] - 1s 9ms/step - loss: 0.0015 - accuracy: 0.9998 - val_loss: 0.9156 - val_accuracy: 0.9051\n",
      "Epoch 31/40\n",
      "134/134 [==============================] - 1s 10ms/step - loss: 0.0022 - accuracy: 0.9991 - val_loss: 0.9454 - val_accuracy: 0.9002\n",
      "Epoch 32/40\n",
      "134/134 [==============================] - 1s 9ms/step - loss: 0.0020 - accuracy: 0.9993 - val_loss: 1.0655 - val_accuracy: 0.8946\n",
      "Epoch 33/40\n",
      "134/134 [==============================] - 1s 9ms/step - loss: 0.0023 - accuracy: 0.9995 - val_loss: 0.9966 - val_accuracy: 0.8988\n",
      "Epoch 34/40\n",
      "134/134 [==============================] - 1s 9ms/step - loss: 0.0016 - accuracy: 0.9998 - val_loss: 1.0019 - val_accuracy: 0.8988\n",
      "Epoch 35/40\n",
      "134/134 [==============================] - 1s 9ms/step - loss: 0.0015 - accuracy: 0.9993 - val_loss: 1.0390 - val_accuracy: 0.8932\n",
      "Epoch 36/40\n",
      "134/134 [==============================] - 1s 9ms/step - loss: 0.0019 - accuracy: 0.9995 - val_loss: 1.0376 - val_accuracy: 0.8960\n",
      "Epoch 37/40\n",
      "134/134 [==============================] - 1s 9ms/step - loss: 0.0019 - accuracy: 0.9993 - val_loss: 1.0889 - val_accuracy: 0.8974\n",
      "Epoch 38/40\n",
      "134/134 [==============================] - 1s 9ms/step - loss: 0.0394 - accuracy: 0.9888 - val_loss: 0.6084 - val_accuracy: 0.8946\n",
      "Epoch 39/40\n",
      "134/134 [==============================] - 1s 9ms/step - loss: 0.0140 - accuracy: 0.9944 - val_loss: 0.7053 - val_accuracy: 0.8988\n",
      "Epoch 40/40\n",
      "134/134 [==============================] - 1s 9ms/step - loss: 0.0103 - accuracy: 0.9955 - val_loss: 0.7035 - val_accuracy: 0.8911\n"
     ]
    },
    {
     "data": {
      "text/html": [
       "<br/>Waiting for W&B process to finish, PID 48213... <strong style=\"color:green\">(success).</strong>"
      ],
      "text/plain": [
       "<IPython.core.display.HTML object>"
      ]
     },
     "metadata": {},
     "output_type": "display_data"
    },
    {
     "data": {
      "text/html": [
       "<style>\n",
       "    table.wandb td:nth-child(1) { padding: 0 10px; text-align: right }\n",
       "    .wandb-row { display: flex; flex-direction: row; flex-wrap: wrap; width: 100% }\n",
       "    .wandb-col { display: flex; flex-direction: column; flex-basis: 100%; flex: 1; padding: 10px; }\n",
       "    </style>\n",
       "<div class=\"wandb-row\"><div class=\"wandb-col\">\n",
       "<h3>Run history:</h3><br/><table class=\"wandb\"><tr><td>accuracy</td><td>▁▆▇▇▇▇▇█████████████████████████████████</td></tr><tr><td>epoch</td><td>▁▁▁▂▂▂▂▂▂▃▃▃▃▃▄▄▄▄▄▄▅▅▅▅▅▅▆▆▆▆▆▇▇▇▇▇▇███</td></tr><tr><td>loss</td><td>█▄▃▃▃▂▂▂▂▂▁▁▁▁▁▁▁▁▁▁▁▁▁▁▁▁▁▁▁▁▁▁▁▁▁▁▁▂▁▁</td></tr><tr><td>val_accuracy</td><td>▂▅▆▄▆▅▆██▆▄▃▄▄▃▅▄▃▂▂▅▅▅▅▅▄▄▄▅▆▄▂▄▄▂▃▃▂▄▁</td></tr><tr><td>val_f1</td><td>▁</td></tr><tr><td>val_loss</td><td>▁▁▁▁▁▁▂▂▂▂▃▃▃▄▅▄▅▅▆▅▄▄▅▅▅▆▆▆▆▇▇█▇▇███▄▅▅</td></tr></table><br/></div><div class=\"wandb-col\">\n",
       "<h3>Run summary:</h3><br/><table class=\"wandb\"><tr><td>accuracy</td><td>0.99555</td></tr><tr><td>best_epoch</td><td>1</td></tr><tr><td>best_val_loss</td><td>0.23301</td></tr><tr><td>epoch</td><td>39</td></tr><tr><td>loss</td><td>0.01026</td></tr><tr><td>val_accuracy</td><td>0.89108</td></tr><tr><td>val_f1</td><td>0.87664</td></tr><tr><td>val_loss</td><td>0.70349</td></tr></table>\n",
       "</div></div>\n",
       "Synced 5 W&B file(s), 1 media file(s), 0 artifact file(s) and 1 other file(s)\n",
       "<br/>Synced <strong style=\"color:#cdcd00\">clear-sweep-21</strong>: <a href=\"https://wandb.ai/tripleblackcat/uncategorized/runs/xdueel5t\" target=\"_blank\">https://wandb.ai/tripleblackcat/uncategorized/runs/xdueel5t</a><br/>\n",
       "Find logs at: <code>./wandb/run-20211120_172200-xdueel5t/logs</code><br/>\n"
      ],
      "text/plain": [
       "<IPython.core.display.HTML object>"
      ]
     },
     "metadata": {},
     "output_type": "display_data"
    },
    {
     "name": "stderr",
     "output_type": "stream",
     "text": [
      "\u001b[34m\u001b[1mwandb\u001b[0m: Agent Starting Run: gpt2qdxu with config:\n",
      "\u001b[34m\u001b[1mwandb\u001b[0m: \tbatch_size: 128\n",
      "\u001b[34m\u001b[1mwandb\u001b[0m: \tdropout: 0.5\n",
      "\u001b[34m\u001b[1mwandb\u001b[0m: \tembedding_dim: 16\n",
      "\u001b[34m\u001b[1mwandb\u001b[0m: \tepochs: 20\n",
      "\u001b[34m\u001b[1mwandb\u001b[0m: \tff_size: 128\n",
      "\u001b[34m\u001b[1mwandb\u001b[0m: \tlr: 0.0005\n",
      "\u001b[34m\u001b[1mwandb\u001b[0m: \tlstm_units: 256\n",
      "\u001b[34m\u001b[1mwandb\u001b[0m: \tmax_tokens: 1000\n"
     ]
    },
    {
     "data": {
      "text/html": [
       "\n",
       "                    Syncing run <strong><a href=\"https://wandb.ai/tripleblackcat/uncategorized/runs/gpt2qdxu\" target=\"_blank\">golden-sweep-22</a></strong> to <a href=\"https://wandb.ai/tripleblackcat/uncategorized\" target=\"_blank\">Weights & Biases</a> (<a href=\"https://docs.wandb.com/integrations/jupyter.html\" target=\"_blank\">docs</a>).<br/>\n",
       "Sweep page: <a href=\"https://wandb.ai/tripleblackcat/uncategorized/sweeps/aoizs7rc\" target=\"_blank\">https://wandb.ai/tripleblackcat/uncategorized/sweeps/aoizs7rc</a><br/>\n",
       "\n",
       "                "
      ],
      "text/plain": [
       "<IPython.core.display.HTML object>"
      ]
     },
     "metadata": {},
     "output_type": "display_data"
    },
    {
     "name": "stdout",
     "output_type": "stream",
     "text": [
      "Epoch 1/20\n",
      "132/134 [============================>.] - ETA: 0s - loss: 0.5391 - accuracy: 0.6773"
     ]
    },
    {
     "name": "stderr",
     "output_type": "stream",
     "text": [
      "\u001b[34m\u001b[1mwandb\u001b[0m: \u001b[32m\u001b[41mERROR\u001b[0m Can't save model, h5py returned error: Save or restore weights that is not an instance of `tf.Variable` is not supported in h5, use `save_format='tf'` instead. Received a model or layer TextVectorization with weights [<keras.layers.preprocessing.index_lookup.VocabWeightHandler object at 0x7fd5c8416580>]\n"
     ]
    },
    {
     "name": "stdout",
     "output_type": "stream",
     "text": [
      "134/134 [==============================] - 8s 25ms/step - loss: 0.5376 - accuracy: 0.6797 - val_loss: 0.3393 - val_accuracy: 0.8791\n",
      "Epoch 2/20\n",
      "134/134 [==============================] - 1s 11ms/step - loss: 0.2918 - accuracy: 0.8819 - val_loss: 0.2677 - val_accuracy: 0.9037\n",
      "Epoch 3/20\n",
      "134/134 [==============================] - 1s 10ms/step - loss: 0.2238 - accuracy: 0.9126 - val_loss: 0.2716 - val_accuracy: 0.8904\n",
      "Epoch 4/20\n",
      "134/134 [==============================] - 1s 10ms/step - loss: 0.1842 - accuracy: 0.9297 - val_loss: 0.3014 - val_accuracy: 0.8911\n",
      "Epoch 5/20\n",
      "134/134 [==============================] - 1s 10ms/step - loss: 0.1607 - accuracy: 0.9400 - val_loss: 0.3170 - val_accuracy: 0.9023\n",
      "Epoch 6/20\n",
      "134/134 [==============================] - 1s 10ms/step - loss: 0.1372 - accuracy: 0.9496 - val_loss: 0.2896 - val_accuracy: 0.9023\n",
      "Epoch 7/20\n",
      "134/134 [==============================] - 1s 11ms/step - loss: 0.1213 - accuracy: 0.9562 - val_loss: 0.3017 - val_accuracy: 0.9023\n",
      "Epoch 8/20\n",
      "134/134 [==============================] - 1s 10ms/step - loss: 0.1013 - accuracy: 0.9667 - val_loss: 0.3842 - val_accuracy: 0.8988\n",
      "Epoch 9/20\n",
      "134/134 [==============================] - 1s 10ms/step - loss: 0.0998 - accuracy: 0.9632 - val_loss: 0.3818 - val_accuracy: 0.9023\n",
      "Epoch 10/20\n",
      "134/134 [==============================] - 1s 11ms/step - loss: 0.0885 - accuracy: 0.9679 - val_loss: 0.3477 - val_accuracy: 0.9016\n",
      "Epoch 11/20\n",
      "134/134 [==============================] - 1s 10ms/step - loss: 0.0711 - accuracy: 0.9763 - val_loss: 0.3810 - val_accuracy: 0.8988\n",
      "Epoch 12/20\n",
      "134/134 [==============================] - 1s 9ms/step - loss: 0.0782 - accuracy: 0.9721 - val_loss: 0.4465 - val_accuracy: 0.8904\n",
      "Epoch 13/20\n",
      "134/134 [==============================] - 1s 10ms/step - loss: 0.0698 - accuracy: 0.9784 - val_loss: 0.4607 - val_accuracy: 0.8862\n",
      "Epoch 14/20\n",
      "134/134 [==============================] - 1s 10ms/step - loss: 0.0614 - accuracy: 0.9801 - val_loss: 0.4684 - val_accuracy: 0.8911\n",
      "Epoch 15/20\n",
      "134/134 [==============================] - 1s 10ms/step - loss: 0.0671 - accuracy: 0.9777 - val_loss: 0.3885 - val_accuracy: 0.8918\n",
      "Epoch 16/20\n",
      "134/134 [==============================] - 1s 10ms/step - loss: 0.0488 - accuracy: 0.9827 - val_loss: 0.4101 - val_accuracy: 0.8932\n",
      "Epoch 17/20\n",
      "134/134 [==============================] - 1s 10ms/step - loss: 0.0424 - accuracy: 0.9841 - val_loss: 0.4964 - val_accuracy: 0.8939\n",
      "Epoch 18/20\n",
      "134/134 [==============================] - 1s 10ms/step - loss: 0.0555 - accuracy: 0.9808 - val_loss: 0.4532 - val_accuracy: 0.8798\n",
      "Epoch 19/20\n",
      "134/134 [==============================] - 1s 11ms/step - loss: 0.0514 - accuracy: 0.9822 - val_loss: 0.4976 - val_accuracy: 0.8876\n",
      "Epoch 20/20\n",
      "134/134 [==============================] - 1s 10ms/step - loss: 0.0391 - accuracy: 0.9876 - val_loss: 0.4702 - val_accuracy: 0.8862\n"
     ]
    },
    {
     "data": {
      "text/html": [
       "<br/>Waiting for W&B process to finish, PID 48953... <strong style=\"color:green\">(success).</strong>"
      ],
      "text/plain": [
       "<IPython.core.display.HTML object>"
      ]
     },
     "metadata": {},
     "output_type": "display_data"
    },
    {
     "data": {
      "text/html": [
       "<style>\n",
       "    table.wandb td:nth-child(1) { padding: 0 10px; text-align: right }\n",
       "    .wandb-row { display: flex; flex-direction: row; flex-wrap: wrap; width: 100% }\n",
       "    .wandb-col { display: flex; flex-direction: column; flex-basis: 100%; flex: 1; padding: 10px; }\n",
       "    </style>\n",
       "<div class=\"wandb-row\"><div class=\"wandb-col\">\n",
       "<h3>Run history:</h3><br/><table class=\"wandb\"><tr><td>accuracy</td><td>▁▆▆▇▇▇▇█▇███████████</td></tr><tr><td>epoch</td><td>▁▁▂▂▂▃▃▄▄▄▅▅▅▆▆▇▇▇██</td></tr><tr><td>loss</td><td>█▅▄▃▃▂▂▂▂▂▁▂▁▁▁▁▁▁▁▁</td></tr><tr><td>val_accuracy</td><td>▁█▄▄███▇█▇▇▄▃▄▅▅▅▁▃▃</td></tr><tr><td>val_f1</td><td>▁</td></tr><tr><td>val_loss</td><td>▃▁▁▂▃▂▂▅▄▃▄▆▇▇▅▅█▇█▇</td></tr></table><br/></div><div class=\"wandb-col\">\n",
       "<h3>Run summary:</h3><br/><table class=\"wandb\"><tr><td>accuracy</td><td>0.98758</td></tr><tr><td>best_epoch</td><td>1</td></tr><tr><td>best_val_loss</td><td>0.26765</td></tr><tr><td>epoch</td><td>19</td></tr><tr><td>loss</td><td>0.03907</td></tr><tr><td>val_accuracy</td><td>0.88616</td></tr><tr><td>val_f1</td><td>0.87614</td></tr><tr><td>val_loss</td><td>0.47024</td></tr></table>\n",
       "</div></div>\n",
       "Synced 5 W&B file(s), 1 media file(s), 0 artifact file(s) and 1 other file(s)\n",
       "<br/>Synced <strong style=\"color:#cdcd00\">golden-sweep-22</strong>: <a href=\"https://wandb.ai/tripleblackcat/uncategorized/runs/gpt2qdxu\" target=\"_blank\">https://wandb.ai/tripleblackcat/uncategorized/runs/gpt2qdxu</a><br/>\n",
       "Find logs at: <code>./wandb/run-20211120_172309-gpt2qdxu/logs</code><br/>\n"
      ],
      "text/plain": [
       "<IPython.core.display.HTML object>"
      ]
     },
     "metadata": {},
     "output_type": "display_data"
    },
    {
     "name": "stderr",
     "output_type": "stream",
     "text": [
      "\u001b[34m\u001b[1mwandb\u001b[0m: Agent Starting Run: 2h8p1ux6 with config:\n",
      "\u001b[34m\u001b[1mwandb\u001b[0m: \tbatch_size: 64\n",
      "\u001b[34m\u001b[1mwandb\u001b[0m: \tdropout: 0.5\n",
      "\u001b[34m\u001b[1mwandb\u001b[0m: \tembedding_dim: 64\n",
      "\u001b[34m\u001b[1mwandb\u001b[0m: \tepochs: 10\n",
      "\u001b[34m\u001b[1mwandb\u001b[0m: \tff_size: 128\n",
      "\u001b[34m\u001b[1mwandb\u001b[0m: \tlr: 0.0001\n",
      "\u001b[34m\u001b[1mwandb\u001b[0m: \tlstm_units: 64\n",
      "\u001b[34m\u001b[1mwandb\u001b[0m: \tmax_tokens: 100\n"
     ]
    },
    {
     "data": {
      "text/html": [
       "\n",
       "                    Syncing run <strong><a href=\"https://wandb.ai/tripleblackcat/uncategorized/runs/2h8p1ux6\" target=\"_blank\">woven-sweep-23</a></strong> to <a href=\"https://wandb.ai/tripleblackcat/uncategorized\" target=\"_blank\">Weights & Biases</a> (<a href=\"https://docs.wandb.com/integrations/jupyter.html\" target=\"_blank\">docs</a>).<br/>\n",
       "Sweep page: <a href=\"https://wandb.ai/tripleblackcat/uncategorized/sweeps/aoizs7rc\" target=\"_blank\">https://wandb.ai/tripleblackcat/uncategorized/sweeps/aoizs7rc</a><br/>\n",
       "\n",
       "                "
      ],
      "text/plain": [
       "<IPython.core.display.HTML object>"
      ]
     },
     "metadata": {},
     "output_type": "display_data"
    },
    {
     "name": "stdout",
     "output_type": "stream",
     "text": [
      "Epoch 1/10\n",
      "130/134 [============================>.] - ETA: 0s - loss: 0.6898 - accuracy: 0.5058"
     ]
    },
    {
     "name": "stderr",
     "output_type": "stream",
     "text": [
      "\u001b[34m\u001b[1mwandb\u001b[0m: \u001b[32m\u001b[41mERROR\u001b[0m Can't save model, h5py returned error: Save or restore weights that is not an instance of `tf.Variable` is not supported in h5, use `save_format='tf'` instead. Received a model or layer TextVectorization with weights [<keras.layers.preprocessing.index_lookup.VocabWeightHandler object at 0x7fd7124d0760>]\n"
     ]
    },
    {
     "name": "stdout",
     "output_type": "stream",
     "text": [
      "134/134 [==============================] - 8s 22ms/step - loss: 0.6896 - accuracy: 0.5056 - val_loss: 0.6823 - val_accuracy: 0.4891\n",
      "Epoch 2/10\n",
      "134/134 [==============================] - 1s 10ms/step - loss: 0.6114 - accuracy: 0.5553 - val_loss: 0.4660 - val_accuracy: 0.7751\n",
      "Epoch 3/10\n",
      "134/134 [==============================] - 1s 10ms/step - loss: 0.4348 - accuracy: 0.8058 - val_loss: 0.3713 - val_accuracy: 0.8475\n",
      "Epoch 4/10\n",
      "134/134 [==============================] - 1s 10ms/step - loss: 0.3850 - accuracy: 0.8407 - val_loss: 0.3441 - val_accuracy: 0.8595\n",
      "Epoch 5/10\n",
      "134/134 [==============================] - 1s 9ms/step - loss: 0.3703 - accuracy: 0.8423 - val_loss: 0.3307 - val_accuracy: 0.8637\n",
      "Epoch 6/10\n",
      "134/134 [==============================] - 1s 9ms/step - loss: 0.3548 - accuracy: 0.8498 - val_loss: 0.3225 - val_accuracy: 0.8672\n",
      "Epoch 7/10\n",
      "134/134 [==============================] - 1s 9ms/step - loss: 0.3453 - accuracy: 0.8510 - val_loss: 0.3222 - val_accuracy: 0.8609\n",
      "Epoch 8/10\n",
      "134/134 [==============================] - 1s 9ms/step - loss: 0.3472 - accuracy: 0.8486 - val_loss: 0.3162 - val_accuracy: 0.8609\n",
      "Epoch 9/10\n",
      "134/134 [==============================] - 1s 9ms/step - loss: 0.3413 - accuracy: 0.8489 - val_loss: 0.3125 - val_accuracy: 0.8651\n",
      "Epoch 10/10\n",
      "134/134 [==============================] - 1s 9ms/step - loss: 0.3363 - accuracy: 0.8526 - val_loss: 0.3124 - val_accuracy: 0.8637\n"
     ]
    },
    {
     "data": {
      "text/html": [
       "<br/>Waiting for W&B process to finish, PID 49374... <strong style=\"color:green\">(success).</strong>"
      ],
      "text/plain": [
       "<IPython.core.display.HTML object>"
      ]
     },
     "metadata": {},
     "output_type": "display_data"
    },
    {
     "data": {
      "text/html": [
       "<style>\n",
       "    table.wandb td:nth-child(1) { padding: 0 10px; text-align: right }\n",
       "    .wandb-row { display: flex; flex-direction: row; flex-wrap: wrap; width: 100% }\n",
       "    .wandb-col { display: flex; flex-direction: column; flex-basis: 100%; flex: 1; padding: 10px; }\n",
       "    </style>\n",
       "<div class=\"wandb-row\"><div class=\"wandb-col\">\n",
       "<h3>Run history:</h3><br/><table class=\"wandb\"><tr><td>accuracy</td><td>▁▂▇███████</td></tr><tr><td>epoch</td><td>▁▂▃▃▄▅▆▆▇█</td></tr><tr><td>loss</td><td>█▆▃▂▂▁▁▁▁▁</td></tr><tr><td>val_accuracy</td><td>▁▆████████</td></tr><tr><td>val_f1</td><td>▁</td></tr><tr><td>val_loss</td><td>█▄▂▂▁▁▁▁▁▁</td></tr></table><br/></div><div class=\"wandb-col\">\n",
       "<h3>Run summary:</h3><br/><table class=\"wandb\"><tr><td>accuracy</td><td>0.85262</td></tr><tr><td>best_epoch</td><td>9</td></tr><tr><td>best_val_loss</td><td>0.31242</td></tr><tr><td>epoch</td><td>9</td></tr><tr><td>loss</td><td>0.3363</td></tr><tr><td>val_accuracy</td><td>0.86367</td></tr><tr><td>val_f1</td><td>0.83906</td></tr><tr><td>val_loss</td><td>0.31242</td></tr></table>\n",
       "</div></div>\n",
       "Synced 5 W&B file(s), 1 media file(s), 0 artifact file(s) and 1 other file(s)\n",
       "<br/>Synced <strong style=\"color:#cdcd00\">woven-sweep-23</strong>: <a href=\"https://wandb.ai/tripleblackcat/uncategorized/runs/2h8p1ux6\" target=\"_blank\">https://wandb.ai/tripleblackcat/uncategorized/runs/2h8p1ux6</a><br/>\n",
       "Find logs at: <code>./wandb/run-20211120_172357-2h8p1ux6/logs</code><br/>\n"
      ],
      "text/plain": [
       "<IPython.core.display.HTML object>"
      ]
     },
     "metadata": {},
     "output_type": "display_data"
    },
    {
     "name": "stderr",
     "output_type": "stream",
     "text": [
      "\u001b[34m\u001b[1mwandb\u001b[0m: Agent Starting Run: d6p25th1 with config:\n",
      "\u001b[34m\u001b[1mwandb\u001b[0m: \tbatch_size: 64\n",
      "\u001b[34m\u001b[1mwandb\u001b[0m: \tdropout: 0\n",
      "\u001b[34m\u001b[1mwandb\u001b[0m: \tembedding_dim: 32\n",
      "\u001b[34m\u001b[1mwandb\u001b[0m: \tepochs: 10\n",
      "\u001b[34m\u001b[1mwandb\u001b[0m: \tff_size: 128\n",
      "\u001b[34m\u001b[1mwandb\u001b[0m: \tlr: 0.0005\n",
      "\u001b[34m\u001b[1mwandb\u001b[0m: \tlstm_units: 16\n",
      "\u001b[34m\u001b[1mwandb\u001b[0m: \tmax_tokens: 5000\n"
     ]
    },
    {
     "data": {
      "text/html": [
       "\n",
       "                    Syncing run <strong><a href=\"https://wandb.ai/tripleblackcat/uncategorized/runs/d6p25th1\" target=\"_blank\">volcanic-sweep-24</a></strong> to <a href=\"https://wandb.ai/tripleblackcat/uncategorized\" target=\"_blank\">Weights & Biases</a> (<a href=\"https://docs.wandb.com/integrations/jupyter.html\" target=\"_blank\">docs</a>).<br/>\n",
       "Sweep page: <a href=\"https://wandb.ai/tripleblackcat/uncategorized/sweeps/aoizs7rc\" target=\"_blank\">https://wandb.ai/tripleblackcat/uncategorized/sweeps/aoizs7rc</a><br/>\n",
       "\n",
       "                "
      ],
      "text/plain": [
       "<IPython.core.display.HTML object>"
      ]
     },
     "metadata": {},
     "output_type": "display_data"
    },
    {
     "name": "stdout",
     "output_type": "stream",
     "text": [
      "Epoch 1/10\n",
      "134/134 [==============================] - ETA: 0s - loss: 0.5398 - accuracy: 0.6453"
     ]
    },
    {
     "name": "stderr",
     "output_type": "stream",
     "text": [
      "\u001b[34m\u001b[1mwandb\u001b[0m: \u001b[32m\u001b[41mERROR\u001b[0m Can't save model, h5py returned error: Save or restore weights that is not an instance of `tf.Variable` is not supported in h5, use `save_format='tf'` instead. Received a model or layer TextVectorization with weights [<keras.layers.preprocessing.index_lookup.VocabWeightHandler object at 0x7fd7127db460>]\n"
     ]
    },
    {
     "name": "stdout",
     "output_type": "stream",
     "text": [
      "134/134 [==============================] - 8s 21ms/step - loss: 0.5398 - accuracy: 0.6453 - val_loss: 0.2588 - val_accuracy: 0.9037\n",
      "Epoch 2/10\n",
      "134/134 [==============================] - 1s 9ms/step - loss: 0.1827 - accuracy: 0.9276 - val_loss: 0.2094 - val_accuracy: 0.9100\n",
      "Epoch 3/10\n",
      "134/134 [==============================] - 1s 9ms/step - loss: 0.0914 - accuracy: 0.9656 - val_loss: 0.2207 - val_accuracy: 0.9192\n",
      "Epoch 4/10\n",
      "134/134 [==============================] - 1s 8ms/step - loss: 0.0452 - accuracy: 0.9845 - val_loss: 0.2504 - val_accuracy: 0.9136\n",
      "Epoch 5/10\n",
      "134/134 [==============================] - 1s 9ms/step - loss: 0.0228 - accuracy: 0.9932 - val_loss: 0.3259 - val_accuracy: 0.9122\n",
      "Epoch 6/10\n",
      "134/134 [==============================] - 1s 9ms/step - loss: 0.0109 - accuracy: 0.9965 - val_loss: 0.3369 - val_accuracy: 0.9157\n",
      "Epoch 7/10\n",
      "134/134 [==============================] - 1s 9ms/step - loss: 0.0066 - accuracy: 0.9981 - val_loss: 0.3614 - val_accuracy: 0.9129\n",
      "Epoch 8/10\n",
      "134/134 [==============================] - 1s 8ms/step - loss: 0.0038 - accuracy: 0.9986 - val_loss: 0.3836 - val_accuracy: 0.9143\n",
      "Epoch 9/10\n",
      "134/134 [==============================] - 1s 9ms/step - loss: 0.0026 - accuracy: 0.9988 - val_loss: 0.4089 - val_accuracy: 0.9115\n",
      "Epoch 10/10\n",
      "134/134 [==============================] - 1s 8ms/step - loss: 0.0020 - accuracy: 0.9991 - val_loss: 0.4327 - val_accuracy: 0.9129\n"
     ]
    },
    {
     "data": {
      "text/html": [
       "<br/>Waiting for W&B process to finish, PID 49643... <strong style=\"color:green\">(success).</strong>"
      ],
      "text/plain": [
       "<IPython.core.display.HTML object>"
      ]
     },
     "metadata": {},
     "output_type": "display_data"
    },
    {
     "data": {
      "text/html": [
       "<style>\n",
       "    table.wandb td:nth-child(1) { padding: 0 10px; text-align: right }\n",
       "    .wandb-row { display: flex; flex-direction: row; flex-wrap: wrap; width: 100% }\n",
       "    .wandb-col { display: flex; flex-direction: column; flex-basis: 100%; flex: 1; padding: 10px; }\n",
       "    </style>\n",
       "<div class=\"wandb-row\"><div class=\"wandb-col\">\n",
       "<h3>Run history:</h3><br/><table class=\"wandb\"><tr><td>accuracy</td><td>▁▇▇███████</td></tr><tr><td>epoch</td><td>▁▂▃▃▄▅▆▆▇█</td></tr><tr><td>loss</td><td>█▃▂▂▁▁▁▁▁▁</td></tr><tr><td>val_accuracy</td><td>▁▄█▅▅▆▅▆▅▅</td></tr><tr><td>val_f1</td><td>▁</td></tr><tr><td>val_loss</td><td>▃▁▁▂▅▅▆▆▇█</td></tr></table><br/></div><div class=\"wandb-col\">\n",
       "<h3>Run summary:</h3><br/><table class=\"wandb\"><tr><td>accuracy</td><td>0.99906</td></tr><tr><td>best_epoch</td><td>1</td></tr><tr><td>best_val_loss</td><td>0.20936</td></tr><tr><td>epoch</td><td>9</td></tr><tr><td>loss</td><td>0.00205</td></tr><tr><td>val_accuracy</td><td>0.91286</td></tr><tr><td>val_f1</td><td>0.89995</td></tr><tr><td>val_loss</td><td>0.43265</td></tr></table>\n",
       "</div></div>\n",
       "Synced 5 W&B file(s), 1 media file(s), 0 artifact file(s) and 1 other file(s)\n",
       "<br/>Synced <strong style=\"color:#cdcd00\">volcanic-sweep-24</strong>: <a href=\"https://wandb.ai/tripleblackcat/uncategorized/runs/d6p25th1\" target=\"_blank\">https://wandb.ai/tripleblackcat/uncategorized/runs/d6p25th1</a><br/>\n",
       "Find logs at: <code>./wandb/run-20211120_172429-d6p25th1/logs</code><br/>\n"
      ],
      "text/plain": [
       "<IPython.core.display.HTML object>"
      ]
     },
     "metadata": {},
     "output_type": "display_data"
    },
    {
     "name": "stderr",
     "output_type": "stream",
     "text": [
      "\u001b[34m\u001b[1mwandb\u001b[0m: Agent Starting Run: vm2ymixs with config:\n",
      "\u001b[34m\u001b[1mwandb\u001b[0m: \tbatch_size: 128\n",
      "\u001b[34m\u001b[1mwandb\u001b[0m: \tdropout: 0.5\n",
      "\u001b[34m\u001b[1mwandb\u001b[0m: \tembedding_dim: 32\n",
      "\u001b[34m\u001b[1mwandb\u001b[0m: \tepochs: 40\n",
      "\u001b[34m\u001b[1mwandb\u001b[0m: \tff_size: 256\n",
      "\u001b[34m\u001b[1mwandb\u001b[0m: \tlr: 0.001\n",
      "\u001b[34m\u001b[1mwandb\u001b[0m: \tlstm_units: 64\n",
      "\u001b[34m\u001b[1mwandb\u001b[0m: \tmax_tokens: None\n"
     ]
    },
    {
     "data": {
      "text/html": [
       "\n",
       "                    Syncing run <strong><a href=\"https://wandb.ai/tripleblackcat/uncategorized/runs/vm2ymixs\" target=\"_blank\">balmy-sweep-25</a></strong> to <a href=\"https://wandb.ai/tripleblackcat/uncategorized\" target=\"_blank\">Weights & Biases</a> (<a href=\"https://docs.wandb.com/integrations/jupyter.html\" target=\"_blank\">docs</a>).<br/>\n",
       "Sweep page: <a href=\"https://wandb.ai/tripleblackcat/uncategorized/sweeps/aoizs7rc\" target=\"_blank\">https://wandb.ai/tripleblackcat/uncategorized/sweeps/aoizs7rc</a><br/>\n",
       "\n",
       "                "
      ],
      "text/plain": [
       "<IPython.core.display.HTML object>"
      ]
     },
     "metadata": {},
     "output_type": "display_data"
    },
    {
     "name": "stdout",
     "output_type": "stream",
     "text": [
      "Epoch 1/40\n",
      "133/134 [============================>.] - ETA: 0s - loss: 0.3980 - accuracy: 0.7766"
     ]
    },
    {
     "name": "stderr",
     "output_type": "stream",
     "text": [
      "\u001b[34m\u001b[1mwandb\u001b[0m: \u001b[32m\u001b[41mERROR\u001b[0m Can't save model, h5py returned error: Save or restore weights that is not an instance of `tf.Variable` is not supported in h5, use `save_format='tf'` instead. Received a model or layer TextVectorization with weights [<keras.layers.preprocessing.index_lookup.VocabWeightHandler object at 0x7fd614252790>]\n"
     ]
    },
    {
     "name": "stdout",
     "output_type": "stream",
     "text": [
      "134/134 [==============================] - 7s 19ms/step - loss: 0.3973 - accuracy: 0.7769 - val_loss: 0.2035 - val_accuracy: 0.9185\n",
      "Epoch 2/40\n",
      "134/134 [==============================] - 1s 9ms/step - loss: 0.1146 - accuracy: 0.9567 - val_loss: 0.2058 - val_accuracy: 0.9199\n",
      "Epoch 3/40\n",
      "134/134 [==============================] - 1s 9ms/step - loss: 0.0331 - accuracy: 0.9888 - val_loss: 0.2956 - val_accuracy: 0.9150\n",
      "Epoch 4/40\n",
      "134/134 [==============================] - 1s 9ms/step - loss: 0.0203 - accuracy: 0.9946 - val_loss: 0.2753 - val_accuracy: 0.9143\n",
      "Epoch 5/40\n",
      "134/134 [==============================] - 1s 9ms/step - loss: 0.0047 - accuracy: 0.9986 - val_loss: 0.3917 - val_accuracy: 0.9157\n",
      "Epoch 6/40\n",
      "134/134 [==============================] - 1s 9ms/step - loss: 0.0015 - accuracy: 0.9993 - val_loss: 0.4539 - val_accuracy: 0.9143\n",
      "Epoch 7/40\n",
      "134/134 [==============================] - 1s 9ms/step - loss: 0.0013 - accuracy: 0.9993 - val_loss: 0.4998 - val_accuracy: 0.9143\n",
      "Epoch 8/40\n",
      "134/134 [==============================] - 1s 9ms/step - loss: 9.2518e-04 - accuracy: 0.9995 - val_loss: 0.5404 - val_accuracy: 0.9136\n",
      "Epoch 9/40\n",
      "134/134 [==============================] - 1s 9ms/step - loss: 8.7038e-04 - accuracy: 0.9998 - val_loss: 0.5754 - val_accuracy: 0.9122\n",
      "Epoch 10/40\n",
      "134/134 [==============================] - 1s 8ms/step - loss: 8.1805e-04 - accuracy: 0.9998 - val_loss: 0.6063 - val_accuracy: 0.9115\n",
      "Epoch 11/40\n",
      "134/134 [==============================] - 1s 9ms/step - loss: 7.9617e-04 - accuracy: 0.9995 - val_loss: 0.6362 - val_accuracy: 0.9115\n",
      "Epoch 12/40\n",
      "134/134 [==============================] - 1s 9ms/step - loss: 6.1320e-04 - accuracy: 1.0000 - val_loss: 0.6698 - val_accuracy: 0.9136\n",
      "Epoch 13/40\n",
      "134/134 [==============================] - 1s 9ms/step - loss: 5.9556e-04 - accuracy: 1.0000 - val_loss: 0.6998 - val_accuracy: 0.9129\n",
      "Epoch 14/40\n",
      "134/134 [==============================] - 1s 8ms/step - loss: 4.7523e-04 - accuracy: 1.0000 - val_loss: 0.7177 - val_accuracy: 0.9115\n",
      "Epoch 15/40\n",
      "134/134 [==============================] - 1s 8ms/step - loss: 4.7340e-04 - accuracy: 1.0000 - val_loss: 0.7487 - val_accuracy: 0.9122\n",
      "Epoch 16/40\n",
      "134/134 [==============================] - 1s 9ms/step - loss: 3.9427e-04 - accuracy: 1.0000 - val_loss: 0.7762 - val_accuracy: 0.9115\n",
      "Epoch 17/40\n",
      "134/134 [==============================] - 1s 8ms/step - loss: 3.6885e-04 - accuracy: 1.0000 - val_loss: 0.8051 - val_accuracy: 0.9129\n",
      "Epoch 18/40\n",
      "134/134 [==============================] - 1s 9ms/step - loss: 3.2236e-04 - accuracy: 1.0000 - val_loss: 0.8340 - val_accuracy: 0.9122\n",
      "Epoch 19/40\n",
      "134/134 [==============================] - 1s 8ms/step - loss: 2.6540e-04 - accuracy: 1.0000 - val_loss: 0.8625 - val_accuracy: 0.9129\n",
      "Epoch 20/40\n",
      "134/134 [==============================] - 1s 9ms/step - loss: 2.3350e-04 - accuracy: 1.0000 - val_loss: 0.8895 - val_accuracy: 0.9115\n",
      "Epoch 21/40\n",
      "134/134 [==============================] - 1s 8ms/step - loss: 2.3491e-04 - accuracy: 1.0000 - val_loss: 0.9153 - val_accuracy: 0.9115\n",
      "Epoch 22/40\n",
      "134/134 [==============================] - 1s 8ms/step - loss: 1.8575e-04 - accuracy: 1.0000 - val_loss: 0.9384 - val_accuracy: 0.9115\n",
      "Epoch 23/40\n",
      "134/134 [==============================] - 1s 8ms/step - loss: 1.7095e-04 - accuracy: 1.0000 - val_loss: 0.9641 - val_accuracy: 0.9108\n",
      "Epoch 24/40\n",
      "134/134 [==============================] - 1s 8ms/step - loss: 1.3226e-04 - accuracy: 1.0000 - val_loss: 0.9957 - val_accuracy: 0.9108\n",
      "Epoch 25/40\n",
      "134/134 [==============================] - 1s 9ms/step - loss: 1.2804e-04 - accuracy: 1.0000 - val_loss: 1.0182 - val_accuracy: 0.9108\n",
      "Epoch 26/40\n",
      "134/134 [==============================] - 1s 8ms/step - loss: 8.8765e-05 - accuracy: 1.0000 - val_loss: 1.0405 - val_accuracy: 0.9108\n",
      "Epoch 27/40\n",
      "134/134 [==============================] - 1s 8ms/step - loss: 1.1353e-04 - accuracy: 1.0000 - val_loss: 1.0534 - val_accuracy: 0.9100\n",
      "Epoch 28/40\n",
      "134/134 [==============================] - 1s 8ms/step - loss: 7.8970e-05 - accuracy: 1.0000 - val_loss: 1.0806 - val_accuracy: 0.9100\n",
      "Epoch 29/40\n",
      "134/134 [==============================] - 1s 9ms/step - loss: 9.5535e-05 - accuracy: 1.0000 - val_loss: 1.1032 - val_accuracy: 0.9100\n",
      "Epoch 30/40\n",
      "134/134 [==============================] - 1s 8ms/step - loss: 7.4431e-05 - accuracy: 1.0000 - val_loss: 1.1292 - val_accuracy: 0.9108\n",
      "Epoch 31/40\n",
      "134/134 [==============================] - 1s 9ms/step - loss: 6.4342e-05 - accuracy: 1.0000 - val_loss: 1.1378 - val_accuracy: 0.9093\n",
      "Epoch 32/40\n",
      "134/134 [==============================] - 1s 8ms/step - loss: 6.3295e-05 - accuracy: 1.0000 - val_loss: 1.1477 - val_accuracy: 0.9093\n",
      "Epoch 33/40\n",
      "134/134 [==============================] - 1s 8ms/step - loss: 4.9582e-05 - accuracy: 1.0000 - val_loss: 1.1712 - val_accuracy: 0.9093\n",
      "Epoch 34/40\n",
      "134/134 [==============================] - 1s 8ms/step - loss: 4.5134e-05 - accuracy: 1.0000 - val_loss: 1.1946 - val_accuracy: 0.9093\n",
      "Epoch 35/40\n",
      "134/134 [==============================] - 1s 8ms/step - loss: 4.2825e-05 - accuracy: 1.0000 - val_loss: 1.2163 - val_accuracy: 0.9093\n",
      "Epoch 36/40\n",
      "134/134 [==============================] - 1s 9ms/step - loss: 4.9764e-05 - accuracy: 1.0000 - val_loss: 1.2324 - val_accuracy: 0.9072\n",
      "Epoch 37/40\n",
      "134/134 [==============================] - 1s 8ms/step - loss: 5.1103e-05 - accuracy: 1.0000 - val_loss: 1.2447 - val_accuracy: 0.9072\n",
      "Epoch 38/40\n",
      "134/134 [==============================] - 1s 9ms/step - loss: 3.6817e-05 - accuracy: 1.0000 - val_loss: 1.2696 - val_accuracy: 0.9072\n",
      "Epoch 39/40\n",
      "134/134 [==============================] - 1s 9ms/step - loss: 3.1945e-05 - accuracy: 1.0000 - val_loss: 1.2895 - val_accuracy: 0.9065\n",
      "Epoch 40/40\n",
      "134/134 [==============================] - 1s 8ms/step - loss: 3.3312e-05 - accuracy: 1.0000 - val_loss: 1.3023 - val_accuracy: 0.9065\n"
     ]
    },
    {
     "data": {
      "text/html": [
       "<br/>Waiting for W&B process to finish, PID 49914... <strong style=\"color:green\">(success).</strong>"
      ],
      "text/plain": [
       "<IPython.core.display.HTML object>"
      ]
     },
     "metadata": {},
     "output_type": "display_data"
    },
    {
     "data": {
      "text/html": [
       "<style>\n",
       "    table.wandb td:nth-child(1) { padding: 0 10px; text-align: right }\n",
       "    .wandb-row { display: flex; flex-direction: row; flex-wrap: wrap; width: 100% }\n",
       "    .wandb-col { display: flex; flex-direction: column; flex-basis: 100%; flex: 1; padding: 10px; }\n",
       "    </style>\n",
       "<div class=\"wandb-row\"><div class=\"wandb-col\">\n",
       "<h3>Run history:</h3><br/><table class=\"wandb\"><tr><td>accuracy</td><td>▁▇██████████████████████████████████████</td></tr><tr><td>epoch</td><td>▁▁▁▂▂▂▂▂▂▃▃▃▃▃▄▄▄▄▄▄▅▅▅▅▅▅▆▆▆▆▆▇▇▇▇▇▇███</td></tr><tr><td>loss</td><td>█▃▂▁▁▁▁▁▁▁▁▁▁▁▁▁▁▁▁▁▁▁▁▁▁▁▁▁▁▁▁▁▁▁▁▁▁▁▁▁</td></tr><tr><td>val_accuracy</td><td>▇█▅▅▆▅▅▅▄▄▄▅▄▄▄▄▄▄▄▄▄▄▃▃▃▃▃▃▃▃▂▂▂▂▂▁▁▁▁▁</td></tr><tr><td>val_f1</td><td>▁</td></tr><tr><td>val_loss</td><td>▁▁▂▁▂▃▃▃▃▄▄▄▄▄▄▅▅▅▅▅▆▆▆▆▆▆▆▇▇▇▇▇▇▇▇█████</td></tr></table><br/></div><div class=\"wandb-col\">\n",
       "<h3>Run summary:</h3><br/><table class=\"wandb\"><tr><td>accuracy</td><td>1.0</td></tr><tr><td>best_epoch</td><td>0</td></tr><tr><td>best_val_loss</td><td>0.20355</td></tr><tr><td>epoch</td><td>39</td></tr><tr><td>loss</td><td>3e-05</td></tr><tr><td>val_accuracy</td><td>0.90654</td></tr><tr><td>val_f1</td><td>0.89655</td></tr><tr><td>val_loss</td><td>1.3023</td></tr></table>\n",
       "</div></div>\n",
       "Synced 5 W&B file(s), 1 media file(s), 0 artifact file(s) and 1 other file(s)\n",
       "<br/>Synced <strong style=\"color:#cdcd00\">balmy-sweep-25</strong>: <a href=\"https://wandb.ai/tripleblackcat/uncategorized/runs/vm2ymixs\" target=\"_blank\">https://wandb.ai/tripleblackcat/uncategorized/runs/vm2ymixs</a><br/>\n",
       "Find logs at: <code>./wandb/run-20211120_172501-vm2ymixs/logs</code><br/>\n"
      ],
      "text/plain": [
       "<IPython.core.display.HTML object>"
      ]
     },
     "metadata": {},
     "output_type": "display_data"
    },
    {
     "name": "stderr",
     "output_type": "stream",
     "text": [
      "\u001b[34m\u001b[1mwandb\u001b[0m: Agent Starting Run: vkwtet9m with config:\n",
      "\u001b[34m\u001b[1mwandb\u001b[0m: \tbatch_size: 256\n",
      "\u001b[34m\u001b[1mwandb\u001b[0m: \tdropout: 0\n",
      "\u001b[34m\u001b[1mwandb\u001b[0m: \tembedding_dim: 32\n",
      "\u001b[34m\u001b[1mwandb\u001b[0m: \tepochs: 20\n",
      "\u001b[34m\u001b[1mwandb\u001b[0m: \tff_size: 256\n",
      "\u001b[34m\u001b[1mwandb\u001b[0m: \tlr: 0.0005\n",
      "\u001b[34m\u001b[1mwandb\u001b[0m: \tlstm_units: 64\n",
      "\u001b[34m\u001b[1mwandb\u001b[0m: \tmax_tokens: 100\n"
     ]
    },
    {
     "data": {
      "text/html": [
       "\n",
       "                    Syncing run <strong><a href=\"https://wandb.ai/tripleblackcat/uncategorized/runs/vkwtet9m\" target=\"_blank\">eternal-sweep-26</a></strong> to <a href=\"https://wandb.ai/tripleblackcat/uncategorized\" target=\"_blank\">Weights & Biases</a> (<a href=\"https://docs.wandb.com/integrations/jupyter.html\" target=\"_blank\">docs</a>).<br/>\n",
       "Sweep page: <a href=\"https://wandb.ai/tripleblackcat/uncategorized/sweeps/aoizs7rc\" target=\"_blank\">https://wandb.ai/tripleblackcat/uncategorized/sweeps/aoizs7rc</a><br/>\n",
       "\n",
       "                "
      ],
      "text/plain": [
       "<IPython.core.display.HTML object>"
      ]
     },
     "metadata": {},
     "output_type": "display_data"
    },
    {
     "name": "stdout",
     "output_type": "stream",
     "text": [
      "Epoch 1/20\n",
      "126/134 [===========================>..] - ETA: 0s - loss: 0.5556 - accuracy: 0.6615"
     ]
    },
    {
     "name": "stderr",
     "output_type": "stream",
     "text": [
      "\u001b[34m\u001b[1mwandb\u001b[0m: \u001b[32m\u001b[41mERROR\u001b[0m Can't save model, h5py returned error: Save or restore weights that is not an instance of `tf.Variable` is not supported in h5, use `save_format='tf'` instead. Received a model or layer TextVectorization with weights [<keras.layers.preprocessing.index_lookup.VocabWeightHandler object at 0x7fd71499d3d0>]\n"
     ]
    },
    {
     "name": "stdout",
     "output_type": "stream",
     "text": [
      "134/134 [==============================] - 8s 22ms/step - loss: 0.5450 - accuracy: 0.6717 - val_loss: 0.4046 - val_accuracy: 0.7934\n",
      "Epoch 2/20\n",
      "134/134 [==============================] - 1s 8ms/step - loss: 0.3518 - accuracy: 0.8425 - val_loss: 0.3263 - val_accuracy: 0.8658\n",
      "Epoch 3/20\n",
      "134/134 [==============================] - 1s 9ms/step - loss: 0.3394 - accuracy: 0.8451 - val_loss: 0.3215 - val_accuracy: 0.8482\n",
      "Epoch 4/20\n",
      "134/134 [==============================] - 1s 9ms/step - loss: 0.3295 - accuracy: 0.8505 - val_loss: 0.3291 - val_accuracy: 0.8714\n",
      "Epoch 5/20\n",
      "134/134 [==============================] - 1s 8ms/step - loss: 0.3165 - accuracy: 0.8552 - val_loss: 0.3018 - val_accuracy: 0.8742\n",
      "Epoch 6/20\n",
      "134/134 [==============================] - 1s 8ms/step - loss: 0.3068 - accuracy: 0.8622 - val_loss: 0.2970 - val_accuracy: 0.8728\n",
      "Epoch 7/20\n",
      "134/134 [==============================] - 1s 7ms/step - loss: 0.2976 - accuracy: 0.8629 - val_loss: 0.2941 - val_accuracy: 0.8693\n",
      "Epoch 8/20\n",
      "134/134 [==============================] - 1s 8ms/step - loss: 0.2952 - accuracy: 0.8676 - val_loss: 0.2931 - val_accuracy: 0.8700\n",
      "Epoch 9/20\n",
      "134/134 [==============================] - 1s 8ms/step - loss: 0.2841 - accuracy: 0.8735 - val_loss: 0.2998 - val_accuracy: 0.8819\n",
      "Epoch 10/20\n",
      "134/134 [==============================] - 1s 9ms/step - loss: 0.2846 - accuracy: 0.8725 - val_loss: 0.3519 - val_accuracy: 0.8391\n",
      "Epoch 11/20\n",
      "134/134 [==============================] - 1s 7ms/step - loss: 0.2785 - accuracy: 0.8723 - val_loss: 0.2941 - val_accuracy: 0.8763\n",
      "Epoch 12/20\n",
      "134/134 [==============================] - 1s 8ms/step - loss: 0.2729 - accuracy: 0.8772 - val_loss: 0.2859 - val_accuracy: 0.8756\n",
      "Epoch 13/20\n",
      "134/134 [==============================] - 1s 9ms/step - loss: 0.2628 - accuracy: 0.8828 - val_loss: 0.2888 - val_accuracy: 0.8833\n",
      "Epoch 14/20\n",
      "134/134 [==============================] - 1s 9ms/step - loss: 0.2560 - accuracy: 0.8852 - val_loss: 0.2892 - val_accuracy: 0.8672\n",
      "Epoch 15/20\n",
      "134/134 [==============================] - 1s 9ms/step - loss: 0.2559 - accuracy: 0.8847 - val_loss: 0.2970 - val_accuracy: 0.8777\n",
      "Epoch 16/20\n",
      "134/134 [==============================] - 1s 8ms/step - loss: 0.2527 - accuracy: 0.8889 - val_loss: 0.3001 - val_accuracy: 0.8587\n",
      "Epoch 17/20\n",
      "134/134 [==============================] - 1s 8ms/step - loss: 0.2431 - accuracy: 0.8918 - val_loss: 0.3014 - val_accuracy: 0.8686\n",
      "Epoch 18/20\n",
      "134/134 [==============================] - 1s 8ms/step - loss: 0.2402 - accuracy: 0.8985 - val_loss: 0.2806 - val_accuracy: 0.8756\n",
      "Epoch 19/20\n",
      "134/134 [==============================] - 1s 9ms/step - loss: 0.2330 - accuracy: 0.8976 - val_loss: 0.2938 - val_accuracy: 0.8686\n",
      "Epoch 20/20\n",
      "134/134 [==============================] - 1s 8ms/step - loss: 0.2258 - accuracy: 0.9018 - val_loss: 0.2856 - val_accuracy: 0.8763\n"
     ]
    },
    {
     "data": {
      "text/html": [
       "<br/>Waiting for W&B process to finish, PID 50646... <strong style=\"color:green\">(success).</strong>"
      ],
      "text/plain": [
       "<IPython.core.display.HTML object>"
      ]
     },
     "metadata": {},
     "output_type": "display_data"
    },
    {
     "data": {
      "text/html": [
       "<style>\n",
       "    table.wandb td:nth-child(1) { padding: 0 10px; text-align: right }\n",
       "    .wandb-row { display: flex; flex-direction: row; flex-wrap: wrap; width: 100% }\n",
       "    .wandb-col { display: flex; flex-direction: column; flex-basis: 100%; flex: 1; padding: 10px; }\n",
       "    </style>\n",
       "<div class=\"wandb-row\"><div class=\"wandb-col\">\n",
       "<h3>Run history:</h3><br/><table class=\"wandb\"><tr><td>accuracy</td><td>▁▆▆▆▇▇▇▇▇▇▇▇▇▇▇█████</td></tr><tr><td>epoch</td><td>▁▁▂▂▂▃▃▄▄▄▅▅▅▆▆▇▇▇██</td></tr><tr><td>loss</td><td>█▄▃▃▃▃▃▃▂▂▂▂▂▂▂▂▁▁▁▁</td></tr><tr><td>val_accuracy</td><td>▁▇▅▇▇▇▇▇█▅▇▇█▇█▆▇▇▇▇</td></tr><tr><td>val_f1</td><td>▁</td></tr><tr><td>val_loss</td><td>█▄▃▄▂▂▂▂▂▅▂▁▁▁▂▂▂▁▂▁</td></tr></table><br/></div><div class=\"wandb-col\">\n",
       "<h3>Run summary:</h3><br/><table class=\"wandb\"><tr><td>accuracy</td><td>0.90183</td></tr><tr><td>best_epoch</td><td>17</td></tr><tr><td>best_val_loss</td><td>0.28064</td></tr><tr><td>epoch</td><td>19</td></tr><tr><td>loss</td><td>0.22582</td></tr><tr><td>val_accuracy</td><td>0.87632</td></tr><tr><td>val_f1</td><td>0.85363</td></tr><tr><td>val_loss</td><td>0.28558</td></tr></table>\n",
       "</div></div>\n",
       "Synced 5 W&B file(s), 1 media file(s), 0 artifact file(s) and 1 other file(s)\n",
       "<br/>Synced <strong style=\"color:#cdcd00\">eternal-sweep-26</strong>: <a href=\"https://wandb.ai/tripleblackcat/uncategorized/runs/vkwtet9m\" target=\"_blank\">https://wandb.ai/tripleblackcat/uncategorized/runs/vkwtet9m</a><br/>\n",
       "Find logs at: <code>./wandb/run-20211120_172604-vkwtet9m/logs</code><br/>\n"
      ],
      "text/plain": [
       "<IPython.core.display.HTML object>"
      ]
     },
     "metadata": {},
     "output_type": "display_data"
    },
    {
     "name": "stderr",
     "output_type": "stream",
     "text": [
      "\u001b[34m\u001b[1mwandb\u001b[0m: Agent Starting Run: vg4z028k with config:\n",
      "\u001b[34m\u001b[1mwandb\u001b[0m: \tbatch_size: 128\n",
      "\u001b[34m\u001b[1mwandb\u001b[0m: \tdropout: 0.5\n",
      "\u001b[34m\u001b[1mwandb\u001b[0m: \tembedding_dim: 16\n",
      "\u001b[34m\u001b[1mwandb\u001b[0m: \tepochs: 40\n",
      "\u001b[34m\u001b[1mwandb\u001b[0m: \tff_size: 64\n",
      "\u001b[34m\u001b[1mwandb\u001b[0m: \tlr: 0.001\n",
      "\u001b[34m\u001b[1mwandb\u001b[0m: \tlstm_units: 64\n",
      "\u001b[34m\u001b[1mwandb\u001b[0m: \tmax_tokens: 100\n"
     ]
    },
    {
     "data": {
      "text/html": [
       "\n",
       "                    Syncing run <strong><a href=\"https://wandb.ai/tripleblackcat/uncategorized/runs/vg4z028k\" target=\"_blank\">devout-sweep-27</a></strong> to <a href=\"https://wandb.ai/tripleblackcat/uncategorized\" target=\"_blank\">Weights & Biases</a> (<a href=\"https://docs.wandb.com/integrations/jupyter.html\" target=\"_blank\">docs</a>).<br/>\n",
       "Sweep page: <a href=\"https://wandb.ai/tripleblackcat/uncategorized/sweeps/aoizs7rc\" target=\"_blank\">https://wandb.ai/tripleblackcat/uncategorized/sweeps/aoizs7rc</a><br/>\n",
       "\n",
       "                "
      ],
      "text/plain": [
       "<IPython.core.display.HTML object>"
      ]
     },
     "metadata": {},
     "output_type": "display_data"
    },
    {
     "name": "stdout",
     "output_type": "stream",
     "text": [
      "Epoch 1/40\n",
      "130/134 [============================>.] - ETA: 0s - loss: 0.5972 - accuracy: 0.6250"
     ]
    },
    {
     "name": "stderr",
     "output_type": "stream",
     "text": [
      "\u001b[34m\u001b[1mwandb\u001b[0m: \u001b[32m\u001b[41mERROR\u001b[0m Can't save model, h5py returned error: Save or restore weights that is not an instance of `tf.Variable` is not supported in h5, use `save_format='tf'` instead. Received a model or layer TextVectorization with weights [<keras.layers.preprocessing.index_lookup.VocabWeightHandler object at 0x7fd5c81e96a0>]\n"
     ]
    },
    {
     "name": "stdout",
     "output_type": "stream",
     "text": [
      "134/134 [==============================] - 8s 20ms/step - loss: 0.5922 - accuracy: 0.6303 - val_loss: 0.3861 - val_accuracy: 0.8257\n",
      "Epoch 2/40\n",
      "134/134 [==============================] - 1s 8ms/step - loss: 0.3871 - accuracy: 0.8194 - val_loss: 0.3595 - val_accuracy: 0.8566\n",
      "Epoch 3/40\n",
      "134/134 [==============================] - 1s 8ms/step - loss: 0.3562 - accuracy: 0.8428 - val_loss: 0.3139 - val_accuracy: 0.8587\n",
      "Epoch 4/40\n",
      "134/134 [==============================] - 1s 8ms/step - loss: 0.3454 - accuracy: 0.8451 - val_loss: 0.3063 - val_accuracy: 0.8735\n",
      "Epoch 5/40\n",
      "134/134 [==============================] - 1s 8ms/step - loss: 0.3266 - accuracy: 0.8552 - val_loss: 0.2924 - val_accuracy: 0.8693\n",
      "Epoch 6/40\n",
      "134/134 [==============================] - 1s 8ms/step - loss: 0.3159 - accuracy: 0.8594 - val_loss: 0.2978 - val_accuracy: 0.8609\n",
      "Epoch 7/40\n",
      "134/134 [==============================] - 1s 8ms/step - loss: 0.3077 - accuracy: 0.8615 - val_loss: 0.3320 - val_accuracy: 0.8784\n",
      "Epoch 8/40\n",
      "134/134 [==============================] - 1s 8ms/step - loss: 0.3011 - accuracy: 0.8625 - val_loss: 0.2902 - val_accuracy: 0.8693\n",
      "Epoch 9/40\n",
      "134/134 [==============================] - 1s 8ms/step - loss: 0.2909 - accuracy: 0.8695 - val_loss: 0.2945 - val_accuracy: 0.8672\n",
      "Epoch 10/40\n",
      "134/134 [==============================] - 1s 8ms/step - loss: 0.2946 - accuracy: 0.8627 - val_loss: 0.2902 - val_accuracy: 0.8855\n",
      "Epoch 11/40\n",
      "134/134 [==============================] - 1s 8ms/step - loss: 0.2886 - accuracy: 0.8686 - val_loss: 0.2838 - val_accuracy: 0.8700\n",
      "Epoch 12/40\n",
      "134/134 [==============================] - 1s 8ms/step - loss: 0.2814 - accuracy: 0.8725 - val_loss: 0.2841 - val_accuracy: 0.8840\n",
      "Epoch 13/40\n",
      "134/134 [==============================] - 1s 8ms/step - loss: 0.2785 - accuracy: 0.8739 - val_loss: 0.2881 - val_accuracy: 0.8707\n",
      "Epoch 14/40\n",
      "134/134 [==============================] - 1s 8ms/step - loss: 0.2780 - accuracy: 0.8716 - val_loss: 0.2795 - val_accuracy: 0.8756\n",
      "Epoch 15/40\n",
      "134/134 [==============================] - 1s 9ms/step - loss: 0.2762 - accuracy: 0.8704 - val_loss: 0.2795 - val_accuracy: 0.8876\n",
      "Epoch 16/40\n",
      "134/134 [==============================] - 1s 8ms/step - loss: 0.2649 - accuracy: 0.8791 - val_loss: 0.2770 - val_accuracy: 0.8756\n",
      "Epoch 17/40\n",
      "134/134 [==============================] - 1s 8ms/step - loss: 0.2675 - accuracy: 0.8772 - val_loss: 0.2970 - val_accuracy: 0.8756\n",
      "Epoch 18/40\n",
      "134/134 [==============================] - 1s 8ms/step - loss: 0.2659 - accuracy: 0.8768 - val_loss: 0.2883 - val_accuracy: 0.8855\n",
      "Epoch 19/40\n",
      "134/134 [==============================] - 1s 8ms/step - loss: 0.2544 - accuracy: 0.8915 - val_loss: 0.2814 - val_accuracy: 0.8742\n",
      "Epoch 20/40\n",
      "134/134 [==============================] - 1s 8ms/step - loss: 0.2496 - accuracy: 0.8859 - val_loss: 0.2741 - val_accuracy: 0.8742\n",
      "Epoch 21/40\n",
      "134/134 [==============================] - 1s 7ms/step - loss: 0.2453 - accuracy: 0.8880 - val_loss: 0.3057 - val_accuracy: 0.8573\n",
      "Epoch 22/40\n",
      "134/134 [==============================] - 1s 8ms/step - loss: 0.2420 - accuracy: 0.8894 - val_loss: 0.2866 - val_accuracy: 0.8721\n",
      "Epoch 23/40\n",
      "134/134 [==============================] - 1s 8ms/step - loss: 0.2341 - accuracy: 0.8962 - val_loss: 0.2983 - val_accuracy: 0.8742\n",
      "Epoch 24/40\n",
      "134/134 [==============================] - 1s 8ms/step - loss: 0.2312 - accuracy: 0.8915 - val_loss: 0.2780 - val_accuracy: 0.8833\n",
      "Epoch 25/40\n",
      "134/134 [==============================] - 1s 8ms/step - loss: 0.2254 - accuracy: 0.8995 - val_loss: 0.2850 - val_accuracy: 0.8904\n",
      "Epoch 26/40\n",
      "134/134 [==============================] - 1s 8ms/step - loss: 0.2204 - accuracy: 0.8990 - val_loss: 0.3034 - val_accuracy: 0.8862\n",
      "Epoch 27/40\n",
      "134/134 [==============================] - 1s 8ms/step - loss: 0.2116 - accuracy: 0.9025 - val_loss: 0.2908 - val_accuracy: 0.8784\n",
      "Epoch 28/40\n",
      "134/134 [==============================] - 1s 9ms/step - loss: 0.2035 - accuracy: 0.9084 - val_loss: 0.2955 - val_accuracy: 0.8833\n",
      "Epoch 29/40\n",
      "134/134 [==============================] - 1s 8ms/step - loss: 0.1990 - accuracy: 0.9114 - val_loss: 0.3104 - val_accuracy: 0.8869\n",
      "Epoch 30/40\n",
      "134/134 [==============================] - 1s 8ms/step - loss: 0.2002 - accuracy: 0.9117 - val_loss: 0.2775 - val_accuracy: 0.8918\n",
      "Epoch 31/40\n",
      "134/134 [==============================] - 1s 8ms/step - loss: 0.1932 - accuracy: 0.9138 - val_loss: 0.3251 - val_accuracy: 0.8700\n",
      "Epoch 32/40\n",
      "134/134 [==============================] - 1s 9ms/step - loss: 0.1919 - accuracy: 0.9171 - val_loss: 0.3057 - val_accuracy: 0.8819\n",
      "Epoch 33/40\n",
      "134/134 [==============================] - 1s 8ms/step - loss: 0.1823 - accuracy: 0.9201 - val_loss: 0.3058 - val_accuracy: 0.8911\n",
      "Epoch 34/40\n",
      "134/134 [==============================] - 1s 8ms/step - loss: 0.1788 - accuracy: 0.9241 - val_loss: 0.3023 - val_accuracy: 0.8805\n",
      "Epoch 35/40\n",
      "134/134 [==============================] - 1s 8ms/step - loss: 0.1744 - accuracy: 0.9229 - val_loss: 0.3035 - val_accuracy: 0.8876\n",
      "Epoch 36/40\n",
      "134/134 [==============================] - 1s 8ms/step - loss: 0.1651 - accuracy: 0.9243 - val_loss: 0.3515 - val_accuracy: 0.8819\n",
      "Epoch 37/40\n",
      "134/134 [==============================] - 1s 8ms/step - loss: 0.1632 - accuracy: 0.9281 - val_loss: 0.3208 - val_accuracy: 0.8855\n",
      "Epoch 38/40\n",
      "134/134 [==============================] - 1s 8ms/step - loss: 0.1609 - accuracy: 0.9302 - val_loss: 0.3293 - val_accuracy: 0.8848\n",
      "Epoch 39/40\n",
      "134/134 [==============================] - 1s 8ms/step - loss: 0.1573 - accuracy: 0.9335 - val_loss: 0.3424 - val_accuracy: 0.8981\n",
      "Epoch 40/40\n",
      "134/134 [==============================] - 1s 8ms/step - loss: 0.1432 - accuracy: 0.9377 - val_loss: 0.3822 - val_accuracy: 0.8784\n"
     ]
    },
    {
     "data": {
      "text/html": [
       "<br/>Waiting for W&B process to finish, PID 51071... <strong style=\"color:green\">(success).</strong>"
      ],
      "text/plain": [
       "<IPython.core.display.HTML object>"
      ]
     },
     "metadata": {},
     "output_type": "display_data"
    },
    {
     "data": {
      "text/html": [
       "<style>\n",
       "    table.wandb td:nth-child(1) { padding: 0 10px; text-align: right }\n",
       "    .wandb-row { display: flex; flex-direction: row; flex-wrap: wrap; width: 100% }\n",
       "    .wandb-col { display: flex; flex-direction: column; flex-basis: 100%; flex: 1; padding: 10px; }\n",
       "    </style>\n",
       "<div class=\"wandb-row\"><div class=\"wandb-col\">\n",
       "<h3>Run history:</h3><br/><table class=\"wandb\"><tr><td>accuracy</td><td>▁▅▆▆▆▆▆▆▆▆▆▇▇▆▆▇▇▇▇▇▇▇▇▇▇▇▇▇▇▇▇█████████</td></tr><tr><td>epoch</td><td>▁▁▁▂▂▂▂▂▂▃▃▃▃▃▄▄▄▄▄▄▅▅▅▅▅▅▆▆▆▆▆▇▇▇▇▇▇███</td></tr><tr><td>loss</td><td>█▅▄▄▄▄▄▃▃▃▃▃▃▃▃▃▃▃▃▃▃▃▂▂▂▂▂▂▂▂▂▂▂▂▁▁▁▁▁▁</td></tr><tr><td>val_accuracy</td><td>▁▄▄▆▅▄▆▅▅▇▅▇▅▆▇▆▆▇▆▆▄▅▆▇▇▇▆▇▇▇▅▆▇▆▇▆▇▇█▆</td></tr><tr><td>val_f1</td><td>▁</td></tr><tr><td>val_loss</td><td>█▆▃▃▂▂▅▂▂▂▂▂▂▁▁▁▂▂▁▁▃▂▃▁▂▃▂▂▃▁▄▃▃▃▃▆▄▄▅█</td></tr></table><br/></div><div class=\"wandb-col\">\n",
       "<h3>Run summary:</h3><br/><table class=\"wandb\"><tr><td>accuracy</td><td>0.93768</td></tr><tr><td>best_epoch</td><td>19</td></tr><tr><td>best_val_loss</td><td>0.2741</td></tr><tr><td>epoch</td><td>39</td></tr><tr><td>loss</td><td>0.14318</td></tr><tr><td>val_accuracy</td><td>0.87843</td></tr><tr><td>val_f1</td><td>0.85132</td></tr><tr><td>val_loss</td><td>0.38216</td></tr></table>\n",
       "</div></div>\n",
       "Synced 5 W&B file(s), 1 media file(s), 0 artifact file(s) and 1 other file(s)\n",
       "<br/>Synced <strong style=\"color:#cdcd00\">devout-sweep-27</strong>: <a href=\"https://wandb.ai/tripleblackcat/uncategorized/runs/vg4z028k\" target=\"_blank\">https://wandb.ai/tripleblackcat/uncategorized/runs/vg4z028k</a><br/>\n",
       "Find logs at: <code>./wandb/run-20211120_172647-vg4z028k/logs</code><br/>\n"
      ],
      "text/plain": [
       "<IPython.core.display.HTML object>"
      ]
     },
     "metadata": {},
     "output_type": "display_data"
    },
    {
     "name": "stderr",
     "output_type": "stream",
     "text": [
      "\u001b[34m\u001b[1mwandb\u001b[0m: Agent Starting Run: ezdp3ifr with config:\n",
      "\u001b[34m\u001b[1mwandb\u001b[0m: \tbatch_size: 64\n",
      "\u001b[34m\u001b[1mwandb\u001b[0m: \tdropout: 0\n",
      "\u001b[34m\u001b[1mwandb\u001b[0m: \tembedding_dim: 64\n",
      "\u001b[34m\u001b[1mwandb\u001b[0m: \tepochs: 40\n",
      "\u001b[34m\u001b[1mwandb\u001b[0m: \tff_size: 128\n",
      "\u001b[34m\u001b[1mwandb\u001b[0m: \tlr: 0.001\n",
      "\u001b[34m\u001b[1mwandb\u001b[0m: \tlstm_units: 16\n",
      "\u001b[34m\u001b[1mwandb\u001b[0m: \tmax_tokens: 5000\n"
     ]
    },
    {
     "data": {
      "text/html": [
       "\n",
       "                    Syncing run <strong><a href=\"https://wandb.ai/tripleblackcat/uncategorized/runs/ezdp3ifr\" target=\"_blank\">exalted-sweep-28</a></strong> to <a href=\"https://wandb.ai/tripleblackcat/uncategorized\" target=\"_blank\">Weights & Biases</a> (<a href=\"https://docs.wandb.com/integrations/jupyter.html\" target=\"_blank\">docs</a>).<br/>\n",
       "Sweep page: <a href=\"https://wandb.ai/tripleblackcat/uncategorized/sweeps/aoizs7rc\" target=\"_blank\">https://wandb.ai/tripleblackcat/uncategorized/sweeps/aoizs7rc</a><br/>\n",
       "\n",
       "                "
      ],
      "text/plain": [
       "<IPython.core.display.HTML object>"
      ]
     },
     "metadata": {},
     "output_type": "display_data"
    },
    {
     "name": "stdout",
     "output_type": "stream",
     "text": [
      "Epoch 1/40\n",
      "133/134 [============================>.] - ETA: 0s - loss: 0.3965 - accuracy: 0.7625"
     ]
    },
    {
     "name": "stderr",
     "output_type": "stream",
     "text": [
      "\u001b[34m\u001b[1mwandb\u001b[0m: \u001b[32m\u001b[41mERROR\u001b[0m Can't save model, h5py returned error: Save or restore weights that is not an instance of `tf.Variable` is not supported in h5, use `save_format='tf'` instead. Received a model or layer TextVectorization with weights [<keras.layers.preprocessing.index_lookup.VocabWeightHandler object at 0x7fd712f1e340>]\n"
     ]
    },
    {
     "name": "stdout",
     "output_type": "stream",
     "text": [
      "134/134 [==============================] - 7s 19ms/step - loss: 0.3957 - accuracy: 0.7629 - val_loss: 0.2171 - val_accuracy: 0.9136\n",
      "Epoch 2/40\n",
      "134/134 [==============================] - 1s 9ms/step - loss: 0.1150 - accuracy: 0.9555 - val_loss: 0.2130 - val_accuracy: 0.9192\n",
      "Epoch 3/40\n",
      "134/134 [==============================] - 1s 9ms/step - loss: 0.0531 - accuracy: 0.9799 - val_loss: 0.2176 - val_accuracy: 0.9255\n",
      "Epoch 4/40\n",
      "134/134 [==============================] - 1s 8ms/step - loss: 0.0206 - accuracy: 0.9927 - val_loss: 0.2973 - val_accuracy: 0.9241\n",
      "Epoch 5/40\n",
      "134/134 [==============================] - 1s 9ms/step - loss: 0.0106 - accuracy: 0.9967 - val_loss: 0.3390 - val_accuracy: 0.9220\n",
      "Epoch 6/40\n",
      "134/134 [==============================] - 1s 9ms/step - loss: 0.0047 - accuracy: 0.9981 - val_loss: 0.3590 - val_accuracy: 0.9227\n",
      "Epoch 7/40\n",
      "134/134 [==============================] - 1s 9ms/step - loss: 0.0023 - accuracy: 0.9988 - val_loss: 0.4001 - val_accuracy: 0.9220\n",
      "Epoch 8/40\n",
      "134/134 [==============================] - 1s 9ms/step - loss: 0.0016 - accuracy: 0.9993 - val_loss: 0.4467 - val_accuracy: 0.9199\n",
      "Epoch 9/40\n",
      "134/134 [==============================] - 1s 9ms/step - loss: 0.0011 - accuracy: 0.9993 - val_loss: 0.4659 - val_accuracy: 0.9206\n",
      "Epoch 10/40\n",
      "134/134 [==============================] - 1s 8ms/step - loss: 9.1864e-04 - accuracy: 0.9995 - val_loss: 0.4876 - val_accuracy: 0.9213\n",
      "Epoch 11/40\n",
      "134/134 [==============================] - 1s 9ms/step - loss: 8.0702e-04 - accuracy: 1.0000 - val_loss: 0.5074 - val_accuracy: 0.9213\n",
      "Epoch 12/40\n",
      "134/134 [==============================] - 1s 10ms/step - loss: 7.1079e-04 - accuracy: 1.0000 - val_loss: 0.5261 - val_accuracy: 0.9213\n",
      "Epoch 13/40\n",
      "134/134 [==============================] - 1s 9ms/step - loss: 6.2973e-04 - accuracy: 1.0000 - val_loss: 0.5438 - val_accuracy: 0.9199\n",
      "Epoch 14/40\n",
      "134/134 [==============================] - 1s 10ms/step - loss: 5.4802e-04 - accuracy: 1.0000 - val_loss: 0.5601 - val_accuracy: 0.9199\n",
      "Epoch 15/40\n",
      "134/134 [==============================] - 1s 9ms/step - loss: 4.8093e-04 - accuracy: 1.0000 - val_loss: 0.5760 - val_accuracy: 0.9192\n",
      "Epoch 16/40\n",
      "134/134 [==============================] - 1s 9ms/step - loss: 4.2100e-04 - accuracy: 1.0000 - val_loss: 0.5920 - val_accuracy: 0.9185\n",
      "Epoch 17/40\n",
      "134/134 [==============================] - 1s 9ms/step - loss: 3.6524e-04 - accuracy: 1.0000 - val_loss: 0.6103 - val_accuracy: 0.9178\n",
      "Epoch 18/40\n",
      "134/134 [==============================] - 1s 10ms/step - loss: 3.1687e-04 - accuracy: 1.0000 - val_loss: 0.6264 - val_accuracy: 0.9178\n",
      "Epoch 19/40\n",
      "134/134 [==============================] - 1s 9ms/step - loss: 2.7833e-04 - accuracy: 1.0000 - val_loss: 0.6422 - val_accuracy: 0.9171\n",
      "Epoch 20/40\n",
      "134/134 [==============================] - 1s 9ms/step - loss: 2.4299e-04 - accuracy: 1.0000 - val_loss: 0.6566 - val_accuracy: 0.9171\n",
      "Epoch 21/40\n",
      "134/134 [==============================] - 1s 10ms/step - loss: 2.1035e-04 - accuracy: 1.0000 - val_loss: 0.6735 - val_accuracy: 0.9171\n",
      "Epoch 22/40\n",
      "134/134 [==============================] - 1s 9ms/step - loss: 1.8545e-04 - accuracy: 1.0000 - val_loss: 0.6901 - val_accuracy: 0.9171\n",
      "Epoch 23/40\n",
      "134/134 [==============================] - 1s 9ms/step - loss: 1.6147e-04 - accuracy: 1.0000 - val_loss: 0.7053 - val_accuracy: 0.9171\n",
      "Epoch 24/40\n",
      "134/134 [==============================] - 1s 9ms/step - loss: 1.4124e-04 - accuracy: 1.0000 - val_loss: 0.7202 - val_accuracy: 0.9171\n",
      "Epoch 25/40\n",
      "134/134 [==============================] - 1s 10ms/step - loss: 1.2413e-04 - accuracy: 1.0000 - val_loss: 0.7348 - val_accuracy: 0.9171\n",
      "Epoch 26/40\n",
      "134/134 [==============================] - 1s 9ms/step - loss: 1.0922e-04 - accuracy: 1.0000 - val_loss: 0.7486 - val_accuracy: 0.9171\n",
      "Epoch 27/40\n",
      "134/134 [==============================] - 1s 9ms/step - loss: 9.6670e-05 - accuracy: 1.0000 - val_loss: 0.7614 - val_accuracy: 0.9171\n",
      "Epoch 28/40\n",
      "134/134 [==============================] - 1s 9ms/step - loss: 8.7117e-05 - accuracy: 1.0000 - val_loss: 0.7782 - val_accuracy: 0.9171\n",
      "Epoch 29/40\n",
      "134/134 [==============================] - 1s 9ms/step - loss: 7.6067e-05 - accuracy: 1.0000 - val_loss: 0.7894 - val_accuracy: 0.9164\n",
      "Epoch 30/40\n",
      "134/134 [==============================] - 1s 9ms/step - loss: 6.8138e-05 - accuracy: 1.0000 - val_loss: 0.8024 - val_accuracy: 0.9171\n",
      "Epoch 31/40\n",
      "134/134 [==============================] - 1s 9ms/step - loss: 6.0414e-05 - accuracy: 1.0000 - val_loss: 0.8161 - val_accuracy: 0.9157\n",
      "Epoch 32/40\n",
      "134/134 [==============================] - 1s 9ms/step - loss: 5.3695e-05 - accuracy: 1.0000 - val_loss: 0.8278 - val_accuracy: 0.9157\n",
      "Epoch 33/40\n",
      "134/134 [==============================] - 1s 8ms/step - loss: 4.8200e-05 - accuracy: 1.0000 - val_loss: 0.8404 - val_accuracy: 0.9157\n",
      "Epoch 34/40\n",
      "134/134 [==============================] - 1s 9ms/step - loss: 4.3224e-05 - accuracy: 1.0000 - val_loss: 0.8529 - val_accuracy: 0.9157\n",
      "Epoch 35/40\n",
      "134/134 [==============================] - 1s 9ms/step - loss: 3.9150e-05 - accuracy: 1.0000 - val_loss: 0.8650 - val_accuracy: 0.9157\n",
      "Epoch 36/40\n",
      "134/134 [==============================] - 1s 8ms/step - loss: 3.5051e-05 - accuracy: 1.0000 - val_loss: 0.8771 - val_accuracy: 0.9150\n",
      "Epoch 37/40\n",
      "134/134 [==============================] - 1s 9ms/step - loss: 3.1676e-05 - accuracy: 1.0000 - val_loss: 0.8882 - val_accuracy: 0.9150\n",
      "Epoch 38/40\n",
      "134/134 [==============================] - 1s 8ms/step - loss: 2.8748e-05 - accuracy: 1.0000 - val_loss: 0.8989 - val_accuracy: 0.9150\n",
      "Epoch 39/40\n",
      "134/134 [==============================] - 1s 10ms/step - loss: 2.4865e-05 - accuracy: 1.0000 - val_loss: 0.9115 - val_accuracy: 0.9157\n",
      "Epoch 40/40\n",
      "134/134 [==============================] - 2s 11ms/step - loss: 2.2571e-05 - accuracy: 1.0000 - val_loss: 0.9221 - val_accuracy: 0.9157\n"
     ]
    },
    {
     "data": {
      "text/html": [
       "<br/>Waiting for W&B process to finish, PID 51802... <strong style=\"color:green\">(success).</strong>"
      ],
      "text/plain": [
       "<IPython.core.display.HTML object>"
      ]
     },
     "metadata": {},
     "output_type": "display_data"
    },
    {
     "data": {
      "text/html": [
       "<style>\n",
       "    table.wandb td:nth-child(1) { padding: 0 10px; text-align: right }\n",
       "    .wandb-row { display: flex; flex-direction: row; flex-wrap: wrap; width: 100% }\n",
       "    .wandb-col { display: flex; flex-direction: column; flex-basis: 100%; flex: 1; padding: 10px; }\n",
       "    </style>\n",
       "<div class=\"wandb-row\"><div class=\"wandb-col\">\n",
       "<h3>Run history:</h3><br/><table class=\"wandb\"><tr><td>accuracy</td><td>▁▇▇█████████████████████████████████████</td></tr><tr><td>epoch</td><td>▁▁▁▂▂▂▂▂▂▃▃▃▃▃▄▄▄▄▄▄▅▅▅▅▅▅▆▆▆▆▆▇▇▇▇▇▇███</td></tr><tr><td>loss</td><td>█▃▂▁▁▁▁▁▁▁▁▁▁▁▁▁▁▁▁▁▁▁▁▁▁▁▁▁▁▁▁▁▁▁▁▁▁▁▁▁</td></tr><tr><td>val_accuracy</td><td>▁▄█▇▆▆▆▅▅▆▆▆▅▅▄▄▃▃▃▃▃▃▃▃▃▃▃▃▃▃▂▂▂▂▂▂▂▂▂▂</td></tr><tr><td>val_f1</td><td>▁</td></tr><tr><td>val_loss</td><td>▁▁▁▂▂▂▃▃▃▄▄▄▄▄▅▅▅▅▅▅▆▆▆▆▆▆▆▇▇▇▇▇▇▇▇█████</td></tr></table><br/></div><div class=\"wandb-col\">\n",
       "<h3>Run summary:</h3><br/><table class=\"wandb\"><tr><td>accuracy</td><td>1.0</td></tr><tr><td>best_epoch</td><td>1</td></tr><tr><td>best_val_loss</td><td>0.21297</td></tr><tr><td>epoch</td><td>39</td></tr><tr><td>loss</td><td>2e-05</td></tr><tr><td>val_accuracy</td><td>0.91567</td></tr><tr><td>val_f1</td><td>0.89531</td></tr><tr><td>val_loss</td><td>0.92212</td></tr></table>\n",
       "</div></div>\n",
       "Synced 5 W&B file(s), 1 media file(s), 0 artifact file(s) and 1 other file(s)\n",
       "<br/>Synced <strong style=\"color:#cdcd00\">exalted-sweep-28</strong>: <a href=\"https://wandb.ai/tripleblackcat/uncategorized/runs/ezdp3ifr\" target=\"_blank\">https://wandb.ai/tripleblackcat/uncategorized/runs/ezdp3ifr</a><br/>\n",
       "Find logs at: <code>./wandb/run-20211120_172750-ezdp3ifr/logs</code><br/>\n"
      ],
      "text/plain": [
       "<IPython.core.display.HTML object>"
      ]
     },
     "metadata": {},
     "output_type": "display_data"
    },
    {
     "name": "stderr",
     "output_type": "stream",
     "text": [
      "\u001b[34m\u001b[1mwandb\u001b[0m: Agent Starting Run: opdva3o0 with config:\n",
      "\u001b[34m\u001b[1mwandb\u001b[0m: \tbatch_size: 64\n",
      "\u001b[34m\u001b[1mwandb\u001b[0m: \tdropout: 0\n",
      "\u001b[34m\u001b[1mwandb\u001b[0m: \tembedding_dim: 64\n",
      "\u001b[34m\u001b[1mwandb\u001b[0m: \tepochs: 40\n",
      "\u001b[34m\u001b[1mwandb\u001b[0m: \tff_size: 256\n",
      "\u001b[34m\u001b[1mwandb\u001b[0m: \tlr: 0.0005\n",
      "\u001b[34m\u001b[1mwandb\u001b[0m: \tlstm_units: 64\n",
      "\u001b[34m\u001b[1mwandb\u001b[0m: \tmax_tokens: None\n"
     ]
    },
    {
     "data": {
      "text/html": [
       "\n",
       "                    Syncing run <strong><a href=\"https://wandb.ai/tripleblackcat/uncategorized/runs/opdva3o0\" target=\"_blank\">driven-sweep-29</a></strong> to <a href=\"https://wandb.ai/tripleblackcat/uncategorized\" target=\"_blank\">Weights & Biases</a> (<a href=\"https://docs.wandb.com/integrations/jupyter.html\" target=\"_blank\">docs</a>).<br/>\n",
       "Sweep page: <a href=\"https://wandb.ai/tripleblackcat/uncategorized/sweeps/aoizs7rc\" target=\"_blank\">https://wandb.ai/tripleblackcat/uncategorized/sweeps/aoizs7rc</a><br/>\n",
       "\n",
       "                "
      ],
      "text/plain": [
       "<IPython.core.display.HTML object>"
      ]
     },
     "metadata": {},
     "output_type": "display_data"
    },
    {
     "name": "stdout",
     "output_type": "stream",
     "text": [
      "Epoch 1/40\n",
      "134/134 [==============================] - ETA: 0s - loss: 0.4466 - accuracy: 0.7402"
     ]
    },
    {
     "name": "stderr",
     "output_type": "stream",
     "text": [
      "\u001b[34m\u001b[1mwandb\u001b[0m: \u001b[32m\u001b[41mERROR\u001b[0m Can't save model, h5py returned error: Save or restore weights that is not an instance of `tf.Variable` is not supported in h5, use `save_format='tf'` instead. Received a model or layer TextVectorization with weights [<keras.layers.preprocessing.index_lookup.VocabWeightHandler object at 0x7fd7138d69d0>]\n"
     ]
    },
    {
     "name": "stdout",
     "output_type": "stream",
     "text": [
      "134/134 [==============================] - 8s 19ms/step - loss: 0.4466 - accuracy: 0.7402 - val_loss: 0.2283 - val_accuracy: 0.9072\n",
      "Epoch 2/40\n",
      "134/134 [==============================] - 1s 9ms/step - loss: 0.1250 - accuracy: 0.9529 - val_loss: 0.2023 - val_accuracy: 0.9248\n",
      "Epoch 3/40\n",
      "134/134 [==============================] - 1s 9ms/step - loss: 0.0406 - accuracy: 0.9876 - val_loss: 0.3719 - val_accuracy: 0.8883\n",
      "Epoch 4/40\n",
      "134/134 [==============================] - 1s 9ms/step - loss: 0.0167 - accuracy: 0.9953 - val_loss: 0.3670 - val_accuracy: 0.9037\n",
      "Epoch 5/40\n",
      "134/134 [==============================] - 1s 8ms/step - loss: 0.0155 - accuracy: 0.9951 - val_loss: 0.3097 - val_accuracy: 0.9199\n",
      "Epoch 6/40\n",
      "134/134 [==============================] - 1s 9ms/step - loss: 0.0034 - accuracy: 0.9991 - val_loss: 0.3796 - val_accuracy: 0.9192\n",
      "Epoch 7/40\n",
      "134/134 [==============================] - 1s 9ms/step - loss: 0.0014 - accuracy: 1.0000 - val_loss: 0.4249 - val_accuracy: 0.9192\n",
      "Epoch 8/40\n",
      "134/134 [==============================] - 1s 9ms/step - loss: 0.0011 - accuracy: 1.0000 - val_loss: 0.4590 - val_accuracy: 0.9192\n",
      "Epoch 9/40\n",
      "134/134 [==============================] - 1s 9ms/step - loss: 9.5271e-04 - accuracy: 1.0000 - val_loss: 0.4886 - val_accuracy: 0.9199\n",
      "Epoch 10/40\n",
      "134/134 [==============================] - 1s 9ms/step - loss: 8.4646e-04 - accuracy: 1.0000 - val_loss: 0.5162 - val_accuracy: 0.9199\n",
      "Epoch 11/40\n",
      "134/134 [==============================] - 1s 9ms/step - loss: 7.6160e-04 - accuracy: 1.0000 - val_loss: 0.5415 - val_accuracy: 0.9199\n",
      "Epoch 12/40\n",
      "134/134 [==============================] - 1s 9ms/step - loss: 6.9183e-04 - accuracy: 1.0000 - val_loss: 0.5658 - val_accuracy: 0.9206\n",
      "Epoch 13/40\n",
      "134/134 [==============================] - 1s 9ms/step - loss: 6.3269e-04 - accuracy: 1.0000 - val_loss: 0.5888 - val_accuracy: 0.9206\n",
      "Epoch 14/40\n",
      "134/134 [==============================] - 1s 9ms/step - loss: 5.7852e-04 - accuracy: 1.0000 - val_loss: 0.6106 - val_accuracy: 0.9213\n",
      "Epoch 15/40\n",
      "134/134 [==============================] - 1s 9ms/step - loss: 5.2681e-04 - accuracy: 1.0000 - val_loss: 0.6312 - val_accuracy: 0.9206\n",
      "Epoch 16/40\n",
      "134/134 [==============================] - 1s 8ms/step - loss: 4.8409e-04 - accuracy: 1.0000 - val_loss: 0.6518 - val_accuracy: 0.9206\n",
      "Epoch 17/40\n",
      "134/134 [==============================] - 1s 9ms/step - loss: 4.4110e-04 - accuracy: 1.0000 - val_loss: 0.6722 - val_accuracy: 0.9206\n",
      "Epoch 18/40\n",
      "134/134 [==============================] - 1s 9ms/step - loss: 4.0043e-04 - accuracy: 1.0000 - val_loss: 0.6926 - val_accuracy: 0.9199\n",
      "Epoch 19/40\n",
      "134/134 [==============================] - 1s 9ms/step - loss: 3.6127e-04 - accuracy: 1.0000 - val_loss: 0.7122 - val_accuracy: 0.9199\n",
      "Epoch 20/40\n",
      "134/134 [==============================] - 1s 9ms/step - loss: 3.2781e-04 - accuracy: 1.0000 - val_loss: 0.7318 - val_accuracy: 0.9192\n",
      "Epoch 21/40\n",
      "134/134 [==============================] - 1s 9ms/step - loss: 2.9658e-04 - accuracy: 1.0000 - val_loss: 0.7511 - val_accuracy: 0.9199\n",
      "Epoch 22/40\n",
      "134/134 [==============================] - 1s 9ms/step - loss: 2.6967e-04 - accuracy: 1.0000 - val_loss: 0.7712 - val_accuracy: 0.9199\n",
      "Epoch 23/40\n",
      "134/134 [==============================] - 1s 9ms/step - loss: 2.4319e-04 - accuracy: 1.0000 - val_loss: 0.7908 - val_accuracy: 0.9199\n",
      "Epoch 24/40\n",
      "134/134 [==============================] - 1s 9ms/step - loss: 2.1746e-04 - accuracy: 1.0000 - val_loss: 0.8100 - val_accuracy: 0.9185\n",
      "Epoch 25/40\n",
      "134/134 [==============================] - 1s 8ms/step - loss: 1.9591e-04 - accuracy: 1.0000 - val_loss: 0.8292 - val_accuracy: 0.9185\n",
      "Epoch 26/40\n",
      "134/134 [==============================] - 1s 9ms/step - loss: 1.7681e-04 - accuracy: 1.0000 - val_loss: 0.8483 - val_accuracy: 0.9178\n",
      "Epoch 27/40\n",
      "134/134 [==============================] - 1s 9ms/step - loss: 1.5908e-04 - accuracy: 1.0000 - val_loss: 0.8663 - val_accuracy: 0.9171\n",
      "Epoch 28/40\n",
      "134/134 [==============================] - 1s 8ms/step - loss: 1.4484e-04 - accuracy: 1.0000 - val_loss: 0.8853 - val_accuracy: 0.9164\n",
      "Epoch 29/40\n",
      "134/134 [==============================] - 1s 9ms/step - loss: 1.2996e-04 - accuracy: 1.0000 - val_loss: 0.9021 - val_accuracy: 0.9164\n",
      "Epoch 30/40\n",
      "134/134 [==============================] - 1s 9ms/step - loss: 1.1639e-04 - accuracy: 1.0000 - val_loss: 0.9204 - val_accuracy: 0.9157\n",
      "Epoch 31/40\n",
      "134/134 [==============================] - 1s 8ms/step - loss: 1.0492e-04 - accuracy: 1.0000 - val_loss: 0.9391 - val_accuracy: 0.9157\n",
      "Epoch 32/40\n",
      "134/134 [==============================] - 1s 9ms/step - loss: 9.5233e-05 - accuracy: 1.0000 - val_loss: 0.9567 - val_accuracy: 0.9157\n",
      "Epoch 33/40\n",
      "134/134 [==============================] - 1s 8ms/step - loss: 8.5934e-05 - accuracy: 1.0000 - val_loss: 0.9729 - val_accuracy: 0.9150\n",
      "Epoch 34/40\n",
      "134/134 [==============================] - 1s 9ms/step - loss: 7.7841e-05 - accuracy: 1.0000 - val_loss: 0.9896 - val_accuracy: 0.9143\n",
      "Epoch 35/40\n",
      "134/134 [==============================] - 1s 9ms/step - loss: 7.0763e-05 - accuracy: 1.0000 - val_loss: 1.0071 - val_accuracy: 0.9136\n",
      "Epoch 36/40\n",
      "134/134 [==============================] - 1s 9ms/step - loss: 6.4289e-05 - accuracy: 1.0000 - val_loss: 1.0230 - val_accuracy: 0.9136\n",
      "Epoch 37/40\n",
      "134/134 [==============================] - 1s 9ms/step - loss: 5.8510e-05 - accuracy: 1.0000 - val_loss: 1.0385 - val_accuracy: 0.9136\n",
      "Epoch 38/40\n",
      "134/134 [==============================] - 1s 9ms/step - loss: 5.3499e-05 - accuracy: 1.0000 - val_loss: 1.0557 - val_accuracy: 0.9136\n",
      "Epoch 39/40\n",
      "134/134 [==============================] - 1s 9ms/step - loss: 4.8767e-05 - accuracy: 1.0000 - val_loss: 1.0707 - val_accuracy: 0.9136\n",
      "Epoch 40/40\n",
      "134/134 [==============================] - 1s 9ms/step - loss: 4.4649e-05 - accuracy: 1.0000 - val_loss: 1.0865 - val_accuracy: 0.9129\n"
     ]
    },
    {
     "data": {
      "text/html": [
       "<br/>Waiting for W&B process to finish, PID 52547... <strong style=\"color:green\">(success).</strong>"
      ],
      "text/plain": [
       "<IPython.core.display.HTML object>"
      ]
     },
     "metadata": {},
     "output_type": "display_data"
    },
    {
     "data": {
      "text/html": [
       "<style>\n",
       "    table.wandb td:nth-child(1) { padding: 0 10px; text-align: right }\n",
       "    .wandb-row { display: flex; flex-direction: row; flex-wrap: wrap; width: 100% }\n",
       "    .wandb-col { display: flex; flex-direction: column; flex-basis: 100%; flex: 1; padding: 10px; }\n",
       "    </style>\n",
       "<div class=\"wandb-row\"><div class=\"wandb-col\">\n",
       "<h3>Run history:</h3><br/><table class=\"wandb\"><tr><td>accuracy</td><td>▁▇██████████████████████████████████████</td></tr><tr><td>epoch</td><td>▁▁▁▂▂▂▂▂▂▃▃▃▃▃▄▄▄▄▄▄▅▅▅▅▅▅▆▆▆▆▆▇▇▇▇▇▇███</td></tr><tr><td>loss</td><td>█▃▂▁▁▁▁▁▁▁▁▁▁▁▁▁▁▁▁▁▁▁▁▁▁▁▁▁▁▁▁▁▁▁▁▁▁▁▁▁</td></tr><tr><td>val_accuracy</td><td>▅█▁▄▇▇▇▇▇▇▇▇▇▇▇▇▇▇▇▇▇▇▇▇▇▇▇▆▆▆▆▆▆▆▆▆▆▆▆▆</td></tr><tr><td>val_f1</td><td>▁</td></tr><tr><td>val_loss</td><td>▁▁▂▂▂▂▃▃▃▃▄▄▄▄▄▅▅▅▅▅▅▆▆▆▆▆▆▆▇▇▇▇▇▇▇▇████</td></tr></table><br/></div><div class=\"wandb-col\">\n",
       "<h3>Run summary:</h3><br/><table class=\"wandb\"><tr><td>accuracy</td><td>1.0</td></tr><tr><td>best_epoch</td><td>1</td></tr><tr><td>best_val_loss</td><td>0.20226</td></tr><tr><td>epoch</td><td>39</td></tr><tr><td>loss</td><td>4e-05</td></tr><tr><td>val_accuracy</td><td>0.91286</td></tr><tr><td>val_f1</td><td>0.89433</td></tr><tr><td>val_loss</td><td>1.08649</td></tr></table>\n",
       "</div></div>\n",
       "Synced 5 W&B file(s), 1 media file(s), 0 artifact file(s) and 1 other file(s)\n",
       "<br/>Synced <strong style=\"color:#cdcd00\">driven-sweep-29</strong>: <a href=\"https://wandb.ai/tripleblackcat/uncategorized/runs/opdva3o0\" target=\"_blank\">https://wandb.ai/tripleblackcat/uncategorized/runs/opdva3o0</a><br/>\n",
       "Find logs at: <code>./wandb/run-20211120_172900-opdva3o0/logs</code><br/>\n"
      ],
      "text/plain": [
       "<IPython.core.display.HTML object>"
      ]
     },
     "metadata": {},
     "output_type": "display_data"
    },
    {
     "name": "stderr",
     "output_type": "stream",
     "text": [
      "\u001b[34m\u001b[1mwandb\u001b[0m: Agent Starting Run: rdtof6uj with config:\n",
      "\u001b[34m\u001b[1mwandb\u001b[0m: \tbatch_size: 64\n",
      "\u001b[34m\u001b[1mwandb\u001b[0m: \tdropout: 0\n",
      "\u001b[34m\u001b[1mwandb\u001b[0m: \tembedding_dim: 256\n",
      "\u001b[34m\u001b[1mwandb\u001b[0m: \tepochs: 20\n",
      "\u001b[34m\u001b[1mwandb\u001b[0m: \tff_size: 128\n",
      "\u001b[34m\u001b[1mwandb\u001b[0m: \tlr: 0.0005\n",
      "\u001b[34m\u001b[1mwandb\u001b[0m: \tlstm_units: 32\n",
      "\u001b[34m\u001b[1mwandb\u001b[0m: \tmax_tokens: 100\n"
     ]
    },
    {
     "data": {
      "text/html": [
       "\n",
       "                    Syncing run <strong><a href=\"https://wandb.ai/tripleblackcat/uncategorized/runs/rdtof6uj\" target=\"_blank\">stilted-sweep-30</a></strong> to <a href=\"https://wandb.ai/tripleblackcat/uncategorized\" target=\"_blank\">Weights & Biases</a> (<a href=\"https://docs.wandb.com/integrations/jupyter.html\" target=\"_blank\">docs</a>).<br/>\n",
       "Sweep page: <a href=\"https://wandb.ai/tripleblackcat/uncategorized/sweeps/aoizs7rc\" target=\"_blank\">https://wandb.ai/tripleblackcat/uncategorized/sweeps/aoizs7rc</a><br/>\n",
       "\n",
       "                "
      ],
      "text/plain": [
       "<IPython.core.display.HTML object>"
      ]
     },
     "metadata": {},
     "output_type": "display_data"
    },
    {
     "name": "stdout",
     "output_type": "stream",
     "text": [
      "Epoch 1/20\n",
      "134/134 [==============================] - ETA: 0s - loss: 0.4977 - accuracy: 0.7027"
     ]
    },
    {
     "name": "stderr",
     "output_type": "stream",
     "text": [
      "\u001b[34m\u001b[1mwandb\u001b[0m: \u001b[32m\u001b[41mERROR\u001b[0m Can't save model, h5py returned error: Save or restore weights that is not an instance of `tf.Variable` is not supported in h5, use `save_format='tf'` instead. Received a model or layer TextVectorization with weights [<keras.layers.preprocessing.index_lookup.VocabWeightHandler object at 0x7fd712df2d30>]\n"
     ]
    },
    {
     "name": "stdout",
     "output_type": "stream",
     "text": [
      "134/134 [==============================] - 7s 19ms/step - loss: 0.4977 - accuracy: 0.7027 - val_loss: 0.3194 - val_accuracy: 0.8503\n",
      "Epoch 2/20\n",
      "134/134 [==============================] - 1s 10ms/step - loss: 0.3288 - accuracy: 0.8503 - val_loss: 0.3321 - val_accuracy: 0.8693\n",
      "Epoch 3/20\n",
      "134/134 [==============================] - 1s 8ms/step - loss: 0.3101 - accuracy: 0.8590 - val_loss: 0.2953 - val_accuracy: 0.8700\n",
      "Epoch 4/20\n",
      "134/134 [==============================] - 1s 9ms/step - loss: 0.2953 - accuracy: 0.8690 - val_loss: 0.2927 - val_accuracy: 0.8665\n",
      "Epoch 5/20\n",
      "134/134 [==============================] - 1s 9ms/step - loss: 0.2855 - accuracy: 0.8690 - val_loss: 0.3323 - val_accuracy: 0.8665\n",
      "Epoch 6/20\n",
      "134/134 [==============================] - 1s 9ms/step - loss: 0.2751 - accuracy: 0.8728 - val_loss: 0.2881 - val_accuracy: 0.8707\n",
      "Epoch 7/20\n",
      "134/134 [==============================] - 1s 9ms/step - loss: 0.2637 - accuracy: 0.8798 - val_loss: 0.2738 - val_accuracy: 0.8819\n",
      "Epoch 8/20\n",
      "134/134 [==============================] - 1s 9ms/step - loss: 0.2562 - accuracy: 0.8824 - val_loss: 0.2752 - val_accuracy: 0.8869\n",
      "Epoch 9/20\n",
      "134/134 [==============================] - 1s 9ms/step - loss: 0.2436 - accuracy: 0.8922 - val_loss: 0.2771 - val_accuracy: 0.8721\n",
      "Epoch 10/20\n",
      "134/134 [==============================] - 1s 9ms/step - loss: 0.2359 - accuracy: 0.8901 - val_loss: 0.2734 - val_accuracy: 0.8798\n",
      "Epoch 11/20\n",
      "134/134 [==============================] - 1s 9ms/step - loss: 0.2287 - accuracy: 0.9002 - val_loss: 0.2813 - val_accuracy: 0.8855\n",
      "Epoch 12/20\n",
      "134/134 [==============================] - 1s 9ms/step - loss: 0.2172 - accuracy: 0.9051 - val_loss: 0.2751 - val_accuracy: 0.8840\n",
      "Epoch 13/20\n",
      "134/134 [==============================] - 1s 9ms/step - loss: 0.2129 - accuracy: 0.9046 - val_loss: 0.2945 - val_accuracy: 0.8833\n",
      "Epoch 14/20\n",
      "134/134 [==============================] - 1s 8ms/step - loss: 0.2026 - accuracy: 0.9121 - val_loss: 0.2975 - val_accuracy: 0.8756\n",
      "Epoch 15/20\n",
      "134/134 [==============================] - 1s 9ms/step - loss: 0.1919 - accuracy: 0.9180 - val_loss: 0.2778 - val_accuracy: 0.8925\n",
      "Epoch 16/20\n",
      "134/134 [==============================] - 1s 9ms/step - loss: 0.1857 - accuracy: 0.9208 - val_loss: 0.3106 - val_accuracy: 0.8770\n",
      "Epoch 17/20\n",
      "134/134 [==============================] - 1s 9ms/step - loss: 0.1828 - accuracy: 0.9222 - val_loss: 0.3128 - val_accuracy: 0.8848\n",
      "Epoch 18/20\n",
      "134/134 [==============================] - 1s 9ms/step - loss: 0.1623 - accuracy: 0.9309 - val_loss: 0.3153 - val_accuracy: 0.8869\n",
      "Epoch 19/20\n",
      "134/134 [==============================] - 1s 9ms/step - loss: 0.1676 - accuracy: 0.9295 - val_loss: 0.3189 - val_accuracy: 0.8812\n",
      "Epoch 20/20\n",
      "134/134 [==============================] - 1s 9ms/step - loss: 0.1592 - accuracy: 0.9306 - val_loss: 0.3354 - val_accuracy: 0.8848\n"
     ]
    },
    {
     "data": {
      "text/html": [
       "<br/>Waiting for W&B process to finish, PID 53270... <strong style=\"color:green\">(success).</strong>"
      ],
      "text/plain": [
       "<IPython.core.display.HTML object>"
      ]
     },
     "metadata": {},
     "output_type": "display_data"
    },
    {
     "data": {
      "text/html": [
       "<style>\n",
       "    table.wandb td:nth-child(1) { padding: 0 10px; text-align: right }\n",
       "    .wandb-row { display: flex; flex-direction: row; flex-wrap: wrap; width: 100% }\n",
       "    .wandb-col { display: flex; flex-direction: column; flex-basis: 100%; flex: 1; padding: 10px; }\n",
       "    </style>\n",
       "<div class=\"wandb-row\"><div class=\"wandb-col\">\n",
       "<h3>Run history:</h3><br/><table class=\"wandb\"><tr><td>accuracy</td><td>▁▆▆▆▆▆▆▇▇▇▇▇▇▇██████</td></tr><tr><td>epoch</td><td>▁▁▂▂▂▃▃▄▄▄▅▅▅▆▆▇▇▇██</td></tr><tr><td>loss</td><td>█▅▄▄▄▃▃▃▃▃▂▂▂▂▂▂▁▁▁▁</td></tr><tr><td>val_accuracy</td><td>▁▄▄▄▄▄▆▇▅▆▇▇▆▅█▅▇▇▆▇</td></tr><tr><td>val_f1</td><td>▁</td></tr><tr><td>val_loss</td><td>▆█▃▃█▃▁▁▁▁▂▁▃▄▁▅▅▆▆█</td></tr></table><br/></div><div class=\"wandb-col\">\n",
       "<h3>Run summary:</h3><br/><table class=\"wandb\"><tr><td>accuracy</td><td>0.93065</td></tr><tr><td>best_epoch</td><td>9</td></tr><tr><td>best_val_loss</td><td>0.27339</td></tr><tr><td>epoch</td><td>19</td></tr><tr><td>loss</td><td>0.15918</td></tr><tr><td>val_accuracy</td><td>0.88475</td></tr><tr><td>val_f1</td><td>0.84923</td></tr><tr><td>val_loss</td><td>0.3354</td></tr></table>\n",
       "</div></div>\n",
       "Synced 5 W&B file(s), 1 media file(s), 0 artifact file(s) and 1 other file(s)\n",
       "<br/>Synced <strong style=\"color:#cdcd00\">stilted-sweep-30</strong>: <a href=\"https://wandb.ai/tripleblackcat/uncategorized/runs/rdtof6uj\" target=\"_blank\">https://wandb.ai/tripleblackcat/uncategorized/runs/rdtof6uj</a><br/>\n",
       "Find logs at: <code>./wandb/run-20211120_173009-rdtof6uj/logs</code><br/>\n"
      ],
      "text/plain": [
       "<IPython.core.display.HTML object>"
      ]
     },
     "metadata": {},
     "output_type": "display_data"
    },
    {
     "name": "stderr",
     "output_type": "stream",
     "text": [
      "\u001b[34m\u001b[1mwandb\u001b[0m: Agent Starting Run: 9stsw0f0 with config:\n",
      "\u001b[34m\u001b[1mwandb\u001b[0m: \tbatch_size: 256\n",
      "\u001b[34m\u001b[1mwandb\u001b[0m: \tdropout: 0.5\n",
      "\u001b[34m\u001b[1mwandb\u001b[0m: \tembedding_dim: 256\n",
      "\u001b[34m\u001b[1mwandb\u001b[0m: \tepochs: 40\n",
      "\u001b[34m\u001b[1mwandb\u001b[0m: \tff_size: 256\n",
      "\u001b[34m\u001b[1mwandb\u001b[0m: \tlr: 0.001\n",
      "\u001b[34m\u001b[1mwandb\u001b[0m: \tlstm_units: 64\n",
      "\u001b[34m\u001b[1mwandb\u001b[0m: \tmax_tokens: 100\n"
     ]
    },
    {
     "data": {
      "text/html": [
       "\n",
       "                    Syncing run <strong><a href=\"https://wandb.ai/tripleblackcat/uncategorized/runs/9stsw0f0\" target=\"_blank\">ruby-sweep-31</a></strong> to <a href=\"https://wandb.ai/tripleblackcat/uncategorized\" target=\"_blank\">Weights & Biases</a> (<a href=\"https://docs.wandb.com/integrations/jupyter.html\" target=\"_blank\">docs</a>).<br/>\n",
       "Sweep page: <a href=\"https://wandb.ai/tripleblackcat/uncategorized/sweeps/aoizs7rc\" target=\"_blank\">https://wandb.ai/tripleblackcat/uncategorized/sweeps/aoizs7rc</a><br/>\n",
       "\n",
       "                "
      ],
      "text/plain": [
       "<IPython.core.display.HTML object>"
      ]
     },
     "metadata": {},
     "output_type": "display_data"
    },
    {
     "name": "stdout",
     "output_type": "stream",
     "text": [
      "Epoch 1/40\n",
      "133/134 [============================>.] - ETA: 0s - loss: 0.4562 - accuracy: 0.7509"
     ]
    },
    {
     "name": "stderr",
     "output_type": "stream",
     "text": [
      "\u001b[34m\u001b[1mwandb\u001b[0m: \u001b[32m\u001b[41mERROR\u001b[0m Can't save model, h5py returned error: Save or restore weights that is not an instance of `tf.Variable` is not supported in h5, use `save_format='tf'` instead. Received a model or layer TextVectorization with weights [<keras.layers.preprocessing.index_lookup.VocabWeightHandler object at 0x7fd71271b1c0>]\n"
     ]
    },
    {
     "name": "stdout",
     "output_type": "stream",
     "text": [
      "134/134 [==============================] - 8s 29ms/step - loss: 0.4554 - accuracy: 0.7514 - val_loss: 0.3084 - val_accuracy: 0.8580\n",
      "Epoch 2/40\n",
      "134/134 [==============================] - 1s 9ms/step - loss: 0.3324 - accuracy: 0.8477 - val_loss: 0.3047 - val_accuracy: 0.8749\n",
      "Epoch 3/40\n",
      "134/134 [==============================] - 1s 9ms/step - loss: 0.3086 - accuracy: 0.8587 - val_loss: 0.2798 - val_accuracy: 0.8777\n",
      "Epoch 4/40\n",
      "134/134 [==============================] - 1s 9ms/step - loss: 0.2931 - accuracy: 0.8655 - val_loss: 0.2800 - val_accuracy: 0.8883\n",
      "Epoch 5/40\n",
      "134/134 [==============================] - 1s 9ms/step - loss: 0.2850 - accuracy: 0.8718 - val_loss: 0.2866 - val_accuracy: 0.8700\n",
      "Epoch 6/40\n",
      "134/134 [==============================] - 1s 9ms/step - loss: 0.2670 - accuracy: 0.8807 - val_loss: 0.2750 - val_accuracy: 0.8728\n",
      "Epoch 7/40\n",
      "134/134 [==============================] - 1s 10ms/step - loss: 0.2548 - accuracy: 0.8828 - val_loss: 0.2845 - val_accuracy: 0.8777\n",
      "Epoch 8/40\n",
      "134/134 [==============================] - 1s 10ms/step - loss: 0.2490 - accuracy: 0.8885 - val_loss: 0.2751 - val_accuracy: 0.8763\n",
      "Epoch 9/40\n",
      "134/134 [==============================] - 1s 9ms/step - loss: 0.2253 - accuracy: 0.8981 - val_loss: 0.2958 - val_accuracy: 0.8897\n",
      "Epoch 10/40\n",
      "134/134 [==============================] - 1s 10ms/step - loss: 0.2187 - accuracy: 0.9030 - val_loss: 0.2985 - val_accuracy: 0.8911\n",
      "Epoch 11/40\n",
      "134/134 [==============================] - 1s 10ms/step - loss: 0.2032 - accuracy: 0.9126 - val_loss: 0.3040 - val_accuracy: 0.8798\n",
      "Epoch 12/40\n",
      "134/134 [==============================] - 1s 10ms/step - loss: 0.1933 - accuracy: 0.9159 - val_loss: 0.3169 - val_accuracy: 0.8826\n",
      "Epoch 13/40\n",
      "134/134 [==============================] - 1s 10ms/step - loss: 0.1732 - accuracy: 0.9262 - val_loss: 0.3247 - val_accuracy: 0.8848\n",
      "Epoch 14/40\n",
      "134/134 [==============================] - 1s 10ms/step - loss: 0.1684 - accuracy: 0.9290 - val_loss: 0.3397 - val_accuracy: 0.8840\n",
      "Epoch 15/40\n",
      "134/134 [==============================] - 1s 10ms/step - loss: 0.1542 - accuracy: 0.9363 - val_loss: 0.3402 - val_accuracy: 0.8833\n",
      "Epoch 16/40\n",
      "134/134 [==============================] - 1s 10ms/step - loss: 0.1430 - accuracy: 0.9381 - val_loss: 0.3861 - val_accuracy: 0.8798\n",
      "Epoch 17/40\n",
      "134/134 [==============================] - 1s 9ms/step - loss: 0.1308 - accuracy: 0.9447 - val_loss: 0.3786 - val_accuracy: 0.8791\n",
      "Epoch 18/40\n",
      "134/134 [==============================] - 1s 10ms/step - loss: 0.1273 - accuracy: 0.9438 - val_loss: 0.4429 - val_accuracy: 0.8833\n",
      "Epoch 19/40\n",
      "134/134 [==============================] - 1s 10ms/step - loss: 0.1055 - accuracy: 0.9571 - val_loss: 0.4681 - val_accuracy: 0.8721\n",
      "Epoch 20/40\n",
      "134/134 [==============================] - 1s 10ms/step - loss: 0.1006 - accuracy: 0.9550 - val_loss: 0.5299 - val_accuracy: 0.8777\n",
      "Epoch 21/40\n",
      "134/134 [==============================] - 1s 10ms/step - loss: 0.0876 - accuracy: 0.9611 - val_loss: 0.5261 - val_accuracy: 0.8848\n",
      "Epoch 22/40\n",
      "134/134 [==============================] - 1s 10ms/step - loss: 0.0797 - accuracy: 0.9674 - val_loss: 0.5578 - val_accuracy: 0.8848\n",
      "Epoch 23/40\n",
      "134/134 [==============================] - 1s 10ms/step - loss: 0.0930 - accuracy: 0.9632 - val_loss: 0.5423 - val_accuracy: 0.8651\n",
      "Epoch 24/40\n",
      "134/134 [==============================] - 1s 11ms/step - loss: 0.0983 - accuracy: 0.9609 - val_loss: 0.5748 - val_accuracy: 0.8735\n",
      "Epoch 25/40\n",
      "134/134 [==============================] - 1s 10ms/step - loss: 0.0753 - accuracy: 0.9674 - val_loss: 0.6254 - val_accuracy: 0.8784\n",
      "Epoch 26/40\n",
      "134/134 [==============================] - 1s 10ms/step - loss: 0.0527 - accuracy: 0.9777 - val_loss: 0.7083 - val_accuracy: 0.8756\n",
      "Epoch 27/40\n",
      "134/134 [==============================] - 1s 10ms/step - loss: 0.0500 - accuracy: 0.9780 - val_loss: 0.6525 - val_accuracy: 0.8791\n",
      "Epoch 28/40\n",
      "134/134 [==============================] - 1s 10ms/step - loss: 0.0534 - accuracy: 0.9773 - val_loss: 0.7093 - val_accuracy: 0.8777\n",
      "Epoch 29/40\n",
      "134/134 [==============================] - 1s 10ms/step - loss: 0.0576 - accuracy: 0.9763 - val_loss: 0.7018 - val_accuracy: 0.8630\n",
      "Epoch 30/40\n",
      "134/134 [==============================] - 1s 10ms/step - loss: 0.0412 - accuracy: 0.9824 - val_loss: 0.7653 - val_accuracy: 0.8742\n",
      "Epoch 31/40\n",
      "134/134 [==============================] - 1s 11ms/step - loss: 0.0271 - accuracy: 0.9888 - val_loss: 0.9013 - val_accuracy: 0.8679\n",
      "Epoch 32/40\n",
      "134/134 [==============================] - 1s 10ms/step - loss: 0.0258 - accuracy: 0.9892 - val_loss: 0.8690 - val_accuracy: 0.8742\n",
      "Epoch 33/40\n",
      "134/134 [==============================] - 1s 10ms/step - loss: 0.0186 - accuracy: 0.9932 - val_loss: 0.9507 - val_accuracy: 0.8686\n",
      "Epoch 34/40\n",
      "134/134 [==============================] - 1s 10ms/step - loss: 0.0143 - accuracy: 0.9946 - val_loss: 1.0533 - val_accuracy: 0.8651\n",
      "Epoch 35/40\n",
      "134/134 [==============================] - 1s 10ms/step - loss: 0.0498 - accuracy: 0.9803 - val_loss: 0.8037 - val_accuracy: 0.8616\n",
      "Epoch 36/40\n",
      "134/134 [==============================] - 1s 11ms/step - loss: 0.0769 - accuracy: 0.9724 - val_loss: 0.6986 - val_accuracy: 0.8742\n",
      "Epoch 37/40\n",
      "134/134 [==============================] - 1s 10ms/step - loss: 0.0250 - accuracy: 0.9897 - val_loss: 0.8638 - val_accuracy: 0.8644\n",
      "Epoch 38/40\n",
      "134/134 [==============================] - 1s 9ms/step - loss: 0.0174 - accuracy: 0.9930 - val_loss: 0.9454 - val_accuracy: 0.8742\n",
      "Epoch 39/40\n",
      "134/134 [==============================] - 1s 10ms/step - loss: 0.0161 - accuracy: 0.9927 - val_loss: 0.9367 - val_accuracy: 0.8763\n",
      "Epoch 40/40\n",
      "134/134 [==============================] - 1s 10ms/step - loss: 0.0135 - accuracy: 0.9946 - val_loss: 1.0296 - val_accuracy: 0.8728\n"
     ]
    },
    {
     "data": {
      "text/html": [
       "<br/>Waiting for W&B process to finish, PID 53698... <strong style=\"color:green\">(success).</strong>"
      ],
      "text/plain": [
       "<IPython.core.display.HTML object>"
      ]
     },
     "metadata": {},
     "output_type": "display_data"
    },
    {
     "data": {
      "text/html": [
       "<style>\n",
       "    table.wandb td:nth-child(1) { padding: 0 10px; text-align: right }\n",
       "    .wandb-row { display: flex; flex-direction: row; flex-wrap: wrap; width: 100% }\n",
       "    .wandb-col { display: flex; flex-direction: column; flex-basis: 100%; flex: 1; padding: 10px; }\n",
       "    </style>\n",
       "<div class=\"wandb-row\"><div class=\"wandb-col\">\n",
       "<h3>Run history:</h3><br/><table class=\"wandb\"><tr><td>accuracy</td><td>▁▄▄▄▄▅▅▅▅▅▆▆▆▆▆▆▇▇▇▇▇▇▇▇▇███▇██████▇████</td></tr><tr><td>epoch</td><td>▁▁▁▂▂▂▂▂▂▃▃▃▃▃▄▄▄▄▄▄▅▅▅▅▅▅▆▆▆▆▆▇▇▇▇▇▇███</td></tr><tr><td>loss</td><td>█▆▆▅▅▅▅▅▄▄▄▄▄▃▃▃▃▃▂▂▂▂▂▂▂▂▂▂▂▁▁▁▁▁▂▂▁▁▁▁</td></tr><tr><td>val_accuracy</td><td>▁▅▅▇▄▄▅▅██▆▆▇▇▆▆▅▆▄▅▇▇▂▄▅▅▅▅▂▄▃▄▃▂▂▄▂▄▅▄</td></tr><tr><td>val_f1</td><td>▁</td></tr><tr><td>val_loss</td><td>▁▁▁▁▁▁▁▁▁▁▁▁▁▂▂▂▂▃▃▃▃▄▃▄▄▅▄▅▅▅▇▆▇█▆▅▆▇▇█</td></tr></table><br/></div><div class=\"wandb-col\">\n",
       "<h3>Run summary:</h3><br/><table class=\"wandb\"><tr><td>accuracy</td><td>0.99461</td></tr><tr><td>best_epoch</td><td>5</td></tr><tr><td>best_val_loss</td><td>0.27503</td></tr><tr><td>epoch</td><td>39</td></tr><tr><td>loss</td><td>0.01346</td></tr><tr><td>val_accuracy</td><td>0.8728</td></tr><tr><td>val_f1</td><td>0.85997</td></tr><tr><td>val_loss</td><td>1.02963</td></tr></table>\n",
       "</div></div>\n",
       "Synced 5 W&B file(s), 1 media file(s), 0 artifact file(s) and 1 other file(s)\n",
       "<br/>Synced <strong style=\"color:#cdcd00\">ruby-sweep-31</strong>: <a href=\"https://wandb.ai/tripleblackcat/uncategorized/runs/9stsw0f0\" target=\"_blank\">https://wandb.ai/tripleblackcat/uncategorized/runs/9stsw0f0</a><br/>\n",
       "Find logs at: <code>./wandb/run-20211120_173051-9stsw0f0/logs</code><br/>\n"
      ],
      "text/plain": [
       "<IPython.core.display.HTML object>"
      ]
     },
     "metadata": {},
     "output_type": "display_data"
    },
    {
     "name": "stderr",
     "output_type": "stream",
     "text": [
      "\u001b[34m\u001b[1mwandb\u001b[0m: Agent Starting Run: 6soa5vck with config:\n",
      "\u001b[34m\u001b[1mwandb\u001b[0m: \tbatch_size: 128\n",
      "\u001b[34m\u001b[1mwandb\u001b[0m: \tdropout: 0\n",
      "\u001b[34m\u001b[1mwandb\u001b[0m: \tembedding_dim: 64\n",
      "\u001b[34m\u001b[1mwandb\u001b[0m: \tepochs: 20\n",
      "\u001b[34m\u001b[1mwandb\u001b[0m: \tff_size: 256\n",
      "\u001b[34m\u001b[1mwandb\u001b[0m: \tlr: 0.0005\n",
      "\u001b[34m\u001b[1mwandb\u001b[0m: \tlstm_units: 256\n",
      "\u001b[34m\u001b[1mwandb\u001b[0m: \tmax_tokens: 1000\n"
     ]
    },
    {
     "data": {
      "text/html": [
       "\n",
       "                    Syncing run <strong><a href=\"https://wandb.ai/tripleblackcat/uncategorized/runs/6soa5vck\" target=\"_blank\">twilight-sweep-32</a></strong> to <a href=\"https://wandb.ai/tripleblackcat/uncategorized\" target=\"_blank\">Weights & Biases</a> (<a href=\"https://docs.wandb.com/integrations/jupyter.html\" target=\"_blank\">docs</a>).<br/>\n",
       "Sweep page: <a href=\"https://wandb.ai/tripleblackcat/uncategorized/sweeps/aoizs7rc\" target=\"_blank\">https://wandb.ai/tripleblackcat/uncategorized/sweeps/aoizs7rc</a><br/>\n",
       "\n",
       "                "
      ],
      "text/plain": [
       "<IPython.core.display.HTML object>"
      ]
     },
     "metadata": {},
     "output_type": "display_data"
    },
    {
     "name": "stdout",
     "output_type": "stream",
     "text": [
      "Epoch 1/20\n",
      "133/134 [============================>.] - ETA: 0s - loss: 0.4627 - accuracy: 0.7512"
     ]
    },
    {
     "name": "stderr",
     "output_type": "stream",
     "text": [
      "\u001b[34m\u001b[1mwandb\u001b[0m: \u001b[32m\u001b[41mERROR\u001b[0m Can't save model, h5py returned error: Save or restore weights that is not an instance of `tf.Variable` is not supported in h5, use `save_format='tf'` instead. Received a model or layer TextVectorization with weights [<keras.layers.preprocessing.index_lookup.VocabWeightHandler object at 0x7fd7133c8fa0>]\n"
     ]
    },
    {
     "name": "stdout",
     "output_type": "stream",
     "text": [
      "134/134 [==============================] - 9s 25ms/step - loss: 0.4623 - accuracy: 0.7514 - val_loss: 0.2867 - val_accuracy: 0.8805\n",
      "Epoch 2/20\n",
      "134/134 [==============================] - 1s 11ms/step - loss: 0.2251 - accuracy: 0.9065 - val_loss: 0.2299 - val_accuracy: 0.9065\n",
      "Epoch 3/20\n",
      "134/134 [==============================] - 1s 11ms/step - loss: 0.1705 - accuracy: 0.9304 - val_loss: 0.2509 - val_accuracy: 0.8946\n",
      "Epoch 4/20\n",
      "134/134 [==============================] - 1s 11ms/step - loss: 0.1420 - accuracy: 0.9442 - val_loss: 0.2504 - val_accuracy: 0.9072\n",
      "Epoch 5/20\n",
      "134/134 [==============================] - 1s 11ms/step - loss: 0.1061 - accuracy: 0.9609 - val_loss: 0.2802 - val_accuracy: 0.8918\n",
      "Epoch 6/20\n",
      "134/134 [==============================] - 1s 11ms/step - loss: 0.0915 - accuracy: 0.9651 - val_loss: 0.3642 - val_accuracy: 0.8946\n",
      "Epoch 7/20\n",
      "134/134 [==============================] - 2s 12ms/step - loss: 0.0780 - accuracy: 0.9735 - val_loss: 0.3223 - val_accuracy: 0.9093\n",
      "Epoch 8/20\n",
      "134/134 [==============================] - 1s 11ms/step - loss: 0.0564 - accuracy: 0.9820 - val_loss: 0.3427 - val_accuracy: 0.9009\n",
      "Epoch 9/20\n",
      "134/134 [==============================] - 1s 10ms/step - loss: 0.0452 - accuracy: 0.9831 - val_loss: 0.3887 - val_accuracy: 0.9044\n",
      "Epoch 10/20\n",
      "134/134 [==============================] - 1s 10ms/step - loss: 0.0487 - accuracy: 0.9815 - val_loss: 0.3810 - val_accuracy: 0.8988\n",
      "Epoch 11/20\n",
      "134/134 [==============================] - 1s 11ms/step - loss: 0.0235 - accuracy: 0.9918 - val_loss: 0.4618 - val_accuracy: 0.8897\n",
      "Epoch 12/20\n",
      "134/134 [==============================] - 1s 11ms/step - loss: 0.0163 - accuracy: 0.9944 - val_loss: 0.4763 - val_accuracy: 0.9002\n",
      "Epoch 13/20\n",
      "134/134 [==============================] - 1s 11ms/step - loss: 0.0162 - accuracy: 0.9946 - val_loss: 0.5771 - val_accuracy: 0.8946\n",
      "Epoch 14/20\n",
      "134/134 [==============================] - 1s 11ms/step - loss: 0.0158 - accuracy: 0.9934 - val_loss: 0.6075 - val_accuracy: 0.8960\n",
      "Epoch 15/20\n",
      "134/134 [==============================] - 1s 10ms/step - loss: 0.0097 - accuracy: 0.9972 - val_loss: 0.5934 - val_accuracy: 0.8939\n",
      "Epoch 16/20\n",
      "134/134 [==============================] - 1s 10ms/step - loss: 0.0127 - accuracy: 0.9958 - val_loss: 0.5868 - val_accuracy: 0.8932\n",
      "Epoch 17/20\n",
      "134/134 [==============================] - 1s 9ms/step - loss: 0.0144 - accuracy: 0.9963 - val_loss: 0.5891 - val_accuracy: 0.9016\n",
      "Epoch 18/20\n",
      "134/134 [==============================] - 1s 9ms/step - loss: 0.0219 - accuracy: 0.9923 - val_loss: 0.5399 - val_accuracy: 0.8911\n",
      "Epoch 19/20\n",
      "134/134 [==============================] - 1s 9ms/step - loss: 0.0123 - accuracy: 0.9960 - val_loss: 0.5255 - val_accuracy: 0.8946\n",
      "Epoch 20/20\n",
      "134/134 [==============================] - 1s 9ms/step - loss: 0.0084 - accuracy: 0.9972 - val_loss: 0.6153 - val_accuracy: 0.8995\n"
     ]
    },
    {
     "data": {
      "text/html": [
       "<br/>Waiting for W&B process to finish, PID 54489... <strong style=\"color:green\">(success).</strong>"
      ],
      "text/plain": [
       "<IPython.core.display.HTML object>"
      ]
     },
     "metadata": {},
     "output_type": "display_data"
    },
    {
     "data": {
      "text/html": [
       "<style>\n",
       "    table.wandb td:nth-child(1) { padding: 0 10px; text-align: right }\n",
       "    .wandb-row { display: flex; flex-direction: row; flex-wrap: wrap; width: 100% }\n",
       "    .wandb-col { display: flex; flex-direction: column; flex-basis: 100%; flex: 1; padding: 10px; }\n",
       "    </style>\n",
       "<div class=\"wandb-row\"><div class=\"wandb-col\">\n",
       "<h3>Run history:</h3><br/><table class=\"wandb\"><tr><td>accuracy</td><td>▁▅▆▆▇▇▇█████████████</td></tr><tr><td>epoch</td><td>▁▁▂▂▂▃▃▄▄▄▅▅▅▆▆▇▇▇██</td></tr><tr><td>loss</td><td>█▄▄▃▃▂▂▂▂▂▁▁▁▁▁▁▁▁▁▁</td></tr><tr><td>val_accuracy</td><td>▁▇▄▇▄▄█▆▇▅▃▆▄▅▄▄▆▄▄▆</td></tr><tr><td>val_f1</td><td>▁</td></tr><tr><td>val_loss</td><td>▂▁▁▁▂▃▃▃▄▄▅▅▇██▇█▇▆█</td></tr></table><br/></div><div class=\"wandb-col\">\n",
       "<h3>Run summary:</h3><br/><table class=\"wandb\"><tr><td>accuracy</td><td>0.99719</td></tr><tr><td>best_epoch</td><td>1</td></tr><tr><td>best_val_loss</td><td>0.2299</td></tr><tr><td>epoch</td><td>19</td></tr><tr><td>loss</td><td>0.00841</td></tr><tr><td>val_accuracy</td><td>0.89951</td></tr><tr><td>val_f1</td><td>0.8898</td></tr><tr><td>val_loss</td><td>0.61528</td></tr></table>\n",
       "</div></div>\n",
       "Synced 5 W&B file(s), 1 media file(s), 0 artifact file(s) and 1 other file(s)\n",
       "<br/>Synced <strong style=\"color:#cdcd00\">twilight-sweep-32</strong>: <a href=\"https://wandb.ai/tripleblackcat/uncategorized/runs/6soa5vck\" target=\"_blank\">https://wandb.ai/tripleblackcat/uncategorized/runs/6soa5vck</a><br/>\n",
       "Find logs at: <code>./wandb/run-20211120_173206-6soa5vck/logs</code><br/>\n"
      ],
      "text/plain": [
       "<IPython.core.display.HTML object>"
      ]
     },
     "metadata": {},
     "output_type": "display_data"
    },
    {
     "name": "stderr",
     "output_type": "stream",
     "text": [
      "\u001b[34m\u001b[1mwandb\u001b[0m: Agent Starting Run: kmkss2yb with config:\n",
      "\u001b[34m\u001b[1mwandb\u001b[0m: \tbatch_size: 128\n",
      "\u001b[34m\u001b[1mwandb\u001b[0m: \tdropout: 0\n",
      "\u001b[34m\u001b[1mwandb\u001b[0m: \tembedding_dim: 64\n",
      "\u001b[34m\u001b[1mwandb\u001b[0m: \tepochs: 10\n",
      "\u001b[34m\u001b[1mwandb\u001b[0m: \tff_size: 256\n",
      "\u001b[34m\u001b[1mwandb\u001b[0m: \tlr: 0.0005\n",
      "\u001b[34m\u001b[1mwandb\u001b[0m: \tlstm_units: 256\n",
      "\u001b[34m\u001b[1mwandb\u001b[0m: \tmax_tokens: None\n"
     ]
    },
    {
     "data": {
      "text/html": [
       "\n",
       "                    Syncing run <strong><a href=\"https://wandb.ai/tripleblackcat/uncategorized/runs/kmkss2yb\" target=\"_blank\">young-sweep-33</a></strong> to <a href=\"https://wandb.ai/tripleblackcat/uncategorized\" target=\"_blank\">Weights & Biases</a> (<a href=\"https://docs.wandb.com/integrations/jupyter.html\" target=\"_blank\">docs</a>).<br/>\n",
       "Sweep page: <a href=\"https://wandb.ai/tripleblackcat/uncategorized/sweeps/aoizs7rc\" target=\"_blank\">https://wandb.ai/tripleblackcat/uncategorized/sweeps/aoizs7rc</a><br/>\n",
       "\n",
       "                "
      ],
      "text/plain": [
       "<IPython.core.display.HTML object>"
      ]
     },
     "metadata": {},
     "output_type": "display_data"
    },
    {
     "name": "stdout",
     "output_type": "stream",
     "text": [
      "Epoch 1/10\n",
      "127/134 [===========================>..] - ETA: 0s - loss: 0.4045 - accuracy: 0.7837"
     ]
    },
    {
     "name": "stderr",
     "output_type": "stream",
     "text": [
      "\u001b[34m\u001b[1mwandb\u001b[0m: \u001b[32m\u001b[41mERROR\u001b[0m Can't save model, h5py returned error: Save or restore weights that is not an instance of `tf.Variable` is not supported in h5, use `save_format='tf'` instead. Received a model or layer TextVectorization with weights [<keras.layers.preprocessing.index_lookup.VocabWeightHandler object at 0x7fd6e85b5af0>]\n"
     ]
    },
    {
     "name": "stdout",
     "output_type": "stream",
     "text": [
      "134/134 [==============================] - 8s 21ms/step - loss: 0.3943 - accuracy: 0.7905 - val_loss: 0.2374 - val_accuracy: 0.9016\n",
      "Epoch 2/10\n",
      "134/134 [==============================] - 1s 10ms/step - loss: 0.1234 - accuracy: 0.9543 - val_loss: 0.2195 - val_accuracy: 0.9171\n",
      "Epoch 3/10\n",
      "134/134 [==============================] - 1s 11ms/step - loss: 0.0481 - accuracy: 0.9855 - val_loss: 0.2217 - val_accuracy: 0.9122\n",
      "Epoch 4/10\n",
      "134/134 [==============================] - 1s 10ms/step - loss: 0.0220 - accuracy: 0.9923 - val_loss: 0.3357 - val_accuracy: 0.9058\n",
      "Epoch 5/10\n",
      "134/134 [==============================] - 1s 10ms/step - loss: 0.0291 - accuracy: 0.9946 - val_loss: 0.4460 - val_accuracy: 0.9108\n",
      "Epoch 6/10\n",
      "134/134 [==============================] - 1s 9ms/step - loss: 0.0070 - accuracy: 0.9972 - val_loss: 0.3888 - val_accuracy: 0.9108\n",
      "Epoch 7/10\n",
      "134/134 [==============================] - 1s 10ms/step - loss: 0.0017 - accuracy: 0.9995 - val_loss: 0.5113 - val_accuracy: 0.9044\n",
      "Epoch 8/10\n",
      "134/134 [==============================] - 1s 10ms/step - loss: 0.0013 - accuracy: 0.9998 - val_loss: 0.5895 - val_accuracy: 0.9108\n",
      "Epoch 9/10\n",
      "134/134 [==============================] - 1s 11ms/step - loss: 0.0379 - accuracy: 0.9953 - val_loss: 0.2889 - val_accuracy: 0.8960\n",
      "Epoch 10/10\n",
      "134/134 [==============================] - 1s 10ms/step - loss: 0.0254 - accuracy: 0.9906 - val_loss: 0.3087 - val_accuracy: 0.9129\n"
     ]
    },
    {
     "data": {
      "text/html": [
       "<br/>Waiting for W&B process to finish, PID 54924... <strong style=\"color:green\">(success).</strong>"
      ],
      "text/plain": [
       "<IPython.core.display.HTML object>"
      ]
     },
     "metadata": {},
     "output_type": "display_data"
    },
    {
     "data": {
      "text/html": [
       "<style>\n",
       "    table.wandb td:nth-child(1) { padding: 0 10px; text-align: right }\n",
       "    .wandb-row { display: flex; flex-direction: row; flex-wrap: wrap; width: 100% }\n",
       "    .wandb-col { display: flex; flex-direction: column; flex-basis: 100%; flex: 1; padding: 10px; }\n",
       "    </style>\n",
       "<div class=\"wandb-row\"><div class=\"wandb-col\">\n",
       "<h3>Run history:</h3><br/><table class=\"wandb\"><tr><td>accuracy</td><td>▁▆████████</td></tr><tr><td>epoch</td><td>▁▂▃▃▄▅▆▆▇█</td></tr><tr><td>loss</td><td>█▃▂▁▁▁▁▁▂▁</td></tr><tr><td>val_accuracy</td><td>▃█▆▄▆▆▄▆▁▇</td></tr><tr><td>val_f1</td><td>▁</td></tr><tr><td>val_loss</td><td>▁▁▁▃▅▄▇█▂▃</td></tr></table><br/></div><div class=\"wandb-col\">\n",
       "<h3>Run summary:</h3><br/><table class=\"wandb\"><tr><td>accuracy</td><td>0.99063</td></tr><tr><td>best_epoch</td><td>1</td></tr><tr><td>best_val_loss</td><td>0.21954</td></tr><tr><td>epoch</td><td>9</td></tr><tr><td>loss</td><td>0.02538</td></tr><tr><td>val_accuracy</td><td>0.91286</td></tr><tr><td>val_f1</td><td>0.89641</td></tr><tr><td>val_loss</td><td>0.30866</td></tr></table>\n",
       "</div></div>\n",
       "Synced 5 W&B file(s), 1 media file(s), 0 artifact file(s) and 1 other file(s)\n",
       "<br/>Synced <strong style=\"color:#cdcd00\">young-sweep-33</strong>: <a href=\"https://wandb.ai/tripleblackcat/uncategorized/runs/kmkss2yb\" target=\"_blank\">https://wandb.ai/tripleblackcat/uncategorized/runs/kmkss2yb</a><br/>\n",
       "Find logs at: <code>./wandb/run-20211120_173253-kmkss2yb/logs</code><br/>\n"
      ],
      "text/plain": [
       "<IPython.core.display.HTML object>"
      ]
     },
     "metadata": {},
     "output_type": "display_data"
    },
    {
     "name": "stderr",
     "output_type": "stream",
     "text": [
      "\u001b[34m\u001b[1mwandb\u001b[0m: Sweep Agent: Waiting for job.\n",
      "\u001b[34m\u001b[1mwandb\u001b[0m: Job received.\n",
      "\u001b[34m\u001b[1mwandb\u001b[0m: Agent Starting Run: 5035kyrt with config:\n",
      "\u001b[34m\u001b[1mwandb\u001b[0m: \tbatch_size: 128\n",
      "\u001b[34m\u001b[1mwandb\u001b[0m: \tdropout: 0\n",
      "\u001b[34m\u001b[1mwandb\u001b[0m: \tembedding_dim: 16\n",
      "\u001b[34m\u001b[1mwandb\u001b[0m: \tepochs: 20\n",
      "\u001b[34m\u001b[1mwandb\u001b[0m: \tff_size: 64\n",
      "\u001b[34m\u001b[1mwandb\u001b[0m: \tlr: 0.0001\n",
      "\u001b[34m\u001b[1mwandb\u001b[0m: \tlstm_units: 256\n",
      "\u001b[34m\u001b[1mwandb\u001b[0m: \tmax_tokens: None\n"
     ]
    },
    {
     "data": {
      "text/html": [
       "\n",
       "                    Syncing run <strong><a href=\"https://wandb.ai/tripleblackcat/uncategorized/runs/5035kyrt\" target=\"_blank\">tough-sweep-34</a></strong> to <a href=\"https://wandb.ai/tripleblackcat/uncategorized\" target=\"_blank\">Weights & Biases</a> (<a href=\"https://docs.wandb.com/integrations/jupyter.html\" target=\"_blank\">docs</a>).<br/>\n",
       "Sweep page: <a href=\"https://wandb.ai/tripleblackcat/uncategorized/sweeps/aoizs7rc\" target=\"_blank\">https://wandb.ai/tripleblackcat/uncategorized/sweeps/aoizs7rc</a><br/>\n",
       "\n",
       "                "
      ],
      "text/plain": [
       "<IPython.core.display.HTML object>"
      ]
     },
     "metadata": {},
     "output_type": "display_data"
    },
    {
     "name": "stdout",
     "output_type": "stream",
     "text": [
      "Epoch 1/20\n",
      "134/134 [==============================] - ETA: 0s - loss: 0.6516 - accuracy: 0.5403"
     ]
    },
    {
     "name": "stderr",
     "output_type": "stream",
     "text": [
      "\u001b[34m\u001b[1mwandb\u001b[0m: \u001b[32m\u001b[41mERROR\u001b[0m Can't save model, h5py returned error: Save or restore weights that is not an instance of `tf.Variable` is not supported in h5, use `save_format='tf'` instead. Received a model or layer TextVectorization with weights [<keras.layers.preprocessing.index_lookup.VocabWeightHandler object at 0x7fd5c44e9130>]\n"
     ]
    },
    {
     "name": "stdout",
     "output_type": "stream",
     "text": [
      "134/134 [==============================] - 8s 28ms/step - loss: 0.6516 - accuracy: 0.5403 - val_loss: 0.5363 - val_accuracy: 0.6550\n",
      "Epoch 2/20\n",
      "134/134 [==============================] - 1s 10ms/step - loss: 0.4505 - accuracy: 0.7870 - val_loss: 0.4326 - val_accuracy: 0.7962\n",
      "Epoch 3/20\n",
      "134/134 [==============================] - 1s 10ms/step - loss: 0.3362 - accuracy: 0.8786 - val_loss: 0.3588 - val_accuracy: 0.8679\n",
      "Epoch 4/20\n",
      "134/134 [==============================] - 1s 9ms/step - loss: 0.2576 - accuracy: 0.9182 - val_loss: 0.3701 - val_accuracy: 0.8749\n",
      "Epoch 5/20\n",
      "134/134 [==============================] - 1s 10ms/step - loss: 0.2013 - accuracy: 0.9351 - val_loss: 0.3387 - val_accuracy: 0.8883\n",
      "Epoch 6/20\n",
      "134/134 [==============================] - 1s 10ms/step - loss: 0.1465 - accuracy: 0.9529 - val_loss: 0.4005 - val_accuracy: 0.8777\n",
      "Epoch 7/20\n",
      "134/134 [==============================] - 1s 10ms/step - loss: 0.1414 - accuracy: 0.9564 - val_loss: 0.4045 - val_accuracy: 0.8735\n",
      "Epoch 8/20\n",
      "134/134 [==============================] - 1s 10ms/step - loss: 0.1198 - accuracy: 0.9658 - val_loss: 0.4917 - val_accuracy: 0.8609\n",
      "Epoch 9/20\n",
      "134/134 [==============================] - 1s 10ms/step - loss: 0.0898 - accuracy: 0.9731 - val_loss: 0.3760 - val_accuracy: 0.8897\n",
      "Epoch 10/20\n",
      "134/134 [==============================] - 1s 9ms/step - loss: 0.0581 - accuracy: 0.9820 - val_loss: 0.4046 - val_accuracy: 0.8988\n",
      "Epoch 11/20\n",
      "134/134 [==============================] - 1s 9ms/step - loss: 0.0436 - accuracy: 0.9864 - val_loss: 0.4338 - val_accuracy: 0.9023\n",
      "Epoch 12/20\n",
      "134/134 [==============================] - 1s 9ms/step - loss: 0.0329 - accuracy: 0.9918 - val_loss: 0.5124 - val_accuracy: 0.8988\n",
      "Epoch 13/20\n",
      "134/134 [==============================] - 1s 10ms/step - loss: 0.0379 - accuracy: 0.9888 - val_loss: 0.6387 - val_accuracy: 0.8946\n",
      "Epoch 14/20\n",
      "134/134 [==============================] - 1s 10ms/step - loss: 0.0348 - accuracy: 0.9923 - val_loss: 0.4854 - val_accuracy: 0.8960\n",
      "Epoch 15/20\n",
      "134/134 [==============================] - 1s 11ms/step - loss: 0.0191 - accuracy: 0.9960 - val_loss: 0.5279 - val_accuracy: 0.8953\n",
      "Epoch 16/20\n",
      "134/134 [==============================] - 1s 10ms/step - loss: 0.0149 - accuracy: 0.9965 - val_loss: 0.6265 - val_accuracy: 0.8967\n",
      "Epoch 17/20\n",
      "134/134 [==============================] - 1s 11ms/step - loss: 0.0121 - accuracy: 0.9972 - val_loss: 0.6703 - val_accuracy: 0.8946\n",
      "Epoch 18/20\n",
      "134/134 [==============================] - 1s 11ms/step - loss: 0.0101 - accuracy: 0.9974 - val_loss: 0.7169 - val_accuracy: 0.8946\n",
      "Epoch 19/20\n",
      "134/134 [==============================] - 1s 11ms/step - loss: 0.0085 - accuracy: 0.9979 - val_loss: 0.7713 - val_accuracy: 0.8925\n",
      "Epoch 20/20\n",
      "134/134 [==============================] - 1s 10ms/step - loss: 0.0072 - accuracy: 0.9986 - val_loss: 0.8152 - val_accuracy: 0.8932\n"
     ]
    },
    {
     "data": {
      "text/html": [
       "<br/>Waiting for W&B process to finish, PID 55195... <strong style=\"color:green\">(success).</strong>"
      ],
      "text/plain": [
       "<IPython.core.display.HTML object>"
      ]
     },
     "metadata": {},
     "output_type": "display_data"
    },
    {
     "data": {
      "text/html": [
       "<style>\n",
       "    table.wandb td:nth-child(1) { padding: 0 10px; text-align: right }\n",
       "    .wandb-row { display: flex; flex-direction: row; flex-wrap: wrap; width: 100% }\n",
       "    .wandb-col { display: flex; flex-direction: column; flex-basis: 100%; flex: 1; padding: 10px; }\n",
       "    </style>\n",
       "<div class=\"wandb-row\"><div class=\"wandb-col\">\n",
       "<h3>Run history:</h3><br/><table class=\"wandb\"><tr><td>accuracy</td><td>▁▅▆▇▇▇▇▇████████████</td></tr><tr><td>epoch</td><td>▁▁▂▂▂▃▃▄▄▄▅▅▅▆▆▇▇▇██</td></tr><tr><td>loss</td><td>█▆▅▄▃▃▂▂▂▂▁▁▁▁▁▁▁▁▁▁</td></tr><tr><td>val_accuracy</td><td>▁▅▇▇█▇▇▇████████████</td></tr><tr><td>val_f1</td><td>▁</td></tr><tr><td>val_loss</td><td>▄▂▁▁▁▂▂▃▂▂▂▄▅▃▄▅▆▇▇█</td></tr></table><br/></div><div class=\"wandb-col\">\n",
       "<h3>Run summary:</h3><br/><table class=\"wandb\"><tr><td>accuracy</td><td>0.99859</td></tr><tr><td>best_epoch</td><td>4</td></tr><tr><td>best_val_loss</td><td>0.33867</td></tr><tr><td>epoch</td><td>19</td></tr><tr><td>loss</td><td>0.00721</td></tr><tr><td>val_accuracy</td><td>0.89318</td></tr><tr><td>val_f1</td><td>0.8754</td></tr><tr><td>val_loss</td><td>0.81524</td></tr></table>\n",
       "</div></div>\n",
       "Synced 5 W&B file(s), 1 media file(s), 0 artifact file(s) and 1 other file(s)\n",
       "<br/>Synced <strong style=\"color:#cdcd00\">tough-sweep-34</strong>: <a href=\"https://wandb.ai/tripleblackcat/uncategorized/runs/5035kyrt\" target=\"_blank\">https://wandb.ai/tripleblackcat/uncategorized/runs/5035kyrt</a><br/>\n",
       "Find logs at: <code>./wandb/run-20211120_173335-5035kyrt/logs</code><br/>\n"
      ],
      "text/plain": [
       "<IPython.core.display.HTML object>"
      ]
     },
     "metadata": {},
     "output_type": "display_data"
    },
    {
     "name": "stderr",
     "output_type": "stream",
     "text": [
      "\u001b[34m\u001b[1mwandb\u001b[0m: Agent Starting Run: 1ad2zozd with config:\n",
      "\u001b[34m\u001b[1mwandb\u001b[0m: \tbatch_size: 128\n",
      "\u001b[34m\u001b[1mwandb\u001b[0m: \tdropout: 0.5\n",
      "\u001b[34m\u001b[1mwandb\u001b[0m: \tembedding_dim: 64\n",
      "\u001b[34m\u001b[1mwandb\u001b[0m: \tepochs: 20\n",
      "\u001b[34m\u001b[1mwandb\u001b[0m: \tff_size: 64\n",
      "\u001b[34m\u001b[1mwandb\u001b[0m: \tlr: 0.005\n",
      "\u001b[34m\u001b[1mwandb\u001b[0m: \tlstm_units: 32\n",
      "\u001b[34m\u001b[1mwandb\u001b[0m: \tmax_tokens: 5000\n"
     ]
    },
    {
     "data": {
      "text/html": [
       "\n",
       "                    Syncing run <strong><a href=\"https://wandb.ai/tripleblackcat/uncategorized/runs/1ad2zozd\" target=\"_blank\">different-sweep-35</a></strong> to <a href=\"https://wandb.ai/tripleblackcat/uncategorized\" target=\"_blank\">Weights & Biases</a> (<a href=\"https://docs.wandb.com/integrations/jupyter.html\" target=\"_blank\">docs</a>).<br/>\n",
       "Sweep page: <a href=\"https://wandb.ai/tripleblackcat/uncategorized/sweeps/aoizs7rc\" target=\"_blank\">https://wandb.ai/tripleblackcat/uncategorized/sweeps/aoizs7rc</a><br/>\n",
       "\n",
       "                "
      ],
      "text/plain": [
       "<IPython.core.display.HTML object>"
      ]
     },
     "metadata": {},
     "output_type": "display_data"
    },
    {
     "name": "stdout",
     "output_type": "stream",
     "text": [
      "Epoch 1/20\n",
      "132/134 [============================>.] - ETA: 0s - loss: 0.3218 - accuracy: 0.8430"
     ]
    },
    {
     "name": "stderr",
     "output_type": "stream",
     "text": [
      "\u001b[34m\u001b[1mwandb\u001b[0m: \u001b[32m\u001b[41mERROR\u001b[0m Can't save model, h5py returned error: Save or restore weights that is not an instance of `tf.Variable` is not supported in h5, use `save_format='tf'` instead. Received a model or layer TextVectorization with weights [<keras.layers.preprocessing.index_lookup.VocabWeightHandler object at 0x7fd713eebe80>]\n"
     ]
    },
    {
     "name": "stdout",
     "output_type": "stream",
     "text": [
      "134/134 [==============================] - 8s 20ms/step - loss: 0.3211 - accuracy: 0.8435 - val_loss: 0.1998 - val_accuracy: 0.9157\n",
      "Epoch 2/20\n",
      "134/134 [==============================] - 1s 9ms/step - loss: 0.0924 - accuracy: 0.9670 - val_loss: 0.2346 - val_accuracy: 0.9150\n",
      "Epoch 3/20\n",
      "134/134 [==============================] - 1s 9ms/step - loss: 0.0365 - accuracy: 0.9878 - val_loss: 0.2499 - val_accuracy: 0.9100\n",
      "Epoch 4/20\n",
      "134/134 [==============================] - 1s 8ms/step - loss: 0.0242 - accuracy: 0.9913 - val_loss: 0.3116 - val_accuracy: 0.9143\n",
      "Epoch 5/20\n",
      "134/134 [==============================] - 1s 9ms/step - loss: 0.0189 - accuracy: 0.9944 - val_loss: 0.4135 - val_accuracy: 0.9030\n",
      "Epoch 6/20\n",
      "134/134 [==============================] - 1s 9ms/step - loss: 0.0055 - accuracy: 0.9979 - val_loss: 0.4435 - val_accuracy: 0.9122\n",
      "Epoch 7/20\n",
      "134/134 [==============================] - 1s 8ms/step - loss: 0.0036 - accuracy: 0.9988 - val_loss: 0.4859 - val_accuracy: 0.9115\n",
      "Epoch 8/20\n",
      "134/134 [==============================] - 1s 8ms/step - loss: 0.0013 - accuracy: 1.0000 - val_loss: 0.5595 - val_accuracy: 0.9115\n",
      "Epoch 9/20\n",
      "134/134 [==============================] - 1s 8ms/step - loss: 5.3999e-04 - accuracy: 1.0000 - val_loss: 0.5882 - val_accuracy: 0.9129\n",
      "Epoch 10/20\n",
      "134/134 [==============================] - 1s 8ms/step - loss: 5.1803e-04 - accuracy: 1.0000 - val_loss: 0.6140 - val_accuracy: 0.9100\n",
      "Epoch 11/20\n",
      "134/134 [==============================] - 1s 8ms/step - loss: 3.8857e-04 - accuracy: 1.0000 - val_loss: 0.6326 - val_accuracy: 0.9108\n",
      "Epoch 12/20\n",
      "134/134 [==============================] - 1s 8ms/step - loss: 3.3833e-04 - accuracy: 1.0000 - val_loss: 0.6487 - val_accuracy: 0.9122\n",
      "Epoch 13/20\n",
      "134/134 [==============================] - 1s 9ms/step - loss: 2.7229e-04 - accuracy: 1.0000 - val_loss: 0.6747 - val_accuracy: 0.9093\n",
      "Epoch 14/20\n",
      "134/134 [==============================] - 1s 8ms/step - loss: 2.1847e-04 - accuracy: 1.0000 - val_loss: 0.6936 - val_accuracy: 0.9100\n",
      "Epoch 15/20\n",
      "134/134 [==============================] - 1s 8ms/step - loss: 2.0959e-04 - accuracy: 1.0000 - val_loss: 0.7100 - val_accuracy: 0.9122\n",
      "Epoch 16/20\n",
      "134/134 [==============================] - 1s 8ms/step - loss: 2.1140e-04 - accuracy: 1.0000 - val_loss: 0.7283 - val_accuracy: 0.9108\n",
      "Epoch 17/20\n",
      "134/134 [==============================] - 1s 8ms/step - loss: 1.8280e-04 - accuracy: 1.0000 - val_loss: 0.7534 - val_accuracy: 0.9108\n",
      "Epoch 18/20\n",
      "134/134 [==============================] - 1s 8ms/step - loss: 1.5546e-04 - accuracy: 1.0000 - val_loss: 0.7841 - val_accuracy: 0.9086\n",
      "Epoch 19/20\n",
      "134/134 [==============================] - 1s 9ms/step - loss: 1.8930e-04 - accuracy: 1.0000 - val_loss: 0.7809 - val_accuracy: 0.9115\n",
      "Epoch 20/20\n",
      "134/134 [==============================] - 1s 8ms/step - loss: 6.9544e-05 - accuracy: 1.0000 - val_loss: 0.7994 - val_accuracy: 0.9122\n"
     ]
    },
    {
     "data": {
      "text/html": [
       "<br/>Waiting for W&B process to finish, PID 55660... <strong style=\"color:green\">(success).</strong>"
      ],
      "text/plain": [
       "<IPython.core.display.HTML object>"
      ]
     },
     "metadata": {},
     "output_type": "display_data"
    },
    {
     "data": {
      "text/html": [
       "<style>\n",
       "    table.wandb td:nth-child(1) { padding: 0 10px; text-align: right }\n",
       "    .wandb-row { display: flex; flex-direction: row; flex-wrap: wrap; width: 100% }\n",
       "    .wandb-col { display: flex; flex-direction: column; flex-basis: 100%; flex: 1; padding: 10px; }\n",
       "    </style>\n",
       "<div class=\"wandb-row\"><div class=\"wandb-col\">\n",
       "<h3>Run history:</h3><br/><table class=\"wandb\"><tr><td>accuracy</td><td>▁▇▇█████████████████</td></tr><tr><td>epoch</td><td>▁▁▂▂▂▃▃▄▄▄▅▅▅▆▆▇▇▇██</td></tr><tr><td>loss</td><td>█▃▂▂▁▁▁▁▁▁▁▁▁▁▁▁▁▁▁▁</td></tr><tr><td>val_accuracy</td><td>██▅▇▁▆▆▆▆▅▅▆▄▅▆▅▅▄▆▆</td></tr><tr><td>val_f1</td><td>▁</td></tr><tr><td>val_loss</td><td>▁▁▂▂▃▄▄▅▆▆▆▆▇▇▇▇▇███</td></tr></table><br/></div><div class=\"wandb-col\">\n",
       "<h3>Run summary:</h3><br/><table class=\"wandb\"><tr><td>accuracy</td><td>1.0</td></tr><tr><td>best_epoch</td><td>0</td></tr><tr><td>best_val_loss</td><td>0.19984</td></tr><tr><td>epoch</td><td>19</td></tr><tr><td>loss</td><td>7e-05</td></tr><tr><td>val_accuracy</td><td>0.91216</td></tr><tr><td>val_f1</td><td>0.89518</td></tr><tr><td>val_loss</td><td>0.79936</td></tr></table>\n",
       "</div></div>\n",
       "Synced 5 W&B file(s), 1 media file(s), 0 artifact file(s) and 1 other file(s)\n",
       "<br/>Synced <strong style=\"color:#cdcd00\">different-sweep-35</strong>: <a href=\"https://wandb.ai/tripleblackcat/uncategorized/runs/1ad2zozd\" target=\"_blank\">https://wandb.ai/tripleblackcat/uncategorized/runs/1ad2zozd</a><br/>\n",
       "Find logs at: <code>./wandb/run-20211120_173424-1ad2zozd/logs</code><br/>\n"
      ],
      "text/plain": [
       "<IPython.core.display.HTML object>"
      ]
     },
     "metadata": {},
     "output_type": "display_data"
    },
    {
     "name": "stderr",
     "output_type": "stream",
     "text": [
      "\u001b[34m\u001b[1mwandb\u001b[0m: Agent Starting Run: mwaxa2oo with config:\n",
      "\u001b[34m\u001b[1mwandb\u001b[0m: \tbatch_size: 256\n",
      "\u001b[34m\u001b[1mwandb\u001b[0m: \tdropout: 0\n",
      "\u001b[34m\u001b[1mwandb\u001b[0m: \tembedding_dim: 16\n",
      "\u001b[34m\u001b[1mwandb\u001b[0m: \tepochs: 40\n",
      "\u001b[34m\u001b[1mwandb\u001b[0m: \tff_size: 256\n",
      "\u001b[34m\u001b[1mwandb\u001b[0m: \tlr: 0.0001\n",
      "\u001b[34m\u001b[1mwandb\u001b[0m: \tlstm_units: 256\n",
      "\u001b[34m\u001b[1mwandb\u001b[0m: \tmax_tokens: 5000\n"
     ]
    },
    {
     "data": {
      "text/html": [
       "\n",
       "                    Syncing run <strong><a href=\"https://wandb.ai/tripleblackcat/uncategorized/runs/mwaxa2oo\" target=\"_blank\">electric-sweep-36</a></strong> to <a href=\"https://wandb.ai/tripleblackcat/uncategorized\" target=\"_blank\">Weights & Biases</a> (<a href=\"https://docs.wandb.com/integrations/jupyter.html\" target=\"_blank\">docs</a>).<br/>\n",
       "Sweep page: <a href=\"https://wandb.ai/tripleblackcat/uncategorized/sweeps/aoizs7rc\" target=\"_blank\">https://wandb.ai/tripleblackcat/uncategorized/sweeps/aoizs7rc</a><br/>\n",
       "\n",
       "                "
      ],
      "text/plain": [
       "<IPython.core.display.HTML object>"
      ]
     },
     "metadata": {},
     "output_type": "display_data"
    },
    {
     "name": "stdout",
     "output_type": "stream",
     "text": [
      "Epoch 1/40\n",
      "127/134 [===========================>..] - ETA: 0s - loss: 0.6772 - accuracy: 0.5081"
     ]
    },
    {
     "name": "stderr",
     "output_type": "stream",
     "text": [
      "\u001b[34m\u001b[1mwandb\u001b[0m: \u001b[32m\u001b[41mERROR\u001b[0m Can't save model, h5py returned error: Save or restore weights that is not an instance of `tf.Variable` is not supported in h5, use `save_format='tf'` instead. Received a model or layer TextVectorization with weights [<keras.layers.preprocessing.index_lookup.VocabWeightHandler object at 0x7fd7127a0430>]\n"
     ]
    },
    {
     "name": "stdout",
     "output_type": "stream",
     "text": [
      "134/134 [==============================] - 7s 20ms/step - loss: 0.6720 - accuracy: 0.5115 - val_loss: 0.5526 - val_accuracy: 0.6275\n",
      "Epoch 2/40\n",
      "134/134 [==============================] - 1s 9ms/step - loss: 0.4202 - accuracy: 0.8032 - val_loss: 0.3320 - val_accuracy: 0.8840\n",
      "Epoch 3/40\n",
      "134/134 [==============================] - 1s 9ms/step - loss: 0.2561 - accuracy: 0.9002 - val_loss: 0.3018 - val_accuracy: 0.8777\n",
      "Epoch 4/40\n",
      "134/134 [==============================] - 1s 10ms/step - loss: 0.1955 - accuracy: 0.9274 - val_loss: 0.2654 - val_accuracy: 0.8967\n",
      "Epoch 5/40\n",
      "134/134 [==============================] - 1s 9ms/step - loss: 0.1515 - accuracy: 0.9440 - val_loss: 0.2676 - val_accuracy: 0.9009\n",
      "Epoch 6/40\n",
      "134/134 [==============================] - 1s 9ms/step - loss: 0.1230 - accuracy: 0.9534 - val_loss: 0.3303 - val_accuracy: 0.9037\n",
      "Epoch 7/40\n",
      "134/134 [==============================] - 1s 9ms/step - loss: 0.1045 - accuracy: 0.9604 - val_loss: 0.2563 - val_accuracy: 0.8974\n",
      "Epoch 8/40\n",
      "134/134 [==============================] - 1s 9ms/step - loss: 0.0717 - accuracy: 0.9738 - val_loss: 0.3323 - val_accuracy: 0.9065\n",
      "Epoch 9/40\n",
      "134/134 [==============================] - 1s 9ms/step - loss: 0.0560 - accuracy: 0.9813 - val_loss: 0.3350 - val_accuracy: 0.9108\n",
      "Epoch 10/40\n",
      "134/134 [==============================] - 1s 9ms/step - loss: 0.0411 - accuracy: 0.9876 - val_loss: 0.4250 - val_accuracy: 0.9150\n",
      "Epoch 11/40\n",
      "134/134 [==============================] - 1s 9ms/step - loss: 0.0403 - accuracy: 0.9864 - val_loss: 0.3739 - val_accuracy: 0.9093\n",
      "Epoch 12/40\n",
      "134/134 [==============================] - 1s 9ms/step - loss: 0.0308 - accuracy: 0.9885 - val_loss: 0.3976 - val_accuracy: 0.8974\n",
      "Epoch 13/40\n",
      "134/134 [==============================] - 1s 9ms/step - loss: 0.0216 - accuracy: 0.9946 - val_loss: 0.5324 - val_accuracy: 0.9086\n",
      "Epoch 14/40\n",
      "134/134 [==============================] - 1s 10ms/step - loss: 0.0129 - accuracy: 0.9967 - val_loss: 0.5868 - val_accuracy: 0.9136\n",
      "Epoch 15/40\n",
      "134/134 [==============================] - 1s 9ms/step - loss: 0.0104 - accuracy: 0.9972 - val_loss: 0.6083 - val_accuracy: 0.9093\n",
      "Epoch 16/40\n",
      "134/134 [==============================] - 1s 9ms/step - loss: 0.0087 - accuracy: 0.9984 - val_loss: 0.6013 - val_accuracy: 0.9108\n",
      "Epoch 17/40\n",
      "134/134 [==============================] - 1s 9ms/step - loss: 0.0704 - accuracy: 0.9862 - val_loss: 0.4766 - val_accuracy: 0.9023\n",
      "Epoch 18/40\n",
      "134/134 [==============================] - 1s 8ms/step - loss: 0.0188 - accuracy: 0.9948 - val_loss: 0.4577 - val_accuracy: 0.9129\n",
      "Epoch 19/40\n",
      "134/134 [==============================] - 1s 9ms/step - loss: 0.0099 - accuracy: 0.9981 - val_loss: 0.5018 - val_accuracy: 0.9150\n",
      "Epoch 20/40\n",
      "134/134 [==============================] - 1s 9ms/step - loss: 0.0074 - accuracy: 0.9986 - val_loss: 0.5444 - val_accuracy: 0.9122\n",
      "Epoch 21/40\n",
      "134/134 [==============================] - 1s 9ms/step - loss: 0.0061 - accuracy: 0.9991 - val_loss: 0.5896 - val_accuracy: 0.9129\n",
      "Epoch 22/40\n",
      "134/134 [==============================] - 1s 9ms/step - loss: 0.0051 - accuracy: 0.9993 - val_loss: 0.6248 - val_accuracy: 0.9108\n",
      "Epoch 23/40\n",
      "134/134 [==============================] - 1s 9ms/step - loss: 0.0044 - accuracy: 0.9993 - val_loss: 0.6615 - val_accuracy: 0.9093\n",
      "Epoch 24/40\n",
      "134/134 [==============================] - 1s 9ms/step - loss: 0.0041 - accuracy: 0.9995 - val_loss: 0.6683 - val_accuracy: 0.9093\n",
      "Epoch 25/40\n",
      "134/134 [==============================] - 1s 9ms/step - loss: 0.0035 - accuracy: 0.9995 - val_loss: 0.7066 - val_accuracy: 0.9100\n",
      "Epoch 26/40\n",
      "134/134 [==============================] - 1s 9ms/step - loss: 0.0420 - accuracy: 0.9920 - val_loss: 0.3676 - val_accuracy: 0.8981\n",
      "Epoch 27/40\n",
      "134/134 [==============================] - 1s 9ms/step - loss: 0.0206 - accuracy: 0.9955 - val_loss: 0.3965 - val_accuracy: 0.9086\n",
      "Epoch 28/40\n",
      "134/134 [==============================] - 1s 9ms/step - loss: 0.0058 - accuracy: 0.9991 - val_loss: 0.4485 - val_accuracy: 0.9072\n",
      "Epoch 29/40\n",
      "134/134 [==============================] - 1s 9ms/step - loss: 0.0045 - accuracy: 0.9991 - val_loss: 0.4749 - val_accuracy: 0.9072\n",
      "Epoch 30/40\n",
      "134/134 [==============================] - 1s 9ms/step - loss: 0.0037 - accuracy: 0.9993 - val_loss: 0.5190 - val_accuracy: 0.9072\n",
      "Epoch 31/40\n",
      "134/134 [==============================] - 1s 9ms/step - loss: 0.0032 - accuracy: 0.9993 - val_loss: 0.5506 - val_accuracy: 0.9058\n",
      "Epoch 32/40\n",
      "134/134 [==============================] - 1s 9ms/step - loss: 0.0029 - accuracy: 0.9993 - val_loss: 0.5772 - val_accuracy: 0.9065\n",
      "Epoch 33/40\n",
      "134/134 [==============================] - 1s 9ms/step - loss: 0.0026 - accuracy: 0.9993 - val_loss: 0.5980 - val_accuracy: 0.9051\n",
      "Epoch 34/40\n",
      "134/134 [==============================] - 1s 9ms/step - loss: 0.0024 - accuracy: 0.9993 - val_loss: 0.6186 - val_accuracy: 0.9058\n",
      "Epoch 35/40\n",
      "134/134 [==============================] - 1s 8ms/step - loss: 0.0022 - accuracy: 0.9993 - val_loss: 0.6442 - val_accuracy: 0.9058\n",
      "Epoch 36/40\n",
      "134/134 [==============================] - 1s 9ms/step - loss: 0.0020 - accuracy: 0.9993 - val_loss: 0.6734 - val_accuracy: 0.9044\n",
      "Epoch 37/40\n",
      "134/134 [==============================] - 1s 9ms/step - loss: 0.0019 - accuracy: 0.9993 - val_loss: 0.6901 - val_accuracy: 0.9051\n",
      "Epoch 38/40\n",
      "134/134 [==============================] - 1s 8ms/step - loss: 0.0018 - accuracy: 0.9993 - val_loss: 0.7106 - val_accuracy: 0.9051\n",
      "Epoch 39/40\n",
      "134/134 [==============================] - 1s 9ms/step - loss: 0.0017 - accuracy: 1.0000 - val_loss: 0.7324 - val_accuracy: 0.9051\n",
      "Epoch 40/40\n",
      "134/134 [==============================] - 1s 9ms/step - loss: 0.0016 - accuracy: 1.0000 - val_loss: 0.7524 - val_accuracy: 0.9037\n"
     ]
    },
    {
     "data": {
      "text/html": [
       "<br/>Waiting for W&B process to finish, PID 56082... <strong style=\"color:green\">(success).</strong>"
      ],
      "text/plain": [
       "<IPython.core.display.HTML object>"
      ]
     },
     "metadata": {},
     "output_type": "display_data"
    },
    {
     "data": {
      "text/html": [
       "<style>\n",
       "    table.wandb td:nth-child(1) { padding: 0 10px; text-align: right }\n",
       "    .wandb-row { display: flex; flex-direction: row; flex-wrap: wrap; width: 100% }\n",
       "    .wandb-col { display: flex; flex-direction: column; flex-basis: 100%; flex: 1; padding: 10px; }\n",
       "    </style>\n",
       "<div class=\"wandb-row\"><div class=\"wandb-col\">\n",
       "<h3>Run history:</h3><br/><table class=\"wandb\"><tr><td>accuracy</td><td>▁▅▇▇▇▇▇█████████████████████████████████</td></tr><tr><td>epoch</td><td>▁▁▁▂▂▂▂▂▂▃▃▃▃▃▄▄▄▄▄▄▅▅▅▅▅▅▆▆▆▆▆▇▇▇▇▇▇███</td></tr><tr><td>loss</td><td>█▅▄▃▃▂▂▂▂▁▁▁▁▁▁▁▂▁▁▁▁▁▁▁▁▁▁▁▁▁▁▁▁▁▁▁▁▁▁▁</td></tr><tr><td>val_accuracy</td><td>▁▇▇█████████████████████████████████████</td></tr><tr><td>val_f1</td><td>▁</td></tr><tr><td>val_loss</td><td>▅▂▂▁▁▂▁▂▂▃▃▃▅▆▆▆▄▄▄▅▆▆▇▇▇▃▃▄▄▅▅▆▆▆▆▇▇▇██</td></tr></table><br/></div><div class=\"wandb-col\">\n",
       "<h3>Run summary:</h3><br/><table class=\"wandb\"><tr><td>accuracy</td><td>1.0</td></tr><tr><td>best_epoch</td><td>6</td></tr><tr><td>best_val_loss</td><td>0.25633</td></tr><tr><td>epoch</td><td>39</td></tr><tr><td>loss</td><td>0.00158</td></tr><tr><td>val_accuracy</td><td>0.90372</td></tr><tr><td>val_f1</td><td>0.89555</td></tr><tr><td>val_loss</td><td>0.75239</td></tr></table>\n",
       "</div></div>\n",
       "Synced 5 W&B file(s), 1 media file(s), 0 artifact file(s) and 1 other file(s)\n",
       "<br/>Synced <strong style=\"color:#cdcd00\">electric-sweep-36</strong>: <a href=\"https://wandb.ai/tripleblackcat/uncategorized/runs/mwaxa2oo\" target=\"_blank\">https://wandb.ai/tripleblackcat/uncategorized/runs/mwaxa2oo</a><br/>\n",
       "Find logs at: <code>./wandb/run-20211120_173507-mwaxa2oo/logs</code><br/>\n"
      ],
      "text/plain": [
       "<IPython.core.display.HTML object>"
      ]
     },
     "metadata": {},
     "output_type": "display_data"
    },
    {
     "name": "stderr",
     "output_type": "stream",
     "text": [
      "\u001b[34m\u001b[1mwandb\u001b[0m: Agent Starting Run: g0jyfpjz with config:\n",
      "\u001b[34m\u001b[1mwandb\u001b[0m: \tbatch_size: 256\n",
      "\u001b[34m\u001b[1mwandb\u001b[0m: \tdropout: 0.5\n",
      "\u001b[34m\u001b[1mwandb\u001b[0m: \tembedding_dim: 32\n",
      "\u001b[34m\u001b[1mwandb\u001b[0m: \tepochs: 10\n",
      "\u001b[34m\u001b[1mwandb\u001b[0m: \tff_size: 64\n",
      "\u001b[34m\u001b[1mwandb\u001b[0m: \tlr: 0.005\n",
      "\u001b[34m\u001b[1mwandb\u001b[0m: \tlstm_units: 32\n",
      "\u001b[34m\u001b[1mwandb\u001b[0m: \tmax_tokens: 5000\n"
     ]
    },
    {
     "data": {
      "text/html": [
       "\n",
       "                    Syncing run <strong><a href=\"https://wandb.ai/tripleblackcat/uncategorized/runs/g0jyfpjz\" target=\"_blank\">bumbling-sweep-37</a></strong> to <a href=\"https://wandb.ai/tripleblackcat/uncategorized\" target=\"_blank\">Weights & Biases</a> (<a href=\"https://docs.wandb.com/integrations/jupyter.html\" target=\"_blank\">docs</a>).<br/>\n",
       "Sweep page: <a href=\"https://wandb.ai/tripleblackcat/uncategorized/sweeps/aoizs7rc\" target=\"_blank\">https://wandb.ai/tripleblackcat/uncategorized/sweeps/aoizs7rc</a><br/>\n",
       "\n",
       "                "
      ],
      "text/plain": [
       "<IPython.core.display.HTML object>"
      ]
     },
     "metadata": {},
     "output_type": "display_data"
    },
    {
     "name": "stdout",
     "output_type": "stream",
     "text": [
      "Epoch 1/10\n",
      "134/134 [==============================] - ETA: 0s - loss: 0.3306 - accuracy: 0.8393"
     ]
    },
    {
     "name": "stderr",
     "output_type": "stream",
     "text": [
      "\u001b[34m\u001b[1mwandb\u001b[0m: \u001b[32m\u001b[41mERROR\u001b[0m Can't save model, h5py returned error: Save or restore weights that is not an instance of `tf.Variable` is not supported in h5, use `save_format='tf'` instead. Received a model or layer TextVectorization with weights [<keras.layers.preprocessing.index_lookup.VocabWeightHandler object at 0x7fd614413b50>]\n"
     ]
    },
    {
     "name": "stdout",
     "output_type": "stream",
     "text": [
      "134/134 [==============================] - 6s 19ms/step - loss: 0.3306 - accuracy: 0.8393 - val_loss: 0.2191 - val_accuracy: 0.9171\n",
      "Epoch 2/10\n",
      "134/134 [==============================] - 1s 8ms/step - loss: 0.0848 - accuracy: 0.9705 - val_loss: 0.2425 - val_accuracy: 0.9079\n",
      "Epoch 3/10\n",
      "134/134 [==============================] - 1s 8ms/step - loss: 0.0318 - accuracy: 0.9890 - val_loss: 0.3329 - val_accuracy: 0.9030\n",
      "Epoch 4/10\n",
      "134/134 [==============================] - 1s 9ms/step - loss: 0.0134 - accuracy: 0.9955 - val_loss: 0.4125 - val_accuracy: 0.9143\n",
      "Epoch 5/10\n",
      "134/134 [==============================] - 1s 8ms/step - loss: 0.0089 - accuracy: 0.9974 - val_loss: 0.4665 - val_accuracy: 0.9023\n",
      "Epoch 6/10\n",
      "134/134 [==============================] - 1s 9ms/step - loss: 0.0130 - accuracy: 0.9960 - val_loss: 0.4862 - val_accuracy: 0.8939\n",
      "Epoch 7/10\n",
      "134/134 [==============================] - 1s 9ms/step - loss: 0.0195 - accuracy: 0.9934 - val_loss: 0.5349 - val_accuracy: 0.9044\n",
      "Epoch 8/10\n",
      "134/134 [==============================] - 1s 9ms/step - loss: 0.0160 - accuracy: 0.9937 - val_loss: 0.4781 - val_accuracy: 0.9058\n",
      "Epoch 9/10\n",
      "134/134 [==============================] - 1s 9ms/step - loss: 0.0139 - accuracy: 0.9958 - val_loss: 0.5545 - val_accuracy: 0.9002\n",
      "Epoch 10/10\n",
      "134/134 [==============================] - 1s 9ms/step - loss: 0.0094 - accuracy: 0.9970 - val_loss: 0.5579 - val_accuracy: 0.8911\n"
     ]
    },
    {
     "data": {
      "text/html": [
       "<br/>Waiting for W&B process to finish, PID 56810... <strong style=\"color:green\">(success).</strong>"
      ],
      "text/plain": [
       "<IPython.core.display.HTML object>"
      ]
     },
     "metadata": {},
     "output_type": "display_data"
    },
    {
     "data": {
      "text/html": [
       "<style>\n",
       "    table.wandb td:nth-child(1) { padding: 0 10px; text-align: right }\n",
       "    .wandb-row { display: flex; flex-direction: row; flex-wrap: wrap; width: 100% }\n",
       "    .wandb-col { display: flex; flex-direction: column; flex-basis: 100%; flex: 1; padding: 10px; }\n",
       "    </style>\n",
       "<div class=\"wandb-row\"><div class=\"wandb-col\">\n",
       "<h3>Run history:</h3><br/><table class=\"wandb\"><tr><td>accuracy</td><td>▁▇████████</td></tr><tr><td>epoch</td><td>▁▂▃▃▄▅▆▆▇█</td></tr><tr><td>loss</td><td>█▃▁▁▁▁▁▁▁▁</td></tr><tr><td>val_accuracy</td><td>█▆▄▇▄▂▅▅▃▁</td></tr><tr><td>val_f1</td><td>▁</td></tr><tr><td>val_loss</td><td>▁▁▃▅▆▇█▆██</td></tr></table><br/></div><div class=\"wandb-col\">\n",
       "<h3>Run summary:</h3><br/><table class=\"wandb\"><tr><td>accuracy</td><td>0.99695</td></tr><tr><td>best_epoch</td><td>0</td></tr><tr><td>best_val_loss</td><td>0.21914</td></tr><tr><td>epoch</td><td>9</td></tr><tr><td>loss</td><td>0.00942</td></tr><tr><td>val_accuracy</td><td>0.89108</td></tr><tr><td>val_f1</td><td>0.88754</td></tr><tr><td>val_loss</td><td>0.55793</td></tr></table>\n",
       "</div></div>\n",
       "Synced 5 W&B file(s), 1 media file(s), 0 artifact file(s) and 1 other file(s)\n",
       "<br/>Synced <strong style=\"color:#cdcd00\">bumbling-sweep-37</strong>: <a href=\"https://wandb.ai/tripleblackcat/uncategorized/runs/g0jyfpjz\" target=\"_blank\">https://wandb.ai/tripleblackcat/uncategorized/runs/g0jyfpjz</a><br/>\n",
       "Find logs at: <code>./wandb/run-20211120_173616-g0jyfpjz/logs</code><br/>\n"
      ],
      "text/plain": [
       "<IPython.core.display.HTML object>"
      ]
     },
     "metadata": {},
     "output_type": "display_data"
    },
    {
     "name": "stderr",
     "output_type": "stream",
     "text": [
      "\u001b[34m\u001b[1mwandb\u001b[0m: Agent Starting Run: m7li92r6 with config:\n",
      "\u001b[34m\u001b[1mwandb\u001b[0m: \tbatch_size: 64\n",
      "\u001b[34m\u001b[1mwandb\u001b[0m: \tdropout: 0\n",
      "\u001b[34m\u001b[1mwandb\u001b[0m: \tembedding_dim: 64\n",
      "\u001b[34m\u001b[1mwandb\u001b[0m: \tepochs: 20\n",
      "\u001b[34m\u001b[1mwandb\u001b[0m: \tff_size: 256\n",
      "\u001b[34m\u001b[1mwandb\u001b[0m: \tlr: 0.005\n",
      "\u001b[34m\u001b[1mwandb\u001b[0m: \tlstm_units: 32\n",
      "\u001b[34m\u001b[1mwandb\u001b[0m: \tmax_tokens: None\n"
     ]
    },
    {
     "data": {
      "text/html": [
       "\n",
       "                    Syncing run <strong><a href=\"https://wandb.ai/tripleblackcat/uncategorized/runs/m7li92r6\" target=\"_blank\">scarlet-sweep-38</a></strong> to <a href=\"https://wandb.ai/tripleblackcat/uncategorized\" target=\"_blank\">Weights & Biases</a> (<a href=\"https://docs.wandb.com/integrations/jupyter.html\" target=\"_blank\">docs</a>).<br/>\n",
       "Sweep page: <a href=\"https://wandb.ai/tripleblackcat/uncategorized/sweeps/aoizs7rc\" target=\"_blank\">https://wandb.ai/tripleblackcat/uncategorized/sweeps/aoizs7rc</a><br/>\n",
       "\n",
       "                "
      ],
      "text/plain": [
       "<IPython.core.display.HTML object>"
      ]
     },
     "metadata": {},
     "output_type": "display_data"
    },
    {
     "name": "stdout",
     "output_type": "stream",
     "text": [
      "Epoch 1/20\n",
      "129/134 [===========================>..] - ETA: 0s - loss: 0.2973 - accuracy: 0.8578"
     ]
    },
    {
     "name": "stderr",
     "output_type": "stream",
     "text": [
      "\u001b[34m\u001b[1mwandb\u001b[0m: \u001b[32m\u001b[41mERROR\u001b[0m Can't save model, h5py returned error: Save or restore weights that is not an instance of `tf.Variable` is not supported in h5, use `save_format='tf'` instead. Received a model or layer TextVectorization with weights [<keras.layers.preprocessing.index_lookup.VocabWeightHandler object at 0x7fd7140fa940>]\n"
     ]
    },
    {
     "name": "stdout",
     "output_type": "stream",
     "text": [
      "134/134 [==============================] - 8s 30ms/step - loss: 0.2961 - accuracy: 0.8582 - val_loss: 0.2024 - val_accuracy: 0.9108\n",
      "Epoch 2/20\n",
      "134/134 [==============================] - 1s 8ms/step - loss: 0.0504 - accuracy: 0.9808 - val_loss: 0.2300 - val_accuracy: 0.9164\n",
      "Epoch 3/20\n",
      "134/134 [==============================] - 1s 10ms/step - loss: 0.0066 - accuracy: 0.9977 - val_loss: 0.3550 - val_accuracy: 0.9171\n",
      "Epoch 4/20\n",
      "134/134 [==============================] - 1s 10ms/step - loss: 0.0094 - accuracy: 0.9967 - val_loss: 0.3434 - val_accuracy: 0.9093\n",
      "Epoch 5/20\n",
      "134/134 [==============================] - 1s 9ms/step - loss: 0.0031 - accuracy: 0.9991 - val_loss: 0.4476 - val_accuracy: 0.9093\n",
      "Epoch 6/20\n",
      "134/134 [==============================] - 1s 9ms/step - loss: 0.0028 - accuracy: 0.9993 - val_loss: 0.4687 - val_accuracy: 0.9065\n",
      "Epoch 7/20\n",
      "134/134 [==============================] - 1s 9ms/step - loss: 0.0363 - accuracy: 0.9897 - val_loss: 0.3186 - val_accuracy: 0.9072\n",
      "Epoch 8/20\n",
      "134/134 [==============================] - 1s 9ms/step - loss: 0.0168 - accuracy: 0.9937 - val_loss: 0.3595 - val_accuracy: 0.9086\n",
      "Epoch 9/20\n",
      "134/134 [==============================] - 1s 9ms/step - loss: 0.0085 - accuracy: 0.9974 - val_loss: 0.5053 - val_accuracy: 0.9079\n",
      "Epoch 10/20\n",
      "134/134 [==============================] - 1s 9ms/step - loss: 0.0088 - accuracy: 0.9967 - val_loss: 0.5073 - val_accuracy: 0.9157\n",
      "Epoch 11/20\n",
      "134/134 [==============================] - 1s 8ms/step - loss: 0.0041 - accuracy: 0.9981 - val_loss: 0.6019 - val_accuracy: 0.9115\n",
      "Epoch 12/20\n",
      "134/134 [==============================] - 1s 9ms/step - loss: 0.0013 - accuracy: 0.9998 - val_loss: 0.6414 - val_accuracy: 0.9115\n",
      "Epoch 13/20\n",
      "134/134 [==============================] - 1s 10ms/step - loss: 3.1194e-04 - accuracy: 1.0000 - val_loss: 0.6483 - val_accuracy: 0.9143\n",
      "Epoch 14/20\n",
      "134/134 [==============================] - 1s 10ms/step - loss: 2.5885e-04 - accuracy: 1.0000 - val_loss: 0.6747 - val_accuracy: 0.9108\n",
      "Epoch 15/20\n",
      "134/134 [==============================] - 1s 11ms/step - loss: 2.2541e-04 - accuracy: 1.0000 - val_loss: 0.6855 - val_accuracy: 0.9143\n",
      "Epoch 16/20\n",
      "134/134 [==============================] - 1s 10ms/step - loss: 1.9231e-04 - accuracy: 1.0000 - val_loss: 0.7019 - val_accuracy: 0.9143\n",
      "Epoch 17/20\n",
      "134/134 [==============================] - 1s 8ms/step - loss: 1.6532e-04 - accuracy: 1.0000 - val_loss: 0.7189 - val_accuracy: 0.9143\n",
      "Epoch 18/20\n",
      "134/134 [==============================] - 1s 9ms/step - loss: 1.4313e-04 - accuracy: 1.0000 - val_loss: 0.7331 - val_accuracy: 0.9136\n",
      "Epoch 19/20\n",
      "134/134 [==============================] - 1s 9ms/step - loss: 1.1982e-04 - accuracy: 1.0000 - val_loss: 0.7488 - val_accuracy: 0.9136\n",
      "Epoch 20/20\n",
      "134/134 [==============================] - 1s 8ms/step - loss: 1.0175e-04 - accuracy: 1.0000 - val_loss: 0.7670 - val_accuracy: 0.9143\n"
     ]
    },
    {
     "data": {
      "text/html": [
       "<br/>Waiting for W&B process to finish, PID 57076... <strong style=\"color:green\">(success).</strong>"
      ],
      "text/plain": [
       "<IPython.core.display.HTML object>"
      ]
     },
     "metadata": {},
     "output_type": "display_data"
    },
    {
     "data": {
      "text/html": [
       "<style>\n",
       "    table.wandb td:nth-child(1) { padding: 0 10px; text-align: right }\n",
       "    .wandb-row { display: flex; flex-direction: row; flex-wrap: wrap; width: 100% }\n",
       "    .wandb-col { display: flex; flex-direction: column; flex-basis: 100%; flex: 1; padding: 10px; }\n",
       "    </style>\n",
       "<div class=\"wandb-row\"><div class=\"wandb-col\">\n",
       "<h3>Run history:</h3><br/><table class=\"wandb\"><tr><td>accuracy</td><td>▁▇████▇█████████████</td></tr><tr><td>epoch</td><td>▁▁▂▂▂▃▃▄▄▄▅▅▅▆▆▇▇▇██</td></tr><tr><td>loss</td><td>█▂▁▁▁▁▂▁▁▁▁▁▁▁▁▁▁▁▁▁</td></tr><tr><td>val_accuracy</td><td>▄██▃▃▁▁▂▂▇▄▄▆▄▆▆▆▆▆▆</td></tr><tr><td>val_f1</td><td>▁</td></tr><tr><td>val_loss</td><td>▁▁▃▃▄▄▂▃▅▅▆▆▇▇▇▇▇███</td></tr></table><br/></div><div class=\"wandb-col\">\n",
       "<h3>Run summary:</h3><br/><table class=\"wandb\"><tr><td>accuracy</td><td>1.0</td></tr><tr><td>best_epoch</td><td>0</td></tr><tr><td>best_val_loss</td><td>0.20241</td></tr><tr><td>epoch</td><td>19</td></tr><tr><td>loss</td><td>0.0001</td></tr><tr><td>val_accuracy</td><td>0.91427</td></tr><tr><td>val_f1</td><td>0.89109</td></tr><tr><td>val_loss</td><td>0.76701</td></tr></table>\n",
       "</div></div>\n",
       "Synced 5 W&B file(s), 1 media file(s), 0 artifact file(s) and 1 other file(s)\n",
       "<br/>Synced <strong style=\"color:#cdcd00\">scarlet-sweep-38</strong>: <a href=\"https://wandb.ai/tripleblackcat/uncategorized/runs/m7li92r6\" target=\"_blank\">https://wandb.ai/tripleblackcat/uncategorized/runs/m7li92r6</a><br/>\n",
       "Find logs at: <code>./wandb/run-20211120_173648-m7li92r6/logs</code><br/>\n"
      ],
      "text/plain": [
       "<IPython.core.display.HTML object>"
      ]
     },
     "metadata": {},
     "output_type": "display_data"
    },
    {
     "name": "stderr",
     "output_type": "stream",
     "text": [
      "\u001b[34m\u001b[1mwandb\u001b[0m: Sweep Agent: Waiting for job.\n",
      "\u001b[34m\u001b[1mwandb\u001b[0m: Job received.\n",
      "\u001b[34m\u001b[1mwandb\u001b[0m: Agent Starting Run: onwf1kgr with config:\n",
      "\u001b[34m\u001b[1mwandb\u001b[0m: \tbatch_size: 256\n",
      "\u001b[34m\u001b[1mwandb\u001b[0m: \tdropout: 0.5\n",
      "\u001b[34m\u001b[1mwandb\u001b[0m: \tembedding_dim: 64\n",
      "\u001b[34m\u001b[1mwandb\u001b[0m: \tepochs: 40\n",
      "\u001b[34m\u001b[1mwandb\u001b[0m: \tff_size: 64\n",
      "\u001b[34m\u001b[1mwandb\u001b[0m: \tlr: 0.0001\n",
      "\u001b[34m\u001b[1mwandb\u001b[0m: \tlstm_units: 32\n",
      "\u001b[34m\u001b[1mwandb\u001b[0m: \tmax_tokens: 1000\n"
     ]
    },
    {
     "data": {
      "text/html": [
       "\n",
       "                    Syncing run <strong><a href=\"https://wandb.ai/tripleblackcat/uncategorized/runs/onwf1kgr\" target=\"_blank\">dazzling-sweep-39</a></strong> to <a href=\"https://wandb.ai/tripleblackcat/uncategorized\" target=\"_blank\">Weights & Biases</a> (<a href=\"https://docs.wandb.com/integrations/jupyter.html\" target=\"_blank\">docs</a>).<br/>\n",
       "Sweep page: <a href=\"https://wandb.ai/tripleblackcat/uncategorized/sweeps/aoizs7rc\" target=\"_blank\">https://wandb.ai/tripleblackcat/uncategorized/sweeps/aoizs7rc</a><br/>\n",
       "\n",
       "                "
      ],
      "text/plain": [
       "<IPython.core.display.HTML object>"
      ]
     },
     "metadata": {},
     "output_type": "display_data"
    },
    {
     "name": "stdout",
     "output_type": "stream",
     "text": [
      "Epoch 1/40\n",
      "134/134 [==============================] - ETA: 0s - loss: 0.6899 - accuracy: 0.5056"
     ]
    },
    {
     "name": "stderr",
     "output_type": "stream",
     "text": [
      "\u001b[34m\u001b[1mwandb\u001b[0m: \u001b[32m\u001b[41mERROR\u001b[0m Can't save model, h5py returned error: Save or restore weights that is not an instance of `tf.Variable` is not supported in h5, use `save_format='tf'` instead. Received a model or layer TextVectorization with weights [<keras.layers.preprocessing.index_lookup.VocabWeightHandler object at 0x7fd712720430>]\n"
     ]
    },
    {
     "name": "stdout",
     "output_type": "stream",
     "text": [
      "134/134 [==============================] - 9s 23ms/step - loss: 0.6899 - accuracy: 0.5056 - val_loss: 0.6844 - val_accuracy: 0.4891\n",
      "Epoch 2/40\n",
      "134/134 [==============================] - 1s 10ms/step - loss: 0.6643 - accuracy: 0.5059 - val_loss: 0.6208 - val_accuracy: 0.4940\n",
      "Epoch 3/40\n",
      "134/134 [==============================] - 1s 11ms/step - loss: 0.4652 - accuracy: 0.7418 - val_loss: 0.3293 - val_accuracy: 0.8770\n",
      "Epoch 4/40\n",
      "134/134 [==============================] - 2s 12ms/step - loss: 0.2858 - accuracy: 0.8847 - val_loss: 0.2694 - val_accuracy: 0.8918\n",
      "Epoch 5/40\n",
      "134/134 [==============================] - 2s 12ms/step - loss: 0.2414 - accuracy: 0.9077 - val_loss: 0.2622 - val_accuracy: 0.9002\n",
      "Epoch 6/40\n",
      "134/134 [==============================] - 1s 11ms/step - loss: 0.2058 - accuracy: 0.9210 - val_loss: 0.2517 - val_accuracy: 0.9009\n",
      "Epoch 7/40\n",
      "134/134 [==============================] - 1s 10ms/step - loss: 0.1954 - accuracy: 0.9304 - val_loss: 0.2646 - val_accuracy: 0.9044\n",
      "Epoch 8/40\n",
      "134/134 [==============================] - 2s 11ms/step - loss: 0.1729 - accuracy: 0.9372 - val_loss: 0.2552 - val_accuracy: 0.9086\n",
      "Epoch 9/40\n",
      "134/134 [==============================] - 2s 11ms/step - loss: 0.1646 - accuracy: 0.9414 - val_loss: 0.2503 - val_accuracy: 0.9093\n",
      "Epoch 10/40\n",
      "134/134 [==============================] - 1s 11ms/step - loss: 0.1502 - accuracy: 0.9438 - val_loss: 0.2615 - val_accuracy: 0.9093\n",
      "Epoch 11/40\n",
      "134/134 [==============================] - 2s 11ms/step - loss: 0.1419 - accuracy: 0.9475 - val_loss: 0.2798 - val_accuracy: 0.9086\n",
      "Epoch 12/40\n",
      "134/134 [==============================] - 1s 10ms/step - loss: 0.1337 - accuracy: 0.9555 - val_loss: 0.2935 - val_accuracy: 0.9093\n",
      "Epoch 13/40\n",
      "134/134 [==============================] - 1s 10ms/step - loss: 0.1231 - accuracy: 0.9576 - val_loss: 0.2823 - val_accuracy: 0.9079\n",
      "Epoch 14/40\n",
      "134/134 [==============================] - 1s 11ms/step - loss: 0.1182 - accuracy: 0.9613 - val_loss: 0.2979 - val_accuracy: 0.9108\n",
      "Epoch 15/40\n",
      "134/134 [==============================] - 1s 11ms/step - loss: 0.1140 - accuracy: 0.9604 - val_loss: 0.3033 - val_accuracy: 0.9079\n",
      "Epoch 16/40\n",
      "134/134 [==============================] - 2s 11ms/step - loss: 0.1087 - accuracy: 0.9639 - val_loss: 0.3057 - val_accuracy: 0.9079\n",
      "Epoch 17/40\n",
      "134/134 [==============================] - 1s 10ms/step - loss: 0.1046 - accuracy: 0.9656 - val_loss: 0.3199 - val_accuracy: 0.9086\n",
      "Epoch 18/40\n",
      "134/134 [==============================] - 1s 10ms/step - loss: 0.0957 - accuracy: 0.9681 - val_loss: 0.3288 - val_accuracy: 0.9115\n",
      "Epoch 19/40\n",
      "134/134 [==============================] - 2s 12ms/step - loss: 0.0918 - accuracy: 0.9724 - val_loss: 0.3333 - val_accuracy: 0.9086\n",
      "Epoch 20/40\n",
      "134/134 [==============================] - 2s 12ms/step - loss: 0.0888 - accuracy: 0.9719 - val_loss: 0.3405 - val_accuracy: 0.9037\n",
      "Epoch 21/40\n",
      "134/134 [==============================] - 1s 11ms/step - loss: 0.0858 - accuracy: 0.9733 - val_loss: 0.3703 - val_accuracy: 0.9079\n",
      "Epoch 22/40\n",
      "134/134 [==============================] - 1s 10ms/step - loss: 0.0891 - accuracy: 0.9735 - val_loss: 0.3665 - val_accuracy: 0.9009\n",
      "Epoch 23/40\n",
      "134/134 [==============================] - 1s 11ms/step - loss: 0.0854 - accuracy: 0.9728 - val_loss: 0.3638 - val_accuracy: 0.9023\n",
      "Epoch 24/40\n",
      "134/134 [==============================] - 1s 11ms/step - loss: 0.0749 - accuracy: 0.9766 - val_loss: 0.3838 - val_accuracy: 0.9030\n",
      "Epoch 25/40\n",
      "134/134 [==============================] - 1s 11ms/step - loss: 0.0734 - accuracy: 0.9770 - val_loss: 0.3954 - val_accuracy: 0.9030\n",
      "Epoch 26/40\n",
      "134/134 [==============================] - 1s 11ms/step - loss: 0.0688 - accuracy: 0.9799 - val_loss: 0.4284 - val_accuracy: 0.9009\n",
      "Epoch 27/40\n",
      "134/134 [==============================] - 1s 11ms/step - loss: 0.0670 - accuracy: 0.9815 - val_loss: 0.4322 - val_accuracy: 0.9009\n",
      "Epoch 28/40\n",
      "134/134 [==============================] - 1s 10ms/step - loss: 0.0667 - accuracy: 0.9803 - val_loss: 0.4243 - val_accuracy: 0.8946\n",
      "Epoch 29/40\n",
      "134/134 [==============================] - 1s 11ms/step - loss: 0.0577 - accuracy: 0.9808 - val_loss: 0.4347 - val_accuracy: 0.8939\n",
      "Epoch 30/40\n",
      "134/134 [==============================] - 1s 11ms/step - loss: 0.0582 - accuracy: 0.9834 - val_loss: 0.4498 - val_accuracy: 0.8960\n",
      "Epoch 31/40\n",
      "134/134 [==============================] - 2s 11ms/step - loss: 0.0550 - accuracy: 0.9817 - val_loss: 0.4664 - val_accuracy: 0.8960\n",
      "Epoch 32/40\n",
      "134/134 [==============================] - 1s 10ms/step - loss: 0.0547 - accuracy: 0.9841 - val_loss: 0.4809 - val_accuracy: 0.8925\n",
      "Epoch 33/40\n",
      "134/134 [==============================] - 1s 11ms/step - loss: 0.0489 - accuracy: 0.9859 - val_loss: 0.4812 - val_accuracy: 0.8939\n",
      "Epoch 34/40\n",
      "134/134 [==============================] - 1s 10ms/step - loss: 0.0473 - accuracy: 0.9878 - val_loss: 0.5078 - val_accuracy: 0.8939\n",
      "Epoch 35/40\n",
      "134/134 [==============================] - 2s 12ms/step - loss: 0.0460 - accuracy: 0.9866 - val_loss: 0.5159 - val_accuracy: 0.8911\n",
      "Epoch 36/40\n",
      "134/134 [==============================] - 1s 10ms/step - loss: 0.0459 - accuracy: 0.9869 - val_loss: 0.5222 - val_accuracy: 0.8939\n",
      "Epoch 37/40\n",
      "134/134 [==============================] - 1s 11ms/step - loss: 0.0460 - accuracy: 0.9871 - val_loss: 0.5259 - val_accuracy: 0.8939\n",
      "Epoch 38/40\n",
      "134/134 [==============================] - 1s 10ms/step - loss: 0.0438 - accuracy: 0.9883 - val_loss: 0.5428 - val_accuracy: 0.8911\n",
      "Epoch 39/40\n",
      "134/134 [==============================] - 1s 10ms/step - loss: 0.0426 - accuracy: 0.9890 - val_loss: 0.5486 - val_accuracy: 0.8918\n",
      "Epoch 40/40\n",
      "134/134 [==============================] - 1s 11ms/step - loss: 0.0398 - accuracy: 0.9904 - val_loss: 0.5673 - val_accuracy: 0.8925\n"
     ]
    },
    {
     "data": {
      "text/html": [
       "<br/>Waiting for W&B process to finish, PID 57533... <strong style=\"color:green\">(success).</strong>"
      ],
      "text/plain": [
       "<IPython.core.display.HTML object>"
      ]
     },
     "metadata": {},
     "output_type": "display_data"
    },
    {
     "data": {
      "text/html": [
       "<style>\n",
       "    table.wandb td:nth-child(1) { padding: 0 10px; text-align: right }\n",
       "    .wandb-row { display: flex; flex-direction: row; flex-wrap: wrap; width: 100% }\n",
       "    .wandb-col { display: flex; flex-direction: column; flex-basis: 100%; flex: 1; padding: 10px; }\n",
       "    </style>\n",
       "<div class=\"wandb-row\"><div class=\"wandb-col\">\n",
       "<h3>Run history:</h3><br/><table class=\"wandb\"><tr><td>accuracy</td><td>▁▁▄▆▇▇▇▇▇▇▇▇████████████████████████████</td></tr><tr><td>epoch</td><td>▁▁▁▂▂▂▂▂▂▃▃▃▃▃▄▄▄▄▄▄▅▅▅▅▅▅▆▆▆▆▆▇▇▇▇▇▇███</td></tr><tr><td>loss</td><td>██▆▄▃▃▃▂▂▂▂▂▂▂▂▂▂▂▂▂▁▂▁▁▁▁▁▁▁▁▁▁▁▁▁▁▁▁▁▁</td></tr><tr><td>val_accuracy</td><td>▁▁▇█████████████████████████████████████</td></tr><tr><td>val_f1</td><td>▁</td></tr><tr><td>val_loss</td><td>█▇▂▁▁▁▁▁▁▁▁▂▂▂▂▂▂▂▂▂▃▃▃▃▃▄▄▄▄▄▄▅▅▅▅▅▅▆▆▆</td></tr></table><br/></div><div class=\"wandb-col\">\n",
       "<h3>Run summary:</h3><br/><table class=\"wandb\"><tr><td>accuracy</td><td>0.99039</td></tr><tr><td>best_epoch</td><td>8</td></tr><tr><td>best_val_loss</td><td>0.25034</td></tr><tr><td>epoch</td><td>39</td></tr><tr><td>loss</td><td>0.03977</td></tr><tr><td>val_accuracy</td><td>0.89248</td></tr><tr><td>val_f1</td><td>0.88125</td></tr><tr><td>val_loss</td><td>0.56735</td></tr></table>\n",
       "</div></div>\n",
       "Synced 5 W&B file(s), 1 media file(s), 0 artifact file(s) and 1 other file(s)\n",
       "<br/>Synced <strong style=\"color:#cdcd00\">dazzling-sweep-39</strong>: <a href=\"https://wandb.ai/tripleblackcat/uncategorized/runs/onwf1kgr\" target=\"_blank\">https://wandb.ai/tripleblackcat/uncategorized/runs/onwf1kgr</a><br/>\n",
       "Find logs at: <code>./wandb/run-20211120_173740-onwf1kgr/logs</code><br/>\n"
      ],
      "text/plain": [
       "<IPython.core.display.HTML object>"
      ]
     },
     "metadata": {},
     "output_type": "display_data"
    },
    {
     "name": "stderr",
     "output_type": "stream",
     "text": [
      "\u001b[34m\u001b[1mwandb\u001b[0m: Sweep Agent: Waiting for job.\n",
      "\u001b[34m\u001b[1mwandb\u001b[0m: Job received.\n",
      "\u001b[34m\u001b[1mwandb\u001b[0m: Agent Starting Run: wxnwkghd with config:\n",
      "\u001b[34m\u001b[1mwandb\u001b[0m: \tbatch_size: 256\n",
      "\u001b[34m\u001b[1mwandb\u001b[0m: \tdropout: 0.5\n",
      "\u001b[34m\u001b[1mwandb\u001b[0m: \tembedding_dim: 256\n",
      "\u001b[34m\u001b[1mwandb\u001b[0m: \tepochs: 40\n",
      "\u001b[34m\u001b[1mwandb\u001b[0m: \tff_size: 256\n",
      "\u001b[34m\u001b[1mwandb\u001b[0m: \tlr: 0.005\n",
      "\u001b[34m\u001b[1mwandb\u001b[0m: \tlstm_units: 32\n",
      "\u001b[34m\u001b[1mwandb\u001b[0m: \tmax_tokens: 5000\n"
     ]
    },
    {
     "data": {
      "text/html": [
       "\n",
       "                    Syncing run <strong><a href=\"https://wandb.ai/tripleblackcat/uncategorized/runs/wxnwkghd\" target=\"_blank\">leafy-sweep-40</a></strong> to <a href=\"https://wandb.ai/tripleblackcat/uncategorized\" target=\"_blank\">Weights & Biases</a> (<a href=\"https://docs.wandb.com/integrations/jupyter.html\" target=\"_blank\">docs</a>).<br/>\n",
       "Sweep page: <a href=\"https://wandb.ai/tripleblackcat/uncategorized/sweeps/aoizs7rc\" target=\"_blank\">https://wandb.ai/tripleblackcat/uncategorized/sweeps/aoizs7rc</a><br/>\n",
       "\n",
       "                "
      ],
      "text/plain": [
       "<IPython.core.display.HTML object>"
      ]
     },
     "metadata": {},
     "output_type": "display_data"
    },
    {
     "name": "stdout",
     "output_type": "stream",
     "text": [
      "Epoch 1/40\n",
      "131/134 [============================>.] - ETA: 0s - loss: 0.3151 - accuracy: 0.8573"
     ]
    },
    {
     "name": "stderr",
     "output_type": "stream",
     "text": [
      "\u001b[34m\u001b[1mwandb\u001b[0m: \u001b[32m\u001b[41mERROR\u001b[0m Can't save model, h5py returned error: Save or restore weights that is not an instance of `tf.Variable` is not supported in h5, use `save_format='tf'` instead. Received a model or layer TextVectorization with weights [<keras.layers.preprocessing.index_lookup.VocabWeightHandler object at 0x7fd5f478efd0>]\n"
     ]
    },
    {
     "name": "stdout",
     "output_type": "stream",
     "text": [
      "134/134 [==============================] - 10s 27ms/step - loss: 0.3156 - accuracy: 0.8573 - val_loss: 0.2128 - val_accuracy: 0.9044\n",
      "Epoch 2/40\n",
      "134/134 [==============================] - 2s 11ms/step - loss: 0.0728 - accuracy: 0.9733 - val_loss: 0.2842 - val_accuracy: 0.9115\n",
      "Epoch 3/40\n",
      "134/134 [==============================] - 2s 13ms/step - loss: 0.0242 - accuracy: 0.9913 - val_loss: 0.4080 - val_accuracy: 0.8911\n",
      "Epoch 4/40\n",
      "134/134 [==============================] - 1s 11ms/step - loss: 0.0277 - accuracy: 0.9902 - val_loss: 0.4138 - val_accuracy: 0.8953\n",
      "Epoch 5/40\n",
      "134/134 [==============================] - 1s 11ms/step - loss: 0.0094 - accuracy: 0.9970 - val_loss: 0.6201 - val_accuracy: 0.8883\n",
      "Epoch 6/40\n",
      "134/134 [==============================] - 1s 11ms/step - loss: 0.0070 - accuracy: 0.9981 - val_loss: 0.6749 - val_accuracy: 0.9058\n",
      "Epoch 7/40\n",
      "134/134 [==============================] - 1s 11ms/step - loss: 0.0065 - accuracy: 0.9984 - val_loss: 0.5696 - val_accuracy: 0.9072\n",
      "Epoch 8/40\n",
      "134/134 [==============================] - 1s 11ms/step - loss: 0.0076 - accuracy: 0.9974 - val_loss: 0.6927 - val_accuracy: 0.8890\n",
      "Epoch 9/40\n",
      "134/134 [==============================] - 2s 11ms/step - loss: 0.0115 - accuracy: 0.9951 - val_loss: 0.7484 - val_accuracy: 0.8826\n",
      "Epoch 10/40\n",
      "134/134 [==============================] - 2s 13ms/step - loss: 0.0153 - accuracy: 0.9955 - val_loss: 0.5456 - val_accuracy: 0.8932\n",
      "Epoch 11/40\n",
      "134/134 [==============================] - 2s 12ms/step - loss: 0.0078 - accuracy: 0.9979 - val_loss: 0.6416 - val_accuracy: 0.9023\n",
      "Epoch 12/40\n",
      "134/134 [==============================] - 2s 12ms/step - loss: 0.0044 - accuracy: 0.9984 - val_loss: 0.6051 - val_accuracy: 0.9044\n",
      "Epoch 13/40\n",
      "134/134 [==============================] - 2s 11ms/step - loss: 0.0059 - accuracy: 0.9979 - val_loss: 0.7216 - val_accuracy: 0.8904\n",
      "Epoch 14/40\n",
      "134/134 [==============================] - 1s 11ms/step - loss: 0.0165 - accuracy: 0.9963 - val_loss: 0.5603 - val_accuracy: 0.9086\n",
      "Epoch 15/40\n",
      "134/134 [==============================] - 2s 12ms/step - loss: 0.0036 - accuracy: 0.9988 - val_loss: 0.8064 - val_accuracy: 0.9072\n",
      "Epoch 16/40\n",
      "134/134 [==============================] - 1s 10ms/step - loss: 0.0019 - accuracy: 0.9998 - val_loss: 0.8682 - val_accuracy: 0.9072\n",
      "Epoch 17/40\n",
      "134/134 [==============================] - 1s 11ms/step - loss: 0.0023 - accuracy: 0.9993 - val_loss: 0.8772 - val_accuracy: 0.9009\n",
      "Epoch 18/40\n",
      "134/134 [==============================] - 1s 11ms/step - loss: 0.0014 - accuracy: 0.9995 - val_loss: 1.1154 - val_accuracy: 0.9037\n",
      "Epoch 19/40\n",
      "134/134 [==============================] - 2s 12ms/step - loss: 2.0287e-04 - accuracy: 1.0000 - val_loss: 1.0790 - val_accuracy: 0.9072\n",
      "Epoch 20/40\n",
      "134/134 [==============================] - 2s 12ms/step - loss: 3.0672e-04 - accuracy: 1.0000 - val_loss: 1.0919 - val_accuracy: 0.9086\n",
      "Epoch 21/40\n",
      "134/134 [==============================] - 1s 10ms/step - loss: 1.6386e-04 - accuracy: 1.0000 - val_loss: 1.0945 - val_accuracy: 0.9079\n",
      "Epoch 22/40\n",
      "134/134 [==============================] - 1s 11ms/step - loss: 1.4539e-04 - accuracy: 1.0000 - val_loss: 1.1001 - val_accuracy: 0.9065\n",
      "Epoch 23/40\n",
      "134/134 [==============================] - 1s 11ms/step - loss: 1.0322e-04 - accuracy: 1.0000 - val_loss: 1.1079 - val_accuracy: 0.9065\n",
      "Epoch 24/40\n",
      "134/134 [==============================] - 2s 11ms/step - loss: 1.1460e-04 - accuracy: 1.0000 - val_loss: 1.1437 - val_accuracy: 0.9086\n",
      "Epoch 25/40\n",
      "134/134 [==============================] - 1s 11ms/step - loss: 9.3631e-05 - accuracy: 1.0000 - val_loss: 1.1503 - val_accuracy: 0.9093\n",
      "Epoch 26/40\n",
      "134/134 [==============================] - 1s 10ms/step - loss: 9.0661e-05 - accuracy: 1.0000 - val_loss: 1.1572 - val_accuracy: 0.9093\n",
      "Epoch 27/40\n",
      "134/134 [==============================] - 1s 11ms/step - loss: 6.9202e-05 - accuracy: 1.0000 - val_loss: 1.1705 - val_accuracy: 0.9093\n",
      "Epoch 28/40\n",
      "134/134 [==============================] - 1s 11ms/step - loss: 6.5613e-05 - accuracy: 1.0000 - val_loss: 1.1771 - val_accuracy: 0.9086\n",
      "Epoch 29/40\n",
      "134/134 [==============================] - 1s 11ms/step - loss: 6.8048e-05 - accuracy: 1.0000 - val_loss: 1.1837 - val_accuracy: 0.9079\n",
      "Epoch 30/40\n",
      "134/134 [==============================] - 1s 11ms/step - loss: 4.8742e-05 - accuracy: 1.0000 - val_loss: 1.1942 - val_accuracy: 0.9065\n",
      "Epoch 31/40\n",
      "134/134 [==============================] - 2s 11ms/step - loss: 3.8582e-05 - accuracy: 1.0000 - val_loss: 1.2005 - val_accuracy: 0.9065\n",
      "Epoch 32/40\n",
      "134/134 [==============================] - 1s 10ms/step - loss: 3.8268e-05 - accuracy: 1.0000 - val_loss: 1.2066 - val_accuracy: 0.9072\n",
      "Epoch 33/40\n",
      "134/134 [==============================] - 1s 11ms/step - loss: 2.0863e-05 - accuracy: 1.0000 - val_loss: 1.2120 - val_accuracy: 0.9072\n",
      "Epoch 34/40\n",
      "134/134 [==============================] - 2s 11ms/step - loss: 3.1060e-05 - accuracy: 1.0000 - val_loss: 1.2185 - val_accuracy: 0.9072\n",
      "Epoch 35/40\n",
      "134/134 [==============================] - 1s 11ms/step - loss: 2.5311e-05 - accuracy: 1.0000 - val_loss: 1.2276 - val_accuracy: 0.9072\n",
      "Epoch 36/40\n",
      "134/134 [==============================] - 1s 11ms/step - loss: 3.9207e-05 - accuracy: 1.0000 - val_loss: 1.2353 - val_accuracy: 0.9072\n",
      "Epoch 37/40\n",
      "134/134 [==============================] - 1s 11ms/step - loss: 2.4626e-05 - accuracy: 1.0000 - val_loss: 1.2415 - val_accuracy: 0.9086\n",
      "Epoch 38/40\n",
      "134/134 [==============================] - 1s 11ms/step - loss: 2.5980e-05 - accuracy: 1.0000 - val_loss: 1.2495 - val_accuracy: 0.9086\n",
      "Epoch 39/40\n",
      "134/134 [==============================] - 2s 12ms/step - loss: 2.3390e-05 - accuracy: 1.0000 - val_loss: 1.2569 - val_accuracy: 0.9086\n",
      "Epoch 40/40\n",
      "134/134 [==============================] - 1s 10ms/step - loss: 1.5403e-05 - accuracy: 1.0000 - val_loss: 1.2673 - val_accuracy: 0.9086\n"
     ]
    },
    {
     "data": {
      "text/html": [
       "<br/>Waiting for W&B process to finish, PID 58270... <strong style=\"color:green\">(success).</strong>"
      ],
      "text/plain": [
       "<IPython.core.display.HTML object>"
      ]
     },
     "metadata": {},
     "output_type": "display_data"
    },
    {
     "data": {
      "text/html": [
       "<style>\n",
       "    table.wandb td:nth-child(1) { padding: 0 10px; text-align: right }\n",
       "    .wandb-row { display: flex; flex-direction: row; flex-wrap: wrap; width: 100% }\n",
       "    .wandb-col { display: flex; flex-direction: column; flex-basis: 100%; flex: 1; padding: 10px; }\n",
       "    </style>\n",
       "<div class=\"wandb-row\"><div class=\"wandb-col\">\n",
       "<h3>Run history:</h3><br/><table class=\"wandb\"><tr><td>accuracy</td><td>▁▇██████████████████████████████████████</td></tr><tr><td>epoch</td><td>▁▁▁▂▂▂▂▂▂▃▃▃▃▃▄▄▄▄▄▄▅▅▅▅▅▅▆▆▆▆▆▇▇▇▇▇▇███</td></tr><tr><td>loss</td><td>█▃▂▂▁▁▁▁▁▁▁▁▁▁▁▁▁▁▁▁▁▁▁▁▁▁▁▁▁▁▁▁▁▁▁▁▁▁▁▁</td></tr><tr><td>val_accuracy</td><td>▆█▃▄▂▇▇▃▁▄▆▆▃▇▇▇▅▆▇▇▇▇▇▇▇▇▇▇▇▇▇▇▇▇▇▇▇▇▇▇</td></tr><tr><td>val_f1</td><td>▁</td></tr><tr><td>val_loss</td><td>▁▁▂▂▄▄▃▄▅▃▄▄▄▃▅▅▅▇▇▇▇▇▇▇▇▇▇▇▇███████████</td></tr></table><br/></div><div class=\"wandb-col\">\n",
       "<h3>Run summary:</h3><br/><table class=\"wandb\"><tr><td>accuracy</td><td>1.0</td></tr><tr><td>best_epoch</td><td>0</td></tr><tr><td>best_val_loss</td><td>0.21277</td></tr><tr><td>epoch</td><td>39</td></tr><tr><td>loss</td><td>2e-05</td></tr><tr><td>val_accuracy</td><td>0.90864</td></tr><tr><td>val_f1</td><td>0.89071</td></tr><tr><td>val_loss</td><td>1.26735</td></tr></table>\n",
       "</div></div>\n",
       "Synced 5 W&B file(s), 1 media file(s), 0 artifact file(s) and 1 other file(s)\n",
       "<br/>Synced <strong style=\"color:#cdcd00\">leafy-sweep-40</strong>: <a href=\"https://wandb.ai/tripleblackcat/uncategorized/runs/wxnwkghd\" target=\"_blank\">https://wandb.ai/tripleblackcat/uncategorized/runs/wxnwkghd</a><br/>\n",
       "Find logs at: <code>./wandb/run-20211120_173911-wxnwkghd/logs</code><br/>\n"
      ],
      "text/plain": [
       "<IPython.core.display.HTML object>"
      ]
     },
     "metadata": {},
     "output_type": "display_data"
    },
    {
     "name": "stderr",
     "output_type": "stream",
     "text": [
      "\u001b[34m\u001b[1mwandb\u001b[0m: Agent Starting Run: sd6z36vc with config:\n",
      "\u001b[34m\u001b[1mwandb\u001b[0m: \tbatch_size: 256\n",
      "\u001b[34m\u001b[1mwandb\u001b[0m: \tdropout: 0.5\n",
      "\u001b[34m\u001b[1mwandb\u001b[0m: \tembedding_dim: 64\n",
      "\u001b[34m\u001b[1mwandb\u001b[0m: \tepochs: 10\n",
      "\u001b[34m\u001b[1mwandb\u001b[0m: \tff_size: 128\n",
      "\u001b[34m\u001b[1mwandb\u001b[0m: \tlr: 0.005\n",
      "\u001b[34m\u001b[1mwandb\u001b[0m: \tlstm_units: 64\n",
      "\u001b[34m\u001b[1mwandb\u001b[0m: \tmax_tokens: 100\n"
     ]
    },
    {
     "data": {
      "text/html": [
       "\n",
       "                    Syncing run <strong><a href=\"https://wandb.ai/tripleblackcat/uncategorized/runs/sd6z36vc\" target=\"_blank\">ruby-sweep-41</a></strong> to <a href=\"https://wandb.ai/tripleblackcat/uncategorized\" target=\"_blank\">Weights & Biases</a> (<a href=\"https://docs.wandb.com/integrations/jupyter.html\" target=\"_blank\">docs</a>).<br/>\n",
       "Sweep page: <a href=\"https://wandb.ai/tripleblackcat/uncategorized/sweeps/aoizs7rc\" target=\"_blank\">https://wandb.ai/tripleblackcat/uncategorized/sweeps/aoizs7rc</a><br/>\n",
       "\n",
       "                "
      ],
      "text/plain": [
       "<IPython.core.display.HTML object>"
      ]
     },
     "metadata": {},
     "output_type": "display_data"
    },
    {
     "name": "stdout",
     "output_type": "stream",
     "text": [
      "Epoch 1/10\n",
      "132/134 [============================>.] - ETA: 0s - loss: 0.4307 - accuracy: 0.7810"
     ]
    },
    {
     "name": "stderr",
     "output_type": "stream",
     "text": [
      "\u001b[34m\u001b[1mwandb\u001b[0m: \u001b[32m\u001b[41mERROR\u001b[0m Can't save model, h5py returned error: Save or restore weights that is not an instance of `tf.Variable` is not supported in h5, use `save_format='tf'` instead. Received a model or layer TextVectorization with weights [<keras.layers.preprocessing.index_lookup.VocabWeightHandler object at 0x7fd71457e100>]\n"
     ]
    },
    {
     "name": "stdout",
     "output_type": "stream",
     "text": [
      "134/134 [==============================] - 10s 35ms/step - loss: 0.4313 - accuracy: 0.7802 - val_loss: 0.3184 - val_accuracy: 0.8602\n",
      "Epoch 2/10\n",
      "134/134 [==============================] - 2s 12ms/step - loss: 0.3345 - accuracy: 0.8451 - val_loss: 0.2922 - val_accuracy: 0.8644\n",
      "Epoch 3/10\n",
      "134/134 [==============================] - 2s 11ms/step - loss: 0.3061 - accuracy: 0.8611 - val_loss: 0.2935 - val_accuracy: 0.8749\n",
      "Epoch 4/10\n",
      "134/134 [==============================] - 1s 11ms/step - loss: 0.2904 - accuracy: 0.8714 - val_loss: 0.2792 - val_accuracy: 0.8826\n",
      "Epoch 5/10\n",
      "134/134 [==============================] - 1s 11ms/step - loss: 0.2655 - accuracy: 0.8859 - val_loss: 0.3299 - val_accuracy: 0.8566\n",
      "Epoch 6/10\n",
      "134/134 [==============================] - 1s 11ms/step - loss: 0.2665 - accuracy: 0.8833 - val_loss: 0.3065 - val_accuracy: 0.8651\n",
      "Epoch 7/10\n",
      "134/134 [==============================] - 2s 11ms/step - loss: 0.2458 - accuracy: 0.8915 - val_loss: 0.2970 - val_accuracy: 0.8749\n",
      "Epoch 8/10\n",
      "134/134 [==============================] - 1s 10ms/step - loss: 0.2339 - accuracy: 0.8976 - val_loss: 0.2917 - val_accuracy: 0.8883\n",
      "Epoch 9/10\n",
      "134/134 [==============================] - 2s 12ms/step - loss: 0.2154 - accuracy: 0.9030 - val_loss: 0.3195 - val_accuracy: 0.8840\n",
      "Epoch 10/10\n",
      "134/134 [==============================] - 1s 10ms/step - loss: 0.1835 - accuracy: 0.9210 - val_loss: 0.3241 - val_accuracy: 0.8798\n"
     ]
    },
    {
     "data": {
      "text/html": [
       "<br/>Waiting for W&B process to finish, PID 59013... <strong style=\"color:green\">(success).</strong>"
      ],
      "text/plain": [
       "<IPython.core.display.HTML object>"
      ]
     },
     "metadata": {},
     "output_type": "display_data"
    },
    {
     "data": {
      "text/html": [
       "<style>\n",
       "    table.wandb td:nth-child(1) { padding: 0 10px; text-align: right }\n",
       "    .wandb-row { display: flex; flex-direction: row; flex-wrap: wrap; width: 100% }\n",
       "    .wandb-col { display: flex; flex-direction: column; flex-basis: 100%; flex: 1; padding: 10px; }\n",
       "    </style>\n",
       "<div class=\"wandb-row\"><div class=\"wandb-col\">\n",
       "<h3>Run history:</h3><br/><table class=\"wandb\"><tr><td>accuracy</td><td>▁▄▅▆▆▆▇▇▇█</td></tr><tr><td>epoch</td><td>▁▂▃▃▄▅▆▆▇█</td></tr><tr><td>loss</td><td>█▅▄▄▃▃▃▂▂▁</td></tr><tr><td>val_accuracy</td><td>▂▃▅▇▁▃▅█▇▆</td></tr><tr><td>val_f1</td><td>▁</td></tr><tr><td>val_loss</td><td>▆▃▃▁█▅▃▃▇▇</td></tr></table><br/></div><div class=\"wandb-col\">\n",
       "<h3>Run summary:</h3><br/><table class=\"wandb\"><tr><td>accuracy</td><td>0.92104</td></tr><tr><td>best_epoch</td><td>3</td></tr><tr><td>best_val_loss</td><td>0.27916</td></tr><tr><td>epoch</td><td>9</td></tr><tr><td>loss</td><td>0.18349</td></tr><tr><td>val_accuracy</td><td>0.87983</td></tr><tr><td>val_f1</td><td>0.8697</td></tr><tr><td>val_loss</td><td>0.32407</td></tr></table>\n",
       "</div></div>\n",
       "Synced 5 W&B file(s), 1 media file(s), 0 artifact file(s) and 1 other file(s)\n",
       "<br/>Synced <strong style=\"color:#cdcd00\">ruby-sweep-41</strong>: <a href=\"https://wandb.ai/tripleblackcat/uncategorized/runs/sd6z36vc\" target=\"_blank\">https://wandb.ai/tripleblackcat/uncategorized/runs/sd6z36vc</a><br/>\n",
       "Find logs at: <code>./wandb/run-20211120_174036-sd6z36vc/logs</code><br/>\n"
      ],
      "text/plain": [
       "<IPython.core.display.HTML object>"
      ]
     },
     "metadata": {},
     "output_type": "display_data"
    },
    {
     "name": "stderr",
     "output_type": "stream",
     "text": [
      "\u001b[34m\u001b[1mwandb\u001b[0m: Agent Starting Run: 3c6b5rdq with config:\n",
      "\u001b[34m\u001b[1mwandb\u001b[0m: \tbatch_size: 64\n",
      "\u001b[34m\u001b[1mwandb\u001b[0m: \tdropout: 0\n",
      "\u001b[34m\u001b[1mwandb\u001b[0m: \tembedding_dim: 64\n",
      "\u001b[34m\u001b[1mwandb\u001b[0m: \tepochs: 10\n",
      "\u001b[34m\u001b[1mwandb\u001b[0m: \tff_size: 256\n",
      "\u001b[34m\u001b[1mwandb\u001b[0m: \tlr: 0.0001\n",
      "\u001b[34m\u001b[1mwandb\u001b[0m: \tlstm_units: 16\n",
      "\u001b[34m\u001b[1mwandb\u001b[0m: \tmax_tokens: 100\n"
     ]
    },
    {
     "data": {
      "text/html": [
       "\n",
       "                    Syncing run <strong><a href=\"https://wandb.ai/tripleblackcat/uncategorized/runs/3c6b5rdq\" target=\"_blank\">prime-sweep-42</a></strong> to <a href=\"https://wandb.ai/tripleblackcat/uncategorized\" target=\"_blank\">Weights & Biases</a> (<a href=\"https://docs.wandb.com/integrations/jupyter.html\" target=\"_blank\">docs</a>).<br/>\n",
       "Sweep page: <a href=\"https://wandb.ai/tripleblackcat/uncategorized/sweeps/aoizs7rc\" target=\"_blank\">https://wandb.ai/tripleblackcat/uncategorized/sweeps/aoizs7rc</a><br/>\n",
       "\n",
       "                "
      ],
      "text/plain": [
       "<IPython.core.display.HTML object>"
      ]
     },
     "metadata": {},
     "output_type": "display_data"
    },
    {
     "name": "stdout",
     "output_type": "stream",
     "text": [
      "Epoch 1/10\n",
      "133/134 [============================>.] - ETA: 0s - loss: 0.6888 - accuracy: 0.5061"
     ]
    },
    {
     "name": "stderr",
     "output_type": "stream",
     "text": [
      "\u001b[34m\u001b[1mwandb\u001b[0m: \u001b[32m\u001b[41mERROR\u001b[0m Can't save model, h5py returned error: Save or restore weights that is not an instance of `tf.Variable` is not supported in h5, use `save_format='tf'` instead. Received a model or layer TextVectorization with weights [<keras.layers.preprocessing.index_lookup.VocabWeightHandler object at 0x7fd713cf70a0>]\n"
     ]
    },
    {
     "name": "stdout",
     "output_type": "stream",
     "text": [
      "134/134 [==============================] - 9s 24ms/step - loss: 0.6888 - accuracy: 0.5056 - val_loss: 0.6796 - val_accuracy: 0.4891\n",
      "Epoch 2/10\n",
      "134/134 [==============================] - 1s 11ms/step - loss: 0.6467 - accuracy: 0.5166 - val_loss: 0.5804 - val_accuracy: 0.6177\n",
      "Epoch 3/10\n",
      "134/134 [==============================] - 1s 10ms/step - loss: 0.4710 - accuracy: 0.7701 - val_loss: 0.3756 - val_accuracy: 0.8173\n",
      "Epoch 4/10\n",
      "134/134 [==============================] - 2s 13ms/step - loss: 0.3661 - accuracy: 0.8358 - val_loss: 0.3363 - val_accuracy: 0.8538\n",
      "Epoch 5/10\n",
      "134/134 [==============================] - 1s 11ms/step - loss: 0.3481 - accuracy: 0.8463 - val_loss: 0.3252 - val_accuracy: 0.8587\n",
      "Epoch 6/10\n",
      "134/134 [==============================] - 1s 10ms/step - loss: 0.3387 - accuracy: 0.8496 - val_loss: 0.3238 - val_accuracy: 0.8468\n",
      "Epoch 7/10\n",
      "134/134 [==============================] - 2s 11ms/step - loss: 0.3312 - accuracy: 0.8486 - val_loss: 0.3155 - val_accuracy: 0.8552\n",
      "Epoch 8/10\n",
      "134/134 [==============================] - 1s 11ms/step - loss: 0.3267 - accuracy: 0.8519 - val_loss: 0.3120 - val_accuracy: 0.8573\n",
      "Epoch 9/10\n",
      "134/134 [==============================] - 1s 11ms/step - loss: 0.3226 - accuracy: 0.8536 - val_loss: 0.3117 - val_accuracy: 0.8665\n",
      "Epoch 10/10\n",
      "134/134 [==============================] - 1s 10ms/step - loss: 0.3198 - accuracy: 0.8557 - val_loss: 0.3080 - val_accuracy: 0.8679\n"
     ]
    },
    {
     "data": {
      "text/html": [
       "<br/>Waiting for W&B process to finish, PID 59298... <strong style=\"color:green\">(success).</strong>"
      ],
      "text/plain": [
       "<IPython.core.display.HTML object>"
      ]
     },
     "metadata": {},
     "output_type": "display_data"
    },
    {
     "data": {
      "text/html": [
       "<style>\n",
       "    table.wandb td:nth-child(1) { padding: 0 10px; text-align: right }\n",
       "    .wandb-row { display: flex; flex-direction: row; flex-wrap: wrap; width: 100% }\n",
       "    .wandb-col { display: flex; flex-direction: column; flex-basis: 100%; flex: 1; padding: 10px; }\n",
       "    </style>\n",
       "<div class=\"wandb-row\"><div class=\"wandb-col\">\n",
       "<h3>Run history:</h3><br/><table class=\"wandb\"><tr><td>accuracy</td><td>▁▁▆███████</td></tr><tr><td>epoch</td><td>▁▂▃▃▄▅▆▆▇█</td></tr><tr><td>loss</td><td>█▇▄▂▂▁▁▁▁▁</td></tr><tr><td>val_accuracy</td><td>▁▃▇███████</td></tr><tr><td>val_f1</td><td>▁</td></tr><tr><td>val_loss</td><td>█▆▂▂▁▁▁▁▁▁</td></tr></table><br/></div><div class=\"wandb-col\">\n",
       "<h3>Run summary:</h3><br/><table class=\"wandb\"><tr><td>accuracy</td><td>0.85567</td></tr><tr><td>best_epoch</td><td>9</td></tr><tr><td>best_val_loss</td><td>0.30797</td></tr><tr><td>epoch</td><td>9</td></tr><tr><td>loss</td><td>0.31984</td></tr><tr><td>val_accuracy</td><td>0.86788</td></tr><tr><td>val_f1</td><td>0.84128</td></tr><tr><td>val_loss</td><td>0.30797</td></tr></table>\n",
       "</div></div>\n",
       "Synced 5 W&B file(s), 1 media file(s), 0 artifact file(s) and 1 other file(s)\n",
       "<br/>Synced <strong style=\"color:#cdcd00\">prime-sweep-42</strong>: <a href=\"https://wandb.ai/tripleblackcat/uncategorized/runs/3c6b5rdq\" target=\"_blank\">https://wandb.ai/tripleblackcat/uncategorized/runs/3c6b5rdq</a><br/>\n",
       "Find logs at: <code>./wandb/run-20211120_174113-3c6b5rdq/logs</code><br/>\n"
      ],
      "text/plain": [
       "<IPython.core.display.HTML object>"
      ]
     },
     "metadata": {},
     "output_type": "display_data"
    },
    {
     "name": "stderr",
     "output_type": "stream",
     "text": [
      "\u001b[34m\u001b[1mwandb\u001b[0m: Agent Starting Run: 8n8ylr3f with config:\n",
      "\u001b[34m\u001b[1mwandb\u001b[0m: \tbatch_size: 256\n",
      "\u001b[34m\u001b[1mwandb\u001b[0m: \tdropout: 0\n",
      "\u001b[34m\u001b[1mwandb\u001b[0m: \tembedding_dim: 256\n",
      "\u001b[34m\u001b[1mwandb\u001b[0m: \tepochs: 20\n",
      "\u001b[34m\u001b[1mwandb\u001b[0m: \tff_size: 128\n",
      "\u001b[34m\u001b[1mwandb\u001b[0m: \tlr: 0.001\n",
      "\u001b[34m\u001b[1mwandb\u001b[0m: \tlstm_units: 16\n",
      "\u001b[34m\u001b[1mwandb\u001b[0m: \tmax_tokens: 100\n"
     ]
    },
    {
     "data": {
      "text/html": [
       "\n",
       "                    Syncing run <strong><a href=\"https://wandb.ai/tripleblackcat/uncategorized/runs/8n8ylr3f\" target=\"_blank\">apricot-sweep-43</a></strong> to <a href=\"https://wandb.ai/tripleblackcat/uncategorized\" target=\"_blank\">Weights & Biases</a> (<a href=\"https://docs.wandb.com/integrations/jupyter.html\" target=\"_blank\">docs</a>).<br/>\n",
       "Sweep page: <a href=\"https://wandb.ai/tripleblackcat/uncategorized/sweeps/aoizs7rc\" target=\"_blank\">https://wandb.ai/tripleblackcat/uncategorized/sweeps/aoizs7rc</a><br/>\n",
       "\n",
       "                "
      ],
      "text/plain": [
       "<IPython.core.display.HTML object>"
      ]
     },
     "metadata": {},
     "output_type": "display_data"
    },
    {
     "name": "stdout",
     "output_type": "stream",
     "text": [
      "Epoch 1/20\n",
      "132/134 [============================>.] - ETA: 0s - loss: 0.4671 - accuracy: 0.7280"
     ]
    },
    {
     "name": "stderr",
     "output_type": "stream",
     "text": [
      "\u001b[34m\u001b[1mwandb\u001b[0m: \u001b[32m\u001b[41mERROR\u001b[0m Can't save model, h5py returned error: Save or restore weights that is not an instance of `tf.Variable` is not supported in h5, use `save_format='tf'` instead. Received a model or layer TextVectorization with weights [<keras.layers.preprocessing.index_lookup.VocabWeightHandler object at 0x7fd713672070>]\n"
     ]
    },
    {
     "name": "stdout",
     "output_type": "stream",
     "text": [
      "134/134 [==============================] - 9s 24ms/step - loss: 0.4658 - accuracy: 0.7289 - val_loss: 0.3454 - val_accuracy: 0.8609\n",
      "Epoch 2/20\n",
      "134/134 [==============================] - 2s 11ms/step - loss: 0.3321 - accuracy: 0.8456 - val_loss: 0.2951 - val_accuracy: 0.8819\n",
      "Epoch 3/20\n",
      "134/134 [==============================] - 1s 11ms/step - loss: 0.3093 - accuracy: 0.8573 - val_loss: 0.2820 - val_accuracy: 0.8798\n",
      "Epoch 4/20\n",
      "134/134 [==============================] - 1s 11ms/step - loss: 0.2884 - accuracy: 0.8672 - val_loss: 0.3220 - val_accuracy: 0.8503\n",
      "Epoch 5/20\n",
      "134/134 [==============================] - 1s 10ms/step - loss: 0.2777 - accuracy: 0.8725 - val_loss: 0.2828 - val_accuracy: 0.8840\n",
      "Epoch 6/20\n",
      "134/134 [==============================] - 1s 11ms/step - loss: 0.2579 - accuracy: 0.8831 - val_loss: 0.2969 - val_accuracy: 0.8602\n",
      "Epoch 7/20\n",
      "134/134 [==============================] - 2s 11ms/step - loss: 0.2523 - accuracy: 0.8836 - val_loss: 0.2696 - val_accuracy: 0.8876\n",
      "Epoch 8/20\n",
      "134/134 [==============================] - 1s 10ms/step - loss: 0.2341 - accuracy: 0.8934 - val_loss: 0.2830 - val_accuracy: 0.8939\n",
      "Epoch 9/20\n",
      "134/134 [==============================] - 1s 11ms/step - loss: 0.2307 - accuracy: 0.9028 - val_loss: 0.3032 - val_accuracy: 0.8552\n",
      "Epoch 10/20\n",
      "134/134 [==============================] - 1s 10ms/step - loss: 0.2181 - accuracy: 0.9075 - val_loss: 0.2854 - val_accuracy: 0.8904\n",
      "Epoch 11/20\n",
      "134/134 [==============================] - 2s 12ms/step - loss: 0.2021 - accuracy: 0.9112 - val_loss: 0.3215 - val_accuracy: 0.8819\n",
      "Epoch 12/20\n",
      "134/134 [==============================] - 1s 10ms/step - loss: 0.1965 - accuracy: 0.9159 - val_loss: 0.2868 - val_accuracy: 0.8883\n",
      "Epoch 13/20\n",
      "134/134 [==============================] - 1s 11ms/step - loss: 0.1810 - accuracy: 0.9220 - val_loss: 0.3077 - val_accuracy: 0.8840\n",
      "Epoch 14/20\n",
      "134/134 [==============================] - 1s 10ms/step - loss: 0.1765 - accuracy: 0.9243 - val_loss: 0.3160 - val_accuracy: 0.8848\n",
      "Epoch 15/20\n",
      "134/134 [==============================] - 1s 10ms/step - loss: 0.1646 - accuracy: 0.9283 - val_loss: 0.3246 - val_accuracy: 0.8826\n",
      "Epoch 16/20\n",
      "134/134 [==============================] - 1s 11ms/step - loss: 0.1613 - accuracy: 0.9323 - val_loss: 0.3408 - val_accuracy: 0.8777\n",
      "Epoch 17/20\n",
      "134/134 [==============================] - 1s 11ms/step - loss: 0.1524 - accuracy: 0.9370 - val_loss: 0.3411 - val_accuracy: 0.8840\n",
      "Epoch 18/20\n",
      "134/134 [==============================] - 1s 11ms/step - loss: 0.1415 - accuracy: 0.9445 - val_loss: 0.3392 - val_accuracy: 0.8763\n",
      "Epoch 19/20\n",
      "134/134 [==============================] - 2s 11ms/step - loss: 0.1340 - accuracy: 0.9454 - val_loss: 0.3547 - val_accuracy: 0.8756\n",
      "Epoch 20/20\n",
      "134/134 [==============================] - 1s 10ms/step - loss: 0.1225 - accuracy: 0.9503 - val_loss: 0.3757 - val_accuracy: 0.8798\n"
     ]
    },
    {
     "data": {
      "text/html": [
       "<br/>Waiting for W&B process to finish, PID 59582... <strong style=\"color:green\">(success).</strong>"
      ],
      "text/plain": [
       "<IPython.core.display.HTML object>"
      ]
     },
     "metadata": {},
     "output_type": "display_data"
    },
    {
     "data": {
      "text/html": [
       "<style>\n",
       "    table.wandb td:nth-child(1) { padding: 0 10px; text-align: right }\n",
       "    .wandb-row { display: flex; flex-direction: row; flex-wrap: wrap; width: 100% }\n",
       "    .wandb-col { display: flex; flex-direction: column; flex-basis: 100%; flex: 1; padding: 10px; }\n",
       "    </style>\n",
       "<div class=\"wandb-row\"><div class=\"wandb-col\">\n",
       "<h3>Run history:</h3><br/><table class=\"wandb\"><tr><td>accuracy</td><td>▁▅▅▅▆▆▆▆▆▇▇▇▇▇▇▇████</td></tr><tr><td>epoch</td><td>▁▁▂▂▂▃▃▄▄▄▅▅▅▆▆▇▇▇██</td></tr><tr><td>loss</td><td>█▅▅▄▄▄▄▃▃▃▃▃▂▂▂▂▂▁▁▁</td></tr><tr><td>val_accuracy</td><td>▃▆▆▁▆▃▇█▂▇▆▇▆▇▆▅▆▅▅▆</td></tr><tr><td>val_f1</td><td>▁</td></tr><tr><td>val_loss</td><td>▆▃▂▄▂▃▁▂▃▂▄▂▄▄▅▆▆▆▇█</td></tr></table><br/></div><div class=\"wandb-col\">\n",
       "<h3>Run summary:</h3><br/><table class=\"wandb\"><tr><td>accuracy</td><td>0.95033</td></tr><tr><td>best_epoch</td><td>6</td></tr><tr><td>best_val_loss</td><td>0.26964</td></tr><tr><td>epoch</td><td>19</td></tr><tr><td>loss</td><td>0.12248</td></tr><tr><td>val_accuracy</td><td>0.87983</td></tr><tr><td>val_f1</td><td>0.8606</td></tr><tr><td>val_loss</td><td>0.37567</td></tr></table>\n",
       "</div></div>\n",
       "Synced 5 W&B file(s), 1 media file(s), 0 artifact file(s) and 1 other file(s)\n",
       "<br/>Synced <strong style=\"color:#cdcd00\">apricot-sweep-43</strong>: <a href=\"https://wandb.ai/tripleblackcat/uncategorized/runs/8n8ylr3f\" target=\"_blank\">https://wandb.ai/tripleblackcat/uncategorized/runs/8n8ylr3f</a><br/>\n",
       "Find logs at: <code>./wandb/run-20211120_174150-8n8ylr3f/logs</code><br/>\n"
      ],
      "text/plain": [
       "<IPython.core.display.HTML object>"
      ]
     },
     "metadata": {},
     "output_type": "display_data"
    },
    {
     "name": "stderr",
     "output_type": "stream",
     "text": [
      "\u001b[34m\u001b[1mwandb\u001b[0m: Sweep Agent: Waiting for job.\n",
      "\u001b[34m\u001b[1mwandb\u001b[0m: Job received.\n",
      "\u001b[34m\u001b[1mwandb\u001b[0m: Agent Starting Run: noseldwx with config:\n",
      "\u001b[34m\u001b[1mwandb\u001b[0m: \tbatch_size: 64\n",
      "\u001b[34m\u001b[1mwandb\u001b[0m: \tdropout: 0.5\n",
      "\u001b[34m\u001b[1mwandb\u001b[0m: \tembedding_dim: 64\n",
      "\u001b[34m\u001b[1mwandb\u001b[0m: \tepochs: 10\n",
      "\u001b[34m\u001b[1mwandb\u001b[0m: \tff_size: 256\n",
      "\u001b[34m\u001b[1mwandb\u001b[0m: \tlr: 0.0001\n",
      "\u001b[34m\u001b[1mwandb\u001b[0m: \tlstm_units: 64\n",
      "\u001b[34m\u001b[1mwandb\u001b[0m: \tmax_tokens: 1000\n"
     ]
    },
    {
     "data": {
      "text/html": [
       "\n",
       "                    Syncing run <strong><a href=\"https://wandb.ai/tripleblackcat/uncategorized/runs/noseldwx\" target=\"_blank\">sage-sweep-44</a></strong> to <a href=\"https://wandb.ai/tripleblackcat/uncategorized\" target=\"_blank\">Weights & Biases</a> (<a href=\"https://docs.wandb.com/integrations/jupyter.html\" target=\"_blank\">docs</a>).<br/>\n",
       "Sweep page: <a href=\"https://wandb.ai/tripleblackcat/uncategorized/sweeps/aoizs7rc\" target=\"_blank\">https://wandb.ai/tripleblackcat/uncategorized/sweeps/aoizs7rc</a><br/>\n",
       "\n",
       "                "
      ],
      "text/plain": [
       "<IPython.core.display.HTML object>"
      ]
     },
     "metadata": {},
     "output_type": "display_data"
    },
    {
     "name": "stdout",
     "output_type": "stream",
     "text": [
      "Epoch 1/10\n",
      "130/134 [============================>.] - ETA: 0s - loss: 0.6873 - accuracy: 0.5053"
     ]
    },
    {
     "name": "stderr",
     "output_type": "stream",
     "text": [
      "\u001b[34m\u001b[1mwandb\u001b[0m: \u001b[32m\u001b[41mERROR\u001b[0m Can't save model, h5py returned error: Save or restore weights that is not an instance of `tf.Variable` is not supported in h5, use `save_format='tf'` instead. Received a model or layer TextVectorization with weights [<keras.layers.preprocessing.index_lookup.VocabWeightHandler object at 0x7fd7148e9e20>]\n"
     ]
    },
    {
     "name": "stdout",
     "output_type": "stream",
     "text": [
      "134/134 [==============================] - 9s 29ms/step - loss: 0.6868 - accuracy: 0.5056 - val_loss: 0.6671 - val_accuracy: 0.4891\n",
      "Epoch 2/10\n",
      "134/134 [==============================] - 2s 11ms/step - loss: 0.4881 - accuracy: 0.6994 - val_loss: 0.3593 - val_accuracy: 0.8616\n",
      "Epoch 3/10\n",
      "134/134 [==============================] - 1s 11ms/step - loss: 0.2956 - accuracy: 0.8857 - val_loss: 0.3028 - val_accuracy: 0.8911\n",
      "Epoch 4/10\n",
      "134/134 [==============================] - 1s 10ms/step - loss: 0.2394 - accuracy: 0.9072 - val_loss: 0.2629 - val_accuracy: 0.9016\n",
      "Epoch 5/10\n",
      "134/134 [==============================] - 2s 12ms/step - loss: 0.2074 - accuracy: 0.9234 - val_loss: 0.2636 - val_accuracy: 0.9044\n",
      "Epoch 6/10\n",
      "134/134 [==============================] - 1s 10ms/step - loss: 0.1857 - accuracy: 0.9316 - val_loss: 0.2485 - val_accuracy: 0.9100\n",
      "Epoch 7/10\n",
      "134/134 [==============================] - 1s 11ms/step - loss: 0.1659 - accuracy: 0.9405 - val_loss: 0.2648 - val_accuracy: 0.9072\n",
      "Epoch 8/10\n",
      "134/134 [==============================] - 1s 11ms/step - loss: 0.1482 - accuracy: 0.9459 - val_loss: 0.2754 - val_accuracy: 0.9044\n",
      "Epoch 9/10\n",
      "134/134 [==============================] - 1s 11ms/step - loss: 0.1366 - accuracy: 0.9492 - val_loss: 0.2603 - val_accuracy: 0.9086\n",
      "Epoch 10/10\n",
      "134/134 [==============================] - 1s 11ms/step - loss: 0.1290 - accuracy: 0.9541 - val_loss: 0.2780 - val_accuracy: 0.9065\n"
     ]
    },
    {
     "data": {
      "text/html": [
       "<br/>Waiting for W&B process to finish, PID 60019... <strong style=\"color:green\">(success).</strong>"
      ],
      "text/plain": [
       "<IPython.core.display.HTML object>"
      ]
     },
     "metadata": {},
     "output_type": "display_data"
    },
    {
     "data": {
      "text/html": [
       "<style>\n",
       "    table.wandb td:nth-child(1) { padding: 0 10px; text-align: right }\n",
       "    .wandb-row { display: flex; flex-direction: row; flex-wrap: wrap; width: 100% }\n",
       "    .wandb-col { display: flex; flex-direction: column; flex-basis: 100%; flex: 1; padding: 10px; }\n",
       "    </style>\n",
       "<div class=\"wandb-row\"><div class=\"wandb-col\">\n",
       "<h3>Run history:</h3><br/><table class=\"wandb\"><tr><td>accuracy</td><td>▁▄▇▇██████</td></tr><tr><td>epoch</td><td>▁▂▃▃▄▅▆▆▇█</td></tr><tr><td>loss</td><td>█▆▃▂▂▂▁▁▁▁</td></tr><tr><td>val_accuracy</td><td>▁▇████████</td></tr><tr><td>val_f1</td><td>▁</td></tr><tr><td>val_loss</td><td>█▃▂▁▁▁▁▁▁▁</td></tr></table><br/></div><div class=\"wandb-col\">\n",
       "<h3>Run summary:</h3><br/><table class=\"wandb\"><tr><td>accuracy</td><td>0.95408</td></tr><tr><td>best_epoch</td><td>5</td></tr><tr><td>best_val_loss</td><td>0.24854</td></tr><tr><td>epoch</td><td>9</td></tr><tr><td>loss</td><td>0.129</td></tr><tr><td>val_accuracy</td><td>0.90654</td></tr><tr><td>val_f1</td><td>0.88749</td></tr><tr><td>val_loss</td><td>0.27796</td></tr></table>\n",
       "</div></div>\n",
       "Synced 5 W&B file(s), 1 media file(s), 0 artifact file(s) and 1 other file(s)\n",
       "<br/>Synced <strong style=\"color:#cdcd00\">sage-sweep-44</strong>: <a href=\"https://wandb.ai/tripleblackcat/uncategorized/runs/noseldwx\" target=\"_blank\">https://wandb.ai/tripleblackcat/uncategorized/runs/noseldwx</a><br/>\n",
       "Find logs at: <code>./wandb/run-20211120_174248-noseldwx/logs</code><br/>\n"
      ],
      "text/plain": [
       "<IPython.core.display.HTML object>"
      ]
     },
     "metadata": {},
     "output_type": "display_data"
    },
    {
     "name": "stderr",
     "output_type": "stream",
     "text": [
      "\u001b[34m\u001b[1mwandb\u001b[0m: Agent Starting Run: ewmwyifd with config:\n",
      "\u001b[34m\u001b[1mwandb\u001b[0m: \tbatch_size: 64\n",
      "\u001b[34m\u001b[1mwandb\u001b[0m: \tdropout: 0.5\n",
      "\u001b[34m\u001b[1mwandb\u001b[0m: \tembedding_dim: 32\n",
      "\u001b[34m\u001b[1mwandb\u001b[0m: \tepochs: 10\n",
      "\u001b[34m\u001b[1mwandb\u001b[0m: \tff_size: 128\n",
      "\u001b[34m\u001b[1mwandb\u001b[0m: \tlr: 0.001\n",
      "\u001b[34m\u001b[1mwandb\u001b[0m: \tlstm_units: 64\n",
      "\u001b[34m\u001b[1mwandb\u001b[0m: \tmax_tokens: None\n"
     ]
    },
    {
     "data": {
      "text/html": [
       "\n",
       "                    Syncing run <strong><a href=\"https://wandb.ai/tripleblackcat/uncategorized/runs/ewmwyifd\" target=\"_blank\">serene-sweep-45</a></strong> to <a href=\"https://wandb.ai/tripleblackcat/uncategorized\" target=\"_blank\">Weights & Biases</a> (<a href=\"https://docs.wandb.com/integrations/jupyter.html\" target=\"_blank\">docs</a>).<br/>\n",
       "Sweep page: <a href=\"https://wandb.ai/tripleblackcat/uncategorized/sweeps/aoizs7rc\" target=\"_blank\">https://wandb.ai/tripleblackcat/uncategorized/sweeps/aoizs7rc</a><br/>\n",
       "\n",
       "                "
      ],
      "text/plain": [
       "<IPython.core.display.HTML object>"
      ]
     },
     "metadata": {},
     "output_type": "display_data"
    },
    {
     "name": "stdout",
     "output_type": "stream",
     "text": [
      "Epoch 1/10\n",
      "132/134 [============================>.] - ETA: 0s - loss: 0.4205 - accuracy: 0.7741"
     ]
    },
    {
     "name": "stderr",
     "output_type": "stream",
     "text": [
      "\u001b[34m\u001b[1mwandb\u001b[0m: \u001b[32m\u001b[41mERROR\u001b[0m Can't save model, h5py returned error: Save or restore weights that is not an instance of `tf.Variable` is not supported in h5, use `save_format='tf'` instead. Received a model or layer TextVectorization with weights [<keras.layers.preprocessing.index_lookup.VocabWeightHandler object at 0x7fd6e942f550>]\n"
     ]
    },
    {
     "name": "stdout",
     "output_type": "stream",
     "text": [
      "134/134 [==============================] - 10s 25ms/step - loss: 0.4185 - accuracy: 0.7751 - val_loss: 0.2291 - val_accuracy: 0.9093\n",
      "Epoch 2/10\n",
      "134/134 [==============================] - 2s 12ms/step - loss: 0.1245 - accuracy: 0.9548 - val_loss: 0.2296 - val_accuracy: 0.9157\n",
      "Epoch 3/10\n",
      "134/134 [==============================] - 2s 13ms/step - loss: 0.0480 - accuracy: 0.9855 - val_loss: 0.2809 - val_accuracy: 0.9100\n",
      "Epoch 4/10\n",
      "134/134 [==============================] - 1s 11ms/step - loss: 0.0230 - accuracy: 0.9941 - val_loss: 0.3286 - val_accuracy: 0.9206\n",
      "Epoch 5/10\n",
      "134/134 [==============================] - 2s 11ms/step - loss: 0.0107 - accuracy: 0.9958 - val_loss: 0.3352 - val_accuracy: 0.9079\n",
      "Epoch 6/10\n",
      "134/134 [==============================] - 1s 11ms/step - loss: 0.0060 - accuracy: 0.9981 - val_loss: 0.3959 - val_accuracy: 0.9157\n",
      "Epoch 7/10\n",
      "134/134 [==============================] - 2s 11ms/step - loss: 0.0016 - accuracy: 0.9995 - val_loss: 0.4840 - val_accuracy: 0.9122\n",
      "Epoch 8/10\n",
      "134/134 [==============================] - 1s 11ms/step - loss: 0.0011 - accuracy: 1.0000 - val_loss: 0.5356 - val_accuracy: 0.9122\n",
      "Epoch 9/10\n",
      "134/134 [==============================] - 1s 11ms/step - loss: 9.5558e-04 - accuracy: 0.9995 - val_loss: 0.5788 - val_accuracy: 0.9108\n",
      "Epoch 10/10\n",
      "134/134 [==============================] - 1s 10ms/step - loss: 7.9692e-04 - accuracy: 1.0000 - val_loss: 0.6140 - val_accuracy: 0.9143\n"
     ]
    },
    {
     "data": {
      "text/html": [
       "<br/>Waiting for W&B process to finish, PID 60299... <strong style=\"color:green\">(success).</strong>"
      ],
      "text/plain": [
       "<IPython.core.display.HTML object>"
      ]
     },
     "metadata": {},
     "output_type": "display_data"
    },
    {
     "data": {
      "text/html": [
       "<style>\n",
       "    table.wandb td:nth-child(1) { padding: 0 10px; text-align: right }\n",
       "    .wandb-row { display: flex; flex-direction: row; flex-wrap: wrap; width: 100% }\n",
       "    .wandb-col { display: flex; flex-direction: column; flex-basis: 100%; flex: 1; padding: 10px; }\n",
       "    </style>\n",
       "<div class=\"wandb-row\"><div class=\"wandb-col\">\n",
       "<h3>Run history:</h3><br/><table class=\"wandb\"><tr><td>accuracy</td><td>▁▇████████</td></tr><tr><td>epoch</td><td>▁▂▃▃▄▅▆▆▇█</td></tr><tr><td>loss</td><td>█▃▂▁▁▁▁▁▁▁</td></tr><tr><td>val_accuracy</td><td>▂▅▂█▁▅▃▃▃▄</td></tr><tr><td>val_f1</td><td>▁</td></tr><tr><td>val_loss</td><td>▁▁▂▃▃▄▆▇▇█</td></tr></table><br/></div><div class=\"wandb-col\">\n",
       "<h3>Run summary:</h3><br/><table class=\"wandb\"><tr><td>accuracy</td><td>1.0</td></tr><tr><td>best_epoch</td><td>0</td></tr><tr><td>best_val_loss</td><td>0.22908</td></tr><tr><td>epoch</td><td>9</td></tr><tr><td>loss</td><td>0.0008</td></tr><tr><td>val_accuracy</td><td>0.91427</td></tr><tr><td>val_f1</td><td>0.8868</td></tr><tr><td>val_loss</td><td>0.61405</td></tr></table>\n",
       "</div></div>\n",
       "Synced 5 W&B file(s), 1 media file(s), 0 artifact file(s) and 1 other file(s)\n",
       "<br/>Synced <strong style=\"color:#cdcd00\">serene-sweep-45</strong>: <a href=\"https://wandb.ai/tripleblackcat/uncategorized/runs/ewmwyifd\" target=\"_blank\">https://wandb.ai/tripleblackcat/uncategorized/runs/ewmwyifd</a><br/>\n",
       "Find logs at: <code>./wandb/run-20211120_174326-ewmwyifd/logs</code><br/>\n"
      ],
      "text/plain": [
       "<IPython.core.display.HTML object>"
      ]
     },
     "metadata": {},
     "output_type": "display_data"
    },
    {
     "name": "stderr",
     "output_type": "stream",
     "text": [
      "\u001b[34m\u001b[1mwandb\u001b[0m: Agent Starting Run: zbi73n0d with config:\n",
      "\u001b[34m\u001b[1mwandb\u001b[0m: \tbatch_size: 256\n",
      "\u001b[34m\u001b[1mwandb\u001b[0m: \tdropout: 0.5\n",
      "\u001b[34m\u001b[1mwandb\u001b[0m: \tembedding_dim: 64\n",
      "\u001b[34m\u001b[1mwandb\u001b[0m: \tepochs: 10\n",
      "\u001b[34m\u001b[1mwandb\u001b[0m: \tff_size: 64\n",
      "\u001b[34m\u001b[1mwandb\u001b[0m: \tlr: 0.0005\n",
      "\u001b[34m\u001b[1mwandb\u001b[0m: \tlstm_units: 32\n",
      "\u001b[34m\u001b[1mwandb\u001b[0m: \tmax_tokens: 100\n"
     ]
    },
    {
     "data": {
      "text/html": [
       "\n",
       "                    Syncing run <strong><a href=\"https://wandb.ai/tripleblackcat/uncategorized/runs/zbi73n0d\" target=\"_blank\">iconic-sweep-46</a></strong> to <a href=\"https://wandb.ai/tripleblackcat/uncategorized\" target=\"_blank\">Weights & Biases</a> (<a href=\"https://docs.wandb.com/integrations/jupyter.html\" target=\"_blank\">docs</a>).<br/>\n",
       "Sweep page: <a href=\"https://wandb.ai/tripleblackcat/uncategorized/sweeps/aoizs7rc\" target=\"_blank\">https://wandb.ai/tripleblackcat/uncategorized/sweeps/aoizs7rc</a><br/>\n",
       "\n",
       "                "
      ],
      "text/plain": [
       "<IPython.core.display.HTML object>"
      ]
     },
     "metadata": {},
     "output_type": "display_data"
    },
    {
     "name": "stdout",
     "output_type": "stream",
     "text": [
      "Epoch 1/10\n",
      "131/134 [============================>.] - ETA: 0s - loss: 0.6132 - accuracy: 0.5921"
     ]
    },
    {
     "name": "stderr",
     "output_type": "stream",
     "text": [
      "\u001b[34m\u001b[1mwandb\u001b[0m: \u001b[32m\u001b[41mERROR\u001b[0m Can't save model, h5py returned error: Save or restore weights that is not an instance of `tf.Variable` is not supported in h5, use `save_format='tf'` instead. Received a model or layer TextVectorization with weights [<keras.layers.preprocessing.index_lookup.VocabWeightHandler object at 0x7fd5c4620190>]\n"
     ]
    },
    {
     "name": "stdout",
     "output_type": "stream",
     "text": [
      "134/134 [==============================] - 9s 23ms/step - loss: 0.6102 - accuracy: 0.5968 - val_loss: 0.4026 - val_accuracy: 0.8173\n",
      "Epoch 2/10\n",
      "134/134 [==============================] - 1s 11ms/step - loss: 0.3947 - accuracy: 0.8283 - val_loss: 0.3264 - val_accuracy: 0.8531\n",
      "Epoch 3/10\n",
      "134/134 [==============================] - 2s 12ms/step - loss: 0.3506 - accuracy: 0.8456 - val_loss: 0.3227 - val_accuracy: 0.8496\n",
      "Epoch 4/10\n",
      "134/134 [==============================] - 1s 11ms/step - loss: 0.3398 - accuracy: 0.8465 - val_loss: 0.3194 - val_accuracy: 0.8728\n",
      "Epoch 5/10\n",
      "134/134 [==============================] - 1s 10ms/step - loss: 0.3318 - accuracy: 0.8522 - val_loss: 0.3087 - val_accuracy: 0.8609\n",
      "Epoch 6/10\n",
      "134/134 [==============================] - 1s 10ms/step - loss: 0.3174 - accuracy: 0.8573 - val_loss: 0.2995 - val_accuracy: 0.8742\n",
      "Epoch 7/10\n",
      "134/134 [==============================] - 1s 11ms/step - loss: 0.3089 - accuracy: 0.8653 - val_loss: 0.3011 - val_accuracy: 0.8784\n",
      "Epoch 8/10\n",
      "134/134 [==============================] - 1s 10ms/step - loss: 0.2984 - accuracy: 0.8681 - val_loss: 0.2957 - val_accuracy: 0.8721\n",
      "Epoch 9/10\n",
      "134/134 [==============================] - 1s 10ms/step - loss: 0.2952 - accuracy: 0.8728 - val_loss: 0.2901 - val_accuracy: 0.8798\n",
      "Epoch 10/10\n",
      "134/134 [==============================] - 1s 10ms/step - loss: 0.2913 - accuracy: 0.8730 - val_loss: 0.2976 - val_accuracy: 0.8658\n"
     ]
    },
    {
     "data": {
      "text/html": [
       "<br/>Waiting for W&B process to finish, PID 60585... <strong style=\"color:green\">(success).</strong>"
      ],
      "text/plain": [
       "<IPython.core.display.HTML object>"
      ]
     },
     "metadata": {},
     "output_type": "display_data"
    },
    {
     "data": {
      "text/html": [
       "<style>\n",
       "    table.wandb td:nth-child(1) { padding: 0 10px; text-align: right }\n",
       "    .wandb-row { display: flex; flex-direction: row; flex-wrap: wrap; width: 100% }\n",
       "    .wandb-col { display: flex; flex-direction: column; flex-basis: 100%; flex: 1; padding: 10px; }\n",
       "    </style>\n",
       "<div class=\"wandb-row\"><div class=\"wandb-col\">\n",
       "<h3>Run history:</h3><br/><table class=\"wandb\"><tr><td>accuracy</td><td>▁▇▇▇▇█████</td></tr><tr><td>epoch</td><td>▁▂▃▃▄▅▆▆▇█</td></tr><tr><td>loss</td><td>█▃▂▂▂▂▁▁▁▁</td></tr><tr><td>val_accuracy</td><td>▁▅▅▇▆▇█▇█▆</td></tr><tr><td>val_f1</td><td>▁</td></tr><tr><td>val_loss</td><td>█▃▃▃▂▂▂▁▁▁</td></tr></table><br/></div><div class=\"wandb-col\">\n",
       "<h3>Run summary:</h3><br/><table class=\"wandb\"><tr><td>accuracy</td><td>0.87301</td></tr><tr><td>best_epoch</td><td>8</td></tr><tr><td>best_val_loss</td><td>0.29012</td></tr><tr><td>epoch</td><td>9</td></tr><tr><td>loss</td><td>0.29126</td></tr><tr><td>val_accuracy</td><td>0.86578</td></tr><tr><td>val_f1</td><td>0.84868</td></tr><tr><td>val_loss</td><td>0.29758</td></tr></table>\n",
       "</div></div>\n",
       "Synced 5 W&B file(s), 1 media file(s), 0 artifact file(s) and 1 other file(s)\n",
       "<br/>Synced <strong style=\"color:#cdcd00\">iconic-sweep-46</strong>: <a href=\"https://wandb.ai/tripleblackcat/uncategorized/runs/zbi73n0d\" target=\"_blank\">https://wandb.ai/tripleblackcat/uncategorized/runs/zbi73n0d</a><br/>\n",
       "Find logs at: <code>./wandb/run-20211120_174403-zbi73n0d/logs</code><br/>\n"
      ],
      "text/plain": [
       "<IPython.core.display.HTML object>"
      ]
     },
     "metadata": {},
     "output_type": "display_data"
    },
    {
     "name": "stderr",
     "output_type": "stream",
     "text": [
      "\u001b[34m\u001b[1mwandb\u001b[0m: Agent Starting Run: 86wj6flp with config:\n",
      "\u001b[34m\u001b[1mwandb\u001b[0m: \tbatch_size: 128\n",
      "\u001b[34m\u001b[1mwandb\u001b[0m: \tdropout: 0.5\n",
      "\u001b[34m\u001b[1mwandb\u001b[0m: \tembedding_dim: 32\n",
      "\u001b[34m\u001b[1mwandb\u001b[0m: \tepochs: 10\n",
      "\u001b[34m\u001b[1mwandb\u001b[0m: \tff_size: 64\n",
      "\u001b[34m\u001b[1mwandb\u001b[0m: \tlr: 0.0005\n",
      "\u001b[34m\u001b[1mwandb\u001b[0m: \tlstm_units: 64\n",
      "\u001b[34m\u001b[1mwandb\u001b[0m: \tmax_tokens: 100\n"
     ]
    },
    {
     "data": {
      "text/html": [
       "\n",
       "                    Syncing run <strong><a href=\"https://wandb.ai/tripleblackcat/uncategorized/runs/86wj6flp\" target=\"_blank\">valiant-sweep-47</a></strong> to <a href=\"https://wandb.ai/tripleblackcat/uncategorized\" target=\"_blank\">Weights & Biases</a> (<a href=\"https://docs.wandb.com/integrations/jupyter.html\" target=\"_blank\">docs</a>).<br/>\n",
       "Sweep page: <a href=\"https://wandb.ai/tripleblackcat/uncategorized/sweeps/aoizs7rc\" target=\"_blank\">https://wandb.ai/tripleblackcat/uncategorized/sweeps/aoizs7rc</a><br/>\n",
       "\n",
       "                "
      ],
      "text/plain": [
       "<IPython.core.display.HTML object>"
      ]
     },
     "metadata": {},
     "output_type": "display_data"
    },
    {
     "name": "stdout",
     "output_type": "stream",
     "text": [
      "Epoch 1/10\n",
      "132/134 [============================>.] - ETA: 0s - loss: 0.5977 - accuracy: 0.6068"
     ]
    },
    {
     "name": "stderr",
     "output_type": "stream",
     "text": [
      "\u001b[34m\u001b[1mwandb\u001b[0m: \u001b[32m\u001b[41mERROR\u001b[0m Can't save model, h5py returned error: Save or restore weights that is not an instance of `tf.Variable` is not supported in h5, use `save_format='tf'` instead. Received a model or layer TextVectorization with weights [<keras.layers.preprocessing.index_lookup.VocabWeightHandler object at 0x7fd713881f40>]\n"
     ]
    },
    {
     "name": "stdout",
     "output_type": "stream",
     "text": [
      "134/134 [==============================] - 9s 23ms/step - loss: 0.5954 - accuracy: 0.6090 - val_loss: 0.4158 - val_accuracy: 0.8306\n",
      "Epoch 2/10\n",
      "134/134 [==============================] - 1s 10ms/step - loss: 0.3789 - accuracy: 0.8332 - val_loss: 0.3335 - val_accuracy: 0.8517\n",
      "Epoch 3/10\n",
      "134/134 [==============================] - 2s 12ms/step - loss: 0.3534 - accuracy: 0.8421 - val_loss: 0.3264 - val_accuracy: 0.8524\n",
      "Epoch 4/10\n",
      "134/134 [==============================] - 1s 10ms/step - loss: 0.3435 - accuracy: 0.8456 - val_loss: 0.3129 - val_accuracy: 0.8672\n",
      "Epoch 5/10\n",
      "134/134 [==============================] - 1s 10ms/step - loss: 0.3391 - accuracy: 0.8533 - val_loss: 0.3073 - val_accuracy: 0.8679\n",
      "Epoch 6/10\n",
      "134/134 [==============================] - 1s 10ms/step - loss: 0.3250 - accuracy: 0.8517 - val_loss: 0.3023 - val_accuracy: 0.8707\n",
      "Epoch 7/10\n",
      "134/134 [==============================] - 1s 11ms/step - loss: 0.3138 - accuracy: 0.8615 - val_loss: 0.3046 - val_accuracy: 0.8679\n",
      "Epoch 8/10\n",
      "134/134 [==============================] - 1s 10ms/step - loss: 0.3063 - accuracy: 0.8636 - val_loss: 0.2919 - val_accuracy: 0.8707\n",
      "Epoch 9/10\n",
      "134/134 [==============================] - 1s 10ms/step - loss: 0.3064 - accuracy: 0.8613 - val_loss: 0.2903 - val_accuracy: 0.8686\n",
      "Epoch 10/10\n",
      "134/134 [==============================] - 1s 10ms/step - loss: 0.2943 - accuracy: 0.8697 - val_loss: 0.2892 - val_accuracy: 0.8756\n"
     ]
    },
    {
     "data": {
      "text/html": [
       "<br/>Waiting for W&B process to finish, PID 60871... <strong style=\"color:green\">(success).</strong>"
      ],
      "text/plain": [
       "<IPython.core.display.HTML object>"
      ]
     },
     "metadata": {},
     "output_type": "display_data"
    },
    {
     "data": {
      "text/html": [
       "<style>\n",
       "    table.wandb td:nth-child(1) { padding: 0 10px; text-align: right }\n",
       "    .wandb-row { display: flex; flex-direction: row; flex-wrap: wrap; width: 100% }\n",
       "    .wandb-col { display: flex; flex-direction: column; flex-basis: 100%; flex: 1; padding: 10px; }\n",
       "    </style>\n",
       "<div class=\"wandb-row\"><div class=\"wandb-col\">\n",
       "<h3>Run history:</h3><br/><table class=\"wandb\"><tr><td>accuracy</td><td>▁▇▇▇██████</td></tr><tr><td>epoch</td><td>▁▂▃▃▄▅▆▆▇█</td></tr><tr><td>loss</td><td>█▃▂▂▂▂▁▁▁▁</td></tr><tr><td>val_accuracy</td><td>▁▄▄▇▇▇▇▇▇█</td></tr><tr><td>val_f1</td><td>▁</td></tr><tr><td>val_loss</td><td>█▃▃▂▂▂▂▁▁▁</td></tr></table><br/></div><div class=\"wandb-col\">\n",
       "<h3>Run summary:</h3><br/><table class=\"wandb\"><tr><td>accuracy</td><td>0.86973</td></tr><tr><td>best_epoch</td><td>9</td></tr><tr><td>best_val_loss</td><td>0.28916</td></tr><tr><td>epoch</td><td>9</td></tr><tr><td>loss</td><td>0.29432</td></tr><tr><td>val_accuracy</td><td>0.87561</td></tr><tr><td>val_f1</td><td>0.85622</td></tr><tr><td>val_loss</td><td>0.28916</td></tr></table>\n",
       "</div></div>\n",
       "Synced 5 W&B file(s), 1 media file(s), 0 artifact file(s) and 1 other file(s)\n",
       "<br/>Synced <strong style=\"color:#cdcd00\">valiant-sweep-47</strong>: <a href=\"https://wandb.ai/tripleblackcat/uncategorized/runs/86wj6flp\" target=\"_blank\">https://wandb.ai/tripleblackcat/uncategorized/runs/86wj6flp</a><br/>\n",
       "Find logs at: <code>./wandb/run-20211120_174441-86wj6flp/logs</code><br/>\n"
      ],
      "text/plain": [
       "<IPython.core.display.HTML object>"
      ]
     },
     "metadata": {},
     "output_type": "display_data"
    },
    {
     "name": "stderr",
     "output_type": "stream",
     "text": [
      "\u001b[34m\u001b[1mwandb\u001b[0m: Agent Starting Run: zaty44jo with config:\n",
      "\u001b[34m\u001b[1mwandb\u001b[0m: \tbatch_size: 256\n",
      "\u001b[34m\u001b[1mwandb\u001b[0m: \tdropout: 0.5\n",
      "\u001b[34m\u001b[1mwandb\u001b[0m: \tembedding_dim: 64\n",
      "\u001b[34m\u001b[1mwandb\u001b[0m: \tepochs: 20\n",
      "\u001b[34m\u001b[1mwandb\u001b[0m: \tff_size: 128\n",
      "\u001b[34m\u001b[1mwandb\u001b[0m: \tlr: 0.0005\n",
      "\u001b[34m\u001b[1mwandb\u001b[0m: \tlstm_units: 256\n",
      "\u001b[34m\u001b[1mwandb\u001b[0m: \tmax_tokens: 5000\n"
     ]
    },
    {
     "data": {
      "text/html": [
       "\n",
       "                    Syncing run <strong><a href=\"https://wandb.ai/tripleblackcat/uncategorized/runs/zaty44jo\" target=\"_blank\">legendary-sweep-48</a></strong> to <a href=\"https://wandb.ai/tripleblackcat/uncategorized\" target=\"_blank\">Weights & Biases</a> (<a href=\"https://docs.wandb.com/integrations/jupyter.html\" target=\"_blank\">docs</a>).<br/>\n",
       "Sweep page: <a href=\"https://wandb.ai/tripleblackcat/uncategorized/sweeps/aoizs7rc\" target=\"_blank\">https://wandb.ai/tripleblackcat/uncategorized/sweeps/aoizs7rc</a><br/>\n",
       "\n",
       "                "
      ],
      "text/plain": [
       "<IPython.core.display.HTML object>"
      ]
     },
     "metadata": {},
     "output_type": "display_data"
    },
    {
     "name": "stdout",
     "output_type": "stream",
     "text": [
      "Epoch 1/20\n",
      "132/134 [============================>.] - ETA: 0s - loss: 0.4427 - accuracy: 0.7590"
     ]
    },
    {
     "name": "stderr",
     "output_type": "stream",
     "text": [
      "\u001b[34m\u001b[1mwandb\u001b[0m: \u001b[32m\u001b[41mERROR\u001b[0m Can't save model, h5py returned error: Save or restore weights that is not an instance of `tf.Variable` is not supported in h5, use `save_format='tf'` instead. Received a model or layer TextVectorization with weights [<keras.layers.preprocessing.index_lookup.VocabWeightHandler object at 0x7fd7128305b0>]\n"
     ]
    },
    {
     "name": "stdout",
     "output_type": "stream",
     "text": [
      "134/134 [==============================] - 8s 28ms/step - loss: 0.4412 - accuracy: 0.7605 - val_loss: 0.2292 - val_accuracy: 0.9108\n",
      "Epoch 2/20\n",
      "134/134 [==============================] - 2s 12ms/step - loss: 0.1834 - accuracy: 0.9318 - val_loss: 0.2194 - val_accuracy: 0.9122\n",
      "Epoch 3/20\n",
      "134/134 [==============================] - 2s 12ms/step - loss: 0.0892 - accuracy: 0.9681 - val_loss: 0.2416 - val_accuracy: 0.9206\n",
      "Epoch 4/20\n",
      "134/134 [==============================] - 2s 12ms/step - loss: 0.0392 - accuracy: 0.9876 - val_loss: 0.2835 - val_accuracy: 0.9164\n",
      "Epoch 5/20\n",
      "134/134 [==============================] - 1s 10ms/step - loss: 0.0233 - accuracy: 0.9927 - val_loss: 0.3099 - val_accuracy: 0.9157\n",
      "Epoch 6/20\n",
      "134/134 [==============================] - 1s 11ms/step - loss: 0.0124 - accuracy: 0.9955 - val_loss: 0.3439 - val_accuracy: 0.9164\n",
      "Epoch 7/20\n",
      "134/134 [==============================] - 2s 12ms/step - loss: 0.0449 - accuracy: 0.9899 - val_loss: 0.2634 - val_accuracy: 0.9037\n",
      "Epoch 8/20\n",
      "134/134 [==============================] - 2s 12ms/step - loss: 0.0223 - accuracy: 0.9941 - val_loss: 0.3177 - val_accuracy: 0.9178\n",
      "Epoch 9/20\n",
      "134/134 [==============================] - 1s 11ms/step - loss: 0.0096 - accuracy: 0.9974 - val_loss: 0.3338 - val_accuracy: 0.9234\n",
      "Epoch 10/20\n",
      "134/134 [==============================] - 1s 11ms/step - loss: 0.0036 - accuracy: 0.9988 - val_loss: 0.4166 - val_accuracy: 0.9213\n",
      "Epoch 11/20\n",
      "134/134 [==============================] - 1s 11ms/step - loss: 0.0015 - accuracy: 0.9998 - val_loss: 0.5008 - val_accuracy: 0.9129\n",
      "Epoch 12/20\n",
      "134/134 [==============================] - 2s 12ms/step - loss: 0.0013 - accuracy: 0.9998 - val_loss: 0.5475 - val_accuracy: 0.9157\n",
      "Epoch 13/20\n",
      "134/134 [==============================] - 1s 10ms/step - loss: 9.9530e-04 - accuracy: 1.0000 - val_loss: 0.5893 - val_accuracy: 0.9185\n",
      "Epoch 14/20\n",
      "134/134 [==============================] - 2s 12ms/step - loss: 9.0865e-04 - accuracy: 1.0000 - val_loss: 0.6427 - val_accuracy: 0.9206\n",
      "Epoch 15/20\n",
      "134/134 [==============================] - 1s 10ms/step - loss: 7.9288e-04 - accuracy: 1.0000 - val_loss: 0.6603 - val_accuracy: 0.9171\n",
      "Epoch 16/20\n",
      "134/134 [==============================] - 2s 11ms/step - loss: 7.2865e-04 - accuracy: 1.0000 - val_loss: 0.6845 - val_accuracy: 0.9164\n",
      "Epoch 17/20\n",
      "134/134 [==============================] - 2s 12ms/step - loss: 6.7353e-04 - accuracy: 1.0000 - val_loss: 0.7162 - val_accuracy: 0.9171\n",
      "Epoch 18/20\n",
      "134/134 [==============================] - 2s 11ms/step - loss: 6.6646e-04 - accuracy: 1.0000 - val_loss: 0.7459 - val_accuracy: 0.9150\n",
      "Epoch 19/20\n",
      "134/134 [==============================] - 1s 11ms/step - loss: 5.9524e-04 - accuracy: 1.0000 - val_loss: 0.7715 - val_accuracy: 0.9150\n",
      "Epoch 20/20\n",
      "134/134 [==============================] - 2s 12ms/step - loss: 5.6910e-04 - accuracy: 1.0000 - val_loss: 0.7937 - val_accuracy: 0.9150\n"
     ]
    },
    {
     "data": {
      "text/html": [
       "<br/>Waiting for W&B process to finish, PID 61148... <strong style=\"color:green\">(success).</strong>"
      ],
      "text/plain": [
       "<IPython.core.display.HTML object>"
      ]
     },
     "metadata": {},
     "output_type": "display_data"
    },
    {
     "data": {
      "text/html": [
       "<style>\n",
       "    table.wandb td:nth-child(1) { padding: 0 10px; text-align: right }\n",
       "    .wandb-row { display: flex; flex-direction: row; flex-wrap: wrap; width: 100% }\n",
       "    .wandb-col { display: flex; flex-direction: column; flex-basis: 100%; flex: 1; padding: 10px; }\n",
       "    </style>\n",
       "<div class=\"wandb-row\"><div class=\"wandb-col\">\n",
       "<h3>Run history:</h3><br/><table class=\"wandb\"><tr><td>accuracy</td><td>▁▆▇█████████████████</td></tr><tr><td>epoch</td><td>▁▁▂▂▂▃▃▄▄▄▅▅▅▆▆▇▇▇██</td></tr><tr><td>loss</td><td>█▄▂▂▁▁▂▁▁▁▁▁▁▁▁▁▁▁▁▁</td></tr><tr><td>val_accuracy</td><td>▃▄▇▅▅▅▁▆█▇▄▅▆▇▆▅▆▅▅▅</td></tr><tr><td>val_f1</td><td>▁</td></tr><tr><td>val_loss</td><td>▁▁▁▂▂▃▂▂▂▃▄▅▆▆▆▇▇▇██</td></tr></table><br/></div><div class=\"wandb-col\">\n",
       "<h3>Run summary:</h3><br/><table class=\"wandb\"><tr><td>accuracy</td><td>1.0</td></tr><tr><td>best_epoch</td><td>1</td></tr><tr><td>best_val_loss</td><td>0.21937</td></tr><tr><td>epoch</td><td>19</td></tr><tr><td>loss</td><td>0.00057</td></tr><tr><td>val_accuracy</td><td>0.91497</td></tr><tr><td>val_f1</td><td>0.89321</td></tr><tr><td>val_loss</td><td>0.7937</td></tr></table>\n",
       "</div></div>\n",
       "Synced 5 W&B file(s), 1 media file(s), 0 artifact file(s) and 1 other file(s)\n",
       "<br/>Synced <strong style=\"color:#cdcd00\">legendary-sweep-48</strong>: <a href=\"https://wandb.ai/tripleblackcat/uncategorized/runs/zaty44jo\" target=\"_blank\">https://wandb.ai/tripleblackcat/uncategorized/runs/zaty44jo</a><br/>\n",
       "Find logs at: <code>./wandb/run-20211120_174518-zaty44jo/logs</code><br/>\n"
      ],
      "text/plain": [
       "<IPython.core.display.HTML object>"
      ]
     },
     "metadata": {},
     "output_type": "display_data"
    },
    {
     "name": "stderr",
     "output_type": "stream",
     "text": [
      "\u001b[34m\u001b[1mwandb\u001b[0m: Agent Starting Run: a5h1dx5c with config:\n",
      "\u001b[34m\u001b[1mwandb\u001b[0m: \tbatch_size: 128\n",
      "\u001b[34m\u001b[1mwandb\u001b[0m: \tdropout: 0\n",
      "\u001b[34m\u001b[1mwandb\u001b[0m: \tembedding_dim: 256\n",
      "\u001b[34m\u001b[1mwandb\u001b[0m: \tepochs: 10\n",
      "\u001b[34m\u001b[1mwandb\u001b[0m: \tff_size: 256\n",
      "\u001b[34m\u001b[1mwandb\u001b[0m: \tlr: 0.0005\n",
      "\u001b[34m\u001b[1mwandb\u001b[0m: \tlstm_units: 32\n",
      "\u001b[34m\u001b[1mwandb\u001b[0m: \tmax_tokens: 100\n"
     ]
    },
    {
     "data": {
      "text/html": [
       "\n",
       "                    Syncing run <strong><a href=\"https://wandb.ai/tripleblackcat/uncategorized/runs/a5h1dx5c\" target=\"_blank\">stilted-sweep-49</a></strong> to <a href=\"https://wandb.ai/tripleblackcat/uncategorized\" target=\"_blank\">Weights & Biases</a> (<a href=\"https://docs.wandb.com/integrations/jupyter.html\" target=\"_blank\">docs</a>).<br/>\n",
       "Sweep page: <a href=\"https://wandb.ai/tripleblackcat/uncategorized/sweeps/aoizs7rc\" target=\"_blank\">https://wandb.ai/tripleblackcat/uncategorized/sweeps/aoizs7rc</a><br/>\n",
       "\n",
       "                "
      ],
      "text/plain": [
       "<IPython.core.display.HTML object>"
      ]
     },
     "metadata": {},
     "output_type": "display_data"
    },
    {
     "name": "stdout",
     "output_type": "stream",
     "text": [
      "Epoch 1/10\n",
      "134/134 [==============================] - ETA: 0s - loss: 0.4918 - accuracy: 0.7081"
     ]
    },
    {
     "name": "stderr",
     "output_type": "stream",
     "text": [
      "\u001b[34m\u001b[1mwandb\u001b[0m: \u001b[32m\u001b[41mERROR\u001b[0m Can't save model, h5py returned error: Save or restore weights that is not an instance of `tf.Variable` is not supported in h5, use `save_format='tf'` instead. Received a model or layer TextVectorization with weights [<keras.layers.preprocessing.index_lookup.VocabWeightHandler object at 0x7fd7132de730>]\n"
     ]
    },
    {
     "name": "stdout",
     "output_type": "stream",
     "text": [
      "134/134 [==============================] - 9s 24ms/step - loss: 0.4918 - accuracy: 0.7081 - val_loss: 0.3361 - val_accuracy: 0.8609\n",
      "Epoch 2/10\n",
      "134/134 [==============================] - 1s 11ms/step - loss: 0.3426 - accuracy: 0.8397 - val_loss: 0.3071 - val_accuracy: 0.8665\n",
      "Epoch 3/10\n",
      "134/134 [==============================] - 1s 11ms/step - loss: 0.3114 - accuracy: 0.8597 - val_loss: 0.3006 - val_accuracy: 0.8665\n",
      "Epoch 4/10\n",
      "134/134 [==============================] - 1s 10ms/step - loss: 0.2973 - accuracy: 0.8632 - val_loss: 0.2968 - val_accuracy: 0.8651\n",
      "Epoch 5/10\n",
      "134/134 [==============================] - 1s 10ms/step - loss: 0.2884 - accuracy: 0.8686 - val_loss: 0.2989 - val_accuracy: 0.8770\n",
      "Epoch 6/10\n",
      "134/134 [==============================] - 2s 12ms/step - loss: 0.2795 - accuracy: 0.8730 - val_loss: 0.2934 - val_accuracy: 0.8707\n",
      "Epoch 7/10\n",
      "134/134 [==============================] - 2s 12ms/step - loss: 0.2720 - accuracy: 0.8742 - val_loss: 0.2841 - val_accuracy: 0.8798\n",
      "Epoch 8/10\n",
      "134/134 [==============================] - 1s 11ms/step - loss: 0.2592 - accuracy: 0.8810 - val_loss: 0.2866 - val_accuracy: 0.8714\n",
      "Epoch 9/10\n",
      "134/134 [==============================] - 1s 9ms/step - loss: 0.2560 - accuracy: 0.8868 - val_loss: 0.2846 - val_accuracy: 0.8700\n",
      "Epoch 10/10\n",
      "134/134 [==============================] - 2s 12ms/step - loss: 0.2549 - accuracy: 0.8828 - val_loss: 0.3101 - val_accuracy: 0.8538\n"
     ]
    },
    {
     "data": {
      "text/html": [
       "<br/>Waiting for W&B process to finish, PID 61593... <strong style=\"color:green\">(success).</strong>"
      ],
      "text/plain": [
       "<IPython.core.display.HTML object>"
      ]
     },
     "metadata": {},
     "output_type": "display_data"
    },
    {
     "data": {
      "text/html": [
       "<style>\n",
       "    table.wandb td:nth-child(1) { padding: 0 10px; text-align: right }\n",
       "    .wandb-row { display: flex; flex-direction: row; flex-wrap: wrap; width: 100% }\n",
       "    .wandb-col { display: flex; flex-direction: column; flex-basis: 100%; flex: 1; padding: 10px; }\n",
       "    </style>\n",
       "<div class=\"wandb-row\"><div class=\"wandb-col\">\n",
       "<h3>Run history:</h3><br/><table class=\"wandb\"><tr><td>accuracy</td><td>▁▆▇▇▇▇████</td></tr><tr><td>epoch</td><td>▁▂▃▃▄▅▆▆▇█</td></tr><tr><td>loss</td><td>█▄▃▂▂▂▂▁▁▁</td></tr><tr><td>val_accuracy</td><td>▃▄▄▄▇▆█▆▅▁</td></tr><tr><td>val_f1</td><td>▁</td></tr><tr><td>val_loss</td><td>█▄▃▃▃▂▁▁▁▅</td></tr></table><br/></div><div class=\"wandb-col\">\n",
       "<h3>Run summary:</h3><br/><table class=\"wandb\"><tr><td>accuracy</td><td>0.88285</td></tr><tr><td>best_epoch</td><td>6</td></tr><tr><td>best_val_loss</td><td>0.28407</td></tr><tr><td>epoch</td><td>9</td></tr><tr><td>loss</td><td>0.2549</td></tr><tr><td>val_accuracy</td><td>0.85383</td></tr><tr><td>val_f1</td><td>0.83429</td></tr><tr><td>val_loss</td><td>0.31013</td></tr></table>\n",
       "</div></div>\n",
       "Synced 5 W&B file(s), 1 media file(s), 0 artifact file(s) and 1 other file(s)\n",
       "<br/>Synced <strong style=\"color:#cdcd00\">stilted-sweep-49</strong>: <a href=\"https://wandb.ai/tripleblackcat/uncategorized/runs/a5h1dx5c\" target=\"_blank\">https://wandb.ai/tripleblackcat/uncategorized/runs/a5h1dx5c</a><br/>\n",
       "Find logs at: <code>./wandb/run-20211120_174611-a5h1dx5c/logs</code><br/>\n"
      ],
      "text/plain": [
       "<IPython.core.display.HTML object>"
      ]
     },
     "metadata": {},
     "output_type": "display_data"
    },
    {
     "name": "stderr",
     "output_type": "stream",
     "text": [
      "\u001b[34m\u001b[1mwandb\u001b[0m: Agent Starting Run: lnomzb2e with config:\n",
      "\u001b[34m\u001b[1mwandb\u001b[0m: \tbatch_size: 256\n",
      "\u001b[34m\u001b[1mwandb\u001b[0m: \tdropout: 0.5\n",
      "\u001b[34m\u001b[1mwandb\u001b[0m: \tembedding_dim: 64\n",
      "\u001b[34m\u001b[1mwandb\u001b[0m: \tepochs: 40\n",
      "\u001b[34m\u001b[1mwandb\u001b[0m: \tff_size: 64\n",
      "\u001b[34m\u001b[1mwandb\u001b[0m: \tlr: 0.001\n",
      "\u001b[34m\u001b[1mwandb\u001b[0m: \tlstm_units: 256\n",
      "\u001b[34m\u001b[1mwandb\u001b[0m: \tmax_tokens: 5000\n"
     ]
    },
    {
     "data": {
      "text/html": [
       "\n",
       "                    Syncing run <strong><a href=\"https://wandb.ai/tripleblackcat/uncategorized/runs/lnomzb2e\" target=\"_blank\">eager-sweep-50</a></strong> to <a href=\"https://wandb.ai/tripleblackcat/uncategorized\" target=\"_blank\">Weights & Biases</a> (<a href=\"https://docs.wandb.com/integrations/jupyter.html\" target=\"_blank\">docs</a>).<br/>\n",
       "Sweep page: <a href=\"https://wandb.ai/tripleblackcat/uncategorized/sweeps/aoizs7rc\" target=\"_blank\">https://wandb.ai/tripleblackcat/uncategorized/sweeps/aoizs7rc</a><br/>\n",
       "\n",
       "                "
      ],
      "text/plain": [
       "<IPython.core.display.HTML object>"
      ]
     },
     "metadata": {},
     "output_type": "display_data"
    },
    {
     "name": "stdout",
     "output_type": "stream",
     "text": [
      "Epoch 1/40\n",
      "132/134 [============================>.] - ETA: 0s - loss: 0.3952 - accuracy: 0.7891"
     ]
    },
    {
     "name": "stderr",
     "output_type": "stream",
     "text": [
      "\u001b[34m\u001b[1mwandb\u001b[0m: \u001b[32m\u001b[41mERROR\u001b[0m Can't save model, h5py returned error: Save or restore weights that is not an instance of `tf.Variable` is not supported in h5, use `save_format='tf'` instead. Received a model or layer TextVectorization with weights [<keras.layers.preprocessing.index_lookup.VocabWeightHandler object at 0x7fd6e853bf40>]\n"
     ]
    },
    {
     "name": "stdout",
     "output_type": "stream",
     "text": [
      "134/134 [==============================] - 9s 25ms/step - loss: 0.3928 - accuracy: 0.7905 - val_loss: 0.2198 - val_accuracy: 0.9143\n",
      "Epoch 2/40\n",
      "134/134 [==============================] - 2s 12ms/step - loss: 0.1315 - accuracy: 0.9503 - val_loss: 0.2418 - val_accuracy: 0.9171\n",
      "Epoch 3/40\n",
      "134/134 [==============================] - 2s 12ms/step - loss: 0.0519 - accuracy: 0.9836 - val_loss: 0.2771 - val_accuracy: 0.9171\n",
      "Epoch 4/40\n",
      "134/134 [==============================] - 2s 12ms/step - loss: 0.0295 - accuracy: 0.9923 - val_loss: 0.2557 - val_accuracy: 0.9164\n",
      "Epoch 5/40\n",
      "134/134 [==============================] - 2s 11ms/step - loss: 0.0166 - accuracy: 0.9944 - val_loss: 0.3905 - val_accuracy: 0.9093\n",
      "Epoch 6/40\n",
      "134/134 [==============================] - 2s 11ms/step - loss: 0.0230 - accuracy: 0.9930 - val_loss: 0.3512 - val_accuracy: 0.9037\n",
      "Epoch 7/40\n",
      "134/134 [==============================] - 2s 12ms/step - loss: 0.0157 - accuracy: 0.9967 - val_loss: 0.4467 - val_accuracy: 0.9143\n",
      "Epoch 8/40\n",
      "134/134 [==============================] - 2s 11ms/step - loss: 0.0059 - accuracy: 0.9986 - val_loss: 0.3920 - val_accuracy: 0.9192\n",
      "Epoch 9/40\n",
      "134/134 [==============================] - 1s 11ms/step - loss: 0.0397 - accuracy: 0.9944 - val_loss: 0.5480 - val_accuracy: 0.8946\n",
      "Epoch 10/40\n",
      "134/134 [==============================] - 2s 12ms/step - loss: 0.0280 - accuracy: 0.9944 - val_loss: 0.3919 - val_accuracy: 0.9030\n",
      "Epoch 11/40\n",
      "134/134 [==============================] - 2s 12ms/step - loss: 0.0021 - accuracy: 0.9995 - val_loss: 0.4601 - val_accuracy: 0.9079\n",
      "Epoch 12/40\n",
      "134/134 [==============================] - 1s 11ms/step - loss: 0.0039 - accuracy: 0.9991 - val_loss: 0.4142 - val_accuracy: 0.9086\n",
      "Epoch 13/40\n",
      "134/134 [==============================] - 1s 11ms/step - loss: 0.0014 - accuracy: 1.0000 - val_loss: 0.5376 - val_accuracy: 0.9115\n",
      "Epoch 14/40\n",
      "134/134 [==============================] - 2s 11ms/step - loss: 7.9012e-04 - accuracy: 1.0000 - val_loss: 0.5868 - val_accuracy: 0.9108\n",
      "Epoch 15/40\n",
      "134/134 [==============================] - 2s 12ms/step - loss: 7.6273e-04 - accuracy: 1.0000 - val_loss: 0.6250 - val_accuracy: 0.9108\n",
      "Epoch 16/40\n",
      "134/134 [==============================] - 1s 11ms/step - loss: 6.9470e-04 - accuracy: 1.0000 - val_loss: 0.6612 - val_accuracy: 0.9115\n",
      "Epoch 17/40\n",
      "134/134 [==============================] - 1s 11ms/step - loss: 6.0451e-04 - accuracy: 1.0000 - val_loss: 0.6940 - val_accuracy: 0.9108\n",
      "Epoch 18/40\n",
      "134/134 [==============================] - 1s 11ms/step - loss: 5.4097e-04 - accuracy: 1.0000 - val_loss: 0.7302 - val_accuracy: 0.9086\n",
      "Epoch 19/40\n",
      "134/134 [==============================] - 2s 13ms/step - loss: 4.8713e-04 - accuracy: 1.0000 - val_loss: 0.7578 - val_accuracy: 0.9108\n",
      "Epoch 20/40\n",
      "134/134 [==============================] - 2s 12ms/step - loss: 4.6803e-04 - accuracy: 1.0000 - val_loss: 0.7857 - val_accuracy: 0.9100\n",
      "Epoch 21/40\n",
      "134/134 [==============================] - 2s 12ms/step - loss: 4.8918e-04 - accuracy: 1.0000 - val_loss: 0.7981 - val_accuracy: 0.9100\n",
      "Epoch 22/40\n",
      "134/134 [==============================] - 2s 12ms/step - loss: 4.2894e-04 - accuracy: 1.0000 - val_loss: 0.8193 - val_accuracy: 0.9100\n",
      "Epoch 23/40\n",
      "134/134 [==============================] - 2s 12ms/step - loss: 4.3803e-04 - accuracy: 1.0000 - val_loss: 0.8578 - val_accuracy: 0.9086\n",
      "Epoch 24/40\n",
      "134/134 [==============================] - 2s 12ms/step - loss: 3.6291e-04 - accuracy: 1.0000 - val_loss: 0.8896 - val_accuracy: 0.9115\n",
      "Epoch 25/40\n",
      "134/134 [==============================] - 2s 12ms/step - loss: 3.1443e-04 - accuracy: 1.0000 - val_loss: 0.9036 - val_accuracy: 0.9122\n",
      "Epoch 26/40\n",
      "134/134 [==============================] - 2s 12ms/step - loss: 2.8900e-04 - accuracy: 1.0000 - val_loss: 0.9299 - val_accuracy: 0.9115\n",
      "Epoch 27/40\n",
      "134/134 [==============================] - 2s 12ms/step - loss: 3.0832e-04 - accuracy: 1.0000 - val_loss: 0.9495 - val_accuracy: 0.9108\n",
      "Epoch 28/40\n",
      "134/134 [==============================] - 2s 13ms/step - loss: 3.3276e-04 - accuracy: 1.0000 - val_loss: 0.9902 - val_accuracy: 0.9108\n",
      "Epoch 29/40\n",
      "134/134 [==============================] - 2s 13ms/step - loss: 2.4773e-04 - accuracy: 1.0000 - val_loss: 0.9863 - val_accuracy: 0.9115\n",
      "Epoch 30/40\n",
      "134/134 [==============================] - 2s 12ms/step - loss: 2.3007e-04 - accuracy: 1.0000 - val_loss: 1.0309 - val_accuracy: 0.9093\n",
      "Epoch 31/40\n",
      "134/134 [==============================] - 2s 13ms/step - loss: 2.1215e-04 - accuracy: 1.0000 - val_loss: 1.0696 - val_accuracy: 0.9093\n",
      "Epoch 32/40\n",
      "134/134 [==============================] - 2s 12ms/step - loss: 1.7780e-04 - accuracy: 1.0000 - val_loss: 1.0904 - val_accuracy: 0.9093\n",
      "Epoch 33/40\n",
      "134/134 [==============================] - 2s 12ms/step - loss: 1.6266e-04 - accuracy: 1.0000 - val_loss: 1.1041 - val_accuracy: 0.9100\n",
      "Epoch 34/40\n",
      "134/134 [==============================] - 2s 12ms/step - loss: 2.0325e-04 - accuracy: 1.0000 - val_loss: 1.1276 - val_accuracy: 0.9100\n",
      "Epoch 35/40\n",
      "134/134 [==============================] - 2s 12ms/step - loss: 1.4564e-04 - accuracy: 1.0000 - val_loss: 1.1434 - val_accuracy: 0.9100\n",
      "Epoch 36/40\n",
      "134/134 [==============================] - 2s 14ms/step - loss: 1.3952e-04 - accuracy: 1.0000 - val_loss: 1.1708 - val_accuracy: 0.9093\n",
      "Epoch 37/40\n",
      "134/134 [==============================] - 2s 12ms/step - loss: 1.3527e-04 - accuracy: 1.0000 - val_loss: 1.2097 - val_accuracy: 0.9093\n",
      "Epoch 38/40\n",
      "134/134 [==============================] - 2s 11ms/step - loss: 1.4244e-04 - accuracy: 1.0000 - val_loss: 1.1760 - val_accuracy: 0.9115\n",
      "Epoch 39/40\n",
      "134/134 [==============================] - 2s 12ms/step - loss: 1.1583e-04 - accuracy: 1.0000 - val_loss: 1.2066 - val_accuracy: 0.9093\n",
      "Epoch 40/40\n",
      "134/134 [==============================] - 2s 11ms/step - loss: 1.5617e-04 - accuracy: 1.0000 - val_loss: 1.2540 - val_accuracy: 0.9100\n"
     ]
    },
    {
     "data": {
      "text/html": [
       "<br/>Waiting for W&B process to finish, PID 61892... <strong style=\"color:green\">(success).</strong>"
      ],
      "text/plain": [
       "<IPython.core.display.HTML object>"
      ]
     },
     "metadata": {},
     "output_type": "display_data"
    },
    {
     "data": {
      "text/html": [
       "<style>\n",
       "    table.wandb td:nth-child(1) { padding: 0 10px; text-align: right }\n",
       "    .wandb-row { display: flex; flex-direction: row; flex-wrap: wrap; width: 100% }\n",
       "    .wandb-col { display: flex; flex-direction: column; flex-basis: 100%; flex: 1; padding: 10px; }\n",
       "    </style>\n",
       "<div class=\"wandb-row\"><div class=\"wandb-col\">\n",
       "<h3>Run history:</h3><br/><table class=\"wandb\"><tr><td>accuracy</td><td>▁▆▇█████████████████████████████████████</td></tr><tr><td>epoch</td><td>▁▁▁▂▂▂▂▂▂▃▃▃▃▃▄▄▄▄▄▄▅▅▅▅▅▅▆▆▆▆▆▇▇▇▇▇▇███</td></tr><tr><td>loss</td><td>█▃▂▂▁▁▁▁▂▁▁▁▁▁▁▁▁▁▁▁▁▁▁▁▁▁▁▁▁▁▁▁▁▁▁▁▁▁▁▁</td></tr><tr><td>val_accuracy</td><td>▇▇▇▇▅▄▇█▁▃▅▅▆▆▆▆▆▅▆▅▅▅▅▆▆▆▆▆▆▅▅▅▅▅▅▅▅▆▅▅</td></tr><tr><td>val_f1</td><td>▁</td></tr><tr><td>val_loss</td><td>▁▁▁▁▂▂▃▂▃▂▃▂▃▃▄▄▄▄▅▅▅▅▅▆▆▆▆▆▆▆▇▇▇▇▇▇█▇██</td></tr></table><br/></div><div class=\"wandb-col\">\n",
       "<h3>Run summary:</h3><br/><table class=\"wandb\"><tr><td>accuracy</td><td>1.0</td></tr><tr><td>best_epoch</td><td>0</td></tr><tr><td>best_val_loss</td><td>0.2198</td></tr><tr><td>epoch</td><td>39</td></tr><tr><td>loss</td><td>0.00016</td></tr><tr><td>val_accuracy</td><td>0.91005</td></tr><tr><td>val_f1</td><td>0.89823</td></tr><tr><td>val_loss</td><td>1.25399</td></tr></table>\n",
       "</div></div>\n",
       "Synced 5 W&B file(s), 1 media file(s), 0 artifact file(s) and 1 other file(s)\n",
       "<br/>Synced <strong style=\"color:#cdcd00\">eager-sweep-50</strong>: <a href=\"https://wandb.ai/tripleblackcat/uncategorized/runs/lnomzb2e\" target=\"_blank\">https://wandb.ai/tripleblackcat/uncategorized/runs/lnomzb2e</a><br/>\n",
       "Find logs at: <code>./wandb/run-20211120_174648-lnomzb2e/logs</code><br/>\n"
      ],
      "text/plain": [
       "<IPython.core.display.HTML object>"
      ]
     },
     "metadata": {},
     "output_type": "display_data"
    }
   ],
   "source": [
    "sweep_config = {\n",
    "    \"name\": \"b-lstm\",\n",
    "    \"metric\": {\"name\": \"val_f1\", \"goal\": \"maximize\"},\n",
    "    \"method\": \"random\",\n",
    "    \"parameters\": {\n",
    "        \"epochs\": {\"values\": [10, 20, 40]},\n",
    "        \"lr\": {\"values\": [0.005, 0.001, 0.0005, 0.0001]},\n",
    "        \"batch_size\": {\"values\": [64, 128, 256]},\n",
    "        \"max_tokens\": {\"values\": [100, 1000, 5000, None]},\n",
    "        \"embedding_dim\": {\"values\": [16, 32, 64, 256]},\n",
    "        \"lstm_units\": {\"values\": [16, 32, 64, 256]},\n",
    "        \"ff_size\": {\"values\": [64, 128, 256]},\n",
    "        \"dropout\": {\"values\": [0, 0.5]}\n",
    "    }\n",
    "}\n",
    "def get_lstm(config, encoder, vocab_size):\n",
    "    LSTM = tf.keras.Sequential([\n",
    "    encoder,\n",
    "    tf.keras.layers.Embedding(\n",
    "        input_dim=vocab_size,\n",
    "        output_dim=config.embedding_dim,\n",
    "        mask_zero=True),\n",
    "    tf.keras.layers.Bidirectional(tf.keras.layers.LSTM(config.lstm_units)),\n",
    "    tf.keras.layers.Dense(config.ff_size, activation=\"relu\"),\n",
    "    tf.keras.layers.Dropout(config.dropout),\n",
    "    tf.keras.layers.Dense(1)\n",
    "    ])\n",
    "    return LSTM\n",
    "\n",
    "def sweep():\n",
    "    with wandb.init() as run:\n",
    "        config = wandb.config \n",
    "\n",
    "        max_tokens = config.max_tokens\n",
    "        encoder = tf.keras.layers.TextVectorization(max_tokens=max_tokens)\n",
    "        encoder.adapt(X_train)\n",
    "\n",
    "        vocab_size = len(encoder.get_vocabulary())\n",
    "\n",
    "        lstm = get_lstm(config, encoder, vocab_size)\n",
    "        lstm.compile(loss=tf.keras.losses.BinaryCrossentropy(from_logits=True), \n",
    "                     optimizer=tf.keras.optimizers.Adam(config.lr),\n",
    "                     metrics=[\"accuracy\"])\n",
    "\n",
    "        lstm.fit(X_train, \n",
    "                 y_train, \n",
    "                 validation_data=(X_val, y_val), \n",
    "                 epochs=config.epochs,\n",
    "                 callbacks=[WandbCallback()])\n",
    "       \n",
    "        y_pred = np.around(tf.math.sigmoid(lstm.predict(X_test))).flatten()\n",
    "        wandb.log({\"val_f1\": f1_score(y_test, y_pred)})\n",
    "        del lstm\n",
    "\n",
    "sweep_id = wandb.sweep(sweep_config)\n",
    "wandb.agent(sweep_id, sweep, count=50)"
   ]
  },
  {
   "cell_type": "code",
   "execution_count": 29,
   "id": "f27c3975-f5ff-42c0-bbb0-4c13850a754f",
   "metadata": {},
   "outputs": [
    {
     "ename": "SyntaxError",
     "evalue": "invalid syntax (2205294035.py, line 1)",
     "output_type": "error",
     "traceback": [
      "\u001b[0;36m  File \u001b[0;32m\"/tmp/ipykernel_38606/2205294035.py\"\u001b[0;36m, line \u001b[0;32m1\u001b[0m\n\u001b[0;31m    wandb.log({\"<metric>\": <value>})\u001b[0m\n\u001b[0m                           ^\u001b[0m\n\u001b[0;31mSyntaxError\u001b[0m\u001b[0;31m:\u001b[0m invalid syntax\n"
     ]
    }
   ],
   "source": []
  },
  {
   "cell_type": "code",
   "execution_count": null,
   "id": "bc8777b1-a4fc-44e1-a491-49c4358fce2a",
   "metadata": {},
   "outputs": [],
   "source": []
  }
 ],
 "metadata": {
  "kernelspec": {
   "display_name": "Python 3 (ipykernel)",
   "language": "python",
   "name": "python3"
  },
  "language_info": {
   "codemirror_mode": {
    "name": "ipython",
    "version": 3
   },
   "file_extension": ".py",
   "mimetype": "text/x-python",
   "name": "python",
   "nbconvert_exporter": "python",
   "pygments_lexer": "ipython3",
   "version": "3.8.0"
  }
 },
 "nbformat": 4,
 "nbformat_minor": 5
}
