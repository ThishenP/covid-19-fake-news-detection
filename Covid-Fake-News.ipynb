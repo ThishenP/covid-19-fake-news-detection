{
 "cells": [
  {
   "cell_type": "code",
   "execution_count": 1,
   "id": "659902f1-83fb-48a6-a872-554e71f93735",
   "metadata": {},
   "outputs": [],
   "source": [
    "import warnings\n",
    "warnings.filterwarnings('ignore')\n",
    "import numpy as np\n",
    "import pandas as pd\n",
    "import matplotlib.pyplot as plt\n",
    "import seaborn as sns\n",
    "import nltk\n",
    "import string\n",
    "import re\n",
    "from wordcloud import WordCloud\n",
    "import os\n",
    "from sklearn.metrics import confusion_matrix, accuracy_score\n",
    "\n",
    "from sklearn.linear_model import LogisticRegression\n",
    "\n",
    "from tensorflow.keras.preprocessing.text import Tokenizer\n",
    "from tensorflow.keras.preprocessing.sequence import pad_sequences\n",
    "from tensorflow.keras.models import Sequential\n",
    "from tensorflow.keras.layers import Dense, Embedding, LSTM, Conv1D, MaxPool1D\n",
    "from sklearn.model_selection import train_test_split\n",
    "from sklearn.metrics import classification_report, accuracy_score"
   ]
  },
  {
   "cell_type": "code",
   "execution_count": 2,
   "id": "5c7080bd-9360-46ee-9ae7-24f3aaae8c24",
   "metadata": {},
   "outputs": [],
   "source": [
    "def plot_conf_matrix(y_pred, y_true, title=None):\n",
    "    conf_mat = confusion_matrix(y_pred, y_true)\n",
    "    df_cm = pd.DataFrame(conf_mat, index = [i for i in [\"Fake\", \"Real\"]],\n",
    "                  columns = [i for i in [\"Fake\", \"Real\"]])\n",
    "    plt.figure(figsize = (10,7))\n",
    "    sns.heatmap(df_cm, annot=True, cmap=\"Blues\")\n",
    "    plt.ylabel(\"True Label\")\n",
    "    plt.xlabel(\"Predicted Label\")\n",
    "    if title:\n",
    "        plt.title(f\"{title} Confusion Matrix\")\n",
    "    plt.show()"
   ]
  },
  {
   "cell_type": "markdown",
   "id": "f266b5af-4823-41b0-97ce-d467abb1dbae",
   "metadata": {},
   "source": [
    "# Read in Data and Preprocess"
   ]
  },
  {
   "cell_type": "code",
   "execution_count": 3,
   "id": "44ec800a-a3b4-465e-9b74-64d29b0ceafa",
   "metadata": {},
   "outputs": [],
   "source": [
    "true_news_df = pd.read_csv(\"COVID19-FNIR/COVID19-FNIR/trueNews.csv\")\n",
    "fake_news_df = pd.read_csv(\"COVID19-FNIR/COVID19-FNIR/fakeNews.csv\")"
   ]
  },
  {
   "cell_type": "code",
   "execution_count": 4,
   "id": "788ffbc2-3c06-4cf9-a60c-9e6b43a8d33c",
   "metadata": {},
   "outputs": [],
   "source": [
    "# Assign class columns and combine dataframes\n",
    "fake_news_df[\"class\"] = 0\n",
    "true_news_df[\"class\"] = 1\n",
    "combined = pd.concat([fake_news_df, true_news_df], axis=0)"
   ]
  },
  {
   "cell_type": "code",
   "execution_count": 5,
   "id": "358c39f1-67fc-4981-b2db-39319c965914",
   "metadata": {},
   "outputs": [],
   "source": [
    "# Subset data to just contain the text field and the class field\n",
    "combined = combined[[\"Text\", \"class\"]].reset_index(drop=True)\n",
    "# Shuffle data\n",
    "combined = combined.sample(frac = 1)"
   ]
  },
  {
   "cell_type": "code",
   "execution_count": 6,
   "id": "8588e879-92d7-464a-8342-5071b22b829c",
   "metadata": {},
   "outputs": [
    {
     "data": {
      "text/html": [
       "<div>\n",
       "<style scoped>\n",
       "    .dataframe tbody tr th:only-of-type {\n",
       "        vertical-align: middle;\n",
       "    }\n",
       "\n",
       "    .dataframe tbody tr th {\n",
       "        vertical-align: top;\n",
       "    }\n",
       "\n",
       "    .dataframe thead th {\n",
       "        text-align: right;\n",
       "    }\n",
       "</style>\n",
       "<table border=\"1\" class=\"dataframe\">\n",
       "  <thead>\n",
       "    <tr style=\"text-align: right;\">\n",
       "      <th></th>\n",
       "      <th>Text</th>\n",
       "      <th>class</th>\n",
       "    </tr>\n",
       "  </thead>\n",
       "  <tbody>\n",
       "    <tr>\n",
       "      <th>4435</th>\n",
       "      <td>UK gallery curator calls for public art projec...</td>\n",
       "      <td>1</td>\n",
       "    </tr>\n",
       "    <tr>\n",
       "      <th>7154</th>\n",
       "      <td>Coronavirus UK map: the latest deaths and conf...</td>\n",
       "      <td>1</td>\n",
       "    </tr>\n",
       "    <tr>\n",
       "      <th>3178</th>\n",
       "      <td>Barack Obama \"is the first ex-president to ev...</td>\n",
       "      <td>0</td>\n",
       "    </tr>\n",
       "    <tr>\n",
       "      <th>5741</th>\n",
       "      <td>#CoronavirusCrisis | It's now clinically prove...</td>\n",
       "      <td>1</td>\n",
       "    </tr>\n",
       "    <tr>\n",
       "      <th>5044</th>\n",
       "      <td>A petition has been filed in the Supreme Court...</td>\n",
       "      <td>1</td>\n",
       "    </tr>\n",
       "  </tbody>\n",
       "</table>\n",
       "</div>"
      ],
      "text/plain": [
       "                                                   Text  class\n",
       "4435  UK gallery curator calls for public art projec...      1\n",
       "7154  Coronavirus UK map: the latest deaths and conf...      1\n",
       "3178   Barack Obama \"is the first ex-president to ev...      0\n",
       "5741  #CoronavirusCrisis | It's now clinically prove...      1\n",
       "5044  A petition has been filed in the Supreme Court...      1"
      ]
     },
     "execution_count": 6,
     "metadata": {},
     "output_type": "execute_result"
    }
   ],
   "source": [
    "combined.head()"
   ]
  },
  {
   "cell_type": "code",
   "execution_count": 7,
   "id": "184b5956-a92f-4a9d-a05a-588c52a3347d",
   "metadata": {},
   "outputs": [],
   "source": [
    "def wordopt(text):\n",
    "    \"\"\"Formating of the text field \"\"\"\n",
    "    text = text.lower()\n",
    "    text = re.sub('\\[.*?\\]', '', text)\n",
    "    text = re.sub(\"\\\\W\",\" \",text) \n",
    "    text = re.sub('https?://\\S+|www\\.\\S+', '', text)\n",
    "    text = re.sub('<.*?>+', '', text)\n",
    "    text = re.sub('[%s]' % re.escape(string.punctuation), '', text)\n",
    "    text = re.sub('\\n', '', text)\n",
    "    text = re.sub('\\w*\\d\\w*', '', text)    \n",
    "    return text\n",
    "\n"
   ]
  },
  {
   "cell_type": "code",
   "execution_count": 8,
   "id": "a84ac0ad-2f60-4f1f-866f-aa62be134365",
   "metadata": {},
   "outputs": [],
   "source": [
    "combined[\"Text\"] = combined[\"Text\"].apply(wordopt)"
   ]
  },
  {
   "cell_type": "code",
   "execution_count": 9,
   "id": "74d3e410-84a9-4c6c-9551-3ea25f69d2ae",
   "metadata": {},
   "outputs": [
    {
     "data": {
      "text/html": [
       "<div>\n",
       "<style scoped>\n",
       "    .dataframe tbody tr th:only-of-type {\n",
       "        vertical-align: middle;\n",
       "    }\n",
       "\n",
       "    .dataframe tbody tr th {\n",
       "        vertical-align: top;\n",
       "    }\n",
       "\n",
       "    .dataframe thead th {\n",
       "        text-align: right;\n",
       "    }\n",
       "</style>\n",
       "<table border=\"1\" class=\"dataframe\">\n",
       "  <thead>\n",
       "    <tr style=\"text-align: right;\">\n",
       "      <th></th>\n",
       "      <th>Text</th>\n",
       "      <th>class</th>\n",
       "    </tr>\n",
       "  </thead>\n",
       "  <tbody>\n",
       "    <tr>\n",
       "      <th>4435</th>\n",
       "      <td>uk gallery curator calls for public art projec...</td>\n",
       "      <td>1</td>\n",
       "    </tr>\n",
       "    <tr>\n",
       "      <th>7154</th>\n",
       "      <td>coronavirus uk map  the latest deaths and conf...</td>\n",
       "      <td>1</td>\n",
       "    </tr>\n",
       "    <tr>\n",
       "      <th>3178</th>\n",
       "      <td>barack obama  is the first ex president to ev...</td>\n",
       "      <td>0</td>\n",
       "    </tr>\n",
       "    <tr>\n",
       "      <th>5741</th>\n",
       "      <td>coronaviruscrisis   it s now clinically prove...</td>\n",
       "      <td>1</td>\n",
       "    </tr>\n",
       "    <tr>\n",
       "      <th>5044</th>\n",
       "      <td>a petition has been filed in the supreme court...</td>\n",
       "      <td>1</td>\n",
       "    </tr>\n",
       "  </tbody>\n",
       "</table>\n",
       "</div>"
      ],
      "text/plain": [
       "                                                   Text  class\n",
       "4435  uk gallery curator calls for public art projec...      1\n",
       "7154  coronavirus uk map  the latest deaths and conf...      1\n",
       "3178   barack obama  is the first ex president to ev...      0\n",
       "5741   coronaviruscrisis   it s now clinically prove...      1\n",
       "5044  a petition has been filed in the supreme court...      1"
      ]
     },
     "execution_count": 9,
     "metadata": {},
     "output_type": "execute_result"
    }
   ],
   "source": [
    "combined.head()"
   ]
  },
  {
   "cell_type": "code",
   "execution_count": 10,
   "id": "cd7e42c6-72c4-4ee3-9fb2-0ede20e16110",
   "metadata": {},
   "outputs": [],
   "source": [
    "# Set X and y variables\n",
    "X = combined[\"Text\"]\n",
    "y = combined[\"class\"]"
   ]
  },
  {
   "cell_type": "code",
   "execution_count": 11,
   "id": "7c8b19fc-1a66-4d25-81b9-52457bcd9b20",
   "metadata": {},
   "outputs": [],
   "source": [
    "# Split data into training and test dataset\n",
    "X_train, X_test, y_train, y_test = train_test_split(X, y, test_size=0.25)"
   ]
  },
  {
   "cell_type": "code",
   "execution_count": 12,
   "id": "61573d3c-af7a-4d5e-adce-2db063ed1cfa",
   "metadata": {},
   "outputs": [],
   "source": [
    "from sklearn.feature_extraction.text import TfidfVectorizer\n",
    "\n",
    "# https://scikit-learn.org/stable/modules/generated/sklearn.feature_extraction.text.TfidfVectorizer.html \n",
    "\n",
    "vectorization = TfidfVectorizer()\n",
    "X_train = vectorization.fit_transform(X_train)\n",
    "X_test = vectorization.transform(X_test)"
   ]
  },
  {
   "cell_type": "markdown",
   "id": "98413098-a3fd-4d35-af63-238e88ed1352",
   "metadata": {},
   "source": [
    "# Model 1: Simple Sklearn Logistic Regression Model"
   ]
  },
  {
   "cell_type": "code",
   "execution_count": 13,
   "id": "723abb19-c7f7-43e4-9842-d285ed4a8006",
   "metadata": {},
   "outputs": [],
   "source": [
    "lr_model = LogisticRegression()\n",
    "# Fit model \n",
    "lr_model.fit(X_train, y_train)\n",
    "# Predict \n",
    "y_pred = lr_model.predict(X_test)"
   ]
  },
  {
   "cell_type": "code",
   "execution_count": 14,
   "id": "5d8c043c-fe29-47e8-87ee-b35494d40631",
   "metadata": {},
   "outputs": [
    {
     "name": "stdout",
     "output_type": "stream",
     "text": [
      "Test Accuracy: 0.992619926199262\n"
     ]
    }
   ],
   "source": [
    "print(f\"Test Accuracy: {accuracy_score(y_test, y_pred)}\")"
   ]
  },
  {
   "cell_type": "code",
   "execution_count": 15,
   "id": "c0e25462-7df8-4d36-8045-139e44d44956",
   "metadata": {},
   "outputs": [
    {
     "name": "stdout",
     "output_type": "stream",
     "text": [
      "              precision    recall  f1-score   support\n",
      "\n",
      "           0       0.99      1.00      0.99       966\n",
      "           1       1.00      0.99      0.99       931\n",
      "\n",
      "    accuracy                           0.99      1897\n",
      "   macro avg       0.99      0.99      0.99      1897\n",
      "weighted avg       0.99      0.99      0.99      1897\n",
      "\n"
     ]
    }
   ],
   "source": [
    "print(classification_report(y_test, y_pred))"
   ]
  },
  {
   "cell_type": "code",
   "execution_count": 16,
   "id": "7cf068ed-ba6f-4c02-8d81-cc2893c5a19b",
   "metadata": {},
   "outputs": [],
   "source": [
    "# Add confusion matrix and roc plot, maybe calulate some other metrics as well"
   ]
  },
  {
   "cell_type": "code",
   "execution_count": 17,
   "id": "06286f00-fe46-42c6-8cb7-1d2c576ca5dc",
   "metadata": {},
   "outputs": [
    {
     "data": {
      "image/png": "[encoded data removed]",
      "text/plain": [
       "<Figure size 720x504 with 2 Axes>"
      ]
     },
     "metadata": {
      "needs_background": "light"
     },
     "output_type": "display_data"
    }
   ],
   "source": [
    "plot_conf_matrix(y_pred, y_test, title=\"Logistic Regression\")"
   ]
  },
  {
   "cell_type": "markdown",
   "id": "6f62c353-9076-47ac-bfc2-846a6b7380c9",
   "metadata": {},
   "source": [
    "# Model 2 Decision Tree Classifier"
   ]
  },
  {
   "cell_type": "code",
   "execution_count": 18,
   "id": "a2417a14-0f43-45c4-96cf-29c5a5d6ea1d",
   "metadata": {},
   "outputs": [],
   "source": [
    "from sklearn.tree import DecisionTreeClassifier\n",
    "\n",
    "dt_model = DecisionTreeClassifier()\n",
    "# Fit model \n",
    "dt_model.fit(X_train, y_train)\n",
    "# Predict \n",
    "y_pred = dt_model.predict(X_test)"
   ]
  },
  {
   "cell_type": "code",
   "execution_count": 19,
   "id": "1e3a00cd-9cee-434a-88b9-8fb9e7159351",
   "metadata": {},
   "outputs": [
    {
     "name": "stdout",
     "output_type": "stream",
     "text": [
      "Test Accuracy: 0.9952556668423828\n"
     ]
    }
   ],
   "source": [
    "print(f\"Test Accuracy: {accuracy_score(y_test, y_pred)}\")"
   ]
  },
  {
   "cell_type": "code",
   "execution_count": 20,
   "id": "5b9c4db3-564f-4fcf-9bb5-52b25e053dd8",
   "metadata": {},
   "outputs": [
    {
     "name": "stdout",
     "output_type": "stream",
     "text": [
      "              precision    recall  f1-score   support\n",
      "\n",
      "           0       0.99      1.00      1.00       966\n",
      "           1       1.00      0.99      1.00       931\n",
      "\n",
      "    accuracy                           1.00      1897\n",
      "   macro avg       1.00      1.00      1.00      1897\n",
      "weighted avg       1.00      1.00      1.00      1897\n",
      "\n"
     ]
    }
   ],
   "source": [
    "print(classification_report(y_test, y_pred))"
   ]
  },
  {
   "cell_type": "code",
   "execution_count": 21,
   "id": "ffa54150-9750-47c2-bebc-9831bf1c2542",
   "metadata": {},
   "outputs": [
    {
     "data": {
      "image/png": "[encoded data removed]",
      "text/plain": [
       "<Figure size 720x504 with 2 Axes>"
      ]
     },
     "metadata": {
      "needs_background": "light"
     },
     "output_type": "display_data"
    }
   ],
   "source": [
    "plot_conf_matrix(y_pred, y_test, title=\"Decision Tree Classifier\")"
   ]
  },
  {
   "cell_type": "markdown",
   "id": "d1e3d764-0e8a-4000-bf12-9a79e324ccc5",
   "metadata": {},
   "source": [
    "# Model 3: Gradient Boosting classifier"
   ]
  },
  {
   "cell_type": "code",
   "execution_count": 22,
   "id": "df52e268-b8ff-4ee4-85aa-cb82c4e51bd6",
   "metadata": {},
   "outputs": [],
   "source": [
    "from sklearn.ensemble import GradientBoostingClassifier\n",
    "\n",
    "gbt_model = GradientBoostingClassifier()\n",
    "# Fit model \n",
    "gbt_model.fit(X_train, y_train)\n",
    "# Predict \n",
    "y_pred = gbt_model.predict(X_test)"
   ]
  },
  {
   "cell_type": "code",
   "execution_count": 23,
   "id": "d11cb9d9-4976-455e-b458-6adfc66778cf",
   "metadata": {},
   "outputs": [
    {
     "name": "stdout",
     "output_type": "stream",
     "text": [
      "Test Accuracy: 0.9952556668423828\n"
     ]
    }
   ],
   "source": [
    "print(f\"Test Accuracy: {accuracy_score(y_test, y_pred)}\")"
   ]
  },
  {
   "cell_type": "code",
   "execution_count": 24,
   "id": "2749b4ef-aed6-4bc7-bf0c-4b3a447a9ebd",
   "metadata": {},
   "outputs": [
    {
     "name": "stdout",
     "output_type": "stream",
     "text": [
      "              precision    recall  f1-score   support\n",
      "\n",
      "           0       0.99      1.00      1.00       966\n",
      "           1       1.00      0.99      1.00       931\n",
      "\n",
      "    accuracy                           1.00      1897\n",
      "   macro avg       1.00      1.00      1.00      1897\n",
      "weighted avg       1.00      1.00      1.00      1897\n",
      "\n"
     ]
    }
   ],
   "source": [
    "print(classification_report(y_test, y_pred))"
   ]
  },
  {
   "cell_type": "code",
   "execution_count": 25,
   "id": "2f4da19d-82b8-4823-aa00-d6e4eb030c89",
   "metadata": {},
   "outputs": [
    {
     "data": {
      "image/png": "[encoded data removed]",
      "text/plain": [
       "<Figure size 720x504 with 2 Axes>"
      ]
     },
     "metadata": {
      "needs_background": "light"
     },
     "output_type": "display_data"
    }
   ],
   "source": [
    "plot_conf_matrix(y_pred, y_test, title=\"Gradient Boosting Classifier Classifier\")"
   ]
  },
  {
   "cell_type": "markdown",
   "id": "8a16e17f-78a2-4ec5-970f-32f775bbadc5",
   "metadata": {},
   "source": [
    "# Model 4: Random Forest Classifier"
   ]
  },
  {
   "cell_type": "code",
   "execution_count": 26,
   "id": "a33153a4-84bc-4f96-a5a7-9997b4f8eae0",
   "metadata": {},
   "outputs": [],
   "source": [
    "from sklearn.ensemble import RandomForestClassifier\n",
    "\n",
    "rf_model = RandomForestClassifier()\n",
    "# Fit model \n",
    "rf_model.fit(X_train, y_train)\n",
    "# Predict \n",
    "y_pred = rf_model.predict(X_test)"
   ]
  },
  {
   "cell_type": "code",
   "execution_count": 27,
   "id": "1d238bfb-8cc5-4bd8-953e-efe0f24a4105",
   "metadata": {},
   "outputs": [
    {
     "name": "stdout",
     "output_type": "stream",
     "text": [
      "Test Accuracy: 0.9952556668423828\n"
     ]
    }
   ],
   "source": [
    "print(f\"Test Accuracy: {accuracy_score(y_test, y_pred)}\")"
   ]
  },
  {
   "cell_type": "code",
   "execution_count": 28,
   "id": "de2bf596-bc0c-421b-9181-aae616c4023f",
   "metadata": {},
   "outputs": [
    {
     "name": "stdout",
     "output_type": "stream",
     "text": [
      "              precision    recall  f1-score   support\n",
      "\n",
      "           0       0.99      1.00      1.00       966\n",
      "           1       1.00      0.99      1.00       931\n",
      "\n",
      "    accuracy                           1.00      1897\n",
      "   macro avg       1.00      1.00      1.00      1897\n",
      "weighted avg       1.00      1.00      1.00      1897\n",
      "\n"
     ]
    }
   ],
   "source": [
    "print(classification_report(y_test, y_pred))"
   ]
  },
  {
   "cell_type": "code",
   "execution_count": 29,
   "id": "51100650-48b0-4a15-9a1f-e9597fd472b2",
   "metadata": {},
   "outputs": [
    {
     "data": {
      "image/png": "[encoded data removed]",
      "text/plain": [
       "<Figure size 720x504 with 2 Axes>"
      ]
     },
     "metadata": {
      "needs_background": "light"
     },
     "output_type": "display_data"
    }
   ],
   "source": [
    "plot_conf_matrix(y_pred, y_test, title=\"Random Forest Classifier\")"
   ]
  },
  {
   "cell_type": "markdown",
   "id": "54670df2-1235-4f4d-aab8-56f10cd945c8",
   "metadata": {},
   "source": [
    "# LSTM Model"
   ]
  },
  {
   "cell_type": "code",
   "execution_count": 30,
   "id": "a452df0c-44bc-4cfe-914a-793248f45431",
   "metadata": {},
   "outputs": [],
   "source": [
    "# https://medium.com/ai-techsystems/fake-news-classifier-using-bidirectional-lstm-cebef77b0adc"
   ]
  },
  {
   "cell_type": "code",
   "execution_count": 41,
   "id": "bfca58c1-9cf7-4c05-a0f7-5d53caccb206",
   "metadata": {},
   "outputs": [],
   "source": [
    "\n",
    "import pandas as pd\n",
    "import numpy as np\n",
    "import tensorflow as tf\n",
    "from tensorflow.keras.layers import Embedding\n",
    "from tensorflow.keras.preprocessing.sequence import pad_sequences\n",
    "from tensorflow.keras.models import Sequential\n",
    "from tensorflow.keras.preprocessing.text import one_hot\n",
    "from tensorflow.keras.layers import LSTM\n",
    "from tensorflow.keras.layers import Dense\n",
    "from tensorflow.keras.layers import Bidirectional\n",
    "from tensorflow.keras.layers import Dropout\n",
    "import nltk\n",
    "import re\n",
    "from nltk.corpus import stopwords\n",
    "from sklearn.model_selection import train_test_split"
   ]
  },
  {
   "cell_type": "code",
   "execution_count": 42,
   "id": "9cc6085f-5f67-452b-a9bc-571c6f1b9552",
   "metadata": {},
   "outputs": [],
   "source": [
    "# Set X and y variables\n",
    "X = combined[[\"Text\"]]\n",
    "y = combined[[\"class\"]]"
   ]
  },
  {
   "cell_type": "code",
   "execution_count": 43,
   "id": "b4d0879b-05dc-46be-a487-e9359f1ccce3",
   "metadata": {},
   "outputs": [],
   "source": [
    "# Vocabulary size\n",
    "voc_size=30"
   ]
  },
  {
   "cell_type": "code",
   "execution_count": 44,
   "id": "dff75c5b-a894-44b9-8b7f-009cad7121ff",
   "metadata": {},
   "outputs": [],
   "source": [
    "X_copy=X.copy()\n",
    "X_copy.reset_index(inplace=True)"
   ]
  },
  {
   "cell_type": "code",
   "execution_count": 45,
   "id": "b31206d8-004c-4f08-b3d0-4aa07cd00a0d",
   "metadata": {},
   "outputs": [
    {
     "name": "stderr",
     "output_type": "stream",
     "text": [
      "[nltk_data] Downloading package stopwords to /home/kavi/nltk_data...\n",
      "[nltk_data]   Package stopwords is already up-to-date!\n"
     ]
    },
    {
     "data": {
      "text/plain": [
       "True"
      ]
     },
     "execution_count": 45,
     "metadata": {},
     "output_type": "execute_result"
    }
   ],
   "source": [
    "nltk.download('stopwords')"
   ]
  },
  {
   "cell_type": "code",
   "execution_count": 47,
   "id": "e44e115d-a590-45f9-be4c-eb296f392d13",
   "metadata": {},
   "outputs": [],
   "source": [
    "from nltk.stem.porter import PorterStemmer\n",
    "ps = PorterStemmer()\n",
    "corpus = []\n",
    "for i in range(0, len(X_copy)):\n",
    "    review = re.sub('[^a-zA-Z]', ' ', X_copy['Text'][i])\n",
    "    review = review.lower()\n",
    "    review = review.split()\n",
    "\n",
    "    review = [ps.stem(word) for word in review if not word in stopwords.words('english')]\n",
    "    review = ' '.join(review)\n",
    "    corpus.append(review)\n",
    "# corpus"
   ]
  },
  {
   "cell_type": "code",
   "execution_count": 51,
   "id": "a7607982-8895-440c-ac88-664c4df756e4",
   "metadata": {},
   "outputs": [],
   "source": [
    "onehot_repr = [one_hot(words,voc_size)for words in corpus] "
   ]
  },
  {
   "cell_type": "code",
   "execution_count": 52,
   "id": "641a21c7-8e03-4722-8ea1-0004e52b1d1d",
   "metadata": {},
   "outputs": [
    {
     "data": {
      "text/plain": [
       "array([13,  7, 25,  9, 26, 25, 22, 10,  3,  6, 25,  5, 12, 22, 22, 14, 19,\n",
       "        9, 16,  1], dtype=int32)"
      ]
     },
     "execution_count": 52,
     "metadata": {},
     "output_type": "execute_result"
    }
   ],
   "source": [
    "sent_length=20\n",
    "embedded_docs=pad_sequences(onehot_repr,padding='pre',maxlen=sent_length)\n",
    "embedded_docs[0]"
   ]
  },
  {
   "cell_type": "code",
   "execution_count": 53,
   "id": "5a12f564-a420-4895-b50e-72ecde91a912",
   "metadata": {},
   "outputs": [
    {
     "data": {
      "text/plain": [
       "array([13,  7, 25,  9, 26, 25, 22, 10,  3,  6, 25,  5, 12, 22, 22, 14, 19,\n",
       "        9, 16,  1], dtype=int32)"
      ]
     },
     "execution_count": 53,
     "metadata": {},
     "output_type": "execute_result"
    }
   ],
   "source": [
    "sent_length=20\n",
    "embedded_docs=pad_sequences(onehot_repr,padding='pre',maxlen=sent_length)\n",
    "embedded_docs[0]"
   ]
  },
  {
   "cell_type": "code",
   "execution_count": 54,
   "id": "8a589634-f273-4e3c-bb87-ef486df96778",
   "metadata": {},
   "outputs": [],
   "source": [
    "X_final=np.array(embedded_docs)\n",
    "y_final=np.array(y)\n",
    "\n",
    "X_train, X_test, y_train, y_test = train_test_split(X_final, y_final, test_size=0.33, random_state=42, stratify=y)"
   ]
  },
  {
   "cell_type": "code",
   "execution_count": 105,
   "id": "51f287d1-a8e5-465b-937b-eea9479c77d0",
   "metadata": {},
   "outputs": [
    {
     "name": "stdout",
     "output_type": "stream",
     "text": [
      "Model: \"sequential_5\"\n",
      "_________________________________________________________________\n",
      " Layer (type)                Output Shape              Param #   \n",
      "=================================================================\n",
      " embedding_5 (Embedding)     (None, 20, 40)            1200      \n",
      "                                                                 \n",
      " dropout_10 (Dropout)        (None, 20, 40)            0         \n",
      "                                                                 \n",
      " lstm_5 (LSTM)               (None, 1000)              4164000   \n",
      "                                                                 \n",
      " dropout_11 (Dropout)        (None, 1000)              0         \n",
      "                                                                 \n",
      " dense_5 (Dense)             (None, 1)                 1001      \n",
      "                                                                 \n",
      "=================================================================\n",
      "Total params: 4,166,201\n",
      "Trainable params: 4,166,201\n",
      "Non-trainable params: 0\n",
      "_________________________________________________________________\n",
      "None\n"
     ]
    }
   ],
   "source": [
    "embedding_vector_features=40\n",
    "model1=Sequential()\n",
    "model1.add(Embedding(voc_size,embedding_vector_features,input_length=sent_length))\n",
    "model1.add(Dropout(0.2))\n",
    "model1.add(LSTM(1000))\n",
    "model1.add(Dropout(0.2))\n",
    "model1.add(Dense(1, activation='sigmoid'))\n",
    "model1.compile(loss='binary_crossentropy',optimizer='adam',metrics=['accuracy'])\n",
    "print(model1.summary())"
   ]
  },
  {
   "cell_type": "code",
   "execution_count": 106,
   "id": "f44583e1-f018-46d1-8133-a937474d7901",
   "metadata": {},
   "outputs": [
    {
     "name": "stdout",
     "output_type": "stream",
     "text": [
      "Epoch 1/20\n",
      "20/20 [==============================] - 1s 26ms/step - loss: 0.4244 - accuracy: 0.8426 - val_loss: 0.3280 - val_accuracy: 0.8591\n",
      "Epoch 2/20\n",
      "20/20 [==============================] - 0s 15ms/step - loss: 0.3585 - accuracy: 0.8668 - val_loss: 0.3115 - val_accuracy: 0.8655\n",
      "Epoch 3/20\n",
      "20/20 [==============================] - 0s 15ms/step - loss: 0.2967 - accuracy: 0.8843 - val_loss: 0.2503 - val_accuracy: 0.8950\n",
      "Epoch 4/20\n",
      "20/20 [==============================] - 0s 15ms/step - loss: 0.2413 - accuracy: 0.9079 - val_loss: 0.2092 - val_accuracy: 0.9174\n",
      "Epoch 5/20\n",
      "20/20 [==============================] - 0s 15ms/step - loss: 0.1983 - accuracy: 0.9209 - val_loss: 0.2332 - val_accuracy: 0.9066\n",
      "Epoch 6/20\n",
      "20/20 [==============================] - 0s 15ms/step - loss: 0.1807 - accuracy: 0.9335 - val_loss: 0.1535 - val_accuracy: 0.9345\n",
      "Epoch 7/20\n",
      "20/20 [==============================] - 0s 15ms/step - loss: 0.1509 - accuracy: 0.9408 - val_loss: 0.1488 - val_accuracy: 0.9469\n",
      "Epoch 8/20\n",
      "20/20 [==============================] - 0s 15ms/step - loss: 0.1389 - accuracy: 0.9477 - val_loss: 0.1337 - val_accuracy: 0.9489\n",
      "Epoch 9/20\n",
      "20/20 [==============================] - 0s 15ms/step - loss: 0.1351 - accuracy: 0.9498 - val_loss: 0.1591 - val_accuracy: 0.9389\n",
      "Epoch 10/20\n",
      "20/20 [==============================] - 0s 15ms/step - loss: 0.1288 - accuracy: 0.9516 - val_loss: 0.1287 - val_accuracy: 0.9513\n",
      "Epoch 11/20\n",
      "20/20 [==============================] - 0s 15ms/step - loss: 0.1236 - accuracy: 0.9508 - val_loss: 0.1411 - val_accuracy: 0.9457\n",
      "Epoch 12/20\n",
      "20/20 [==============================] - 0s 15ms/step - loss: 0.1199 - accuracy: 0.9540 - val_loss: 0.1394 - val_accuracy: 0.9461\n",
      "Epoch 13/20\n",
      "20/20 [==============================] - 0s 15ms/step - loss: 0.1276 - accuracy: 0.9504 - val_loss: 0.1357 - val_accuracy: 0.9485\n",
      "Epoch 14/20\n",
      "20/20 [==============================] - 0s 15ms/step - loss: 0.1140 - accuracy: 0.9573 - val_loss: 0.1285 - val_accuracy: 0.9541\n",
      "Epoch 15/20\n",
      "20/20 [==============================] - 0s 15ms/step - loss: 0.1143 - accuracy: 0.9571 - val_loss: 0.1191 - val_accuracy: 0.9565\n",
      "Epoch 16/20\n",
      "20/20 [==============================] - 0s 15ms/step - loss: 0.1121 - accuracy: 0.9549 - val_loss: 0.1229 - val_accuracy: 0.9549\n",
      "Epoch 17/20\n",
      "20/20 [==============================] - 0s 15ms/step - loss: 0.1068 - accuracy: 0.9557 - val_loss: 0.1256 - val_accuracy: 0.9553\n",
      "Epoch 18/20\n",
      "20/20 [==============================] - 0s 15ms/step - loss: 0.1037 - accuracy: 0.9628 - val_loss: 0.1183 - val_accuracy: 0.9601\n",
      "Epoch 19/20\n",
      "20/20 [==============================] - 0s 15ms/step - loss: 0.1032 - accuracy: 0.9589 - val_loss: 0.1182 - val_accuracy: 0.9565\n",
      "Epoch 20/20\n",
      "20/20 [==============================] - 0s 15ms/step - loss: 0.0976 - accuracy: 0.9636 - val_loss: 0.1224 - val_accuracy: 0.9581\n"
     ]
    }
   ],
   "source": [
    "history = model1.fit(X_train,y_train,validation_data=(X_test,y_test),epochs=20,batch_size=256)"
   ]
  },
  {
   "cell_type": "code",
   "execution_count": 107,
   "id": "cb0088fa-4f7d-4a65-82d5-5b8c21cbfb9e",
   "metadata": {},
   "outputs": [
    {
     "data": {
      "image/png": "[encoded data removed]",
      "text/plain": [
       "<Figure size 432x288 with 1 Axes>"
      ]
     },
     "metadata": {
      "needs_background": "light"
     },
     "output_type": "display_data"
    },
    {
     "data": {
      "image/png": "[encoded data removed]",
      "text/plain": [
       "<Figure size 432x288 with 1 Axes>"
      ]
     },
     "metadata": {
      "needs_background": "light"
     },
     "output_type": "display_data"
    }
   ],
   "source": [
    "# summarize history for accuracy\n",
    "plt.plot(history.history['accuracy'])\n",
    "plt.plot(history.history['val_accuracy'])\n",
    "plt.title('model accuracy')\n",
    "plt.ylabel('accuracy')\n",
    "plt.xlabel('epoch')\n",
    "plt.legend(['train', 'test'], loc='upper left')\n",
    "plt.show()\n",
    "# summarize history for loss\n",
    "plt.plot(history.history['loss'])\n",
    "plt.plot(history.history['val_loss'])\n",
    "plt.title('model loss')\n",
    "plt.ylabel('loss')\n",
    "plt.xlabel('epoch')\n",
    "plt.legend(['train', 'test'], loc='upper left')\n",
    "plt.show()"
   ]
  },
  {
   "cell_type": "code",
   "execution_count": 103,
   "id": "deff02b8-f904-49a2-9cac-737c0dcc1a36",
   "metadata": {},
   "outputs": [],
   "source": [
    "y_probs = model1.predict(X_test)\n",
    "y_pred = np.around(y_probs)"
   ]
  },
  {
   "cell_type": "code",
   "execution_count": 104,
   "id": "b8d90915-33d7-41fa-a1d8-e5fa7f77deff",
   "metadata": {},
   "outputs": [
    {
     "name": "stdout",
     "output_type": "stream",
     "text": [
      "Test Accuracy: 0.9528942115768463\n"
     ]
    }
   ],
   "source": [
    "print(f\"Test Accuracy: {accuracy_score(y_test, y_pred)}\")"
   ]
  },
  {
   "cell_type": "code",
   "execution_count": 92,
   "id": "39146062-17da-4d59-95e3-a01fd013dfe6",
   "metadata": {},
   "outputs": [
    {
     "data": {
      "image/png": "[encoded data removed]",
      "text/plain": [
       "<Figure size 720x504 with 2 Axes>"
      ]
     },
     "metadata": {
      "needs_background": "light"
     },
     "output_type": "display_data"
    }
   ],
   "source": [
    "plot_conf_matrix(y_pred, y_test, title=\"LSTM Classifier\")"
   ]
  },
  {
   "cell_type": "code",
   "execution_count": null,
   "id": "4d1f3dee-c08a-4425-bef1-e511e95bb6c9",
   "metadata": {},
   "outputs": [],
   "source": []
  }
 ],
 "metadata": {
  "kernelspec": {
   "display_name": "Python 3 (ipykernel)",
   "language": "python",
   "name": "python3"
  },
  "language_info": {
   "codemirror_mode": {
    "name": "ipython",
    "version": 3
   },
   "file_extension": ".py",
   "mimetype": "text/x-python",
   "name": "python",
   "nbconvert_exporter": "python",
   "pygments_lexer": "ipython3",
   "version": "3.8.0"
  }
 },
 "nbformat": 4,
 "nbformat_minor": 5
}
