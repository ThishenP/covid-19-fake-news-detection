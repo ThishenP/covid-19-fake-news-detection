{
 "cells": [
  {
   "cell_type": "code",
   "execution_count": 1,
   "id": "659902f1-83fb-48a6-a872-554e71f93735",
   "metadata": {},
   "outputs": [],
   "source": [
    "import warnings\n",
    "warnings.filterwarnings('ignore')\n",
    "import numpy as np\n",
    "import pandas as pd\n",
    "import matplotlib.pyplot as plt\n",
    "import seaborn as sns\n",
    "import nltk\n",
    "import string\n",
    "import re\n",
    "import os\n",
    "from sklearn.linear_model import LogisticRegression\n",
    "from sklearn.model_selection import train_test_split, GridSearchCV\n",
    "from sklearn.metrics import classification_report, accuracy_score, confusion_matrix"
   ]
  },
  {
   "cell_type": "code",
   "execution_count": 2,
   "id": "5c7080bd-9360-46ee-9ae7-24f3aaae8c24",
   "metadata": {
    "scrolled": true,
    "tags": []
   },
   "outputs": [],
   "source": [
    "def plot_conf_matrix(y_pred, y_true, title=None):\n",
    "    \"\"\"Helper Function to plot confustion matrix\"\"\"\n",
    "    \n",
    "    conf_mat = confusion_matrix(y_pred, y_true)\n",
    "    df_cm = pd.DataFrame(conf_mat, index = [i for i in [\"Fake\", \"Real\"]],\n",
    "                  columns = [i for i in [\"Fake\", \"Real\"]])\n",
    "    plt.figure(figsize = (10,7))\n",
    "    sns.heatmap(df_cm, annot=True, cmap=\"Blues\")\n",
    "    plt.ylabel(\"True Label\")\n",
    "    plt.xlabel(\"Predicted Label\")\n",
    "    if title:\n",
    "        plt.title(f\"{title} Confusion Matrix\")\n",
    "    plt.show()"
   ]
  },
  {
   "cell_type": "markdown",
   "id": "f266b5af-4823-41b0-97ce-d467abb1dbae",
   "metadata": {},
   "source": [
    "# Read in Data and Preprocess"
   ]
  },
  {
   "cell_type": "code",
   "execution_count": 5,
   "id": "44ec800a-a3b4-465e-9b74-64d29b0ceafa",
   "metadata": {},
   "outputs": [],
   "source": [
    "true_news_df = pd.read_csv(\"COVID19-FNIR/COVID19-FNIR/trueNews.csv\")\n",
    "fake_news_df = pd.read_csv(\"COVID19-FNIR/COVID19-FNIR/fakeNews.csv\")\n",
    "# Assign class columns and combine dataframes\n",
    "fake_news_df[\"class\"] = 0\n",
    "true_news_df[\"class\"] = 1\n",
    "combined = pd.concat([fake_news_df, true_news_df], axis=0)"
   ]
  },
  {
   "cell_type": "code",
   "execution_count": 6,
   "id": "e0f7342a-bbac-46cf-8261-ae7115916a32",
   "metadata": {},
   "outputs": [
    {
     "data": {
      "text/plain": [
       "(7588, 15)"
      ]
     },
     "execution_count": 6,
     "metadata": {},
     "output_type": "execute_result"
    }
   ],
   "source": [
    "combined.shape"
   ]
  },
  {
   "cell_type": "code",
   "execution_count": 7,
   "id": "2741c91f-efb4-4fac-bf06-7dff8abd4acb",
   "metadata": {},
   "outputs": [
    {
     "data": {
      "text/plain": [
       "(3795, 12)"
      ]
     },
     "execution_count": 7,
     "metadata": {},
     "output_type": "execute_result"
    }
   ],
   "source": [
    "fake_news_df.shape"
   ]
  },
  {
   "cell_type": "code",
   "execution_count": 8,
   "id": "739507be-1d3e-4241-8751-172d93fd769c",
   "metadata": {},
   "outputs": [
    {
     "data": {
      "text/plain": [
       "(3793, 8)"
      ]
     },
     "execution_count": 8,
     "metadata": {},
     "output_type": "execute_result"
    }
   ],
   "source": [
    "true_news_df.shape"
   ]
  },
  {
   "cell_type": "code",
   "execution_count": 9,
   "id": "358c39f1-67fc-4981-b2db-39319c965914",
   "metadata": {},
   "outputs": [],
   "source": [
    "# Subset data to just contain the text field and the class field\n",
    "combined = combined[[\"Text\", \"class\"]].reset_index(drop=True)\n",
    "# Shuffle data\n",
    "combined = combined.sample(frac = 1)"
   ]
  },
  {
   "cell_type": "code",
   "execution_count": 21,
   "id": "3ec2f6f3-859f-424d-a65d-79a3440993ab",
   "metadata": {},
   "outputs": [
    {
     "ename": "SyntaxError",
     "evalue": "invalid syntax (1076003711.py, line 10)",
     "output_type": "error",
     "traceback": [
      "\u001b[0;36m  File \u001b[0;32m\"/tmp/ipykernel_276670/1076003711.py\"\u001b[0;36m, line \u001b[0;32m10\u001b[0m\n\u001b[0;31m    string = string.replace(/\\s\\s+/g, ' ');\u001b[0m\n\u001b[0m                            ^\u001b[0m\n\u001b[0;31mSyntaxError\u001b[0m\u001b[0;31m:\u001b[0m invalid syntax\n"
     ]
    }
   ],
   "source": [
    "combined['Text'] = combined['Text'].str.replace('http\\S+|www.\\S+', '', case=False)\n",
    "combined['Text'] = combined['Text'].str.replace('pic\\S+|twitter.\\S+', '', case=False)\n",
    "combined['Text'] = combined['Text'].str.replace('#\\S+', '', case=False)\n",
    "combined['Text'] = combined['Text'].str.replace('@\\S+', '', case=False)\n",
    "combined['Text'] = combined['Text'].str.replace('Link:\\S+', '', case=False)\n",
    "combined['Text'] = combined['Text'].str.replace('[ \\t]+$', '', case=False)\n",
    "# remove front and ending blank spaces\n",
    "combined = combined.replace({\"^\\s*|\\s*$\":\"\"}, regex=True) \n",
    "\n",
    "string = string.replace(/\\s\\s+/g, ' ');\n",
    "\n",
    "def wordopt(text):\n",
    "    \"\"\"Formating of the text field \"\"\"\n",
    "    text = text.lower()\n",
    "    text = re.sub('\\[.*?\\]', '', text)\n",
    "    text = re.sub(\"\\\\W\",\" \",text) \n",
    "    text = re.sub('<.*?>+', '', text)\n",
    "    text = re.sub('[%s]' % re.escape(string.punctuation), '', text)\n",
    "    text = re.sub('\\n', '', text)\n",
    "    text = re.sub('\\w*\\d\\w*', '', text)    \n",
    "    return text\n",
    "\n",
    "combined[\"Text\"] = combined[\"Text\"].apply(wordopt)"
   ]
  },
  {
   "cell_type": "code",
   "execution_count": 13,
   "id": "53d2a28d-7dee-4174-b055-ce8d3a22a366",
   "metadata": {},
   "outputs": [
    {
     "data": {
      "text/plain": [
       "'the global death toll from covid  stands at more than'"
      ]
     },
     "execution_count": 13,
     "metadata": {},
     "output_type": "execute_result"
    }
   ],
   "source": [
    "combined[combined[\"class\"]==1].iloc[2][\"Text\"]"
   ]
  },
  {
   "cell_type": "code",
   "execution_count": null,
   "id": "a485771a-1846-4ee8-8b6f-63f4593a6420",
   "metadata": {},
   "outputs": [],
   "source": []
  },
  {
   "cell_type": "code",
   "execution_count": 14,
   "id": "0148108e-d38e-4b59-b9c9-32346b2696eb",
   "metadata": {},
   "outputs": [],
   "source": [
    "# for i in range(1000):\n",
    "#     print(f\"{i}: {combined[combined['class']==0].iloc[i]['Text']}\")"
   ]
  },
  {
   "cell_type": "code",
   "execution_count": 19,
   "id": "250e1445-9afa-4243-bd52-173849e4781f",
   "metadata": {},
   "outputs": [
    {
     "data": {
      "text/plain": [
       "'george floyd s  murder  filmed before covid'"
      ]
     },
     "execution_count": 19,
     "metadata": {},
     "output_type": "execute_result"
    }
   ],
   "source": [
    "combined[combined[\"class\"]==0].iloc[540][\"Text\"]"
   ]
  },
  {
   "cell_type": "code",
   "execution_count": 20,
   "id": "5b37be7d-6983-40e0-a462-0d2f3a1be9b0",
   "metadata": {},
   "outputs": [
    {
     "data": {
      "text/plain": [
       "'no  accused of putting  brexit over breathing  in covid  ventilator row'"
      ]
     },
     "execution_count": 20,
     "metadata": {},
     "output_type": "execute_result"
    }
   ],
   "source": [
    "combined[combined[\"class\"]==1].iloc[101][\"Text\"]"
   ]
  },
  {
   "cell_type": "code",
   "execution_count": 224,
   "id": "8588e879-92d7-464a-8342-5071b22b829c",
   "metadata": {},
   "outputs": [
    {
     "data": {
      "text/html": [
       "<div>\n",
       "<style scoped>\n",
       "    .dataframe tbody tr th:only-of-type {\n",
       "        vertical-align: middle;\n",
       "    }\n",
       "\n",
       "    .dataframe tbody tr th {\n",
       "        vertical-align: top;\n",
       "    }\n",
       "\n",
       "    .dataframe thead th {\n",
       "        text-align: right;\n",
       "    }\n",
       "</style>\n",
       "<table border=\"1\" class=\"dataframe\">\n",
       "  <thead>\n",
       "    <tr style=\"text-align: right;\">\n",
       "      <th></th>\n",
       "      <th>Text</th>\n",
       "      <th>class</th>\n",
       "    </tr>\n",
       "  </thead>\n",
       "  <tbody>\n",
       "    <tr>\n",
       "      <th>4844</th>\n",
       "      <td>new  report highlights geographic differences ...</td>\n",
       "      <td>1</td>\n",
       "    </tr>\n",
       "    <tr>\n",
       "      <th>7506</th>\n",
       "      <td>govt changes strategy to fight against covid  ...</td>\n",
       "      <td>1</td>\n",
       "    </tr>\n",
       "    <tr>\n",
       "      <th>2612</th>\n",
       "      <td>hot weather will stop the covid  pandemic</td>\n",
       "      <td>0</td>\n",
       "    </tr>\n",
       "    <tr>\n",
       "      <th>735</th>\n",
       "      <td>spanish politician ortega smith said  i prefer...</td>\n",
       "      <td>0</td>\n",
       "    </tr>\n",
       "    <tr>\n",
       "      <th>6649</th>\n",
       "      <td>uk employers should pay wages of those asked t...</td>\n",
       "      <td>1</td>\n",
       "    </tr>\n",
       "  </tbody>\n",
       "</table>\n",
       "</div>"
      ],
      "text/plain": [
       "                                                   Text  class\n",
       "4844  new  report highlights geographic differences ...      1\n",
       "7506  govt changes strategy to fight against covid  ...      1\n",
       "2612          hot weather will stop the covid  pandemic      0\n",
       "735   spanish politician ortega smith said  i prefer...      0\n",
       "6649  uk employers should pay wages of those asked t...      1"
      ]
     },
     "execution_count": 224,
     "metadata": {},
     "output_type": "execute_result"
    }
   ],
   "source": [
    "combined.head()"
   ]
  },
  {
   "cell_type": "code",
   "execution_count": 226,
   "id": "cd7e42c6-72c4-4ee3-9fb2-0ede20e16110",
   "metadata": {},
   "outputs": [],
   "source": [
    "# Set X and y variables\n",
    "X = combined[\"Text\"]\n",
    "y = combined[\"class\"]"
   ]
  },
  {
   "cell_type": "code",
   "execution_count": 227,
   "id": "7c8b19fc-1a66-4d25-81b9-52457bcd9b20",
   "metadata": {},
   "outputs": [],
   "source": [
    "# Split data into training and test dataset\n",
    "X_train, X_test, y_train, y_test = train_test_split(X, y, test_size=0.25, random_state=42)"
   ]
  },
  {
   "cell_type": "code",
   "execution_count": 228,
   "id": "61573d3c-af7a-4d5e-adce-2db063ed1cfa",
   "metadata": {},
   "outputs": [],
   "source": [
    "from sklearn.feature_extraction.text import TfidfVectorizer\n",
    "\n",
    "# https://scikit-learn.org/stable/modules/generated/sklearn.feature_extraction.text.TfidfVectorizer.html \n",
    "\n",
    "vectorization = TfidfVectorizer()\n",
    "X_train = vectorization.fit_transform(X_train)\n",
    "X_test = vectorization.transform(X_test)"
   ]
  },
  {
   "cell_type": "markdown",
   "id": "4ac59ee7-3e2e-4189-a87e-f4b88a413acb",
   "metadata": {},
   "source": [
    "# Model 1: Naive Bayes Model"
   ]
  },
  {
   "cell_type": "code",
   "execution_count": 229,
   "id": "f0d7a940-75b1-4c7d-a9bd-3c647e87f74d",
   "metadata": {},
   "outputs": [],
   "source": [
    "from sklearn.naive_bayes import MultinomialNB\n",
    "\n",
    "\n",
    "nb_model = MultinomialNB()\n",
    "# Fit model \n",
    "nb_model.fit(X_train, y_train)\n",
    "# Predict \n",
    "y_pred = nb_model.predict(X_test)"
   ]
  },
  {
   "cell_type": "code",
   "execution_count": 230,
   "id": "262ad684-5594-4d6f-a163-3770d6882698",
   "metadata": {},
   "outputs": [
    {
     "name": "stdout",
     "output_type": "stream",
     "text": [
      "Test Accuracy: 0.8892988929889298\n"
     ]
    }
   ],
   "source": [
    "print(f\"Test Accuracy: {accuracy_score(y_test, y_pred)}\")"
   ]
  },
  {
   "cell_type": "code",
   "execution_count": 231,
   "id": "b01575a4-f621-4efd-8810-5b11ef7b2992",
   "metadata": {},
   "outputs": [
    {
     "name": "stdout",
     "output_type": "stream",
     "text": [
      "              precision    recall  f1-score   support\n",
      "\n",
      "           0       0.89      0.89      0.89       961\n",
      "           1       0.88      0.89      0.89       936\n",
      "\n",
      "    accuracy                           0.89      1897\n",
      "   macro avg       0.89      0.89      0.89      1897\n",
      "weighted avg       0.89      0.89      0.89      1897\n",
      "\n"
     ]
    }
   ],
   "source": [
    "print(classification_report(y_test, y_pred))"
   ]
  },
  {
   "cell_type": "code",
   "execution_count": 232,
   "id": "5f0fff98-4b50-4515-8afe-29a65346b6fa",
   "metadata": {},
   "outputs": [
    {
     "data": {
      "image/png": "[encoded data removed]",
      "text/plain": [
       "<Figure size 720x504 with 2 Axes>"
      ]
     },
     "metadata": {
      "needs_background": "light"
     },
     "output_type": "display_data"
    }
   ],
   "source": [
    "plot_conf_matrix(y_pred, y_test, title=\"Naive Bayes\")"
   ]
  },
  {
   "cell_type": "code",
   "execution_count": 233,
   "id": "6766beb6-fb12-4792-b9e7-cbf94a6b43f1",
   "metadata": {},
   "outputs": [],
   "source": [
    "# \n",
    "params = {\n",
    "    \"alpha\": [0.001, 0.01, 0.05, 0.1, 0.2, 0.3, 0.4, 0.5, 0.75, 1, 1.5, 2, 3, 5, 10],\n",
    "    \"fit_prior\": (True, False),\n",
    "}\n",
    "gs_clf = GridSearchCV(MultinomialNB(), params, n_jobs=-1)\n",
    "gs_clf = gs_clf.fit(X_train, y_train)"
   ]
  },
  {
   "cell_type": "code",
   "execution_count": 234,
   "id": "cdee0b08-131d-4f5a-9e53-2e80e16c0afa",
   "metadata": {},
   "outputs": [],
   "source": [
    "# gs_clf.cv_results_"
   ]
  },
  {
   "cell_type": "code",
   "execution_count": 235,
   "id": "88ce76af-295f-4742-b7da-62ee92257730",
   "metadata": {},
   "outputs": [],
   "source": [
    "y_pred = gs_clf.predict(X_test)"
   ]
  },
  {
   "cell_type": "code",
   "execution_count": 236,
   "id": "a75c77b0-4da1-479a-b10e-d363e7c8de38",
   "metadata": {},
   "outputs": [
    {
     "name": "stdout",
     "output_type": "stream",
     "text": [
      "Test Accuracy: 0.8914074855034264\n"
     ]
    }
   ],
   "source": [
    "print(f\"Test Accuracy: {accuracy_score(y_test, y_pred)}\")"
   ]
  },
  {
   "cell_type": "code",
   "execution_count": 237,
   "id": "5cd04a36-62a9-47e3-a4cc-5010578710b5",
   "metadata": {},
   "outputs": [
    {
     "name": "stdout",
     "output_type": "stream",
     "text": [
      "              precision    recall  f1-score   support\n",
      "\n",
      "           0       0.90      0.89      0.89       961\n",
      "           1       0.89      0.89      0.89       936\n",
      "\n",
      "    accuracy                           0.89      1897\n",
      "   macro avg       0.89      0.89      0.89      1897\n",
      "weighted avg       0.89      0.89      0.89      1897\n",
      "\n"
     ]
    }
   ],
   "source": [
    "print(classification_report(y_test, y_pred))"
   ]
  },
  {
   "cell_type": "code",
   "execution_count": 238,
   "id": "317ebf93-58bb-4fad-b283-43980c628a0d",
   "metadata": {},
   "outputs": [
    {
     "data": {
      "image/png": "[encoded data removed]",
      "text/plain": [
       "<Figure size 720x504 with 2 Axes>"
      ]
     },
     "metadata": {
      "needs_background": "light"
     },
     "output_type": "display_data"
    }
   ],
   "source": [
    "plot_conf_matrix(y_pred, y_test, title=\"Naive Bayes\")"
   ]
  },
  {
   "cell_type": "markdown",
   "id": "60e77592-c6e4-4a9c-845a-2f0cff3cf99e",
   "metadata": {},
   "source": [
    "# Model 2: Gradient Boosting Classifier"
   ]
  },
  {
   "cell_type": "code",
   "execution_count": 239,
   "id": "df52e268-b8ff-4ee4-85aa-cb82c4e51bd6",
   "metadata": {},
   "outputs": [],
   "source": [
    "from sklearn.ensemble import GradientBoostingClassifier\n",
    "\n",
    "gbt_model = GradientBoostingClassifier()\n",
    "# Fit model \n",
    "gbt_model.fit(X_train, y_train)\n",
    "# Predict \n",
    "y_pred = gbt_model.predict(X_test)"
   ]
  },
  {
   "cell_type": "code",
   "execution_count": 240,
   "id": "d11cb9d9-4976-455e-b458-6adfc66778cf",
   "metadata": {},
   "outputs": [
    {
     "name": "stdout",
     "output_type": "stream",
     "text": [
      "Test Accuracy: 0.8508170795993675\n"
     ]
    }
   ],
   "source": [
    "print(f\"Test Accuracy: {accuracy_score(y_test, y_pred)}\")"
   ]
  },
  {
   "cell_type": "code",
   "execution_count": 241,
   "id": "2749b4ef-aed6-4bc7-bf0c-4b3a447a9ebd",
   "metadata": {},
   "outputs": [
    {
     "name": "stdout",
     "output_type": "stream",
     "text": [
      "              precision    recall  f1-score   support\n",
      "\n",
      "           0       0.87      0.83      0.85       961\n",
      "           1       0.83      0.87      0.85       936\n",
      "\n",
      "    accuracy                           0.85      1897\n",
      "   macro avg       0.85      0.85      0.85      1897\n",
      "weighted avg       0.85      0.85      0.85      1897\n",
      "\n"
     ]
    }
   ],
   "source": [
    "print(classification_report(y_test, y_pred))"
   ]
  },
  {
   "cell_type": "code",
   "execution_count": 242,
   "id": "2f4da19d-82b8-4823-aa00-d6e4eb030c89",
   "metadata": {},
   "outputs": [
    {
     "data": {
      "image/png": "[encoded data removed]",
      "text/plain": [
       "<Figure size 720x504 with 2 Axes>"
      ]
     },
     "metadata": {
      "needs_background": "light"
     },
     "output_type": "display_data"
    }
   ],
   "source": [
    "plot_conf_matrix(y_pred, y_test, title=\"Gradient Boosting Classifier Classifier\")"
   ]
  },
  {
   "cell_type": "code",
   "execution_count": 243,
   "id": "0b6d842e-fadb-4844-b25e-74dcb5552717",
   "metadata": {
    "scrolled": true,
    "tags": []
   },
   "outputs": [
    {
     "name": "stdout",
     "output_type": "stream",
     "text": [
      "Fitting 5 folds for each of 90 candidates, totalling 450 fits\n",
      "[CV 1/5; 3/90] START learning_rate=0.001, loss=deviance, n_estimators=10, subsample=1.0\n",
      "[CV 1/5; 3/90] END learning_rate=0.001, loss=deviance, n_estimators=10, subsample=1.0;, score=0.827 total time=   0.5s\n",
      "[CV 2/5; 5/90] START learning_rate=0.001, loss=deviance, n_estimators=50, subsample=0.75\n",
      "[CV 2/5; 5/90] END learning_rate=0.001, loss=deviance, n_estimators=50, subsample=0.75;, score=0.839 total time=   2.1s\n",
      "[CV 4/5; 7/90] START learning_rate=0.001, loss=deviance, n_estimators=100, subsample=0.5\n",
      "[CV 4/5; 7/90] END learning_rate=0.001, loss=deviance, n_estimators=100, subsample=0.5;, score=0.831 total time=   3.8s\n",
      "[CV 2/5; 10/90] START learning_rate=0.001, loss=exponential, n_estimators=10, subsample=0.5\n",
      "[CV 2/5; 10/90] END learning_rate=0.001, loss=exponential, n_estimators=10, subsample=0.5;, score=0.825 total time=   0.3s\n",
      "[CV 4/5; 10/90] START learning_rate=0.001, loss=exponential, n_estimators=10, subsample=0.5\n",
      "[CV 4/5; 10/90] END learning_rate=0.001, loss=exponential, n_estimators=10, subsample=0.5;, score=0.827 total time=   0.3s\n",
      "[CV 1/5; 11/90] START learning_rate=0.001, loss=exponential, n_estimators=10, subsample=0.75\n",
      "[CV 1/5; 11/90] END learning_rate=0.001, loss=exponential, n_estimators=10, subsample=0.75;, score=0.821 total time=   0.4s\n",
      "[CV 1/5; 12/90] START learning_rate=0.001, loss=exponential, n_estimators=10, subsample=1.0\n",
      "[CV 1/5; 12/90] END learning_rate=0.001, loss=exponential, n_estimators=10, subsample=1.0;, score=0.827 total time=   0.5s\n",
      "[CV 2/5; 13/90] START learning_rate=0.001, loss=exponential, n_estimators=50, subsample=0.5\n",
      "[CV 2/5; 13/90] END learning_rate=0.001, loss=exponential, n_estimators=50, subsample=0.5;, score=0.837 total time=   1.6s\n",
      "[CV 4/5; 14/90] START learning_rate=0.001, loss=exponential, n_estimators=50, subsample=0.75\n",
      "[CV 4/5; 14/90] END learning_rate=0.001, loss=exponential, n_estimators=50, subsample=0.75;, score=0.827 total time=   2.3s\n",
      "[CV 5/5; 16/90] START learning_rate=0.001, loss=exponential, n_estimators=100, subsample=0.5\n",
      "[CV 5/5; 16/90] END learning_rate=0.001, loss=exponential, n_estimators=100, subsample=0.5;, score=0.844 total time=   3.5s\n",
      "[CV 5/5; 19/90] START learning_rate=0.01, loss=deviance, n_estimators=10, subsample=0.5\n",
      "[CV 5/5; 19/90] END learning_rate=0.01, loss=deviance, n_estimators=10, subsample=0.5;, score=0.840 total time=   0.4s\n",
      "[CV 2/5; 20/90] START learning_rate=0.01, loss=deviance, n_estimators=10, subsample=0.75\n",
      "[CV 2/5; 20/90] END learning_rate=0.01, loss=deviance, n_estimators=10, subsample=0.75;, score=0.840 total time=   0.5s\n",
      "[CV 5/5; 20/90] START learning_rate=0.01, loss=deviance, n_estimators=10, subsample=0.75\n",
      "[CV 5/5; 20/90] END learning_rate=0.01, loss=deviance, n_estimators=10, subsample=0.75;, score=0.848 total time=   0.4s\n",
      "[CV 3/5; 21/90] START learning_rate=0.01, loss=deviance, n_estimators=10, subsample=1.0\n",
      "[CV 3/5; 21/90] END learning_rate=0.01, loss=deviance, n_estimators=10, subsample=1.0;, score=0.812 total time=   0.5s\n",
      "[CV 2/5; 22/90] START learning_rate=0.01, loss=deviance, n_estimators=50, subsample=0.5\n",
      "[CV 2/5; 22/90] END learning_rate=0.01, loss=deviance, n_estimators=50, subsample=0.5;, score=0.838 total time=   1.5s\n",
      "[CV 2/5; 24/90] START learning_rate=0.01, loss=deviance, n_estimators=50, subsample=1.0\n",
      "[CV 2/5; 24/90] END learning_rate=0.01, loss=deviance, n_estimators=50, subsample=1.0;, score=0.835 total time=   2.9s\n",
      "[CV 1/5; 27/90] START learning_rate=0.01, loss=deviance, n_estimators=100, subsample=1.0\n",
      "[CV 1/5; 27/90] END learning_rate=0.01, loss=deviance, n_estimators=100, subsample=1.0;, score=0.825 total time=   5.7s\n",
      "[CV 5/5; 32/90] START learning_rate=0.01, loss=exponential, n_estimators=50, subsample=0.75\n",
      "[CV 5/5; 32/90] END learning_rate=0.01, loss=exponential, n_estimators=50, subsample=0.75;, score=0.844 total time=   2.2s\n",
      "[CV 1/5; 35/90] START learning_rate=0.01, loss=exponential, n_estimators=100, subsample=0.75\n",
      "[CV 1/5; 35/90] END learning_rate=0.01, loss=exponential, n_estimators=100, subsample=0.75;, score=0.824 total time=   4.3s\n",
      "[CV 5/5; 38/90] START learning_rate=0.1, loss=deviance, n_estimators=10, subsample=0.75\n",
      "[CV 5/5; 38/90] END learning_rate=0.1, loss=deviance, n_estimators=10, subsample=0.75;, score=0.846 total time=   0.3s\n",
      "[CV 3/5; 39/90] START learning_rate=0.1, loss=deviance, n_estimators=10, subsample=1.0\n",
      "[CV 3/5; 39/90] END learning_rate=0.1, loss=deviance, n_estimators=10, subsample=1.0;, score=0.818 total time=   0.4s\n",
      "[CV 3/5; 40/90] START learning_rate=0.1, loss=deviance, n_estimators=50, subsample=0.5\n",
      "[CV 3/5; 40/90] END learning_rate=0.1, loss=deviance, n_estimators=50, subsample=0.5;, score=0.833 total time=   1.6s\n",
      "[CV 3/5; 42/90] START learning_rate=0.1, loss=deviance, n_estimators=50, subsample=1.0\n",
      "[CV 3/5; 42/90] END learning_rate=0.1, loss=deviance, n_estimators=50, subsample=1.0;, score=0.831 total time=   3.1s\n",
      "[CV 1/5; 45/90] START learning_rate=0.1, loss=deviance, n_estimators=100, subsample=1.0\n",
      "[CV 1/5; 45/90] END learning_rate=0.1, loss=deviance, n_estimators=100, subsample=1.0;, score=0.860 total time=   7.3s\n",
      "[CV 4/5; 52/90] START learning_rate=0.1, loss=exponential, n_estimators=100, subsample=0.5\n",
      "[CV 4/5; 52/90] END learning_rate=0.1, loss=exponential, n_estimators=100, subsample=0.5;, score=0.850 total time=   3.0s\n",
      "[CV 1/5; 55/90] START learning_rate=1, loss=deviance, n_estimators=10, subsample=0.5\n",
      "[CV 1/5; 55/90] END learning_rate=1, loss=deviance, n_estimators=10, subsample=0.5;, score=0.835 total time=   0.3s\n",
      "[CV 2/5; 55/90] START learning_rate=1, loss=deviance, n_estimators=10, subsample=0.5\n",
      "[CV 2/5; 55/90] END learning_rate=1, loss=deviance, n_estimators=10, subsample=0.5;, score=0.865 total time=   0.3s\n",
      "[CV 3/5; 55/90] START learning_rate=1, loss=deviance, n_estimators=10, subsample=0.5\n",
      "[CV 3/5; 55/90] END learning_rate=1, loss=deviance, n_estimators=10, subsample=0.5;, score=0.830 total time=   0.3s\n",
      "[CV 5/5; 55/90] START learning_rate=1, loss=deviance, n_estimators=10, subsample=0.5\n",
      "[CV 5/5; 55/90] END learning_rate=1, loss=deviance, n_estimators=10, subsample=0.5;, score=0.867 total time=   0.3s\n",
      "[CV 2/5; 56/90] START learning_rate=1, loss=deviance, n_estimators=10, subsample=0.75\n",
      "[CV 2/5; 56/90] END learning_rate=1, loss=deviance, n_estimators=10, subsample=0.75;, score=0.865 total time=   0.6s\n",
      "[CV 4/5; 56/90] START learning_rate=1, loss=deviance, n_estimators=10, subsample=0.75\n",
      "[CV 4/5; 56/90] END learning_rate=1, loss=deviance, n_estimators=10, subsample=0.75;, score=0.843 total time=   0.7s\n",
      "[CV 5/5; 57/90] START learning_rate=1, loss=deviance, n_estimators=10, subsample=1.0\n",
      "[CV 5/5; 57/90] END learning_rate=1, loss=deviance, n_estimators=10, subsample=1.0;, score=0.866 total time=   0.5s\n",
      "[CV 4/5; 58/90] START learning_rate=1, loss=deviance, n_estimators=50, subsample=0.5\n",
      "[CV 4/5; 58/90] END learning_rate=1, loss=deviance, n_estimators=50, subsample=0.5;, score=0.837 total time=   1.5s\n",
      "[CV 3/5; 60/90] START learning_rate=1, loss=deviance, n_estimators=50, subsample=1.0\n",
      "[CV 3/5; 60/90] END learning_rate=1, loss=deviance, n_estimators=50, subsample=1.0;, score=0.846 total time=   2.5s\n",
      "[CV 5/5; 62/90] START learning_rate=1, loss=deviance, n_estimators=100, subsample=0.75\n",
      "[CV 5/5; 62/90] END learning_rate=1, loss=deviance, n_estimators=100, subsample=0.75;, score=0.869 total time=   4.4s\n",
      "[CV 3/5; 67/90] START learning_rate=1, loss=exponential, n_estimators=50, subsample=0.5\n",
      "[CV 3/5; 67/90] END learning_rate=1, loss=exponential, n_estimators=50, subsample=0.5;, score=0.837 total time=   1.4s\n",
      "[CV 1/5; 69/90] START learning_rate=1, loss=exponential, n_estimators=50, subsample=1.0\n",
      "[CV 1/5; 69/90] END learning_rate=1, loss=exponential, n_estimators=50, subsample=1.0;, score=0.862 total time=   2.5s\n",
      "[CV 3/5; 71/90] START learning_rate=1, loss=exponential, n_estimators=100, subsample=0.75\n",
      "[CV 3/5; 71/90] END learning_rate=1, loss=exponential, n_estimators=100, subsample=0.75;, score=0.851 total time=   4.0s\n",
      "[CV 5/5; 75/90] START learning_rate=2, loss=deviance, n_estimators=10, subsample=1.0\n",
      "[CV 5/5; 75/90] END learning_rate=2, loss=deviance, n_estimators=10, subsample=1.0;, score=0.846 total time=   0.7s\n",
      "[CV 1/5; 77/90] START learning_rate=2, loss=deviance, n_estimators=50, subsample=0.75[CV 4/5; 2/90] START learning_rate=0.001, loss=deviance, n_estimators=10, subsample=0.75\n",
      "[CV 4/5; 2/90] END learning_rate=0.001, loss=deviance, n_estimators=10, subsample=0.75;, score=0.816 total time=   0.7s\n",
      "[CV 1/5; 6/90] START learning_rate=0.001, loss=deviance, n_estimators=50, subsample=1.0\n",
      "[CV 1/5; 6/90] END learning_rate=0.001, loss=deviance, n_estimators=50, subsample=1.0;, score=0.827 total time=   2.6s\n",
      "[CV 3/5; 8/90] START learning_rate=0.001, loss=deviance, n_estimators=100, subsample=0.75\n",
      "[CV 3/5; 8/90] END learning_rate=0.001, loss=deviance, n_estimators=100, subsample=0.75;, score=0.813 total time=   4.2s\n",
      "[CV 4/5; 11/90] START learning_rate=0.001, loss=exponential, n_estimators=10, subsample=0.75\n",
      "[CV 4/5; 11/90] END learning_rate=0.001, loss=exponential, n_estimators=10, subsample=0.75;, score=0.817 total time=   0.6s\n",
      "[CV 4/5; 12/90] START learning_rate=0.001, loss=exponential, n_estimators=10, subsample=1.0\n",
      "[CV 4/5; 12/90] END learning_rate=0.001, loss=exponential, n_estimators=10, subsample=1.0;, score=0.820 total time=   0.6s\n",
      "[CV 1/5; 14/90] START learning_rate=0.001, loss=exponential, n_estimators=50, subsample=0.75\n",
      "[CV 1/5; 14/90] END learning_rate=0.001, loss=exponential, n_estimators=50, subsample=0.75;, score=0.827 total time=   2.2s\n",
      "[CV 2/5; 16/90] START learning_rate=0.001, loss=exponential, n_estimators=100, subsample=0.5\n",
      "[CV 2/5; 16/90] END learning_rate=0.001, loss=exponential, n_estimators=100, subsample=0.5;, score=0.842 total time=   3.2s\n",
      "[CV 5/5; 18/90] START learning_rate=0.001, loss=exponential, n_estimators=100, subsample=1.0\n",
      "[CV 5/5; 18/90] END learning_rate=0.001, loss=exponential, n_estimators=100, subsample=1.0;, score=0.837 total time=   5.2s\n",
      "[CV 4/5; 24/90] START learning_rate=0.01, loss=deviance, n_estimators=50, subsample=1.0\n",
      "[CV 4/5; 24/90] END learning_rate=0.01, loss=deviance, n_estimators=50, subsample=1.0;, score=0.830 total time=   2.9s\n",
      "[CV 2/5; 27/90] START learning_rate=0.01, loss=deviance, n_estimators=100, subsample=1.0\n",
      "[CV 2/5; 27/90] END learning_rate=0.01, loss=deviance, n_estimators=100, subsample=1.0;, score=0.837 total time=   5.1s\n",
      "[CV 3/5; 32/90] START learning_rate=0.01, loss=exponential, n_estimators=50, subsample=0.75\n",
      "[CV 3/5; 32/90] END learning_rate=0.01, loss=exponential, n_estimators=50, subsample=0.75;, score=0.815 total time=   2.3s\n",
      "[CV 5/5; 34/90] START learning_rate=0.01, loss=exponential, n_estimators=100, subsample=0.5\n",
      "[CV 5/5; 34/90] END learning_rate=0.01, loss=exponential, n_estimators=100, subsample=0.5;, score=0.839 total time=   2.8s\n",
      "[CV 1/5; 37/90] START learning_rate=0.1, loss=deviance, n_estimators=10, subsample=0.5\n",
      "[CV 1/5; 37/90] END learning_rate=0.1, loss=deviance, n_estimators=10, subsample=0.5;, score=0.825 total time=   0.3s\n",
      "[CV 2/5; 37/90] START learning_rate=0.1, loss=deviance, n_estimators=10, subsample=0.5\n",
      "[CV 2/5; 37/90] END learning_rate=0.1, loss=deviance, n_estimators=10, subsample=0.5;, score=0.839 total time=   0.3s\n",
      "[CV 3/5; 37/90] START learning_rate=0.1, loss=deviance, n_estimators=10, subsample=0.5\n",
      "[CV 3/5; 37/90] END learning_rate=0.1, loss=deviance, n_estimators=10, subsample=0.5;, score=0.814 total time=   0.3s\n",
      "[CV 5/5; 37/90] START learning_rate=0.1, loss=deviance, n_estimators=10, subsample=0.5\n",
      "[CV 5/5; 37/90] END learning_rate=0.1, loss=deviance, n_estimators=10, subsample=0.5;, score=0.840 total time=   0.3s\n",
      "[CV 2/5; 38/90] START learning_rate=0.1, loss=deviance, n_estimators=10, subsample=0.75\n",
      "[CV 2/5; 38/90] END learning_rate=0.1, loss=deviance, n_estimators=10, subsample=0.75;, score=0.838 total time=   0.4s\n",
      "[CV 3/5; 38/90] START learning_rate=0.1, loss=deviance, n_estimators=10, subsample=0.75\n",
      "[CV 3/5; 38/90] END learning_rate=0.1, loss=deviance, n_estimators=10, subsample=0.75;, score=0.815 total time=   0.3s\n",
      "[CV 2/5; 39/90] START learning_rate=0.1, loss=deviance, n_estimators=10, subsample=1.0\n",
      "[CV 2/5; 39/90] END learning_rate=0.1, loss=deviance, n_estimators=10, subsample=1.0;, score=0.837 total time=   0.5s\n",
      "[CV 2/5; 40/90] START learning_rate=0.1, loss=deviance, n_estimators=50, subsample=0.5\n",
      "[CV 2/5; 40/90] END learning_rate=0.1, loss=deviance, n_estimators=50, subsample=0.5;, score=0.849 total time=   1.4s\n",
      "[CV 5/5; 41/90] START learning_rate=0.1, loss=deviance, n_estimators=50, subsample=0.75\n",
      "[CV 5/5; 41/90] END learning_rate=0.1, loss=deviance, n_estimators=50, subsample=0.75;, score=0.859 total time=   1.7s\n",
      "[CV 4/5; 43/90] START learning_rate=0.1, loss=deviance, n_estimators=100, subsample=0.5\n",
      "[CV 4/5; 43/90] END learning_rate=0.1, loss=deviance, n_estimators=100, subsample=0.5;, score=0.859 total time=   2.3s\n",
      "[CV 2/5; 45/90] START learning_rate=0.1, loss=deviance, n_estimators=100, subsample=1.0\n",
      "[CV 2/5; 45/90] END learning_rate=0.1, loss=deviance, n_estimators=100, subsample=1.0;, score=0.872 total time=   5.1s\n",
      "[CV 3/5; 50/90] START learning_rate=0.1, loss=exponential, n_estimators=50, subsample=0.75\n",
      "[CV 3/5; 50/90] END learning_rate=0.1, loss=exponential, n_estimators=50, subsample=0.75;, score=0.827 total time=   2.2s\n",
      "[CV 5/5; 52/90] START learning_rate=0.1, loss=exponential, n_estimators=100, subsample=0.5\n",
      "[CV 5/5; 52/90] END learning_rate=0.1, loss=exponential, n_estimators=100, subsample=0.5;, score=0.863 total time=   3.0s\n",
      "[CV 4/5; 55/90] START learning_rate=1, loss=deviance, n_estimators=10, subsample=0.5\n",
      "[CV 4/5; 55/90] END learning_rate=1, loss=deviance, n_estimators=10, subsample=0.5;, score=0.850 total time=   0.3s\n",
      "[CV 1/5; 56/90] START learning_rate=1, loss=deviance, n_estimators=10, subsample=0.75\n",
      "[CV 1/5; 56/90] END learning_rate=1, loss=deviance, n_estimators=10, subsample=0.75;, score=0.850 total time=   0.5s\n",
      "[CV 3/5; 56/90] START learning_rate=1, loss=deviance, n_estimators=10, subsample=0.75\n",
      "[CV 3/5; 56/90] END learning_rate=1, loss=deviance, n_estimators=10, subsample=0.75;, score=0.830 total time=   0.4s\n",
      "[CV 5/5; 56/90] START learning_rate=1, loss=deviance, n_estimators=10, subsample=0.75\n",
      "[CV 5/5; 56/90] END learning_rate=1, loss=deviance, n_estimators=10, subsample=0.75;, score=0.859 total time=   0.4s\n",
      "[CV 1/5; 57/90] START learning_rate=1, loss=deviance, n_estimators=10, subsample=1.0\n",
      "[CV 1/5; 57/90] END learning_rate=1, loss=deviance, n_estimators=10, subsample=1.0;, score=0.850 total time=   0.5s\n",
      "[CV 1/5; 58/90] START learning_rate=1, loss=deviance, n_estimators=50, subsample=0.5\n",
      "[CV 1/5; 58/90] END learning_rate=1, loss=deviance, n_estimators=50, subsample=0.5;, score=0.835 total time=   1.4s\n",
      "[CV 3/5; 59/90] START learning_rate=1, loss=deviance, n_estimators=50, subsample=0.75\n",
      "[CV 3/5; 59/90] END learning_rate=1, loss=deviance, n_estimators=50, subsample=0.75;, score=0.838 total time=   2.6s\n",
      "[CV 3/5; 62/90] START learning_rate=1, loss=deviance, n_estimators=100, subsample=0.75\n",
      "[CV 3/5; 62/90] END learning_rate=1, loss=deviance, n_estimators=100, subsample=0.75;, score=0.856 total time=   4.4s\n",
      "[CV 1/5; 67/90] START learning_rate=1, loss=exponential, n_estimators=50, subsample=0.5\n",
      "[CV 1/5; 67/90] END learning_rate=1, loss=exponential, n_estimators=50, subsample=0.5;, score=0.848 total time=   1.2s\n",
      "[CV 4/5; 68/90] START learning_rate=1, loss=exponential, n_estimators=50, subsample=0.75\n",
      "[CV 4/5; 68/90] END learning_rate=1, loss=exponential, n_estimators=50, subsample=0.75;, score=0.857 total time=   2.0s\n",
      "[CV 1/5; 71/90] START learning_rate=1, loss=exponential, n_estimators=100, subsample=0.75\n",
      "[CV 1/5; 71/90] END learning_rate=1, loss=exponential, n_estimators=100, subsample=0.75;, score=0.861 total time=   4.2s\n",
      "[CV 5/5; 74/90] START learning_rate=2, loss=deviance, n_estimators=10, subsample=0.75\n",
      "[CV 5/5; 74/90] END learning_rate=2, loss=deviance, n_estimators=10, subsample=0.75;, score=0.852 total time=   0.4s\n",
      "[CV 2/5; 75/90] START learning_rate=2, loss=deviance, n_estimators=10, subsample=1.0\n",
      "[CV 2/5; 75/90] END learning_rate=2, loss=deviance, n_estimators=10, subsample=1.0;, score=0.836 total time=   0.5s\n",
      "[CV 2/5; 76/90] START learning_rate=2, loss=deviance, n_estimators=50, subsample=0.5\n",
      "[CV 2/5; 76/90] END learning_rate=2, loss=deviance, n_estimators=50, subsample=0.5;, score=0.581 total time=   1.7s\n",
      "[CV 4/5; 78/90] START learning_rate=2, loss=deviance, n_estimators=50, subsample=1.0\n",
      "[CV 4/5; 78/90] END learning_rate=2, loss=deviance, n_estimators=50, subsample=1.0;, score=0.799 total time=   2.7s[CV 2/5; 2/90] START learning_rate=0.001, loss=deviance, n_estimators=10, subsample=0.75\n",
      "[CV 2/5; 2/90] END learning_rate=0.001, loss=deviance, n_estimators=10, subsample=0.75;, score=0.827 total time=   0.7s\n",
      "[CV 3/5; 5/90] START learning_rate=0.001, loss=deviance, n_estimators=50, subsample=0.75\n",
      "[CV 3/5; 5/90] END learning_rate=0.001, loss=deviance, n_estimators=50, subsample=0.75;, score=0.813 total time=   2.4s\n",
      "[CV 1/5; 8/90] START learning_rate=0.001, loss=deviance, n_estimators=100, subsample=0.75\n",
      "[CV 1/5; 8/90] END learning_rate=0.001, loss=deviance, n_estimators=100, subsample=0.75;, score=0.825 total time=   4.3s\n",
      "[CV 3/5; 11/90] START learning_rate=0.001, loss=exponential, n_estimators=10, subsample=0.75\n",
      "[CV 3/5; 11/90] END learning_rate=0.001, loss=exponential, n_estimators=10, subsample=0.75;, score=0.810 total time=   0.4s\n",
      "[CV 5/5; 11/90] START learning_rate=0.001, loss=exponential, n_estimators=10, subsample=0.75\n",
      "[CV 5/5; 11/90] END learning_rate=0.001, loss=exponential, n_estimators=10, subsample=0.75;, score=0.832 total time=   0.3s\n",
      "[CV 3/5; 12/90] START learning_rate=0.001, loss=exponential, n_estimators=10, subsample=1.0\n",
      "[CV 3/5; 12/90] END learning_rate=0.001, loss=exponential, n_estimators=10, subsample=1.0;, score=0.808 total time=   0.6s\n",
      "[CV 2/5; 14/90] START learning_rate=0.001, loss=exponential, n_estimators=50, subsample=0.75\n",
      "[CV 2/5; 14/90] END learning_rate=0.001, loss=exponential, n_estimators=50, subsample=0.75;, score=0.840 total time=   2.1s\n",
      "[CV 1/5; 16/90] START learning_rate=0.001, loss=exponential, n_estimators=100, subsample=0.5\n",
      "[CV 1/5; 16/90] END learning_rate=0.001, loss=exponential, n_estimators=100, subsample=0.5;, score=0.826 total time=   3.0s\n",
      "[CV 3/5; 18/90] START learning_rate=0.001, loss=exponential, n_estimators=100, subsample=1.0\n",
      "[CV 3/5; 18/90] END learning_rate=0.001, loss=exponential, n_estimators=100, subsample=1.0;, score=0.812 total time=   5.2s\n",
      "[CV 1/5; 24/90] START learning_rate=0.01, loss=deviance, n_estimators=50, subsample=1.0\n",
      "[CV 1/5; 24/90] END learning_rate=0.01, loss=deviance, n_estimators=50, subsample=1.0;, score=0.824 total time=   2.4s\n",
      "[CV 2/5; 26/90] START learning_rate=0.01, loss=deviance, n_estimators=100, subsample=0.75\n",
      "[CV 2/5; 26/90] END learning_rate=0.01, loss=deviance, n_estimators=100, subsample=0.75;, score=0.837 total time=   3.8s\n",
      "[CV 3/5; 29/90] START learning_rate=0.01, loss=exponential, n_estimators=10, subsample=0.75\n",
      "[CV 3/5; 29/90] END learning_rate=0.01, loss=exponential, n_estimators=10, subsample=0.75;, score=0.811 total time=   0.4s\n",
      "[CV 1/5; 30/90] START learning_rate=0.01, loss=exponential, n_estimators=10, subsample=1.0\n",
      "[CV 1/5; 30/90] END learning_rate=0.01, loss=exponential, n_estimators=10, subsample=1.0;, score=0.827 total time=   0.6s\n",
      "[CV 1/5; 31/90] START learning_rate=0.01, loss=exponential, n_estimators=50, subsample=0.5\n",
      "[CV 1/5; 31/90] END learning_rate=0.01, loss=exponential, n_estimators=50, subsample=0.5;, score=0.826 total time=   1.5s\n",
      "[CV 4/5; 32/90] START learning_rate=0.01, loss=exponential, n_estimators=50, subsample=0.75\n",
      "[CV 4/5; 32/90] END learning_rate=0.01, loss=exponential, n_estimators=50, subsample=0.75;, score=0.828 total time=   2.3s\n",
      "[CV 2/5; 35/90] START learning_rate=0.01, loss=exponential, n_estimators=100, subsample=0.75\n",
      "[CV 2/5; 35/90] END learning_rate=0.01, loss=exponential, n_estimators=100, subsample=0.75;, score=0.837 total time=   4.2s\n",
      "[CV 1/5; 39/90] START learning_rate=0.1, loss=deviance, n_estimators=10, subsample=1.0\n",
      "[CV 1/5; 39/90] END learning_rate=0.1, loss=deviance, n_estimators=10, subsample=1.0;, score=0.825 total time=   0.5s\n",
      "[CV 1/5; 40/90] START learning_rate=0.1, loss=deviance, n_estimators=50, subsample=0.5\n",
      "[CV 1/5; 40/90] END learning_rate=0.1, loss=deviance, n_estimators=50, subsample=0.5;, score=0.840 total time=   1.4s\n",
      "[CV 4/5; 41/90] START learning_rate=0.1, loss=deviance, n_estimators=50, subsample=0.75\n",
      "[CV 4/5; 41/90] END learning_rate=0.1, loss=deviance, n_estimators=50, subsample=0.75;, score=0.844 total time=   2.8s\n",
      "[CV 2/5; 44/90] START learning_rate=0.1, loss=deviance, n_estimators=100, subsample=0.75\n",
      "[CV 2/5; 44/90] END learning_rate=0.1, loss=deviance, n_estimators=100, subsample=0.75;, score=0.879 total time=   4.4s\n",
      "[CV 1/5; 48/90] START learning_rate=0.1, loss=exponential, n_estimators=10, subsample=1.0\n",
      "[CV 1/5; 48/90] END learning_rate=0.1, loss=exponential, n_estimators=10, subsample=1.0;, score=0.824 total time=   0.6s\n",
      "[CV 5/5; 48/90] START learning_rate=0.1, loss=exponential, n_estimators=10, subsample=1.0\n",
      "[CV 5/5; 48/90] END learning_rate=0.1, loss=exponential, n_estimators=10, subsample=1.0;, score=0.840 total time=   0.5s\n",
      "[CV 2/5; 50/90] START learning_rate=0.1, loss=exponential, n_estimators=50, subsample=0.75\n",
      "[CV 2/5; 50/90] END learning_rate=0.1, loss=exponential, n_estimators=50, subsample=0.75;, score=0.860 total time=   1.9s\n",
      "[CV 5/5; 51/90] START learning_rate=0.1, loss=exponential, n_estimators=50, subsample=1.0\n",
      "[CV 5/5; 51/90] END learning_rate=0.1, loss=exponential, n_estimators=50, subsample=1.0;, score=0.854 total time=   2.7s\n",
      "[CV 5/5; 53/90] START learning_rate=0.1, loss=exponential, n_estimators=100, subsample=0.75\n",
      "[CV 5/5; 53/90] END learning_rate=0.1, loss=exponential, n_estimators=100, subsample=0.75;, score=0.864 total time=   4.7s\n",
      "[CV 2/5; 59/90] START learning_rate=1, loss=deviance, n_estimators=50, subsample=0.75\n",
      "[CV 2/5; 59/90] END learning_rate=1, loss=deviance, n_estimators=50, subsample=0.75;, score=0.879 total time=   2.0s\n",
      "[CV 4/5; 61/90] START learning_rate=1, loss=deviance, n_estimators=100, subsample=0.5\n",
      "[CV 4/5; 61/90] END learning_rate=1, loss=deviance, n_estimators=100, subsample=0.5;, score=0.848 total time=   3.2s\n",
      "[CV 2/5; 64/90] START learning_rate=1, loss=exponential, n_estimators=10, subsample=0.5\n",
      "[CV 2/5; 64/90] END learning_rate=1, loss=exponential, n_estimators=10, subsample=0.5;, score=0.859 total time=   0.3s\n",
      "[CV 3/5; 64/90] START learning_rate=1, loss=exponential, n_estimators=10, subsample=0.5\n",
      "[CV 3/5; 64/90] END learning_rate=1, loss=exponential, n_estimators=10, subsample=0.5;, score=0.813 total time=   0.3s\n",
      "[CV 5/5; 64/90] START learning_rate=1, loss=exponential, n_estimators=10, subsample=0.5\n",
      "[CV 5/5; 64/90] END learning_rate=1, loss=exponential, n_estimators=10, subsample=0.5;, score=0.837 total time=   0.3s\n",
      "[CV 2/5; 65/90] START learning_rate=1, loss=exponential, n_estimators=10, subsample=0.75\n",
      "[CV 2/5; 65/90] END learning_rate=1, loss=exponential, n_estimators=10, subsample=0.75;, score=0.841 total time=   0.5s\n",
      "[CV 4/5; 65/90] START learning_rate=1, loss=exponential, n_estimators=10, subsample=0.75\n",
      "[CV 4/5; 65/90] END learning_rate=1, loss=exponential, n_estimators=10, subsample=0.75;, score=0.843 total time=   0.5s\n",
      "[CV 4/5; 66/90] START learning_rate=1, loss=exponential, n_estimators=10, subsample=1.0\n",
      "[CV 4/5; 66/90] END learning_rate=1, loss=exponential, n_estimators=10, subsample=1.0;, score=0.851 total time=   0.5s\n",
      "[CV 5/5; 67/90] START learning_rate=1, loss=exponential, n_estimators=50, subsample=0.5\n",
      "[CV 5/5; 67/90] END learning_rate=1, loss=exponential, n_estimators=50, subsample=0.5;, score=0.859 total time=   1.4s\n",
      "[CV 1/5; 70/90] START learning_rate=1, loss=exponential, n_estimators=100, subsample=0.5\n",
      "[CV 1/5; 70/90] END learning_rate=1, loss=exponential, n_estimators=100, subsample=0.5;, score=0.859 total time=   3.0s\n",
      "[CV 3/5; 72/90] START learning_rate=1, loss=exponential, n_estimators=100, subsample=1.0\n",
      "[CV 3/5; 72/90] END learning_rate=1, loss=exponential, n_estimators=100, subsample=1.0;, score=0.857 total time=   5.4s\n",
      "[CV 5/5; 78/90] START learning_rate=2, loss=deviance, n_estimators=50, subsample=1.0\n",
      "[CV 5/5; 78/90] END learning_rate=2, loss=deviance, n_estimators=50, subsample=1.0;, score=0.794 total time=   2.5s\n",
      "[CV 5/5; 80/90] START learning_rate=2, loss=deviance, n_estimators=100, subsample=0.75\n",
      "[CV 5/5; 80/90] END learning_rate=2, loss=deviance, n_estimators=100, subsample=0.75;, score=0.642 total time=   3.7s\n",
      "[CV 3/5; 84/90] START learning_rate=2, loss=exponential, n_estimators=10, subsample=1.0\n",
      "[CV 3/5; 84/90] END learning_rate=2, loss=exponential, n_estimators=10, subsample=1.0;, score=0.818 total time=   0.4s[CV 5/5; 1/90] START learning_rate=0.001, loss=deviance, n_estimators=10, subsample=0.5\n",
      "[CV 5/5; 1/90] END learning_rate=0.001, loss=deviance, n_estimators=10, subsample=0.5;, score=0.825 total time=   0.3s\n",
      "[CV 3/5; 3/90] START learning_rate=0.001, loss=deviance, n_estimators=10, subsample=1.0\n",
      "[CV 3/5; 3/90] END learning_rate=0.001, loss=deviance, n_estimators=10, subsample=1.0;, score=0.808 total time=   0.5s\n",
      "[CV 5/5; 5/90] START learning_rate=0.001, loss=deviance, n_estimators=50, subsample=0.75\n",
      "[CV 5/5; 5/90] END learning_rate=0.001, loss=deviance, n_estimators=50, subsample=0.75;, score=0.842 total time=   2.3s\n",
      "[CV 5/5; 7/90] START learning_rate=0.001, loss=deviance, n_estimators=100, subsample=0.5\n",
      "[CV 5/5; 7/90] END learning_rate=0.001, loss=deviance, n_estimators=100, subsample=0.5;, score=0.846 total time=   3.4s\n",
      "[CV 1/5; 10/90] START learning_rate=0.001, loss=exponential, n_estimators=10, subsample=0.5\n",
      "[CV 1/5; 10/90] END learning_rate=0.001, loss=exponential, n_estimators=10, subsample=0.5;, score=0.821 total time=   0.3s\n",
      "[CV 3/5; 10/90] START learning_rate=0.001, loss=exponential, n_estimators=10, subsample=0.5\n",
      "[CV 3/5; 10/90] END learning_rate=0.001, loss=exponential, n_estimators=10, subsample=0.5;, score=0.806 total time=   0.3s\n",
      "[CV 5/5; 10/90] START learning_rate=0.001, loss=exponential, n_estimators=10, subsample=0.5\n",
      "[CV 5/5; 10/90] END learning_rate=0.001, loss=exponential, n_estimators=10, subsample=0.5;, score=0.826 total time=   0.4s\n",
      "[CV 2/5; 11/90] START learning_rate=0.001, loss=exponential, n_estimators=10, subsample=0.75\n",
      "[CV 2/5; 11/90] END learning_rate=0.001, loss=exponential, n_estimators=10, subsample=0.75;, score=0.825 total time=   0.8s\n",
      "[CV 5/5; 12/90] START learning_rate=0.001, loss=exponential, n_estimators=10, subsample=1.0\n",
      "[CV 5/5; 12/90] END learning_rate=0.001, loss=exponential, n_estimators=10, subsample=1.0;, score=0.832 total time=   0.5s\n",
      "[CV 5/5; 13/90] START learning_rate=0.001, loss=exponential, n_estimators=50, subsample=0.5\n",
      "[CV 5/5; 13/90] END learning_rate=0.001, loss=exponential, n_estimators=50, subsample=0.5;, score=0.840 total time=   1.4s\n",
      "[CV 3/5; 15/90] START learning_rate=0.001, loss=exponential, n_estimators=50, subsample=1.0\n",
      "[CV 3/5; 15/90] END learning_rate=0.001, loss=exponential, n_estimators=50, subsample=1.0;, score=0.812 total time=   2.9s\n",
      "[CV 1/5; 18/90] START learning_rate=0.001, loss=exponential, n_estimators=100, subsample=1.0\n",
      "[CV 1/5; 18/90] END learning_rate=0.001, loss=exponential, n_estimators=100, subsample=1.0;, score=0.827 total time=   5.0s\n",
      "[CV 3/5; 23/90] START learning_rate=0.01, loss=deviance, n_estimators=50, subsample=0.75\n",
      "[CV 3/5; 23/90] END learning_rate=0.01, loss=deviance, n_estimators=50, subsample=0.75;, score=0.815 total time=   2.4s\n",
      "[CV 4/5; 25/90] START learning_rate=0.01, loss=deviance, n_estimators=100, subsample=0.5\n",
      "[CV 4/5; 25/90] END learning_rate=0.01, loss=deviance, n_estimators=100, subsample=0.5;, score=0.830 total time=   4.3s\n",
      "[CV 4/5; 28/90] START learning_rate=0.01, loss=exponential, n_estimators=10, subsample=0.5\n",
      "[CV 4/5; 28/90] END learning_rate=0.01, loss=exponential, n_estimators=10, subsample=0.5;, score=0.822 total time=   0.3s\n",
      "[CV 1/5; 29/90] START learning_rate=0.01, loss=exponential, n_estimators=10, subsample=0.75\n",
      "[CV 1/5; 29/90] END learning_rate=0.01, loss=exponential, n_estimators=10, subsample=0.75;, score=0.823 total time=   0.4s\n",
      "[CV 4/5; 29/90] START learning_rate=0.01, loss=exponential, n_estimators=10, subsample=0.75\n",
      "[CV 4/5; 29/90] END learning_rate=0.01, loss=exponential, n_estimators=10, subsample=0.75;, score=0.825 total time=   0.5s\n",
      "[CV 4/5; 30/90] START learning_rate=0.01, loss=exponential, n_estimators=10, subsample=1.0\n",
      "[CV 4/5; 30/90] END learning_rate=0.01, loss=exponential, n_estimators=10, subsample=1.0;, score=0.827 total time=   0.4s\n",
      "[CV 4/5; 31/90] START learning_rate=0.01, loss=exponential, n_estimators=50, subsample=0.5\n",
      "[CV 4/5; 31/90] END learning_rate=0.01, loss=exponential, n_estimators=50, subsample=0.5;, score=0.829 total time=   1.3s\n",
      "[CV 1/5; 33/90] START learning_rate=0.01, loss=exponential, n_estimators=50, subsample=1.0\n",
      "[CV 1/5; 33/90] END learning_rate=0.01, loss=exponential, n_estimators=50, subsample=1.0;, score=0.824 total time=   2.6s\n",
      "[CV 3/5; 35/90] START learning_rate=0.01, loss=exponential, n_estimators=100, subsample=0.75\n",
      "[CV 3/5; 35/90] END learning_rate=0.01, loss=exponential, n_estimators=100, subsample=0.75;, score=0.815 total time=   4.2s\n",
      "[CV 4/5; 39/90] START learning_rate=0.1, loss=deviance, n_estimators=10, subsample=1.0\n",
      "[CV 4/5; 39/90] END learning_rate=0.1, loss=deviance, n_estimators=10, subsample=1.0;, score=0.831 total time=   0.5s\n",
      "[CV 5/5; 40/90] START learning_rate=0.1, loss=deviance, n_estimators=50, subsample=0.5\n",
      "[CV 5/5; 40/90] END learning_rate=0.1, loss=deviance, n_estimators=50, subsample=0.5;, score=0.861 total time=   1.5s\n",
      "[CV 2/5; 42/90] START learning_rate=0.1, loss=deviance, n_estimators=50, subsample=1.0\n",
      "[CV 2/5; 42/90] END learning_rate=0.1, loss=deviance, n_estimators=50, subsample=1.0;, score=0.854 total time=   3.0s\n",
      "[CV 5/5; 44/90] START learning_rate=0.1, loss=deviance, n_estimators=100, subsample=0.75\n",
      "[CV 5/5; 44/90] END learning_rate=0.1, loss=deviance, n_estimators=100, subsample=0.75;, score=0.870 total time=   4.7s\n",
      "[CV 1/5; 50/90] START learning_rate=0.1, loss=exponential, n_estimators=50, subsample=0.75\n",
      "[CV 1/5; 50/90] END learning_rate=0.1, loss=exponential, n_estimators=50, subsample=0.75;, score=0.837 total time=   2.3s\n",
      "[CV 2/5; 52/90] START learning_rate=0.1, loss=exponential, n_estimators=100, subsample=0.5\n",
      "[CV 2/5; 52/90] END learning_rate=0.1, loss=exponential, n_estimators=100, subsample=0.5;, score=0.862 total time=   2.9s\n",
      "[CV 4/5; 54/90] START learning_rate=0.1, loss=exponential, n_estimators=100, subsample=1.0\n",
      "[CV 4/5; 54/90] END learning_rate=0.1, loss=exponential, n_estimators=100, subsample=1.0;, score=0.855 total time=   4.9s\n",
      "[CV 2/5; 60/90] START learning_rate=1, loss=deviance, n_estimators=50, subsample=1.0\n",
      "[CV 2/5; 60/90] END learning_rate=1, loss=deviance, n_estimators=50, subsample=1.0;, score=0.886 total time=   2.3s\n",
      "[CV 2/5; 62/90] START learning_rate=1, loss=deviance, n_estimators=100, subsample=0.75\n",
      "[CV 2/5; 62/90] END learning_rate=1, loss=deviance, n_estimators=100, subsample=0.75;, score=0.874 total time=   4.1s\n",
      "[CV 1/5; 66/90] START learning_rate=1, loss=exponential, n_estimators=10, subsample=1.0\n",
      "[CV 1/5; 66/90] END learning_rate=1, loss=exponential, n_estimators=10, subsample=1.0;, score=0.838 total time=   0.4s\n",
      "[CV 2/5; 67/90] START learning_rate=1, loss=exponential, n_estimators=50, subsample=0.5\n",
      "[CV 2/5; 67/90] END learning_rate=1, loss=exponential, n_estimators=50, subsample=0.5;, score=0.840 total time=   1.4s\n",
      "[CV 5/5; 68/90] START learning_rate=1, loss=exponential, n_estimators=50, subsample=0.75\n",
      "[CV 5/5; 68/90] END learning_rate=1, loss=exponential, n_estimators=50, subsample=0.75;, score=0.863 total time=   2.2s\n",
      "[CV 2/5; 71/90] START learning_rate=1, loss=exponential, n_estimators=100, subsample=0.75\n",
      "[CV 2/5; 71/90] END learning_rate=1, loss=exponential, n_estimators=100, subsample=0.75;, score=0.894 total time=   4.6s\n",
      "[CV 1/5; 76/90] START learning_rate=2, loss=deviance, n_estimators=50, subsample=0.5\n",
      "[CV 1/5; 76/90] END learning_rate=2, loss=deviance, n_estimators=50, subsample=0.5;, score=0.747 total time=   1.3s\n",
      "[CV 5/5; 77/90] START learning_rate=2, loss=deviance, n_estimators=50, subsample=0.75\n",
      "[CV 5/5; 77/90] END learning_rate=2, loss=deviance, n_estimators=50, subsample=0.75;, score=0.768 total time=   2.3s\n",
      "[CV 2/5; 80/90] START learning_rate=2, loss=deviance, n_estimators=100, subsample=0.75\n",
      "[CV 2/5; 80/90] END learning_rate=2, loss=deviance, n_estimators=100, subsample=0.75;, score=0.316 total time=   4.2s\n",
      "[CV 1/5; 84/90] START learning_rate=2, loss=exponential, n_estimators=10, subsample=1.0\n",
      "[CV 1/5; 84/90] END learning_rate=2, loss=exponential, n_estimators=10, subsample=1.0;, score=0.832 total time=   0.4s\n",
      "[CV 5/5; 84/90] START learning_rate=2, loss=exponential, n_estimators=10, subsample=1.0\n",
      "[CV 5/5; 84/90] END learning_rate=2, loss=exponential, n_estimators=10, subsample=1.0;, score=0.853 total time=   0.5s[CV 3/5; 1/90] START learning_rate=0.001, loss=deviance, n_estimators=10, subsample=0.5\n",
      "[CV 3/5; 1/90] END learning_rate=0.001, loss=deviance, n_estimators=10, subsample=0.5;, score=0.812 total time=   0.5s\n",
      "[CV 4/5; 4/90] START learning_rate=0.001, loss=deviance, n_estimators=50, subsample=0.5\n",
      "[CV 4/5; 4/90] END learning_rate=0.001, loss=deviance, n_estimators=50, subsample=0.5;, score=0.825 total time=   1.5s\n",
      "[CV 1/5; 7/90] START learning_rate=0.001, loss=deviance, n_estimators=100, subsample=0.5\n",
      "[CV 1/5; 7/90] END learning_rate=0.001, loss=deviance, n_estimators=100, subsample=0.5;, score=0.824 total time=   3.0s\n",
      "[CV 3/5; 9/90] START learning_rate=0.001, loss=deviance, n_estimators=100, subsample=1.0\n",
      "[CV 3/5; 9/90] END learning_rate=0.001, loss=deviance, n_estimators=100, subsample=1.0;, score=0.812 total time=   6.4s\n",
      "[CV 4/5; 16/90] START learning_rate=0.001, loss=exponential, n_estimators=100, subsample=0.5\n",
      "[CV 4/5; 16/90] END learning_rate=0.001, loss=exponential, n_estimators=100, subsample=0.5;, score=0.830 total time=   2.6s\n",
      "[CV 4/5; 18/90] START learning_rate=0.001, loss=exponential, n_estimators=100, subsample=1.0\n",
      "[CV 4/5; 18/90] END learning_rate=0.001, loss=exponential, n_estimators=100, subsample=1.0;, score=0.827 total time=   6.6s\n",
      "[CV 5/5; 25/90] START learning_rate=0.01, loss=deviance, n_estimators=100, subsample=0.5\n",
      "[CV 5/5; 25/90] END learning_rate=0.01, loss=deviance, n_estimators=100, subsample=0.5;, score=0.840 total time=   3.6s\n",
      "[CV 1/5; 28/90] START learning_rate=0.01, loss=exponential, n_estimators=10, subsample=0.5\n",
      "[CV 1/5; 28/90] END learning_rate=0.01, loss=exponential, n_estimators=10, subsample=0.5;, score=0.826 total time=   0.3s\n",
      "[CV 2/5; 28/90] START learning_rate=0.01, loss=exponential, n_estimators=10, subsample=0.5\n",
      "[CV 2/5; 28/90] END learning_rate=0.01, loss=exponential, n_estimators=10, subsample=0.5;, score=0.839 total time=   0.3s\n",
      "[CV 3/5; 28/90] START learning_rate=0.01, loss=exponential, n_estimators=10, subsample=0.5\n",
      "[CV 3/5; 28/90] END learning_rate=0.01, loss=exponential, n_estimators=10, subsample=0.5;, score=0.813 total time=   0.3s\n",
      "[CV 5/5; 28/90] START learning_rate=0.01, loss=exponential, n_estimators=10, subsample=0.5\n",
      "[CV 5/5; 28/90] END learning_rate=0.01, loss=exponential, n_estimators=10, subsample=0.5;, score=0.844 total time=   0.3s\n",
      "[CV 2/5; 29/90] START learning_rate=0.01, loss=exponential, n_estimators=10, subsample=0.75\n",
      "[CV 2/5; 29/90] END learning_rate=0.01, loss=exponential, n_estimators=10, subsample=0.75;, score=0.840 total time=   0.4s\n",
      "[CV 5/5; 29/90] START learning_rate=0.01, loss=exponential, n_estimators=10, subsample=0.75\n",
      "[CV 5/5; 29/90] END learning_rate=0.01, loss=exponential, n_estimators=10, subsample=0.75;, score=0.841 total time=   0.4s\n",
      "[CV 3/5; 30/90] START learning_rate=0.01, loss=exponential, n_estimators=10, subsample=1.0\n",
      "[CV 3/5; 30/90] END learning_rate=0.01, loss=exponential, n_estimators=10, subsample=1.0;, score=0.812 total time=   0.5s\n",
      "[CV 5/5; 31/90] START learning_rate=0.01, loss=exponential, n_estimators=50, subsample=0.5\n",
      "[CV 5/5; 31/90] END learning_rate=0.01, loss=exponential, n_estimators=50, subsample=0.5;, score=0.841 total time=   1.6s\n",
      "[CV 3/5; 33/90] START learning_rate=0.01, loss=exponential, n_estimators=50, subsample=1.0\n",
      "[CV 3/5; 33/90] END learning_rate=0.01, loss=exponential, n_estimators=50, subsample=1.0;, score=0.815 total time=   2.8s\n",
      "[CV 5/5; 35/90] START learning_rate=0.01, loss=exponential, n_estimators=100, subsample=0.75\n",
      "[CV 5/5; 35/90] END learning_rate=0.01, loss=exponential, n_estimators=100, subsample=0.75;, score=0.837 total time=   4.7s\n",
      "[CV 1/5; 41/90] START learning_rate=0.1, loss=deviance, n_estimators=50, subsample=0.75\n",
      "[CV 1/5; 41/90] END learning_rate=0.1, loss=deviance, n_estimators=50, subsample=0.75;, score=0.841 total time=   2.6s\n",
      "[CV 5/5; 43/90] START learning_rate=0.1, loss=deviance, n_estimators=100, subsample=0.5\n",
      "[CV 5/5; 43/90] END learning_rate=0.1, loss=deviance, n_estimators=100, subsample=0.5;, score=0.871 total time=   3.1s\n",
      "[CV 1/5; 46/90] START learning_rate=0.1, loss=exponential, n_estimators=10, subsample=0.5\n",
      "[CV 1/5; 46/90] END learning_rate=0.1, loss=exponential, n_estimators=10, subsample=0.5;, score=0.829 total time=   0.3s\n",
      "[CV 2/5; 46/90] START learning_rate=0.1, loss=exponential, n_estimators=10, subsample=0.5\n",
      "[CV 2/5; 46/90] END learning_rate=0.1, loss=exponential, n_estimators=10, subsample=0.5;, score=0.842 total time=   0.3s\n",
      "[CV 3/5; 46/90] START learning_rate=0.1, loss=exponential, n_estimators=10, subsample=0.5\n",
      "[CV 3/5; 46/90] END learning_rate=0.1, loss=exponential, n_estimators=10, subsample=0.5;, score=0.808 total time=   0.4s\n",
      "[CV 5/5; 46/90] START learning_rate=0.1, loss=exponential, n_estimators=10, subsample=0.5\n",
      "[CV 5/5; 46/90] END learning_rate=0.1, loss=exponential, n_estimators=10, subsample=0.5;, score=0.843 total time=   0.3s\n",
      "[CV 2/5; 47/90] START learning_rate=0.1, loss=exponential, n_estimators=10, subsample=0.75\n",
      "[CV 2/5; 47/90] END learning_rate=0.1, loss=exponential, n_estimators=10, subsample=0.75;, score=0.840 total time=   0.4s\n",
      "[CV 5/5; 47/90] START learning_rate=0.1, loss=exponential, n_estimators=10, subsample=0.75\n",
      "[CV 5/5; 47/90] END learning_rate=0.1, loss=exponential, n_estimators=10, subsample=0.75;, score=0.834 total time=   0.5s\n",
      "[CV 4/5; 48/90] START learning_rate=0.1, loss=exponential, n_estimators=10, subsample=1.0\n",
      "[CV 4/5; 48/90] END learning_rate=0.1, loss=exponential, n_estimators=10, subsample=1.0;, score=0.826 total time=   0.5s\n",
      "[CV 3/5; 49/90] START learning_rate=0.1, loss=exponential, n_estimators=50, subsample=0.5\n",
      "[CV 3/5; 49/90] END learning_rate=0.1, loss=exponential, n_estimators=50, subsample=0.5;, score=0.827 total time=   1.4s\n",
      "[CV 1/5; 51/90] START learning_rate=0.1, loss=exponential, n_estimators=50, subsample=1.0\n",
      "[CV 1/5; 51/90] END learning_rate=0.1, loss=exponential, n_estimators=50, subsample=1.0;, score=0.841 total time=   2.2s\n",
      "[CV 1/5; 53/90] START learning_rate=0.1, loss=exponential, n_estimators=100, subsample=0.75\n",
      "[CV 1/5; 53/90] END learning_rate=0.1, loss=exponential, n_estimators=100, subsample=0.75;, score=0.850 total time=   4.5s\n",
      "[CV 4/5; 57/90] START learning_rate=1, loss=deviance, n_estimators=10, subsample=1.0\n",
      "[CV 4/5; 57/90] END learning_rate=1, loss=deviance, n_estimators=10, subsample=1.0;, score=0.846 total time=   0.6s\n",
      "[CV 3/5; 58/90] START learning_rate=1, loss=deviance, n_estimators=50, subsample=0.5\n",
      "[CV 3/5; 58/90] END learning_rate=1, loss=deviance, n_estimators=50, subsample=0.5;, score=0.829 total time=   1.8s\n",
      "[CV 5/5; 60/90] START learning_rate=1, loss=deviance, n_estimators=50, subsample=1.0\n",
      "[CV 5/5; 60/90] END learning_rate=1, loss=deviance, n_estimators=50, subsample=1.0;, score=0.861 total time=   2.7s\n",
      "[CV 2/5; 63/90] START learning_rate=1, loss=deviance, n_estimators=100, subsample=1.0\n",
      "[CV 2/5; 63/90] END learning_rate=1, loss=deviance, n_estimators=100, subsample=1.0;, score=0.885 total time=   5.3s\n",
      "[CV 2/5; 69/90] START learning_rate=1, loss=exponential, n_estimators=50, subsample=1.0\n",
      "[CV 2/5; 69/90] END learning_rate=1, loss=exponential, n_estimators=50, subsample=1.0;, score=0.883 total time=   2.6s\n",
      "[CV 5/5; 71/90] START learning_rate=1, loss=exponential, n_estimators=100, subsample=0.75\n",
      "[CV 5/5; 71/90] END learning_rate=1, loss=exponential, n_estimators=100, subsample=0.75;, score=0.876 total time=   4.8s\n",
      "[CV 2/5; 77/90] START learning_rate=2, loss=deviance, n_estimators=50, subsample=0.75\n",
      "[CV 2/5; 77/90] END learning_rate=2, loss=deviance, n_estimators=50, subsample=0.75;, score=0.828 total time=   2.6s\n",
      "[CV 1/5; 80/90] START learning_rate=2, loss=deviance, n_estimators=100, subsample=0.75\n",
      "[CV 1/5; 80/90] END learning_rate=2, loss=deviance, n_estimators=100, subsample=0.75;, score=0.481 total time=   4.6s\n",
      "[CV 5/5; 83/90] START learning_rate=2, loss=exponential, n_estimators=10, subsample=0.75\n",
      "[CV 5/5; 83/90] END learning_rate=2, loss=exponential, n_estimators=10, subsample=0.75;, score=0.846 total time=   0.5s\n",
      "[CV 1/5; 85/90] START learning_rate=2, loss=exponential, n_estimators=50, subsample=0.5\n",
      "[CV 1/5; 85/90] END learning_rate=2, loss=exponential, n_estimators=50, subsample=0.5;, score=0.828 total time=   1.7s\n",
      "[CV 4/5; 1/90] START learning_rate=0.001, loss=deviance, n_estimators=10, subsample=0.5\n",
      "[CV 4/5; 1/90] END learning_rate=0.001, loss=deviance, n_estimators=10, subsample=0.5;, score=0.818 total time=   0.3s\n",
      "[CV 4/5; 3/90] START learning_rate=0.001, loss=deviance, n_estimators=10, subsample=1.0\n",
      "[CV 4/5; 3/90] END learning_rate=0.001, loss=deviance, n_estimators=10, subsample=1.0;, score=0.820 total time=   0.4s\n",
      "[CV 4/5; 5/90] START learning_rate=0.001, loss=deviance, n_estimators=50, subsample=0.75\n",
      "[CV 4/5; 5/90] END learning_rate=0.001, loss=deviance, n_estimators=50, subsample=0.75;, score=0.824 total time=   2.4s\n",
      "[CV 2/5; 8/90] START learning_rate=0.001, loss=deviance, n_estimators=100, subsample=0.75\n",
      "[CV 2/5; 8/90] END learning_rate=0.001, loss=deviance, n_estimators=100, subsample=0.75;, score=0.840 total time=   4.6s\n",
      "[CV 2/5; 12/90] START learning_rate=0.001, loss=exponential, n_estimators=10, subsample=1.0\n",
      "[CV 2/5; 12/90] END learning_rate=0.001, loss=exponential, n_estimators=10, subsample=1.0;, score=0.830 total time=   0.5s\n",
      "[CV 3/5; 13/90] START learning_rate=0.001, loss=exponential, n_estimators=50, subsample=0.5\n",
      "[CV 3/5; 13/90] END learning_rate=0.001, loss=exponential, n_estimators=50, subsample=0.5;, score=0.812 total time=   2.4s\n",
      "[CV 5/5; 15/90] START learning_rate=0.001, loss=exponential, n_estimators=50, subsample=1.0\n",
      "[CV 5/5; 15/90] END learning_rate=0.001, loss=exponential, n_estimators=50, subsample=1.0;, score=0.837 total time=   2.8s\n",
      "[CV 2/5; 18/90] START learning_rate=0.001, loss=exponential, n_estimators=100, subsample=1.0\n",
      "[CV 2/5; 18/90] END learning_rate=0.001, loss=exponential, n_estimators=100, subsample=1.0;, score=0.838 total time=   5.1s\n",
      "[CV 4/5; 23/90] START learning_rate=0.01, loss=deviance, n_estimators=50, subsample=0.75\n",
      "[CV 4/5; 23/90] END learning_rate=0.01, loss=deviance, n_estimators=50, subsample=0.75;, score=0.831 total time=   2.6s\n",
      "[CV 1/5; 26/90] START learning_rate=0.01, loss=deviance, n_estimators=100, subsample=0.75\n",
      "[CV 1/5; 26/90] END learning_rate=0.01, loss=deviance, n_estimators=100, subsample=0.75;, score=0.824 total time=   4.6s\n",
      "[CV 2/5; 30/90] START learning_rate=0.01, loss=exponential, n_estimators=10, subsample=1.0\n",
      "[CV 2/5; 30/90] END learning_rate=0.01, loss=exponential, n_estimators=10, subsample=1.0;, score=0.838 total time=   0.5s\n",
      "[CV 2/5; 31/90] START learning_rate=0.01, loss=exponential, n_estimators=50, subsample=0.5\n",
      "[CV 2/5; 31/90] END learning_rate=0.01, loss=exponential, n_estimators=50, subsample=0.5;, score=0.841 total time=   2.1s\n",
      "[CV 4/5; 33/90] START learning_rate=0.01, loss=exponential, n_estimators=50, subsample=1.0\n",
      "[CV 4/5; 33/90] END learning_rate=0.01, loss=exponential, n_estimators=50, subsample=1.0;, score=0.830 total time=   2.5s\n",
      "[CV 1/5; 36/90] START learning_rate=0.01, loss=exponential, n_estimators=100, subsample=1.0\n",
      "[CV 1/5; 36/90] END learning_rate=0.01, loss=exponential, n_estimators=100, subsample=1.0;, score=0.827 total time=   5.4s\n",
      "[CV 1/5; 42/90] START learning_rate=0.1, loss=deviance, n_estimators=50, subsample=1.0\n",
      "[CV 1/5; 42/90] END learning_rate=0.1, loss=deviance, n_estimators=50, subsample=1.0;, score=0.842 total time=   3.3s\n",
      "[CV 4/5; 44/90] START learning_rate=0.1, loss=deviance, n_estimators=100, subsample=0.75\n",
      "[CV 4/5; 44/90] END learning_rate=0.1, loss=deviance, n_estimators=100, subsample=0.75;, score=0.858 total time=   4.7s\n",
      "[CV 5/5; 49/90] START learning_rate=0.1, loss=exponential, n_estimators=50, subsample=0.5\n",
      "[CV 5/5; 49/90] END learning_rate=0.1, loss=exponential, n_estimators=50, subsample=0.5;, score=0.856 total time=   1.6s\n",
      "[CV 2/5; 51/90] START learning_rate=0.1, loss=exponential, n_estimators=50, subsample=1.0\n",
      "[CV 2/5; 51/90] END learning_rate=0.1, loss=exponential, n_estimators=50, subsample=1.0;, score=0.857 total time=   3.0s\n",
      "[CV 4/5; 53/90] START learning_rate=0.1, loss=exponential, n_estimators=100, subsample=0.75\n",
      "[CV 4/5; 53/90] END learning_rate=0.1, loss=exponential, n_estimators=100, subsample=0.75;, score=0.855 total time=   4.1s\n",
      "[CV 1/5; 59/90] START learning_rate=1, loss=deviance, n_estimators=50, subsample=0.75\n",
      "[CV 1/5; 59/90] END learning_rate=1, loss=deviance, n_estimators=50, subsample=0.75;, score=0.849 total time=   2.6s\n",
      "[CV 3/5; 61/90] START learning_rate=1, loss=deviance, n_estimators=100, subsample=0.5\n",
      "[CV 3/5; 61/90] END learning_rate=1, loss=deviance, n_estimators=100, subsample=0.5;, score=0.842 total time=   3.5s\n",
      "[CV 1/5; 64/90] START learning_rate=1, loss=exponential, n_estimators=10, subsample=0.5\n",
      "[CV 1/5; 64/90] END learning_rate=1, loss=exponential, n_estimators=10, subsample=0.5;, score=0.831 total time=   0.4s\n",
      "[CV 4/5; 64/90] START learning_rate=1, loss=exponential, n_estimators=10, subsample=0.5\n",
      "[CV 4/5; 64/90] END learning_rate=1, loss=exponential, n_estimators=10, subsample=0.5;, score=0.844 total time=   0.3s\n",
      "[CV 1/5; 65/90] START learning_rate=1, loss=exponential, n_estimators=10, subsample=0.75\n",
      "[CV 1/5; 65/90] END learning_rate=1, loss=exponential, n_estimators=10, subsample=0.75;, score=0.840 total time=   0.4s\n",
      "[CV 3/5; 65/90] START learning_rate=1, loss=exponential, n_estimators=10, subsample=0.75\n",
      "[CV 3/5; 65/90] END learning_rate=1, loss=exponential, n_estimators=10, subsample=0.75;, score=0.830 total time=   0.7s\n",
      "[CV 3/5; 66/90] START learning_rate=1, loss=exponential, n_estimators=10, subsample=1.0\n",
      "[CV 3/5; 66/90] END learning_rate=1, loss=exponential, n_estimators=10, subsample=1.0;, score=0.824 total time=   0.7s\n",
      "[CV 1/5; 68/90] START learning_rate=1, loss=exponential, n_estimators=50, subsample=0.75\n",
      "[CV 1/5; 68/90] END learning_rate=1, loss=exponential, n_estimators=50, subsample=0.75;, score=0.865 total time=   2.4s\n",
      "[CV 4/5; 70/90] START learning_rate=1, loss=exponential, n_estimators=100, subsample=0.5\n",
      "[CV 4/5; 70/90] END learning_rate=1, loss=exponential, n_estimators=100, subsample=0.5;, score=0.857 total time=   2.7s\n",
      "[CV 1/5; 73/90] START learning_rate=2, loss=deviance, n_estimators=10, subsample=0.5\n",
      "[CV 1/5; 73/90] END learning_rate=2, loss=deviance, n_estimators=10, subsample=0.5;, score=0.819 total time=   0.4s\n",
      "[CV 2/5; 73/90] START learning_rate=2, loss=deviance, n_estimators=10, subsample=0.5\n",
      "[CV 2/5; 73/90] END learning_rate=2, loss=deviance, n_estimators=10, subsample=0.5;, score=0.833 total time=   0.3s\n",
      "[CV 4/5; 73/90] START learning_rate=2, loss=deviance, n_estimators=10, subsample=0.5\n",
      "[CV 4/5; 73/90] END learning_rate=2, loss=deviance, n_estimators=10, subsample=0.5;, score=0.825 total time=   0.3s\n",
      "[CV 1/5; 74/90] START learning_rate=2, loss=deviance, n_estimators=10, subsample=0.75\n",
      "[CV 1/5; 74/90] END learning_rate=2, loss=deviance, n_estimators=10, subsample=0.75;, score=0.824 total time=   0.4s\n",
      "[CV 2/5; 74/90] START learning_rate=2, loss=deviance, n_estimators=10, subsample=0.75\n",
      "[CV 2/5; 74/90] END learning_rate=2, loss=deviance, n_estimators=10, subsample=0.75;, score=0.384 total time=   0.4s\n",
      "[CV 4/5; 74/90] START learning_rate=2, loss=deviance, n_estimators=10, subsample=0.75\n",
      "[CV 4/5; 74/90] END learning_rate=2, loss=deviance, n_estimators=10, subsample=0.75;, score=0.816 total time=   0.6s\n",
      "[CV 4/5; 75/90] START learning_rate=2, loss=deviance, n_estimators=10, subsample=1.0\n",
      "[CV 4/5; 75/90] END learning_rate=2, loss=deviance, n_estimators=10, subsample=1.0;, score=0.836 total time=   0.7s\n",
      "[CV 5/5; 76/90] START learning_rate=2, loss=deviance, n_estimators=50, subsample=0.5\n",
      "[CV 5/5; 76/90] END learning_rate=2, loss=deviance, n_estimators=50, subsample=0.5;, score=0.738 total time=   1.3s\n",
      "[CV 3/5; 78/90] START learning_rate=2, loss=deviance, n_estimators=50, subsample=1.0\n",
      "[CV 3/5; 78/90] END learning_rate=2, loss=deviance, n_estimators=50, subsample=1.0;, score=0.820 total time=   2.5s\n",
      "[CV 3/5; 80/90] START learning_rate=2, loss=deviance, n_estimators=100, subsample=0.75\n",
      "[CV 3/5; 80/90] END learning_rate=2, loss=deviance, n_estimators=100, subsample=0.75;, score=0.761 total time=   4.3s\n",
      "[CV 4/5; 85/90] START learning_rate=2, loss=exponential, n_estimators=50, subsample=0.5\n",
      "[CV 4/5; 85/90] END learning_rate=2, loss=exponential, n_estimators=50, subsample=0.5;, score=0.834 total time=   1.7s\n",
      "[CV 5/5; 87/90] START learning_rate=2, loss=exponential, n_estimators=50, subsample=1.0CPU times: user 2.77 s, sys: 152 ms, total: 2.92 s\n",
      "Wall time: 1min 30s\n"
     ]
    }
   ],
   "source": [
    "%%time\n",
    "params = {\n",
    "    \"loss\": [\"deviance\", \"exponential\"],\n",
    "    \"learning_rate\": [0.001, 0.01, 0.1, 1, 2],\n",
    "    \"n_estimators\": [10, 50, 100],\n",
    "    \"subsample\": [0.5, 0.75, 1.0],\n",
    "}\n",
    "\n",
    "gs_clf = GridSearchCV(GradientBoostingClassifier(), params, n_jobs=-1, scoring='accuracy', verbose=10)\n",
    "  \n",
    "gs_clf = gs_clf.fit(X_train, y_train)\n",
    "# Predict \n",
    "y_pred = gs_clf.predict(X_test)"
   ]
  },
  {
   "cell_type": "code",
   "execution_count": 246,
   "id": "d5ad5e24-2396-4ac2-83c4-0f31188248c7",
   "metadata": {},
   "outputs": [
    {
     "name": "stdout",
     "output_type": "stream",
     "text": [
      "Test Accuracy: 0.8687401159725883\n"
     ]
    }
   ],
   "source": [
    "print(f\"Test Accuracy: {accuracy_score(y_test, y_pred)}\")"
   ]
  },
  {
   "cell_type": "code",
   "execution_count": 247,
   "id": "c0e3933b-738c-4180-af2e-95b10b6ee6c9",
   "metadata": {},
   "outputs": [
    {
     "name": "stdout",
     "output_type": "stream",
     "text": [
      "              precision    recall  f1-score   support\n",
      "\n",
      "           0       0.87      0.87      0.87       961\n",
      "           1       0.86      0.87      0.87       936\n",
      "\n",
      "    accuracy                           0.87      1897\n",
      "   macro avg       0.87      0.87      0.87      1897\n",
      "weighted avg       0.87      0.87      0.87      1897\n",
      "\n"
     ]
    }
   ],
   "source": [
    "print(classification_report(y_test, y_pred))"
   ]
  },
  {
   "cell_type": "code",
   "execution_count": 248,
   "id": "6f4431dc-c563-47a8-b3e0-670c98ce43d0",
   "metadata": {
    "tags": []
   },
   "outputs": [
    {
     "data": {
      "image/png": "[encoded data removed]",
      "text/plain": [
       "<Figure size 720x504 with 2 Axes>"
      ]
     },
     "metadata": {
      "needs_background": "light"
     },
     "output_type": "display_data"
    }
   ],
   "source": [
    "plot_conf_matrix(y_pred, y_test, title=\"Gradient Boosting Classifier Classifier\")"
   ]
  },
  {
   "cell_type": "markdown",
   "id": "8a16e17f-78a2-4ec5-970f-32f775bbadc5",
   "metadata": {},
   "source": [
    "# Model 3: Random Forest Classifier"
   ]
  },
  {
   "cell_type": "code",
   "execution_count": 249,
   "id": "a33153a4-84bc-4f96-a5a7-9997b4f8eae0",
   "metadata": {},
   "outputs": [],
   "source": [
    "from sklearn.ensemble import RandomForestClassifier\n",
    "\n",
    "rf_model = RandomForestClassifier()\n",
    "# Fit model \n",
    "rf_model.fit(X_train, y_train)\n",
    "# Predict \n",
    "y_pred = rf_model.predict(X_test)"
   ]
  },
  {
   "cell_type": "code",
   "execution_count": 250,
   "id": "f7a541c4-90ed-41a6-9300-bdc58a773dab",
   "metadata": {},
   "outputs": [],
   "source": [
    "params = {\n",
    "    \"n_estimators\": [10, 50, 100, 200],\n",
    "    \"min_samples_leaf\": [1, 2, 4],\n",
    "}\n",
    "gs_clf = GridSearchCV(RandomForestClassifier(), params, n_jobs=-1)\n",
    "gs_clf = gs_clf.fit(X_train, y_train)\n",
    "# Predict \n",
    "y_pred = gs_clf.predict(X_test)"
   ]
  },
  {
   "cell_type": "code",
   "execution_count": 251,
   "id": "1bd442e5-089d-49eb-be7c-02d3cf59400c",
   "metadata": {},
   "outputs": [
    {
     "name": "stdout",
     "output_type": "stream",
     "text": [
      "Test Accuracy: 0.9109119662625198\n"
     ]
    }
   ],
   "source": [
    "print(f\"Test Accuracy: {accuracy_score(y_test, y_pred)}\")"
   ]
  },
  {
   "cell_type": "code",
   "execution_count": 252,
   "id": "dca79d09-51fb-4d2a-b754-ff11a7e43e44",
   "metadata": {},
   "outputs": [
    {
     "name": "stdout",
     "output_type": "stream",
     "text": [
      "              precision    recall  f1-score   support\n",
      "\n",
      "           0       0.92      0.91      0.91       961\n",
      "           1       0.90      0.92      0.91       936\n",
      "\n",
      "    accuracy                           0.91      1897\n",
      "   macro avg       0.91      0.91      0.91      1897\n",
      "weighted avg       0.91      0.91      0.91      1897\n",
      "\n"
     ]
    }
   ],
   "source": [
    "print(classification_report(y_test, y_pred))"
   ]
  },
  {
   "cell_type": "code",
   "execution_count": 253,
   "id": "e35290f3-6c1a-40fe-b990-56e90dd4516f",
   "metadata": {},
   "outputs": [
    {
     "data": {
      "image/png": "[encoded data removed]",
      "text/plain": [
       "<Figure size 720x504 with 2 Axes>"
      ]
     },
     "metadata": {
      "needs_background": "light"
     },
     "output_type": "display_data"
    }
   ],
   "source": [
    "plot_conf_matrix(y_pred, y_test, title=\"Random Forest Classifier Classifier\")"
   ]
  },
  {
   "cell_type": "markdown",
   "id": "52092715-4a96-44bd-a8c7-ca685e264438",
   "metadata": {},
   "source": [
    "# LSTM"
   ]
  },
  {
   "cell_type": "code",
   "execution_count": null,
   "id": "4aa4638f-dfa8-4147-b487-c579ef5f6477",
   "metadata": {},
   "outputs": [],
   "source": []
  },
  {
   "cell_type": "code",
   "execution_count": null,
   "id": "78249b98-4248-4c64-ba0e-48775ef3b2d2",
   "metadata": {},
   "outputs": [],
   "source": []
  },
  {
   "cell_type": "code",
   "execution_count": null,
   "id": "e8d5e5da-b777-4fea-addc-375cccc9b312",
   "metadata": {},
   "outputs": [],
   "source": []
  },
  {
   "cell_type": "code",
   "execution_count": null,
   "id": "639bfcca-7105-4a22-8799-6caa6b6ae8fa",
   "metadata": {},
   "outputs": [],
   "source": []
  },
  {
   "cell_type": "code",
   "execution_count": null,
   "id": "7dc6461b-91ef-462d-8014-d27030485895",
   "metadata": {},
   "outputs": [],
   "source": []
  },
  {
   "cell_type": "code",
   "execution_count": null,
   "id": "cc3ecc7b-4110-4053-b222-f1cf7450dfb4",
   "metadata": {},
   "outputs": [],
   "source": []
  },
  {
   "cell_type": "code",
   "execution_count": null,
   "id": "e334cebf-ffdd-4eaa-aaaf-e8b8d8978780",
   "metadata": {},
   "outputs": [],
   "source": []
  },
  {
   "cell_type": "code",
   "execution_count": null,
   "id": "5f2f1ab9-2987-44cc-8606-8a4bcfbb731b",
   "metadata": {},
   "outputs": [],
   "source": []
  }
 ],
 "metadata": {
  "kernelspec": {
   "display_name": "Python 3 (ipykernel)",
   "language": "python",
   "name": "python3"
  },
  "language_info": {
   "codemirror_mode": {
    "name": "ipython",
    "version": 3
   },
   "file_extension": ".py",
   "mimetype": "text/x-python",
   "name": "python",
   "nbconvert_exporter": "python",
   "pygments_lexer": "ipython3",
   "version": "3.8.0"
  }
 },
 "nbformat": 4,
 "nbformat_minor": 5
}
