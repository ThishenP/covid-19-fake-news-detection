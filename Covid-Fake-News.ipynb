{
 "cells": [
  {
   "cell_type": "code",
   "execution_count": 1,
   "id": "659902f1-83fb-48a6-a872-554e71f93735",
   "metadata": {},
   "outputs": [],
   "source": [
    "import warnings\n",
    "warnings.filterwarnings('ignore')\n",
    "import numpy as np\n",
    "import pandas as pd\n",
    "import matplotlib.pyplot as plt\n",
    "import seaborn as sns\n",
    "import nltk\n",
    "import string\n",
    "import re\n",
    "import os\n",
    "from sklearn.linear_model import LogisticRegression\n",
    "from sklearn.model_selection import train_test_split, GridSearchCV\n",
    "from sklearn.metrics import classification_report, accuracy_score, confusion_matrix"
   ]
  },
  {
   "cell_type": "code",
   "execution_count": 2,
   "id": "5c7080bd-9360-46ee-9ae7-24f3aaae8c24",
   "metadata": {
    "scrolled": true,
    "tags": []
   },
   "outputs": [],
   "source": [
    "def plot_conf_matrix(y_pred, y_true, title=None):\n",
    "    \"\"\"Helper Function to plot confustion matrix\"\"\"\n",
    "    \n",
    "    conf_mat = confusion_matrix(y_pred, y_true)\n",
    "    df_cm = pd.DataFrame(conf_mat, index = [i for i in [\"Fake\", \"Real\"]],\n",
    "                  columns = [i for i in [\"Fake\", \"Real\"]])\n",
    "    plt.figure(figsize = (10,7))\n",
    "    sns.heatmap(df_cm, annot=True, cmap=\"Blues\")\n",
    "    plt.ylabel(\"True Label\")\n",
    "    plt.xlabel(\"Predicted Label\")\n",
    "    if title:\n",
    "        plt.title(f\"{title} Confusion Matrix\")\n",
    "    plt.show()"
   ]
  },
  {
   "cell_type": "code",
   "execution_count": 54,
   "id": "f8232d26-4e06-448f-969b-61ca0192b524",
   "metadata": {},
   "outputs": [
    {
     "data": {
      "text/plain": [
       "' Seven children died from coronavirus within one week in Karimganj (Assam, India).\\t\\t'"
      ]
     },
     "execution_count": 54,
     "metadata": {},
     "output_type": "execute_result"
    }
   ],
   "source": [
    "fake_news_df.iloc[80]['Text']"
   ]
  },
  {
   "cell_type": "markdown",
   "id": "f266b5af-4823-41b0-97ce-d467abb1dbae",
   "metadata": {},
   "source": [
    "# Read in Data and Preprocess"
   ]
  },
  {
   "cell_type": "code",
   "execution_count": 211,
   "id": "44ec800a-a3b4-465e-9b74-64d29b0ceafa",
   "metadata": {},
   "outputs": [],
   "source": [
    "true_news_df = pd.read_csv(\"COVID19-FNIR/COVID19-FNIR/trueNews.csv\")\n",
    "fake_news_df = pd.read_csv(\"COVID19-FNIR/COVID19-FNIR/fakeNews.csv\")"
   ]
  },
  {
   "cell_type": "code",
   "execution_count": null,
   "id": "8de88367-9bf9-477b-b993-a9bd1b63bcbf",
   "metadata": {},
   "outputs": [],
   "source": []
  },
  {
   "cell_type": "code",
   "execution_count": 212,
   "id": "e0f7342a-bbac-46cf-8261-ae7115916a32",
   "metadata": {},
   "outputs": [
    {
     "data": {
      "text/plain": [
       "(7588, 2)"
      ]
     },
     "execution_count": 212,
     "metadata": {},
     "output_type": "execute_result"
    }
   ],
   "source": [
    "combined.shape"
   ]
  },
  {
   "cell_type": "code",
   "execution_count": 213,
   "id": "2741c91f-efb4-4fac-bf06-7dff8abd4acb",
   "metadata": {},
   "outputs": [
    {
     "data": {
      "text/plain": [
       "(3795, 11)"
      ]
     },
     "execution_count": 213,
     "metadata": {},
     "output_type": "execute_result"
    }
   ],
   "source": [
    "fake_news_df.shape"
   ]
  },
  {
   "cell_type": "code",
   "execution_count": 214,
   "id": "739507be-1d3e-4241-8751-172d93fd769c",
   "metadata": {},
   "outputs": [
    {
     "data": {
      "text/plain": [
       "(3793, 7)"
      ]
     },
     "execution_count": 214,
     "metadata": {},
     "output_type": "execute_result"
    }
   ],
   "source": [
    "true_news_df.shape"
   ]
  },
  {
   "cell_type": "code",
   "execution_count": 215,
   "id": "788ffbc2-3c06-4cf9-a60c-9e6b43a8d33c",
   "metadata": {},
   "outputs": [],
   "source": [
    "# Assign class columns and combine dataframes\n",
    "fake_news_df[\"class\"] = 0\n",
    "true_news_df[\"class\"] = 1\n",
    "combined = pd.concat([fake_news_df, true_news_df], axis=0)"
   ]
  },
  {
   "cell_type": "code",
   "execution_count": 216,
   "id": "358c39f1-67fc-4981-b2db-39319c965914",
   "metadata": {},
   "outputs": [],
   "source": [
    "# Subset data to just contain the text field and the class field\n",
    "combined = combined[[\"Text\", \"class\"]].reset_index(drop=True)\n",
    "# Shuffle data\n",
    "combined = combined.sample(frac = 1)"
   ]
  },
  {
   "cell_type": "code",
   "execution_count": 217,
   "id": "3ec2f6f3-859f-424d-a65d-79a3440993ab",
   "metadata": {},
   "outputs": [],
   "source": [
    "combined['Text'] = combined['Text'].str.replace('http\\S+|www.\\S+', '', case=False)\n",
    "combined['Text'] = combined['Text'].str.replace('pic\\S+|twitter.\\S+', '', case=False)\n",
    "combined['Text'] = combined['Text'].str.replace('#\\S+', '', case=False)\n",
    "combined['Text'] = combined['Text'].str.replace('@\\S+', '', case=False)\n",
    "combined['Text'] = combined['Text'].str.replace('Link:\\S+', '', case=False)\n",
    "combined['Text'] = combined['Text'].str.replace('[ \\t]+$', '', case=False)\n",
    "\n",
    "\n",
    "def wordopt(text):\n",
    "    \"\"\"Formating of the text field \"\"\"\n",
    "    text = text.lower()\n",
    "    text = re.sub('\\[.*?\\]', '', text)\n",
    "    text = re.sub(\"\\\\W\",\" \",text) \n",
    "    text = re.sub('<.*?>+', '', text)\n",
    "    text = re.sub('[%s]' % re.escape(string.punctuation), '', text)\n",
    "    text = re.sub('\\n', '', text)\n",
    "    text = re.sub('\\w*\\d\\w*', '', text)    \n",
    "    return text\n",
    "combined[\"Text\"] = combined[\"Text\"].apply(wordopt)"
   ]
  },
  {
   "cell_type": "code",
   "execution_count": 218,
   "id": "53d2a28d-7dee-4174-b055-ce8d3a22a366",
   "metadata": {},
   "outputs": [
    {
     "data": {
      "text/plain": [
       "'uk employers should pay wages of those asked to isolate by covid  trace system  minister says   '"
      ]
     },
     "execution_count": 218,
     "metadata": {},
     "output_type": "execute_result"
    }
   ],
   "source": [
    "combined[combined[\"class\"]==1].iloc[2][\"Text\"]"
   ]
  },
  {
   "cell_type": "code",
   "execution_count": 219,
   "id": "a485771a-1846-4ee8-8b6f-63f4593a6420",
   "metadata": {},
   "outputs": [],
   "source": [
    "# remove front and ending blank spaces\n",
    "combined = combined.replace({\"^\\s*|\\s*$\":\"\"}, regex=True) "
   ]
  },
  {
   "cell_type": "code",
   "execution_count": 222,
   "id": "0148108e-d38e-4b59-b9c9-32346b2696eb",
   "metadata": {},
   "outputs": [],
   "source": [
    "# for i in range(1000):\n",
    "#     print(f\"{i}: {combined[combined['class']==0].iloc[i]['Text']}\")"
   ]
  },
  {
   "cell_type": "code",
   "execution_count": 223,
   "id": "250e1445-9afa-4243-bd52-173849e4781f",
   "metadata": {},
   "outputs": [
    {
     "data": {
      "text/plain": [
       "'the department of homeland security  dhs  plans to mobilize the national guard to enforce a nationwide  day quarantine'"
      ]
     },
     "execution_count": 223,
     "metadata": {},
     "output_type": "execute_result"
    }
   ],
   "source": [
    "combined[combined[\"class\"]==0].iloc[1000][\"Text\"]"
   ]
  },
  {
   "cell_type": "code",
   "execution_count": null,
   "id": "5b37be7d-6983-40e0-a462-0d2f3a1be9b0",
   "metadata": {},
   "outputs": [],
   "source": []
  },
  {
   "cell_type": "code",
   "execution_count": null,
   "id": "9f60f8fd-efbd-4a6d-9434-08a21ed0e689",
   "metadata": {},
   "outputs": [],
   "source": []
  },
  {
   "cell_type": "code",
   "execution_count": 224,
   "id": "8588e879-92d7-464a-8342-5071b22b829c",
   "metadata": {},
   "outputs": [
    {
     "data": {
      "text/html": [
       "<div>\n",
       "<style scoped>\n",
       "    .dataframe tbody tr th:only-of-type {\n",
       "        vertical-align: middle;\n",
       "    }\n",
       "\n",
       "    .dataframe tbody tr th {\n",
       "        vertical-align: top;\n",
       "    }\n",
       "\n",
       "    .dataframe thead th {\n",
       "        text-align: right;\n",
       "    }\n",
       "</style>\n",
       "<table border=\"1\" class=\"dataframe\">\n",
       "  <thead>\n",
       "    <tr style=\"text-align: right;\">\n",
       "      <th></th>\n",
       "      <th>Text</th>\n",
       "      <th>class</th>\n",
       "    </tr>\n",
       "  </thead>\n",
       "  <tbody>\n",
       "    <tr>\n",
       "      <th>4844</th>\n",
       "      <td>new  report highlights geographic differences ...</td>\n",
       "      <td>1</td>\n",
       "    </tr>\n",
       "    <tr>\n",
       "      <th>7506</th>\n",
       "      <td>govt changes strategy to fight against covid  ...</td>\n",
       "      <td>1</td>\n",
       "    </tr>\n",
       "    <tr>\n",
       "      <th>2612</th>\n",
       "      <td>hot weather will stop the covid  pandemic</td>\n",
       "      <td>0</td>\n",
       "    </tr>\n",
       "    <tr>\n",
       "      <th>735</th>\n",
       "      <td>spanish politician ortega smith said  i prefer...</td>\n",
       "      <td>0</td>\n",
       "    </tr>\n",
       "    <tr>\n",
       "      <th>6649</th>\n",
       "      <td>uk employers should pay wages of those asked t...</td>\n",
       "      <td>1</td>\n",
       "    </tr>\n",
       "  </tbody>\n",
       "</table>\n",
       "</div>"
      ],
      "text/plain": [
       "                                                   Text  class\n",
       "4844  new  report highlights geographic differences ...      1\n",
       "7506  govt changes strategy to fight against covid  ...      1\n",
       "2612          hot weather will stop the covid  pandemic      0\n",
       "735   spanish politician ortega smith said  i prefer...      0\n",
       "6649  uk employers should pay wages of those asked t...      1"
      ]
     },
     "execution_count": 224,
     "metadata": {},
     "output_type": "execute_result"
    }
   ],
   "source": [
    "combined.head()"
   ]
  },
  {
   "cell_type": "code",
   "execution_count": null,
   "id": "184b5956-a92f-4a9d-a05a-588c52a3347d",
   "metadata": {},
   "outputs": [],
   "source": []
  },
  {
   "cell_type": "code",
   "execution_count": null,
   "id": "a84ac0ad-2f60-4f1f-866f-aa62be134365",
   "metadata": {},
   "outputs": [],
   "source": []
  },
  {
   "cell_type": "code",
   "execution_count": 225,
   "id": "74d3e410-84a9-4c6c-9551-3ea25f69d2ae",
   "metadata": {},
   "outputs": [
    {
     "data": {
      "text/html": [
       "<div>\n",
       "<style scoped>\n",
       "    .dataframe tbody tr th:only-of-type {\n",
       "        vertical-align: middle;\n",
       "    }\n",
       "\n",
       "    .dataframe tbody tr th {\n",
       "        vertical-align: top;\n",
       "    }\n",
       "\n",
       "    .dataframe thead th {\n",
       "        text-align: right;\n",
       "    }\n",
       "</style>\n",
       "<table border=\"1\" class=\"dataframe\">\n",
       "  <thead>\n",
       "    <tr style=\"text-align: right;\">\n",
       "      <th></th>\n",
       "      <th>Text</th>\n",
       "      <th>class</th>\n",
       "    </tr>\n",
       "  </thead>\n",
       "  <tbody>\n",
       "    <tr>\n",
       "      <th>4844</th>\n",
       "      <td>new  report highlights geographic differences ...</td>\n",
       "      <td>1</td>\n",
       "    </tr>\n",
       "    <tr>\n",
       "      <th>7506</th>\n",
       "      <td>govt changes strategy to fight against covid  ...</td>\n",
       "      <td>1</td>\n",
       "    </tr>\n",
       "    <tr>\n",
       "      <th>2612</th>\n",
       "      <td>hot weather will stop the covid  pandemic</td>\n",
       "      <td>0</td>\n",
       "    </tr>\n",
       "    <tr>\n",
       "      <th>735</th>\n",
       "      <td>spanish politician ortega smith said  i prefer...</td>\n",
       "      <td>0</td>\n",
       "    </tr>\n",
       "    <tr>\n",
       "      <th>6649</th>\n",
       "      <td>uk employers should pay wages of those asked t...</td>\n",
       "      <td>1</td>\n",
       "    </tr>\n",
       "  </tbody>\n",
       "</table>\n",
       "</div>"
      ],
      "text/plain": [
       "                                                   Text  class\n",
       "4844  new  report highlights geographic differences ...      1\n",
       "7506  govt changes strategy to fight against covid  ...      1\n",
       "2612          hot weather will stop the covid  pandemic      0\n",
       "735   spanish politician ortega smith said  i prefer...      0\n",
       "6649  uk employers should pay wages of those asked t...      1"
      ]
     },
     "execution_count": 225,
     "metadata": {},
     "output_type": "execute_result"
    }
   ],
   "source": [
    "combined.head()"
   ]
  },
  {
   "cell_type": "code",
   "execution_count": 226,
   "id": "cd7e42c6-72c4-4ee3-9fb2-0ede20e16110",
   "metadata": {},
   "outputs": [],
   "source": [
    "# Set X and y variables\n",
    "X = combined[\"Text\"]\n",
    "y = combined[\"class\"]"
   ]
  },
  {
   "cell_type": "code",
   "execution_count": 227,
   "id": "7c8b19fc-1a66-4d25-81b9-52457bcd9b20",
   "metadata": {},
   "outputs": [],
   "source": [
    "# Split data into training and test dataset\n",
    "X_train, X_test, y_train, y_test = train_test_split(X, y, test_size=0.25, random_state=42)"
   ]
  },
  {
   "cell_type": "code",
   "execution_count": 228,
   "id": "61573d3c-af7a-4d5e-adce-2db063ed1cfa",
   "metadata": {},
   "outputs": [],
   "source": [
    "from sklearn.feature_extraction.text import TfidfVectorizer\n",
    "\n",
    "# https://scikit-learn.org/stable/modules/generated/sklearn.feature_extraction.text.TfidfVectorizer.html \n",
    "\n",
    "vectorization = TfidfVectorizer()\n",
    "X_train = vectorization.fit_transform(X_train)\n",
    "X_test = vectorization.transform(X_test)"
   ]
  },
  {
   "cell_type": "markdown",
   "id": "4ac59ee7-3e2e-4189-a87e-f4b88a413acb",
   "metadata": {},
   "source": [
    "# Model 1: Naive Bayes Model"
   ]
  },
  {
   "cell_type": "code",
   "execution_count": 229,
   "id": "f0d7a940-75b1-4c7d-a9bd-3c647e87f74d",
   "metadata": {},
   "outputs": [],
   "source": [
    "from sklearn.naive_bayes import MultinomialNB\n",
    "\n",
    "\n",
    "nb_model = MultinomialNB()\n",
    "# Fit model \n",
    "nb_model.fit(X_train, y_train)\n",
    "# Predict \n",
    "y_pred = nb_model.predict(X_test)"
   ]
  },
  {
   "cell_type": "code",
   "execution_count": 230,
   "id": "262ad684-5594-4d6f-a163-3770d6882698",
   "metadata": {},
   "outputs": [
    {
     "name": "stdout",
     "output_type": "stream",
     "text": [
      "Test Accuracy: 0.8892988929889298\n"
     ]
    }
   ],
   "source": [
    "print(f\"Test Accuracy: {accuracy_score(y_test, y_pred)}\")"
   ]
  },
  {
   "cell_type": "code",
   "execution_count": 231,
   "id": "b01575a4-f621-4efd-8810-5b11ef7b2992",
   "metadata": {},
   "outputs": [
    {
     "name": "stdout",
     "output_type": "stream",
     "text": [
      "              precision    recall  f1-score   support\n",
      "\n",
      "           0       0.89      0.89      0.89       961\n",
      "           1       0.88      0.89      0.89       936\n",
      "\n",
      "    accuracy                           0.89      1897\n",
      "   macro avg       0.89      0.89      0.89      1897\n",
      "weighted avg       0.89      0.89      0.89      1897\n",
      "\n"
     ]
    }
   ],
   "source": [
    "print(classification_report(y_test, y_pred))"
   ]
  },
  {
   "cell_type": "code",
   "execution_count": 232,
   "id": "5f0fff98-4b50-4515-8afe-29a65346b6fa",
   "metadata": {},
   "outputs": [
    {
     "data": {
      "image/png": "[encoded data removed]",
      "text/plain": [
       "<Figure size 720x504 with 2 Axes>"
      ]
     },
     "metadata": {
      "needs_background": "light"
     },
     "output_type": "display_data"
    }
   ],
   "source": [
    "plot_conf_matrix(y_pred, y_test, title=\"Naive Bayes\")"
   ]
  },
  {
   "cell_type": "code",
   "execution_count": 233,
   "id": "6766beb6-fb12-4792-b9e7-cbf94a6b43f1",
   "metadata": {},
   "outputs": [],
   "source": [
    "# \n",
    "params = {\n",
    "    \"alpha\": [0.001, 0.01, 0.05, 0.1, 0.2, 0.3, 0.4, 0.5, 0.75, 1, 1.5, 2, 3, 5, 10],\n",
    "    \"fit_prior\": (True, False),\n",
    "}\n",
    "gs_clf = GridSearchCV(MultinomialNB(), params, n_jobs=-1)\n",
    "gs_clf = gs_clf.fit(X_train, y_train)"
   ]
  },
  {
   "cell_type": "code",
   "execution_count": 234,
   "id": "cdee0b08-131d-4f5a-9e53-2e80e16c0afa",
   "metadata": {},
   "outputs": [],
   "source": [
    "# gs_clf.cv_results_"
   ]
  },
  {
   "cell_type": "code",
   "execution_count": 235,
   "id": "88ce76af-295f-4742-b7da-62ee92257730",
   "metadata": {},
   "outputs": [],
   "source": [
    "y_pred = gs_clf.predict(X_test)"
   ]
  },
  {
   "cell_type": "code",
   "execution_count": 236,
   "id": "a75c77b0-4da1-479a-b10e-d363e7c8de38",
   "metadata": {},
   "outputs": [
    {
     "name": "stdout",
     "output_type": "stream",
     "text": [
      "Test Accuracy: 0.8914074855034264\n"
     ]
    }
   ],
   "source": [
    "print(f\"Test Accuracy: {accuracy_score(y_test, y_pred)}\")"
   ]
  },
  {
   "cell_type": "code",
   "execution_count": 237,
   "id": "5cd04a36-62a9-47e3-a4cc-5010578710b5",
   "metadata": {},
   "outputs": [
    {
     "name": "stdout",
     "output_type": "stream",
     "text": [
      "              precision    recall  f1-score   support\n",
      "\n",
      "           0       0.90      0.89      0.89       961\n",
      "           1       0.89      0.89      0.89       936\n",
      "\n",
      "    accuracy                           0.89      1897\n",
      "   macro avg       0.89      0.89      0.89      1897\n",
      "weighted avg       0.89      0.89      0.89      1897\n",
      "\n"
     ]
    }
   ],
   "source": [
    "print(classification_report(y_test, y_pred))"
   ]
  },
  {
   "cell_type": "code",
   "execution_count": 238,
   "id": "317ebf93-58bb-4fad-b283-43980c628a0d",
   "metadata": {},
   "outputs": [
    {
     "data": {
      "image/png": "[encoded data removed]",
      "text/plain": [
       "<Figure size 720x504 with 2 Axes>"
      ]
     },
     "metadata": {
      "needs_background": "light"
     },
     "output_type": "display_data"
    }
   ],
   "source": [
    "plot_conf_matrix(y_pred, y_test, title=\"Naive Bayes\")"
   ]
  },
  {
   "cell_type": "markdown",
   "id": "60e77592-c6e4-4a9c-845a-2f0cff3cf99e",
   "metadata": {},
   "source": [
    "# Model 2: Gradient Boosting Classifier"
   ]
  },
  {
   "cell_type": "code",
   "execution_count": 239,
   "id": "df52e268-b8ff-4ee4-85aa-cb82c4e51bd6",
   "metadata": {},
   "outputs": [],
   "source": [
    "from sklearn.ensemble import GradientBoostingClassifier\n",
    "\n",
    "gbt_model = GradientBoostingClassifier()\n",
    "# Fit model \n",
    "gbt_model.fit(X_train, y_train)\n",
    "# Predict \n",
    "y_pred = gbt_model.predict(X_test)"
   ]
  },
  {
   "cell_type": "code",
   "execution_count": 240,
   "id": "d11cb9d9-4976-455e-b458-6adfc66778cf",
   "metadata": {},
   "outputs": [
    {
     "name": "stdout",
     "output_type": "stream",
     "text": [
      "Test Accuracy: 0.8508170795993675\n"
     ]
    }
   ],
   "source": [
    "print(f\"Test Accuracy: {accuracy_score(y_test, y_pred)}\")"
   ]
  },
  {
   "cell_type": "code",
   "execution_count": 241,
   "id": "2749b4ef-aed6-4bc7-bf0c-4b3a447a9ebd",
   "metadata": {},
   "outputs": [
    {
     "name": "stdout",
     "output_type": "stream",
     "text": [
      "              precision    recall  f1-score   support\n",
      "\n",
      "           0       0.87      0.83      0.85       961\n",
      "           1       0.83      0.87      0.85       936\n",
      "\n",
      "    accuracy                           0.85      1897\n",
      "   macro avg       0.85      0.85      0.85      1897\n",
      "weighted avg       0.85      0.85      0.85      1897\n",
      "\n"
     ]
    }
   ],
   "source": [
    "print(classification_report(y_test, y_pred))"
   ]
  },
  {
   "cell_type": "code",
   "execution_count": 242,
   "id": "2f4da19d-82b8-4823-aa00-d6e4eb030c89",
   "metadata": {},
   "outputs": [
    {
     "data": {
      "image/png": "[encoded data removed]",
      "text/plain": [
       "<Figure size 720x504 with 2 Axes>"
      ]
     },
     "metadata": {
      "needs_background": "light"
     },
     "output_type": "display_data"
    }
   ],
   "source": [
    "plot_conf_matrix(y_pred, y_test, title=\"Gradient Boosting Classifier Classifier\")"
   ]
  },
  {
   "cell_type": "code",
   "execution_count": 243,
   "id": "0b6d842e-fadb-4844-b25e-74dcb5552717",
   "metadata": {
    "scrolled": true,
    "tags": []
   },
   "outputs": [
    {
     "name": "stdout",
     "output_type": "stream",
     "text": [
      "Fitting 5 folds for each of 90 candidates, totalling 450 fits\n",
      "[CV 1/5; 3/90] START learning_rate=0.001, loss=deviance, n_estimators=10, subsample=1.0\n",
      "[CV 1/5; 3/90] END learning_rate=0.001, loss=deviance, n_estimators=10, subsample=1.0;, score=0.827 total time=   0.5s\n",
      "[CV 2/5; 5/90] START learning_rate=0.001, loss=deviance, n_estimators=50, subsample=0.75\n",
      "[CV 2/5; 5/90] END learning_rate=0.001, loss=deviance, n_estimators=50, subsample=0.75;, score=0.839 total time=   2.1s\n",
      "[CV 4/5; 7/90] START learning_rate=0.001, loss=deviance, n_estimators=100, subsample=0.5\n",
      "[CV 4/5; 7/90] END learning_rate=0.001, loss=deviance, n_estimators=100, subsample=0.5;, score=0.831 total time=   3.8s\n",
      "[CV 2/5; 10/90] START learning_rate=0.001, loss=exponential, n_estimators=10, subsample=0.5\n",
      "[CV 2/5; 10/90] END learning_rate=0.001, loss=exponential, n_estimators=10, subsample=0.5;, score=0.825 total time=   0.3s\n",
      "[CV 4/5; 10/90] START learning_rate=0.001, loss=exponential, n_estimators=10, subsample=0.5\n",
      "[CV 4/5; 10/90] END learning_rate=0.001, loss=exponential, n_estimators=10, subsample=0.5;, score=0.827 total time=   0.3s\n",
      "[CV 1/5; 11/90] START learning_rate=0.001, loss=exponential, n_estimators=10, subsample=0.75\n",
      "[CV 1/5; 11/90] END learning_rate=0.001, loss=exponential, n_estimators=10, subsample=0.75;, score=0.821 total time=   0.4s\n",
      "[CV 1/5; 12/90] START learning_rate=0.001, loss=exponential, n_estimators=10, subsample=1.0\n",
      "[CV 1/5; 12/90] END learning_rate=0.001, loss=exponential, n_estimators=10, subsample=1.0;, score=0.827 total time=   0.5s\n",
      "[CV 2/5; 13/90] START learning_rate=0.001, loss=exponential, n_estimators=50, subsample=0.5\n",
      "[CV 2/5; 13/90] END learning_rate=0.001, loss=exponential, n_estimators=50, subsample=0.5;, score=0.837 total time=   1.6s\n",
      "[CV 4/5; 14/90] START learning_rate=0.001, loss=exponential, n_estimators=50, subsample=0.75\n",
      "[CV 4/5; 14/90] END learning_rate=0.001, loss=exponential, n_estimators=50, subsample=0.75;, score=0.827 total time=   2.3s\n",
      "[CV 5/5; 16/90] START learning_rate=0.001, loss=exponential, n_estimators=100, subsample=0.5\n",
      "[CV 5/5; 16/90] END learning_rate=0.001, loss=exponential, n_estimators=100, subsample=0.5;, score=0.844 total time=   3.5s\n",
      "[CV 5/5; 19/90] START learning_rate=0.01, loss=deviance, n_estimators=10, subsample=0.5\n",
      "[CV 5/5; 19/90] END learning_rate=0.01, loss=deviance, n_estimators=10, subsample=0.5;, score=0.840 total time=   0.4s\n",
      "[CV 2/5; 20/90] START learning_rate=0.01, loss=deviance, n_estimators=10, subsample=0.75\n",
      "[CV 2/5; 20/90] END learning_rate=0.01, loss=deviance, n_estimators=10, subsample=0.75;, score=0.840 total time=   0.5s\n",
      "[CV 5/5; 20/90] START learning_rate=0.01, loss=deviance, n_estimators=10, subsample=0.75\n",
      "[CV 5/5; 20/90] END learning_rate=0.01, loss=deviance, n_estimators=10, subsample=0.75;, score=0.848 total time=   0.4s\n",
      "[CV 3/5; 21/90] START learning_rate=0.01, loss=deviance, n_estimators=10, subsample=1.0\n",
      "[CV 3/5; 21/90] END learning_rate=0.01, loss=deviance, n_estimators=10, subsample=1.0;, score=0.812 total time=   0.5s\n",
      "[CV 2/5; 22/90] START learning_rate=0.01, loss=deviance, n_estimators=50, subsample=0.5\n",
      "[CV 2/5; 22/90] END learning_rate=0.01, loss=deviance, n_estimators=50, subsample=0.5;, score=0.838 total time=   1.5s\n",
      "[CV 2/5; 24/90] START learning_rate=0.01, loss=deviance, n_estimators=50, subsample=1.0\n",
      "[CV 2/5; 24/90] END learning_rate=0.01, loss=deviance, n_estimators=50, subsample=1.0;, score=0.835 total time=   2.9s\n",
      "[CV 1/5; 27/90] START learning_rate=0.01, loss=deviance, n_estimators=100, subsample=1.0\n",
      "[CV 1/5; 27/90] END learning_rate=0.01, loss=deviance, n_estimators=100, subsample=1.0;, score=0.825 total time=   5.7s\n",
      "[CV 5/5; 32/90] START learning_rate=0.01, loss=exponential, n_estimators=50, subsample=0.75\n",
      "[CV 5/5; 32/90] END learning_rate=0.01, loss=exponential, n_estimators=50, subsample=0.75;, score=0.844 total time=   2.2s\n",
      "[CV 1/5; 35/90] START learning_rate=0.01, loss=exponential, n_estimators=100, subsample=0.75\n",
      "[CV 1/5; 35/90] END learning_rate=0.01, loss=exponential, n_estimators=100, subsample=0.75;, score=0.824 total time=   4.3s\n",
      "[CV 5/5; 38/90] START learning_rate=0.1, loss=deviance, n_estimators=10, subsample=0.75\n",
      "[CV 5/5; 38/90] END learning_rate=0.1, loss=deviance, n_estimators=10, subsample=0.75;, score=0.846 total time=   0.3s\n",
      "[CV 3/5; 39/90] START learning_rate=0.1, loss=deviance, n_estimators=10, subsample=1.0\n",
      "[CV 3/5; 39/90] END learning_rate=0.1, loss=deviance, n_estimators=10, subsample=1.0;, score=0.818 total time=   0.4s\n",
      "[CV 3/5; 40/90] START learning_rate=0.1, loss=deviance, n_estimators=50, subsample=0.5\n",
      "[CV 3/5; 40/90] END learning_rate=0.1, loss=deviance, n_estimators=50, subsample=0.5;, score=0.833 total time=   1.6s\n",
      "[CV 3/5; 42/90] START learning_rate=0.1, loss=deviance, n_estimators=50, subsample=1.0\n",
      "[CV 3/5; 42/90] END learning_rate=0.1, loss=deviance, n_estimators=50, subsample=1.0;, score=0.831 total time=   3.1s\n",
      "[CV 1/5; 45/90] START learning_rate=0.1, loss=deviance, n_estimators=100, subsample=1.0\n",
      "[CV 1/5; 45/90] END learning_rate=0.1, loss=deviance, n_estimators=100, subsample=1.0;, score=0.860 total time=   7.3s\n",
      "[CV 4/5; 52/90] START learning_rate=0.1, loss=exponential, n_estimators=100, subsample=0.5\n",
      "[CV 4/5; 52/90] END learning_rate=0.1, loss=exponential, n_estimators=100, subsample=0.5;, score=0.850 total time=   3.0s\n",
      "[CV 1/5; 55/90] START learning_rate=1, loss=deviance, n_estimators=10, subsample=0.5\n",
      "[CV 1/5; 55/90] END learning_rate=1, loss=deviance, n_estimators=10, subsample=0.5;, score=0.835 total time=   0.3s\n",
      "[CV 2/5; 55/90] START learning_rate=1, loss=deviance, n_estimators=10, subsample=0.5\n",
      "[CV 2/5; 55/90] END learning_rate=1, loss=deviance, n_estimators=10, subsample=0.5;, score=0.865 total time=   0.3s\n",
      "[CV 3/5; 55/90] START learning_rate=1, loss=deviance, n_estimators=10, subsample=0.5\n",
      "[CV 3/5; 55/90] END learning_rate=1, loss=deviance, n_estimators=10, subsample=0.5;, score=0.830 total time=   0.3s\n",
      "[CV 5/5; 55/90] START learning_rate=1, loss=deviance, n_estimators=10, subsample=0.5\n",
      "[CV 5/5; 55/90] END learning_rate=1, loss=deviance, n_estimators=10, subsample=0.5;, score=0.867 total time=   0.3s\n",
      "[CV 2/5; 56/90] START learning_rate=1, loss=deviance, n_estimators=10, subsample=0.75\n",
      "[CV 2/5; 56/90] END learning_rate=1, loss=deviance, n_estimators=10, subsample=0.75;, score=0.865 total time=   0.6s\n",
      "[CV 4/5; 56/90] START learning_rate=1, loss=deviance, n_estimators=10, subsample=0.75\n",
      "[CV 4/5; 56/90] END learning_rate=1, loss=deviance, n_estimators=10, subsample=0.75;, score=0.843 total time=   0.7s\n",
      "[CV 5/5; 57/90] START learning_rate=1, loss=deviance, n_estimators=10, subsample=1.0\n",
      "[CV 5/5; 57/90] END learning_rate=1, loss=deviance, n_estimators=10, subsample=1.0;, score=0.866 total time=   0.5s\n",
      "[CV 4/5; 58/90] START learning_rate=1, loss=deviance, n_estimators=50, subsample=0.5\n",
      "[CV 4/5; 58/90] END learning_rate=1, loss=deviance, n_estimators=50, subsample=0.5;, score=0.837 total time=   1.5s\n",
      "[CV 3/5; 60/90] START learning_rate=1, loss=deviance, n_estimators=50, subsample=1.0\n",
      "[CV 3/5; 60/90] END learning_rate=1, loss=deviance, n_estimators=50, subsample=1.0;, score=0.846 total time=   2.5s\n",
      "[CV 5/5; 62/90] START learning_rate=1, loss=deviance, n_estimators=100, subsample=0.75\n",
      "[CV 5/5; 62/90] END learning_rate=1, loss=deviance, n_estimators=100, subsample=0.75;, score=0.869 total time=   4.4s\n",
      "[CV 3/5; 67/90] START learning_rate=1, loss=exponential, n_estimators=50, subsample=0.5\n",
      "[CV 3/5; 67/90] END learning_rate=1, loss=exponential, n_estimators=50, subsample=0.5;, score=0.837 total time=   1.4s\n",
      "[CV 1/5; 69/90] START learning_rate=1, loss=exponential, n_estimators=50, subsample=1.0\n",
      "[CV 1/5; 69/90] END learning_rate=1, loss=exponential, n_estimators=50, subsample=1.0;, score=0.862 total time=   2.5s\n",
      "[CV 3/5; 71/90] START learning_rate=1, loss=exponential, n_estimators=100, subsample=0.75\n",
      "[CV 3/5; 71/90] END learning_rate=1, loss=exponential, n_estimators=100, subsample=0.75;, score=0.851 total time=   4.0s\n",
      "[CV 5/5; 75/90] START learning_rate=2, loss=deviance, n_estimators=10, subsample=1.0\n",
      "[CV 5/5; 75/90] END learning_rate=2, loss=deviance, n_estimators=10, subsample=1.0;, score=0.846 total time=   0.7s\n",
      "[CV 1/5; 77/90] START learning_rate=2, loss=deviance, n_estimators=50, subsample=0.75[CV 4/5; 2/90] START learning_rate=0.001, loss=deviance, n_estimators=10, subsample=0.75\n",
      "[CV 4/5; 2/90] END learning_rate=0.001, loss=deviance, n_estimators=10, subsample=0.75;, score=0.816 total time=   0.7s\n",
      "[CV 1/5; 6/90] START learning_rate=0.001, loss=deviance, n_estimators=50, subsample=1.0\n",
      "[CV 1/5; 6/90] END learning_rate=0.001, loss=deviance, n_estimators=50, subsample=1.0;, score=0.827 total time=   2.6s\n",
      "[CV 3/5; 8/90] START learning_rate=0.001, loss=deviance, n_estimators=100, subsample=0.75\n",
      "[CV 3/5; 8/90] END learning_rate=0.001, loss=deviance, n_estimators=100, subsample=0.75;, score=0.813 total time=   4.2s\n",
      "[CV 4/5; 11/90] START learning_rate=0.001, loss=exponential, n_estimators=10, subsample=0.75\n",
      "[CV 4/5; 11/90] END learning_rate=0.001, loss=exponential, n_estimators=10, subsample=0.75;, score=0.817 total time=   0.6s\n",
      "[CV 4/5; 12/90] START learning_rate=0.001, loss=exponential, n_estimators=10, subsample=1.0\n",
      "[CV 4/5; 12/90] END learning_rate=0.001, loss=exponential, n_estimators=10, subsample=1.0;, score=0.820 total time=   0.6s\n",
      "[CV 1/5; 14/90] START learning_rate=0.001, loss=exponential, n_estimators=50, subsample=0.75\n",
      "[CV 1/5; 14/90] END learning_rate=0.001, loss=exponential, n_estimators=50, subsample=0.75;, score=0.827 total time=   2.2s\n",
      "[CV 2/5; 16/90] START learning_rate=0.001, loss=exponential, n_estimators=100, subsample=0.5\n",
      "[CV 2/5; 16/90] END learning_rate=0.001, loss=exponential, n_estimators=100, subsample=0.5;, score=0.842 total time=   3.2s\n",
      "[CV 5/5; 18/90] START learning_rate=0.001, loss=exponential, n_estimators=100, subsample=1.0\n",
      "[CV 5/5; 18/90] END learning_rate=0.001, loss=exponential, n_estimators=100, subsample=1.0;, score=0.837 total time=   5.2s\n",
      "[CV 4/5; 24/90] START learning_rate=0.01, loss=deviance, n_estimators=50, subsample=1.0\n",
      "[CV 4/5; 24/90] END learning_rate=0.01, loss=deviance, n_estimators=50, subsample=1.0;, score=0.830 total time=   2.9s\n",
      "[CV 2/5; 27/90] START learning_rate=0.01, loss=deviance, n_estimators=100, subsample=1.0\n",
      "[CV 2/5; 27/90] END learning_rate=0.01, loss=deviance, n_estimators=100, subsample=1.0;, score=0.837 total time=   5.1s\n",
      "[CV 3/5; 32/90] START learning_rate=0.01, loss=exponential, n_estimators=50, subsample=0.75\n",
      "[CV 3/5; 32/90] END learning_rate=0.01, loss=exponential, n_estimators=50, subsample=0.75;, score=0.815 total time=   2.3s\n",
      "[CV 5/5; 34/90] START learning_rate=0.01, loss=exponential, n_estimators=100, subsample=0.5\n",
      "[CV 5/5; 34/90] END learning_rate=0.01, loss=exponential, n_estimators=100, subsample=0.5;, score=0.839 total time=   2.8s\n",
      "[CV 1/5; 37/90] START learning_rate=0.1, loss=deviance, n_estimators=10, subsample=0.5\n",
      "[CV 1/5; 37/90] END learning_rate=0.1, loss=deviance, n_estimators=10, subsample=0.5;, score=0.825 total time=   0.3s\n",
      "[CV 2/5; 37/90] START learning_rate=0.1, loss=deviance, n_estimators=10, subsample=0.5\n",
      "[CV 2/5; 37/90] END learning_rate=0.1, loss=deviance, n_estimators=10, subsample=0.5;, score=0.839 total time=   0.3s\n",
      "[CV 3/5; 37/90] START learning_rate=0.1, loss=deviance, n_estimators=10, subsample=0.5\n",
      "[CV 3/5; 37/90] END learning_rate=0.1, loss=deviance, n_estimators=10, subsample=0.5;, score=0.814 total time=   0.3s\n",
      "[CV 5/5; 37/90] START learning_rate=0.1, loss=deviance, n_estimators=10, subsample=0.5\n",
      "[CV 5/5; 37/90] END learning_rate=0.1, loss=deviance, n_estimators=10, subsample=0.5;, score=0.840 total time=   0.3s\n",
      "[CV 2/5; 38/90] START learning_rate=0.1, loss=deviance, n_estimators=10, subsample=0.75\n",
      "[CV 2/5; 38/90] END learning_rate=0.1, loss=deviance, n_estimators=10, subsample=0.75;, score=0.838 total time=   0.4s\n",
      "[CV 3/5; 38/90] START learning_rate=0.1, loss=deviance, n_estimators=10, subsample=0.75\n",
      "[CV 3/5; 38/90] END learning_rate=0.1, loss=deviance, n_estimators=10, subsample=0.75;, score=0.815 total time=   0.3s\n",
      "[CV 2/5; 39/90] START learning_rate=0.1, loss=deviance, n_estimators=10, subsample=1.0\n",
      "[CV 2/5; 39/90] END learning_rate=0.1, loss=deviance, n_estimators=10, subsample=1.0;, score=0.837 total time=   0.5s\n",
      "[CV 2/5; 40/90] START learning_rate=0.1, loss=deviance, n_estimators=50, subsample=0.5\n",
      "[CV 2/5; 40/90] END learning_rate=0.1, loss=deviance, n_estimators=50, subsample=0.5;, score=0.849 total time=   1.4s\n",
      "[CV 5/5; 41/90] START learning_rate=0.1, loss=deviance, n_estimators=50, subsample=0.75\n",
      "[CV 5/5; 41/90] END learning_rate=0.1, loss=deviance, n_estimators=50, subsample=0.75;, score=0.859 total time=   1.7s\n",
      "[CV 4/5; 43/90] START learning_rate=0.1, loss=deviance, n_estimators=100, subsample=0.5\n",
      "[CV 4/5; 43/90] END learning_rate=0.1, loss=deviance, n_estimators=100, subsample=0.5;, score=0.859 total time=   2.3s\n",
      "[CV 2/5; 45/90] START learning_rate=0.1, loss=deviance, n_estimators=100, subsample=1.0\n",
      "[CV 2/5; 45/90] END learning_rate=0.1, loss=deviance, n_estimators=100, subsample=1.0;, score=0.872 total time=   5.1s\n",
      "[CV 3/5; 50/90] START learning_rate=0.1, loss=exponential, n_estimators=50, subsample=0.75\n",
      "[CV 3/5; 50/90] END learning_rate=0.1, loss=exponential, n_estimators=50, subsample=0.75;, score=0.827 total time=   2.2s\n",
      "[CV 5/5; 52/90] START learning_rate=0.1, loss=exponential, n_estimators=100, subsample=0.5\n",
      "[CV 5/5; 52/90] END learning_rate=0.1, loss=exponential, n_estimators=100, subsample=0.5;, score=0.863 total time=   3.0s\n",
      "[CV 4/5; 55/90] START learning_rate=1, loss=deviance, n_estimators=10, subsample=0.5\n",
      "[CV 4/5; 55/90] END learning_rate=1, loss=deviance, n_estimators=10, subsample=0.5;, score=0.850 total time=   0.3s\n",
      "[CV 1/5; 56/90] START learning_rate=1, loss=deviance, n_estimators=10, subsample=0.75\n",
      "[CV 1/5; 56/90] END learning_rate=1, loss=deviance, n_estimators=10, subsample=0.75;, score=0.850 total time=   0.5s\n",
      "[CV 3/5; 56/90] START learning_rate=1, loss=deviance, n_estimators=10, subsample=0.75\n",
      "[CV 3/5; 56/90] END learning_rate=1, loss=deviance, n_estimators=10, subsample=0.75;, score=0.830 total time=   0.4s\n",
      "[CV 5/5; 56/90] START learning_rate=1, loss=deviance, n_estimators=10, subsample=0.75\n",
      "[CV 5/5; 56/90] END learning_rate=1, loss=deviance, n_estimators=10, subsample=0.75;, score=0.859 total time=   0.4s\n",
      "[CV 1/5; 57/90] START learning_rate=1, loss=deviance, n_estimators=10, subsample=1.0\n",
      "[CV 1/5; 57/90] END learning_rate=1, loss=deviance, n_estimators=10, subsample=1.0;, score=0.850 total time=   0.5s\n",
      "[CV 1/5; 58/90] START learning_rate=1, loss=deviance, n_estimators=50, subsample=0.5\n",
      "[CV 1/5; 58/90] END learning_rate=1, loss=deviance, n_estimators=50, subsample=0.5;, score=0.835 total time=   1.4s\n",
      "[CV 3/5; 59/90] START learning_rate=1, loss=deviance, n_estimators=50, subsample=0.75\n",
      "[CV 3/5; 59/90] END learning_rate=1, loss=deviance, n_estimators=50, subsample=0.75;, score=0.838 total time=   2.6s\n",
      "[CV 3/5; 62/90] START learning_rate=1, loss=deviance, n_estimators=100, subsample=0.75\n",
      "[CV 3/5; 62/90] END learning_rate=1, loss=deviance, n_estimators=100, subsample=0.75;, score=0.856 total time=   4.4s\n",
      "[CV 1/5; 67/90] START learning_rate=1, loss=exponential, n_estimators=50, subsample=0.5\n",
      "[CV 1/5; 67/90] END learning_rate=1, loss=exponential, n_estimators=50, subsample=0.5;, score=0.848 total time=   1.2s\n",
      "[CV 4/5; 68/90] START learning_rate=1, loss=exponential, n_estimators=50, subsample=0.75\n",
      "[CV 4/5; 68/90] END learning_rate=1, loss=exponential, n_estimators=50, subsample=0.75;, score=0.857 total time=   2.0s\n",
      "[CV 1/5; 71/90] START learning_rate=1, loss=exponential, n_estimators=100, subsample=0.75\n",
      "[CV 1/5; 71/90] END learning_rate=1, loss=exponential, n_estimators=100, subsample=0.75;, score=0.861 total time=   4.2s\n",
      "[CV 5/5; 74/90] START learning_rate=2, loss=deviance, n_estimators=10, subsample=0.75\n",
      "[CV 5/5; 74/90] END learning_rate=2, loss=deviance, n_estimators=10, subsample=0.75;, score=0.852 total time=   0.4s\n",
      "[CV 2/5; 75/90] START learning_rate=2, loss=deviance, n_estimators=10, subsample=1.0\n",
      "[CV 2/5; 75/90] END learning_rate=2, loss=deviance, n_estimators=10, subsample=1.0;, score=0.836 total time=   0.5s\n",
      "[CV 2/5; 76/90] START learning_rate=2, loss=deviance, n_estimators=50, subsample=0.5\n",
      "[CV 2/5; 76/90] END learning_rate=2, loss=deviance, n_estimators=50, subsample=0.5;, score=0.581 total time=   1.7s\n",
      "[CV 4/5; 78/90] START learning_rate=2, loss=deviance, n_estimators=50, subsample=1.0\n",
      "[CV 4/5; 78/90] END learning_rate=2, loss=deviance, n_estimators=50, subsample=1.0;, score=0.799 total time=   2.7s[CV 2/5; 2/90] START learning_rate=0.001, loss=deviance, n_estimators=10, subsample=0.75\n",
      "[CV 2/5; 2/90] END learning_rate=0.001, loss=deviance, n_estimators=10, subsample=0.75;, score=0.827 total time=   0.7s\n",
      "[CV 3/5; 5/90] START learning_rate=0.001, loss=deviance, n_estimators=50, subsample=0.75\n",
      "[CV 3/5; 5/90] END learning_rate=0.001, loss=deviance, n_estimators=50, subsample=0.75;, score=0.813 total time=   2.4s\n",
      "[CV 1/5; 8/90] START learning_rate=0.001, loss=deviance, n_estimators=100, subsample=0.75\n",
      "[CV 1/5; 8/90] END learning_rate=0.001, loss=deviance, n_estimators=100, subsample=0.75;, score=0.825 total time=   4.3s\n",
      "[CV 3/5; 11/90] START learning_rate=0.001, loss=exponential, n_estimators=10, subsample=0.75\n",
      "[CV 3/5; 11/90] END learning_rate=0.001, loss=exponential, n_estimators=10, subsample=0.75;, score=0.810 total time=   0.4s\n",
      "[CV 5/5; 11/90] START learning_rate=0.001, loss=exponential, n_estimators=10, subsample=0.75\n",
      "[CV 5/5; 11/90] END learning_rate=0.001, loss=exponential, n_estimators=10, subsample=0.75;, score=0.832 total time=   0.3s\n",
      "[CV 3/5; 12/90] START learning_rate=0.001, loss=exponential, n_estimators=10, subsample=1.0\n",
      "[CV 3/5; 12/90] END learning_rate=0.001, loss=exponential, n_estimators=10, subsample=1.0;, score=0.808 total time=   0.6s\n",
      "[CV 2/5; 14/90] START learning_rate=0.001, loss=exponential, n_estimators=50, subsample=0.75\n",
      "[CV 2/5; 14/90] END learning_rate=0.001, loss=exponential, n_estimators=50, subsample=0.75;, score=0.840 total time=   2.1s\n",
      "[CV 1/5; 16/90] START learning_rate=0.001, loss=exponential, n_estimators=100, subsample=0.5\n",
      "[CV 1/5; 16/90] END learning_rate=0.001, loss=exponential, n_estimators=100, subsample=0.5;, score=0.826 total time=   3.0s\n",
      "[CV 3/5; 18/90] START learning_rate=0.001, loss=exponential, n_estimators=100, subsample=1.0\n",
      "[CV 3/5; 18/90] END learning_rate=0.001, loss=exponential, n_estimators=100, subsample=1.0;, score=0.812 total time=   5.2s\n",
      "[CV 1/5; 24/90] START learning_rate=0.01, loss=deviance, n_estimators=50, subsample=1.0\n",
      "[CV 1/5; 24/90] END learning_rate=0.01, loss=deviance, n_estimators=50, subsample=1.0;, score=0.824 total time=   2.4s\n",
      "[CV 2/5; 26/90] START learning_rate=0.01, loss=deviance, n_estimators=100, subsample=0.75\n",
      "[CV 2/5; 26/90] END learning_rate=0.01, loss=deviance, n_estimators=100, subsample=0.75;, score=0.837 total time=   3.8s\n",
      "[CV 3/5; 29/90] START learning_rate=0.01, loss=exponential, n_estimators=10, subsample=0.75\n",
      "[CV 3/5; 29/90] END learning_rate=0.01, loss=exponential, n_estimators=10, subsample=0.75;, score=0.811 total time=   0.4s\n",
      "[CV 1/5; 30/90] START learning_rate=0.01, loss=exponential, n_estimators=10, subsample=1.0\n",
      "[CV 1/5; 30/90] END learning_rate=0.01, loss=exponential, n_estimators=10, subsample=1.0;, score=0.827 total time=   0.6s\n",
      "[CV 1/5; 31/90] START learning_rate=0.01, loss=exponential, n_estimators=50, subsample=0.5\n",
      "[CV 1/5; 31/90] END learning_rate=0.01, loss=exponential, n_estimators=50, subsample=0.5;, score=0.826 total time=   1.5s\n",
      "[CV 4/5; 32/90] START learning_rate=0.01, loss=exponential, n_estimators=50, subsample=0.75\n",
      "[CV 4/5; 32/90] END learning_rate=0.01, loss=exponential, n_estimators=50, subsample=0.75;, score=0.828 total time=   2.3s\n",
      "[CV 2/5; 35/90] START learning_rate=0.01, loss=exponential, n_estimators=100, subsample=0.75\n",
      "[CV 2/5; 35/90] END learning_rate=0.01, loss=exponential, n_estimators=100, subsample=0.75;, score=0.837 total time=   4.2s\n",
      "[CV 1/5; 39/90] START learning_rate=0.1, loss=deviance, n_estimators=10, subsample=1.0\n",
      "[CV 1/5; 39/90] END learning_rate=0.1, loss=deviance, n_estimators=10, subsample=1.0;, score=0.825 total time=   0.5s\n",
      "[CV 1/5; 40/90] START learning_rate=0.1, loss=deviance, n_estimators=50, subsample=0.5\n",
      "[CV 1/5; 40/90] END learning_rate=0.1, loss=deviance, n_estimators=50, subsample=0.5;, score=0.840 total time=   1.4s\n",
      "[CV 4/5; 41/90] START learning_rate=0.1, loss=deviance, n_estimators=50, subsample=0.75\n",
      "[CV 4/5; 41/90] END learning_rate=0.1, loss=deviance, n_estimators=50, subsample=0.75;, score=0.844 total time=   2.8s\n",
      "[CV 2/5; 44/90] START learning_rate=0.1, loss=deviance, n_estimators=100, subsample=0.75\n",
      "[CV 2/5; 44/90] END learning_rate=0.1, loss=deviance, n_estimators=100, subsample=0.75;, score=0.879 total time=   4.4s\n",
      "[CV 1/5; 48/90] START learning_rate=0.1, loss=exponential, n_estimators=10, subsample=1.0\n",
      "[CV 1/5; 48/90] END learning_rate=0.1, loss=exponential, n_estimators=10, subsample=1.0;, score=0.824 total time=   0.6s\n",
      "[CV 5/5; 48/90] START learning_rate=0.1, loss=exponential, n_estimators=10, subsample=1.0\n",
      "[CV 5/5; 48/90] END learning_rate=0.1, loss=exponential, n_estimators=10, subsample=1.0;, score=0.840 total time=   0.5s\n",
      "[CV 2/5; 50/90] START learning_rate=0.1, loss=exponential, n_estimators=50, subsample=0.75\n",
      "[CV 2/5; 50/90] END learning_rate=0.1, loss=exponential, n_estimators=50, subsample=0.75;, score=0.860 total time=   1.9s\n",
      "[CV 5/5; 51/90] START learning_rate=0.1, loss=exponential, n_estimators=50, subsample=1.0\n",
      "[CV 5/5; 51/90] END learning_rate=0.1, loss=exponential, n_estimators=50, subsample=1.0;, score=0.854 total time=   2.7s\n",
      "[CV 5/5; 53/90] START learning_rate=0.1, loss=exponential, n_estimators=100, subsample=0.75\n",
      "[CV 5/5; 53/90] END learning_rate=0.1, loss=exponential, n_estimators=100, subsample=0.75;, score=0.864 total time=   4.7s\n",
      "[CV 2/5; 59/90] START learning_rate=1, loss=deviance, n_estimators=50, subsample=0.75\n",
      "[CV 2/5; 59/90] END learning_rate=1, loss=deviance, n_estimators=50, subsample=0.75;, score=0.879 total time=   2.0s\n",
      "[CV 4/5; 61/90] START learning_rate=1, loss=deviance, n_estimators=100, subsample=0.5\n",
      "[CV 4/5; 61/90] END learning_rate=1, loss=deviance, n_estimators=100, subsample=0.5;, score=0.848 total time=   3.2s\n",
      "[CV 2/5; 64/90] START learning_rate=1, loss=exponential, n_estimators=10, subsample=0.5\n",
      "[CV 2/5; 64/90] END learning_rate=1, loss=exponential, n_estimators=10, subsample=0.5;, score=0.859 total time=   0.3s\n",
      "[CV 3/5; 64/90] START learning_rate=1, loss=exponential, n_estimators=10, subsample=0.5\n",
      "[CV 3/5; 64/90] END learning_rate=1, loss=exponential, n_estimators=10, subsample=0.5;, score=0.813 total time=   0.3s\n",
      "[CV 5/5; 64/90] START learning_rate=1, loss=exponential, n_estimators=10, subsample=0.5\n",
      "[CV 5/5; 64/90] END learning_rate=1, loss=exponential, n_estimators=10, subsample=0.5;, score=0.837 total time=   0.3s\n",
      "[CV 2/5; 65/90] START learning_rate=1, loss=exponential, n_estimators=10, subsample=0.75\n",
      "[CV 2/5; 65/90] END learning_rate=1, loss=exponential, n_estimators=10, subsample=0.75;, score=0.841 total time=   0.5s\n",
      "[CV 4/5; 65/90] START learning_rate=1, loss=exponential, n_estimators=10, subsample=0.75\n",
      "[CV 4/5; 65/90] END learning_rate=1, loss=exponential, n_estimators=10, subsample=0.75;, score=0.843 total time=   0.5s\n",
      "[CV 4/5; 66/90] START learning_rate=1, loss=exponential, n_estimators=10, subsample=1.0\n",
      "[CV 4/5; 66/90] END learning_rate=1, loss=exponential, n_estimators=10, subsample=1.0;, score=0.851 total time=   0.5s\n",
      "[CV 5/5; 67/90] START learning_rate=1, loss=exponential, n_estimators=50, subsample=0.5\n",
      "[CV 5/5; 67/90] END learning_rate=1, loss=exponential, n_estimators=50, subsample=0.5;, score=0.859 total time=   1.4s\n",
      "[CV 1/5; 70/90] START learning_rate=1, loss=exponential, n_estimators=100, subsample=0.5\n",
      "[CV 1/5; 70/90] END learning_rate=1, loss=exponential, n_estimators=100, subsample=0.5;, score=0.859 total time=   3.0s\n",
      "[CV 3/5; 72/90] START learning_rate=1, loss=exponential, n_estimators=100, subsample=1.0\n",
      "[CV 3/5; 72/90] END learning_rate=1, loss=exponential, n_estimators=100, subsample=1.0;, score=0.857 total time=   5.4s\n",
      "[CV 5/5; 78/90] START learning_rate=2, loss=deviance, n_estimators=50, subsample=1.0\n",
      "[CV 5/5; 78/90] END learning_rate=2, loss=deviance, n_estimators=50, subsample=1.0;, score=0.794 total time=   2.5s\n",
      "[CV 5/5; 80/90] START learning_rate=2, loss=deviance, n_estimators=100, subsample=0.75\n",
      "[CV 5/5; 80/90] END learning_rate=2, loss=deviance, n_estimators=100, subsample=0.75;, score=0.642 total time=   3.7s\n",
      "[CV 3/5; 84/90] START learning_rate=2, loss=exponential, n_estimators=10, subsample=1.0\n",
      "[CV 3/5; 84/90] END learning_rate=2, loss=exponential, n_estimators=10, subsample=1.0;, score=0.818 total time=   0.4s[CV 5/5; 1/90] START learning_rate=0.001, loss=deviance, n_estimators=10, subsample=0.5\n",
      "[CV 5/5; 1/90] END learning_rate=0.001, loss=deviance, n_estimators=10, subsample=0.5;, score=0.825 total time=   0.3s\n",
      "[CV 3/5; 3/90] START learning_rate=0.001, loss=deviance, n_estimators=10, subsample=1.0\n",
      "[CV 3/5; 3/90] END learning_rate=0.001, loss=deviance, n_estimators=10, subsample=1.0;, score=0.808 total time=   0.5s\n",
      "[CV 5/5; 5/90] START learning_rate=0.001, loss=deviance, n_estimators=50, subsample=0.75\n",
      "[CV 5/5; 5/90] END learning_rate=0.001, loss=deviance, n_estimators=50, subsample=0.75;, score=0.842 total time=   2.3s\n",
      "[CV 5/5; 7/90] START learning_rate=0.001, loss=deviance, n_estimators=100, subsample=0.5\n",
      "[CV 5/5; 7/90] END learning_rate=0.001, loss=deviance, n_estimators=100, subsample=0.5;, score=0.846 total time=   3.4s\n",
      "[CV 1/5; 10/90] START learning_rate=0.001, loss=exponential, n_estimators=10, subsample=0.5\n",
      "[CV 1/5; 10/90] END learning_rate=0.001, loss=exponential, n_estimators=10, subsample=0.5;, score=0.821 total time=   0.3s\n",
      "[CV 3/5; 10/90] START learning_rate=0.001, loss=exponential, n_estimators=10, subsample=0.5\n",
      "[CV 3/5; 10/90] END learning_rate=0.001, loss=exponential, n_estimators=10, subsample=0.5;, score=0.806 total time=   0.3s\n",
      "[CV 5/5; 10/90] START learning_rate=0.001, loss=exponential, n_estimators=10, subsample=0.5\n",
      "[CV 5/5; 10/90] END learning_rate=0.001, loss=exponential, n_estimators=10, subsample=0.5;, score=0.826 total time=   0.4s\n",
      "[CV 2/5; 11/90] START learning_rate=0.001, loss=exponential, n_estimators=10, subsample=0.75\n",
      "[CV 2/5; 11/90] END learning_rate=0.001, loss=exponential, n_estimators=10, subsample=0.75;, score=0.825 total time=   0.8s\n",
      "[CV 5/5; 12/90] START learning_rate=0.001, loss=exponential, n_estimators=10, subsample=1.0\n",
      "[CV 5/5; 12/90] END learning_rate=0.001, loss=exponential, n_estimators=10, subsample=1.0;, score=0.832 total time=   0.5s\n",
      "[CV 5/5; 13/90] START learning_rate=0.001, loss=exponential, n_estimators=50, subsample=0.5\n",
      "[CV 5/5; 13/90] END learning_rate=0.001, loss=exponential, n_estimators=50, subsample=0.5;, score=0.840 total time=   1.4s\n",
      "[CV 3/5; 15/90] START learning_rate=0.001, loss=exponential, n_estimators=50, subsample=1.0\n",
      "[CV 3/5; 15/90] END learning_rate=0.001, loss=exponential, n_estimators=50, subsample=1.0;, score=0.812 total time=   2.9s\n",
      "[CV 1/5; 18/90] START learning_rate=0.001, loss=exponential, n_estimators=100, subsample=1.0\n",
      "[CV 1/5; 18/90] END learning_rate=0.001, loss=exponential, n_estimators=100, subsample=1.0;, score=0.827 total time=   5.0s\n",
      "[CV 3/5; 23/90] START learning_rate=0.01, loss=deviance, n_estimators=50, subsample=0.75\n",
      "[CV 3/5; 23/90] END learning_rate=0.01, loss=deviance, n_estimators=50, subsample=0.75;, score=0.815 total time=   2.4s\n",
      "[CV 4/5; 25/90] START learning_rate=0.01, loss=deviance, n_estimators=100, subsample=0.5\n",
      "[CV 4/5; 25/90] END learning_rate=0.01, loss=deviance, n_estimators=100, subsample=0.5;, score=0.830 total time=   4.3s\n",
      "[CV 4/5; 28/90] START learning_rate=0.01, loss=exponential, n_estimators=10, subsample=0.5\n",
      "[CV 4/5; 28/90] END learning_rate=0.01, loss=exponential, n_estimators=10, subsample=0.5;, score=0.822 total time=   0.3s\n",
      "[CV 1/5; 29/90] START learning_rate=0.01, loss=exponential, n_estimators=10, subsample=0.75\n",
      "[CV 1/5; 29/90] END learning_rate=0.01, loss=exponential, n_estimators=10, subsample=0.75;, score=0.823 total time=   0.4s\n",
      "[CV 4/5; 29/90] START learning_rate=0.01, loss=exponential, n_estimators=10, subsample=0.75\n",
      "[CV 4/5; 29/90] END learning_rate=0.01, loss=exponential, n_estimators=10, subsample=0.75;, score=0.825 total time=   0.5s\n",
      "[CV 4/5; 30/90] START learning_rate=0.01, loss=exponential, n_estimators=10, subsample=1.0\n",
      "[CV 4/5; 30/90] END learning_rate=0.01, loss=exponential, n_estimators=10, subsample=1.0;, score=0.827 total time=   0.4s\n",
      "[CV 4/5; 31/90] START learning_rate=0.01, loss=exponential, n_estimators=50, subsample=0.5\n",
      "[CV 4/5; 31/90] END learning_rate=0.01, loss=exponential, n_estimators=50, subsample=0.5;, score=0.829 total time=   1.3s\n",
      "[CV 1/5; 33/90] START learning_rate=0.01, loss=exponential, n_estimators=50, subsample=1.0\n",
      "[CV 1/5; 33/90] END learning_rate=0.01, loss=exponential, n_estimators=50, subsample=1.0;, score=0.824 total time=   2.6s\n",
      "[CV 3/5; 35/90] START learning_rate=0.01, loss=exponential, n_estimators=100, subsample=0.75\n",
      "[CV 3/5; 35/90] END learning_rate=0.01, loss=exponential, n_estimators=100, subsample=0.75;, score=0.815 total time=   4.2s\n",
      "[CV 4/5; 39/90] START learning_rate=0.1, loss=deviance, n_estimators=10, subsample=1.0\n",
      "[CV 4/5; 39/90] END learning_rate=0.1, loss=deviance, n_estimators=10, subsample=1.0;, score=0.831 total time=   0.5s\n",
      "[CV 5/5; 40/90] START learning_rate=0.1, loss=deviance, n_estimators=50, subsample=0.5\n",
      "[CV 5/5; 40/90] END learning_rate=0.1, loss=deviance, n_estimators=50, subsample=0.5;, score=0.861 total time=   1.5s\n",
      "[CV 2/5; 42/90] START learning_rate=0.1, loss=deviance, n_estimators=50, subsample=1.0\n",
      "[CV 2/5; 42/90] END learning_rate=0.1, loss=deviance, n_estimators=50, subsample=1.0;, score=0.854 total time=   3.0s\n",
      "[CV 5/5; 44/90] START learning_rate=0.1, loss=deviance, n_estimators=100, subsample=0.75\n",
      "[CV 5/5; 44/90] END learning_rate=0.1, loss=deviance, n_estimators=100, subsample=0.75;, score=0.870 total time=   4.7s\n",
      "[CV 1/5; 50/90] START learning_rate=0.1, loss=exponential, n_estimators=50, subsample=0.75\n",
      "[CV 1/5; 50/90] END learning_rate=0.1, loss=exponential, n_estimators=50, subsample=0.75;, score=0.837 total time=   2.3s\n",
      "[CV 2/5; 52/90] START learning_rate=0.1, loss=exponential, n_estimators=100, subsample=0.5\n",
      "[CV 2/5; 52/90] END learning_rate=0.1, loss=exponential, n_estimators=100, subsample=0.5;, score=0.862 total time=   2.9s\n",
      "[CV 4/5; 54/90] START learning_rate=0.1, loss=exponential, n_estimators=100, subsample=1.0\n",
      "[CV 4/5; 54/90] END learning_rate=0.1, loss=exponential, n_estimators=100, subsample=1.0;, score=0.855 total time=   4.9s\n",
      "[CV 2/5; 60/90] START learning_rate=1, loss=deviance, n_estimators=50, subsample=1.0\n",
      "[CV 2/5; 60/90] END learning_rate=1, loss=deviance, n_estimators=50, subsample=1.0;, score=0.886 total time=   2.3s\n",
      "[CV 2/5; 62/90] START learning_rate=1, loss=deviance, n_estimators=100, subsample=0.75\n",
      "[CV 2/5; 62/90] END learning_rate=1, loss=deviance, n_estimators=100, subsample=0.75;, score=0.874 total time=   4.1s\n",
      "[CV 1/5; 66/90] START learning_rate=1, loss=exponential, n_estimators=10, subsample=1.0\n",
      "[CV 1/5; 66/90] END learning_rate=1, loss=exponential, n_estimators=10, subsample=1.0;, score=0.838 total time=   0.4s\n",
      "[CV 2/5; 67/90] START learning_rate=1, loss=exponential, n_estimators=50, subsample=0.5\n",
      "[CV 2/5; 67/90] END learning_rate=1, loss=exponential, n_estimators=50, subsample=0.5;, score=0.840 total time=   1.4s\n",
      "[CV 5/5; 68/90] START learning_rate=1, loss=exponential, n_estimators=50, subsample=0.75\n",
      "[CV 5/5; 68/90] END learning_rate=1, loss=exponential, n_estimators=50, subsample=0.75;, score=0.863 total time=   2.2s\n",
      "[CV 2/5; 71/90] START learning_rate=1, loss=exponential, n_estimators=100, subsample=0.75\n",
      "[CV 2/5; 71/90] END learning_rate=1, loss=exponential, n_estimators=100, subsample=0.75;, score=0.894 total time=   4.6s\n",
      "[CV 1/5; 76/90] START learning_rate=2, loss=deviance, n_estimators=50, subsample=0.5\n",
      "[CV 1/5; 76/90] END learning_rate=2, loss=deviance, n_estimators=50, subsample=0.5;, score=0.747 total time=   1.3s\n",
      "[CV 5/5; 77/90] START learning_rate=2, loss=deviance, n_estimators=50, subsample=0.75\n",
      "[CV 5/5; 77/90] END learning_rate=2, loss=deviance, n_estimators=50, subsample=0.75;, score=0.768 total time=   2.3s\n",
      "[CV 2/5; 80/90] START learning_rate=2, loss=deviance, n_estimators=100, subsample=0.75\n",
      "[CV 2/5; 80/90] END learning_rate=2, loss=deviance, n_estimators=100, subsample=0.75;, score=0.316 total time=   4.2s\n",
      "[CV 1/5; 84/90] START learning_rate=2, loss=exponential, n_estimators=10, subsample=1.0\n",
      "[CV 1/5; 84/90] END learning_rate=2, loss=exponential, n_estimators=10, subsample=1.0;, score=0.832 total time=   0.4s\n",
      "[CV 5/5; 84/90] START learning_rate=2, loss=exponential, n_estimators=10, subsample=1.0\n",
      "[CV 5/5; 84/90] END learning_rate=2, loss=exponential, n_estimators=10, subsample=1.0;, score=0.853 total time=   0.5s[CV 3/5; 1/90] START learning_rate=0.001, loss=deviance, n_estimators=10, subsample=0.5\n",
      "[CV 3/5; 1/90] END learning_rate=0.001, loss=deviance, n_estimators=10, subsample=0.5;, score=0.812 total time=   0.5s\n",
      "[CV 4/5; 4/90] START learning_rate=0.001, loss=deviance, n_estimators=50, subsample=0.5\n",
      "[CV 4/5; 4/90] END learning_rate=0.001, loss=deviance, n_estimators=50, subsample=0.5;, score=0.825 total time=   1.5s\n",
      "[CV 1/5; 7/90] START learning_rate=0.001, loss=deviance, n_estimators=100, subsample=0.5\n",
      "[CV 1/5; 7/90] END learning_rate=0.001, loss=deviance, n_estimators=100, subsample=0.5;, score=0.824 total time=   3.0s\n",
      "[CV 3/5; 9/90] START learning_rate=0.001, loss=deviance, n_estimators=100, subsample=1.0\n",
      "[CV 3/5; 9/90] END learning_rate=0.001, loss=deviance, n_estimators=100, subsample=1.0;, score=0.812 total time=   6.4s\n",
      "[CV 4/5; 16/90] START learning_rate=0.001, loss=exponential, n_estimators=100, subsample=0.5\n",
      "[CV 4/5; 16/90] END learning_rate=0.001, loss=exponential, n_estimators=100, subsample=0.5;, score=0.830 total time=   2.6s\n",
      "[CV 4/5; 18/90] START learning_rate=0.001, loss=exponential, n_estimators=100, subsample=1.0\n",
      "[CV 4/5; 18/90] END learning_rate=0.001, loss=exponential, n_estimators=100, subsample=1.0;, score=0.827 total time=   6.6s\n",
      "[CV 5/5; 25/90] START learning_rate=0.01, loss=deviance, n_estimators=100, subsample=0.5\n",
      "[CV 5/5; 25/90] END learning_rate=0.01, loss=deviance, n_estimators=100, subsample=0.5;, score=0.840 total time=   3.6s\n",
      "[CV 1/5; 28/90] START learning_rate=0.01, loss=exponential, n_estimators=10, subsample=0.5\n",
      "[CV 1/5; 28/90] END learning_rate=0.01, loss=exponential, n_estimators=10, subsample=0.5;, score=0.826 total time=   0.3s\n",
      "[CV 2/5; 28/90] START learning_rate=0.01, loss=exponential, n_estimators=10, subsample=0.5\n",
      "[CV 2/5; 28/90] END learning_rate=0.01, loss=exponential, n_estimators=10, subsample=0.5;, score=0.839 total time=   0.3s\n",
      "[CV 3/5; 28/90] START learning_rate=0.01, loss=exponential, n_estimators=10, subsample=0.5\n",
      "[CV 3/5; 28/90] END learning_rate=0.01, loss=exponential, n_estimators=10, subsample=0.5;, score=0.813 total time=   0.3s\n",
      "[CV 5/5; 28/90] START learning_rate=0.01, loss=exponential, n_estimators=10, subsample=0.5\n",
      "[CV 5/5; 28/90] END learning_rate=0.01, loss=exponential, n_estimators=10, subsample=0.5;, score=0.844 total time=   0.3s\n",
      "[CV 2/5; 29/90] START learning_rate=0.01, loss=exponential, n_estimators=10, subsample=0.75\n",
      "[CV 2/5; 29/90] END learning_rate=0.01, loss=exponential, n_estimators=10, subsample=0.75;, score=0.840 total time=   0.4s\n",
      "[CV 5/5; 29/90] START learning_rate=0.01, loss=exponential, n_estimators=10, subsample=0.75\n",
      "[CV 5/5; 29/90] END learning_rate=0.01, loss=exponential, n_estimators=10, subsample=0.75;, score=0.841 total time=   0.4s\n",
      "[CV 3/5; 30/90] START learning_rate=0.01, loss=exponential, n_estimators=10, subsample=1.0\n",
      "[CV 3/5; 30/90] END learning_rate=0.01, loss=exponential, n_estimators=10, subsample=1.0;, score=0.812 total time=   0.5s\n",
      "[CV 5/5; 31/90] START learning_rate=0.01, loss=exponential, n_estimators=50, subsample=0.5\n",
      "[CV 5/5; 31/90] END learning_rate=0.01, loss=exponential, n_estimators=50, subsample=0.5;, score=0.841 total time=   1.6s\n",
      "[CV 3/5; 33/90] START learning_rate=0.01, loss=exponential, n_estimators=50, subsample=1.0\n",
      "[CV 3/5; 33/90] END learning_rate=0.01, loss=exponential, n_estimators=50, subsample=1.0;, score=0.815 total time=   2.8s\n",
      "[CV 5/5; 35/90] START learning_rate=0.01, loss=exponential, n_estimators=100, subsample=0.75\n",
      "[CV 5/5; 35/90] END learning_rate=0.01, loss=exponential, n_estimators=100, subsample=0.75;, score=0.837 total time=   4.7s\n",
      "[CV 1/5; 41/90] START learning_rate=0.1, loss=deviance, n_estimators=50, subsample=0.75\n",
      "[CV 1/5; 41/90] END learning_rate=0.1, loss=deviance, n_estimators=50, subsample=0.75;, score=0.841 total time=   2.6s\n",
      "[CV 5/5; 43/90] START learning_rate=0.1, loss=deviance, n_estimators=100, subsample=0.5\n",
      "[CV 5/5; 43/90] END learning_rate=0.1, loss=deviance, n_estimators=100, subsample=0.5;, score=0.871 total time=   3.1s\n",
      "[CV 1/5; 46/90] START learning_rate=0.1, loss=exponential, n_estimators=10, subsample=0.5\n",
      "[CV 1/5; 46/90] END learning_rate=0.1, loss=exponential, n_estimators=10, subsample=0.5;, score=0.829 total time=   0.3s\n",
      "[CV 2/5; 46/90] START learning_rate=0.1, loss=exponential, n_estimators=10, subsample=0.5\n",
      "[CV 2/5; 46/90] END learning_rate=0.1, loss=exponential, n_estimators=10, subsample=0.5;, score=0.842 total time=   0.3s\n",
      "[CV 3/5; 46/90] START learning_rate=0.1, loss=exponential, n_estimators=10, subsample=0.5\n",
      "[CV 3/5; 46/90] END learning_rate=0.1, loss=exponential, n_estimators=10, subsample=0.5;, score=0.808 total time=   0.4s\n",
      "[CV 5/5; 46/90] START learning_rate=0.1, loss=exponential, n_estimators=10, subsample=0.5\n",
      "[CV 5/5; 46/90] END learning_rate=0.1, loss=exponential, n_estimators=10, subsample=0.5;, score=0.843 total time=   0.3s\n",
      "[CV 2/5; 47/90] START learning_rate=0.1, loss=exponential, n_estimators=10, subsample=0.75\n",
      "[CV 2/5; 47/90] END learning_rate=0.1, loss=exponential, n_estimators=10, subsample=0.75;, score=0.840 total time=   0.4s\n",
      "[CV 5/5; 47/90] START learning_rate=0.1, loss=exponential, n_estimators=10, subsample=0.75\n",
      "[CV 5/5; 47/90] END learning_rate=0.1, loss=exponential, n_estimators=10, subsample=0.75;, score=0.834 total time=   0.5s\n",
      "[CV 4/5; 48/90] START learning_rate=0.1, loss=exponential, n_estimators=10, subsample=1.0\n",
      "[CV 4/5; 48/90] END learning_rate=0.1, loss=exponential, n_estimators=10, subsample=1.0;, score=0.826 total time=   0.5s\n",
      "[CV 3/5; 49/90] START learning_rate=0.1, loss=exponential, n_estimators=50, subsample=0.5\n",
      "[CV 3/5; 49/90] END learning_rate=0.1, loss=exponential, n_estimators=50, subsample=0.5;, score=0.827 total time=   1.4s\n",
      "[CV 1/5; 51/90] START learning_rate=0.1, loss=exponential, n_estimators=50, subsample=1.0\n",
      "[CV 1/5; 51/90] END learning_rate=0.1, loss=exponential, n_estimators=50, subsample=1.0;, score=0.841 total time=   2.2s\n",
      "[CV 1/5; 53/90] START learning_rate=0.1, loss=exponential, n_estimators=100, subsample=0.75\n",
      "[CV 1/5; 53/90] END learning_rate=0.1, loss=exponential, n_estimators=100, subsample=0.75;, score=0.850 total time=   4.5s\n",
      "[CV 4/5; 57/90] START learning_rate=1, loss=deviance, n_estimators=10, subsample=1.0\n",
      "[CV 4/5; 57/90] END learning_rate=1, loss=deviance, n_estimators=10, subsample=1.0;, score=0.846 total time=   0.6s\n",
      "[CV 3/5; 58/90] START learning_rate=1, loss=deviance, n_estimators=50, subsample=0.5\n",
      "[CV 3/5; 58/90] END learning_rate=1, loss=deviance, n_estimators=50, subsample=0.5;, score=0.829 total time=   1.8s\n",
      "[CV 5/5; 60/90] START learning_rate=1, loss=deviance, n_estimators=50, subsample=1.0\n",
      "[CV 5/5; 60/90] END learning_rate=1, loss=deviance, n_estimators=50, subsample=1.0;, score=0.861 total time=   2.7s\n",
      "[CV 2/5; 63/90] START learning_rate=1, loss=deviance, n_estimators=100, subsample=1.0\n",
      "[CV 2/5; 63/90] END learning_rate=1, loss=deviance, n_estimators=100, subsample=1.0;, score=0.885 total time=   5.3s\n",
      "[CV 2/5; 69/90] START learning_rate=1, loss=exponential, n_estimators=50, subsample=1.0\n",
      "[CV 2/5; 69/90] END learning_rate=1, loss=exponential, n_estimators=50, subsample=1.0;, score=0.883 total time=   2.6s\n",
      "[CV 5/5; 71/90] START learning_rate=1, loss=exponential, n_estimators=100, subsample=0.75\n",
      "[CV 5/5; 71/90] END learning_rate=1, loss=exponential, n_estimators=100, subsample=0.75;, score=0.876 total time=   4.8s\n",
      "[CV 2/5; 77/90] START learning_rate=2, loss=deviance, n_estimators=50, subsample=0.75\n",
      "[CV 2/5; 77/90] END learning_rate=2, loss=deviance, n_estimators=50, subsample=0.75;, score=0.828 total time=   2.6s\n",
      "[CV 1/5; 80/90] START learning_rate=2, loss=deviance, n_estimators=100, subsample=0.75\n",
      "[CV 1/5; 80/90] END learning_rate=2, loss=deviance, n_estimators=100, subsample=0.75;, score=0.481 total time=   4.6s\n",
      "[CV 5/5; 83/90] START learning_rate=2, loss=exponential, n_estimators=10, subsample=0.75\n",
      "[CV 5/5; 83/90] END learning_rate=2, loss=exponential, n_estimators=10, subsample=0.75;, score=0.846 total time=   0.5s\n",
      "[CV 1/5; 85/90] START learning_rate=2, loss=exponential, n_estimators=50, subsample=0.5\n",
      "[CV 1/5; 85/90] END learning_rate=2, loss=exponential, n_estimators=50, subsample=0.5;, score=0.828 total time=   1.7s\n",
      "[CV 4/5; 1/90] START learning_rate=0.001, loss=deviance, n_estimators=10, subsample=0.5\n",
      "[CV 4/5; 1/90] END learning_rate=0.001, loss=deviance, n_estimators=10, subsample=0.5;, score=0.818 total time=   0.3s\n",
      "[CV 4/5; 3/90] START learning_rate=0.001, loss=deviance, n_estimators=10, subsample=1.0\n",
      "[CV 4/5; 3/90] END learning_rate=0.001, loss=deviance, n_estimators=10, subsample=1.0;, score=0.820 total time=   0.4s\n",
      "[CV 4/5; 5/90] START learning_rate=0.001, loss=deviance, n_estimators=50, subsample=0.75\n",
      "[CV 4/5; 5/90] END learning_rate=0.001, loss=deviance, n_estimators=50, subsample=0.75;, score=0.824 total time=   2.4s\n",
      "[CV 2/5; 8/90] START learning_rate=0.001, loss=deviance, n_estimators=100, subsample=0.75\n",
      "[CV 2/5; 8/90] END learning_rate=0.001, loss=deviance, n_estimators=100, subsample=0.75;, score=0.840 total time=   4.6s\n",
      "[CV 2/5; 12/90] START learning_rate=0.001, loss=exponential, n_estimators=10, subsample=1.0\n",
      "[CV 2/5; 12/90] END learning_rate=0.001, loss=exponential, n_estimators=10, subsample=1.0;, score=0.830 total time=   0.5s\n",
      "[CV 3/5; 13/90] START learning_rate=0.001, loss=exponential, n_estimators=50, subsample=0.5\n",
      "[CV 3/5; 13/90] END learning_rate=0.001, loss=exponential, n_estimators=50, subsample=0.5;, score=0.812 total time=   2.4s\n",
      "[CV 5/5; 15/90] START learning_rate=0.001, loss=exponential, n_estimators=50, subsample=1.0\n",
      "[CV 5/5; 15/90] END learning_rate=0.001, loss=exponential, n_estimators=50, subsample=1.0;, score=0.837 total time=   2.8s\n",
      "[CV 2/5; 18/90] START learning_rate=0.001, loss=exponential, n_estimators=100, subsample=1.0\n",
      "[CV 2/5; 18/90] END learning_rate=0.001, loss=exponential, n_estimators=100, subsample=1.0;, score=0.838 total time=   5.1s\n",
      "[CV 4/5; 23/90] START learning_rate=0.01, loss=deviance, n_estimators=50, subsample=0.75\n",
      "[CV 4/5; 23/90] END learning_rate=0.01, loss=deviance, n_estimators=50, subsample=0.75;, score=0.831 total time=   2.6s\n",
      "[CV 1/5; 26/90] START learning_rate=0.01, loss=deviance, n_estimators=100, subsample=0.75\n",
      "[CV 1/5; 26/90] END learning_rate=0.01, loss=deviance, n_estimators=100, subsample=0.75;, score=0.824 total time=   4.6s\n",
      "[CV 2/5; 30/90] START learning_rate=0.01, loss=exponential, n_estimators=10, subsample=1.0\n",
      "[CV 2/5; 30/90] END learning_rate=0.01, loss=exponential, n_estimators=10, subsample=1.0;, score=0.838 total time=   0.5s\n",
      "[CV 2/5; 31/90] START learning_rate=0.01, loss=exponential, n_estimators=50, subsample=0.5\n",
      "[CV 2/5; 31/90] END learning_rate=0.01, loss=exponential, n_estimators=50, subsample=0.5;, score=0.841 total time=   2.1s\n",
      "[CV 4/5; 33/90] START learning_rate=0.01, loss=exponential, n_estimators=50, subsample=1.0\n",
      "[CV 4/5; 33/90] END learning_rate=0.01, loss=exponential, n_estimators=50, subsample=1.0;, score=0.830 total time=   2.5s\n",
      "[CV 1/5; 36/90] START learning_rate=0.01, loss=exponential, n_estimators=100, subsample=1.0\n",
      "[CV 1/5; 36/90] END learning_rate=0.01, loss=exponential, n_estimators=100, subsample=1.0;, score=0.827 total time=   5.4s\n",
      "[CV 1/5; 42/90] START learning_rate=0.1, loss=deviance, n_estimators=50, subsample=1.0\n",
      "[CV 1/5; 42/90] END learning_rate=0.1, loss=deviance, n_estimators=50, subsample=1.0;, score=0.842 total time=   3.3s\n",
      "[CV 4/5; 44/90] START learning_rate=0.1, loss=deviance, n_estimators=100, subsample=0.75\n",
      "[CV 4/5; 44/90] END learning_rate=0.1, loss=deviance, n_estimators=100, subsample=0.75;, score=0.858 total time=   4.7s\n",
      "[CV 5/5; 49/90] START learning_rate=0.1, loss=exponential, n_estimators=50, subsample=0.5\n",
      "[CV 5/5; 49/90] END learning_rate=0.1, loss=exponential, n_estimators=50, subsample=0.5;, score=0.856 total time=   1.6s\n",
      "[CV 2/5; 51/90] START learning_rate=0.1, loss=exponential, n_estimators=50, subsample=1.0\n",
      "[CV 2/5; 51/90] END learning_rate=0.1, loss=exponential, n_estimators=50, subsample=1.0;, score=0.857 total time=   3.0s\n",
      "[CV 4/5; 53/90] START learning_rate=0.1, loss=exponential, n_estimators=100, subsample=0.75\n",
      "[CV 4/5; 53/90] END learning_rate=0.1, loss=exponential, n_estimators=100, subsample=0.75;, score=0.855 total time=   4.1s\n",
      "[CV 1/5; 59/90] START learning_rate=1, loss=deviance, n_estimators=50, subsample=0.75\n",
      "[CV 1/5; 59/90] END learning_rate=1, loss=deviance, n_estimators=50, subsample=0.75;, score=0.849 total time=   2.6s\n",
      "[CV 3/5; 61/90] START learning_rate=1, loss=deviance, n_estimators=100, subsample=0.5\n",
      "[CV 3/5; 61/90] END learning_rate=1, loss=deviance, n_estimators=100, subsample=0.5;, score=0.842 total time=   3.5s\n",
      "[CV 1/5; 64/90] START learning_rate=1, loss=exponential, n_estimators=10, subsample=0.5\n",
      "[CV 1/5; 64/90] END learning_rate=1, loss=exponential, n_estimators=10, subsample=0.5;, score=0.831 total time=   0.4s\n",
      "[CV 4/5; 64/90] START learning_rate=1, loss=exponential, n_estimators=10, subsample=0.5\n",
      "[CV 4/5; 64/90] END learning_rate=1, loss=exponential, n_estimators=10, subsample=0.5;, score=0.844 total time=   0.3s\n",
      "[CV 1/5; 65/90] START learning_rate=1, loss=exponential, n_estimators=10, subsample=0.75\n",
      "[CV 1/5; 65/90] END learning_rate=1, loss=exponential, n_estimators=10, subsample=0.75;, score=0.840 total time=   0.4s\n",
      "[CV 3/5; 65/90] START learning_rate=1, loss=exponential, n_estimators=10, subsample=0.75\n",
      "[CV 3/5; 65/90] END learning_rate=1, loss=exponential, n_estimators=10, subsample=0.75;, score=0.830 total time=   0.7s\n",
      "[CV 3/5; 66/90] START learning_rate=1, loss=exponential, n_estimators=10, subsample=1.0\n",
      "[CV 3/5; 66/90] END learning_rate=1, loss=exponential, n_estimators=10, subsample=1.0;, score=0.824 total time=   0.7s\n",
      "[CV 1/5; 68/90] START learning_rate=1, loss=exponential, n_estimators=50, subsample=0.75\n",
      "[CV 1/5; 68/90] END learning_rate=1, loss=exponential, n_estimators=50, subsample=0.75;, score=0.865 total time=   2.4s\n",
      "[CV 4/5; 70/90] START learning_rate=1, loss=exponential, n_estimators=100, subsample=0.5\n",
      "[CV 4/5; 70/90] END learning_rate=1, loss=exponential, n_estimators=100, subsample=0.5;, score=0.857 total time=   2.7s\n",
      "[CV 1/5; 73/90] START learning_rate=2, loss=deviance, n_estimators=10, subsample=0.5\n",
      "[CV 1/5; 73/90] END learning_rate=2, loss=deviance, n_estimators=10, subsample=0.5;, score=0.819 total time=   0.4s\n",
      "[CV 2/5; 73/90] START learning_rate=2, loss=deviance, n_estimators=10, subsample=0.5\n",
      "[CV 2/5; 73/90] END learning_rate=2, loss=deviance, n_estimators=10, subsample=0.5;, score=0.833 total time=   0.3s\n",
      "[CV 4/5; 73/90] START learning_rate=2, loss=deviance, n_estimators=10, subsample=0.5\n",
      "[CV 4/5; 73/90] END learning_rate=2, loss=deviance, n_estimators=10, subsample=0.5;, score=0.825 total time=   0.3s\n",
      "[CV 1/5; 74/90] START learning_rate=2, loss=deviance, n_estimators=10, subsample=0.75\n",
      "[CV 1/5; 74/90] END learning_rate=2, loss=deviance, n_estimators=10, subsample=0.75;, score=0.824 total time=   0.4s\n",
      "[CV 2/5; 74/90] START learning_rate=2, loss=deviance, n_estimators=10, subsample=0.75\n",
      "[CV 2/5; 74/90] END learning_rate=2, loss=deviance, n_estimators=10, subsample=0.75;, score=0.384 total time=   0.4s\n",
      "[CV 4/5; 74/90] START learning_rate=2, loss=deviance, n_estimators=10, subsample=0.75\n",
      "[CV 4/5; 74/90] END learning_rate=2, loss=deviance, n_estimators=10, subsample=0.75;, score=0.816 total time=   0.6s\n",
      "[CV 4/5; 75/90] START learning_rate=2, loss=deviance, n_estimators=10, subsample=1.0\n",
      "[CV 4/5; 75/90] END learning_rate=2, loss=deviance, n_estimators=10, subsample=1.0;, score=0.836 total time=   0.7s\n",
      "[CV 5/5; 76/90] START learning_rate=2, loss=deviance, n_estimators=50, subsample=0.5\n",
      "[CV 5/5; 76/90] END learning_rate=2, loss=deviance, n_estimators=50, subsample=0.5;, score=0.738 total time=   1.3s\n",
      "[CV 3/5; 78/90] START learning_rate=2, loss=deviance, n_estimators=50, subsample=1.0\n",
      "[CV 3/5; 78/90] END learning_rate=2, loss=deviance, n_estimators=50, subsample=1.0;, score=0.820 total time=   2.5s\n",
      "[CV 3/5; 80/90] START learning_rate=2, loss=deviance, n_estimators=100, subsample=0.75\n",
      "[CV 3/5; 80/90] END learning_rate=2, loss=deviance, n_estimators=100, subsample=0.75;, score=0.761 total time=   4.3s\n",
      "[CV 4/5; 85/90] START learning_rate=2, loss=exponential, n_estimators=50, subsample=0.5\n",
      "[CV 4/5; 85/90] END learning_rate=2, loss=exponential, n_estimators=50, subsample=0.5;, score=0.834 total time=   1.7s\n",
      "[CV 5/5; 87/90] START learning_rate=2, loss=exponential, n_estimators=50, subsample=1.0CPU times: user 2.77 s, sys: 152 ms, total: 2.92 s\n",
      "Wall time: 1min 30s\n"
     ]
    }
   ],
   "source": [
    "%%time\n",
    "params = {\n",
    "    \"loss\": [\"deviance\", \"exponential\"],\n",
    "    \"learning_rate\": [0.001, 0.01, 0.1, 1, 2],\n",
    "    \"n_estimators\": [10, 50, 100],\n",
    "    \"subsample\": [0.5, 0.75, 1.0],\n",
    "}\n",
    "\n",
    "gs_clf = GridSearchCV(GradientBoostingClassifier(), params, n_jobs=-1, scoring='accuracy', verbose=10)\n",
    "  \n",
    "gs_clf = gs_clf.fit(X_train, y_train)\n",
    "# Predict \n",
    "y_pred = gs_clf.predict(X_test)"
   ]
  },
  {
   "cell_type": "code",
   "execution_count": 246,
   "id": "d5ad5e24-2396-4ac2-83c4-0f31188248c7",
   "metadata": {},
   "outputs": [
    {
     "name": "stdout",
     "output_type": "stream",
     "text": [
      "Test Accuracy: 0.8687401159725883\n"
     ]
    }
   ],
   "source": [
    "print(f\"Test Accuracy: {accuracy_score(y_test, y_pred)}\")"
   ]
  },
  {
   "cell_type": "code",
   "execution_count": 247,
   "id": "c0e3933b-738c-4180-af2e-95b10b6ee6c9",
   "metadata": {},
   "outputs": [
    {
     "name": "stdout",
     "output_type": "stream",
     "text": [
      "              precision    recall  f1-score   support\n",
      "\n",
      "           0       0.87      0.87      0.87       961\n",
      "           1       0.86      0.87      0.87       936\n",
      "\n",
      "    accuracy                           0.87      1897\n",
      "   macro avg       0.87      0.87      0.87      1897\n",
      "weighted avg       0.87      0.87      0.87      1897\n",
      "\n"
     ]
    }
   ],
   "source": [
    "print(classification_report(y_test, y_pred))"
   ]
  },
  {
   "cell_type": "code",
   "execution_count": 248,
   "id": "6f4431dc-c563-47a8-b3e0-670c98ce43d0",
   "metadata": {
    "tags": []
   },
   "outputs": [
    {
     "data": {
      "image/png": "[encoded data removed]",
      "text/plain": [
       "<Figure size 720x504 with 2 Axes>"
      ]
     },
     "metadata": {
      "needs_background": "light"
     },
     "output_type": "display_data"
    }
   ],
   "source": [
    "plot_conf_matrix(y_pred, y_test, title=\"Gradient Boosting Classifier Classifier\")"
   ]
  },
  {
   "cell_type": "markdown",
   "id": "8a16e17f-78a2-4ec5-970f-32f775bbadc5",
   "metadata": {},
   "source": [
    "# Model 3: Random Forest Classifier"
   ]
  },
  {
   "cell_type": "code",
   "execution_count": 249,
   "id": "a33153a4-84bc-4f96-a5a7-9997b4f8eae0",
   "metadata": {},
   "outputs": [],
   "source": [
    "from sklearn.ensemble import RandomForestClassifier\n",
    "\n",
    "rf_model = RandomForestClassifier()\n",
    "# Fit model \n",
    "rf_model.fit(X_train, y_train)\n",
    "# Predict \n",
    "y_pred = rf_model.predict(X_test)"
   ]
  },
  {
   "cell_type": "code",
   "execution_count": 250,
   "id": "f7a541c4-90ed-41a6-9300-bdc58a773dab",
   "metadata": {},
   "outputs": [],
   "source": [
    "params = {\n",
    "    \"n_estimators\": [10, 50, 100, 200],\n",
    "    \"min_samples_leaf\": [1, 2, 4],\n",
    "}\n",
    "gs_clf = GridSearchCV(RandomForestClassifier(), params, n_jobs=-1)\n",
    "gs_clf = gs_clf.fit(X_train, y_train)\n",
    "# Predict \n",
    "y_pred = gs_clf.predict(X_test)"
   ]
  },
  {
   "cell_type": "code",
   "execution_count": 251,
   "id": "1bd442e5-089d-49eb-be7c-02d3cf59400c",
   "metadata": {},
   "outputs": [
    {
     "name": "stdout",
     "output_type": "stream",
     "text": [
      "Test Accuracy: 0.9109119662625198\n"
     ]
    }
   ],
   "source": [
    "print(f\"Test Accuracy: {accuracy_score(y_test, y_pred)}\")"
   ]
  },
  {
   "cell_type": "code",
   "execution_count": 252,
   "id": "dca79d09-51fb-4d2a-b754-ff11a7e43e44",
   "metadata": {},
   "outputs": [
    {
     "name": "stdout",
     "output_type": "stream",
     "text": [
      "              precision    recall  f1-score   support\n",
      "\n",
      "           0       0.92      0.91      0.91       961\n",
      "           1       0.90      0.92      0.91       936\n",
      "\n",
      "    accuracy                           0.91      1897\n",
      "   macro avg       0.91      0.91      0.91      1897\n",
      "weighted avg       0.91      0.91      0.91      1897\n",
      "\n"
     ]
    }
   ],
   "source": [
    "print(classification_report(y_test, y_pred))"
   ]
  },
  {
   "cell_type": "code",
   "execution_count": 253,
   "id": "e35290f3-6c1a-40fe-b990-56e90dd4516f",
   "metadata": {},
   "outputs": [
    {
     "data": {
      "image/png": "[encoded data removed]",
      "text/plain": [
       "<Figure size 720x504 with 2 Axes>"
      ]
     },
     "metadata": {
      "needs_background": "light"
     },
     "output_type": "display_data"
    }
   ],
   "source": [
    "plot_conf_matrix(y_pred, y_test, title=\"Random Forest Classifier Classifier\")"
   ]
  },
  {
   "cell_type": "markdown",
   "id": "52092715-4a96-44bd-a8c7-ca685e264438",
   "metadata": {},
   "source": [
    "# LSTM"
   ]
  },
  {
   "cell_type": "code",
   "execution_count": 45,
   "id": "31eef204-b8ad-4e71-b79d-cbe12d90afca",
   "metadata": {},
   "outputs": [
    {
     "ename": "ValueError",
     "evalue": "Failed to convert a NumPy array to a Tensor (Unsupported object type csr_matrix).",
     "output_type": "error",
     "traceback": [
      "\u001b[0;31m---------------------------------------------------------------------------\u001b[0m",
      "\u001b[0;31mValueError\u001b[0m                                Traceback (most recent call last)",
      "\u001b[0;32m/tmp/ipykernel_269427/4132940590.py\u001b[0m in \u001b[0;36m<module>\u001b[0;34m\u001b[0m\n\u001b[1;32m      2\u001b[0m \u001b[0mX_train\u001b[0m \u001b[0;34m=\u001b[0m \u001b[0mnp\u001b[0m\u001b[0;34m.\u001b[0m\u001b[0marray\u001b[0m\u001b[0;34m(\u001b[0m\u001b[0mX_train\u001b[0m\u001b[0;34m)\u001b[0m\u001b[0;34m\u001b[0m\u001b[0;34m\u001b[0m\u001b[0m\n\u001b[1;32m      3\u001b[0m \u001b[0mencoder\u001b[0m \u001b[0;34m=\u001b[0m \u001b[0mtf\u001b[0m\u001b[0;34m.\u001b[0m\u001b[0mkeras\u001b[0m\u001b[0;34m.\u001b[0m\u001b[0mlayers\u001b[0m\u001b[0;34m.\u001b[0m\u001b[0mTextVectorization\u001b[0m\u001b[0;34m(\u001b[0m\u001b[0mmax_tokens\u001b[0m\u001b[0;34m=\u001b[0m\u001b[0mmax_tokens\u001b[0m\u001b[0;34m)\u001b[0m\u001b[0;34m\u001b[0m\u001b[0;34m\u001b[0m\u001b[0m\n\u001b[0;32m----> 4\u001b[0;31m \u001b[0mencoder\u001b[0m\u001b[0;34m.\u001b[0m\u001b[0madapt\u001b[0m\u001b[0;34m(\u001b[0m\u001b[0mX_train\u001b[0m\u001b[0;34m)\u001b[0m\u001b[0;34m\u001b[0m\u001b[0;34m\u001b[0m\u001b[0m\n\u001b[0m\u001b[1;32m      5\u001b[0m \u001b[0;34m\u001b[0m\u001b[0m\n\u001b[1;32m      6\u001b[0m \u001b[0mvocab_size\u001b[0m \u001b[0;34m=\u001b[0m \u001b[0mlen\u001b[0m\u001b[0;34m(\u001b[0m\u001b[0mencoder\u001b[0m\u001b[0;34m.\u001b[0m\u001b[0mget_vocabulary\u001b[0m\u001b[0;34m(\u001b[0m\u001b[0;34m)\u001b[0m\u001b[0;34m)\u001b[0m\u001b[0;34m\u001b[0m\u001b[0;34m\u001b[0m\u001b[0m\n",
      "\u001b[0;32m~/Insync/kavilann@gmail.com/Google Drive/Wits Com Sci/Semester 2/NLP/project/fake-news-classifier/NLP-project/venv/lib/python3.8/site-packages/keras/engine/base_preprocessing_layer.py\u001b[0m in \u001b[0;36madapt\u001b[0;34m(self, data, batch_size, steps)\u001b[0m\n\u001b[1;32m    231\u001b[0m     \u001b[0;32mif\u001b[0m \u001b[0mself\u001b[0m\u001b[0;34m.\u001b[0m\u001b[0mbuilt\u001b[0m\u001b[0;34m:\u001b[0m\u001b[0;34m\u001b[0m\u001b[0;34m\u001b[0m\u001b[0m\n\u001b[1;32m    232\u001b[0m       \u001b[0mself\u001b[0m\u001b[0;34m.\u001b[0m\u001b[0mreset_state\u001b[0m\u001b[0;34m(\u001b[0m\u001b[0;34m)\u001b[0m\u001b[0;34m\u001b[0m\u001b[0;34m\u001b[0m\u001b[0m\n\u001b[0;32m--> 233\u001b[0;31m     data_handler = data_adapter.DataHandler(\n\u001b[0m\u001b[1;32m    234\u001b[0m         \u001b[0mdata\u001b[0m\u001b[0;34m,\u001b[0m\u001b[0;34m\u001b[0m\u001b[0;34m\u001b[0m\u001b[0m\n\u001b[1;32m    235\u001b[0m         \u001b[0mbatch_size\u001b[0m\u001b[0;34m=\u001b[0m\u001b[0mbatch_size\u001b[0m\u001b[0;34m,\u001b[0m\u001b[0;34m\u001b[0m\u001b[0;34m\u001b[0m\u001b[0m\n",
      "\u001b[0;32m~/Insync/kavilann@gmail.com/Google Drive/Wits Com Sci/Semester 2/NLP/project/fake-news-classifier/NLP-project/venv/lib/python3.8/site-packages/keras/engine/data_adapter.py\u001b[0m in \u001b[0;36m__init__\u001b[0;34m(self, x, y, sample_weight, batch_size, steps_per_epoch, initial_epoch, epochs, shuffle, class_weight, max_queue_size, workers, use_multiprocessing, model, steps_per_execution, distribute)\u001b[0m\n\u001b[1;32m   1151\u001b[0m \u001b[0;34m\u001b[0m\u001b[0m\n\u001b[1;32m   1152\u001b[0m     \u001b[0madapter_cls\u001b[0m \u001b[0;34m=\u001b[0m \u001b[0mselect_data_adapter\u001b[0m\u001b[0;34m(\u001b[0m\u001b[0mx\u001b[0m\u001b[0;34m,\u001b[0m \u001b[0my\u001b[0m\u001b[0;34m)\u001b[0m\u001b[0;34m\u001b[0m\u001b[0;34m\u001b[0m\u001b[0m\n\u001b[0;32m-> 1153\u001b[0;31m     self._adapter = adapter_cls(\n\u001b[0m\u001b[1;32m   1154\u001b[0m         \u001b[0mx\u001b[0m\u001b[0;34m,\u001b[0m\u001b[0;34m\u001b[0m\u001b[0;34m\u001b[0m\u001b[0m\n\u001b[1;32m   1155\u001b[0m         \u001b[0my\u001b[0m\u001b[0;34m,\u001b[0m\u001b[0;34m\u001b[0m\u001b[0;34m\u001b[0m\u001b[0m\n",
      "\u001b[0;32m~/Insync/kavilann@gmail.com/Google Drive/Wits Com Sci/Semester 2/NLP/project/fake-news-classifier/NLP-project/venv/lib/python3.8/site-packages/keras/engine/data_adapter.py\u001b[0m in \u001b[0;36m__init__\u001b[0;34m(self, x, y, sample_weights, sample_weight_modes, batch_size, epochs, steps, shuffle, **kwargs)\u001b[0m\n\u001b[1;32m    233\u001b[0m                **kwargs):\n\u001b[1;32m    234\u001b[0m     \u001b[0msuper\u001b[0m\u001b[0;34m(\u001b[0m\u001b[0mTensorLikeDataAdapter\u001b[0m\u001b[0;34m,\u001b[0m \u001b[0mself\u001b[0m\u001b[0;34m)\u001b[0m\u001b[0;34m.\u001b[0m\u001b[0m__init__\u001b[0m\u001b[0;34m(\u001b[0m\u001b[0mx\u001b[0m\u001b[0;34m,\u001b[0m \u001b[0my\u001b[0m\u001b[0;34m,\u001b[0m \u001b[0;34m**\u001b[0m\u001b[0mkwargs\u001b[0m\u001b[0;34m)\u001b[0m\u001b[0;34m\u001b[0m\u001b[0;34m\u001b[0m\u001b[0m\n\u001b[0;32m--> 235\u001b[0;31m     \u001b[0mx\u001b[0m\u001b[0;34m,\u001b[0m \u001b[0my\u001b[0m\u001b[0;34m,\u001b[0m \u001b[0msample_weights\u001b[0m \u001b[0;34m=\u001b[0m \u001b[0m_process_tensorlike\u001b[0m\u001b[0;34m(\u001b[0m\u001b[0;34m(\u001b[0m\u001b[0mx\u001b[0m\u001b[0;34m,\u001b[0m \u001b[0my\u001b[0m\u001b[0;34m,\u001b[0m \u001b[0msample_weights\u001b[0m\u001b[0;34m)\u001b[0m\u001b[0;34m)\u001b[0m\u001b[0;34m\u001b[0m\u001b[0;34m\u001b[0m\u001b[0m\n\u001b[0m\u001b[1;32m    236\u001b[0m     sample_weight_modes = broadcast_sample_weight_modes(\n\u001b[1;32m    237\u001b[0m         sample_weights, sample_weight_modes)\n",
      "\u001b[0;32m~/Insync/kavilann@gmail.com/Google Drive/Wits Com Sci/Semester 2/NLP/project/fake-news-classifier/NLP-project/venv/lib/python3.8/site-packages/keras/engine/data_adapter.py\u001b[0m in \u001b[0;36m_process_tensorlike\u001b[0;34m(inputs)\u001b[0m\n\u001b[1;32m   1045\u001b[0m     \u001b[0;32mreturn\u001b[0m \u001b[0mx\u001b[0m\u001b[0;34m\u001b[0m\u001b[0;34m\u001b[0m\u001b[0m\n\u001b[1;32m   1046\u001b[0m \u001b[0;34m\u001b[0m\u001b[0m\n\u001b[0;32m-> 1047\u001b[0;31m   \u001b[0minputs\u001b[0m \u001b[0;34m=\u001b[0m \u001b[0mtf\u001b[0m\u001b[0;34m.\u001b[0m\u001b[0mnest\u001b[0m\u001b[0;34m.\u001b[0m\u001b[0mmap_structure\u001b[0m\u001b[0;34m(\u001b[0m\u001b[0m_convert_single_tensor\u001b[0m\u001b[0;34m,\u001b[0m \u001b[0minputs\u001b[0m\u001b[0;34m)\u001b[0m\u001b[0;34m\u001b[0m\u001b[0;34m\u001b[0m\u001b[0m\n\u001b[0m\u001b[1;32m   1048\u001b[0m   \u001b[0;32mreturn\u001b[0m \u001b[0mtf\u001b[0m\u001b[0;34m.\u001b[0m\u001b[0m__internal__\u001b[0m\u001b[0;34m.\u001b[0m\u001b[0mnest\u001b[0m\u001b[0;34m.\u001b[0m\u001b[0mlist_to_tuple\u001b[0m\u001b[0;34m(\u001b[0m\u001b[0minputs\u001b[0m\u001b[0;34m)\u001b[0m\u001b[0;34m\u001b[0m\u001b[0;34m\u001b[0m\u001b[0m\n\u001b[1;32m   1049\u001b[0m \u001b[0;34m\u001b[0m\u001b[0m\n",
      "\u001b[0;32m~/Insync/kavilann@gmail.com/Google Drive/Wits Com Sci/Semester 2/NLP/project/fake-news-classifier/NLP-project/venv/lib/python3.8/site-packages/tensorflow/python/util/nest.py\u001b[0m in \u001b[0;36mmap_structure\u001b[0;34m(func, *structure, **kwargs)\u001b[0m\n\u001b[1;32m    867\u001b[0m \u001b[0;34m\u001b[0m\u001b[0m\n\u001b[1;32m    868\u001b[0m   return pack_sequence_as(\n\u001b[0;32m--> 869\u001b[0;31m       \u001b[0mstructure\u001b[0m\u001b[0;34m[\u001b[0m\u001b[0;36m0\u001b[0m\u001b[0;34m]\u001b[0m\u001b[0;34m,\u001b[0m \u001b[0;34m[\u001b[0m\u001b[0mfunc\u001b[0m\u001b[0;34m(\u001b[0m\u001b[0;34m*\u001b[0m\u001b[0mx\u001b[0m\u001b[0;34m)\u001b[0m \u001b[0;32mfor\u001b[0m \u001b[0mx\u001b[0m \u001b[0;32min\u001b[0m \u001b[0mentries\u001b[0m\u001b[0;34m]\u001b[0m\u001b[0;34m,\u001b[0m\u001b[0;34m\u001b[0m\u001b[0;34m\u001b[0m\u001b[0m\n\u001b[0m\u001b[1;32m    870\u001b[0m       expand_composites=expand_composites)\n\u001b[1;32m    871\u001b[0m \u001b[0;34m\u001b[0m\u001b[0m\n",
      "\u001b[0;32m~/Insync/kavilann@gmail.com/Google Drive/Wits Com Sci/Semester 2/NLP/project/fake-news-classifier/NLP-project/venv/lib/python3.8/site-packages/tensorflow/python/util/nest.py\u001b[0m in \u001b[0;36m<listcomp>\u001b[0;34m(.0)\u001b[0m\n\u001b[1;32m    867\u001b[0m \u001b[0;34m\u001b[0m\u001b[0m\n\u001b[1;32m    868\u001b[0m   return pack_sequence_as(\n\u001b[0;32m--> 869\u001b[0;31m       \u001b[0mstructure\u001b[0m\u001b[0;34m[\u001b[0m\u001b[0;36m0\u001b[0m\u001b[0;34m]\u001b[0m\u001b[0;34m,\u001b[0m \u001b[0;34m[\u001b[0m\u001b[0mfunc\u001b[0m\u001b[0;34m(\u001b[0m\u001b[0;34m*\u001b[0m\u001b[0mx\u001b[0m\u001b[0;34m)\u001b[0m \u001b[0;32mfor\u001b[0m \u001b[0mx\u001b[0m \u001b[0;32min\u001b[0m \u001b[0mentries\u001b[0m\u001b[0;34m]\u001b[0m\u001b[0;34m,\u001b[0m\u001b[0;34m\u001b[0m\u001b[0;34m\u001b[0m\u001b[0m\n\u001b[0m\u001b[1;32m    870\u001b[0m       expand_composites=expand_composites)\n\u001b[1;32m    871\u001b[0m \u001b[0;34m\u001b[0m\u001b[0m\n",
      "\u001b[0;32m~/Insync/kavilann@gmail.com/Google Drive/Wits Com Sci/Semester 2/NLP/project/fake-news-classifier/NLP-project/venv/lib/python3.8/site-packages/keras/engine/data_adapter.py\u001b[0m in \u001b[0;36m_convert_single_tensor\u001b[0;34m(x)\u001b[0m\n\u001b[1;32m   1040\u001b[0m       \u001b[0;32mif\u001b[0m \u001b[0missubclass\u001b[0m\u001b[0;34m(\u001b[0m\u001b[0mx\u001b[0m\u001b[0;34m.\u001b[0m\u001b[0mdtype\u001b[0m\u001b[0;34m.\u001b[0m\u001b[0mtype\u001b[0m\u001b[0;34m,\u001b[0m \u001b[0mnp\u001b[0m\u001b[0;34m.\u001b[0m\u001b[0mfloating\u001b[0m\u001b[0;34m)\u001b[0m\u001b[0;34m:\u001b[0m\u001b[0;34m\u001b[0m\u001b[0;34m\u001b[0m\u001b[0m\n\u001b[1;32m   1041\u001b[0m         \u001b[0mdtype\u001b[0m \u001b[0;34m=\u001b[0m \u001b[0mbackend\u001b[0m\u001b[0;34m.\u001b[0m\u001b[0mfloatx\u001b[0m\u001b[0;34m(\u001b[0m\u001b[0;34m)\u001b[0m\u001b[0;34m\u001b[0m\u001b[0;34m\u001b[0m\u001b[0m\n\u001b[0;32m-> 1042\u001b[0;31m       \u001b[0;32mreturn\u001b[0m \u001b[0mtf\u001b[0m\u001b[0;34m.\u001b[0m\u001b[0mconvert_to_tensor\u001b[0m\u001b[0;34m(\u001b[0m\u001b[0mx\u001b[0m\u001b[0;34m,\u001b[0m \u001b[0mdtype\u001b[0m\u001b[0;34m=\u001b[0m\u001b[0mdtype\u001b[0m\u001b[0;34m)\u001b[0m\u001b[0;34m\u001b[0m\u001b[0;34m\u001b[0m\u001b[0m\n\u001b[0m\u001b[1;32m   1043\u001b[0m     \u001b[0;32melif\u001b[0m \u001b[0m_is_scipy_sparse\u001b[0m\u001b[0;34m(\u001b[0m\u001b[0mx\u001b[0m\u001b[0;34m)\u001b[0m\u001b[0;34m:\u001b[0m\u001b[0;34m\u001b[0m\u001b[0;34m\u001b[0m\u001b[0m\n\u001b[1;32m   1044\u001b[0m       \u001b[0;32mreturn\u001b[0m \u001b[0m_scipy_sparse_to_sparse_tensor\u001b[0m\u001b[0;34m(\u001b[0m\u001b[0mx\u001b[0m\u001b[0;34m)\u001b[0m\u001b[0;34m\u001b[0m\u001b[0;34m\u001b[0m\u001b[0m\n",
      "\u001b[0;32m~/Insync/kavilann@gmail.com/Google Drive/Wits Com Sci/Semester 2/NLP/project/fake-news-classifier/NLP-project/venv/lib/python3.8/site-packages/tensorflow/python/util/traceback_utils.py\u001b[0m in \u001b[0;36merror_handler\u001b[0;34m(*args, **kwargs)\u001b[0m\n\u001b[1;32m    151\u001b[0m     \u001b[0;32mexcept\u001b[0m \u001b[0mException\u001b[0m \u001b[0;32mas\u001b[0m \u001b[0me\u001b[0m\u001b[0;34m:\u001b[0m\u001b[0;34m\u001b[0m\u001b[0;34m\u001b[0m\u001b[0m\n\u001b[1;32m    152\u001b[0m       \u001b[0mfiltered_tb\u001b[0m \u001b[0;34m=\u001b[0m \u001b[0m_process_traceback_frames\u001b[0m\u001b[0;34m(\u001b[0m\u001b[0me\u001b[0m\u001b[0;34m.\u001b[0m\u001b[0m__traceback__\u001b[0m\u001b[0;34m)\u001b[0m\u001b[0;34m\u001b[0m\u001b[0;34m\u001b[0m\u001b[0m\n\u001b[0;32m--> 153\u001b[0;31m       \u001b[0;32mraise\u001b[0m \u001b[0me\u001b[0m\u001b[0;34m.\u001b[0m\u001b[0mwith_traceback\u001b[0m\u001b[0;34m(\u001b[0m\u001b[0mfiltered_tb\u001b[0m\u001b[0;34m)\u001b[0m \u001b[0;32mfrom\u001b[0m \u001b[0;32mNone\u001b[0m\u001b[0;34m\u001b[0m\u001b[0;34m\u001b[0m\u001b[0m\n\u001b[0m\u001b[1;32m    154\u001b[0m     \u001b[0;32mfinally\u001b[0m\u001b[0;34m:\u001b[0m\u001b[0;34m\u001b[0m\u001b[0;34m\u001b[0m\u001b[0m\n\u001b[1;32m    155\u001b[0m       \u001b[0;32mdel\u001b[0m \u001b[0mfiltered_tb\u001b[0m\u001b[0;34m\u001b[0m\u001b[0;34m\u001b[0m\u001b[0m\n",
      "\u001b[0;32m~/Insync/kavilann@gmail.com/Google Drive/Wits Com Sci/Semester 2/NLP/project/fake-news-classifier/NLP-project/venv/lib/python3.8/site-packages/tensorflow/python/framework/constant_op.py\u001b[0m in \u001b[0;36mconvert_to_eager_tensor\u001b[0;34m(value, ctx, dtype)\u001b[0m\n\u001b[1;32m    104\u001b[0m       \u001b[0mdtype\u001b[0m \u001b[0;34m=\u001b[0m \u001b[0mdtypes\u001b[0m\u001b[0;34m.\u001b[0m\u001b[0mas_dtype\u001b[0m\u001b[0;34m(\u001b[0m\u001b[0mdtype\u001b[0m\u001b[0;34m)\u001b[0m\u001b[0;34m.\u001b[0m\u001b[0mas_datatype_enum\u001b[0m\u001b[0;34m\u001b[0m\u001b[0;34m\u001b[0m\u001b[0m\n\u001b[1;32m    105\u001b[0m   \u001b[0mctx\u001b[0m\u001b[0;34m.\u001b[0m\u001b[0mensure_initialized\u001b[0m\u001b[0;34m(\u001b[0m\u001b[0;34m)\u001b[0m\u001b[0;34m\u001b[0m\u001b[0;34m\u001b[0m\u001b[0m\n\u001b[0;32m--> 106\u001b[0;31m   \u001b[0;32mreturn\u001b[0m \u001b[0mops\u001b[0m\u001b[0;34m.\u001b[0m\u001b[0mEagerTensor\u001b[0m\u001b[0;34m(\u001b[0m\u001b[0mvalue\u001b[0m\u001b[0;34m,\u001b[0m \u001b[0mctx\u001b[0m\u001b[0;34m.\u001b[0m\u001b[0mdevice_name\u001b[0m\u001b[0;34m,\u001b[0m \u001b[0mdtype\u001b[0m\u001b[0;34m)\u001b[0m\u001b[0;34m\u001b[0m\u001b[0;34m\u001b[0m\u001b[0m\n\u001b[0m\u001b[1;32m    107\u001b[0m \u001b[0;34m\u001b[0m\u001b[0m\n\u001b[1;32m    108\u001b[0m \u001b[0;34m\u001b[0m\u001b[0m\n",
      "\u001b[0;31mValueError\u001b[0m: Failed to convert a NumPy array to a Tensor (Unsupported object type csr_matrix)."
     ]
    },
    {
     "name": "stdout",
     "output_type": "stream",
     "text": [
      "\n",
      "[CV 2/5; 78/90] START learning_rate=2, loss=deviance, n_estimators=50, subsample=1.0\n",
      "[CV 2/5; 78/90] END learning_rate=2, loss=deviance, n_estimators=50, subsample=1.0;, score=0.991 total time=   2.5s\n",
      "[CV 4/5; 80/90] START learning_rate=2, loss=deviance, n_estimators=100, subsample=0.75\n",
      "[CV 4/5; 80/90] END learning_rate=2, loss=deviance, n_estimators=100, subsample=0.75;, score=0.987 total time=   4.1s\n",
      "[CV 2/5; 86/90] START learning_rate=2, loss=exponential, n_estimators=50, subsample=0.75\n",
      "[CV 2/5; 86/90] END learning_rate=2, loss=exponential, n_estimators=50, subsample=0.75;, score=0.991 total time=   2.2s\n",
      "[CV 4/5; 88/90] START learning_rate=2, loss=exponential, n_estimators=100, subsample=0.5\n",
      "[CV 4/5; 88/90] END learning_rate=2, loss=exponential, n_estimators=100, subsample=0.5;, score=0.990 total time=   3.0s\n",
      "\n",
      "[CV 3/5; 72/90] END learning_rate=1, loss=exponential, n_estimators=100, subsample=1.0;, score=0.997 total time=   5.1s\n",
      "[CV 4/5; 78/90] START learning_rate=2, loss=deviance, n_estimators=50, subsample=1.0\n",
      "[CV 4/5; 78/90] END learning_rate=2, loss=deviance, n_estimators=50, subsample=1.0;, score=0.989 total time=   2.6s\n",
      "[CV 2/5; 81/90] START learning_rate=2, loss=deviance, n_estimators=100, subsample=1.0\n",
      "[CV 2/5; 81/90] END learning_rate=2, loss=deviance, n_estimators=100, subsample=1.0;, score=0.991 total time=   4.6s\n",
      "[CV 1/5; 87/90] START learning_rate=2, loss=exponential, n_estimators=50, subsample=1.0\n",
      "[CV 1/5; 87/90] END learning_rate=2, loss=exponential, n_estimators=50, subsample=1.0;, score=0.995 total time=   2.8s\n",
      "[CV 4/5; 89/90] START learning_rate=2, loss=exponential, n_estimators=100, subsample=0.75\n",
      "[CV 4/5; 89/90] END learning_rate=2, loss=exponential, n_estimators=100, subsample=0.75;, score=0.990 total time=   3.9s\n",
      "[CV 2/5; 3/90] START learning_rate=0.001, loss=deviance, n_estimators=10, subsample=1.0\n",
      "[CV 2/5; 3/90] END learning_rate=0.001, loss=deviance, n_estimators=10, subsample=1.0;, score=0.967 total time=   0.5s\n",
      "[CV 3/5; 5/90] START learning_rate=0.001, loss=deviance, n_estimators=50, subsample=0.75\n",
      "[CV 3/5; 5/90] END learning_rate=0.001, loss=deviance, n_estimators=50, subsample=0.75;, score=0.966 total time=   1.9s\n",
      "[CV 3/5; 7/90] START learning_rate=0.001, loss=deviance, n_estimators=100, subsample=0.5\n",
      "[CV 3/5; 7/90] END learning_rate=0.001, loss=deviance, n_estimators=100, subsample=0.5;, score=0.966 total time=   3.0s\n",
      "[CV 5/5; 9/90] START learning_rate=0.001, loss=deviance, n_estimators=100, subsample=1.0\n",
      "[CV 5/5; 9/90] END learning_rate=0.001, loss=deviance, n_estimators=100, subsample=1.0;, score=0.984 total time=   4.9s\n",
      "[CV 4/5; 16/90] START learning_rate=0.001, loss=exponential, n_estimators=100, subsample=0.5\n",
      "[CV 4/5; 16/90] END learning_rate=0.001, loss=exponential, n_estimators=100, subsample=0.5;, score=0.975 total time=   2.6s\n",
      "[CV 1/5; 19/90] START learning_rate=0.01, loss=deviance, n_estimators=10, subsample=0.5\n",
      "[CV 1/5; 19/90] END learning_rate=0.01, loss=deviance, n_estimators=10, subsample=0.5;, score=0.978 total time=   0.3s\n",
      "[CV 2/5; 19/90] START learning_rate=0.01, loss=deviance, n_estimators=10, subsample=0.5\n",
      "[CV 2/5; 19/90] END learning_rate=0.01, loss=deviance, n_estimators=10, subsample=0.5;, score=0.967 total time=   0.3s\n",
      "[CV 4/5; 19/90] START learning_rate=0.01, loss=deviance, n_estimators=10, subsample=0.5\n",
      "[CV 4/5; 19/90] END learning_rate=0.01, loss=deviance, n_estimators=10, subsample=0.5;, score=0.977 total time=   0.3s\n",
      "[CV 1/5; 20/90] START learning_rate=0.01, loss=deviance, n_estimators=10, subsample=0.75\n",
      "[CV 1/5; 20/90] END learning_rate=0.01, loss=deviance, n_estimators=10, subsample=0.75;, score=0.978 total time=   0.4s\n",
      "[CV 3/5; 20/90] START learning_rate=0.01, loss=deviance, n_estimators=10, subsample=0.75\n",
      "[CV 3/5; 20/90] END learning_rate=0.01, loss=deviance, n_estimators=10, subsample=0.75;, score=0.966 total time=   0.4s\n",
      "[CV 2/5; 21/90] START learning_rate=0.01, loss=deviance, n_estimators=10, subsample=1.0\n",
      "[CV 2/5; 21/90] END learning_rate=0.01, loss=deviance, n_estimators=10, subsample=1.0;, score=0.967 total time=   0.5s\n",
      "[CV 1/5; 22/90] START learning_rate=0.01, loss=deviance, n_estimators=50, subsample=0.5\n",
      "[CV 1/5; 22/90] END learning_rate=0.01, loss=deviance, n_estimators=50, subsample=0.5;, score=0.978 total time=   1.3s\n",
      "[CV 5/5; 23/90] START learning_rate=0.01, loss=deviance, n_estimators=50, subsample=0.75\n",
      "[CV 5/5; 23/90] END learning_rate=0.01, loss=deviance, n_estimators=50, subsample=0.75;, score=0.996 total time=   1.9s\n",
      "[CV 2/5; 26/90] START learning_rate=0.01, loss=deviance, n_estimators=100, subsample=0.75\n",
      "[CV 2/5; 26/90] END learning_rate=0.01, loss=deviance, n_estimators=100, subsample=0.75;, score=0.967 total time=   3.7s\n",
      "[CV 2/5; 30/90] START learning_rate=0.01, loss=exponential, n_estimators=10, subsample=1.0\n",
      "[CV 2/5; 30/90] END learning_rate=0.01, loss=exponential, n_estimators=10, subsample=1.0;, score=0.967 total time=   0.5s\n",
      "[CV 1/5; 31/90] START learning_rate=0.01, loss=exponential, n_estimators=50, subsample=0.5\n",
      "[CV 1/5; 31/90] END learning_rate=0.01, loss=exponential, n_estimators=50, subsample=0.5;, score=0.978 total time=   1.4s\n",
      "[CV 3/5; 33/90] START learning_rate=0.01, loss=exponential, n_estimators=50, subsample=1.0\n",
      "[CV 3/5; 33/90] END learning_rate=0.01, loss=exponential, n_estimators=50, subsample=1.0;, score=0.966 total time=   2.4s\n",
      "[CV 4/5; 35/90] START learning_rate=0.01, loss=exponential, n_estimators=100, subsample=0.75\n",
      "[CV 4/5; 35/90] END learning_rate=0.01, loss=exponential, n_estimators=100, subsample=0.75;, score=0.985 total time=   3.8s\n",
      "[CV 4/5; 40/90] START learning_rate=0.1, loss=deviance, n_estimators=50, subsample=0.5\n",
      "[CV 4/5; 40/90] END learning_rate=0.1, loss=deviance, n_estimators=50, subsample=0.5;, score=0.992 total time=   1.4s\n",
      "[CV 2/5; 42/90] START learning_rate=0.1, loss=deviance, n_estimators=50, subsample=1.0\n",
      "[CV 2/5; 42/90] END learning_rate=0.1, loss=deviance, n_estimators=50, subsample=1.0;, score=0.992 total time=   2.5s\n",
      "[CV 4/5; 44/90] START learning_rate=0.1, loss=deviance, n_estimators=100, subsample=0.75\n",
      "[CV 4/5; 44/90] END learning_rate=0.1, loss=deviance, n_estimators=100, subsample=0.75;, score=0.993 total time=   4.1s\n",
      "[CV 5/5; 49/90] START learning_rate=0.1, loss=exponential, n_estimators=50, subsample=0.5\n",
      "[CV 5/5; 49/90] END learning_rate=0.1, loss=exponential, n_estimators=50, subsample=0.5;, score=0.996 total time=   1.4s\n",
      "[CV 3/5; 51/90] START learning_rate=0.1, loss=exponential, n_estimators=50, subsample=1.0\n",
      "[CV 3/5; 51/90] END learning_rate=0.1, loss=exponential, n_estimators=50, subsample=1.0;, score=0.996 total time=   2.6s\n",
      "[CV 5/5; 53/90] START learning_rate=0.1, loss=exponential, n_estimators=100, subsample=0.75\n",
      "[CV 5/5; 53/90] END learning_rate=0.1, loss=exponential, n_estimators=100, subsample=0.75;, score=0.996 total time=   4.3s\n",
      "[CV 3/5; 58/90] START learning_rate=1, loss=deviance, n_estimators=50, subsample=0.5\n",
      "[CV 3/5; 58/90] END learning_rate=1, loss=deviance, n_estimators=50, subsample=0.5;, score=0.991 total time=   1.4s\n",
      "[CV 1/5; 60/90] START learning_rate=1, loss=deviance, n_estimators=50, subsample=1.0\n",
      "[CV 1/5; 60/90] END learning_rate=1, loss=deviance, n_estimators=50, subsample=1.0;, score=0.994 total time=   2.5s\n",
      "[CV 3/5; 62/90] START learning_rate=1, loss=deviance, n_estimators=100, subsample=0.75\n",
      "[CV 3/5; 62/90] END learning_rate=1, loss=deviance, n_estimators=100, subsample=0.75;, score=0.992 total time=   4.1s\n",
      "[CV 1/5; 67/90] START learning_rate=1, loss=exponential, n_estimators=50, subsample=0.5\n",
      "[CV 1/5; 67/90] END learning_rate=1, loss=exponential, n_estimators=50, subsample=0.5;, score=0.995 total time=   1.5s\n",
      "[CV 1/5; 69/90] START learning_rate=1, loss=exponential, n_estimators=50, subsample=1.0\n",
      "[CV 1/5; 69/90] END learning_rate=1, loss=exponential, n_estimators=50, subsample=1.0;, score=0.995 total time=   2.5s\n",
      "[CV 3/5; 71/90] START learning_rate=1, loss=exponential, n_estimators=100, subsample=0.75\n",
      "[CV 3/5; 71/90] END learning_rate=1, loss=exponential, n_estimators=100, subsample=0.75;, score=0.997 total time=   4.0s\n",
      "[CV 1/5; 76/90] START learning_rate=2, loss=deviance, n_estimators=50, subsample=0.5\n",
      "[CV 1/5; 76/90] END learning_rate=2, loss=deviance, n_estimators=50, subsample=0.5;, score=0.991 total time=   1.4s\n",
      "[CV 5/5; 77/90] START learning_rate=2, loss=deviance, n_estimators=50, subsample=0.75\n",
      "[CV 5/5; 77/90] END learning_rate=2, loss=deviance, n_estimators=50, subsample=0.75;, score=0.996 total time=   2.1s\n",
      "[CV 2/5; 80/90] START learning_rate=2, loss=deviance, n_estimators=100, subsample=0.75\n",
      "[CV 2/5; 80/90] END learning_rate=2, loss=deviance, n_estimators=100, subsample=0.75;, score=0.991 total time=   4.0s\n",
      "[CV 5/5; 84/90] START learning_rate=2, loss=exponential, n_estimators=10, subsample=1.0\n",
      "[CV 5/5; 84/90] END learning_rate=2, loss=exponential, n_estimators=10, subsample=1.0;, score=0.996 total time=   0.5s\n",
      "[CV 1/5; 86/90] START learning_rate=2, loss=exponential, n_estimators=50, subsample=0.75\n",
      "[CV 1/5; 86/90] END learning_rate=2, loss=exponential, n_estimators=50, subsample=0.75;, score=0.995 total time=   2.1s\n",
      "[CV 3/5; 88/90] START learning_rate=2, loss=exponential, n_estimators=100, subsample=0.5\n",
      "[CV 3/5; 88/90] END learning_rate=2, loss=exponential, n_estimators=100, subsample=0.5;, score=0.997 total time=   3.0s\n",
      "[CV 5/5; 90/90] START learning_rate=2, loss=exponential, n_estimators=100, subsample=1.0\n",
      "[CV 5/5; 90/90] END learning_rate=2, loss=exponential, n_estimators=100, subsample=1.0;, score=0.997 total time=   4.2s\n",
      "[CV 3/5; 2/90] START learning_rate=0.001, loss=deviance, n_estimators=10, subsample=0.75\n",
      "[CV 3/5; 2/90] END learning_rate=0.001, loss=deviance, n_estimators=10, subsample=0.75;, score=0.966 total time=   0.4s\n",
      "[CV 5/5; 4/90] START learning_rate=0.001, loss=deviance, n_estimators=50, subsample=0.5\n",
      "[CV 5/5; 4/90] END learning_rate=0.001, loss=deviance, n_estimators=50, subsample=0.5;, score=0.984 total time=   1.5s\n",
      "[CV 1/5; 7/90] START learning_rate=0.001, loss=deviance, n_estimators=100, subsample=0.5\n",
      "[CV 1/5; 7/90] END learning_rate=0.001, loss=deviance, n_estimators=100, subsample=0.5;, score=0.978 total time=   2.8s\n",
      "[CV 3/5; 9/90] START learning_rate=0.001, loss=deviance, n_estimators=100, subsample=1.0\n",
      "[CV 3/5; 9/90] END learning_rate=0.001, loss=deviance, n_estimators=100, subsample=1.0;, score=0.982 total time=   4.8s\n",
      "[CV 5/5; 15/90] START learning_rate=0.001, loss=exponential, n_estimators=50, subsample=1.0\n",
      "[CV 5/5; 15/90] END learning_rate=0.001, loss=exponential, n_estimators=50, subsample=1.0;, score=0.984 total time=   2.3s\n",
      "[CV 2/5; 18/90] START learning_rate=0.001, loss=exponential, n_estimators=100, subsample=1.0\n",
      "[CV 2/5; 18/90] END learning_rate=0.001, loss=exponential, n_estimators=100, subsample=1.0;, score=0.967 total time=   4.7s\n",
      "[CV 1/5; 24/90] START learning_rate=0.01, loss=deviance, n_estimators=50, subsample=1.0\n",
      "[CV 1/5; 24/90] END learning_rate=0.01, loss=deviance, n_estimators=50, subsample=1.0;, score=0.978 total time=   2.2s\n",
      "[CV 3/5; 26/90] START learning_rate=0.01, loss=deviance, n_estimators=100, subsample=0.75\n",
      "[CV 3/5; 26/90] END learning_rate=0.01, loss=deviance, n_estimators=100, subsample=0.75;, score=0.996 total time=   3.8s\n",
      "[CV 3/5; 31/90] START learning_rate=0.01, loss=exponential, n_estimators=50, subsample=0.5\n",
      "[CV 3/5; 31/90] END learning_rate=0.01, loss=exponential, n_estimators=50, subsample=0.5;, score=0.966 total time=   1.3s\n",
      "[CV 1/5; 33/90] START learning_rate=0.01, loss=exponential, n_estimators=50, subsample=1.0\n",
      "[CV 1/5; 33/90] END learning_rate=0.01, loss=exponential, n_estimators=50, subsample=1.0;, score=0.978 total time=   2.3s\n",
      "[CV 3/5; 35/90] START learning_rate=0.01, loss=exponential, n_estimators=100, subsample=0.75\n",
      "[CV 3/5; 35/90] END learning_rate=0.01, loss=exponential, n_estimators=100, subsample=0.75;, score=0.980 total time=   3.8s\n",
      "[CV 2/5; 40/90] START learning_rate=0.1, loss=deviance, n_estimators=50, subsample=0.5\n",
      "[CV 2/5; 40/90] END learning_rate=0.1, loss=deviance, n_estimators=50, subsample=0.5;, score=0.992 total time=   1.4s\n",
      "[CV 1/5; 42/90] START learning_rate=0.1, loss=deviance, n_estimators=50, subsample=1.0\n",
      "[CV 1/5; 42/90] END learning_rate=0.1, loss=deviance, n_estimators=50, subsample=1.0;, score=0.995 total time=   2.5s\n",
      "[CV 3/5; 44/90] START learning_rate=0.1, loss=deviance, n_estimators=100, subsample=0.75\n",
      "[CV 3/5; 44/90] END learning_rate=0.1, loss=deviance, n_estimators=100, subsample=0.75;, score=0.997 total time=   4.1s\n",
      "[CV 3/5; 49/90] START learning_rate=0.1, loss=exponential, n_estimators=50, subsample=0.5\n",
      "[CV 3/5; 49/90] END learning_rate=0.1, loss=exponential, n_estimators=50, subsample=0.5;, score=0.996 total time=   1.4s\n",
      "[CV 5/5; 50/90] START learning_rate=0.1, loss=exponential, n_estimators=50, subsample=0.75\n",
      "[CV 5/5; 50/90] END learning_rate=0.1, loss=exponential, n_estimators=50, subsample=0.75;, score=0.996 total time=   2.1s\n",
      "[CV 2/5; 53/90] START learning_rate=0.1, loss=exponential, n_estimators=100, subsample=0.75\n",
      "[CV 2/5; 53/90] END learning_rate=0.1, loss=exponential, n_estimators=100, subsample=0.75;, score=0.992 total time=   4.6s\n",
      "[CV 4/5; 57/90] START learning_rate=1, loss=deviance, n_estimators=10, subsample=1.0\n",
      "[CV 4/5; 57/90] END learning_rate=1, loss=deviance, n_estimators=10, subsample=1.0;, score=0.992 total time=   0.5s\n",
      "[CV 5/5; 58/90] START learning_rate=1, loss=deviance, n_estimators=50, subsample=0.5\n",
      "[CV 5/5; 58/90] END learning_rate=1, loss=deviance, n_estimators=50, subsample=0.5;, score=0.997 total time=   1.4s\n",
      "[CV 4/5; 60/90] START learning_rate=1, loss=deviance, n_estimators=50, subsample=1.0\n",
      "[CV 4/5; 60/90] END learning_rate=1, loss=deviance, n_estimators=50, subsample=1.0;, score=0.992 total time=   2.5s\n",
      "[CV 4/5; 62/90] START learning_rate=1, loss=deviance, n_estimators=100, subsample=0.75\n",
      "[CV 4/5; 62/90] END learning_rate=1, loss=deviance, n_estimators=100, subsample=0.75;, score=0.989 total time=   3.9s\n",
      "[CV 3/5; 67/90] START learning_rate=1, loss=exponential, n_estimators=50, subsample=0.5\n",
      "[CV 3/5; 67/90] END learning_rate=1, loss=exponential, n_estimators=50, subsample=0.5;, score=0.997 total time=   1.4s\n",
      "[CV 4/5; 68/90] START learning_rate=1, loss=exponential, n_estimators=50, subsample=0.75\n",
      "[CV 4/5; 68/90] END learning_rate=1, loss=exponential, n_estimators=50, subsample=0.75;, score=0.990 total time=   2.0s\n",
      "[CV 1/5; 71/90] START learning_rate=1, loss=exponential, n_estimators=100, subsample=0.75\n",
      "[CV 1/5; 71/90] END learning_rate=1, loss=exponential, n_estimators=100, subsample=0.75;, score=0.995 total time=   4.0s\n",
      "[CV 1/5; 75/90] START learning_rate=2, loss=deviance, n_estimators=10, subsample=1.0\n",
      "[CV 1/5; 75/90] END learning_rate=2, loss=deviance, n_estimators=10, subsample=1.0;, score=0.991 total time=   0.5s\n",
      "[CV 5/5; 75/90] START learning_rate=2, loss=deviance, n_estimators=10, subsample=1.0\n",
      "[CV 5/5; 75/90] END learning_rate=2, loss=deviance, n_estimators=10, subsample=1.0;, score=0.995 total time=   0.5s\n",
      "[CV 2/5; 77/90] START learning_rate=2, loss=deviance, n_estimators=50, subsample=0.75\n",
      "[CV 2/5; 77/90] END learning_rate=2, loss=deviance, n_estimators=50, subsample=0.75;, score=0.991 total time=   2.0s\n",
      "[CV 2/5; 79/90] START learning_rate=2, loss=deviance, n_estimators=100, subsample=0.5\n",
      "[CV 2/5; 79/90] END learning_rate=2, loss=deviance, n_estimators=100, subsample=0.5;, score=0.987 total time=   2.8s\n",
      "[CV 3/5; 81/90] START learning_rate=2, loss=deviance, n_estimators=100, subsample=1.0\n",
      "[CV 3/5; 81/90] END learning_rate=2, loss=deviance, n_estimators=100, subsample=1.0;, score=0.995 total time=   4.5s\n",
      "[CV 5/5; 87/90] START learning_rate=2, loss=exponential, n_estimators=50, subsample=1.0\n",
      "[CV 5/5; 87/90] END learning_rate=2, loss=exponential, n_estimators=50, subsample=1.0;, score=0.997 total time=   2.5s\n",
      "[CV 2/5; 90/90] START learning_rate=2, loss=exponential, n_estimators=100, subsample=1.0\n",
      "[CV 2/5; 90/90] END learning_rate=2, loss=exponential, n_estimators=100, subsample=1.0;, score=0.991 total time=   4.5s\n",
      "[CV 5/5; 2/90] START learning_rate=0.001, loss=deviance, n_estimators=10, subsample=0.75\n",
      "[CV 5/5; 2/90] END learning_rate=0.001, loss=deviance, n_estimators=10, subsample=0.75;, score=0.973 total time=   0.5s\n",
      "[CV 2/5; 5/90] START learning_rate=0.001, loss=deviance, n_estimators=50, subsample=0.75\n",
      "[CV 2/5; 5/90] END learning_rate=0.001, loss=deviance, n_estimators=50, subsample=0.75;, score=0.967 total time=   2.1s\n",
      "[CV 5/5; 7/90] START learning_rate=0.001, loss=deviance, n_estimators=100, subsample=0.5\n",
      "[CV 5/5; 7/90] END learning_rate=0.001, loss=deviance, n_estimators=100, subsample=0.5;, score=0.984 total time=   3.1s\n",
      "[CV 2/5; 10/90] START learning_rate=0.001, loss=exponential, n_estimators=10, subsample=0.5\n",
      "[CV 2/5; 10/90] END learning_rate=0.001, loss=exponential, n_estimators=10, subsample=0.5;, score=0.954 total time=   0.3s\n",
      "[CV 4/5; 10/90] START learning_rate=0.001, loss=exponential, n_estimators=10, subsample=0.5\n",
      "[CV 4/5; 10/90] END learning_rate=0.001, loss=exponential, n_estimators=10, subsample=0.5;, score=0.967 total time=   0.4s\n",
      "[CV 2/5; 11/90] START learning_rate=0.001, loss=exponential, n_estimators=10, subsample=0.75\n",
      "[CV 2/5; 11/90] END learning_rate=0.001, loss=exponential, n_estimators=10, subsample=0.75;, score=0.954 total time=   0.4s\n",
      "[CV 5/5; 11/90] START learning_rate=0.001, loss=exponential, n_estimators=10, subsample=0.75\n",
      "[CV 5/5; 11/90] END learning_rate=0.001, loss=exponential, n_estimators=10, subsample=0.75;, score=0.973 total time=   0.4s\n",
      "[CV 4/5; 12/90] START learning_rate=0.001, loss=exponential, n_estimators=10, subsample=1.0\n",
      "[CV 4/5; 12/90] END learning_rate=0.001, loss=exponential, n_estimators=10, subsample=1.0;, score=0.978 total time=   0.5s\n",
      "[CV 3/5; 13/90] START learning_rate=0.001, loss=exponential, n_estimators=50, subsample=0.5\n",
      "[CV 3/5; 13/90] END learning_rate=0.001, loss=exponential, n_estimators=50, subsample=0.5;, score=0.966 total time=   1.3s\n",
      "[CV 1/5; 15/90] START learning_rate=0.001, loss=exponential, n_estimators=50, subsample=1.0\n",
      "[CV 1/5; 15/90] END learning_rate=0.001, loss=exponential, n_estimators=50, subsample=1.0;, score=0.978 total time=   2.3s\n",
      "[CV 3/5; 17/90] START learning_rate=0.001, loss=exponential, n_estimators=100, subsample=0.75\n",
      "[CV 3/5; 17/90] END learning_rate=0.001, loss=exponential, n_estimators=100, subsample=0.75;, score=0.966 total time=   3.7s\n",
      "[CV 3/5; 22/90] START learning_rate=0.01, loss=deviance, n_estimators=50, subsample=0.5\n",
      "[CV 3/5; 22/90] END learning_rate=0.01, loss=deviance, n_estimators=50, subsample=0.5;, score=0.996 total time=   1.3s\n",
      "[CV 3/5; 23/90] START learning_rate=0.01, loss=deviance, n_estimators=50, subsample=0.75\n",
      "[CV 3/5; 23/90] END learning_rate=0.01, loss=deviance, n_estimators=50, subsample=0.75;, score=0.996 total time=   1.8s\n",
      "[CV 1/5; 26/90] START learning_rate=0.01, loss=deviance, n_estimators=100, subsample=0.75\n",
      "[CV 1/5; 26/90] END learning_rate=0.01, loss=deviance, n_estimators=100, subsample=0.75;, score=0.991 total time=   3.6s\n",
      "[CV 5/5; 29/90] START learning_rate=0.01, loss=exponential, n_estimators=10, subsample=0.75\n",
      "[CV 5/5; 29/90] END learning_rate=0.01, loss=exponential, n_estimators=10, subsample=0.75;, score=0.984 total time=   0.4s\n",
      "[CV 4/5; 30/90] START learning_rate=0.01, loss=exponential, n_estimators=10, subsample=1.0\n",
      "[CV 4/5; 30/90] END learning_rate=0.01, loss=exponential, n_estimators=10, subsample=1.0;, score=0.978 total time=   0.5s\n",
      "[CV 1/5; 32/90] START learning_rate=0.01, loss=exponential, n_estimators=50, subsample=0.75\n",
      "[CV 1/5; 32/90] END learning_rate=0.01, loss=exponential, n_estimators=50, subsample=0.75;, score=0.978 total time=   1.9s\n",
      "[CV 3/5; 34/90] START learning_rate=0.01, loss=exponential, n_estimators=100, subsample=0.5\n",
      "[CV 3/5; 34/90] END learning_rate=0.01, loss=exponential, n_estimators=100, subsample=0.5;, score=0.980 total time=   2.6s\n",
      "[CV 4/5; 36/90] START learning_rate=0.01, loss=exponential, n_estimators=100, subsample=1.0\n",
      "[CV 4/5; 36/90] END learning_rate=0.01, loss=exponential, n_estimators=100, subsample=1.0;, score=0.985 total time=   4.5s\n",
      "[CV 5/5; 42/90] START learning_rate=0.1, loss=deviance, n_estimators=50, subsample=1.0\n",
      "[CV 5/5; 42/90] END learning_rate=0.1, loss=deviance, n_estimators=50, subsample=1.0;, score=0.997 total time=   2.5s\n",
      "[CV 2/5; 45/90] START learning_rate=0.1, loss=deviance, n_estimators=100, subsample=1.0\n",
      "[CV 2/5; 45/90] END learning_rate=0.1, loss=deviance, n_estimators=100, subsample=1.0;, score=0.991 total time=   4.9s\n",
      "[CV 4/5; 50/90] START learning_rate=0.1, loss=exponential, n_estimators=50, subsample=0.75\n",
      "[CV 4/5; 50/90] END learning_rate=0.1, loss=exponential, n_estimators=50, subsample=0.75;, score=0.992 total time=   2.1s\n",
      "[CV 1/5; 53/90] START learning_rate=0.1, loss=exponential, n_estimators=100, subsample=0.75\n",
      "[CV 1/5; 53/90] END learning_rate=0.1, loss=exponential, n_estimators=100, subsample=0.75;, score=0.995 total time=   4.3s\n",
      "[CV 5/5; 56/90] START learning_rate=1, loss=deviance, n_estimators=10, subsample=0.75\n",
      "[CV 5/5; 56/90] END learning_rate=1, loss=deviance, n_estimators=10, subsample=0.75;, score=0.995 total time=   0.4s\n",
      "[CV 3/5; 57/90] START learning_rate=1, loss=deviance, n_estimators=10, subsample=1.0\n",
      "[CV 3/5; 57/90] END learning_rate=1, loss=deviance, n_estimators=10, subsample=1.0;, score=0.996 total time=   0.5s\n",
      "[CV 4/5; 58/90] START learning_rate=1, loss=deviance, n_estimators=50, subsample=0.5\n",
      "[CV 4/5; 58/90] END learning_rate=1, loss=deviance, n_estimators=50, subsample=0.5;, score=0.991 total time=   1.4s\n",
      "[CV 2/5; 60/90] START learning_rate=1, loss=deviance, n_estimators=50, subsample=1.0\n",
      "[CV 2/5; 60/90] END learning_rate=1, loss=deviance, n_estimators=50, subsample=1.0;, score=0.993 total time=   2.5s\n",
      "[CV 5/5; 62/90] START learning_rate=1, loss=deviance, n_estimators=100, subsample=0.75\n",
      "[CV 5/5; 62/90] END learning_rate=1, loss=deviance, n_estimators=100, subsample=0.75;, score=0.997 total time=   4.0s\n",
      "[CV 5/5; 67/90] START learning_rate=1, loss=exponential, n_estimators=50, subsample=0.5\n",
      "[CV 5/5; 67/90] END learning_rate=1, loss=exponential, n_estimators=50, subsample=0.5;, score=0.996 total time=   1.4s\n",
      "[CV 4/5; 69/90] START learning_rate=1, loss=exponential, n_estimators=50, subsample=1.0\n",
      "[CV 4/5; 69/90] END learning_rate=1, loss=exponential, n_estimators=50, subsample=1.0;, score=0.993 total time=   2.4s\n",
      "[CV 4/5; 71/90] START learning_rate=1, loss=exponential, n_estimators=100, subsample=0.75\n",
      "[CV 4/5; 71/90] END learning_rate=1, loss=exponential, n_estimators=100, subsample=0.75;, score=0.992 total time=   4.1s\n",
      "[CV 5/5; 76/90] START learning_rate=2, loss=deviance, n_estimators=50, subsample=0.5\n",
      "[CV 5/5; 76/90] END learning_rate=2, loss=deviance, n_estimators=50, subsample=0.5;, score=0.996 total time=   1.5s\n",
      "[CV 3/5; 78/90] START learning_rate=2, loss=deviance, n_estimators=50, subsample=1.0\n",
      "[CV 3/5; 78/90] END learning_rate=2, loss=deviance, n_estimators=50, subsample=1.0;, score=0.995 total time=   2.6s\n",
      "[CV 5/5; 80/90] START learning_rate=2, loss=deviance, n_estimators=100, subsample=0.75\n",
      "[CV 5/5; 80/90] END learning_rate=2, loss=deviance, n_estimators=100, subsample=0.75;, score=0.999 total time=   4.3s\n",
      "[CV 3/5; 86/90] START learning_rate=2, loss=exponential, n_estimators=50, subsample=0.75\n",
      "[CV 3/5; 86/90] END learning_rate=2, loss=exponential, n_estimators=50, subsample=0.75;, score=0.997 total time=   2.0s\n",
      "[CV 5/5; 88/90] START learning_rate=2, loss=exponential, n_estimators=100, subsample=0.5\n",
      "[CV 5/5; 88/90] END learning_rate=2, loss=exponential, n_estimators=100, subsample=0.5;, score=0.998 total time=   2.9s\n",
      "[CV 1/5; 2/90] START learning_rate=0.001, loss=deviance, n_estimators=10, subsample=0.75\n",
      "[CV 1/5; 2/90] END learning_rate=0.001, loss=deviance, n_estimators=10, subsample=0.75;, score=0.978 total time=   0.4s\n",
      "[CV 3/5; 4/90] START learning_rate=0.001, loss=deviance, n_estimators=50, subsample=0.5\n",
      "[CV 3/5; 4/90] END learning_rate=0.001, loss=deviance, n_estimators=50, subsample=0.5;, score=0.966 total time=   1.4s\n",
      "[CV 4/5; 6/90] START learning_rate=0.001, loss=deviance, n_estimators=50, subsample=1.0\n",
      "[CV 4/5; 6/90] END learning_rate=0.001, loss=deviance, n_estimators=50, subsample=1.0;, score=0.978 total time=   2.4s\n",
      "[CV 1/5; 9/90] START learning_rate=0.001, loss=deviance, n_estimators=100, subsample=1.0\n",
      "[CV 1/5; 9/90] END learning_rate=0.001, loss=deviance, n_estimators=100, subsample=1.0;, score=0.978 total time=   4.8s\n",
      "[CV 5/5; 14/90] START learning_rate=0.001, loss=exponential, n_estimators=50, subsample=0.75\n",
      "[CV 5/5; 14/90] END learning_rate=0.001, loss=exponential, n_estimators=50, subsample=0.75;, score=0.984 total time=   1.9s\n",
      "[CV 2/5; 17/90] START learning_rate=0.001, loss=exponential, n_estimators=100, subsample=0.75\n",
      "[CV 2/5; 17/90] END learning_rate=0.001, loss=exponential, n_estimators=100, subsample=0.75;, score=0.967 total time=   3.7s\n",
      "[CV 5/5; 20/90] START learning_rate=0.01, loss=deviance, n_estimators=10, subsample=0.75\n",
      "[CV 5/5; 20/90] END learning_rate=0.01, loss=deviance, n_estimators=10, subsample=0.75;, score=0.984 total time=   0.4s\n",
      "[CV 4/5; 21/90] START learning_rate=0.01, loss=deviance, n_estimators=10, subsample=1.0\n",
      "[CV 4/5; 21/90] END learning_rate=0.01, loss=deviance, n_estimators=10, subsample=1.0;, score=0.978 total time=   0.5s\n",
      "[CV 5/5; 22/90] START learning_rate=0.01, loss=deviance, n_estimators=50, subsample=0.5\n",
      "[CV 5/5; 22/90] END learning_rate=0.01, loss=deviance, n_estimators=50, subsample=0.5;, score=0.984 total time=   1.3s\n",
      "[CV 4/5; 24/90] START learning_rate=0.01, loss=deviance, n_estimators=50, subsample=1.0\n",
      "[CV 4/5; 24/90] END learning_rate=0.01, loss=deviance, n_estimators=50, subsample=1.0;, score=0.985 total time=   2.2s\n",
      "[CV 5/5; 26/90] START learning_rate=0.01, loss=deviance, n_estimators=100, subsample=0.75\n",
      "[CV 5/5; 26/90] END learning_rate=0.01, loss=deviance, n_estimators=100, subsample=0.75;, score=0.996 total time=   3.8s\n",
      "[CV 5/5; 31/90] START learning_rate=0.01, loss=exponential, n_estimators=50, subsample=0.5\n",
      "[CV 5/5; 31/90] END learning_rate=0.01, loss=exponential, n_estimators=50, subsample=0.5;, score=0.984 total time=   1.4s\n",
      "[CV 4/5; 33/90] START learning_rate=0.01, loss=exponential, n_estimators=50, subsample=1.0\n",
      "[CV 4/5; 33/90] END learning_rate=0.01, loss=exponential, n_estimators=50, subsample=1.0;, score=0.975 total time=   2.4s\n",
      "[CV 1/5; 36/90] START learning_rate=0.01, loss=exponential, n_estimators=100, subsample=1.0\n",
      "[CV 1/5; 36/90] END learning_rate=0.01, loss=exponential, n_estimators=100, subsample=1.0;, score=0.982 total time=   4.8s\n",
      "[CV 5/5; 41/90] START learning_rate=0.1, loss=deviance, n_estimators=50, subsample=0.75\n",
      "[CV 5/5; 41/90] END learning_rate=0.1, loss=deviance, n_estimators=50, subsample=0.75;, score=0.997 total time=   2.1s\n",
      "[CV 1/5; 44/90] START learning_rate=0.1, loss=deviance, n_estimators=100, subsample=0.75\n",
      "[CV 1/5; 44/90] END learning_rate=0.1, loss=deviance, n_estimators=100, subsample=0.75;, score=0.995 total time=   4.2s\n",
      "[CV 4/5; 48/90] START learning_rate=0.1, loss=exponential, n_estimators=10, subsample=1.0\n",
      "[CV 4/5; 48/90] END learning_rate=0.1, loss=exponential, n_estimators=10, subsample=1.0;, score=0.977 total time=   0.5s\n",
      "[CV 4/5; 49/90] START learning_rate=0.1, loss=exponential, n_estimators=50, subsample=0.5\n",
      "[CV 4/5; 49/90] END learning_rate=0.1, loss=exponential, n_estimators=50, subsample=0.5;, score=0.992 total time=   1.5s\n",
      "[CV 2/5; 51/90] START learning_rate=0.1, loss=exponential, n_estimators=50, subsample=1.0\n",
      "[CV 2/5; 51/90] END learning_rate=0.1, loss=exponential, n_estimators=50, subsample=1.0;, score=0.992 total time=   2.6s\n",
      "[CV 4/5; 53/90] START learning_rate=0.1, loss=exponential, n_estimators=100, subsample=0.75\n",
      "[CV 4/5; 53/90] END learning_rate=0.1, loss=exponential, n_estimators=100, subsample=0.75;, score=0.993 total time=   4.8s\n",
      "[CV 1/5; 59/90] START learning_rate=1, loss=deviance, n_estimators=50, subsample=0.75\n",
      "[CV 1/5; 59/90] END learning_rate=1, loss=deviance, n_estimators=50, subsample=0.75;, score=0.990 total time=   2.0s\n",
      "[CV 3/5; 61/90] START learning_rate=1, loss=deviance, n_estimators=100, subsample=0.5\n",
      "[CV 3/5; 61/90] END learning_rate=1, loss=deviance, n_estimators=100, subsample=0.5;, score=0.992 total time=   2.8s\n",
      "[CV 5/5; 63/90] START learning_rate=1, loss=deviance, n_estimators=100, subsample=1.0\n",
      "[CV 5/5; 63/90] END learning_rate=1, loss=deviance, n_estimators=100, subsample=1.0;, score=0.997 total time=   4.9s\n",
      "[CV 2/5; 70/90] START learning_rate=1, loss=exponential, n_estimators=100, subsample=0.5\n",
      "[CV 2/5; 70/90] END learning_rate=1, loss=exponential, n_estimators=100, subsample=0.5;, score=0.992 total time=   2.9s\n",
      "[CV 4/5; 72/90] START learning_rate=1, loss=exponential, n_estimators=100, subsample=1.0\n",
      "[CV 4/5; 72/90] END learning_rate=1, loss=exponential, n_estimators=100, subsample=1.0;, score=0.993 total time=   5.0s\n",
      "[CV 5/5; 78/90] START learning_rate=2, loss=deviance, n_estimators=50, subsample=1.0\n",
      "[CV 5/5; 78/90] END learning_rate=2, loss=deviance, n_estimators=50, subsample=1.0;, score=0.997 total time=   2.5s\n",
      "[CV 1/5; 81/90] START learning_rate=2, loss=deviance, n_estimators=100, subsample=1.0\n",
      "[CV 1/5; 81/90] END learning_rate=2, loss=deviance, n_estimators=100, subsample=1.0;, score=0.993 total time=   2.6s\n",
      "[CV 1/5; 84/90] START learning_rate=2, loss=exponential, n_estimators=10, subsample=1.0\n",
      "[CV 1/5; 84/90] END learning_rate=2, loss=exponential, n_estimators=10, subsample=1.0;, score=0.989 total time=   0.5s\n",
      "[CV 1/5; 85/90] START learning_rate=2, loss=exponential, n_estimators=50, subsample=0.5\n",
      "[CV 1/5; 85/90] END learning_rate=2, loss=exponential, n_estimators=50, subsample=0.5;, score=0.992 total time=   1.4s\n",
      "[CV 4/5; 86/90] START learning_rate=2, loss=exponential, n_estimators=50, subsample=0.75\n",
      "[CV 4/5; 86/90] END learning_rate=2, loss=exponential, n_estimators=50, subsample=0.75;, score=0.990 total time=   2.1s\n",
      "[CV 2/5; 89/90] START learning_rate=2, loss=exponential, n_estimators=100, subsample=0.75\n",
      "[CV 2/5; 89/90] END learning_rate=2, loss=exponential, n_estimators=100, subsample=0.75;, score=0.992 total time=   4.0s\n",
      "[CV 2/5; 2/90] START learning_rate=0.001, loss=deviance, n_estimators=10, subsample=0.75\n",
      "[CV 2/5; 2/90] END learning_rate=0.001, loss=deviance, n_estimators=10, subsample=0.75;, score=0.954 total time=   0.4s\n",
      "[CV 4/5; 4/90] START learning_rate=0.001, loss=deviance, n_estimators=50, subsample=0.5\n",
      "[CV 4/5; 4/90] END learning_rate=0.001, loss=deviance, n_estimators=50, subsample=0.5;, score=0.975 total time=   1.4s\n",
      "[CV 5/5; 6/90] START learning_rate=0.001, loss=deviance, n_estimators=50, subsample=1.0\n",
      "[CV 5/5; 6/90] END learning_rate=0.001, loss=deviance, n_estimators=50, subsample=1.0;, score=0.984 total time=   2.7s\n",
      "[CV 2/5; 9/90] START learning_rate=0.001, loss=deviance, n_estimators=100, subsample=1.0\n",
      "[CV 2/5; 9/90] END learning_rate=0.001, loss=deviance, n_estimators=100, subsample=1.0;, score=0.967 total time=   4.8s\n",
      "[CV 3/5; 15/90] START learning_rate=0.001, loss=exponential, n_estimators=50, subsample=1.0\n",
      "[CV 3/5; 15/90] END learning_rate=0.001, loss=exponential, n_estimators=50, subsample=1.0;, score=0.982 total time=   2.4s\n",
      "[CV 5/5; 17/90] START learning_rate=0.001, loss=exponential, n_estimators=100, subsample=0.75\n",
      "[CV 5/5; 17/90] END learning_rate=0.001, loss=exponential, n_estimators=100, subsample=0.75;, score=0.984 total time=   3.8s\n",
      "[CV 2/5; 23/90] START learning_rate=0.01, loss=deviance, n_estimators=50, subsample=0.75\n",
      "[CV 2/5; 23/90] END learning_rate=0.01, loss=deviance, n_estimators=50, subsample=0.75;, score=0.967 total time=   1.9s\n",
      "[CV 2/5; 25/90] START learning_rate=0.01, loss=deviance, n_estimators=100, subsample=0.5\n",
      "[CV 2/5; 25/90] END learning_rate=0.01, loss=deviance, n_estimators=100, subsample=0.5;, score=0.967 total time=   2.6s\n",
      "[CV 4/5; 27/90] START learning_rate=0.01, loss=deviance, n_estimators=100, subsample=1.0\n",
      "[CV 4/5; 27/90] END learning_rate=0.01, loss=deviance, n_estimators=100, subsample=1.0;, score=0.985 total time=   4.6s\n",
      "[CV 1/5; 34/90] START learning_rate=0.01, loss=exponential, n_estimators=100, subsample=0.5\n",
      "[CV 1/5; 34/90] END learning_rate=0.01, loss=exponential, n_estimators=100, subsample=0.5;, score=0.983 total time=   2.7s\n",
      "[CV 3/5; 36/90] START learning_rate=0.01, loss=exponential, n_estimators=100, subsample=1.0\n",
      "[CV 3/5; 36/90] END learning_rate=0.01, loss=exponential, n_estimators=100, subsample=1.0;, score=0.980 total time=   4.6s\n",
      "[CV 1/5; 43/90] START learning_rate=0.1, loss=deviance, n_estimators=100, subsample=0.5\n",
      "[CV 1/5; 43/90] END learning_rate=0.1, loss=deviance, n_estimators=100, subsample=0.5;, score=0.995 total time=   2.8s\n",
      "[CV 3/5; 45/90] START learning_rate=0.1, loss=deviance, n_estimators=100, subsample=1.0\n",
      "[CV 3/5; 45/90] END learning_rate=0.1, loss=deviance, n_estimators=100, subsample=1.0;, score=0.997 total time=   5.0s\n",
      "[CV 5/5; 51/90] START learning_rate=0.1, loss=exponential, n_estimators=50, subsample=1.0\n",
      "[CV 5/5; 51/90] END learning_rate=0.1, loss=exponential, n_estimators=50, subsample=1.0;, score=0.996 total time=   2.6s\n",
      "[CV 2/5; 54/90] START learning_rate=0.1, loss=exponential, n_estimators=100, subsample=1.0\n",
      "[CV 2/5; 54/90] END learning_rate=0.1, loss=exponential, n_estimators=100, subsample=1.0;, score=0.992 total time=   5.4s\n",
      "[CV 3/5; 59/90] START learning_rate=1, loss=deviance, n_estimators=50, subsample=0.75\n",
      "[CV 3/5; 59/90] END learning_rate=1, loss=deviance, n_estimators=50, subsample=0.75;, score=0.996 total time=   2.0s\n",
      "[CV 5/5; 61/90] START learning_rate=1, loss=deviance, n_estimators=100, subsample=0.5\n",
      "[CV 5/5; 61/90] END learning_rate=1, loss=deviance, n_estimators=100, subsample=0.5;, score=0.996 total time=   2.8s\n",
      "[CV 4/5; 64/90] START learning_rate=1, loss=exponential, n_estimators=10, subsample=0.5\n",
      "[CV 4/5; 64/90] END learning_rate=1, loss=exponential, n_estimators=10, subsample=0.5;, score=0.990 total time=   0.3s\n",
      "[CV 1/5; 65/90] START learning_rate=1, loss=exponential, n_estimators=10, subsample=0.75\n",
      "[CV 1/5; 65/90] END learning_rate=1, loss=exponential, n_estimators=10, subsample=0.75;, score=0.985 total time=   0.4s\n",
      "[CV 3/5; 65/90] START learning_rate=1, loss=exponential, n_estimators=10, subsample=0.75\n",
      "[CV 3/5; 65/90] END learning_rate=1, loss=exponential, n_estimators=10, subsample=0.75;, score=0.996 total time=   0.4s\n",
      "[CV 5/5; 65/90] START learning_rate=1, loss=exponential, n_estimators=10, subsample=0.75\n",
      "[CV 5/5; 65/90] END learning_rate=1, loss=exponential, n_estimators=10, subsample=0.75;, score=0.995 total time=   0.4s\n",
      "[CV 3/5; 66/90] START learning_rate=1, loss=exponential, n_estimators=10, subsample=1.0\n",
      "[CV 3/5; 66/90] END learning_rate=1, loss=exponential, n_estimators=10, subsample=1.0;, score=0.996 total time=   0.5s\n",
      "[CV 4/5; 67/90] START learning_rate=1, loss=exponential, n_estimators=50, subsample=0.5\n",
      "[CV 4/5; 67/90] END learning_rate=1, loss=exponential, n_estimators=50, subsample=0.5;, score=0.993 total time=   1.4s\n",
      "[CV 2/5; 69/90] START learning_rate=1, loss=exponential, n_estimators=50, subsample=1.0\n",
      "[CV 2/5; 69/90] END learning_rate=1, loss=exponential, n_estimators=50, subsample=1.0;, score=0.992 total time=   2.5s\n",
      "[CV 5/5; 71/90] START learning_rate=1, loss=exponential, n_estimators=100, subsample=0.75\n",
      "[CV 5/5; 71/90] END learning_rate=1, loss=exponential, n_estimators=100, subsample=0.75;, score=0.997 total time=   4.0s\n",
      "[CV 3/5; 76/90] START learning_rate=2, loss=deviance, n_estimators=50, subsample=0.5\n",
      "[CV 3/5; 76/90] END learning_rate=2, loss=deviance, n_estimators=50, subsample=0.5;, score=0.992 total time=   1.4s\n",
      "[CV 1/5; 78/90] START learning_rate=2, loss=deviance, n_estimators=50, subsample=1.0\n",
      "[CV 1/5; 78/90] END learning_rate=2, loss=deviance, n_estimators=50, subsample=1.0;, score=0.990 total time=   2.3s\n",
      "[CV 3/5; 80/90] START learning_rate=2, loss=deviance, n_estimators=100, subsample=0.75\n",
      "[CV 3/5; 80/90] END learning_rate=2, loss=deviance, n_estimators=100, subsample=0.75;, score=0.994 total time=   4.2s\n",
      "[CV 5/5; 85/90] START learning_rate=2, loss=exponential, n_estimators=50, subsample=0.5\n",
      "[CV 5/5; 85/90] END learning_rate=2, loss=exponential, n_estimators=50, subsample=0.5;, score=0.998 total time=   1.4s\n",
      "[CV 4/5; 87/90] START learning_rate=2, loss=exponential, n_estimators=50, subsample=1.0\n",
      "[CV 4/5; 87/90] END learning_rate=2, loss=exponential, n_estimators=50, subsample=1.0;, score=0.989 total time=   2.6s\n",
      "[CV 1/5; 90/90] START learning_rate=2, loss=exponential, n_estimators=100, subsample=1.0\n",
      "[CV 1/5; 90/90] END learning_rate=2, loss=exponential, n_estimators=100, subsample=1.0;, score=0.993 total time=   4.4s\n",
      "[CV 5/5; 1/90] START learning_rate=0.001, loss=deviance, n_estimators=10, subsample=0.5\n",
      "[CV 5/5; 1/90] END learning_rate=0.001, loss=deviance, n_estimators=10, subsample=0.5;, score=0.973 total time=   0.3s\n",
      "[CV 5/5; 3/90] START learning_rate=0.001, loss=deviance, n_estimators=10, subsample=1.0\n",
      "[CV 5/5; 3/90] END learning_rate=0.001, loss=deviance, n_estimators=10, subsample=1.0;, score=0.984 total time=   0.5s\n",
      "[CV 1/5; 6/90] START learning_rate=0.001, loss=deviance, n_estimators=50, subsample=1.0\n",
      "[CV 1/5; 6/90] END learning_rate=0.001, loss=deviance, n_estimators=50, subsample=1.0;, score=0.978 total time=   2.2s\n",
      "[CV 3/5; 8/90] START learning_rate=0.001, loss=deviance, n_estimators=100, subsample=0.75\n",
      "[CV 3/5; 8/90] END learning_rate=0.001, loss=deviance, n_estimators=100, subsample=0.75;, score=0.982 total time=   4.4s\n",
      "[CV 5/5; 12/90] START learning_rate=0.001, loss=exponential, n_estimators=10, subsample=1.0\n",
      "[CV 5/5; 12/90] END learning_rate=0.001, loss=exponential, n_estimators=10, subsample=1.0;, score=0.984 total time=   0.5s\n",
      "[CV 5/5; 13/90] START learning_rate=0.001, loss=exponential, n_estimators=50, subsample=0.5\n",
      "[CV 5/5; 13/90] END learning_rate=0.001, loss=exponential, n_estimators=50, subsample=0.5;, score=0.984 total time=   1.3s\n",
      "[CV 2/5; 15/90] START learning_rate=0.001, loss=exponential, n_estimators=50, subsample=1.0\n",
      "[CV 2/5; 15/90] END learning_rate=0.001, loss=exponential, n_estimators=50, subsample=1.0;, score=0.967 total time=   2.6s\n",
      "[CV 1/5; 18/90] START learning_rate=0.001, loss=exponential, n_estimators=100, subsample=1.0\n",
      "[CV 1/5; 18/90] END learning_rate=0.001, loss=exponential, n_estimators=100, subsample=1.0;, score=0.978 total time=   4.9s\n",
      "[CV 3/5; 24/90] START learning_rate=0.01, loss=deviance, n_estimators=50, subsample=1.0\n",
      "[CV 3/5; 24/90] END learning_rate=0.01, loss=deviance, n_estimators=50, subsample=1.0;, score=0.980 total time=   2.4s\n",
      "[CV 1/5; 27/90] START learning_rate=0.01, loss=deviance, n_estimators=100, subsample=1.0\n",
      "[CV 1/5; 27/90] END learning_rate=0.01, loss=deviance, n_estimators=100, subsample=1.0;, score=0.991 total time=   4.7s\n",
      "[CV 3/5; 32/90] START learning_rate=0.01, loss=exponential, n_estimators=50, subsample=0.75\n",
      "[CV 3/5; 32/90] END learning_rate=0.01, loss=exponential, n_estimators=50, subsample=0.75;, score=0.966 total time=   2.1s\n",
      "[CV 1/5; 35/90] START learning_rate=0.01, loss=exponential, n_estimators=100, subsample=0.75\n",
      "[CV 1/5; 35/90] END learning_rate=0.01, loss=exponential, n_estimators=100, subsample=0.75;, score=0.980 total time=   3.7s\n",
      "[CV 2/5; 39/90] START learning_rate=0.1, loss=deviance, n_estimators=10, subsample=1.0\n",
      "[CV 2/5; 39/90] END learning_rate=0.1, loss=deviance, n_estimators=10, subsample=1.0;, score=0.990 total time=   0.4s\n",
      "[CV 1/5; 40/90] START learning_rate=0.1, loss=deviance, n_estimators=50, subsample=0.5\n",
      "[CV 1/5; 40/90] END learning_rate=0.1, loss=deviance, n_estimators=50, subsample=0.5;, score=0.995 total time=   1.4s\n",
      "[CV 3/5; 41/90] START learning_rate=0.1, loss=deviance, n_estimators=50, subsample=0.75\n",
      "[CV 3/5; 41/90] END learning_rate=0.1, loss=deviance, n_estimators=50, subsample=0.75;, score=0.997 total time=   2.0s\n",
      "[CV 5/5; 43/90] START learning_rate=0.1, loss=deviance, n_estimators=100, subsample=0.5\n",
      "[CV 5/5; 43/90] END learning_rate=0.1, loss=deviance, n_estimators=100, subsample=0.5;, score=0.998 total time=   2.8s\n",
      "[CV 5/5; 46/90] START learning_rate=0.1, loss=exponential, n_estimators=10, subsample=0.5\n",
      "[CV 5/5; 46/90] END learning_rate=0.1, loss=exponential, n_estimators=10, subsample=0.5;, score=0.985 total time=   0.3s\n",
      "[CV 2/5; 47/90] START learning_rate=0.1, loss=exponential, n_estimators=10, subsample=0.75\n",
      "[CV 2/5; 47/90] END learning_rate=0.1, loss=exponential, n_estimators=10, subsample=0.75;, score=0.967 total time=   0.4s\n",
      "[CV 4/5; 47/90] START learning_rate=0.1, loss=exponential, n_estimators=10, subsample=0.75\n",
      "[CV 4/5; 47/90] END learning_rate=0.1, loss=exponential, n_estimators=10, subsample=0.75;, score=0.985 total time=   0.4s\n",
      "[CV 1/5; 48/90] START learning_rate=0.1, loss=exponential, n_estimators=10, subsample=1.0\n",
      "[CV 1/5; 48/90] END learning_rate=0.1, loss=exponential, n_estimators=10, subsample=1.0;, score=0.991 total time=   0.5s\n",
      "[CV 5/5; 48/90] START learning_rate=0.1, loss=exponential, n_estimators=10, subsample=1.0\n",
      "[CV 5/5; 48/90] END learning_rate=0.1, loss=exponential, n_estimators=10, subsample=1.0;, score=0.985 total time=   0.5s\n",
      "[CV 1/5; 50/90] START learning_rate=0.1, loss=exponential, n_estimators=50, subsample=0.75\n",
      "[CV 1/5; 50/90] END learning_rate=0.1, loss=exponential, n_estimators=50, subsample=0.75;, score=0.993 total time=   2.0s\n",
      "[CV 2/5; 52/90] START learning_rate=0.1, loss=exponential, n_estimators=100, subsample=0.5\n",
      "[CV 2/5; 52/90] END learning_rate=0.1, loss=exponential, n_estimators=100, subsample=0.5;, score=0.992 total time=   2.9s\n",
      "[CV 4/5; 54/90] START learning_rate=0.1, loss=exponential, n_estimators=100, subsample=1.0\n",
      "[CV 4/5; 54/90] END learning_rate=0.1, loss=exponential, n_estimators=100, subsample=1.0;, score=0.993 total time=   5.5s\n",
      "[CV 5/5; 60/90] START learning_rate=1, loss=deviance, n_estimators=50, subsample=1.0\n",
      "[CV 5/5; 60/90] END learning_rate=1, loss=deviance, n_estimators=50, subsample=1.0;, score=0.997 total time=   2.5s\n",
      "[CV 2/5; 63/90] START learning_rate=1, loss=deviance, n_estimators=100, subsample=1.0\n",
      "[CV 2/5; 63/90] END learning_rate=1, loss=deviance, n_estimators=100, subsample=1.0;, score=0.992 total time=   5.0s\n",
      "[CV 3/5; 69/90] START learning_rate=1, loss=exponential, n_estimators=50, subsample=1.0\n",
      "[CV 3/5; 69/90] END learning_rate=1, loss=exponential, n_estimators=50, subsample=1.0;, score=0.997 total time=   2.5s\n",
      "[CV 1/5; 72/90] START learning_rate=1, loss=exponential, n_estimators=100, subsample=1.0\n",
      "[CV 1/5; 72/90] END learning_rate=1, loss=exponential, n_estimators=100, subsample=1.0;, score=0.995 total time=   5.0s\n",
      "[CV 3/5; 77/90] START learning_rate=2, loss=deviance, n_estimators=50, subsample=0.75\n",
      "[CV 3/5; 77/90] END learning_rate=2, loss=deviance, n_estimators=50, subsample=0.75;, score=0.989 total time=   2.0s\n",
      "[CV 5/5; 79/90] START learning_rate=2, loss=deviance, n_estimators=100, subsample=0.5\n",
      "[CV 5/5; 79/90] END learning_rate=2, loss=deviance, n_estimators=100, subsample=0.5;, score=0.994 total time=   2.8s\n",
      "[CV 3/5; 82/90] START learning_rate=2, loss=exponential, n_estimators=10, subsample=0.5\n",
      "[CV 3/5; 82/90] END learning_rate=2, loss=exponential, n_estimators=10, subsample=0.5;, score=0.996 total time=   0.3s\n",
      "[CV 5/5; 82/90] START learning_rate=2, loss=exponential, n_estimators=10, subsample=0.5\n",
      "[CV 5/5; 82/90] END learning_rate=2, loss=exponential, n_estimators=10, subsample=0.5;, score=0.996 total time=   0.3s\n",
      "[CV 2/5; 83/90] START learning_rate=2, loss=exponential, n_estimators=10, subsample=0.75\n",
      "[CV 2/5; 83/90] END learning_rate=2, loss=exponential, n_estimators=10, subsample=0.75;, score=0.989 total time=   0.4s\n",
      "[CV 4/5; 83/90] START learning_rate=2, loss=exponential, n_estimators=10, subsample=0.75\n",
      "[CV 4/5; 83/90] END learning_rate=2, loss=exponential, n_estimators=10, subsample=0.75;, score=0.987 total time=   0.4s\n",
      "[CV 3/5; 84/90] START learning_rate=2, loss=exponential, n_estimators=10, subsample=1.0\n",
      "[CV 3/5; 84/90] END learning_rate=2, loss=exponential, n_estimators=10, subsample=1.0;, score=0.994 total time=   0.5s\n",
      "[CV 3/5; 85/90] START learning_rate=2, loss=exponential, n_estimators=50, subsample=0.5\n",
      "[CV 3/5; 85/90] END learning_rate=2, loss=exponential, n_estimators=50, subsample=0.5;, score=0.997 total time=   1.5s\n",
      "[CV 2/5; 87/90] START learning_rate=2, loss=exponential, n_estimators=50, subsample=1.0\n",
      "[CV 2/5; 87/90] END learning_rate=2, loss=exponential, n_estimators=50, subsample=1.0;, score=0.991 total time=   2.6s\n",
      "[CV 3/5; 89/90] START learning_rate=2, loss=exponential, n_estimators=100, subsample=0.75\n",
      "[CV 3/5; 89/90] END learning_rate=2, loss=exponential, n_estimators=100, subsample=0.75;, score=0.997 total time=   4.0s\n",
      "\n",
      "[CV 3/5; 90/90] END learning_rate=2, loss=exponential, n_estimators=100, subsample=1.0;, score=0.997 total time=   4.2s\n",
      "[CV 1/5; 1/90] START learning_rate=0.001, loss=deviance, n_estimators=10, subsample=0.5\n",
      "[CV 1/5; 1/90] END learning_rate=0.001, loss=deviance, n_estimators=10, subsample=0.5;, score=0.973 total time=   0.3s\n",
      "[CV 4/5; 3/90] START learning_rate=0.001, loss=deviance, n_estimators=10, subsample=1.0\n",
      "[CV 4/5; 3/90] END learning_rate=0.001, loss=deviance, n_estimators=10, subsample=1.0;, score=0.978 total time=   0.5s\n",
      "[CV 5/5; 5/90] START learning_rate=0.001, loss=deviance, n_estimators=50, subsample=0.75\n",
      "[CV 5/5; 5/90] END learning_rate=0.001, loss=deviance, n_estimators=50, subsample=0.75;, score=0.984 total time=   2.1s\n",
      "[CV 2/5; 8/90] START learning_rate=0.001, loss=deviance, n_estimators=100, subsample=0.75\n",
      "[CV 2/5; 8/90] END learning_rate=0.001, loss=deviance, n_estimators=100, subsample=0.75;, score=0.967 total time=   4.2s\n",
      "[CV 1/5; 12/90] START learning_rate=0.001, loss=exponential, n_estimators=10, subsample=1.0\n",
      "[CV 1/5; 12/90] END learning_rate=0.001, loss=exponential, n_estimators=10, subsample=1.0;, score=0.978 total time=   0.5s\n",
      "[CV 2/5; 13/90] START learning_rate=0.001, loss=exponential, n_estimators=50, subsample=0.5\n",
      "[CV 2/5; 13/90] END learning_rate=0.001, loss=exponential, n_estimators=50, subsample=0.5;, score=0.967 total time=   1.3s\n",
      "[CV 4/5; 14/90] START learning_rate=0.001, loss=exponential, n_estimators=50, subsample=0.75\n",
      "[CV 4/5; 14/90] END learning_rate=0.001, loss=exponential, n_estimators=50, subsample=0.75;, score=0.975 total time=   2.0s\n",
      "[CV 1/5; 17/90] START learning_rate=0.001, loss=exponential, n_estimators=100, subsample=0.75\n",
      "[CV 1/5; 17/90] END learning_rate=0.001, loss=exponential, n_estimators=100, subsample=0.75;, score=0.978 total time=   3.7s\n",
      "[CV 1/5; 21/90] START learning_rate=0.01, loss=deviance, n_estimators=10, subsample=1.0\n",
      "[CV 1/5; 21/90] END learning_rate=0.01, loss=deviance, n_estimators=10, subsample=1.0;, score=0.978 total time=   0.4s\n",
      "[CV 5/5; 21/90] START learning_rate=0.01, loss=deviance, n_estimators=10, subsample=1.0\n",
      "[CV 5/5; 21/90] END learning_rate=0.01, loss=deviance, n_estimators=10, subsample=1.0;, score=0.984 total time=   0.5s\n",
      "[CV 1/5; 23/90] START learning_rate=0.01, loss=deviance, n_estimators=50, subsample=0.75\n",
      "[CV 1/5; 23/90] END learning_rate=0.01, loss=deviance, n_estimators=50, subsample=0.75;, score=0.978 total time=   1.9s\n",
      "[CV 3/5; 25/90] START learning_rate=0.01, loss=deviance, n_estimators=100, subsample=0.5\n",
      "[CV 3/5; 25/90] END learning_rate=0.01, loss=deviance, n_estimators=100, subsample=0.5;, score=0.996 total time=   2.7s\n",
      "[CV 5/5; 27/90] START learning_rate=0.01, loss=deviance, n_estimators=100, subsample=1.0\n",
      "[CV 5/5; 27/90] END learning_rate=0.01, loss=deviance, n_estimators=100, subsample=1.0;, score=0.996 total time=   4.6s\n",
      "[CV 2/5; 34/90] START learning_rate=0.01, loss=exponential, n_estimators=100, subsample=0.5\n",
      "[CV 2/5; 34/90] END learning_rate=0.01, loss=exponential, n_estimators=100, subsample=0.5;, score=0.967 total time=   2.7s\n",
      "[CV 5/5; 36/90] START learning_rate=0.01, loss=exponential, n_estimators=100, subsample=1.0\n",
      "[CV 5/5; 36/90] END learning_rate=0.01, loss=exponential, n_estimators=100, subsample=1.0;, score=0.985 total time=   4.6s\n",
      "[CV 2/5; 43/90] START learning_rate=0.1, loss=deviance, n_estimators=100, subsample=0.5\n",
      "[CV 2/5; 43/90] END learning_rate=0.1, loss=deviance, n_estimators=100, subsample=0.5;, score=0.992 total time=   2.8s\n",
      "[CV 4/5; 45/90] START learning_rate=0.1, loss=deviance, n_estimators=100, subsample=1.0\n",
      "[CV 4/5; 45/90] END learning_rate=0.1, loss=deviance, n_estimators=100, subsample=1.0;, score=0.993 total time=   5.1s\n",
      "[CV 1/5; 52/90] START learning_rate=0.1, loss=exponential, n_estimators=100, subsample=0.5\n",
      "[CV 1/5; 52/90] END learning_rate=0.1, loss=exponential, n_estimators=100, subsample=0.5;, score=0.993 total time=   2.9s\n",
      "[CV 3/5; 54/90] START learning_rate=0.1, loss=exponential, n_estimators=100, subsample=1.0\n",
      "[CV 3/5; 54/90] END learning_rate=0.1, loss=exponential, n_estimators=100, subsample=1.0;, score=0.996 total time=   5.8s\n",
      "[CV 1/5; 61/90] START learning_rate=1, loss=deviance, n_estimators=100, subsample=0.5\n",
      "[CV 1/5; 61/90] END learning_rate=1, loss=deviance, n_estimators=100, subsample=0.5;, score=0.993 total time=   2.8s\n",
      "[CV 3/5; 63/90] START learning_rate=1, loss=deviance, n_estimators=100, subsample=1.0\n",
      "[CV 3/5; 63/90] END learning_rate=1, loss=deviance, n_estimators=100, subsample=1.0;, score=0.997 total time=   5.1s\n",
      "[CV 5/5; 69/90] START learning_rate=1, loss=exponential, n_estimators=50, subsample=1.0\n",
      "[CV 5/5; 69/90] END learning_rate=1, loss=exponential, n_estimators=50, subsample=1.0;, score=0.997 total time=   2.7s\n",
      "[CV 2/5; 72/90] START learning_rate=1, loss=exponential, n_estimators=100, subsample=1.0\n",
      "[CV 2/5; 72/90] END learning_rate=1, loss=exponential, n_estimators=100, subsample=1.0;, score=0.992 total time=   5.3s\n",
      "[CV 1/5; 79/90] START learning_rate=2, loss=deviance, n_estimators=100, subsample=0.5\n",
      "[CV 1/5; 79/90] END learning_rate=2, loss=deviance, n_estimators=100, subsample=0.5;, score=0.484 total time=   3.2s\n",
      "[CV 4/5; 81/90] START learning_rate=2, loss=deviance, n_estimators=100, subsample=1.0\n",
      "[CV 4/5; 81/90] END learning_rate=2, loss=deviance, n_estimators=100, subsample=1.0;, score=0.991 total time=   4.7s\n",
      "[CV 1/5; 88/90] START learning_rate=2, loss=exponential, n_estimators=100, subsample=0.5\n",
      "[CV 1/5; 88/90] END learning_rate=2, loss=exponential, n_estimators=100, subsample=0.5;, score=0.993 total time=   3.2s\n",
      "[CV 4/5; 90/90] START learning_rate=2, loss=exponential, n_estimators=100, subsample=1.0\n",
      "[CV 4/5; 90/90] END learning_rate=2, loss=exponential, n_estimators=100, subsample=1.0;, score=0.990 total time=   3.9s\n",
      "\n",
      "[CV 2/5; 74/90] START learning_rate=2, loss=deviance, n_estimators=10, subsample=0.75\n",
      "[CV 2/5; 74/90] END learning_rate=2, loss=deviance, n_estimators=10, subsample=0.75;, score=0.989 total time=   0.4s\n",
      "[CV 4/5; 74/90] START learning_rate=2, loss=deviance, n_estimators=10, subsample=0.75\n",
      "[CV 4/5; 74/90] END learning_rate=2, loss=deviance, n_estimators=10, subsample=0.75;, score=0.991 total time=   0.4s\n",
      "[CV 2/5; 75/90] START learning_rate=2, loss=deviance, n_estimators=10, subsample=1.0\n",
      "[CV 2/5; 75/90] END learning_rate=2, loss=deviance, n_estimators=10, subsample=1.0;, score=0.992 total time=   0.5s\n",
      "[CV 2/5; 76/90] START learning_rate=2, loss=deviance, n_estimators=50, subsample=0.5\n",
      "[CV 2/5; 76/90] END learning_rate=2, loss=deviance, n_estimators=50, subsample=0.5;, score=0.989 total time=   1.4s\n",
      "[CV 4/5; 77/90] START learning_rate=2, loss=deviance, n_estimators=50, subsample=0.75\n",
      "[CV 4/5; 77/90] END learning_rate=2, loss=deviance, n_estimators=50, subsample=0.75;, score=0.991 total time=   2.0s\n",
      "[CV 1/5; 80/90] START learning_rate=2, loss=deviance, n_estimators=100, subsample=0.75\n",
      "[CV 1/5; 80/90] END learning_rate=2, loss=deviance, n_estimators=100, subsample=0.75;, score=0.993 total time=   3.5s\n",
      "[CV 5/5; 83/90] START learning_rate=2, loss=exponential, n_estimators=10, subsample=0.75\n",
      "[CV 5/5; 83/90] END learning_rate=2, loss=exponential, n_estimators=10, subsample=0.75;, score=0.997 total time=   0.4s\n",
      "[CV 4/5; 84/90] START learning_rate=2, loss=exponential, n_estimators=10, subsample=1.0\n",
      "[CV 4/5; 84/90] END learning_rate=2, loss=exponential, n_estimators=10, subsample=1.0;, score=0.989 total time=   0.5s\n",
      "[CV 4/5; 85/90] START learning_rate=2, loss=exponential, n_estimators=50, subsample=0.5\n",
      "[CV 4/5; 85/90] END learning_rate=2, loss=exponential, n_estimators=50, subsample=0.5;, score=0.990 total time=   1.4s\n",
      "[CV 3/5; 87/90] START learning_rate=2, loss=exponential, n_estimators=50, subsample=1.0\n",
      "[CV 3/5; 87/90] END learning_rate=2, loss=exponential, n_estimators=50, subsample=1.0;, score=0.997 total time=   2.6s\n",
      "[CV 5/5; 89/90] START learning_rate=2, loss=exponential, n_estimators=100, subsample=0.75\n",
      "[CV 5/5; 89/90] END learning_rate=2, loss=exponential, n_estimators=100, subsample=0.75;, score=0.997 total time=   4.1s\n",
      "\n",
      "[CV 1/5; 89/90] START learning_rate=2, loss=exponential, n_estimators=100, subsample=0.75\n",
      "[CV 1/5; 89/90] END learning_rate=2, loss=exponential, n_estimators=100, subsample=0.75;, score=0.995 total time=   4.1s\n"
     ]
    }
   ],
   "source": [
    "max_tokens = 30\n",
    "X_train = np.array(X_train)\n",
    "encoder = tf.keras.layers.TextVectorization(max_tokens=max_tokens)\n",
    "encoder.adapt(X_train)\n",
    "\n",
    "vocab_size = len(encoder.get_vocabulary())"
   ]
  },
  {
   "cell_type": "code",
   "execution_count": null,
   "id": "a364f1ec-3f73-4a02-96a8-7573a7b4052f",
   "metadata": {},
   "outputs": [],
   "source": []
  },
  {
   "cell_type": "code",
   "execution_count": null,
   "id": "84a59bc4-0542-4f38-83ef-5b2af53ad039",
   "metadata": {},
   "outputs": [],
   "source": []
  },
  {
   "cell_type": "code",
   "execution_count": null,
   "id": "184bb487-f687-4c27-8f1d-8e25a4d0a9d1",
   "metadata": {},
   "outputs": [],
   "source": []
  },
  {
   "cell_type": "code",
   "execution_count": null,
   "id": "a2cb3cc0-23da-4749-a67b-1f7ec5c449d7",
   "metadata": {},
   "outputs": [],
   "source": []
  },
  {
   "cell_type": "code",
   "execution_count": null,
   "id": "4aa4638f-dfa8-4147-b487-c579ef5f6477",
   "metadata": {},
   "outputs": [],
   "source": []
  },
  {
   "cell_type": "code",
   "execution_count": null,
   "id": "78249b98-4248-4c64-ba0e-48775ef3b2d2",
   "metadata": {},
   "outputs": [],
   "source": []
  },
  {
   "cell_type": "code",
   "execution_count": null,
   "id": "e8d5e5da-b777-4fea-addc-375cccc9b312",
   "metadata": {},
   "outputs": [],
   "source": []
  },
  {
   "cell_type": "code",
   "execution_count": null,
   "id": "639bfcca-7105-4a22-8799-6caa6b6ae8fa",
   "metadata": {},
   "outputs": [],
   "source": []
  },
  {
   "cell_type": "code",
   "execution_count": null,
   "id": "7dc6461b-91ef-462d-8014-d27030485895",
   "metadata": {},
   "outputs": [],
   "source": []
  },
  {
   "cell_type": "code",
   "execution_count": null,
   "id": "cc3ecc7b-4110-4053-b222-f1cf7450dfb4",
   "metadata": {},
   "outputs": [],
   "source": []
  },
  {
   "cell_type": "code",
   "execution_count": null,
   "id": "e334cebf-ffdd-4eaa-aaaf-e8b8d8978780",
   "metadata": {},
   "outputs": [],
   "source": []
  },
  {
   "cell_type": "code",
   "execution_count": 36,
   "id": "ad9e4671-a574-468d-8c72-021aabf2f896",
   "metadata": {},
   "outputs": [],
   "source": [
    "###\n",
    "import pandas as pd\n",
    "import numpy as np\n",
    "import tensorflow as tf\n",
    "from tensorflow.keras.layers import Embedding\n",
    "from tensorflow.keras.preprocessing.sequence import pad_sequences\n",
    "from tensorflow.keras.models import Sequential\n",
    "from tensorflow.keras.preprocessing.text import one_hot\n",
    "from tensorflow.keras.layers import LSTM\n",
    "from tensorflow.keras.layers import Dense\n",
    "from tensorflow.keras.layers import Bidirectional\n",
    "from tensorflow.keras.layers import Dropout, MaxPooling1D, Flatten\n",
    "import nltk\n",
    "import re\n",
    "from nltk.corpus import stopwords\n",
    "from sklearn.model_selection import train_test_split"
   ]
  },
  {
   "cell_type": "code",
   "execution_count": 37,
   "id": "6e959586-127c-4b33-b35d-c46e8589d415",
   "metadata": {},
   "outputs": [],
   "source": [
    "# Set X and y variables\n",
    "X = combined[[\"Text\"]]\n",
    "y = combined[[\"class\"]]"
   ]
  },
  {
   "cell_type": "code",
   "execution_count": 38,
   "id": "7ea1b22a-5306-43e0-98f8-7d4e473e022f",
   "metadata": {},
   "outputs": [],
   "source": [
    "voc_size=30"
   ]
  },
  {
   "cell_type": "code",
   "execution_count": 39,
   "id": "db06bbf5-2364-41a1-9dae-dfd14ffdbea6",
   "metadata": {},
   "outputs": [],
   "source": [
    "X_copy=X.copy()\n",
    "X_copy.reset_index(inplace=True)"
   ]
  },
  {
   "cell_type": "code",
   "execution_count": 40,
   "id": "bc8b8b3a-3ebb-4ddc-b9ef-24a94c11716d",
   "metadata": {},
   "outputs": [
    {
     "name": "stderr",
     "output_type": "stream",
     "text": [
      "[nltk_data] Downloading package stopwords to /home/kavi/nltk_data...\n",
      "[nltk_data]   Package stopwords is already up-to-date!\n"
     ]
    },
    {
     "data": {
      "text/plain": [
       "True"
      ]
     },
     "execution_count": 40,
     "metadata": {},
     "output_type": "execute_result"
    }
   ],
   "source": [
    "nltk.download('stopwords')"
   ]
  },
  {
   "cell_type": "code",
   "execution_count": 41,
   "id": "042bfcd3-0bb6-44a1-a22a-3f4d6c88be1d",
   "metadata": {},
   "outputs": [],
   "source": [
    "from nltk.stem.porter import PorterStemmer\n",
    "ps = PorterStemmer()\n",
    "corpus = []\n",
    "for i in range(0, len(X_copy)):\n",
    "    review = re.sub('[^a-zA-Z]', ' ', X_copy['Text'][i])\n",
    "    review = review.lower()\n",
    "    review = review.split()\n",
    "\n",
    "    review = [ps.stem(word) for word in review if not word in stopwords.words('english')]\n",
    "    review = ' '.join(review)\n",
    "    corpus.append(review)\n",
    "# corpus"
   ]
  },
  {
   "cell_type": "code",
   "execution_count": 42,
   "id": "4617498c-eca7-40e1-8d20-819058b4af76",
   "metadata": {},
   "outputs": [],
   "source": [
    "onehot_repr = [one_hot(words,voc_size)for words in corpus] "
   ]
  },
  {
   "cell_type": "code",
   "execution_count": 63,
   "id": "560051a2-efd5-4867-b4d3-2184a7a9e8e7",
   "metadata": {},
   "outputs": [
    {
     "data": {
      "text/plain": [
       "array([ 3, 20, 11, 27,  5, 15,  5, 29,  8,  5, 26, 16, 10, 29, 24,  6, 19,\n",
       "       11,  8, 20], dtype=int32)"
      ]
     },
     "execution_count": 63,
     "metadata": {},
     "output_type": "execute_result"
    }
   ],
   "source": [
    "sent_length=20\n",
    "embedded_docs=pad_sequences(onehot_repr,padding='pre',maxlen=sent_length)\n",
    "embedded_docs[0]"
   ]
  },
  {
   "cell_type": "code",
   "execution_count": 64,
   "id": "e82d14d8-8e78-474b-9ab1-2e66adefbe9e",
   "metadata": {},
   "outputs": [],
   "source": [
    "X_final=np.array(embedded_docs)\n",
    "y_final=np.array(y)\n",
    "\n",
    "X_train, X_test, y_train, y_test = train_test_split(X_final, y_final, test_size=0.33, random_state=42, stratify=y)"
   ]
  },
  {
   "cell_type": "code",
   "execution_count": 65,
   "id": "f87d23e6-3ff2-4e79-991b-9dbb98f0ced2",
   "metadata": {},
   "outputs": [
    {
     "data": {
      "text/plain": [
       "30"
      ]
     },
     "execution_count": 65,
     "metadata": {},
     "output_type": "execute_result"
    }
   ],
   "source": [
    "voc_size"
   ]
  },
  {
   "cell_type": "code",
   "execution_count": 66,
   "id": "2886e611-9093-4c64-8674-a82adac91ca2",
   "metadata": {},
   "outputs": [
    {
     "name": "stdout",
     "output_type": "stream",
     "text": [
      "Model: \"sequential_4\"\n",
      "_________________________________________________________________\n",
      " Layer (type)                Output Shape              Param #   \n",
      "=================================================================\n",
      " embedding_3 (Embedding)     (None, 20, 40)            1200      \n",
      "                                                                 \n",
      " dropout_2 (Dropout)         (None, 20, 40)            0         \n",
      "                                                                 \n",
      " lstm_1 (LSTM)               (None, 1000)              4164000   \n",
      "                                                                 \n",
      " dropout_3 (Dropout)         (None, 1000)              0         \n",
      "                                                                 \n",
      " dense_1 (Dense)             (None, 1)                 1001      \n",
      "                                                                 \n",
      "=================================================================\n",
      "Total params: 4,166,201\n",
      "Trainable params: 4,166,201\n",
      "Non-trainable params: 0\n",
      "_________________________________________________________________\n",
      "None\n"
     ]
    }
   ],
   "source": [
    "embedding_vector_features=40\n",
    "model1=Sequential()\n",
    "model1.add(Embedding(voc_size,embedding_vector_features,input_length=sent_length))\n",
    "model1.add(Dropout(0.2))\n",
    "model1.add(LSTM(1000))\n",
    "model1.add(Dropout(0.2))\n",
    "model1.add(Dense(1, activation='sigmoid'))\n",
    "model1.compile(loss='binary_crossentropy',optimizer='adam',metrics=['accuracy'])\n",
    "print(model1.summary())"
   ]
  },
  {
   "cell_type": "code",
   "execution_count": 67,
   "id": "6e1c613d-98e3-4d1f-b6e1-dc3758c24b3b",
   "metadata": {},
   "outputs": [
    {
     "name": "stdout",
     "output_type": "stream",
     "text": [
      "Epoch 1/20\n",
      "20/20 [==============================] - 2s 31ms/step - loss: 0.4810 - accuracy: 0.7826 - val_loss: 0.3509 - val_accuracy: 0.8535\n",
      "Epoch 2/20\n",
      "20/20 [==============================] - 0s 18ms/step - loss: 0.3320 - accuracy: 0.8635 - val_loss: 0.3071 - val_accuracy: 0.8663\n",
      "Epoch 3/20\n",
      "20/20 [==============================] - 0s 18ms/step - loss: 0.2838 - accuracy: 0.8845 - val_loss: 0.2577 - val_accuracy: 0.9030\n",
      "Epoch 4/20\n",
      "20/20 [==============================] - 0s 17ms/step - loss: 0.2323 - accuracy: 0.9073 - val_loss: 0.2170 - val_accuracy: 0.9166\n",
      "Epoch 5/20\n",
      "20/20 [==============================] - 0s 18ms/step - loss: 0.1966 - accuracy: 0.9266 - val_loss: 0.2178 - val_accuracy: 0.9158\n",
      "Epoch 6/20\n",
      "20/20 [==============================] - 0s 17ms/step - loss: 0.1652 - accuracy: 0.9384 - val_loss: 0.1434 - val_accuracy: 0.9429\n",
      "Epoch 7/20\n",
      "20/20 [==============================] - 0s 18ms/step - loss: 0.1405 - accuracy: 0.9502 - val_loss: 0.1374 - val_accuracy: 0.9461\n",
      "Epoch 8/20\n",
      "20/20 [==============================] - 0s 17ms/step - loss: 0.1339 - accuracy: 0.9522 - val_loss: 0.1216 - val_accuracy: 0.9593\n",
      "Epoch 9/20\n",
      "20/20 [==============================] - 0s 18ms/step - loss: 0.1464 - accuracy: 0.9445 - val_loss: 0.1388 - val_accuracy: 0.9517\n",
      "Epoch 10/20\n",
      "20/20 [==============================] - 0s 18ms/step - loss: 0.1280 - accuracy: 0.9549 - val_loss: 0.1203 - val_accuracy: 0.9577\n",
      "Epoch 11/20\n",
      "20/20 [==============================] - 0s 18ms/step - loss: 0.1230 - accuracy: 0.9536 - val_loss: 0.1468 - val_accuracy: 0.9453\n",
      "Epoch 12/20\n",
      "20/20 [==============================] - 0s 18ms/step - loss: 0.1098 - accuracy: 0.9599 - val_loss: 0.1190 - val_accuracy: 0.9557\n",
      "Epoch 13/20\n",
      "20/20 [==============================] - 0s 18ms/step - loss: 0.1108 - accuracy: 0.9591 - val_loss: 0.1088 - val_accuracy: 0.9633\n",
      "Epoch 14/20\n",
      "20/20 [==============================] - 0s 17ms/step - loss: 0.1026 - accuracy: 0.9626 - val_loss: 0.1021 - val_accuracy: 0.9669\n",
      "Epoch 15/20\n",
      "20/20 [==============================] - 0s 17ms/step - loss: 0.1035 - accuracy: 0.9626 - val_loss: 0.1004 - val_accuracy: 0.9641\n",
      "Epoch 16/20\n",
      "20/20 [==============================] - 0s 17ms/step - loss: 0.0948 - accuracy: 0.9656 - val_loss: 0.1113 - val_accuracy: 0.9633\n",
      "Epoch 17/20\n",
      "20/20 [==============================] - 0s 17ms/step - loss: 0.0979 - accuracy: 0.9654 - val_loss: 0.0949 - val_accuracy: 0.9689\n",
      "Epoch 18/20\n",
      "20/20 [==============================] - 0s 18ms/step - loss: 0.0876 - accuracy: 0.9709 - val_loss: 0.1063 - val_accuracy: 0.9657\n",
      "Epoch 19/20\n",
      "20/20 [==============================] - 0s 18ms/step - loss: 0.0843 - accuracy: 0.9701 - val_loss: 0.1004 - val_accuracy: 0.9645\n",
      "Epoch 20/20\n",
      "20/20 [==============================] - 0s 18ms/step - loss: 0.0841 - accuracy: 0.9701 - val_loss: 0.1001 - val_accuracy: 0.9661\n"
     ]
    }
   ],
   "source": [
    "history = model1.fit(X_train,y_train,validation_data=(X_test,y_test),epochs=20,batch_size=256)"
   ]
  },
  {
   "cell_type": "code",
   "execution_count": 68,
   "id": "10b2871f-2018-45d7-b6bb-25507509a236",
   "metadata": {},
   "outputs": [
    {
     "data": {
      "image/png": "[encoded data removed]",
      "text/plain": [
       "<Figure size 432x288 with 1 Axes>"
      ]
     },
     "metadata": {
      "needs_background": "light"
     },
     "output_type": "display_data"
    },
    {
     "data": {
      "image/png": "[encoded data removed]",
      "text/plain": [
       "<Figure size 432x288 with 1 Axes>"
      ]
     },
     "metadata": {
      "needs_background": "light"
     },
     "output_type": "display_data"
    }
   ],
   "source": [
    "# summarize history for accuracy\n",
    "plt.plot(history.history['accuracy'])\n",
    "plt.plot(history.history['val_accuracy'])\n",
    "plt.title('model accuracy')\n",
    "plt.ylabel('accuracy')\n",
    "plt.xlabel('epoch')\n",
    "plt.legend(['train', 'test'], loc='upper left')\n",
    "plt.show()\n",
    "# summarize history for loss\n",
    "plt.plot(history.history['loss'])\n",
    "plt.plot(history.history['val_loss'])\n",
    "plt.title('model loss')\n",
    "plt.ylabel('loss')\n",
    "plt.xlabel('epoch')\n",
    "plt.legend(['train', 'test'], loc='upper left')\n",
    "plt.show()"
   ]
  },
  {
   "cell_type": "code",
   "execution_count": 69,
   "id": "b6fcffb7-8f55-4fb1-ac55-d7002edcd40b",
   "metadata": {},
   "outputs": [],
   "source": [
    "# Building the CNN Model\n",
    "model = Sequential()      # initilaizing the Sequential nature for CNN model\n",
    "# Adding the embedding layer which will take in maximum of 450 words as input and provide a 32 dimensional output of those words which belong in the top_words dictionary\n",
    "# model.add(Embedding(top_words, 32, input_length=max_words))\n",
    "model.add(Embedding(voc_size,embedding_vector_features,input_length=sent_length))\n",
    "model.add(Conv1D(32, 3, padding='same', activation='relu'))\n",
    "model.add(MaxPooling1D())\n",
    "model.add(Flatten())\n",
    "model.add(Dense(250, activation='relu'))\n",
    "model.add(Dense(1, activation='sigmoid'))"
   ]
  },
  {
   "cell_type": "code",
   "execution_count": 70,
   "id": "49518aeb-c829-4fe5-9144-26fb2f4b2036",
   "metadata": {},
   "outputs": [
    {
     "name": "stdout",
     "output_type": "stream",
     "text": [
      "Model: \"sequential_4\"\n",
      "_________________________________________________________________\n",
      " Layer (type)                Output Shape              Param #   \n",
      "=================================================================\n",
      " embedding_3 (Embedding)     (None, 20, 40)            1200      \n",
      "                                                                 \n",
      " dropout_2 (Dropout)         (None, 20, 40)            0         \n",
      "                                                                 \n",
      " lstm_1 (LSTM)               (None, 1000)              4164000   \n",
      "                                                                 \n",
      " dropout_3 (Dropout)         (None, 1000)              0         \n",
      "                                                                 \n",
      " dense_1 (Dense)             (None, 1)                 1001      \n",
      "                                                                 \n",
      "=================================================================\n",
      "Total params: 4,166,201\n",
      "Trainable params: 4,166,201\n",
      "Non-trainable params: 0\n",
      "_________________________________________________________________\n",
      "None\n"
     ]
    }
   ],
   "source": [
    "model.compile(loss='binary_crossentropy',optimizer='adam',metrics=['accuracy'])\n",
    "print(model1.summary())"
   ]
  },
  {
   "cell_type": "code",
   "execution_count": 71,
   "id": "c5a2ddc9-6ec4-42ef-a362-9c4fec9aca49",
   "metadata": {},
   "outputs": [
    {
     "name": "stdout",
     "output_type": "stream",
     "text": [
      "Epoch 1/20\n",
      "20/20 [==============================] - 2s 10ms/step - loss: 0.5254 - accuracy: 0.8495 - val_loss: 0.3207 - val_accuracy: 0.8647\n",
      "Epoch 2/20\n",
      "20/20 [==============================] - 0s 3ms/step - loss: 0.2630 - accuracy: 0.8926 - val_loss: 0.2067 - val_accuracy: 0.9122\n",
      "Epoch 3/20\n",
      "20/20 [==============================] - 0s 3ms/step - loss: 0.1613 - accuracy: 0.9420 - val_loss: 0.1271 - val_accuracy: 0.9561\n",
      "Epoch 4/20\n",
      "20/20 [==============================] - 0s 3ms/step - loss: 0.1079 - accuracy: 0.9601 - val_loss: 0.0988 - val_accuracy: 0.9653\n",
      "Epoch 5/20\n",
      "20/20 [==============================] - 0s 3ms/step - loss: 0.0888 - accuracy: 0.9679 - val_loss: 0.0912 - val_accuracy: 0.9709\n",
      "Epoch 6/20\n",
      "20/20 [==============================] - 0s 3ms/step - loss: 0.0762 - accuracy: 0.9725 - val_loss: 0.0885 - val_accuracy: 0.9693\n",
      "Epoch 7/20\n",
      "20/20 [==============================] - 0s 3ms/step - loss: 0.0700 - accuracy: 0.9760 - val_loss: 0.0841 - val_accuracy: 0.9709\n",
      "Epoch 8/20\n",
      "20/20 [==============================] - 0s 3ms/step - loss: 0.0612 - accuracy: 0.9803 - val_loss: 0.0814 - val_accuracy: 0.9729\n",
      "Epoch 9/20\n",
      "20/20 [==============================] - 0s 3ms/step - loss: 0.0582 - accuracy: 0.9817 - val_loss: 0.0808 - val_accuracy: 0.9737\n",
      "Epoch 10/20\n",
      "20/20 [==============================] - 0s 3ms/step - loss: 0.0505 - accuracy: 0.9852 - val_loss: 0.0796 - val_accuracy: 0.9745\n",
      "Epoch 11/20\n",
      "20/20 [==============================] - 0s 3ms/step - loss: 0.0459 - accuracy: 0.9860 - val_loss: 0.0824 - val_accuracy: 0.9745\n",
      "Epoch 12/20\n",
      "20/20 [==============================] - 0s 4ms/step - loss: 0.0422 - accuracy: 0.9882 - val_loss: 0.0792 - val_accuracy: 0.9745\n",
      "Epoch 13/20\n",
      "20/20 [==============================] - 0s 3ms/step - loss: 0.0384 - accuracy: 0.9896 - val_loss: 0.0822 - val_accuracy: 0.9725\n",
      "Epoch 14/20\n",
      "20/20 [==============================] - 0s 3ms/step - loss: 0.0347 - accuracy: 0.9913 - val_loss: 0.0811 - val_accuracy: 0.9737\n",
      "Epoch 15/20\n",
      "20/20 [==============================] - 0s 3ms/step - loss: 0.0309 - accuracy: 0.9915 - val_loss: 0.0821 - val_accuracy: 0.9737\n",
      "Epoch 16/20\n",
      "20/20 [==============================] - 0s 3ms/step - loss: 0.0287 - accuracy: 0.9921 - val_loss: 0.0813 - val_accuracy: 0.9749\n",
      "Epoch 17/20\n",
      "20/20 [==============================] - 0s 3ms/step - loss: 0.0249 - accuracy: 0.9953 - val_loss: 0.0829 - val_accuracy: 0.9752\n",
      "Epoch 18/20\n",
      "20/20 [==============================] - 0s 3ms/step - loss: 0.0211 - accuracy: 0.9955 - val_loss: 0.0845 - val_accuracy: 0.9752\n",
      "Epoch 19/20\n",
      "20/20 [==============================] - 0s 3ms/step - loss: 0.0180 - accuracy: 0.9967 - val_loss: 0.0855 - val_accuracy: 0.9760\n",
      "Epoch 20/20\n",
      "20/20 [==============================] - 0s 3ms/step - loss: 0.0160 - accuracy: 0.9969 - val_loss: 0.0864 - val_accuracy: 0.9768\n"
     ]
    }
   ],
   "source": [
    "history = model.fit(X_train,y_train,validation_data=(X_test,y_test),epochs=20,batch_size=256)"
   ]
  },
  {
   "cell_type": "code",
   "execution_count": 72,
   "id": "711ed328-3509-4031-9223-7ee584513d71",
   "metadata": {},
   "outputs": [
    {
     "data": {
      "image/png": "[encoded data removed]",
      "text/plain": [
       "<Figure size 432x288 with 1 Axes>"
      ]
     },
     "metadata": {
      "needs_background": "light"
     },
     "output_type": "display_data"
    },
    {
     "data": {
      "image/png": "[encoded data removed]",
      "text/plain": [
       "<Figure size 432x288 with 1 Axes>"
      ]
     },
     "metadata": {
      "needs_background": "light"
     },
     "output_type": "display_data"
    }
   ],
   "source": [
    "# summarize history for accuracy\n",
    "plt.plot(history.history['accuracy'])\n",
    "plt.plot(history.history['val_accuracy'])\n",
    "plt.title('model accuracy')\n",
    "plt.ylabel('accuracy')\n",
    "plt.xlabel('epoch')\n",
    "plt.legend(['train', 'test'], loc='upper left')\n",
    "plt.show()\n",
    "# summarize history for loss\n",
    "plt.plot(history.history['loss'])\n",
    "plt.plot(history.history['val_loss'])\n",
    "plt.title('model loss')\n",
    "plt.ylabel('loss')\n",
    "plt.xlabel('epoch')\n",
    "plt.legend(['train', 'test'], loc='upper left')\n",
    "plt.show()"
   ]
  },
  {
   "cell_type": "code",
   "execution_count": null,
   "id": "5f2f1ab9-2987-44cc-8606-8a4bcfbb731b",
   "metadata": {},
   "outputs": [],
   "source": []
  }
 ],
 "metadata": {
  "kernelspec": {
   "display_name": "Python 3 (ipykernel)",
   "language": "python",
   "name": "python3"
  },
  "language_info": {
   "codemirror_mode": {
    "name": "ipython",
    "version": 3
   },
   "file_extension": ".py",
   "mimetype": "text/x-python",
   "name": "python",
   "nbconvert_exporter": "python",
   "pygments_lexer": "ipython3",
   "version": "3.8.0"
  }
 },
 "nbformat": 4,
 "nbformat_minor": 5
}
