{
 "cells": [
  {
   "cell_type": "code",
   "execution_count": 2,
   "id": "659902f1-83fb-48a6-a872-554e71f93735",
   "metadata": {},
   "outputs": [],
   "source": [
    "import pandas as pd"
   ]
  },
  {
   "cell_type": "code",
   "execution_count": 97,
   "id": "44ec800a-a3b4-465e-9b74-64d29b0ceafa",
   "metadata": {},
   "outputs": [],
   "source": [
    "true_news_df = pd.read_csv(\"COVID19-FNIR/COVID19-FNIR/trueNews.csv\")\n",
    "fake_news_df = pd.read_csv(\"COVID19-FNIR/COVID19-FNIR/fakeNews.csv\")"
   ]
  },
  {
   "cell_type": "code",
   "execution_count": null,
   "id": "788ffbc2-3c06-4cf9-a60c-9e6b43a8d33c",
   "metadata": {},
   "outputs": [],
   "source": [
    "fake_news_df[\"class\"] = 0\n",
    "true_news_df[\"class\"] = 1\n",
    "combined = pd.concat([fake, real], axis=0)"
   ]
  },
  {
   "cell_type": "code",
   "execution_count": null,
   "id": "358c39f1-67fc-4981-b2db-39319c965914",
   "metadata": {},
   "outputs": [],
   "source": [
    "combined = combined[[\"Text\", \"class\"]].reset_index(drop=True)\n",
    "combined = combined.sample(frac = 1)"
   ]
  },
  {
   "cell_type": "code",
   "execution_count": null,
   "id": "8588e879-92d7-464a-8342-5071b22b829c",
   "metadata": {},
   "outputs": [],
   "source": []
  },
  {
   "cell_type": "code",
   "execution_count": null,
   "id": "75695552-f234-4f12-895f-63deeb713d99",
   "metadata": {},
   "outputs": [],
   "source": []
  },
  {
   "cell_type": "code",
   "execution_count": 17,
   "id": "589370a4-758a-486b-8ea4-b786a7f31f77",
   "metadata": {},
   "outputs": [],
   "source": [
    "\n",
    "\n",
    "import warnings\n",
    "warnings.filterwarnings('ignore')\n",
    "import numpy as np\n",
    "import pandas as pd\n",
    "import matplotlib.pyplot as plt\n",
    "import seaborn as sns\n",
    "import nltk\n",
    "import re\n",
    "from wordcloud import WordCloud\n",
    "import os\n",
    "\n"
   ]
  },
  {
   "cell_type": "code",
   "execution_count": 22,
   "id": "c975c570-5c41-44bf-84f6-f28283d33110",
   "metadata": {},
   "outputs": [],
   "source": [
    "from tensorflow.keras.preprocessing.text import Tokenizer\n",
    "from tensorflow.keras.preprocessing.sequence import pad_sequences\n",
    "from tensorflow.keras.models import Sequential\n",
    "from tensorflow.keras.layers import Dense, Embedding, LSTM, Conv1D, MaxPool1D\n",
    "from sklearn.model_selection import train_test_split\n",
    "from sklearn.metrics import classification_report, accuracy_score"
   ]
  },
  {
   "cell_type": "code",
   "execution_count": 23,
   "id": "d85ad78c-d6d4-428b-8bd9-09214e7440b1",
   "metadata": {},
   "outputs": [],
   "source": [
    "fake = fake_news_df\n",
    "real = true_news_df"
   ]
  },
  {
   "cell_type": "code",
   "execution_count": 35,
   "id": "175b51bb-41bc-456c-bd13-8270ce66fe53",
   "metadata": {},
   "outputs": [],
   "source": [
    "\n",
    "\n",
    "import pandas as pd\n",
    "import numpy as np\n",
    "import seaborn as sns\n",
    "import matplotlib.pyplot as plt\n",
    "from sklearn.model_selection import train_test_split\n",
    "from sklearn.metrics import accuracy_score\n",
    "from sklearn.metrics import classification_report\n",
    "import re\n",
    "import string\n",
    "\n"
   ]
  },
  {
   "cell_type": "code",
   "execution_count": 36,
   "id": "99380736-5c37-4bef-bc7b-47caa95abc33",
   "metadata": {},
   "outputs": [],
   "source": []
  },
  {
   "cell_type": "code",
   "execution_count": 37,
   "id": "e204b28c-0dd3-4d9e-bbd4-a67b7581292e",
   "metadata": {},
   "outputs": [],
   "source": [
    "combined = pd.concat([fake, real], axis=0)"
   ]
  },
  {
   "cell_type": "code",
   "execution_count": 38,
   "id": "960aa8f7-297b-4180-a200-778f46b385b8",
   "metadata": {},
   "outputs": [
    {
     "data": {
      "text/html": [
       "<div>\n",
       "<style scoped>\n",
       "    .dataframe tbody tr th:only-of-type {\n",
       "        vertical-align: middle;\n",
       "    }\n",
       "\n",
       "    .dataframe tbody tr th {\n",
       "        vertical-align: top;\n",
       "    }\n",
       "\n",
       "    .dataframe thead th {\n",
       "        text-align: right;\n",
       "    }\n",
       "</style>\n",
       "<table border=\"1\" class=\"dataframe\">\n",
       "  <thead>\n",
       "    <tr style=\"text-align: right;\">\n",
       "      <th></th>\n",
       "      <th>Date Posted</th>\n",
       "      <th>Link</th>\n",
       "      <th>Text</th>\n",
       "      <th>Region</th>\n",
       "      <th>Country</th>\n",
       "      <th>Explanation</th>\n",
       "      <th>Origin</th>\n",
       "      <th>Origin_URL</th>\n",
       "      <th>Fact_checked_by</th>\n",
       "      <th>Poynter_Label</th>\n",
       "      <th>Binary Label</th>\n",
       "      <th>class</th>\n",
       "      <th>Username</th>\n",
       "      <th>Publisher</th>\n",
       "      <th>Label</th>\n",
       "    </tr>\n",
       "  </thead>\n",
       "  <tbody>\n",
       "    <tr>\n",
       "      <th>0</th>\n",
       "      <td>2/7/20</td>\n",
       "      <td>https://www.poynter.org/?ifcn_misinformation=t...</td>\n",
       "      <td>Tencent revealed the real number of deaths.\\t\\t</td>\n",
       "      <td>Europe</td>\n",
       "      <td>France</td>\n",
       "      <td>The screenshot is questionable.</td>\n",
       "      <td>Twitter</td>\n",
       "      <td>https://www.liberation.fr/checknews/2020/02/07...</td>\n",
       "      <td>CheckNews</td>\n",
       "      <td>Misleading</td>\n",
       "      <td>0.0</td>\n",
       "      <td>0</td>\n",
       "      <td>NaN</td>\n",
       "      <td>NaN</td>\n",
       "      <td>NaN</td>\n",
       "    </tr>\n",
       "    <tr>\n",
       "      <th>1</th>\n",
       "      <td>2/7/20</td>\n",
       "      <td>https://www.poynter.org/?ifcn_misinformation=t...</td>\n",
       "      <td>Taking chlorine dioxide helps fight coronavir...</td>\n",
       "      <td>Europe</td>\n",
       "      <td>Germany</td>\n",
       "      <td>Chlorine dioxide does guard against the coron...</td>\n",
       "      <td>Website</td>\n",
       "      <td>https://correctiv.org/faktencheck/medizin-und-...</td>\n",
       "      <td>Correctiv</td>\n",
       "      <td>FALSE</td>\n",
       "      <td>0.0</td>\n",
       "      <td>0</td>\n",
       "      <td>NaN</td>\n",
       "      <td>NaN</td>\n",
       "      <td>NaN</td>\n",
       "    </tr>\n",
       "    <tr>\n",
       "      <th>2</th>\n",
       "      <td>2/7/20</td>\n",
       "      <td>https://www.poynter.org/?ifcn_misinformation=t...</td>\n",
       "      <td>This video shows workmen uncovering a bat-inf...</td>\n",
       "      <td>India</td>\n",
       "      <td>India</td>\n",
       "      <td>A video shows bats nesting in the roof; howev...</td>\n",
       "      <td>Facebook</td>\n",
       "      <td>https://factcheck.afp.com/video-shows-workmen-...</td>\n",
       "      <td>AFP</td>\n",
       "      <td>MISLEADING</td>\n",
       "      <td>0.0</td>\n",
       "      <td>0</td>\n",
       "      <td>NaN</td>\n",
       "      <td>NaN</td>\n",
       "      <td>NaN</td>\n",
       "    </tr>\n",
       "    <tr>\n",
       "      <th>3</th>\n",
       "      <td>2/7/20</td>\n",
       "      <td>https://www.poynter.org/?ifcn_misinformation=t...</td>\n",
       "      <td>The Asterix comic books and The Simpsons pred...</td>\n",
       "      <td>India</td>\n",
       "      <td>India</td>\n",
       "      <td>Coronavirus has been around since the 1960s. ...</td>\n",
       "      <td>Twitter</td>\n",
       "      <td>https://www.boomlive.in/health/did-the-simpson...</td>\n",
       "      <td>BOOM FactCheck</td>\n",
       "      <td>Misleading</td>\n",
       "      <td>0.0</td>\n",
       "      <td>0</td>\n",
       "      <td>NaN</td>\n",
       "      <td>NaN</td>\n",
       "      <td>NaN</td>\n",
       "    </tr>\n",
       "    <tr>\n",
       "      <th>4</th>\n",
       "      <td>2/7/20</td>\n",
       "      <td>https://www.poynter.org/?ifcn_misinformation=c...</td>\n",
       "      <td>Chinese President Xi Jinping visited a mosque...</td>\n",
       "      <td>India</td>\n",
       "      <td>India</td>\n",
       "      <td>Chinese President Xi Jinping's visit to the m...</td>\n",
       "      <td>Facebook</td>\n",
       "      <td>http://newsmobile.in/articles/2020/02/07/chine...</td>\n",
       "      <td>NewsMobile</td>\n",
       "      <td>FALSE</td>\n",
       "      <td>0.0</td>\n",
       "      <td>0</td>\n",
       "      <td>NaN</td>\n",
       "      <td>NaN</td>\n",
       "      <td>NaN</td>\n",
       "    </tr>\n",
       "  </tbody>\n",
       "</table>\n",
       "</div>"
      ],
      "text/plain": [
       "  Date Posted                                               Link  \\\n",
       "0      2/7/20  https://www.poynter.org/?ifcn_misinformation=t...   \n",
       "1      2/7/20  https://www.poynter.org/?ifcn_misinformation=t...   \n",
       "2      2/7/20  https://www.poynter.org/?ifcn_misinformation=t...   \n",
       "3      2/7/20  https://www.poynter.org/?ifcn_misinformation=t...   \n",
       "4      2/7/20  https://www.poynter.org/?ifcn_misinformation=c...   \n",
       "\n",
       "                                                Text  Region   Country  \\\n",
       "0    Tencent revealed the real number of deaths.\\t\\t  Europe    France   \n",
       "1   Taking chlorine dioxide helps fight coronavir...  Europe   Germany   \n",
       "2   This video shows workmen uncovering a bat-inf...   India     India   \n",
       "3   The Asterix comic books and The Simpsons pred...   India     India   \n",
       "4   Chinese President Xi Jinping visited a mosque...   India     India   \n",
       "\n",
       "                                         Explanation     Origin  \\\n",
       "0                    The screenshot is questionable.    Twitter   \n",
       "1   Chlorine dioxide does guard against the coron...    Website   \n",
       "2   A video shows bats nesting in the roof; howev...   Facebook   \n",
       "3   Coronavirus has been around since the 1960s. ...    Twitter   \n",
       "4   Chinese President Xi Jinping's visit to the m...   Facebook   \n",
       "\n",
       "                                          Origin_URL  Fact_checked_by  \\\n",
       "0  https://www.liberation.fr/checknews/2020/02/07...        CheckNews   \n",
       "1  https://correctiv.org/faktencheck/medizin-und-...        Correctiv   \n",
       "2  https://factcheck.afp.com/video-shows-workmen-...              AFP   \n",
       "3  https://www.boomlive.in/health/did-the-simpson...   BOOM FactCheck   \n",
       "4  http://newsmobile.in/articles/2020/02/07/chine...       NewsMobile   \n",
       "\n",
       "  Poynter_Label  Binary Label  class Username Publisher  Label  \n",
       "0    Misleading           0.0      0      NaN       NaN    NaN  \n",
       "1         FALSE           0.0      0      NaN       NaN    NaN  \n",
       "2    MISLEADING           0.0      0      NaN       NaN    NaN  \n",
       "3    Misleading           0.0      0      NaN       NaN    NaN  \n",
       "4         FALSE           0.0      0      NaN       NaN    NaN  "
      ]
     },
     "execution_count": 38,
     "metadata": {},
     "output_type": "execute_result"
    }
   ],
   "source": [
    "combined.head()"
   ]
  },
  {
   "cell_type": "code",
   "execution_count": 55,
   "id": "8ba77eaf-576b-4a97-a771-acc3459aa4ea",
   "metadata": {},
   "outputs": [],
   "source": [
    "combined = combined[[\"Text\", \"class\"]].reset_index(drop=True)\n",
    "combined = combined.sample(frac = 1)"
   ]
  },
  {
   "cell_type": "code",
   "execution_count": 56,
   "id": "8d4996d8-30a4-4a71-b192-1ff69737c455",
   "metadata": {},
   "outputs": [
    {
     "data": {
      "text/html": [
       "<div>\n",
       "<style scoped>\n",
       "    .dataframe tbody tr th:only-of-type {\n",
       "        vertical-align: middle;\n",
       "    }\n",
       "\n",
       "    .dataframe tbody tr th {\n",
       "        vertical-align: top;\n",
       "    }\n",
       "\n",
       "    .dataframe thead th {\n",
       "        text-align: right;\n",
       "    }\n",
       "</style>\n",
       "<table border=\"1\" class=\"dataframe\">\n",
       "  <thead>\n",
       "    <tr style=\"text-align: right;\">\n",
       "      <th></th>\n",
       "      <th>Text</th>\n",
       "      <th>class</th>\n",
       "    </tr>\n",
       "  </thead>\n",
       "  <tbody>\n",
       "    <tr>\n",
       "      <th>5340</th>\n",
       "      <td>The Tamil Nadu government on Monday announced ...</td>\n",
       "      <td>1</td>\n",
       "    </tr>\n",
       "    <tr>\n",
       "      <th>6332</th>\n",
       "      <td>Coronavirus will be exterminated if lockdowns...</td>\n",
       "      <td>0</td>\n",
       "    </tr>\n",
       "    <tr>\n",
       "      <th>3950</th>\n",
       "      <td>#Coronavirus update from Mumbai: (Source - PTI...</td>\n",
       "      <td>1</td>\n",
       "    </tr>\n",
       "    <tr>\n",
       "      <th>6715</th>\n",
       "      <td>About 240 railway coaches converted into #Covi...</td>\n",
       "      <td>1</td>\n",
       "    </tr>\n",
       "    <tr>\n",
       "      <th>3672</th>\n",
       "      <td>Where is the testing?': Rosena Allin-Khan ques...</td>\n",
       "      <td>1</td>\n",
       "    </tr>\n",
       "  </tbody>\n",
       "</table>\n",
       "</div>"
      ],
      "text/plain": [
       "                                                   Text  class\n",
       "5340  The Tamil Nadu government on Monday announced ...      1\n",
       "6332   Coronavirus will be exterminated if lockdowns...      0\n",
       "3950  #Coronavirus update from Mumbai: (Source - PTI...      1\n",
       "6715  About 240 railway coaches converted into #Covi...      1\n",
       "3672  Where is the testing?': Rosena Allin-Khan ques...      1"
      ]
     },
     "execution_count": 56,
     "metadata": {},
     "output_type": "execute_result"
    }
   ],
   "source": [
    "combined.head()"
   ]
  },
  {
   "cell_type": "code",
   "execution_count": 57,
   "id": "184b5956-a92f-4a9d-a05a-588c52a3347d",
   "metadata": {},
   "outputs": [],
   "source": [
    "\n",
    "\n",
    "def wordopt(text):\n",
    "    text = text.lower()\n",
    "    text = re.sub('\\[.*?\\]', '', text)\n",
    "    text = re.sub(\"\\\\W\",\" \",text) \n",
    "    text = re.sub('https?://\\S+|www\\.\\S+', '', text)\n",
    "    text = re.sub('<.*?>+', '', text)\n",
    "    text = re.sub('[%s]' % re.escape(string.punctuation), '', text)\n",
    "    text = re.sub('\\n', '', text)\n",
    "    text = re.sub('\\w*\\d\\w*', '', text)    \n",
    "    return text\n",
    "\n"
   ]
  },
  {
   "cell_type": "code",
   "execution_count": 58,
   "id": "a84ac0ad-2f60-4f1f-866f-aa62be134365",
   "metadata": {},
   "outputs": [],
   "source": [
    "combined[\"Text\"] = combined[\"Text\"].apply(wordopt)"
   ]
  },
  {
   "cell_type": "code",
   "execution_count": 59,
   "id": "74d3e410-84a9-4c6c-9551-3ea25f69d2ae",
   "metadata": {},
   "outputs": [
    {
     "data": {
      "text/html": [
       "<div>\n",
       "<style scoped>\n",
       "    .dataframe tbody tr th:only-of-type {\n",
       "        vertical-align: middle;\n",
       "    }\n",
       "\n",
       "    .dataframe tbody tr th {\n",
       "        vertical-align: top;\n",
       "    }\n",
       "\n",
       "    .dataframe thead th {\n",
       "        text-align: right;\n",
       "    }\n",
       "</style>\n",
       "<table border=\"1\" class=\"dataframe\">\n",
       "  <thead>\n",
       "    <tr style=\"text-align: right;\">\n",
       "      <th></th>\n",
       "      <th>Text</th>\n",
       "      <th>class</th>\n",
       "    </tr>\n",
       "  </thead>\n",
       "  <tbody>\n",
       "    <tr>\n",
       "      <th>5340</th>\n",
       "      <td>the tamil nadu government on monday announced ...</td>\n",
       "      <td>1</td>\n",
       "    </tr>\n",
       "    <tr>\n",
       "      <th>6332</th>\n",
       "      <td>coronavirus will be exterminated if lockdowns...</td>\n",
       "      <td>0</td>\n",
       "    </tr>\n",
       "    <tr>\n",
       "      <th>3950</th>\n",
       "      <td>coronavirus update from mumbai   source   pti...</td>\n",
       "      <td>1</td>\n",
       "    </tr>\n",
       "    <tr>\n",
       "      <th>6715</th>\n",
       "      <td>about  railway coaches converted into  covid c...</td>\n",
       "      <td>1</td>\n",
       "    </tr>\n",
       "    <tr>\n",
       "      <th>3672</th>\n",
       "      <td>where is the testing    rosena allin khan ques...</td>\n",
       "      <td>1</td>\n",
       "    </tr>\n",
       "  </tbody>\n",
       "</table>\n",
       "</div>"
      ],
      "text/plain": [
       "                                                   Text  class\n",
       "5340  the tamil nadu government on monday announced ...      1\n",
       "6332   coronavirus will be exterminated if lockdowns...      0\n",
       "3950   coronavirus update from mumbai   source   pti...      1\n",
       "6715  about  railway coaches converted into  covid c...      1\n",
       "3672  where is the testing    rosena allin khan ques...      1"
      ]
     },
     "execution_count": 59,
     "metadata": {},
     "output_type": "execute_result"
    }
   ],
   "source": [
    "combined.head()"
   ]
  },
  {
   "cell_type": "code",
   "execution_count": 62,
   "id": "cd7e42c6-72c4-4ee3-9fb2-0ede20e16110",
   "metadata": {},
   "outputs": [],
   "source": [
    "x = combined[\"Text\"]\n",
    "y = combined[\"class\"]"
   ]
  },
  {
   "cell_type": "code",
   "execution_count": 92,
   "id": "b0954bdf-383b-4416-8321-014f8553c9fe",
   "metadata": {},
   "outputs": [
    {
     "data": {
      "text/plain": [
       "975"
      ]
     },
     "execution_count": 92,
     "metadata": {},
     "output_type": "execute_result"
    }
   ],
   "source": [
    "y_test.sum()"
   ]
  },
  {
   "cell_type": "code",
   "execution_count": 94,
   "id": "15e2b0e8-eede-404f-950e-369d6cbe7d94",
   "metadata": {},
   "outputs": [
    {
     "data": {
      "text/plain": [
       "1897"
      ]
     },
     "execution_count": 94,
     "metadata": {},
     "output_type": "execute_result"
    }
   ],
   "source": [
    "len(y_test)"
   ]
  },
  {
   "cell_type": "code",
   "execution_count": 63,
   "id": "7c8b19fc-1a66-4d25-81b9-52457bcd9b20",
   "metadata": {},
   "outputs": [],
   "source": [
    "x_train, x_test, y_train, y_test = train_test_split(x, y, test_size=0.25)"
   ]
  },
  {
   "cell_type": "code",
   "execution_count": 65,
   "id": "61573d3c-af7a-4d5e-adce-2db063ed1cfa",
   "metadata": {},
   "outputs": [],
   "source": [
    "from sklearn.feature_extraction.text import TfidfVectorizer\n",
    "\n",
    "vectorization = TfidfVectorizer()\n",
    "xv_train = vectorization.fit_transform(x_train)\n",
    "xv_test = vectorization.transform(x_test)"
   ]
  },
  {
   "cell_type": "code",
   "execution_count": 95,
   "id": "9ee195c3-879c-49b6-bbb0-60b943aa2b13",
   "metadata": {},
   "outputs": [
    {
     "data": {
      "text/plain": [
       "<5691x10703 sparse matrix of type '<class 'numpy.float64'>'\n",
       "\twith 115001 stored elements in Compressed Sparse Row format>"
      ]
     },
     "execution_count": 95,
     "metadata": {},
     "output_type": "execute_result"
    }
   ],
   "source": [
    "xv_train"
   ]
  },
  {
   "cell_type": "code",
   "execution_count": 66,
   "id": "723abb19-c7f7-43e4-9842-d285ed4a8006",
   "metadata": {},
   "outputs": [
    {
     "data": {
      "text/plain": [
       "LogisticRegression()"
      ]
     },
     "execution_count": 66,
     "metadata": {},
     "output_type": "execute_result"
    }
   ],
   "source": [
    "from sklearn.linear_model import LogisticRegression\n",
    "\n",
    "LR = LogisticRegression()\n",
    "LR.fit(xv_train,y_train)"
   ]
  },
  {
   "cell_type": "code",
   "execution_count": 67,
   "id": "c814e016-b6ee-4010-befd-f17ee1227ff4",
   "metadata": {},
   "outputs": [],
   "source": [
    "pred_lr=LR.predict(xv_test)"
   ]
  },
  {
   "cell_type": "code",
   "execution_count": 68,
   "id": "5d8c043c-fe29-47e8-87ee-b35494d40631",
   "metadata": {},
   "outputs": [
    {
     "data": {
      "text/plain": [
       "0.9920927780706379"
      ]
     },
     "execution_count": 68,
     "metadata": {},
     "output_type": "execute_result"
    }
   ],
   "source": [
    "LR.score(xv_test, y_test)"
   ]
  },
  {
   "cell_type": "code",
   "execution_count": 69,
   "id": "c0e25462-7df8-4d36-8045-139e44d44956",
   "metadata": {},
   "outputs": [
    {
     "name": "stdout",
     "output_type": "stream",
     "text": [
      "              precision    recall  f1-score   support\n",
      "\n",
      "           0       0.98      1.00      0.99       922\n",
      "           1       1.00      0.98      0.99       975\n",
      "\n",
      "    accuracy                           0.99      1897\n",
      "   macro avg       0.99      0.99      0.99      1897\n",
      "weighted avg       0.99      0.99      0.99      1897\n",
      "\n"
     ]
    }
   ],
   "source": [
    "print(classification_report(y_test, pred_lr))"
   ]
  },
  {
   "cell_type": "code",
   "execution_count": 70,
   "id": "a2417a14-0f43-45c4-96cf-29c5a5d6ea1d",
   "metadata": {},
   "outputs": [
    {
     "data": {
      "text/plain": [
       "DecisionTreeClassifier()"
      ]
     },
     "execution_count": 70,
     "metadata": {},
     "output_type": "execute_result"
    }
   ],
   "source": [
    "from sklearn.tree import DecisionTreeClassifier\n",
    "\n",
    "DT = DecisionTreeClassifier()\n",
    "DT.fit(xv_train, y_train)"
   ]
  },
  {
   "cell_type": "code",
   "execution_count": 71,
   "id": "f8946993-9760-459f-ac90-aa36ecfcf7b6",
   "metadata": {},
   "outputs": [],
   "source": [
    "pred_dt = DT.predict(xv_test)"
   ]
  },
  {
   "cell_type": "code",
   "execution_count": 72,
   "id": "1e3a00cd-9cee-434a-88b9-8fb9e7159351",
   "metadata": {},
   "outputs": [
    {
     "data": {
      "text/plain": [
       "0.9905113336847654"
      ]
     },
     "execution_count": 72,
     "metadata": {},
     "output_type": "execute_result"
    }
   ],
   "source": [
    "DT.score(xv_test, y_test)"
   ]
  },
  {
   "cell_type": "code",
   "execution_count": 73,
   "id": "5b9c4db3-564f-4fcf-9bb5-52b25e053dd8",
   "metadata": {},
   "outputs": [
    {
     "name": "stdout",
     "output_type": "stream",
     "text": [
      "              precision    recall  f1-score   support\n",
      "\n",
      "           0       0.99      0.99      0.99       922\n",
      "           1       0.99      0.99      0.99       975\n",
      "\n",
      "    accuracy                           0.99      1897\n",
      "   macro avg       0.99      0.99      0.99      1897\n",
      "weighted avg       0.99      0.99      0.99      1897\n",
      "\n"
     ]
    }
   ],
   "source": [
    "print(classification_report(y_test, pred_dt))"
   ]
  },
  {
   "cell_type": "code",
   "execution_count": 74,
   "id": "df52e268-b8ff-4ee4-85aa-cb82c4e51bd6",
   "metadata": {},
   "outputs": [
    {
     "data": {
      "text/plain": [
       "GradientBoostingClassifier(random_state=0)"
      ]
     },
     "execution_count": 74,
     "metadata": {},
     "output_type": "execute_result"
    }
   ],
   "source": [
    "from sklearn.ensemble import GradientBoostingClassifier\n",
    "\n",
    "GBC = GradientBoostingClassifier(random_state=0)\n",
    "GBC.fit(xv_train, y_train)\n"
   ]
  },
  {
   "cell_type": "code",
   "execution_count": 75,
   "id": "d36901c6-9a44-4740-a240-b84cf54f1e95",
   "metadata": {},
   "outputs": [],
   "source": [
    "pred_gbc = GBC.predict(xv_test)"
   ]
  },
  {
   "cell_type": "code",
   "execution_count": 77,
   "id": "d11cb9d9-4976-455e-b458-6adfc66778cf",
   "metadata": {},
   "outputs": [
    {
     "data": {
      "text/plain": [
       "0.992619926199262"
      ]
     },
     "execution_count": 77,
     "metadata": {},
     "output_type": "execute_result"
    }
   ],
   "source": [
    "GBC.score(xv_test, y_test)"
   ]
  },
  {
   "cell_type": "code",
   "execution_count": 76,
   "id": "2749b4ef-aed6-4bc7-bf0c-4b3a447a9ebd",
   "metadata": {},
   "outputs": [
    {
     "name": "stdout",
     "output_type": "stream",
     "text": [
      "              precision    recall  f1-score   support\n",
      "\n",
      "           0       0.99      1.00      0.99       922\n",
      "           1       1.00      0.99      0.99       975\n",
      "\n",
      "    accuracy                           0.99      1897\n",
      "   macro avg       0.99      0.99      0.99      1897\n",
      "weighted avg       0.99      0.99      0.99      1897\n",
      "\n"
     ]
    }
   ],
   "source": [
    "print(classification_report(y_test, pred_gbc))"
   ]
  },
  {
   "cell_type": "code",
   "execution_count": 78,
   "id": "a33153a4-84bc-4f96-a5a7-9997b4f8eae0",
   "metadata": {},
   "outputs": [
    {
     "data": {
      "text/plain": [
       "RandomForestClassifier(random_state=0)"
      ]
     },
     "execution_count": 78,
     "metadata": {},
     "output_type": "execute_result"
    }
   ],
   "source": [
    "from sklearn.ensemble import RandomForestClassifier\n",
    "\n",
    "RFC = RandomForestClassifier(random_state=0)\n",
    "RFC.fit(xv_train, y_train)"
   ]
  },
  {
   "cell_type": "code",
   "execution_count": 79,
   "id": "c7fcf1a5-e7da-4acd-9985-9d0051d309e9",
   "metadata": {},
   "outputs": [],
   "source": [
    "pred_rfc = RFC.predict(xv_test)"
   ]
  },
  {
   "cell_type": "code",
   "execution_count": 80,
   "id": "1d238bfb-8cc5-4bd8-953e-efe0f24a4105",
   "metadata": {},
   "outputs": [
    {
     "data": {
      "text/plain": [
       "0.992619926199262"
      ]
     },
     "execution_count": 80,
     "metadata": {},
     "output_type": "execute_result"
    }
   ],
   "source": [
    "RFC.score(xv_test, y_test)"
   ]
  },
  {
   "cell_type": "code",
   "execution_count": 83,
   "id": "de2bf596-bc0c-421b-9181-aae616c4023f",
   "metadata": {},
   "outputs": [
    {
     "name": "stdout",
     "output_type": "stream",
     "text": [
      "              precision    recall  f1-score   support\n",
      "\n",
      "           0       0.99      1.00      0.99       922\n",
      "           1       1.00      0.99      0.99       975\n",
      "\n",
      "    accuracy                           0.99      1897\n",
      "   macro avg       0.99      0.99      0.99      1897\n",
      "weighted avg       0.99      0.99      0.99      1897\n",
      "\n"
     ]
    }
   ],
   "source": [
    "print(classification_report(y_test, pred_rfc))"
   ]
  },
  {
   "cell_type": "code",
   "execution_count": 85,
   "id": "36a82cf5-c77b-4fea-8f9f-536b3fe659e7",
   "metadata": {},
   "outputs": [],
   "source": [
    "import gensim"
   ]
  },
  {
   "cell_type": "code",
   "execution_count": 88,
   "id": "cbde9e53-e713-42b8-a950-308f01830055",
   "metadata": {},
   "outputs": [
    {
     "ename": "TypeError",
     "evalue": "__init__() got an unexpected keyword argument 'size'",
     "output_type": "error",
     "traceback": [
      "\u001b[0;31m---------------------------------------------------------------------------\u001b[0m",
      "\u001b[0;31mTypeError\u001b[0m                                 Traceback (most recent call last)",
      "\u001b[0;32m/tmp/ipykernel_138547/4004668924.py\u001b[0m in \u001b[0;36m<module>\u001b[0;34m\u001b[0m\n\u001b[1;32m      2\u001b[0m \u001b[0mEMBEDDING_DIM\u001b[0m \u001b[0;34m=\u001b[0m \u001b[0;36m100\u001b[0m\u001b[0;34m\u001b[0m\u001b[0;34m\u001b[0m\u001b[0m\n\u001b[1;32m      3\u001b[0m \u001b[0;31m#Creating Word Vectors by Word2Vec Method (takes time...)\u001b[0m\u001b[0;34m\u001b[0m\u001b[0;34m\u001b[0m\u001b[0;34m\u001b[0m\u001b[0m\n\u001b[0;32m----> 4\u001b[0;31m \u001b[0mw2v_model\u001b[0m \u001b[0;34m=\u001b[0m \u001b[0mgensim\u001b[0m\u001b[0;34m.\u001b[0m\u001b[0mmodels\u001b[0m\u001b[0;34m.\u001b[0m\u001b[0mWord2Vec\u001b[0m\u001b[0;34m(\u001b[0m\u001b[0msentences\u001b[0m\u001b[0;34m=\u001b[0m\u001b[0mx\u001b[0m\u001b[0;34m,\u001b[0m \u001b[0msize\u001b[0m\u001b[0;34m=\u001b[0m\u001b[0mEMBEDDING_DIM\u001b[0m\u001b[0;34m,\u001b[0m \u001b[0mwindow\u001b[0m\u001b[0;34m=\u001b[0m\u001b[0;36m5\u001b[0m\u001b[0;34m,\u001b[0m \u001b[0mmin_count\u001b[0m\u001b[0;34m=\u001b[0m\u001b[0;36m1\u001b[0m\u001b[0;34m)\u001b[0m\u001b[0;34m\u001b[0m\u001b[0;34m\u001b[0m\u001b[0m\n\u001b[0m",
      "\u001b[0;31mTypeError\u001b[0m: __init__() got an unexpected keyword argument 'size'"
     ]
    }
   ],
   "source": [
    "#Dimension of vectors we are generating\n",
    "EMBEDDING_DIM = 100\n",
    "#Creating Word Vectors by Word2Vec Method (takes time...)\n",
    "w2v_model = gensim.models.Word2Vec(sentences=x, size=EMBEDDING_DIM, window=5, min_count=1)"
   ]
  },
  {
   "cell_type": "code",
   "execution_count": 89,
   "id": "b8111d91-3ceb-49b2-879a-6cb106bccaed",
   "metadata": {},
   "outputs": [
    {
     "data": {
      "text/plain": [
       "5340    the tamil nadu government on monday announced ...\n",
       "6332     coronavirus will be exterminated if lockdowns...\n",
       "3950     coronavirus update from mumbai   source   pti...\n",
       "6715    about  railway coaches converted into  covid c...\n",
       "3672    where is the testing    rosena allin khan ques...\n",
       "                              ...                        \n",
       "3776     says goodwill used the pandemic  to fire all ...\n",
       "5970    india  u s  to collaborate on  covid  vaccine ...\n",
       "2433     audio from whatsapp that says there are a doc...\n",
       "2105    uk economy to struggle to recover from  searin...\n",
       "1075    australia s drug regulator launches court acti...\n",
       "Name: Text, Length: 7588, dtype: object"
      ]
     },
     "execution_count": 89,
     "metadata": {},
     "output_type": "execute_result"
    }
   ],
   "source": [
    "x"
   ]
  },
  {
   "cell_type": "code",
   "execution_count": null,
   "id": "1aee77f3-e787-403a-aba5-7e591456073a",
   "metadata": {},
   "outputs": [],
   "source": []
  }
 ],
 "metadata": {
  "kernelspec": {
   "display_name": "Python 3 (ipykernel)",
   "language": "python",
   "name": "python3"
  },
  "language_info": {
   "codemirror_mode": {
    "name": "ipython",
    "version": 3
   },
   "file_extension": ".py",
   "mimetype": "text/x-python",
   "name": "python",
   "nbconvert_exporter": "python",
   "pygments_lexer": "ipython3",
   "version": "3.8.0"
  }
 },
 "nbformat": 4,
 "nbformat_minor": 5
}
